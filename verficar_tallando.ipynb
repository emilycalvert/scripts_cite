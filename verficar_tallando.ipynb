{
  "nbformat": 4,
  "nbformat_minor": 0,
  "metadata": {
    "colab": {
      "provenance": [],
      "collapsed_sections": [
        "d4es-WyE3Srw"
      ],
      "authorship_tag": "ABX9TyNulgddXE5SqP81Ewq5aohN",
      "include_colab_link": true
    },
    "kernelspec": {
      "name": "python3",
      "display_name": "Python 3"
    },
    "language_info": {
      "name": "python"
    },
    "widgets": {
      "application/vnd.jupyter.widget-state+json": {
        "4312ba118b854db89caaab194c945d08": {
          "model_module": "jupyter-leaflet",
          "model_name": "LeafletMapModel",
          "model_module_version": "^0.18",
          "state": {
            "_dom_classes": [],
            "_model_module": "jupyter-leaflet",
            "_model_module_version": "^0.18",
            "_model_name": "LeafletMapModel",
            "_view_count": null,
            "_view_module": "jupyter-leaflet",
            "_view_module_version": "^0.18",
            "_view_name": "LeafletMapView",
            "bottom": 1074680,
            "bounce_at_zoom_limits": true,
            "box_zoom": true,
            "center": [
              -4.4251442766370905,
              -73.69466430678816
            ],
            "close_popup_on_click": true,
            "controls": [
              "IPY_MODEL_0bec9d690eb64b52b1c7f7f91dcd5d0a",
              "IPY_MODEL_87b14aaa2b9d474595d2339306adb4b9",
              "IPY_MODEL_8399c103ed0e435ca274d7789be1cc98",
              "IPY_MODEL_980eaf2c22d34fc1828181da572198da",
              "IPY_MODEL_93b7776a6c294440935e8d08e4faca1c",
              "IPY_MODEL_15b1aaa306b24f7883d7a5cb0d31c9b2",
              "IPY_MODEL_4a5879303bc44eb0b541dfebbc97afd2",
              "IPY_MODEL_21e2f68b9bba4da4a21daa243305ce8d"
            ],
            "crs": {
              "name": "EPSG3857",
              "custom": false
            },
            "default_style": "IPY_MODEL_399be29b1b9b4ef9a3234368ed0af228",
            "double_click_zoom": true,
            "dragging": true,
            "dragging_style": "IPY_MODEL_8752d112eee548b6aec2e110110512bd",
            "east": -73.54815132155866,
            "fullscreen": false,
            "inertia": true,
            "inertia_deceleration": 3000,
            "inertia_max_speed": 1500,
            "interpolation": "bilinear",
            "keyboard": true,
            "keyboard_pan_offset": 80,
            "keyboard_zoom_offset": 1,
            "layers": [
              "IPY_MODEL_e7acd19f0be74512be2169095bec0e3d",
              "IPY_MODEL_7e8fc937769e47d993bfa6be7e790a00"
            ],
            "layout": "IPY_MODEL_17535b680087403290c6fb5b71a4a9c5",
            "left": 618419.9648880295,
            "max_zoom": 24,
            "min_zoom": null,
            "modisdate": "2024-02-18",
            "north": -4.373797607393285,
            "options": [
              "bounce_at_zoom_limits",
              "box_zoom",
              "center",
              "close_popup_on_click",
              "double_click_zoom",
              "dragging",
              "fullscreen",
              "inertia",
              "inertia_deceleration",
              "inertia_max_speed",
              "interpolation",
              "keyboard",
              "keyboard_pan_offset",
              "keyboard_zoom_offset",
              "max_zoom",
              "min_zoom",
              "prefer_canvas",
              "scroll_wheel_zoom",
              "tap",
              "tap_tolerance",
              "touch_zoom",
              "world_copy_jump",
              "zoom",
              "zoom_animation_threshold",
              "zoom_delta",
              "zoom_snap"
            ],
            "panes": {},
            "prefer_canvas": false,
            "right": 620126.9648880295,
            "scroll_wheel_zoom": true,
            "south": -4.4764873851323905,
            "style": "IPY_MODEL_399be29b1b9b4ef9a3234368ed0af228",
            "tap": true,
            "tap_tolerance": 15,
            "top": 1074080,
            "touch_zoom": true,
            "west": -73.84117729201765,
            "window_url": "https://xvz71o03b2g-496ff2e9c6d22116-0-colab.googleusercontent.com/outputframe.html?vrz=colab_20240214-060113_RC00_606917857",
            "world_copy_jump": false,
            "zoom": 13,
            "zoom_animation_threshold": 4,
            "zoom_delta": 1,
            "zoom_snap": 1
          }
        },
        "0bec9d690eb64b52b1c7f7f91dcd5d0a": {
          "model_module": "jupyter-leaflet",
          "model_name": "LeafletWidgetControlModel",
          "model_module_version": "^0.18",
          "state": {
            "_model_module": "jupyter-leaflet",
            "_model_module_version": "^0.18",
            "_model_name": "LeafletWidgetControlModel",
            "_view_count": null,
            "_view_module": "jupyter-leaflet",
            "_view_module_version": "^0.18",
            "_view_name": "LeafletWidgetControlView",
            "max_height": null,
            "max_width": null,
            "min_height": null,
            "min_width": null,
            "options": [
              "position",
              "transparent_bg"
            ],
            "position": "topleft",
            "transparent_bg": false,
            "widget": "IPY_MODEL_6e02ef18f38a4acb9c0bbaeaa9debbc8"
          }
        },
        "87b14aaa2b9d474595d2339306adb4b9": {
          "model_module": "jupyter-leaflet",
          "model_name": "LeafletZoomControlModel",
          "model_module_version": "^0.18",
          "state": {
            "_model_module": "jupyter-leaflet",
            "_model_module_version": "^0.18",
            "_model_name": "LeafletZoomControlModel",
            "_view_count": null,
            "_view_module": "jupyter-leaflet",
            "_view_module_version": "^0.18",
            "_view_name": "LeafletZoomControlView",
            "options": [
              "position",
              "zoom_in_text",
              "zoom_in_title",
              "zoom_out_text",
              "zoom_out_title"
            ],
            "position": "topleft",
            "zoom_in_text": "+",
            "zoom_in_title": "Zoom in",
            "zoom_out_text": "-",
            "zoom_out_title": "Zoom out"
          }
        },
        "8399c103ed0e435ca274d7789be1cc98": {
          "model_module": "jupyter-leaflet",
          "model_name": "LeafletFullScreenControlModel",
          "model_module_version": "^0.18",
          "state": {
            "_model_module": "jupyter-leaflet",
            "_model_module_version": "^0.18",
            "_model_name": "LeafletFullScreenControlModel",
            "_view_count": null,
            "_view_module": "jupyter-leaflet",
            "_view_module_version": "^0.18",
            "_view_name": "LeafletFullScreenControlView",
            "options": [
              "position"
            ],
            "position": "topleft"
          }
        },
        "980eaf2c22d34fc1828181da572198da": {
          "model_module": "jupyter-leaflet",
          "model_name": "LeafletDrawControlModel",
          "model_module_version": "^0.18",
          "state": {
            "_model_module": "jupyter-leaflet",
            "_model_module_version": "^0.18",
            "_model_name": "LeafletDrawControlModel",
            "_view_count": null,
            "_view_module": "jupyter-leaflet",
            "_view_module_version": "^0.18",
            "_view_name": "LeafletDrawControlView",
            "circle": {},
            "circlemarker": {},
            "data": [],
            "edit": true,
            "marker": {
              "shapeOptions": {
                "color": "#3388ff"
              }
            },
            "options": [
              "position"
            ],
            "polygon": {
              "shapeOptions": {}
            },
            "polyline": {
              "shapeOptions": {}
            },
            "position": "topleft",
            "rectangle": {
              "shapeOptions": {
                "color": "#3388ff"
              }
            },
            "remove": true
          }
        },
        "93b7776a6c294440935e8d08e4faca1c": {
          "model_module": "jupyter-leaflet",
          "model_name": "LeafletScaleControlModel",
          "model_module_version": "^0.18",
          "state": {
            "_model_module": "jupyter-leaflet",
            "_model_module_version": "^0.18",
            "_model_name": "LeafletScaleControlModel",
            "_view_count": null,
            "_view_module": "jupyter-leaflet",
            "_view_module_version": "^0.18",
            "_view_name": "LeafletScaleControlView",
            "imperial": true,
            "max_width": 100,
            "metric": true,
            "options": [
              "imperial",
              "max_width",
              "metric",
              "position",
              "update_when_idle"
            ],
            "position": "bottomleft",
            "update_when_idle": false
          }
        },
        "15b1aaa306b24f7883d7a5cb0d31c9b2": {
          "model_module": "jupyter-leaflet",
          "model_name": "LeafletMeasureControlModel",
          "model_module_version": "^0.18",
          "state": {
            "_custom_units": {},
            "_model_module": "jupyter-leaflet",
            "_model_module_version": "^0.18",
            "_model_name": "LeafletMeasureControlModel",
            "_view_count": null,
            "_view_module": "jupyter-leaflet",
            "_view_module_version": "^0.18",
            "_view_name": "LeafletMeasureControlView",
            "active_color": "orange",
            "capture_z_index": 10000,
            "completed_color": "#C8F2BE",
            "options": [
              "active_color",
              "capture_z_index",
              "completed_color",
              "popup_options",
              "position",
              "primary_area_unit",
              "primary_length_unit",
              "secondary_area_unit",
              "secondary_length_unit"
            ],
            "popup_options": {
              "className": "leaflet-measure-resultpopup",
              "autoPanPadding": [
                10,
                10
              ]
            },
            "position": "bottomleft",
            "primary_area_unit": "acres",
            "primary_length_unit": "kilometers",
            "secondary_area_unit": null,
            "secondary_length_unit": null
          }
        },
        "4a5879303bc44eb0b541dfebbc97afd2": {
          "model_module": "jupyter-leaflet",
          "model_name": "LeafletWidgetControlModel",
          "model_module_version": "^0.18",
          "state": {
            "_model_module": "jupyter-leaflet",
            "_model_module_version": "^0.18",
            "_model_name": "LeafletWidgetControlModel",
            "_view_count": null,
            "_view_module": "jupyter-leaflet",
            "_view_module_version": "^0.18",
            "_view_name": "LeafletWidgetControlView",
            "max_height": null,
            "max_width": null,
            "min_height": null,
            "min_width": null,
            "options": [
              "position",
              "transparent_bg"
            ],
            "position": "topright",
            "transparent_bg": false,
            "widget": "IPY_MODEL_3586d4132b9d422fad3f63b0baa0af89"
          }
        },
        "21e2f68b9bba4da4a21daa243305ce8d": {
          "model_module": "jupyter-leaflet",
          "model_name": "LeafletAttributionControlModel",
          "model_module_version": "^0.18",
          "state": {
            "_model_module": "jupyter-leaflet",
            "_model_module_version": "^0.18",
            "_model_name": "LeafletAttributionControlModel",
            "_view_count": null,
            "_view_module": "jupyter-leaflet",
            "_view_module_version": "^0.18",
            "_view_name": "LeafletAttributionControlView",
            "options": [
              "position",
              "prefix"
            ],
            "position": "bottomright",
            "prefix": "ipyleaflet"
          }
        },
        "399be29b1b9b4ef9a3234368ed0af228": {
          "model_module": "jupyter-leaflet",
          "model_name": "LeafletMapStyleModel",
          "model_module_version": "^0.18",
          "state": {
            "_model_module": "jupyter-leaflet",
            "_model_module_version": "^0.18",
            "_model_name": "LeafletMapStyleModel",
            "_view_count": null,
            "_view_module": "@jupyter-widgets/base",
            "_view_module_version": "1.2.0",
            "_view_name": "StyleView",
            "cursor": "grab"
          }
        },
        "8752d112eee548b6aec2e110110512bd": {
          "model_module": "jupyter-leaflet",
          "model_name": "LeafletMapStyleModel",
          "model_module_version": "^0.18",
          "state": {
            "_model_module": "jupyter-leaflet",
            "_model_module_version": "^0.18",
            "_model_name": "LeafletMapStyleModel",
            "_view_count": null,
            "_view_module": "@jupyter-widgets/base",
            "_view_module_version": "1.2.0",
            "_view_name": "StyleView",
            "cursor": "move"
          }
        },
        "e7acd19f0be74512be2169095bec0e3d": {
          "model_module": "jupyter-leaflet",
          "model_name": "LeafletTileLayerModel",
          "model_module_version": "^0.18",
          "state": {
            "_model_module": "jupyter-leaflet",
            "_model_module_version": "^0.18",
            "_model_name": "LeafletTileLayerModel",
            "_view_count": null,
            "_view_module": "jupyter-leaflet",
            "_view_module_version": "^0.18",
            "_view_name": "LeafletTileLayerView",
            "attribution": "&copy; <a href=\"https://www.openstreetmap.org/copyright\">OpenStreetMap</a> contributors",
            "base": true,
            "bottom": true,
            "bounds": null,
            "detect_retina": false,
            "loading": true,
            "max_native_zoom": null,
            "max_zoom": 19,
            "min_native_zoom": null,
            "min_zoom": 1,
            "name": "OpenStreetMap.Mapnik",
            "no_wrap": false,
            "opacity": 1,
            "options": [
              "attribution",
              "bounds",
              "detect_retina",
              "max_native_zoom",
              "max_zoom",
              "min_native_zoom",
              "min_zoom",
              "no_wrap",
              "tile_size",
              "tms",
              "zoom_offset"
            ],
            "pane": "",
            "popup": null,
            "popup_max_height": null,
            "popup_max_width": 300,
            "popup_min_width": 50,
            "show_loading": false,
            "subitems": [],
            "tile_size": 256,
            "tms": false,
            "url": "https://tile.openstreetmap.org/{z}/{x}/{y}.png",
            "visible": true,
            "zoom_offset": 0
          }
        },
        "7e8fc937769e47d993bfa6be7e790a00": {
          "model_module": "jupyter-leaflet",
          "model_name": "LeafletTileLayerModel",
          "model_module_version": "^0.18",
          "state": {
            "_model_module": "jupyter-leaflet",
            "_model_module_version": "^0.18",
            "_model_name": "LeafletTileLayerModel",
            "_view_count": null,
            "_view_module": "jupyter-leaflet",
            "_view_module_version": "^0.18",
            "_view_name": "LeafletTileLayerView",
            "attribution": "Google Earth Engine",
            "base": false,
            "bottom": true,
            "bounds": null,
            "detect_retina": false,
            "loading": true,
            "max_native_zoom": null,
            "max_zoom": 24,
            "min_native_zoom": null,
            "min_zoom": 0,
            "name": "Antes Permiso",
            "no_wrap": false,
            "opacity": 1,
            "options": [
              "attribution",
              "bounds",
              "detect_retina",
              "max_native_zoom",
              "max_zoom",
              "min_native_zoom",
              "min_zoom",
              "no_wrap",
              "tile_size",
              "tms",
              "zoom_offset"
            ],
            "pane": "",
            "popup": null,
            "popup_max_height": null,
            "popup_max_width": 300,
            "popup_min_width": 50,
            "show_loading": false,
            "subitems": [],
            "tile_size": 256,
            "tms": false,
            "url": "https://earthengine.googleapis.com/v1/projects/earthengine-legacy/maps/0ea537b82762ad96d85247641f830fc5-28f6e9164b6825017620ecbc12b7bf35/tiles/{z}/{x}/{y}",
            "visible": true,
            "zoom_offset": 0
          }
        },
        "17535b680087403290c6fb5b71a4a9c5": {
          "model_module": "@jupyter-widgets/base",
          "model_name": "LayoutModel",
          "model_module_version": "1.2.0",
          "state": {
            "_model_module": "@jupyter-widgets/base",
            "_model_module_version": "1.2.0",
            "_model_name": "LayoutModel",
            "_view_count": null,
            "_view_module": "@jupyter-widgets/base",
            "_view_module_version": "1.2.0",
            "_view_name": "LayoutView",
            "align_content": null,
            "align_items": null,
            "align_self": null,
            "border": null,
            "bottom": null,
            "display": null,
            "flex": null,
            "flex_flow": null,
            "grid_area": null,
            "grid_auto_columns": null,
            "grid_auto_flow": null,
            "grid_auto_rows": null,
            "grid_column": null,
            "grid_gap": null,
            "grid_row": null,
            "grid_template_areas": null,
            "grid_template_columns": null,
            "grid_template_rows": null,
            "height": "600px",
            "justify_content": null,
            "justify_items": null,
            "left": null,
            "margin": null,
            "max_height": null,
            "max_width": null,
            "min_height": null,
            "min_width": null,
            "object_fit": null,
            "object_position": null,
            "order": null,
            "overflow": null,
            "overflow_x": null,
            "overflow_y": null,
            "padding": null,
            "right": null,
            "top": null,
            "visibility": null,
            "width": null
          }
        },
        "58037119ecc74016ac0402d2c8670b49": {
          "model_module": "jupyter-leaflet",
          "model_name": "LeafletMapStyleModel",
          "model_module_version": "^0.18",
          "state": {
            "_model_module": "jupyter-leaflet",
            "_model_module_version": "^0.18",
            "_model_name": "LeafletMapStyleModel",
            "_view_count": null,
            "_view_module": "@jupyter-widgets/base",
            "_view_module_version": "1.2.0",
            "_view_name": "StyleView",
            "cursor": "grab"
          }
        },
        "6e02ef18f38a4acb9c0bbaeaa9debbc8": {
          "model_module": "@jupyter-widgets/controls",
          "model_name": "HBoxModel",
          "model_module_version": "1.5.0",
          "state": {
            "_dom_classes": [
              "geemap-colab"
            ],
            "_model_module": "@jupyter-widgets/controls",
            "_model_module_version": "1.5.0",
            "_model_name": "HBoxModel",
            "_view_count": null,
            "_view_module": "@jupyter-widgets/controls",
            "_view_module_version": "1.5.0",
            "_view_name": "HBoxView",
            "box_style": "",
            "children": [
              "IPY_MODEL_dd3a7f20ecfc4ca6aa1ce45a43f36349"
            ],
            "layout": "IPY_MODEL_899b9283df7b4488935aebe4dc10c4d2"
          }
        },
        "3586d4132b9d422fad3f63b0baa0af89": {
          "model_module": "@jupyter-widgets/controls",
          "model_name": "VBoxModel",
          "model_module_version": "1.5.0",
          "state": {
            "_dom_classes": [
              "geemap-colab"
            ],
            "_model_module": "@jupyter-widgets/controls",
            "_model_module_version": "1.5.0",
            "_model_name": "VBoxModel",
            "_view_count": null,
            "_view_module": "@jupyter-widgets/controls",
            "_view_module_version": "1.5.0",
            "_view_name": "VBoxView",
            "box_style": "",
            "children": [
              "IPY_MODEL_166fa94ebc0049e6851a2edc092508fd"
            ],
            "layout": "IPY_MODEL_08fd678dc28d4b55a4ddc62b2af912d5"
          }
        },
        "dd3a7f20ecfc4ca6aa1ce45a43f36349": {
          "model_module": "@jupyter-widgets/controls",
          "model_name": "ToggleButtonModel",
          "model_module_version": "1.5.0",
          "state": {
            "_dom_classes": [],
            "_model_module": "@jupyter-widgets/controls",
            "_model_module_version": "1.5.0",
            "_model_name": "ToggleButtonModel",
            "_view_count": null,
            "_view_module": "@jupyter-widgets/controls",
            "_view_module_version": "1.5.0",
            "_view_name": "ToggleButtonView",
            "button_style": "",
            "description": "",
            "description_tooltip": null,
            "disabled": false,
            "icon": "globe",
            "layout": "IPY_MODEL_fbf2d0b7cda94e158a9bf4d7c1500404",
            "style": "IPY_MODEL_41d27e2a31c244a288fdabd77015b592",
            "tooltip": "Search location/data",
            "value": false
          }
        },
        "899b9283df7b4488935aebe4dc10c4d2": {
          "model_module": "@jupyter-widgets/base",
          "model_name": "LayoutModel",
          "model_module_version": "1.2.0",
          "state": {
            "_model_module": "@jupyter-widgets/base",
            "_model_module_version": "1.2.0",
            "_model_name": "LayoutModel",
            "_view_count": null,
            "_view_module": "@jupyter-widgets/base",
            "_view_module_version": "1.2.0",
            "_view_name": "LayoutView",
            "align_content": null,
            "align_items": null,
            "align_self": null,
            "border": null,
            "bottom": null,
            "display": null,
            "flex": null,
            "flex_flow": null,
            "grid_area": null,
            "grid_auto_columns": null,
            "grid_auto_flow": null,
            "grid_auto_rows": null,
            "grid_column": null,
            "grid_gap": null,
            "grid_row": null,
            "grid_template_areas": null,
            "grid_template_columns": null,
            "grid_template_rows": null,
            "height": null,
            "justify_content": null,
            "justify_items": null,
            "left": null,
            "margin": null,
            "max_height": null,
            "max_width": null,
            "min_height": null,
            "min_width": null,
            "object_fit": null,
            "object_position": null,
            "order": null,
            "overflow": null,
            "overflow_x": null,
            "overflow_y": null,
            "padding": null,
            "right": null,
            "top": null,
            "visibility": null,
            "width": null
          }
        },
        "166fa94ebc0049e6851a2edc092508fd": {
          "model_module": "@jupyter-widgets/controls",
          "model_name": "ToggleButtonModel",
          "model_module_version": "1.5.0",
          "state": {
            "_dom_classes": [],
            "_model_module": "@jupyter-widgets/controls",
            "_model_module_version": "1.5.0",
            "_model_name": "ToggleButtonModel",
            "_view_count": null,
            "_view_module": "@jupyter-widgets/controls",
            "_view_module_version": "1.5.0",
            "_view_name": "ToggleButtonView",
            "button_style": "",
            "description": "",
            "description_tooltip": null,
            "disabled": false,
            "icon": "wrench",
            "layout": "IPY_MODEL_838ef6e481184820958a902342c06b73",
            "style": "IPY_MODEL_094d3f869b0448beb2e284663bc752e2",
            "tooltip": "Toolbar",
            "value": false
          }
        },
        "08fd678dc28d4b55a4ddc62b2af912d5": {
          "model_module": "@jupyter-widgets/base",
          "model_name": "LayoutModel",
          "model_module_version": "1.2.0",
          "state": {
            "_model_module": "@jupyter-widgets/base",
            "_model_module_version": "1.2.0",
            "_model_name": "LayoutModel",
            "_view_count": null,
            "_view_module": "@jupyter-widgets/base",
            "_view_module_version": "1.2.0",
            "_view_name": "LayoutView",
            "align_content": null,
            "align_items": null,
            "align_self": null,
            "border": null,
            "bottom": null,
            "display": null,
            "flex": null,
            "flex_flow": null,
            "grid_area": null,
            "grid_auto_columns": null,
            "grid_auto_flow": null,
            "grid_auto_rows": null,
            "grid_column": null,
            "grid_gap": null,
            "grid_row": null,
            "grid_template_areas": null,
            "grid_template_columns": null,
            "grid_template_rows": null,
            "height": null,
            "justify_content": null,
            "justify_items": null,
            "left": null,
            "margin": null,
            "max_height": null,
            "max_width": null,
            "min_height": null,
            "min_width": null,
            "object_fit": null,
            "object_position": null,
            "order": null,
            "overflow": null,
            "overflow_x": null,
            "overflow_y": null,
            "padding": null,
            "right": null,
            "top": null,
            "visibility": null,
            "width": null
          }
        },
        "fbf2d0b7cda94e158a9bf4d7c1500404": {
          "model_module": "@jupyter-widgets/base",
          "model_name": "LayoutModel",
          "model_module_version": "1.2.0",
          "state": {
            "_model_module": "@jupyter-widgets/base",
            "_model_module_version": "1.2.0",
            "_model_name": "LayoutModel",
            "_view_count": null,
            "_view_module": "@jupyter-widgets/base",
            "_view_module_version": "1.2.0",
            "_view_name": "LayoutView",
            "align_content": null,
            "align_items": null,
            "align_self": null,
            "border": null,
            "bottom": null,
            "display": null,
            "flex": null,
            "flex_flow": null,
            "grid_area": null,
            "grid_auto_columns": null,
            "grid_auto_flow": null,
            "grid_auto_rows": null,
            "grid_column": null,
            "grid_gap": null,
            "grid_row": null,
            "grid_template_areas": null,
            "grid_template_columns": null,
            "grid_template_rows": null,
            "height": "28px",
            "justify_content": null,
            "justify_items": null,
            "left": null,
            "margin": null,
            "max_height": null,
            "max_width": null,
            "min_height": null,
            "min_width": null,
            "object_fit": null,
            "object_position": null,
            "order": null,
            "overflow": null,
            "overflow_x": null,
            "overflow_y": null,
            "padding": "0px 0px 0px 4px",
            "right": null,
            "top": null,
            "visibility": null,
            "width": "28px"
          }
        },
        "41d27e2a31c244a288fdabd77015b592": {
          "model_module": "@jupyter-widgets/controls",
          "model_name": "DescriptionStyleModel",
          "model_module_version": "1.5.0",
          "state": {
            "_model_module": "@jupyter-widgets/controls",
            "_model_module_version": "1.5.0",
            "_model_name": "DescriptionStyleModel",
            "_view_count": null,
            "_view_module": "@jupyter-widgets/base",
            "_view_module_version": "1.2.0",
            "_view_name": "StyleView",
            "description_width": ""
          }
        },
        "838ef6e481184820958a902342c06b73": {
          "model_module": "@jupyter-widgets/base",
          "model_name": "LayoutModel",
          "model_module_version": "1.2.0",
          "state": {
            "_model_module": "@jupyter-widgets/base",
            "_model_module_version": "1.2.0",
            "_model_name": "LayoutModel",
            "_view_count": null,
            "_view_module": "@jupyter-widgets/base",
            "_view_module_version": "1.2.0",
            "_view_name": "LayoutView",
            "align_content": null,
            "align_items": null,
            "align_self": null,
            "border": null,
            "bottom": null,
            "display": null,
            "flex": null,
            "flex_flow": null,
            "grid_area": null,
            "grid_auto_columns": null,
            "grid_auto_flow": null,
            "grid_auto_rows": null,
            "grid_column": null,
            "grid_gap": null,
            "grid_row": null,
            "grid_template_areas": null,
            "grid_template_columns": null,
            "grid_template_rows": null,
            "height": "28px",
            "justify_content": null,
            "justify_items": null,
            "left": null,
            "margin": null,
            "max_height": null,
            "max_width": null,
            "min_height": null,
            "min_width": null,
            "object_fit": null,
            "object_position": null,
            "order": null,
            "overflow": null,
            "overflow_x": null,
            "overflow_y": null,
            "padding": "0px 0px 0px 4px",
            "right": null,
            "top": null,
            "visibility": null,
            "width": "28px"
          }
        },
        "094d3f869b0448beb2e284663bc752e2": {
          "model_module": "@jupyter-widgets/controls",
          "model_name": "DescriptionStyleModel",
          "model_module_version": "1.5.0",
          "state": {
            "_model_module": "@jupyter-widgets/controls",
            "_model_module_version": "1.5.0",
            "_model_name": "DescriptionStyleModel",
            "_view_count": null,
            "_view_module": "@jupyter-widgets/base",
            "_view_module_version": "1.2.0",
            "_view_name": "StyleView",
            "description_width": ""
          }
        },
        "066b3ceb05854812917f6950e7b9382f": {
          "model_module": "jupyter-leaflet",
          "model_name": "LeafletMapModel",
          "model_module_version": "^0.18",
          "state": {
            "_dom_classes": [],
            "_model_module": "jupyter-leaflet",
            "_model_module_version": "^0.18",
            "_model_name": "LeafletMapModel",
            "_view_count": null,
            "_view_module": "jupyter-leaflet",
            "_view_module_version": "^0.18",
            "_view_name": "LeafletMapView",
            "bottom": 4297130,
            "bounce_at_zoom_limits": true,
            "box_zoom": true,
            "center": [
              -4.395620374271533,
              -73.69763772817502
            ],
            "close_popup_on_click": true,
            "controls": [
              "IPY_MODEL_e633ddefdf00497a9f7b7b4d5b21340b",
              "IPY_MODEL_75b393f5e7fe4b5f93d77b54fc361f8b",
              "IPY_MODEL_e2d1f9eb62744e869755e7b241a223c3",
              "IPY_MODEL_413ff2d602fa42fcae27fa264304cc41",
              "IPY_MODEL_003b38c51769494395ac25a1cbc037f2",
              "IPY_MODEL_d9afca9a37af41e4b00b65af9950b453",
              "IPY_MODEL_fb2e9d0e04f84fa98b2e17ef47914d8c",
              "IPY_MODEL_66f76d62fe01438ba20bdfc28f790a00"
            ],
            "crs": {
              "name": "EPSG3857",
              "custom": false
            },
            "default_style": "IPY_MODEL_442fbd1a566b4e65a6db371e48685cdb",
            "double_click_zoom": true,
            "dragging": true,
            "dragging_style": "IPY_MODEL_2a48f712d3b64577ad5fb1e88c22890f",
            "east": -73.66100948186765,
            "fullscreen": false,
            "inertia": true,
            "inertia_deceleration": 3000,
            "inertia_max_speed": 1500,
            "interpolation": "bilinear",
            "keyboard": true,
            "keyboard_pan_offset": 80,
            "keyboard_zoom_offset": 1,
            "layers": [
              "IPY_MODEL_f3fb038e876b433a971cd79840ea9cfe",
              "IPY_MODEL_aaec5910f523446bb6415f1a6605355c",
              "IPY_MODEL_f47fa776d9f040ec912d00e790f7aa26"
            ],
            "layout": "IPY_MODEL_4a362a4961064dfd84b555f2cadfe09b",
            "left": 2476171.0738120256,
            "max_zoom": 24,
            "min_zoom": null,
            "modisdate": "2024-02-18",
            "north": -4.382783529752482,
            "options": [
              "bounce_at_zoom_limits",
              "box_zoom",
              "center",
              "close_popup_on_click",
              "double_click_zoom",
              "dragging",
              "fullscreen",
              "inertia",
              "inertia_deceleration",
              "inertia_max_speed",
              "interpolation",
              "keyboard",
              "keyboard_pan_offset",
              "keyboard_zoom_offset",
              "max_zoom",
              "min_zoom",
              "prefer_canvas",
              "scroll_wheel_zoom",
              "tap",
              "tap_tolerance",
              "touch_zoom",
              "world_copy_jump",
              "zoom",
              "zoom_animation_threshold",
              "zoom_delta",
              "zoom_snap"
            ],
            "panes": {},
            "prefer_canvas": false,
            "right": 2477878.0738120256,
            "scroll_wheel_zoom": true,
            "south": -4.408456997716819,
            "style": "IPY_MODEL_442fbd1a566b4e65a6db371e48685cdb",
            "tap": true,
            "tap_tolerance": 15,
            "top": 4296530,
            "touch_zoom": true,
            "west": -73.7342659744824,
            "window_url": "https://xvz71o03b2g-496ff2e9c6d22116-0-colab.googleusercontent.com/outputframe.html?vrz=colab_20240214-060113_RC00_606917857",
            "world_copy_jump": false,
            "zoom": 15,
            "zoom_animation_threshold": 4,
            "zoom_delta": 1,
            "zoom_snap": 1
          }
        },
        "e633ddefdf00497a9f7b7b4d5b21340b": {
          "model_module": "jupyter-leaflet",
          "model_name": "LeafletWidgetControlModel",
          "model_module_version": "^0.18",
          "state": {
            "_model_module": "jupyter-leaflet",
            "_model_module_version": "^0.18",
            "_model_name": "LeafletWidgetControlModel",
            "_view_count": null,
            "_view_module": "jupyter-leaflet",
            "_view_module_version": "^0.18",
            "_view_name": "LeafletWidgetControlView",
            "max_height": null,
            "max_width": null,
            "min_height": null,
            "min_width": null,
            "options": [
              "position",
              "transparent_bg"
            ],
            "position": "topleft",
            "transparent_bg": false,
            "widget": "IPY_MODEL_550a8cd2455e435991df729eb8fc0263"
          }
        },
        "75b393f5e7fe4b5f93d77b54fc361f8b": {
          "model_module": "jupyter-leaflet",
          "model_name": "LeafletZoomControlModel",
          "model_module_version": "^0.18",
          "state": {
            "_model_module": "jupyter-leaflet",
            "_model_module_version": "^0.18",
            "_model_name": "LeafletZoomControlModel",
            "_view_count": null,
            "_view_module": "jupyter-leaflet",
            "_view_module_version": "^0.18",
            "_view_name": "LeafletZoomControlView",
            "options": [
              "position",
              "zoom_in_text",
              "zoom_in_title",
              "zoom_out_text",
              "zoom_out_title"
            ],
            "position": "topleft",
            "zoom_in_text": "+",
            "zoom_in_title": "Zoom in",
            "zoom_out_text": "-",
            "zoom_out_title": "Zoom out"
          }
        },
        "e2d1f9eb62744e869755e7b241a223c3": {
          "model_module": "jupyter-leaflet",
          "model_name": "LeafletFullScreenControlModel",
          "model_module_version": "^0.18",
          "state": {
            "_model_module": "jupyter-leaflet",
            "_model_module_version": "^0.18",
            "_model_name": "LeafletFullScreenControlModel",
            "_view_count": null,
            "_view_module": "jupyter-leaflet",
            "_view_module_version": "^0.18",
            "_view_name": "LeafletFullScreenControlView",
            "options": [
              "position"
            ],
            "position": "topleft"
          }
        },
        "413ff2d602fa42fcae27fa264304cc41": {
          "model_module": "jupyter-leaflet",
          "model_name": "LeafletDrawControlModel",
          "model_module_version": "^0.18",
          "state": {
            "_model_module": "jupyter-leaflet",
            "_model_module_version": "^0.18",
            "_model_name": "LeafletDrawControlModel",
            "_view_count": null,
            "_view_module": "jupyter-leaflet",
            "_view_module_version": "^0.18",
            "_view_name": "LeafletDrawControlView",
            "circle": {},
            "circlemarker": {},
            "data": [],
            "edit": true,
            "marker": {
              "shapeOptions": {
                "color": "#3388ff"
              }
            },
            "options": [
              "position"
            ],
            "polygon": {
              "shapeOptions": {}
            },
            "polyline": {
              "shapeOptions": {}
            },
            "position": "topleft",
            "rectangle": {
              "shapeOptions": {
                "color": "#3388ff"
              }
            },
            "remove": true
          }
        },
        "003b38c51769494395ac25a1cbc037f2": {
          "model_module": "jupyter-leaflet",
          "model_name": "LeafletScaleControlModel",
          "model_module_version": "^0.18",
          "state": {
            "_model_module": "jupyter-leaflet",
            "_model_module_version": "^0.18",
            "_model_name": "LeafletScaleControlModel",
            "_view_count": null,
            "_view_module": "jupyter-leaflet",
            "_view_module_version": "^0.18",
            "_view_name": "LeafletScaleControlView",
            "imperial": true,
            "max_width": 100,
            "metric": true,
            "options": [
              "imperial",
              "max_width",
              "metric",
              "position",
              "update_when_idle"
            ],
            "position": "bottomleft",
            "update_when_idle": false
          }
        },
        "d9afca9a37af41e4b00b65af9950b453": {
          "model_module": "jupyter-leaflet",
          "model_name": "LeafletMeasureControlModel",
          "model_module_version": "^0.18",
          "state": {
            "_custom_units": {},
            "_model_module": "jupyter-leaflet",
            "_model_module_version": "^0.18",
            "_model_name": "LeafletMeasureControlModel",
            "_view_count": null,
            "_view_module": "jupyter-leaflet",
            "_view_module_version": "^0.18",
            "_view_name": "LeafletMeasureControlView",
            "active_color": "orange",
            "capture_z_index": 10000,
            "completed_color": "#C8F2BE",
            "options": [
              "active_color",
              "capture_z_index",
              "completed_color",
              "popup_options",
              "position",
              "primary_area_unit",
              "primary_length_unit",
              "secondary_area_unit",
              "secondary_length_unit"
            ],
            "popup_options": {
              "className": "leaflet-measure-resultpopup",
              "autoPanPadding": [
                10,
                10
              ]
            },
            "position": "bottomleft",
            "primary_area_unit": "acres",
            "primary_length_unit": "kilometers",
            "secondary_area_unit": null,
            "secondary_length_unit": null
          }
        },
        "fb2e9d0e04f84fa98b2e17ef47914d8c": {
          "model_module": "jupyter-leaflet",
          "model_name": "LeafletWidgetControlModel",
          "model_module_version": "^0.18",
          "state": {
            "_model_module": "jupyter-leaflet",
            "_model_module_version": "^0.18",
            "_model_name": "LeafletWidgetControlModel",
            "_view_count": null,
            "_view_module": "jupyter-leaflet",
            "_view_module_version": "^0.18",
            "_view_name": "LeafletWidgetControlView",
            "max_height": null,
            "max_width": null,
            "min_height": null,
            "min_width": null,
            "options": [
              "position",
              "transparent_bg"
            ],
            "position": "topright",
            "transparent_bg": false,
            "widget": "IPY_MODEL_b821dc348db644c792bc93f6c8d0cabb"
          }
        },
        "66f76d62fe01438ba20bdfc28f790a00": {
          "model_module": "jupyter-leaflet",
          "model_name": "LeafletAttributionControlModel",
          "model_module_version": "^0.18",
          "state": {
            "_model_module": "jupyter-leaflet",
            "_model_module_version": "^0.18",
            "_model_name": "LeafletAttributionControlModel",
            "_view_count": null,
            "_view_module": "jupyter-leaflet",
            "_view_module_version": "^0.18",
            "_view_name": "LeafletAttributionControlView",
            "options": [
              "position",
              "prefix"
            ],
            "position": "bottomright",
            "prefix": "ipyleaflet"
          }
        },
        "442fbd1a566b4e65a6db371e48685cdb": {
          "model_module": "jupyter-leaflet",
          "model_name": "LeafletMapStyleModel",
          "model_module_version": "^0.18",
          "state": {
            "_model_module": "jupyter-leaflet",
            "_model_module_version": "^0.18",
            "_model_name": "LeafletMapStyleModel",
            "_view_count": null,
            "_view_module": "@jupyter-widgets/base",
            "_view_module_version": "1.2.0",
            "_view_name": "StyleView",
            "cursor": "grab"
          }
        },
        "2a48f712d3b64577ad5fb1e88c22890f": {
          "model_module": "jupyter-leaflet",
          "model_name": "LeafletMapStyleModel",
          "model_module_version": "^0.18",
          "state": {
            "_model_module": "jupyter-leaflet",
            "_model_module_version": "^0.18",
            "_model_name": "LeafletMapStyleModel",
            "_view_count": null,
            "_view_module": "@jupyter-widgets/base",
            "_view_module_version": "1.2.0",
            "_view_name": "StyleView",
            "cursor": "move"
          }
        },
        "f3fb038e876b433a971cd79840ea9cfe": {
          "model_module": "jupyter-leaflet",
          "model_name": "LeafletTileLayerModel",
          "model_module_version": "^0.18",
          "state": {
            "_model_module": "jupyter-leaflet",
            "_model_module_version": "^0.18",
            "_model_name": "LeafletTileLayerModel",
            "_view_count": null,
            "_view_module": "jupyter-leaflet",
            "_view_module_version": "^0.18",
            "_view_name": "LeafletTileLayerView",
            "attribution": "&copy; <a href=\"https://www.openstreetmap.org/copyright\">OpenStreetMap</a> contributors",
            "base": true,
            "bottom": true,
            "bounds": null,
            "detect_retina": false,
            "loading": true,
            "max_native_zoom": null,
            "max_zoom": 19,
            "min_native_zoom": null,
            "min_zoom": 1,
            "name": "OpenStreetMap.Mapnik",
            "no_wrap": false,
            "opacity": 1,
            "options": [
              "attribution",
              "bounds",
              "detect_retina",
              "max_native_zoom",
              "max_zoom",
              "min_native_zoom",
              "min_zoom",
              "no_wrap",
              "tile_size",
              "tms",
              "zoom_offset"
            ],
            "pane": "",
            "popup": null,
            "popup_max_height": null,
            "popup_max_width": 300,
            "popup_min_width": 50,
            "show_loading": false,
            "subitems": [],
            "tile_size": 256,
            "tms": false,
            "url": "https://tile.openstreetmap.org/{z}/{x}/{y}.png",
            "visible": true,
            "zoom_offset": 0
          }
        },
        "aaec5910f523446bb6415f1a6605355c": {
          "model_module": "jupyter-leaflet",
          "model_name": "LeafletTileLayerModel",
          "model_module_version": "^0.18",
          "state": {
            "_model_module": "jupyter-leaflet",
            "_model_module_version": "^0.18",
            "_model_name": "LeafletTileLayerModel",
            "_view_count": null,
            "_view_module": "jupyter-leaflet",
            "_view_module_version": "^0.18",
            "_view_name": "LeafletTileLayerView",
            "attribution": "Google Earth Engine",
            "base": false,
            "bottom": true,
            "bounds": null,
            "detect_retina": false,
            "loading": true,
            "max_native_zoom": null,
            "max_zoom": 24,
            "min_native_zoom": null,
            "min_zoom": 0,
            "name": "Despues Tallando",
            "no_wrap": false,
            "opacity": 1,
            "options": [
              "attribution",
              "bounds",
              "detect_retina",
              "max_native_zoom",
              "max_zoom",
              "min_native_zoom",
              "min_zoom",
              "no_wrap",
              "tile_size",
              "tms",
              "zoom_offset"
            ],
            "pane": "",
            "popup": null,
            "popup_max_height": null,
            "popup_max_width": 300,
            "popup_min_width": 50,
            "show_loading": false,
            "subitems": [],
            "tile_size": 256,
            "tms": false,
            "url": "https://earthengine.googleapis.com/v1/projects/earthengine-legacy/maps/30a6636740c32ed247d71e88f5707541-0116a3246da59cd4b36157cc07140309/tiles/{z}/{x}/{y}",
            "visible": true,
            "zoom_offset": 0
          }
        },
        "f47fa776d9f040ec912d00e790f7aa26": {
          "model_module": "jupyter-leaflet",
          "model_name": "LeafletTileLayerModel",
          "model_module_version": "^0.18",
          "state": {
            "_model_module": "jupyter-leaflet",
            "_model_module_version": "^0.18",
            "_model_name": "LeafletTileLayerModel",
            "_view_count": null,
            "_view_module": "jupyter-leaflet",
            "_view_module_version": "^0.18",
            "_view_name": "LeafletTileLayerView",
            "attribution": "Google Earth Engine",
            "base": false,
            "bottom": true,
            "bounds": null,
            "detect_retina": false,
            "loading": true,
            "max_native_zoom": null,
            "max_zoom": 24,
            "min_native_zoom": null,
            "min_zoom": 0,
            "name": "Mask Outline",
            "no_wrap": false,
            "opacity": 1,
            "options": [
              "attribution",
              "bounds",
              "detect_retina",
              "max_native_zoom",
              "max_zoom",
              "min_native_zoom",
              "min_zoom",
              "no_wrap",
              "tile_size",
              "tms",
              "zoom_offset"
            ],
            "pane": "",
            "popup": null,
            "popup_max_height": null,
            "popup_max_width": 300,
            "popup_min_width": 50,
            "show_loading": false,
            "subitems": [],
            "tile_size": 256,
            "tms": false,
            "url": "https://earthengine.googleapis.com/v1/projects/earthengine-legacy/maps/19b42eeffd5799bdc27e39f150a61fc5-ad26567f13d93cd092a75346e6dd963b/tiles/{z}/{x}/{y}",
            "visible": true,
            "zoom_offset": 0
          }
        },
        "4a362a4961064dfd84b555f2cadfe09b": {
          "model_module": "@jupyter-widgets/base",
          "model_name": "LayoutModel",
          "model_module_version": "1.2.0",
          "state": {
            "_model_module": "@jupyter-widgets/base",
            "_model_module_version": "1.2.0",
            "_model_name": "LayoutModel",
            "_view_count": null,
            "_view_module": "@jupyter-widgets/base",
            "_view_module_version": "1.2.0",
            "_view_name": "LayoutView",
            "align_content": null,
            "align_items": null,
            "align_self": null,
            "border": null,
            "bottom": null,
            "display": null,
            "flex": null,
            "flex_flow": null,
            "grid_area": null,
            "grid_auto_columns": null,
            "grid_auto_flow": null,
            "grid_auto_rows": null,
            "grid_column": null,
            "grid_gap": null,
            "grid_row": null,
            "grid_template_areas": null,
            "grid_template_columns": null,
            "grid_template_rows": null,
            "height": "600px",
            "justify_content": null,
            "justify_items": null,
            "left": null,
            "margin": null,
            "max_height": null,
            "max_width": null,
            "min_height": null,
            "min_width": null,
            "object_fit": null,
            "object_position": null,
            "order": null,
            "overflow": null,
            "overflow_x": null,
            "overflow_y": null,
            "padding": null,
            "right": null,
            "top": null,
            "visibility": null,
            "width": null
          }
        },
        "a9f99a66a51c42019df00aefa24f960e": {
          "model_module": "jupyter-leaflet",
          "model_name": "LeafletMapStyleModel",
          "model_module_version": "^0.18",
          "state": {
            "_model_module": "jupyter-leaflet",
            "_model_module_version": "^0.18",
            "_model_name": "LeafletMapStyleModel",
            "_view_count": null,
            "_view_module": "@jupyter-widgets/base",
            "_view_module_version": "1.2.0",
            "_view_name": "StyleView",
            "cursor": "grab"
          }
        },
        "550a8cd2455e435991df729eb8fc0263": {
          "model_module": "@jupyter-widgets/controls",
          "model_name": "HBoxModel",
          "model_module_version": "1.5.0",
          "state": {
            "_dom_classes": [
              "geemap-colab"
            ],
            "_model_module": "@jupyter-widgets/controls",
            "_model_module_version": "1.5.0",
            "_model_name": "HBoxModel",
            "_view_count": null,
            "_view_module": "@jupyter-widgets/controls",
            "_view_module_version": "1.5.0",
            "_view_name": "HBoxView",
            "box_style": "",
            "children": [
              "IPY_MODEL_1fa904d8255b4f3aa8489b3bb44cf7e7"
            ],
            "layout": "IPY_MODEL_93f922aab2244547b99b7ca9fdd1dfaa"
          }
        },
        "b821dc348db644c792bc93f6c8d0cabb": {
          "model_module": "@jupyter-widgets/controls",
          "model_name": "VBoxModel",
          "model_module_version": "1.5.0",
          "state": {
            "_dom_classes": [
              "geemap-colab"
            ],
            "_model_module": "@jupyter-widgets/controls",
            "_model_module_version": "1.5.0",
            "_model_name": "VBoxModel",
            "_view_count": null,
            "_view_module": "@jupyter-widgets/controls",
            "_view_module_version": "1.5.0",
            "_view_name": "VBoxView",
            "box_style": "",
            "children": [
              "IPY_MODEL_f827eee994dc41739545cb60fb4e5866"
            ],
            "layout": "IPY_MODEL_64ad14cd00594fc59fc97307175011ff"
          }
        },
        "1fa904d8255b4f3aa8489b3bb44cf7e7": {
          "model_module": "@jupyter-widgets/controls",
          "model_name": "ToggleButtonModel",
          "model_module_version": "1.5.0",
          "state": {
            "_dom_classes": [],
            "_model_module": "@jupyter-widgets/controls",
            "_model_module_version": "1.5.0",
            "_model_name": "ToggleButtonModel",
            "_view_count": null,
            "_view_module": "@jupyter-widgets/controls",
            "_view_module_version": "1.5.0",
            "_view_name": "ToggleButtonView",
            "button_style": "",
            "description": "",
            "description_tooltip": null,
            "disabled": false,
            "icon": "globe",
            "layout": "IPY_MODEL_ef502c03fcfd41de8cc4c43ceb8c5f7c",
            "style": "IPY_MODEL_b54b31f20bd840d89719e400de3e84a6",
            "tooltip": "Search location/data",
            "value": false
          }
        },
        "93f922aab2244547b99b7ca9fdd1dfaa": {
          "model_module": "@jupyter-widgets/base",
          "model_name": "LayoutModel",
          "model_module_version": "1.2.0",
          "state": {
            "_model_module": "@jupyter-widgets/base",
            "_model_module_version": "1.2.0",
            "_model_name": "LayoutModel",
            "_view_count": null,
            "_view_module": "@jupyter-widgets/base",
            "_view_module_version": "1.2.0",
            "_view_name": "LayoutView",
            "align_content": null,
            "align_items": null,
            "align_self": null,
            "border": null,
            "bottom": null,
            "display": null,
            "flex": null,
            "flex_flow": null,
            "grid_area": null,
            "grid_auto_columns": null,
            "grid_auto_flow": null,
            "grid_auto_rows": null,
            "grid_column": null,
            "grid_gap": null,
            "grid_row": null,
            "grid_template_areas": null,
            "grid_template_columns": null,
            "grid_template_rows": null,
            "height": null,
            "justify_content": null,
            "justify_items": null,
            "left": null,
            "margin": null,
            "max_height": null,
            "max_width": null,
            "min_height": null,
            "min_width": null,
            "object_fit": null,
            "object_position": null,
            "order": null,
            "overflow": null,
            "overflow_x": null,
            "overflow_y": null,
            "padding": null,
            "right": null,
            "top": null,
            "visibility": null,
            "width": null
          }
        },
        "f827eee994dc41739545cb60fb4e5866": {
          "model_module": "@jupyter-widgets/controls",
          "model_name": "ToggleButtonModel",
          "model_module_version": "1.5.0",
          "state": {
            "_dom_classes": [],
            "_model_module": "@jupyter-widgets/controls",
            "_model_module_version": "1.5.0",
            "_model_name": "ToggleButtonModel",
            "_view_count": null,
            "_view_module": "@jupyter-widgets/controls",
            "_view_module_version": "1.5.0",
            "_view_name": "ToggleButtonView",
            "button_style": "",
            "description": "",
            "description_tooltip": null,
            "disabled": false,
            "icon": "wrench",
            "layout": "IPY_MODEL_573456b098c648ed93c3d37a7aa95bb7",
            "style": "IPY_MODEL_feb3f8b6f43b4e38b9dd73abf6fc778d",
            "tooltip": "Toolbar",
            "value": false
          }
        },
        "64ad14cd00594fc59fc97307175011ff": {
          "model_module": "@jupyter-widgets/base",
          "model_name": "LayoutModel",
          "model_module_version": "1.2.0",
          "state": {
            "_model_module": "@jupyter-widgets/base",
            "_model_module_version": "1.2.0",
            "_model_name": "LayoutModel",
            "_view_count": null,
            "_view_module": "@jupyter-widgets/base",
            "_view_module_version": "1.2.0",
            "_view_name": "LayoutView",
            "align_content": null,
            "align_items": null,
            "align_self": null,
            "border": null,
            "bottom": null,
            "display": null,
            "flex": null,
            "flex_flow": null,
            "grid_area": null,
            "grid_auto_columns": null,
            "grid_auto_flow": null,
            "grid_auto_rows": null,
            "grid_column": null,
            "grid_gap": null,
            "grid_row": null,
            "grid_template_areas": null,
            "grid_template_columns": null,
            "grid_template_rows": null,
            "height": null,
            "justify_content": null,
            "justify_items": null,
            "left": null,
            "margin": null,
            "max_height": null,
            "max_width": null,
            "min_height": null,
            "min_width": null,
            "object_fit": null,
            "object_position": null,
            "order": null,
            "overflow": null,
            "overflow_x": null,
            "overflow_y": null,
            "padding": null,
            "right": null,
            "top": null,
            "visibility": null,
            "width": null
          }
        },
        "ef502c03fcfd41de8cc4c43ceb8c5f7c": {
          "model_module": "@jupyter-widgets/base",
          "model_name": "LayoutModel",
          "model_module_version": "1.2.0",
          "state": {
            "_model_module": "@jupyter-widgets/base",
            "_model_module_version": "1.2.0",
            "_model_name": "LayoutModel",
            "_view_count": null,
            "_view_module": "@jupyter-widgets/base",
            "_view_module_version": "1.2.0",
            "_view_name": "LayoutView",
            "align_content": null,
            "align_items": null,
            "align_self": null,
            "border": null,
            "bottom": null,
            "display": null,
            "flex": null,
            "flex_flow": null,
            "grid_area": null,
            "grid_auto_columns": null,
            "grid_auto_flow": null,
            "grid_auto_rows": null,
            "grid_column": null,
            "grid_gap": null,
            "grid_row": null,
            "grid_template_areas": null,
            "grid_template_columns": null,
            "grid_template_rows": null,
            "height": "28px",
            "justify_content": null,
            "justify_items": null,
            "left": null,
            "margin": null,
            "max_height": null,
            "max_width": null,
            "min_height": null,
            "min_width": null,
            "object_fit": null,
            "object_position": null,
            "order": null,
            "overflow": null,
            "overflow_x": null,
            "overflow_y": null,
            "padding": "0px 0px 0px 4px",
            "right": null,
            "top": null,
            "visibility": null,
            "width": "28px"
          }
        },
        "b54b31f20bd840d89719e400de3e84a6": {
          "model_module": "@jupyter-widgets/controls",
          "model_name": "DescriptionStyleModel",
          "model_module_version": "1.5.0",
          "state": {
            "_model_module": "@jupyter-widgets/controls",
            "_model_module_version": "1.5.0",
            "_model_name": "DescriptionStyleModel",
            "_view_count": null,
            "_view_module": "@jupyter-widgets/base",
            "_view_module_version": "1.2.0",
            "_view_name": "StyleView",
            "description_width": ""
          }
        },
        "573456b098c648ed93c3d37a7aa95bb7": {
          "model_module": "@jupyter-widgets/base",
          "model_name": "LayoutModel",
          "model_module_version": "1.2.0",
          "state": {
            "_model_module": "@jupyter-widgets/base",
            "_model_module_version": "1.2.0",
            "_model_name": "LayoutModel",
            "_view_count": null,
            "_view_module": "@jupyter-widgets/base",
            "_view_module_version": "1.2.0",
            "_view_name": "LayoutView",
            "align_content": null,
            "align_items": null,
            "align_self": null,
            "border": null,
            "bottom": null,
            "display": null,
            "flex": null,
            "flex_flow": null,
            "grid_area": null,
            "grid_auto_columns": null,
            "grid_auto_flow": null,
            "grid_auto_rows": null,
            "grid_column": null,
            "grid_gap": null,
            "grid_row": null,
            "grid_template_areas": null,
            "grid_template_columns": null,
            "grid_template_rows": null,
            "height": "28px",
            "justify_content": null,
            "justify_items": null,
            "left": null,
            "margin": null,
            "max_height": null,
            "max_width": null,
            "min_height": null,
            "min_width": null,
            "object_fit": null,
            "object_position": null,
            "order": null,
            "overflow": null,
            "overflow_x": null,
            "overflow_y": null,
            "padding": "0px 0px 0px 4px",
            "right": null,
            "top": null,
            "visibility": null,
            "width": "28px"
          }
        },
        "feb3f8b6f43b4e38b9dd73abf6fc778d": {
          "model_module": "@jupyter-widgets/controls",
          "model_name": "DescriptionStyleModel",
          "model_module_version": "1.5.0",
          "state": {
            "_model_module": "@jupyter-widgets/controls",
            "_model_module_version": "1.5.0",
            "_model_name": "DescriptionStyleModel",
            "_view_count": null,
            "_view_module": "@jupyter-widgets/base",
            "_view_module_version": "1.2.0",
            "_view_name": "StyleView",
            "description_width": ""
          }
        }
      }
    }
  },
  "cells": [
    {
      "cell_type": "markdown",
      "metadata": {
        "id": "view-in-github",
        "colab_type": "text"
      },
      "source": [
        "<a href=\"https://colab.research.google.com/github/emilycalvert/scripts_cite/blob/main/verficar_tallando.ipynb\" target=\"_parent\"><img src=\"https://colab.research.google.com/assets/colab-badge.svg\" alt=\"Open In Colab\"/></a>"
      ]
    },
    {
      "cell_type": "markdown",
      "source": [
        "# Alistar entorno."
      ],
      "metadata": {
        "id": "d4es-WyE3Srw"
      }
    },
    {
      "cell_type": "code",
      "source": [
        "!pip install numpy\n",
        "!pip install geopy\n",
        "!pip install pandas\n",
        "!pip install pyproj\n",
        "!pip install geemap\n",
        "!pip install timedelta"
      ],
      "metadata": {
        "colab": {
          "base_uri": "https://localhost:8080/",
          "height": 1000
        },
        "id": "z2gAjbKYA5RA",
        "outputId": "3407511b-2647-4be9-ca00-f3520981c264",
        "collapsed": true
      },
      "execution_count": 2,
      "outputs": [
        {
          "output_type": "display_data",
          "data": {
            "text/plain": [
              "<IPython.core.display.HTML object>"
            ],
            "text/html": [
              "\n",
              "            <style>\n",
              "                .geemap-dark {\n",
              "                    --jp-widgets-color: white;\n",
              "                    --jp-widgets-label-color: white;\n",
              "                    --jp-ui-font-color1: white;\n",
              "                    --jp-layout-color2: #454545;\n",
              "                    background-color: #383838;\n",
              "                }\n",
              "                    \n",
              "                .geemap-dark .jupyter-button {\n",
              "                    --jp-layout-color3: #383838;\n",
              "                }\n",
              "                \n",
              "                .geemap-colab {\n",
              "                    background-color: var(--colab-primary-surface-color, white);\n",
              "                }\n",
              "                    \n",
              "                .geemap-colab .jupyter-button {\n",
              "                    --jp-layout-color3: var(--colab-primary-surface-color, white);\n",
              "                }\n",
              "            </style>\n",
              "            "
            ]
          },
          "metadata": {}
        },
        {
          "output_type": "stream",
          "name": "stdout",
          "text": [
            "Requirement already satisfied: numpy in /usr/local/lib/python3.10/dist-packages (1.25.2)\n",
            "Requirement already satisfied: geopy in /usr/local/lib/python3.10/dist-packages (2.3.0)\n",
            "Requirement already satisfied: geographiclib<3,>=1.52 in /usr/local/lib/python3.10/dist-packages (from geopy) (2.0)\n",
            "Requirement already satisfied: pandas in /usr/local/lib/python3.10/dist-packages (1.5.3)\n",
            "Requirement already satisfied: python-dateutil>=2.8.1 in /usr/local/lib/python3.10/dist-packages (from pandas) (2.8.2)\n",
            "Requirement already satisfied: pytz>=2020.1 in /usr/local/lib/python3.10/dist-packages (from pandas) (2023.4)\n",
            "Requirement already satisfied: numpy>=1.21.0 in /usr/local/lib/python3.10/dist-packages (from pandas) (1.25.2)\n",
            "Requirement already satisfied: six>=1.5 in /usr/local/lib/python3.10/dist-packages (from python-dateutil>=2.8.1->pandas) (1.16.0)\n",
            "Requirement already satisfied: pyproj in /usr/local/lib/python3.10/dist-packages (3.6.1)\n",
            "Requirement already satisfied: certifi in /usr/local/lib/python3.10/dist-packages (from pyproj) (2024.2.2)\n",
            "Requirement already satisfied: geemap in /usr/local/lib/python3.10/dist-packages (0.30.4)\n",
            "Requirement already satisfied: bqplot in /usr/local/lib/python3.10/dist-packages (from geemap) (0.12.42)\n",
            "Requirement already satisfied: colour in /usr/local/lib/python3.10/dist-packages (from geemap) (0.1.5)\n",
            "Requirement already satisfied: earthengine-api>=0.1.347 in /usr/local/lib/python3.10/dist-packages (from geemap) (0.1.389)\n",
            "Requirement already satisfied: eerepr>=0.0.4 in /usr/local/lib/python3.10/dist-packages (from geemap) (0.0.4)\n",
            "Requirement already satisfied: folium>=0.13.0 in /usr/local/lib/python3.10/dist-packages (from geemap) (0.14.0)\n",
            "Requirement already satisfied: geocoder in /usr/local/lib/python3.10/dist-packages (from geemap) (1.38.1)\n",
            "Requirement already satisfied: ipyevents in /usr/local/lib/python3.10/dist-packages (from geemap) (2.0.2)\n",
            "Requirement already satisfied: ipyfilechooser>=0.6.0 in /usr/local/lib/python3.10/dist-packages (from geemap) (0.6.0)\n",
            "Requirement already satisfied: ipyleaflet>=0.17.0 in /usr/local/lib/python3.10/dist-packages (from geemap) (0.18.2)\n",
            "Requirement already satisfied: ipytree in /usr/local/lib/python3.10/dist-packages (from geemap) (0.2.2)\n",
            "Requirement already satisfied: matplotlib in /usr/local/lib/python3.10/dist-packages (from geemap) (3.7.1)\n",
            "Requirement already satisfied: numpy in /usr/local/lib/python3.10/dist-packages (from geemap) (1.25.2)\n",
            "Requirement already satisfied: pandas in /usr/local/lib/python3.10/dist-packages (from geemap) (1.5.3)\n",
            "Requirement already satisfied: plotly in /usr/local/lib/python3.10/dist-packages (from geemap) (5.15.0)\n",
            "Requirement already satisfied: pyperclip in /usr/local/lib/python3.10/dist-packages (from geemap) (1.8.2)\n",
            "Requirement already satisfied: pyshp>=2.1.3 in /usr/local/lib/python3.10/dist-packages (from geemap) (2.3.1)\n",
            "Requirement already satisfied: python-box in /usr/local/lib/python3.10/dist-packages (from geemap) (7.1.1)\n",
            "Requirement already satisfied: scooby in /usr/local/lib/python3.10/dist-packages (from geemap) (0.9.2)\n",
            "Requirement already satisfied: google-cloud-storage in /usr/local/lib/python3.10/dist-packages (from earthengine-api>=0.1.347->geemap) (2.8.0)\n",
            "Requirement already satisfied: google-api-python-client>=1.12.1 in /usr/local/lib/python3.10/dist-packages (from earthengine-api>=0.1.347->geemap) (2.84.0)\n",
            "Requirement already satisfied: google-auth>=1.4.1 in /usr/local/lib/python3.10/dist-packages (from earthengine-api>=0.1.347->geemap) (2.27.0)\n",
            "Requirement already satisfied: google-auth-httplib2>=0.0.3 in /usr/local/lib/python3.10/dist-packages (from earthengine-api>=0.1.347->geemap) (0.1.1)\n",
            "Requirement already satisfied: httplib2<1dev,>=0.9.2 in /usr/local/lib/python3.10/dist-packages (from earthengine-api>=0.1.347->geemap) (0.22.0)\n",
            "Requirement already satisfied: requests in /usr/local/lib/python3.10/dist-packages (from earthengine-api>=0.1.347->geemap) (2.31.0)\n",
            "Requirement already satisfied: branca>=0.6.0 in /usr/local/lib/python3.10/dist-packages (from folium>=0.13.0->geemap) (0.7.1)\n",
            "Requirement already satisfied: jinja2>=2.9 in /usr/local/lib/python3.10/dist-packages (from folium>=0.13.0->geemap) (3.1.3)\n",
            "Requirement already satisfied: ipywidgets in /usr/local/lib/python3.10/dist-packages (from ipyfilechooser>=0.6.0->geemap) (7.7.1)\n",
            "Requirement already satisfied: traittypes<3,>=0.2.1 in /usr/local/lib/python3.10/dist-packages (from ipyleaflet>=0.17.0->geemap) (0.2.1)\n",
            "Requirement already satisfied: xyzservices>=2021.8.1 in /usr/local/lib/python3.10/dist-packages (from ipyleaflet>=0.17.0->geemap) (2023.10.1)\n",
            "Requirement already satisfied: traitlets>=4.3.0 in /usr/local/lib/python3.10/dist-packages (from bqplot->geemap) (5.7.1)\n",
            "Requirement already satisfied: python-dateutil>=2.8.1 in /usr/local/lib/python3.10/dist-packages (from pandas->geemap) (2.8.2)\n",
            "Requirement already satisfied: pytz>=2020.1 in /usr/local/lib/python3.10/dist-packages (from pandas->geemap) (2023.4)\n",
            "Requirement already satisfied: click in /usr/local/lib/python3.10/dist-packages (from geocoder->geemap) (8.1.7)\n",
            "Requirement already satisfied: future in /usr/local/lib/python3.10/dist-packages (from geocoder->geemap) (0.18.3)\n",
            "Requirement already satisfied: ratelim in /usr/local/lib/python3.10/dist-packages (from geocoder->geemap) (0.1.6)\n",
            "Requirement already satisfied: six in /usr/local/lib/python3.10/dist-packages (from geocoder->geemap) (1.16.0)\n",
            "Requirement already satisfied: contourpy>=1.0.1 in /usr/local/lib/python3.10/dist-packages (from matplotlib->geemap) (1.2.0)\n",
            "Requirement already satisfied: cycler>=0.10 in /usr/local/lib/python3.10/dist-packages (from matplotlib->geemap) (0.12.1)\n",
            "Requirement already satisfied: fonttools>=4.22.0 in /usr/local/lib/python3.10/dist-packages (from matplotlib->geemap) (4.48.1)\n",
            "Requirement already satisfied: kiwisolver>=1.0.1 in /usr/local/lib/python3.10/dist-packages (from matplotlib->geemap) (1.4.5)\n",
            "Requirement already satisfied: packaging>=20.0 in /usr/local/lib/python3.10/dist-packages (from matplotlib->geemap) (23.2)\n",
            "Requirement already satisfied: pillow>=6.2.0 in /usr/local/lib/python3.10/dist-packages (from matplotlib->geemap) (9.4.0)\n",
            "Requirement already satisfied: pyparsing>=2.3.1 in /usr/local/lib/python3.10/dist-packages (from matplotlib->geemap) (3.1.1)\n",
            "Requirement already satisfied: tenacity>=6.2.0 in /usr/local/lib/python3.10/dist-packages (from plotly->geemap) (8.2.3)\n",
            "Requirement already satisfied: google-api-core!=2.0.*,!=2.1.*,!=2.2.*,!=2.3.0,<3.0.0dev,>=1.31.5 in /usr/local/lib/python3.10/dist-packages (from google-api-python-client>=1.12.1->earthengine-api>=0.1.347->geemap) (2.11.1)\n",
            "Requirement already satisfied: uritemplate<5,>=3.0.1 in /usr/local/lib/python3.10/dist-packages (from google-api-python-client>=1.12.1->earthengine-api>=0.1.347->geemap) (4.1.1)\n",
            "Requirement already satisfied: cachetools<6.0,>=2.0.0 in /usr/local/lib/python3.10/dist-packages (from google-auth>=1.4.1->earthengine-api>=0.1.347->geemap) (5.3.2)\n",
            "Requirement already satisfied: pyasn1-modules>=0.2.1 in /usr/local/lib/python3.10/dist-packages (from google-auth>=1.4.1->earthengine-api>=0.1.347->geemap) (0.3.0)\n",
            "Requirement already satisfied: rsa<5,>=3.1.4 in /usr/local/lib/python3.10/dist-packages (from google-auth>=1.4.1->earthengine-api>=0.1.347->geemap) (4.9)\n",
            "Requirement already satisfied: ipykernel>=4.5.1 in /usr/local/lib/python3.10/dist-packages (from ipywidgets->ipyfilechooser>=0.6.0->geemap) (5.5.6)\n",
            "Requirement already satisfied: ipython-genutils~=0.2.0 in /usr/local/lib/python3.10/dist-packages (from ipywidgets->ipyfilechooser>=0.6.0->geemap) (0.2.0)\n",
            "Requirement already satisfied: widgetsnbextension~=3.6.0 in /usr/local/lib/python3.10/dist-packages (from ipywidgets->ipyfilechooser>=0.6.0->geemap) (3.6.6)\n",
            "Requirement already satisfied: ipython>=4.0.0 in /usr/local/lib/python3.10/dist-packages (from ipywidgets->ipyfilechooser>=0.6.0->geemap) (7.34.0)\n",
            "Requirement already satisfied: jupyterlab-widgets>=1.0.0 in /usr/local/lib/python3.10/dist-packages (from ipywidgets->ipyfilechooser>=0.6.0->geemap) (3.0.10)\n",
            "Requirement already satisfied: MarkupSafe>=2.0 in /usr/local/lib/python3.10/dist-packages (from jinja2>=2.9->folium>=0.13.0->geemap) (2.1.5)\n",
            "Requirement already satisfied: google-cloud-core<3.0dev,>=2.3.0 in /usr/local/lib/python3.10/dist-packages (from google-cloud-storage->earthengine-api>=0.1.347->geemap) (2.3.3)\n",
            "Requirement already satisfied: google-resumable-media>=2.3.2 in /usr/local/lib/python3.10/dist-packages (from google-cloud-storage->earthengine-api>=0.1.347->geemap) (2.7.0)\n",
            "Requirement already satisfied: charset-normalizer<4,>=2 in /usr/local/lib/python3.10/dist-packages (from requests->earthengine-api>=0.1.347->geemap) (3.3.2)\n",
            "Requirement already satisfied: idna<4,>=2.5 in /usr/local/lib/python3.10/dist-packages (from requests->earthengine-api>=0.1.347->geemap) (3.6)\n",
            "Requirement already satisfied: urllib3<3,>=1.21.1 in /usr/local/lib/python3.10/dist-packages (from requests->earthengine-api>=0.1.347->geemap) (2.0.7)\n",
            "Requirement already satisfied: certifi>=2017.4.17 in /usr/local/lib/python3.10/dist-packages (from requests->earthengine-api>=0.1.347->geemap) (2024.2.2)\n",
            "Requirement already satisfied: decorator in /usr/local/lib/python3.10/dist-packages (from ratelim->geocoder->geemap) (4.4.2)\n",
            "Requirement already satisfied: googleapis-common-protos<2.0.dev0,>=1.56.2 in /usr/local/lib/python3.10/dist-packages (from google-api-core!=2.0.*,!=2.1.*,!=2.2.*,!=2.3.0,<3.0.0dev,>=1.31.5->google-api-python-client>=1.12.1->earthengine-api>=0.1.347->geemap) (1.62.0)\n",
            "Requirement already satisfied: protobuf!=3.20.0,!=3.20.1,!=4.21.0,!=4.21.1,!=4.21.2,!=4.21.3,!=4.21.4,!=4.21.5,<5.0.0.dev0,>=3.19.5 in /usr/local/lib/python3.10/dist-packages (from google-api-core!=2.0.*,!=2.1.*,!=2.2.*,!=2.3.0,<3.0.0dev,>=1.31.5->google-api-python-client>=1.12.1->earthengine-api>=0.1.347->geemap) (3.20.3)\n",
            "Requirement already satisfied: google-crc32c<2.0dev,>=1.0 in /usr/local/lib/python3.10/dist-packages (from google-resumable-media>=2.3.2->google-cloud-storage->earthengine-api>=0.1.347->geemap) (1.5.0)\n",
            "Requirement already satisfied: jupyter-client in /usr/local/lib/python3.10/dist-packages (from ipykernel>=4.5.1->ipywidgets->ipyfilechooser>=0.6.0->geemap) (6.1.12)\n",
            "Requirement already satisfied: tornado>=4.2 in /usr/local/lib/python3.10/dist-packages (from ipykernel>=4.5.1->ipywidgets->ipyfilechooser>=0.6.0->geemap) (6.3.2)\n",
            "Requirement already satisfied: setuptools>=18.5 in /usr/local/lib/python3.10/dist-packages (from ipython>=4.0.0->ipywidgets->ipyfilechooser>=0.6.0->geemap) (67.7.2)\n",
            "Collecting jedi>=0.16 (from ipython>=4.0.0->ipywidgets->ipyfilechooser>=0.6.0->geemap)\n",
            "  Downloading jedi-0.19.1-py2.py3-none-any.whl (1.6 MB)\n",
            "\u001b[2K     \u001b[90m━━━━━━━━━━━━━━━━━━━━━━━━━━━━━━━━━━━━━━━━\u001b[0m \u001b[32m1.6/1.6 MB\u001b[0m \u001b[31m9.5 MB/s\u001b[0m eta \u001b[36m0:00:00\u001b[0m\n",
            "\u001b[?25hRequirement already satisfied: pickleshare in /usr/local/lib/python3.10/dist-packages (from ipython>=4.0.0->ipywidgets->ipyfilechooser>=0.6.0->geemap) (0.7.5)\n",
            "Requirement already satisfied: prompt-toolkit!=3.0.0,!=3.0.1,<3.1.0,>=2.0.0 in /usr/local/lib/python3.10/dist-packages (from ipython>=4.0.0->ipywidgets->ipyfilechooser>=0.6.0->geemap) (3.0.43)\n",
            "Requirement already satisfied: pygments in /usr/local/lib/python3.10/dist-packages (from ipython>=4.0.0->ipywidgets->ipyfilechooser>=0.6.0->geemap) (2.16.1)\n",
            "Requirement already satisfied: backcall in /usr/local/lib/python3.10/dist-packages (from ipython>=4.0.0->ipywidgets->ipyfilechooser>=0.6.0->geemap) (0.2.0)\n",
            "Requirement already satisfied: matplotlib-inline in /usr/local/lib/python3.10/dist-packages (from ipython>=4.0.0->ipywidgets->ipyfilechooser>=0.6.0->geemap) (0.1.6)\n",
            "Requirement already satisfied: pexpect>4.3 in /usr/local/lib/python3.10/dist-packages (from ipython>=4.0.0->ipywidgets->ipyfilechooser>=0.6.0->geemap) (4.9.0)\n",
            "Requirement already satisfied: pyasn1<0.6.0,>=0.4.6 in /usr/local/lib/python3.10/dist-packages (from pyasn1-modules>=0.2.1->google-auth>=1.4.1->earthengine-api>=0.1.347->geemap) (0.5.1)\n",
            "Requirement already satisfied: notebook>=4.4.1 in /usr/local/lib/python3.10/dist-packages (from widgetsnbextension~=3.6.0->ipywidgets->ipyfilechooser>=0.6.0->geemap) (6.5.5)\n",
            "Requirement already satisfied: parso<0.9.0,>=0.8.3 in /usr/local/lib/python3.10/dist-packages (from jedi>=0.16->ipython>=4.0.0->ipywidgets->ipyfilechooser>=0.6.0->geemap) (0.8.3)\n",
            "Requirement already satisfied: pyzmq<25,>=17 in /usr/local/lib/python3.10/dist-packages (from notebook>=4.4.1->widgetsnbextension~=3.6.0->ipywidgets->ipyfilechooser>=0.6.0->geemap) (23.2.1)\n",
            "Requirement already satisfied: argon2-cffi in /usr/local/lib/python3.10/dist-packages (from notebook>=4.4.1->widgetsnbextension~=3.6.0->ipywidgets->ipyfilechooser>=0.6.0->geemap) (23.1.0)\n",
            "Requirement already satisfied: jupyter-core>=4.6.1 in /usr/local/lib/python3.10/dist-packages (from notebook>=4.4.1->widgetsnbextension~=3.6.0->ipywidgets->ipyfilechooser>=0.6.0->geemap) (5.7.1)\n",
            "Requirement already satisfied: nbformat in /usr/local/lib/python3.10/dist-packages (from notebook>=4.4.1->widgetsnbextension~=3.6.0->ipywidgets->ipyfilechooser>=0.6.0->geemap) (5.9.2)\n",
            "Requirement already satisfied: nbconvert>=5 in /usr/local/lib/python3.10/dist-packages (from notebook>=4.4.1->widgetsnbextension~=3.6.0->ipywidgets->ipyfilechooser>=0.6.0->geemap) (6.5.4)\n",
            "Requirement already satisfied: nest-asyncio>=1.5 in /usr/local/lib/python3.10/dist-packages (from notebook>=4.4.1->widgetsnbextension~=3.6.0->ipywidgets->ipyfilechooser>=0.6.0->geemap) (1.6.0)\n",
            "Requirement already satisfied: Send2Trash>=1.8.0 in /usr/local/lib/python3.10/dist-packages (from notebook>=4.4.1->widgetsnbextension~=3.6.0->ipywidgets->ipyfilechooser>=0.6.0->geemap) (1.8.2)\n",
            "Requirement already satisfied: terminado>=0.8.3 in /usr/local/lib/python3.10/dist-packages (from notebook>=4.4.1->widgetsnbextension~=3.6.0->ipywidgets->ipyfilechooser>=0.6.0->geemap) (0.18.0)\n",
            "Requirement already satisfied: prometheus-client in /usr/local/lib/python3.10/dist-packages (from notebook>=4.4.1->widgetsnbextension~=3.6.0->ipywidgets->ipyfilechooser>=0.6.0->geemap) (0.19.0)\n",
            "Requirement already satisfied: nbclassic>=0.4.7 in /usr/local/lib/python3.10/dist-packages (from notebook>=4.4.1->widgetsnbextension~=3.6.0->ipywidgets->ipyfilechooser>=0.6.0->geemap) (1.0.0)\n",
            "Requirement already satisfied: ptyprocess>=0.5 in /usr/local/lib/python3.10/dist-packages (from pexpect>4.3->ipython>=4.0.0->ipywidgets->ipyfilechooser>=0.6.0->geemap) (0.7.0)\n",
            "Requirement already satisfied: wcwidth in /usr/local/lib/python3.10/dist-packages (from prompt-toolkit!=3.0.0,!=3.0.1,<3.1.0,>=2.0.0->ipython>=4.0.0->ipywidgets->ipyfilechooser>=0.6.0->geemap) (0.2.13)\n",
            "Requirement already satisfied: platformdirs>=2.5 in /usr/local/lib/python3.10/dist-packages (from jupyter-core>=4.6.1->notebook>=4.4.1->widgetsnbextension~=3.6.0->ipywidgets->ipyfilechooser>=0.6.0->geemap) (4.2.0)\n",
            "Requirement already satisfied: jupyter-server>=1.8 in /usr/local/lib/python3.10/dist-packages (from nbclassic>=0.4.7->notebook>=4.4.1->widgetsnbextension~=3.6.0->ipywidgets->ipyfilechooser>=0.6.0->geemap) (1.24.0)\n",
            "Requirement already satisfied: notebook-shim>=0.2.3 in /usr/local/lib/python3.10/dist-packages (from nbclassic>=0.4.7->notebook>=4.4.1->widgetsnbextension~=3.6.0->ipywidgets->ipyfilechooser>=0.6.0->geemap) (0.2.3)\n",
            "Requirement already satisfied: lxml in /usr/local/lib/python3.10/dist-packages (from nbconvert>=5->notebook>=4.4.1->widgetsnbextension~=3.6.0->ipywidgets->ipyfilechooser>=0.6.0->geemap) (4.9.4)\n",
            "Requirement already satisfied: beautifulsoup4 in /usr/local/lib/python3.10/dist-packages (from nbconvert>=5->notebook>=4.4.1->widgetsnbextension~=3.6.0->ipywidgets->ipyfilechooser>=0.6.0->geemap) (4.12.3)\n",
            "Requirement already satisfied: bleach in /usr/local/lib/python3.10/dist-packages (from nbconvert>=5->notebook>=4.4.1->widgetsnbextension~=3.6.0->ipywidgets->ipyfilechooser>=0.6.0->geemap) (6.1.0)\n",
            "Requirement already satisfied: defusedxml in /usr/local/lib/python3.10/dist-packages (from nbconvert>=5->notebook>=4.4.1->widgetsnbextension~=3.6.0->ipywidgets->ipyfilechooser>=0.6.0->geemap) (0.7.1)\n",
            "Requirement already satisfied: entrypoints>=0.2.2 in /usr/local/lib/python3.10/dist-packages (from nbconvert>=5->notebook>=4.4.1->widgetsnbextension~=3.6.0->ipywidgets->ipyfilechooser>=0.6.0->geemap) (0.4)\n",
            "Requirement already satisfied: jupyterlab-pygments in /usr/local/lib/python3.10/dist-packages (from nbconvert>=5->notebook>=4.4.1->widgetsnbextension~=3.6.0->ipywidgets->ipyfilechooser>=0.6.0->geemap) (0.3.0)\n",
            "Requirement already satisfied: mistune<2,>=0.8.1 in /usr/local/lib/python3.10/dist-packages (from nbconvert>=5->notebook>=4.4.1->widgetsnbextension~=3.6.0->ipywidgets->ipyfilechooser>=0.6.0->geemap) (0.8.4)\n",
            "Requirement already satisfied: nbclient>=0.5.0 in /usr/local/lib/python3.10/dist-packages (from nbconvert>=5->notebook>=4.4.1->widgetsnbextension~=3.6.0->ipywidgets->ipyfilechooser>=0.6.0->geemap) (0.9.0)\n",
            "Requirement already satisfied: pandocfilters>=1.4.1 in /usr/local/lib/python3.10/dist-packages (from nbconvert>=5->notebook>=4.4.1->widgetsnbextension~=3.6.0->ipywidgets->ipyfilechooser>=0.6.0->geemap) (1.5.1)\n",
            "Requirement already satisfied: tinycss2 in /usr/local/lib/python3.10/dist-packages (from nbconvert>=5->notebook>=4.4.1->widgetsnbextension~=3.6.0->ipywidgets->ipyfilechooser>=0.6.0->geemap) (1.2.1)\n",
            "Requirement already satisfied: fastjsonschema in /usr/local/lib/python3.10/dist-packages (from nbformat->notebook>=4.4.1->widgetsnbextension~=3.6.0->ipywidgets->ipyfilechooser>=0.6.0->geemap) (2.19.1)\n",
            "Requirement already satisfied: jsonschema>=2.6 in /usr/local/lib/python3.10/dist-packages (from nbformat->notebook>=4.4.1->widgetsnbextension~=3.6.0->ipywidgets->ipyfilechooser>=0.6.0->geemap) (4.19.2)\n",
            "Requirement already satisfied: argon2-cffi-bindings in /usr/local/lib/python3.10/dist-packages (from argon2-cffi->notebook>=4.4.1->widgetsnbextension~=3.6.0->ipywidgets->ipyfilechooser>=0.6.0->geemap) (21.2.0)\n",
            "Requirement already satisfied: attrs>=22.2.0 in /usr/local/lib/python3.10/dist-packages (from jsonschema>=2.6->nbformat->notebook>=4.4.1->widgetsnbextension~=3.6.0->ipywidgets->ipyfilechooser>=0.6.0->geemap) (23.2.0)\n",
            "Requirement already satisfied: jsonschema-specifications>=2023.03.6 in /usr/local/lib/python3.10/dist-packages (from jsonschema>=2.6->nbformat->notebook>=4.4.1->widgetsnbextension~=3.6.0->ipywidgets->ipyfilechooser>=0.6.0->geemap) (2023.12.1)\n",
            "Requirement already satisfied: referencing>=0.28.4 in /usr/local/lib/python3.10/dist-packages (from jsonschema>=2.6->nbformat->notebook>=4.4.1->widgetsnbextension~=3.6.0->ipywidgets->ipyfilechooser>=0.6.0->geemap) (0.33.0)\n",
            "Requirement already satisfied: rpds-py>=0.7.1 in /usr/local/lib/python3.10/dist-packages (from jsonschema>=2.6->nbformat->notebook>=4.4.1->widgetsnbextension~=3.6.0->ipywidgets->ipyfilechooser>=0.6.0->geemap) (0.17.1)\n",
            "Requirement already satisfied: anyio<4,>=3.1.0 in /usr/local/lib/python3.10/dist-packages (from jupyter-server>=1.8->nbclassic>=0.4.7->notebook>=4.4.1->widgetsnbextension~=3.6.0->ipywidgets->ipyfilechooser>=0.6.0->geemap) (3.7.1)\n",
            "Requirement already satisfied: websocket-client in /usr/local/lib/python3.10/dist-packages (from jupyter-server>=1.8->nbclassic>=0.4.7->notebook>=4.4.1->widgetsnbextension~=3.6.0->ipywidgets->ipyfilechooser>=0.6.0->geemap) (1.7.0)\n",
            "Requirement already satisfied: cffi>=1.0.1 in /usr/local/lib/python3.10/dist-packages (from argon2-cffi-bindings->argon2-cffi->notebook>=4.4.1->widgetsnbextension~=3.6.0->ipywidgets->ipyfilechooser>=0.6.0->geemap) (1.16.0)\n",
            "Requirement already satisfied: soupsieve>1.2 in /usr/local/lib/python3.10/dist-packages (from beautifulsoup4->nbconvert>=5->notebook>=4.4.1->widgetsnbextension~=3.6.0->ipywidgets->ipyfilechooser>=0.6.0->geemap) (2.5)\n",
            "Requirement already satisfied: webencodings in /usr/local/lib/python3.10/dist-packages (from bleach->nbconvert>=5->notebook>=4.4.1->widgetsnbextension~=3.6.0->ipywidgets->ipyfilechooser>=0.6.0->geemap) (0.5.1)\n",
            "Requirement already satisfied: sniffio>=1.1 in /usr/local/lib/python3.10/dist-packages (from anyio<4,>=3.1.0->jupyter-server>=1.8->nbclassic>=0.4.7->notebook>=4.4.1->widgetsnbextension~=3.6.0->ipywidgets->ipyfilechooser>=0.6.0->geemap) (1.3.0)\n",
            "Requirement already satisfied: exceptiongroup in /usr/local/lib/python3.10/dist-packages (from anyio<4,>=3.1.0->jupyter-server>=1.8->nbclassic>=0.4.7->notebook>=4.4.1->widgetsnbextension~=3.6.0->ipywidgets->ipyfilechooser>=0.6.0->geemap) (1.2.0)\n",
            "Requirement already satisfied: pycparser in /usr/local/lib/python3.10/dist-packages (from cffi>=1.0.1->argon2-cffi-bindings->argon2-cffi->notebook>=4.4.1->widgetsnbextension~=3.6.0->ipywidgets->ipyfilechooser>=0.6.0->geemap) (2.21)\n",
            "Installing collected packages: jedi\n",
            "Successfully installed jedi-0.19.1\n",
            "Collecting timedelta\n",
            "  Downloading timedelta-2020.12.3.tar.gz (1.6 kB)\n",
            "  Preparing metadata (setup.py) ... \u001b[?25l\u001b[?25hdone\n",
            "Building wheels for collected packages: timedelta\n",
            "  Building wheel for timedelta (setup.py) ... \u001b[?25l\u001b[?25hdone\n",
            "  Created wheel for timedelta: filename=timedelta-2020.12.3-py3-none-any.whl size=1554 sha256=a63532f1edacd1b905dd7df67b33122436dbdba6f82fd37525686fadbdf98a86\n",
            "  Stored in directory: /root/.cache/pip/wheels/be/c0/1f/843bd73679dc7dfb26758c4effc6e273d3eebf2da2a35082b1\n",
            "Successfully built timedelta\n",
            "Installing collected packages: timedelta\n",
            "Successfully installed timedelta-2020.12.3\n"
          ]
        }
      ]
    },
    {
      "cell_type": "code",
      "execution_count": 45,
      "metadata": {
        "collapsed": true,
        "id": "MNZna2UJf_ch",
        "outputId": "aceb7c8e-da2d-41d8-9f0c-d89e6cc13871",
        "colab": {
          "base_uri": "https://localhost:8080/",
          "height": 17
        }
      },
      "outputs": [
        {
          "output_type": "display_data",
          "data": {
            "text/plain": [
              "<IPython.core.display.HTML object>"
            ],
            "text/html": [
              "\n",
              "            <style>\n",
              "                .geemap-dark {\n",
              "                    --jp-widgets-color: white;\n",
              "                    --jp-widgets-label-color: white;\n",
              "                    --jp-ui-font-color1: white;\n",
              "                    --jp-layout-color2: #454545;\n",
              "                    background-color: #383838;\n",
              "                }\n",
              "                    \n",
              "                .geemap-dark .jupyter-button {\n",
              "                    --jp-layout-color3: #383838;\n",
              "                }\n",
              "                \n",
              "                .geemap-colab {\n",
              "                    background-color: var(--colab-primary-surface-color, white);\n",
              "                }\n",
              "                    \n",
              "                .geemap-colab .jupyter-button {\n",
              "                    --jp-layout-color3: var(--colab-primary-surface-color, white);\n",
              "                }\n",
              "            </style>\n",
              "            "
            ]
          },
          "metadata": {}
        }
      ],
      "source": [
        "import ee\n",
        "import time\n",
        "import geemap\n",
        "import datetime\n",
        "import numpy as np\n",
        "import pandas as pd\n",
        "from datetime import datetime, timedelta\n",
        "from pyproj import Transformer, Proj, transform\n",
        "from dateutil.relativedelta import relativedelta"
      ]
    },
    {
      "cell_type": "markdown",
      "source": [
        "# **1. Autorizar e inicializar Earth Engine**\n",
        "#### _Autenticar e inicializar la API de Google Earth Engine (GEE)._\n",
        "\n",
        "\n",
        "\n",
        "\n",
        "- Conecte e inicialice con tu cuenta de earth engine y proyecto."
      ],
      "metadata": {
        "id": "gLMYjSSaB6Oi"
      }
    },
    {
      "cell_type": "code",
      "source": [
        "ee.Authenticate(auth_mode=\"notebook\")\n",
        "ee.Initialize()"
      ],
      "metadata": {
        "id": "Rk7FOpOkgIyg",
        "collapsed": true,
        "outputId": "6ef322f3-7061-43fd-a7ff-3c69b63094a1",
        "colab": {
          "base_uri": "https://localhost:8080/",
          "height": 185
        }
      },
      "execution_count": 3,
      "outputs": [
        {
          "data": {
            "text/html": [
              "\n",
              "            <style>\n",
              "                .geemap-dark {\n",
              "                    --jp-widgets-color: white;\n",
              "                    --jp-widgets-label-color: white;\n",
              "                    --jp-ui-font-color1: white;\n",
              "                    --jp-layout-color2: #454545;\n",
              "                    background-color: #383838;\n",
              "                }\n",
              "                    \n",
              "                .geemap-dark .jupyter-button {\n",
              "                    --jp-layout-color3: #383838;\n",
              "                }\n",
              "                \n",
              "                .geemap-colab {\n",
              "                    background-color: var(--colab-primary-surface-color, white);\n",
              "                }\n",
              "                    \n",
              "                .geemap-colab .jupyter-button {\n",
              "                    --jp-layout-color3: var(--colab-primary-surface-color, white);\n",
              "                }\n",
              "            </style>\n",
              "            "
            ],
            "text/plain": [
              "<IPython.core.display.HTML object>"
            ]
          },
          "metadata": {},
          "output_type": "display_data"
        },
        {
          "output_type": "stream",
          "name": "stdout",
          "text": [
            "To authorize access needed by Earth Engine, open the following URL in a web browser and follow the instructions. If the web browser does not start automatically, please manually browse the URL below.\n",
            "\n",
            "    https://code.earthengine.google.com/client-auth?scopes=https%3A//www.googleapis.com/auth/earthengine%20https%3A//www.googleapis.com/auth/cloud-platform%20https%3A//www.googleapis.com/auth/devstorage.full_control&request_id=wz9oKilqz3_LHE8gVNcMZBGGPnI5QdvHKO3kLBx891M&tc=TswcRvmz9HVfHWl6wGvAupSVNrgn_w5429x0xA0hLeY&cc=31bqnR3mBTTu0Ihdgi9Uc9Q-7gKlMNqEzAkO5JNG6LA\n",
            "\n",
            "The authorization workflow will generate a code, which you should paste in the box below.\n",
            "Enter verification code: 4/1AeaYSHDzkbvhqqO5WLc2BPO8jg7qkdN0g4UVGc6poaZh__QmdrGOmJeWEyk\n",
            "\n",
            "Successfully saved authorization token.\n"
          ]
        }
      ]
    },
    {
      "cell_type": "markdown",
      "source": [
        "# **2. Cargar CSV**\n",
        "\n",
        "#### _Cargue el archivo CSV que contiene las coordenadas y analícelo para crear puntos._\n",
        "\n",
        "- Exporta tu hoja de cálculo con los vértices como csv. La integridad y uniformidad del documento original es importante. Si tiene dificultades en este paso, consulte el curso [aquí.](https://www.youtube.com/watch?v=uGx0PHD6o9M)\n",
        "\n",
        "- Al usar este cuaderno en colab. Habrá un panel a la izquierda. Si no estás en los archivos. Haga clic en el icono de la carpeta donde los botones están al ras de la pantalla. Ahora donde dice \"Archivos\", haz clic en el ícono de archivo con una flecha en el medio y sube tus vértices. Alternativamente, puede arrastrar y soltar en el panel de archivos."
      ],
      "metadata": {
        "id": "1FPEd4NJCAn3"
      }
    },
    {
      "cell_type": "code",
      "source": [
        "# @title\n",
        "csv_viaje = 'imazacoord_NOppi.csv'  # Una vez que haya cargado su archivo, en esta línea cambie el nombre por el nombre del archivo que cargó con la extensión.\n",
        "df = pd.read_csv(csv_viaje)"
      ],
      "metadata": {
        "id": "shNomv3DB4AB",
        "outputId": "512f7088-f784-4fe7-c91e-3296cd48933f",
        "colab": {
          "base_uri": "https://localhost:8080/",
          "height": 17
        }
      },
      "execution_count": 7,
      "outputs": [
        {
          "output_type": "display_data",
          "data": {
            "text/plain": [
              "<IPython.core.display.HTML object>"
            ],
            "text/html": [
              "\n",
              "            <style>\n",
              "                .geemap-dark {\n",
              "                    --jp-widgets-color: white;\n",
              "                    --jp-widgets-label-color: white;\n",
              "                    --jp-ui-font-color1: white;\n",
              "                    --jp-layout-color2: #454545;\n",
              "                    background-color: #383838;\n",
              "                }\n",
              "                    \n",
              "                .geemap-dark .jupyter-button {\n",
              "                    --jp-layout-color3: #383838;\n",
              "                }\n",
              "                \n",
              "                .geemap-colab {\n",
              "                    background-color: var(--colab-primary-surface-color, white);\n",
              "                }\n",
              "                    \n",
              "                .geemap-colab .jupyter-button {\n",
              "                    --jp-layout-color3: var(--colab-primary-surface-color, white);\n",
              "                }\n",
              "            </style>\n",
              "            "
            ]
          },
          "metadata": {}
        }
      ]
    },
    {
      "cell_type": "code",
      "source": [
        "# @title\n",
        "df.head()"
      ],
      "metadata": {
        "id": "z7MnMH6ybA07",
        "outputId": "d028ff07-eb08-402c-99d0-dc50ec263001",
        "colab": {
          "base_uri": "https://localhost:8080/",
          "height": 206
        }
      },
      "execution_count": 8,
      "outputs": [
        {
          "output_type": "display_data",
          "data": {
            "text/plain": [
              "<IPython.core.display.HTML object>"
            ],
            "text/html": [
              "\n",
              "            <style>\n",
              "                .geemap-dark {\n",
              "                    --jp-widgets-color: white;\n",
              "                    --jp-widgets-label-color: white;\n",
              "                    --jp-ui-font-color1: white;\n",
              "                    --jp-layout-color2: #454545;\n",
              "                    background-color: #383838;\n",
              "                }\n",
              "                    \n",
              "                .geemap-dark .jupyter-button {\n",
              "                    --jp-layout-color3: #383838;\n",
              "                }\n",
              "                \n",
              "                .geemap-colab {\n",
              "                    background-color: var(--colab-primary-surface-color, white);\n",
              "                }\n",
              "                    \n",
              "                .geemap-colab .jupyter-button {\n",
              "                    --jp-layout-color3: var(--colab-primary-surface-color, white);\n",
              "                }\n",
              "            </style>\n",
              "            "
            ]
          },
          "metadata": {}
        },
        {
          "output_type": "execute_result",
          "data": {
            "text/plain": [
              "             NCONTRA                           NOMTIT       NUMRUC  \\\n",
              "0  16-IQU/C-J-105-04  INDUSTRIAL MADERERA ZAPOTE S.A.  20103979529   \n",
              "1  16-IQU/C-J-105-04  INDUSTRIAL MADERERA ZAPOTE S.A.  20103979529   \n",
              "2  16-IQU/C-J-105-04  INDUSTRIAL MADERERA ZAPOTE S.A.  20103979529   \n",
              "3  16-IQU/C-J-105-04  INDUSTRIAL MADERERA ZAPOTE S.A.  20103979529   \n",
              "4  16-IQU/C-J-105-04  INDUSTRIAL MADERERA ZAPOTE S.A.  20103979529   \n",
              "\n",
              "                                     RESAPR       ESTE       NORTE  VERTICE  \n",
              "0  RSD N° 019-2012-GRL-GGR-PRMRFFS-DER-SDPM  643560.25  9530613.00        1  \n",
              "1  RSD N° 019-2012-GRL-GGR-PRMRFFS-DER-SDPM  643560.25  9527597.60        2  \n",
              "2  RSD N° 019-2012-GRL-GGR-PRMRFFS-DER-SDPM  641579.82  9528512.95        3  \n",
              "3  RSD N° 019-2012-GRL-GGR-PRMRFFS-DER-SDPM  640464.65  9528511.51        4  \n",
              "4  RSD N° 019-2012-GRL-GGR-PRMRFFS-DER-SDPM  638560.25  9526722.71        5  "
            ],
            "text/html": [
              "\n",
              "  <div id=\"df-91e1b5da-6ccd-478a-9529-4dc84a2fb403\" class=\"colab-df-container\">\n",
              "    <div>\n",
              "<style scoped>\n",
              "    .dataframe tbody tr th:only-of-type {\n",
              "        vertical-align: middle;\n",
              "    }\n",
              "\n",
              "    .dataframe tbody tr th {\n",
              "        vertical-align: top;\n",
              "    }\n",
              "\n",
              "    .dataframe thead th {\n",
              "        text-align: right;\n",
              "    }\n",
              "</style>\n",
              "<table border=\"1\" class=\"dataframe\">\n",
              "  <thead>\n",
              "    <tr style=\"text-align: right;\">\n",
              "      <th></th>\n",
              "      <th>NCONTRA</th>\n",
              "      <th>NOMTIT</th>\n",
              "      <th>NUMRUC</th>\n",
              "      <th>RESAPR</th>\n",
              "      <th>ESTE</th>\n",
              "      <th>NORTE</th>\n",
              "      <th>VERTICE</th>\n",
              "    </tr>\n",
              "  </thead>\n",
              "  <tbody>\n",
              "    <tr>\n",
              "      <th>0</th>\n",
              "      <td>16-IQU/C-J-105-04</td>\n",
              "      <td>INDUSTRIAL MADERERA ZAPOTE S.A.</td>\n",
              "      <td>20103979529</td>\n",
              "      <td>RSD N° 019-2012-GRL-GGR-PRMRFFS-DER-SDPM</td>\n",
              "      <td>643560.25</td>\n",
              "      <td>9530613.00</td>\n",
              "      <td>1</td>\n",
              "    </tr>\n",
              "    <tr>\n",
              "      <th>1</th>\n",
              "      <td>16-IQU/C-J-105-04</td>\n",
              "      <td>INDUSTRIAL MADERERA ZAPOTE S.A.</td>\n",
              "      <td>20103979529</td>\n",
              "      <td>RSD N° 019-2012-GRL-GGR-PRMRFFS-DER-SDPM</td>\n",
              "      <td>643560.25</td>\n",
              "      <td>9527597.60</td>\n",
              "      <td>2</td>\n",
              "    </tr>\n",
              "    <tr>\n",
              "      <th>2</th>\n",
              "      <td>16-IQU/C-J-105-04</td>\n",
              "      <td>INDUSTRIAL MADERERA ZAPOTE S.A.</td>\n",
              "      <td>20103979529</td>\n",
              "      <td>RSD N° 019-2012-GRL-GGR-PRMRFFS-DER-SDPM</td>\n",
              "      <td>641579.82</td>\n",
              "      <td>9528512.95</td>\n",
              "      <td>3</td>\n",
              "    </tr>\n",
              "    <tr>\n",
              "      <th>3</th>\n",
              "      <td>16-IQU/C-J-105-04</td>\n",
              "      <td>INDUSTRIAL MADERERA ZAPOTE S.A.</td>\n",
              "      <td>20103979529</td>\n",
              "      <td>RSD N° 019-2012-GRL-GGR-PRMRFFS-DER-SDPM</td>\n",
              "      <td>640464.65</td>\n",
              "      <td>9528511.51</td>\n",
              "      <td>4</td>\n",
              "    </tr>\n",
              "    <tr>\n",
              "      <th>4</th>\n",
              "      <td>16-IQU/C-J-105-04</td>\n",
              "      <td>INDUSTRIAL MADERERA ZAPOTE S.A.</td>\n",
              "      <td>20103979529</td>\n",
              "      <td>RSD N° 019-2012-GRL-GGR-PRMRFFS-DER-SDPM</td>\n",
              "      <td>638560.25</td>\n",
              "      <td>9526722.71</td>\n",
              "      <td>5</td>\n",
              "    </tr>\n",
              "  </tbody>\n",
              "</table>\n",
              "</div>\n",
              "    <div class=\"colab-df-buttons\">\n",
              "\n",
              "  <div class=\"colab-df-container\">\n",
              "    <button class=\"colab-df-convert\" onclick=\"convertToInteractive('df-91e1b5da-6ccd-478a-9529-4dc84a2fb403')\"\n",
              "            title=\"Convert this dataframe to an interactive table.\"\n",
              "            style=\"display:none;\">\n",
              "\n",
              "  <svg xmlns=\"http://www.w3.org/2000/svg\" height=\"24px\" viewBox=\"0 -960 960 960\">\n",
              "    <path d=\"M120-120v-720h720v720H120Zm60-500h600v-160H180v160Zm220 220h160v-160H400v160Zm0 220h160v-160H400v160ZM180-400h160v-160H180v160Zm440 0h160v-160H620v160ZM180-180h160v-160H180v160Zm440 0h160v-160H620v160Z\"/>\n",
              "  </svg>\n",
              "    </button>\n",
              "\n",
              "  <style>\n",
              "    .colab-df-container {\n",
              "      display:flex;\n",
              "      gap: 12px;\n",
              "    }\n",
              "\n",
              "    .colab-df-convert {\n",
              "      background-color: #E8F0FE;\n",
              "      border: none;\n",
              "      border-radius: 50%;\n",
              "      cursor: pointer;\n",
              "      display: none;\n",
              "      fill: #1967D2;\n",
              "      height: 32px;\n",
              "      padding: 0 0 0 0;\n",
              "      width: 32px;\n",
              "    }\n",
              "\n",
              "    .colab-df-convert:hover {\n",
              "      background-color: #E2EBFA;\n",
              "      box-shadow: 0px 1px 2px rgba(60, 64, 67, 0.3), 0px 1px 3px 1px rgba(60, 64, 67, 0.15);\n",
              "      fill: #174EA6;\n",
              "    }\n",
              "\n",
              "    .colab-df-buttons div {\n",
              "      margin-bottom: 4px;\n",
              "    }\n",
              "\n",
              "    [theme=dark] .colab-df-convert {\n",
              "      background-color: #3B4455;\n",
              "      fill: #D2E3FC;\n",
              "    }\n",
              "\n",
              "    [theme=dark] .colab-df-convert:hover {\n",
              "      background-color: #434B5C;\n",
              "      box-shadow: 0px 1px 3px 1px rgba(0, 0, 0, 0.15);\n",
              "      filter: drop-shadow(0px 1px 2px rgba(0, 0, 0, 0.3));\n",
              "      fill: #FFFFFF;\n",
              "    }\n",
              "  </style>\n",
              "\n",
              "    <script>\n",
              "      const buttonEl =\n",
              "        document.querySelector('#df-91e1b5da-6ccd-478a-9529-4dc84a2fb403 button.colab-df-convert');\n",
              "      buttonEl.style.display =\n",
              "        google.colab.kernel.accessAllowed ? 'block' : 'none';\n",
              "\n",
              "      async function convertToInteractive(key) {\n",
              "        const element = document.querySelector('#df-91e1b5da-6ccd-478a-9529-4dc84a2fb403');\n",
              "        const dataTable =\n",
              "          await google.colab.kernel.invokeFunction('convertToInteractive',\n",
              "                                                    [key], {});\n",
              "        if (!dataTable) return;\n",
              "\n",
              "        const docLinkHtml = 'Like what you see? Visit the ' +\n",
              "          '<a target=\"_blank\" href=https://colab.research.google.com/notebooks/data_table.ipynb>data table notebook</a>'\n",
              "          + ' to learn more about interactive tables.';\n",
              "        element.innerHTML = '';\n",
              "        dataTable['output_type'] = 'display_data';\n",
              "        await google.colab.output.renderOutput(dataTable, element);\n",
              "        const docLink = document.createElement('div');\n",
              "        docLink.innerHTML = docLinkHtml;\n",
              "        element.appendChild(docLink);\n",
              "      }\n",
              "    </script>\n",
              "  </div>\n",
              "\n",
              "\n",
              "<div id=\"df-77c87e6a-b533-40f4-908c-eb039272ed76\">\n",
              "  <button class=\"colab-df-quickchart\" onclick=\"quickchart('df-77c87e6a-b533-40f4-908c-eb039272ed76')\"\n",
              "            title=\"Suggest charts\"\n",
              "            style=\"display:none;\">\n",
              "\n",
              "<svg xmlns=\"http://www.w3.org/2000/svg\" height=\"24px\"viewBox=\"0 0 24 24\"\n",
              "     width=\"24px\">\n",
              "    <g>\n",
              "        <path d=\"M19 3H5c-1.1 0-2 .9-2 2v14c0 1.1.9 2 2 2h14c1.1 0 2-.9 2-2V5c0-1.1-.9-2-2-2zM9 17H7v-7h2v7zm4 0h-2V7h2v10zm4 0h-2v-4h2v4z\"/>\n",
              "    </g>\n",
              "</svg>\n",
              "  </button>\n",
              "\n",
              "<style>\n",
              "  .colab-df-quickchart {\n",
              "      --bg-color: #E8F0FE;\n",
              "      --fill-color: #1967D2;\n",
              "      --hover-bg-color: #E2EBFA;\n",
              "      --hover-fill-color: #174EA6;\n",
              "      --disabled-fill-color: #AAA;\n",
              "      --disabled-bg-color: #DDD;\n",
              "  }\n",
              "\n",
              "  [theme=dark] .colab-df-quickchart {\n",
              "      --bg-color: #3B4455;\n",
              "      --fill-color: #D2E3FC;\n",
              "      --hover-bg-color: #434B5C;\n",
              "      --hover-fill-color: #FFFFFF;\n",
              "      --disabled-bg-color: #3B4455;\n",
              "      --disabled-fill-color: #666;\n",
              "  }\n",
              "\n",
              "  .colab-df-quickchart {\n",
              "    background-color: var(--bg-color);\n",
              "    border: none;\n",
              "    border-radius: 50%;\n",
              "    cursor: pointer;\n",
              "    display: none;\n",
              "    fill: var(--fill-color);\n",
              "    height: 32px;\n",
              "    padding: 0;\n",
              "    width: 32px;\n",
              "  }\n",
              "\n",
              "  .colab-df-quickchart:hover {\n",
              "    background-color: var(--hover-bg-color);\n",
              "    box-shadow: 0 1px 2px rgba(60, 64, 67, 0.3), 0 1px 3px 1px rgba(60, 64, 67, 0.15);\n",
              "    fill: var(--button-hover-fill-color);\n",
              "  }\n",
              "\n",
              "  .colab-df-quickchart-complete:disabled,\n",
              "  .colab-df-quickchart-complete:disabled:hover {\n",
              "    background-color: var(--disabled-bg-color);\n",
              "    fill: var(--disabled-fill-color);\n",
              "    box-shadow: none;\n",
              "  }\n",
              "\n",
              "  .colab-df-spinner {\n",
              "    border: 2px solid var(--fill-color);\n",
              "    border-color: transparent;\n",
              "    border-bottom-color: var(--fill-color);\n",
              "    animation:\n",
              "      spin 1s steps(1) infinite;\n",
              "  }\n",
              "\n",
              "  @keyframes spin {\n",
              "    0% {\n",
              "      border-color: transparent;\n",
              "      border-bottom-color: var(--fill-color);\n",
              "      border-left-color: var(--fill-color);\n",
              "    }\n",
              "    20% {\n",
              "      border-color: transparent;\n",
              "      border-left-color: var(--fill-color);\n",
              "      border-top-color: var(--fill-color);\n",
              "    }\n",
              "    30% {\n",
              "      border-color: transparent;\n",
              "      border-left-color: var(--fill-color);\n",
              "      border-top-color: var(--fill-color);\n",
              "      border-right-color: var(--fill-color);\n",
              "    }\n",
              "    40% {\n",
              "      border-color: transparent;\n",
              "      border-right-color: var(--fill-color);\n",
              "      border-top-color: var(--fill-color);\n",
              "    }\n",
              "    60% {\n",
              "      border-color: transparent;\n",
              "      border-right-color: var(--fill-color);\n",
              "    }\n",
              "    80% {\n",
              "      border-color: transparent;\n",
              "      border-right-color: var(--fill-color);\n",
              "      border-bottom-color: var(--fill-color);\n",
              "    }\n",
              "    90% {\n",
              "      border-color: transparent;\n",
              "      border-bottom-color: var(--fill-color);\n",
              "    }\n",
              "  }\n",
              "</style>\n",
              "\n",
              "  <script>\n",
              "    async function quickchart(key) {\n",
              "      const quickchartButtonEl =\n",
              "        document.querySelector('#' + key + ' button');\n",
              "      quickchartButtonEl.disabled = true;  // To prevent multiple clicks.\n",
              "      quickchartButtonEl.classList.add('colab-df-spinner');\n",
              "      try {\n",
              "        const charts = await google.colab.kernel.invokeFunction(\n",
              "            'suggestCharts', [key], {});\n",
              "      } catch (error) {\n",
              "        console.error('Error during call to suggestCharts:', error);\n",
              "      }\n",
              "      quickchartButtonEl.classList.remove('colab-df-spinner');\n",
              "      quickchartButtonEl.classList.add('colab-df-quickchart-complete');\n",
              "    }\n",
              "    (() => {\n",
              "      let quickchartButtonEl =\n",
              "        document.querySelector('#df-77c87e6a-b533-40f4-908c-eb039272ed76 button');\n",
              "      quickchartButtonEl.style.display =\n",
              "        google.colab.kernel.accessAllowed ? 'block' : 'none';\n",
              "    })();\n",
              "  </script>\n",
              "</div>\n",
              "\n",
              "    </div>\n",
              "  </div>\n"
            ],
            "application/vnd.google.colaboratory.intrinsic+json": {
              "type": "dataframe",
              "variable_name": "df",
              "summary": "{\n  \"name\": \"df\",\n  \"rows\": 127,\n  \"fields\": [\n    {\n      \"column\": \"NCONTRA\",\n      \"properties\": {\n        \"dtype\": \"category\",\n        \"samples\": [\n          \"16-IQU/C-J-105-04\"\n        ],\n        \"num_unique_values\": 1,\n        \"semantic_type\": \"\",\n        \"description\": \"\"\n      }\n    },\n    {\n      \"column\": \"NOMTIT\",\n      \"properties\": {\n        \"dtype\": \"category\",\n        \"samples\": [\n          \"INDUSTRIAL MADERERA ZAPOTE S.A.\"\n        ],\n        \"num_unique_values\": 1,\n        \"semantic_type\": \"\",\n        \"description\": \"\"\n      }\n    },\n    {\n      \"column\": \"NUMRUC\",\n      \"properties\": {\n        \"dtype\": \"number\",\n        \"std\": 0,\n        \"min\": 20103979529,\n        \"max\": 20103979529,\n        \"samples\": [\n          20103979529\n        ],\n        \"num_unique_values\": 1,\n        \"semantic_type\": \"\",\n        \"description\": \"\"\n      }\n    },\n    {\n      \"column\": \"RESAPR\",\n      \"properties\": {\n        \"dtype\": \"category\",\n        \"samples\": [\n          \"RSD N\\u00b0 019-2012-GRL-GGR-PRMRFFS-DER-SDPM\"\n        ],\n        \"num_unique_values\": 1,\n        \"semantic_type\": \"\",\n        \"description\": \"\"\n      }\n    },\n    {\n      \"column\": \"ESTE\",\n      \"properties\": {\n        \"dtype\": \"number\",\n        \"std\": 5468.181361623219,\n        \"min\": 633560.25,\n        \"max\": 655463.84,\n        \"samples\": [\n          649704.26\n        ],\n        \"num_unique_values\": 102,\n        \"semantic_type\": \"\",\n        \"description\": \"\"\n      }\n    },\n    {\n      \"column\": \"NORTE\",\n      \"properties\": {\n        \"dtype\": \"number\",\n        \"std\": 10071.448190166484,\n        \"min\": 9503776.08,\n        \"max\": 9539527.85,\n        \"samples\": [\n          9504672.02\n        ],\n        \"num_unique_values\": 116,\n        \"semantic_type\": \"\",\n        \"description\": \"\"\n      }\n    },\n    {\n      \"column\": \"VERTICE\",\n      \"properties\": {\n        \"dtype\": \"number\",\n        \"std\": 36,\n        \"min\": 1,\n        \"max\": 127,\n        \"samples\": [\n          27\n        ],\n        \"num_unique_values\": 127,\n        \"semantic_type\": \"\",\n        \"description\": \"\"\n      }\n    }\n  ]\n}"
            }
          },
          "metadata": {},
          "execution_count": 8
        }
      ]
    },
    {
      "cell_type": "code",
      "source": [
        "# Aquí necesitamos proyectar desde UTM 18S a WGS84 (el CRS utilizado por Earth Engine).\n",
        "transformer = Transformer.from_crs(\"epsg:32718\", \"epsg:4326\", always_xy=True)\n",
        "'''\n",
        "Tenga en cuenta que si sus coordenadas no están en UTM 18S,\n",
        "deberá consultar la documentación de pyproj y ajustar \"epsg:32718\"\n",
        "al epsg que utilizan sus coordenadas. Aquí está el sitio donde\n",
        "puedes encontrar esa información:\n",
        "https://pyproj4.github.io/pyproj/stable/api/crs/crs.html\n",
        "https://epsg.io/\n",
        "'''\n",
        "def utm_to_latlon(easting, northing):\n",
        "    # Dado que transformador.transform(este, norte) ya se alinea con (x, y) => (ESTE, NORTE),\n",
        "    # y desea regresar (latitud, longitud), asegúrese de capturar la salida correctamente.\n",
        "    lon, lat = transformer.transform(easting, northing)\n",
        "    return lat, lon  # Esto garantiza que la devolución esté en formato (latitud, longitud).\n",
        "\n",
        "# Assuming 'df' is your DataFrame\n",
        "df['latitud'], df['longitud'] = zip(*df.apply(lambda row: utm_to_latlon(row['ESTE'], row['NORTE']), axis=1)) # Donde dice 'ESTE' y 'NORTE', esto coincide de manera muy idéntica con los nombres de las columnas de latitud y longitud en sus datos."
      ],
      "metadata": {
        "collapsed": true,
        "id": "yyoEB_F7B8tJ",
        "outputId": "f4ff87b7-059b-43bd-cd45-389973b64c78",
        "colab": {
          "base_uri": "https://localhost:8080/",
          "height": 17
        }
      },
      "execution_count": 9,
      "outputs": [
        {
          "output_type": "display_data",
          "data": {
            "text/plain": [
              "<IPython.core.display.HTML object>"
            ],
            "text/html": [
              "\n",
              "            <style>\n",
              "                .geemap-dark {\n",
              "                    --jp-widgets-color: white;\n",
              "                    --jp-widgets-label-color: white;\n",
              "                    --jp-ui-font-color1: white;\n",
              "                    --jp-layout-color2: #454545;\n",
              "                    background-color: #383838;\n",
              "                }\n",
              "                    \n",
              "                .geemap-dark .jupyter-button {\n",
              "                    --jp-layout-color3: #383838;\n",
              "                }\n",
              "                \n",
              "                .geemap-colab {\n",
              "                    background-color: var(--colab-primary-surface-color, white);\n",
              "                }\n",
              "                    \n",
              "                .geemap-colab .jupyter-button {\n",
              "                    --jp-layout-color3: var(--colab-primary-surface-color, white);\n",
              "                }\n",
              "            </style>\n",
              "            "
            ]
          },
          "metadata": {}
        }
      ]
    },
    {
      "cell_type": "markdown",
      "source": [
        "#### Procesando"
      ],
      "metadata": {
        "id": "BGbpHpSMGs9q"
      }
    },
    {
      "cell_type": "code",
      "source": [
        "coordenadas = df[['latitud', 'longitud']].values.tolist()"
      ],
      "metadata": {
        "id": "4etm69guE3lE",
        "collapsed": true,
        "outputId": "b101b8bd-8726-4fcf-9b49-9cb053dd6d8b",
        "colab": {
          "base_uri": "https://localhost:8080/",
          "height": 17
        }
      },
      "execution_count": 10,
      "outputs": [
        {
          "output_type": "display_data",
          "data": {
            "text/plain": [
              "<IPython.core.display.HTML object>"
            ],
            "text/html": [
              "\n",
              "            <style>\n",
              "                .geemap-dark {\n",
              "                    --jp-widgets-color: white;\n",
              "                    --jp-widgets-label-color: white;\n",
              "                    --jp-ui-font-color1: white;\n",
              "                    --jp-layout-color2: #454545;\n",
              "                    background-color: #383838;\n",
              "                }\n",
              "                    \n",
              "                .geemap-dark .jupyter-button {\n",
              "                    --jp-layout-color3: #383838;\n",
              "                }\n",
              "                \n",
              "                .geemap-colab {\n",
              "                    background-color: var(--colab-primary-surface-color, white);\n",
              "                }\n",
              "                    \n",
              "                .geemap-colab .jupyter-button {\n",
              "                    --jp-layout-color3: var(--colab-primary-surface-color, white);\n",
              "                }\n",
              "            </style>\n",
              "            "
            ]
          },
          "metadata": {}
        }
      ]
    },
    {
      "cell_type": "code",
      "source": [
        "puntos = [ee.Feature(ee.Geometry.Point([lon, lat])) for lat, lon in coordenadas]\n",
        "puntos_fc = ee.FeatureCollection(puntos)"
      ],
      "metadata": {
        "id": "7flGn0lPB8wW",
        "outputId": "8d8342ef-df3d-4d81-b18f-52c4afd1f6aa",
        "colab": {
          "base_uri": "https://localhost:8080/",
          "height": 17
        }
      },
      "execution_count": 11,
      "outputs": [
        {
          "output_type": "display_data",
          "data": {
            "text/plain": [
              "<IPython.core.display.HTML object>"
            ],
            "text/html": [
              "\n",
              "            <style>\n",
              "                .geemap-dark {\n",
              "                    --jp-widgets-color: white;\n",
              "                    --jp-widgets-label-color: white;\n",
              "                    --jp-ui-font-color1: white;\n",
              "                    --jp-layout-color2: #454545;\n",
              "                    background-color: #383838;\n",
              "                }\n",
              "                    \n",
              "                .geemap-dark .jupyter-button {\n",
              "                    --jp-layout-color3: #383838;\n",
              "                }\n",
              "                \n",
              "                .geemap-colab {\n",
              "                    background-color: var(--colab-primary-surface-color, white);\n",
              "                }\n",
              "                    \n",
              "                .geemap-colab .jupyter-button {\n",
              "                    --jp-layout-color3: var(--colab-primary-surface-color, white);\n",
              "                }\n",
              "            </style>\n",
              "            "
            ]
          },
          "metadata": {}
        }
      ]
    },
    {
      "cell_type": "code",
      "source": [
        "polygon = ee.Geometry.Polygon([[[lon, lat] for lat, lon in coordenadas]])"
      ],
      "metadata": {
        "id": "U3FK1tnq5xDt",
        "outputId": "99f01a96-44e9-4007-fa79-6206cd3fccbb",
        "colab": {
          "base_uri": "https://localhost:8080/",
          "height": 17
        }
      },
      "execution_count": 12,
      "outputs": [
        {
          "output_type": "display_data",
          "data": {
            "text/plain": [
              "<IPython.core.display.HTML object>"
            ],
            "text/html": [
              "\n",
              "            <style>\n",
              "                .geemap-dark {\n",
              "                    --jp-widgets-color: white;\n",
              "                    --jp-widgets-label-color: white;\n",
              "                    --jp-ui-font-color1: white;\n",
              "                    --jp-layout-color2: #454545;\n",
              "                    background-color: #383838;\n",
              "                }\n",
              "                    \n",
              "                .geemap-dark .jupyter-button {\n",
              "                    --jp-layout-color3: #383838;\n",
              "                }\n",
              "                \n",
              "                .geemap-colab {\n",
              "                    background-color: var(--colab-primary-surface-color, white);\n",
              "                }\n",
              "                    \n",
              "                .geemap-colab .jupyter-button {\n",
              "                    --jp-layout-color3: var(--colab-primary-surface-color, white);\n",
              "                }\n",
              "            </style>\n",
              "            "
            ]
          },
          "metadata": {}
        }
      ]
    },
    {
      "cell_type": "code",
      "source": [
        "centroid = polygon.centroid(maxError=1)"
      ],
      "metadata": {
        "id": "7B-fjdbu6M9o",
        "outputId": "fcdbbea8-fff1-49a3-ef38-4483ea14322c",
        "colab": {
          "base_uri": "https://localhost:8080/",
          "height": 17
        }
      },
      "execution_count": 13,
      "outputs": [
        {
          "output_type": "display_data",
          "data": {
            "text/plain": [
              "<IPython.core.display.HTML object>"
            ],
            "text/html": [
              "\n",
              "            <style>\n",
              "                .geemap-dark {\n",
              "                    --jp-widgets-color: white;\n",
              "                    --jp-widgets-label-color: white;\n",
              "                    --jp-ui-font-color1: white;\n",
              "                    --jp-layout-color2: #454545;\n",
              "                    background-color: #383838;\n",
              "                }\n",
              "                    \n",
              "                .geemap-dark .jupyter-button {\n",
              "                    --jp-layout-color3: #383838;\n",
              "                }\n",
              "                \n",
              "                .geemap-colab {\n",
              "                    background-color: var(--colab-primary-surface-color, white);\n",
              "                }\n",
              "                    \n",
              "                .geemap-colab .jupyter-button {\n",
              "                    --jp-layout-color3: var(--colab-primary-surface-color, white);\n",
              "                }\n",
              "            </style>\n",
              "            "
            ]
          },
          "metadata": {}
        }
      ]
    },
    {
      "cell_type": "markdown",
      "source": [
        "#### Modificar"
      ],
      "metadata": {
        "id": "lDsf7hKMG2Di"
      }
    },
    {
      "cell_type": "code",
      "source": [
        "print(centroid.getInfo())"
      ],
      "metadata": {
        "id": "5T38u4WcHElU",
        "outputId": "8c4ea24f-5d64-4f53-b27e-9e6cde84bede",
        "colab": {
          "base_uri": "https://localhost:8080/",
          "height": 35
        }
      },
      "execution_count": 14,
      "outputs": [
        {
          "output_type": "display_data",
          "data": {
            "text/plain": [
              "<IPython.core.display.HTML object>"
            ],
            "text/html": [
              "\n",
              "            <style>\n",
              "                .geemap-dark {\n",
              "                    --jp-widgets-color: white;\n",
              "                    --jp-widgets-label-color: white;\n",
              "                    --jp-ui-font-color1: white;\n",
              "                    --jp-layout-color2: #454545;\n",
              "                    background-color: #383838;\n",
              "                }\n",
              "                    \n",
              "                .geemap-dark .jupyter-button {\n",
              "                    --jp-layout-color3: #383838;\n",
              "                }\n",
              "                \n",
              "                .geemap-colab {\n",
              "                    background-color: var(--colab-primary-surface-color, white);\n",
              "                }\n",
              "                    \n",
              "                .geemap-colab .jupyter-button {\n",
              "                    --jp-layout-color3: var(--colab-primary-surface-color, white);\n",
              "                }\n",
              "            </style>\n",
              "            "
            ]
          },
          "metadata": {}
        },
        {
          "output_type": "stream",
          "name": "stdout",
          "text": [
            "{'type': 'Point', 'coordinates': [-73.72766753816298, -4.349379692587443]}\n"
          ]
        }
      ]
    },
    {
      "cell_type": "code",
      "source": [
        "centro= (-73.72766753816298, -4.349379692587443) # Aquí pegue las coordenadas impresas en la celda de arriba para definir el centro de su parcela."
      ],
      "metadata": {
        "id": "4u-R5Ba8Bl40",
        "outputId": "c39291ad-f39f-422a-bb49-09a370a75e15",
        "colab": {
          "base_uri": "https://localhost:8080/",
          "height": 17
        }
      },
      "execution_count": 15,
      "outputs": [
        {
          "output_type": "display_data",
          "data": {
            "text/plain": [
              "<IPython.core.display.HTML object>"
            ],
            "text/html": [
              "\n",
              "            <style>\n",
              "                .geemap-dark {\n",
              "                    --jp-widgets-color: white;\n",
              "                    --jp-widgets-label-color: white;\n",
              "                    --jp-ui-font-color1: white;\n",
              "                    --jp-layout-color2: #454545;\n",
              "                    background-color: #383838;\n",
              "                }\n",
              "                    \n",
              "                .geemap-dark .jupyter-button {\n",
              "                    --jp-layout-color3: #383838;\n",
              "                }\n",
              "                \n",
              "                .geemap-colab {\n",
              "                    background-color: var(--colab-primary-surface-color, white);\n",
              "                }\n",
              "                    \n",
              "                .geemap-colab .jupyter-button {\n",
              "                    --jp-layout-color3: var(--colab-primary-surface-color, white);\n",
              "                }\n",
              "            </style>\n",
              "            "
            ]
          },
          "metadata": {}
        }
      ]
    },
    {
      "cell_type": "markdown",
      "source": [
        "# **3. Obtener imágenes:**\n",
        "\n",
        "#### _Utilice la API de Earth Engine para consultar imágenes para las fechas y la cobertura de nubes especificadas._"
      ],
      "metadata": {
        "id": "KSrZlhbHDS7Y"
      }
    },
    {
      "cell_type": "code",
      "source": [
        "antes = '2020-01-06'\n",
        "'''\n",
        "Establezca esto en una fecha anterior a la emisión del permiso.\n",
        "Encontrará la primera imagen de satélite en esa fecha o antes que\n",
        "cumpla con sus requisitos de cobertura de nubes.\n",
        "'''\n",
        "despues = '2023-01-06'\n",
        "'''\n",
        "Esta fecha es posterior a la cosecha y encontrará\n",
        "una imagen para la fecha más cercana pero no anterior\n",
        "a la cosecha que cumpla con el umbral de nubosidad.\n",
        "'''\n",
        "limite_coberatura_nubes = 20  # Establezca esto en su umbral máximo de cobertura de nubes."
      ],
      "metadata": {
        "id": "WWvySrWmB8z_",
        "outputId": "f2bf0b5f-daca-41be-e17c-a3b9e0c6448a",
        "colab": {
          "base_uri": "https://localhost:8080/",
          "height": 17
        }
      },
      "execution_count": 145,
      "outputs": [
        {
          "output_type": "display_data",
          "data": {
            "text/plain": [
              "<IPython.core.display.HTML object>"
            ],
            "text/html": [
              "\n",
              "            <style>\n",
              "                .geemap-dark {\n",
              "                    --jp-widgets-color: white;\n",
              "                    --jp-widgets-label-color: white;\n",
              "                    --jp-ui-font-color1: white;\n",
              "                    --jp-layout-color2: #454545;\n",
              "                    background-color: #383838;\n",
              "                }\n",
              "                    \n",
              "                .geemap-dark .jupyter-button {\n",
              "                    --jp-layout-color3: #383838;\n",
              "                }\n",
              "                \n",
              "                .geemap-colab {\n",
              "                    background-color: var(--colab-primary-surface-color, white);\n",
              "                }\n",
              "                    \n",
              "                .geemap-colab .jupyter-button {\n",
              "                    --jp-layout-color3: var(--colab-primary-surface-color, white);\n",
              "                }\n",
              "            </style>\n",
              "            "
            ]
          },
          "metadata": {}
        }
      ]
    },
    {
      "cell_type": "code",
      "source": [
        "antes_fecha = datetime.strptime(antes, '%Y-%m-%d')\n",
        "antes1= antes_fecha + relativedelta(years=-1)"
      ],
      "metadata": {
        "collapsed": true,
        "id": "LKsDoFqGV3Ur",
        "outputId": "c8c790b1-8d94-4e71-8bec-adf9fb9460ac",
        "colab": {
          "base_uri": "https://localhost:8080/",
          "height": 17
        }
      },
      "execution_count": 146,
      "outputs": [
        {
          "output_type": "display_data",
          "data": {
            "text/plain": [
              "<IPython.core.display.HTML object>"
            ],
            "text/html": [
              "\n",
              "            <style>\n",
              "                .geemap-dark {\n",
              "                    --jp-widgets-color: white;\n",
              "                    --jp-widgets-label-color: white;\n",
              "                    --jp-ui-font-color1: white;\n",
              "                    --jp-layout-color2: #454545;\n",
              "                    background-color: #383838;\n",
              "                }\n",
              "                    \n",
              "                .geemap-dark .jupyter-button {\n",
              "                    --jp-layout-color3: #383838;\n",
              "                }\n",
              "                \n",
              "                .geemap-colab {\n",
              "                    background-color: var(--colab-primary-surface-color, white);\n",
              "                }\n",
              "                    \n",
              "                .geemap-colab .jupyter-button {\n",
              "                    --jp-layout-color3: var(--colab-primary-surface-color, white);\n",
              "                }\n",
              "            </style>\n",
              "            "
            ]
          },
          "metadata": {}
        }
      ]
    },
    {
      "cell_type": "code",
      "source": [
        "ahora= datetime.now()\n",
        "ahora = ahora.strftime('%Y-%m-%d')"
      ],
      "metadata": {
        "id": "lM_1Sg34VlmP",
        "outputId": "9dd24f08-7207-494a-8318-2c671788150e",
        "colab": {
          "base_uri": "https://localhost:8080/",
          "height": 17
        }
      },
      "execution_count": 147,
      "outputs": [
        {
          "output_type": "display_data",
          "data": {
            "text/plain": [
              "<IPython.core.display.HTML object>"
            ],
            "text/html": [
              "\n",
              "            <style>\n",
              "                .geemap-dark {\n",
              "                    --jp-widgets-color: white;\n",
              "                    --jp-widgets-label-color: white;\n",
              "                    --jp-ui-font-color1: white;\n",
              "                    --jp-layout-color2: #454545;\n",
              "                    background-color: #383838;\n",
              "                }\n",
              "                    \n",
              "                .geemap-dark .jupyter-button {\n",
              "                    --jp-layout-color3: #383838;\n",
              "                }\n",
              "                \n",
              "                .geemap-colab {\n",
              "                    background-color: var(--colab-primary-surface-color, white);\n",
              "                }\n",
              "                    \n",
              "                .geemap-colab .jupyter-button {\n",
              "                    --jp-layout-color3: var(--colab-primary-surface-color, white);\n",
              "                }\n",
              "            </style>\n",
              "            "
            ]
          },
          "metadata": {}
        }
      ]
    },
    {
      "cell_type": "code",
      "source": [
        "# @title\n",
        "# Imagen antes de la emisión del permiso.\n",
        "image1 = ee.ImageCollection(\"COPERNICUS/S2_SR_HARMONIZED\") \\\n",
        "           .filterDate(antes1, antes) \\\n",
        "           .filterBounds(puntos_fc) \\\n",
        "           .filter(ee.Filter.lt('CLOUDY_PIXEL_PERCENTAGE', limite_coberatura_nubes)) \\\n",
        "           .sort('CLOUDY_PIXEL_PERCENTAGE') \\\n",
        "           .first()\\\n",
        "           .clip(polygon)"
      ],
      "metadata": {
        "id": "KV70arDMecVZ",
        "outputId": "0dbbd85e-393e-4363-9c06-d144d36eecd4",
        "colab": {
          "base_uri": "https://localhost:8080/",
          "height": 17
        }
      },
      "execution_count": 168,
      "outputs": [
        {
          "output_type": "display_data",
          "data": {
            "text/plain": [
              "<IPython.core.display.HTML object>"
            ],
            "text/html": [
              "\n",
              "            <style>\n",
              "                .geemap-dark {\n",
              "                    --jp-widgets-color: white;\n",
              "                    --jp-widgets-label-color: white;\n",
              "                    --jp-ui-font-color1: white;\n",
              "                    --jp-layout-color2: #454545;\n",
              "                    background-color: #383838;\n",
              "                }\n",
              "                    \n",
              "                .geemap-dark .jupyter-button {\n",
              "                    --jp-layout-color3: #383838;\n",
              "                }\n",
              "                \n",
              "                .geemap-colab {\n",
              "                    background-color: var(--colab-primary-surface-color, white);\n",
              "                }\n",
              "                    \n",
              "                .geemap-colab .jupyter-button {\n",
              "                    --jp-layout-color3: var(--colab-primary-surface-color, white);\n",
              "                }\n",
              "            </style>\n",
              "            "
            ]
          },
          "metadata": {}
        }
      ]
    },
    {
      "cell_type": "code",
      "source": [
        "nir1 = image1.select('B5')\n",
        "red1 = image1.select('B4')\n",
        "\n",
        "\n",
        "ndvi1 = nir1.subtract(red1).divide(nir1.add(red1)).rename('NDVI')"
      ],
      "metadata": {
        "id": "cwX3FEEzZH_R",
        "outputId": "4435fc63-336c-4872-d0a8-23d436dd7615",
        "colab": {
          "base_uri": "https://localhost:8080/",
          "height": 17
        }
      },
      "execution_count": 169,
      "outputs": [
        {
          "output_type": "display_data",
          "data": {
            "text/plain": [
              "<IPython.core.display.HTML object>"
            ],
            "text/html": [
              "\n",
              "            <style>\n",
              "                .geemap-dark {\n",
              "                    --jp-widgets-color: white;\n",
              "                    --jp-widgets-label-color: white;\n",
              "                    --jp-ui-font-color1: white;\n",
              "                    --jp-layout-color2: #454545;\n",
              "                    background-color: #383838;\n",
              "                }\n",
              "                    \n",
              "                .geemap-dark .jupyter-button {\n",
              "                    --jp-layout-color3: #383838;\n",
              "                }\n",
              "                \n",
              "                .geemap-colab {\n",
              "                    background-color: var(--colab-primary-surface-color, white);\n",
              "                }\n",
              "                    \n",
              "                .geemap-colab .jupyter-button {\n",
              "                    --jp-layout-color3: var(--colab-primary-surface-color, white);\n",
              "                }\n",
              "            </style>\n",
              "            "
            ]
          },
          "metadata": {}
        }
      ]
    },
    {
      "cell_type": "code",
      "source": [
        "date = ee.Date(image1.get('system:time_start')).format('YYYY-MM-dd')\n",
        "print('Date of the image1 image:', date.getInfo())"
      ],
      "metadata": {
        "id": "gRKC-xz1Tz37",
        "outputId": "1d17a459-d073-4330-c31c-740e42e077e3",
        "colab": {
          "base_uri": "https://localhost:8080/",
          "height": 35
        }
      },
      "execution_count": 170,
      "outputs": [
        {
          "output_type": "display_data",
          "data": {
            "text/plain": [
              "<IPython.core.display.HTML object>"
            ],
            "text/html": [
              "\n",
              "            <style>\n",
              "                .geemap-dark {\n",
              "                    --jp-widgets-color: white;\n",
              "                    --jp-widgets-label-color: white;\n",
              "                    --jp-ui-font-color1: white;\n",
              "                    --jp-layout-color2: #454545;\n",
              "                    background-color: #383838;\n",
              "                }\n",
              "                    \n",
              "                .geemap-dark .jupyter-button {\n",
              "                    --jp-layout-color3: #383838;\n",
              "                }\n",
              "                \n",
              "                .geemap-colab {\n",
              "                    background-color: var(--colab-primary-surface-color, white);\n",
              "                }\n",
              "                    \n",
              "                .geemap-colab .jupyter-button {\n",
              "                    --jp-layout-color3: var(--colab-primary-surface-color, white);\n",
              "                }\n",
              "            </style>\n",
              "            "
            ]
          },
          "metadata": {}
        },
        {
          "output_type": "stream",
          "name": "stdout",
          "text": [
            "Date of the image1 image: 2019-08-09\n"
          ]
        }
      ]
    },
    {
      "cell_type": "code",
      "source": [
        "# @title\n",
        "ndvi_antes = ndvi1.reduceRegion(\n",
        "    reducer=ee.Reducer.mean(),\n",
        "    scale=30,\n",
        "    maxPixels=1e9\n",
        ")\n",
        "\n",
        "ndvi_antes = ndvi_antes.get('NDVI').getInfo()\n",
        "\n",
        "print('NDVI Antes:', ndvi_antes)"
      ],
      "metadata": {
        "id": "aP7XU1FolHmQ",
        "outputId": "23df912b-399c-4f90-b7b9-8f35c19df9aa",
        "colab": {
          "base_uri": "https://localhost:8080/",
          "height": 35
        }
      },
      "execution_count": 193,
      "outputs": [
        {
          "output_type": "display_data",
          "data": {
            "text/plain": [
              "<IPython.core.display.HTML object>"
            ],
            "text/html": [
              "\n",
              "            <style>\n",
              "                .geemap-dark {\n",
              "                    --jp-widgets-color: white;\n",
              "                    --jp-widgets-label-color: white;\n",
              "                    --jp-ui-font-color1: white;\n",
              "                    --jp-layout-color2: #454545;\n",
              "                    background-color: #383838;\n",
              "                }\n",
              "                    \n",
              "                .geemap-dark .jupyter-button {\n",
              "                    --jp-layout-color3: #383838;\n",
              "                }\n",
              "                \n",
              "                .geemap-colab {\n",
              "                    background-color: var(--colab-primary-surface-color, white);\n",
              "                }\n",
              "                    \n",
              "                .geemap-colab .jupyter-button {\n",
              "                    --jp-layout-color3: var(--colab-primary-surface-color, white);\n",
              "                }\n",
              "            </style>\n",
              "            "
            ]
          },
          "metadata": {}
        },
        {
          "output_type": "stream",
          "name": "stdout",
          "text": [
            "NDVI Antes: 0.46688240186500396\n"
          ]
        }
      ]
    },
    {
      "cell_type": "code",
      "source": [
        "# @title\n",
        "# Aquí está la foto después de la cosecha.\n",
        "image2 = ee.ImageCollection(\"COPERNICUS/S2_SR_HARMONIZED\") \\\n",
        "           .filterDate(despues, ahora) \\\n",
        "           .filterBounds(puntos_fc) \\\n",
        "           .filter(ee.Filter.lt('CLOUDY_PIXEL_PERCENTAGE', limite_coberatura_nubes)) \\\n",
        "           .sort('CLOUDY_PIXEL_PERCENTAGE') \\\n",
        "           .first()\\\n",
        "           .clip(polygon)"
      ],
      "metadata": {
        "id": "3uA18p9tiStX",
        "outputId": "0a686d86-3f9e-41b0-af72-19630e4ffa30",
        "colab": {
          "base_uri": "https://localhost:8080/",
          "height": 17
        }
      },
      "execution_count": 172,
      "outputs": [
        {
          "output_type": "display_data",
          "data": {
            "text/plain": [
              "<IPython.core.display.HTML object>"
            ],
            "text/html": [
              "\n",
              "            <style>\n",
              "                .geemap-dark {\n",
              "                    --jp-widgets-color: white;\n",
              "                    --jp-widgets-label-color: white;\n",
              "                    --jp-ui-font-color1: white;\n",
              "                    --jp-layout-color2: #454545;\n",
              "                    background-color: #383838;\n",
              "                }\n",
              "                    \n",
              "                .geemap-dark .jupyter-button {\n",
              "                    --jp-layout-color3: #383838;\n",
              "                }\n",
              "                \n",
              "                .geemap-colab {\n",
              "                    background-color: var(--colab-primary-surface-color, white);\n",
              "                }\n",
              "                    \n",
              "                .geemap-colab .jupyter-button {\n",
              "                    --jp-layout-color3: var(--colab-primary-surface-color, white);\n",
              "                }\n",
              "            </style>\n",
              "            "
            ]
          },
          "metadata": {}
        }
      ]
    },
    {
      "cell_type": "code",
      "source": [
        "nir2 = image2.select('B5')\n",
        "red2 = image2.select('B4')\n",
        "\n",
        "\n",
        "ndvi2 = nir2.subtract(red2).divide(nir2.add(red2)).rename('NDVI')"
      ],
      "metadata": {
        "id": "ibk4wNBna9bN",
        "outputId": "0f71f957-acad-47e6-e506-c663c2962a09",
        "colab": {
          "base_uri": "https://localhost:8080/",
          "height": 17
        }
      },
      "execution_count": 191,
      "outputs": [
        {
          "output_type": "display_data",
          "data": {
            "text/plain": [
              "<IPython.core.display.HTML object>"
            ],
            "text/html": [
              "\n",
              "            <style>\n",
              "                .geemap-dark {\n",
              "                    --jp-widgets-color: white;\n",
              "                    --jp-widgets-label-color: white;\n",
              "                    --jp-ui-font-color1: white;\n",
              "                    --jp-layout-color2: #454545;\n",
              "                    background-color: #383838;\n",
              "                }\n",
              "                    \n",
              "                .geemap-dark .jupyter-button {\n",
              "                    --jp-layout-color3: #383838;\n",
              "                }\n",
              "                \n",
              "                .geemap-colab {\n",
              "                    background-color: var(--colab-primary-surface-color, white);\n",
              "                }\n",
              "                    \n",
              "                .geemap-colab .jupyter-button {\n",
              "                    --jp-layout-color3: var(--colab-primary-surface-color, white);\n",
              "                }\n",
              "            </style>\n",
              "            "
            ]
          },
          "metadata": {}
        }
      ]
    },
    {
      "cell_type": "code",
      "source": [
        "# Print the date of the image2 image\n",
        "date_image2 = ee.Date(image2.get('system:time_start')).format('YYYY-MM-dd')\n",
        "print('Date of the image2 image:', date_image2.getInfo())"
      ],
      "metadata": {
        "id": "6I2TgjTDVjD9",
        "outputId": "a4d9179f-e0ec-450d-feb3-0441517984e5",
        "colab": {
          "base_uri": "https://localhost:8080/",
          "height": 35
        }
      },
      "execution_count": 174,
      "outputs": [
        {
          "output_type": "display_data",
          "data": {
            "text/plain": [
              "<IPython.core.display.HTML object>"
            ],
            "text/html": [
              "\n",
              "            <style>\n",
              "                .geemap-dark {\n",
              "                    --jp-widgets-color: white;\n",
              "                    --jp-widgets-label-color: white;\n",
              "                    --jp-ui-font-color1: white;\n",
              "                    --jp-layout-color2: #454545;\n",
              "                    background-color: #383838;\n",
              "                }\n",
              "                    \n",
              "                .geemap-dark .jupyter-button {\n",
              "                    --jp-layout-color3: #383838;\n",
              "                }\n",
              "                \n",
              "                .geemap-colab {\n",
              "                    background-color: var(--colab-primary-surface-color, white);\n",
              "                }\n",
              "                    \n",
              "                .geemap-colab .jupyter-button {\n",
              "                    --jp-layout-color3: var(--colab-primary-surface-color, white);\n",
              "                }\n",
              "            </style>\n",
              "            "
            ]
          },
          "metadata": {}
        },
        {
          "output_type": "stream",
          "name": "stdout",
          "text": [
            "Date of the image2 image: 2023-09-17\n"
          ]
        }
      ]
    },
    {
      "cell_type": "code",
      "source": [
        "# @title\n",
        "ndvi_despues = ndvi2.reduceRegion(\n",
        "    reducer=ee.Reducer.mean(),\n",
        "    scale=30,\n",
        "    maxPixels=1e9\n",
        ")\n",
        "\n",
        "ndvi_despues = ndvi_despues.get('NDVI').getInfo()\n",
        "\n",
        "print('NDVI Despues:', ndvi_despues)"
      ],
      "metadata": {
        "id": "APeSEcyshaX7",
        "outputId": "8610affa-8282-47fd-dbc3-5776cb0c66b0",
        "colab": {
          "base_uri": "https://localhost:8080/",
          "height": 35
        }
      },
      "execution_count": 192,
      "outputs": [
        {
          "output_type": "display_data",
          "data": {
            "text/plain": [
              "<IPython.core.display.HTML object>"
            ],
            "text/html": [
              "\n",
              "            <style>\n",
              "                .geemap-dark {\n",
              "                    --jp-widgets-color: white;\n",
              "                    --jp-widgets-label-color: white;\n",
              "                    --jp-ui-font-color1: white;\n",
              "                    --jp-layout-color2: #454545;\n",
              "                    background-color: #383838;\n",
              "                }\n",
              "                    \n",
              "                .geemap-dark .jupyter-button {\n",
              "                    --jp-layout-color3: #383838;\n",
              "                }\n",
              "                \n",
              "                .geemap-colab {\n",
              "                    background-color: var(--colab-primary-surface-color, white);\n",
              "                }\n",
              "                    \n",
              "                .geemap-colab .jupyter-button {\n",
              "                    --jp-layout-color3: var(--colab-primary-surface-color, white);\n",
              "                }\n",
              "            </style>\n",
              "            "
            ]
          },
          "metadata": {}
        },
        {
          "output_type": "stream",
          "name": "stdout",
          "text": [
            "NDVI Despues: 0.5043476883220962\n"
          ]
        }
      ]
    },
    {
      "cell_type": "markdown",
      "source": [
        "#### Imagenes"
      ],
      "metadata": {
        "id": "Ro8Kt98SHJ1q"
      }
    },
    {
      "cell_type": "code",
      "source": [
        "image1"
      ],
      "metadata": {
        "id": "wVLPa7nzUlEC",
        "outputId": "a210675f-abc6-4fff-c1f1-9d2a49c637aa",
        "colab": {
          "base_uri": "https://localhost:8080/",
          "height": 0
        }
      },
      "execution_count": 177,
      "outputs": [
        {
          "output_type": "display_data",
          "data": {
            "text/plain": [
              "<IPython.core.display.HTML object>"
            ],
            "text/html": [
              "\n",
              "            <style>\n",
              "                .geemap-dark {\n",
              "                    --jp-widgets-color: white;\n",
              "                    --jp-widgets-label-color: white;\n",
              "                    --jp-ui-font-color1: white;\n",
              "                    --jp-layout-color2: #454545;\n",
              "                    background-color: #383838;\n",
              "                }\n",
              "                    \n",
              "                .geemap-dark .jupyter-button {\n",
              "                    --jp-layout-color3: #383838;\n",
              "                }\n",
              "                \n",
              "                .geemap-colab {\n",
              "                    background-color: var(--colab-primary-surface-color, white);\n",
              "                }\n",
              "                    \n",
              "                .geemap-colab .jupyter-button {\n",
              "                    --jp-layout-color3: var(--colab-primary-surface-color, white);\n",
              "                }\n",
              "            </style>\n",
              "            "
            ]
          },
          "metadata": {}
        },
        {
          "output_type": "execute_result",
          "data": {
            "text/plain": [
              "<ee.image.Image at 0x7f8dac2f8d90>"
            ],
            "text/html": [
              "<div><style>:root {\n",
              "  --font-color-primary: var(--jp-content-font-color0, rgba(0, 0, 0, 1));\n",
              "  --font-color-secondary: var(--jp-content-font-color2, rgba(0, 0, 0, 0.6));\n",
              "  --font-color-accent: rgba(123, 31, 162, 1);\n",
              "  --border-color: var(--jp-border-color2, #e0e0e0);\n",
              "  --background-color: var(--jp-layout-color0, white);\n",
              "  --background-color-row-even: var(--jp-layout-color1, white);\n",
              "  --background-color-row-odd: var(--jp-layout-color2, #eeeeee);\n",
              "}\n",
              "\n",
              "html[theme=\"dark\"],\n",
              "body[data-theme=\"dark\"],\n",
              "body.vscode-dark {\n",
              "  --font-color-primary: rgba(255, 255, 255, 1);\n",
              "  --font-color-secondary: rgba(255, 255, 255, 0.6);\n",
              "  --font-color-accent: rgb(173, 132, 190);\n",
              "  --border-color: #2e2e2e;\n",
              "  --background-color: #111111;\n",
              "  --background-color-row-even: #111111;\n",
              "  --background-color-row-odd: #313131;\n",
              "}\n",
              "\n",
              ".ee {\n",
              "  padding: 1em;\n",
              "  line-height: 1.5em;\n",
              "  min-width: 300px;\n",
              "  max-width: 1200px;\n",
              "  overflow-y: scroll;\n",
              "  max-height: 600px;\n",
              "  border: 1px solid var(--border-color);\n",
              "  font-family: monospace;\n",
              "}\n",
              "\n",
              ".ee li {\n",
              "  list-style-type: none;\n",
              "}\n",
              "\n",
              ".ee ul {\n",
              "  padding-left: 1.5em !important;\n",
              "  margin: 0;\n",
              "}\n",
              "\n",
              ".ee > ul {\n",
              "  padding-left: 0 !important;\n",
              "}\n",
              "\n",
              ".ee-open,\n",
              ".ee-shut {\n",
              "  color: var(--font-color-secondary);\n",
              "  cursor: pointer;\n",
              "  margin: 0;\n",
              "}\n",
              "\n",
              ".ee-open:hover,\n",
              ".ee-shut:hover {\n",
              "  color: var(--font-color-primary);\n",
              "}\n",
              "\n",
              ".ee-k {\n",
              "  color: var(--font-color-accent);\n",
              "  margin-right: 6px;\n",
              "}\n",
              "\n",
              ".ee-v {\n",
              "  color: var(--font-color-primary);\n",
              "}\n",
              "\n",
              ".ee-toggle {\n",
              "  display: none;\n",
              "}\n",
              "\n",
              ".ee-shut + ul {\n",
              "  display: none;\n",
              "}\n",
              "\n",
              ".ee-open + ul {\n",
              "  display: block;\n",
              "}\n",
              "\n",
              ".ee-shut::before {\n",
              "  display: inline-block;\n",
              "  content: \"▼\";\n",
              "  margin-right: 6px;\n",
              "  transform: rotate(-90deg);\n",
              "  transition: transform 0.2s;\n",
              "}\n",
              "\n",
              ".ee-open::before {\n",
              "  transform: rotate(0deg);\n",
              "  display: inline-block;\n",
              "  content: \"▼\";\n",
              "  margin-right: 6px;\n",
              "  transition: transform 0.2s;\n",
              "}\n",
              "</style><div class='ee'><ul><li><label class='ee-shut'>Image COPERNICUS/S2_SR_HARMONIZED/20190809T151711_20190809T151806_T18MXA (23 bands)<input type='checkbox' class='ee-toggle'></label><ul><li><span class='ee-k'>type:</span><span class='ee-v'>Image</span></li><li><span class='ee-k'>id:</span><span class='ee-v'>COPERNICUS/S2_SR_HARMONIZED/20190809T151711_20190809T151806_T18MXA</span></li><li><span class='ee-k'>version:</span><span class='ee-v'>1708363825581643</span></li><li><label class='ee-shut'>bands: List (23 elements)<input type='checkbox' class='ee-toggle'></label><ul><li><label class='ee-shut'>0: \"B1\", unsigned int16, EPSG:32718, 366x597 px<input type='checkbox' class='ee-toggle'></label><ul><li><span class='ee-k'>id:</span><span class='ee-v'>B1</span></li><li><span class='ee-k'>crs:</span><span class='ee-v'>EPSG:32718</span></li><li><label class='ee-shut'>crs_transform: [60, 0, 600000, 0, -60, 9600040]<input type='checkbox' class='ee-toggle'></label><ul><li><span class='ee-k'>0:</span><span class='ee-v'>60</span></li><li><span class='ee-k'>1:</span><span class='ee-v'>0</span></li><li><span class='ee-k'>2:</span><span class='ee-v'>600000</span></li><li><span class='ee-k'>3:</span><span class='ee-v'>0</span></li><li><span class='ee-k'>4:</span><span class='ee-v'>-60</span></li><li><span class='ee-k'>5:</span><span class='ee-v'>9600040</span></li></ul></li><li><label class='ee-shut'>data_type: unsigned int16<input type='checkbox' class='ee-toggle'></label><ul><li><span class='ee-k'>type:</span><span class='ee-v'>PixelType</span></li><li><span class='ee-k'>max:</span><span class='ee-v'>65535</span></li><li><span class='ee-k'>min:</span><span class='ee-v'>0</span></li><li><span class='ee-k'>precision:</span><span class='ee-v'>int</span></li></ul></li><li><label class='ee-shut'>dimensions: [366, 597]<input type='checkbox' class='ee-toggle'></label><ul><li><span class='ee-k'>0:</span><span class='ee-v'>366</span></li><li><span class='ee-k'>1:</span><span class='ee-v'>597</span></li></ul></li><li><label class='ee-shut'>origin: [559, 1008]<input type='checkbox' class='ee-toggle'></label><ul><li><span class='ee-k'>0:</span><span class='ee-v'>559</span></li><li><span class='ee-k'>1:</span><span class='ee-v'>1008</span></li></ul></li></ul></li><li><label class='ee-shut'>1: \"B2\", unsigned int16, EPSG:32718, 2191x3576 px<input type='checkbox' class='ee-toggle'></label><ul><li><span class='ee-k'>id:</span><span class='ee-v'>B2</span></li><li><span class='ee-k'>crs:</span><span class='ee-v'>EPSG:32718</span></li><li><label class='ee-shut'>crs_transform: [10, 0, 600000, 0, -10, 9600040]<input type='checkbox' class='ee-toggle'></label><ul><li><span class='ee-k'>0:</span><span class='ee-v'>10</span></li><li><span class='ee-k'>1:</span><span class='ee-v'>0</span></li><li><span class='ee-k'>2:</span><span class='ee-v'>600000</span></li><li><span class='ee-k'>3:</span><span class='ee-v'>0</span></li><li><span class='ee-k'>4:</span><span class='ee-v'>-10</span></li><li><span class='ee-k'>5:</span><span class='ee-v'>9600040</span></li></ul></li><li><label class='ee-shut'>data_type: unsigned int16<input type='checkbox' class='ee-toggle'></label><ul><li><span class='ee-k'>type:</span><span class='ee-v'>PixelType</span></li><li><span class='ee-k'>max:</span><span class='ee-v'>65535</span></li><li><span class='ee-k'>min:</span><span class='ee-v'>0</span></li><li><span class='ee-k'>precision:</span><span class='ee-v'>int</span></li></ul></li><li><label class='ee-shut'>dimensions: [2191, 3576]<input type='checkbox' class='ee-toggle'></label><ul><li><span class='ee-k'>0:</span><span class='ee-v'>2191</span></li><li><span class='ee-k'>1:</span><span class='ee-v'>3576</span></li></ul></li><li><label class='ee-shut'>origin: [3356, 6051]<input type='checkbox' class='ee-toggle'></label><ul><li><span class='ee-k'>0:</span><span class='ee-v'>3356</span></li><li><span class='ee-k'>1:</span><span class='ee-v'>6051</span></li></ul></li></ul></li><li><label class='ee-shut'>2: \"B3\", unsigned int16, EPSG:32718, 2191x3576 px<input type='checkbox' class='ee-toggle'></label><ul><li><span class='ee-k'>id:</span><span class='ee-v'>B3</span></li><li><span class='ee-k'>crs:</span><span class='ee-v'>EPSG:32718</span></li><li><label class='ee-shut'>crs_transform: [10, 0, 600000, 0, -10, 9600040]<input type='checkbox' class='ee-toggle'></label><ul><li><span class='ee-k'>0:</span><span class='ee-v'>10</span></li><li><span class='ee-k'>1:</span><span class='ee-v'>0</span></li><li><span class='ee-k'>2:</span><span class='ee-v'>600000</span></li><li><span class='ee-k'>3:</span><span class='ee-v'>0</span></li><li><span class='ee-k'>4:</span><span class='ee-v'>-10</span></li><li><span class='ee-k'>5:</span><span class='ee-v'>9600040</span></li></ul></li><li><label class='ee-shut'>data_type: unsigned int16<input type='checkbox' class='ee-toggle'></label><ul><li><span class='ee-k'>type:</span><span class='ee-v'>PixelType</span></li><li><span class='ee-k'>max:</span><span class='ee-v'>65535</span></li><li><span class='ee-k'>min:</span><span class='ee-v'>0</span></li><li><span class='ee-k'>precision:</span><span class='ee-v'>int</span></li></ul></li><li><label class='ee-shut'>dimensions: [2191, 3576]<input type='checkbox' class='ee-toggle'></label><ul><li><span class='ee-k'>0:</span><span class='ee-v'>2191</span></li><li><span class='ee-k'>1:</span><span class='ee-v'>3576</span></li></ul></li><li><label class='ee-shut'>origin: [3356, 6051]<input type='checkbox' class='ee-toggle'></label><ul><li><span class='ee-k'>0:</span><span class='ee-v'>3356</span></li><li><span class='ee-k'>1:</span><span class='ee-v'>6051</span></li></ul></li></ul></li><li><label class='ee-shut'>3: \"B4\", unsigned int16, EPSG:32718, 2191x3576 px<input type='checkbox' class='ee-toggle'></label><ul><li><span class='ee-k'>id:</span><span class='ee-v'>B4</span></li><li><span class='ee-k'>crs:</span><span class='ee-v'>EPSG:32718</span></li><li><label class='ee-shut'>crs_transform: [10, 0, 600000, 0, -10, 9600040]<input type='checkbox' class='ee-toggle'></label><ul><li><span class='ee-k'>0:</span><span class='ee-v'>10</span></li><li><span class='ee-k'>1:</span><span class='ee-v'>0</span></li><li><span class='ee-k'>2:</span><span class='ee-v'>600000</span></li><li><span class='ee-k'>3:</span><span class='ee-v'>0</span></li><li><span class='ee-k'>4:</span><span class='ee-v'>-10</span></li><li><span class='ee-k'>5:</span><span class='ee-v'>9600040</span></li></ul></li><li><label class='ee-shut'>data_type: unsigned int16<input type='checkbox' class='ee-toggle'></label><ul><li><span class='ee-k'>type:</span><span class='ee-v'>PixelType</span></li><li><span class='ee-k'>max:</span><span class='ee-v'>65535</span></li><li><span class='ee-k'>min:</span><span class='ee-v'>0</span></li><li><span class='ee-k'>precision:</span><span class='ee-v'>int</span></li></ul></li><li><label class='ee-shut'>dimensions: [2191, 3576]<input type='checkbox' class='ee-toggle'></label><ul><li><span class='ee-k'>0:</span><span class='ee-v'>2191</span></li><li><span class='ee-k'>1:</span><span class='ee-v'>3576</span></li></ul></li><li><label class='ee-shut'>origin: [3356, 6051]<input type='checkbox' class='ee-toggle'></label><ul><li><span class='ee-k'>0:</span><span class='ee-v'>3356</span></li><li><span class='ee-k'>1:</span><span class='ee-v'>6051</span></li></ul></li></ul></li><li><label class='ee-shut'>4: \"B5\", unsigned int16, EPSG:32718, 1096x1789 px<input type='checkbox' class='ee-toggle'></label><ul><li><span class='ee-k'>id:</span><span class='ee-v'>B5</span></li><li><span class='ee-k'>crs:</span><span class='ee-v'>EPSG:32718</span></li><li><label class='ee-shut'>crs_transform: [20, 0, 600000, 0, -20, 9600040]<input type='checkbox' class='ee-toggle'></label><ul><li><span class='ee-k'>0:</span><span class='ee-v'>20</span></li><li><span class='ee-k'>1:</span><span class='ee-v'>0</span></li><li><span class='ee-k'>2:</span><span class='ee-v'>600000</span></li><li><span class='ee-k'>3:</span><span class='ee-v'>0</span></li><li><span class='ee-k'>4:</span><span class='ee-v'>-20</span></li><li><span class='ee-k'>5:</span><span class='ee-v'>9600040</span></li></ul></li><li><label class='ee-shut'>data_type: unsigned int16<input type='checkbox' class='ee-toggle'></label><ul><li><span class='ee-k'>type:</span><span class='ee-v'>PixelType</span></li><li><span class='ee-k'>max:</span><span class='ee-v'>65535</span></li><li><span class='ee-k'>min:</span><span class='ee-v'>0</span></li><li><span class='ee-k'>precision:</span><span class='ee-v'>int</span></li></ul></li><li><label class='ee-shut'>dimensions: [1096, 1789]<input type='checkbox' class='ee-toggle'></label><ul><li><span class='ee-k'>0:</span><span class='ee-v'>1096</span></li><li><span class='ee-k'>1:</span><span class='ee-v'>1789</span></li></ul></li><li><label class='ee-shut'>origin: [1678, 3025]<input type='checkbox' class='ee-toggle'></label><ul><li><span class='ee-k'>0:</span><span class='ee-v'>1678</span></li><li><span class='ee-k'>1:</span><span class='ee-v'>3025</span></li></ul></li></ul></li><li><label class='ee-shut'>5: \"B6\", unsigned int16, EPSG:32718, 1096x1789 px<input type='checkbox' class='ee-toggle'></label><ul><li><span class='ee-k'>id:</span><span class='ee-v'>B6</span></li><li><span class='ee-k'>crs:</span><span class='ee-v'>EPSG:32718</span></li><li><label class='ee-shut'>crs_transform: [20, 0, 600000, 0, -20, 9600040]<input type='checkbox' class='ee-toggle'></label><ul><li><span class='ee-k'>0:</span><span class='ee-v'>20</span></li><li><span class='ee-k'>1:</span><span class='ee-v'>0</span></li><li><span class='ee-k'>2:</span><span class='ee-v'>600000</span></li><li><span class='ee-k'>3:</span><span class='ee-v'>0</span></li><li><span class='ee-k'>4:</span><span class='ee-v'>-20</span></li><li><span class='ee-k'>5:</span><span class='ee-v'>9600040</span></li></ul></li><li><label class='ee-shut'>data_type: unsigned int16<input type='checkbox' class='ee-toggle'></label><ul><li><span class='ee-k'>type:</span><span class='ee-v'>PixelType</span></li><li><span class='ee-k'>max:</span><span class='ee-v'>65535</span></li><li><span class='ee-k'>min:</span><span class='ee-v'>0</span></li><li><span class='ee-k'>precision:</span><span class='ee-v'>int</span></li></ul></li><li><label class='ee-shut'>dimensions: [1096, 1789]<input type='checkbox' class='ee-toggle'></label><ul><li><span class='ee-k'>0:</span><span class='ee-v'>1096</span></li><li><span class='ee-k'>1:</span><span class='ee-v'>1789</span></li></ul></li><li><label class='ee-shut'>origin: [1678, 3025]<input type='checkbox' class='ee-toggle'></label><ul><li><span class='ee-k'>0:</span><span class='ee-v'>1678</span></li><li><span class='ee-k'>1:</span><span class='ee-v'>3025</span></li></ul></li></ul></li><li><label class='ee-shut'>6: \"B7\", unsigned int16, EPSG:32718, 1096x1789 px<input type='checkbox' class='ee-toggle'></label><ul><li><span class='ee-k'>id:</span><span class='ee-v'>B7</span></li><li><span class='ee-k'>crs:</span><span class='ee-v'>EPSG:32718</span></li><li><label class='ee-shut'>crs_transform: [20, 0, 600000, 0, -20, 9600040]<input type='checkbox' class='ee-toggle'></label><ul><li><span class='ee-k'>0:</span><span class='ee-v'>20</span></li><li><span class='ee-k'>1:</span><span class='ee-v'>0</span></li><li><span class='ee-k'>2:</span><span class='ee-v'>600000</span></li><li><span class='ee-k'>3:</span><span class='ee-v'>0</span></li><li><span class='ee-k'>4:</span><span class='ee-v'>-20</span></li><li><span class='ee-k'>5:</span><span class='ee-v'>9600040</span></li></ul></li><li><label class='ee-shut'>data_type: unsigned int16<input type='checkbox' class='ee-toggle'></label><ul><li><span class='ee-k'>type:</span><span class='ee-v'>PixelType</span></li><li><span class='ee-k'>max:</span><span class='ee-v'>65535</span></li><li><span class='ee-k'>min:</span><span class='ee-v'>0</span></li><li><span class='ee-k'>precision:</span><span class='ee-v'>int</span></li></ul></li><li><label class='ee-shut'>dimensions: [1096, 1789]<input type='checkbox' class='ee-toggle'></label><ul><li><span class='ee-k'>0:</span><span class='ee-v'>1096</span></li><li><span class='ee-k'>1:</span><span class='ee-v'>1789</span></li></ul></li><li><label class='ee-shut'>origin: [1678, 3025]<input type='checkbox' class='ee-toggle'></label><ul><li><span class='ee-k'>0:</span><span class='ee-v'>1678</span></li><li><span class='ee-k'>1:</span><span class='ee-v'>3025</span></li></ul></li></ul></li><li><label class='ee-shut'>7: \"B8\", unsigned int16, EPSG:32718, 2191x3576 px<input type='checkbox' class='ee-toggle'></label><ul><li><span class='ee-k'>id:</span><span class='ee-v'>B8</span></li><li><span class='ee-k'>crs:</span><span class='ee-v'>EPSG:32718</span></li><li><label class='ee-shut'>crs_transform: [10, 0, 600000, 0, -10, 9600040]<input type='checkbox' class='ee-toggle'></label><ul><li><span class='ee-k'>0:</span><span class='ee-v'>10</span></li><li><span class='ee-k'>1:</span><span class='ee-v'>0</span></li><li><span class='ee-k'>2:</span><span class='ee-v'>600000</span></li><li><span class='ee-k'>3:</span><span class='ee-v'>0</span></li><li><span class='ee-k'>4:</span><span class='ee-v'>-10</span></li><li><span class='ee-k'>5:</span><span class='ee-v'>9600040</span></li></ul></li><li><label class='ee-shut'>data_type: unsigned int16<input type='checkbox' class='ee-toggle'></label><ul><li><span class='ee-k'>type:</span><span class='ee-v'>PixelType</span></li><li><span class='ee-k'>max:</span><span class='ee-v'>65535</span></li><li><span class='ee-k'>min:</span><span class='ee-v'>0</span></li><li><span class='ee-k'>precision:</span><span class='ee-v'>int</span></li></ul></li><li><label class='ee-shut'>dimensions: [2191, 3576]<input type='checkbox' class='ee-toggle'></label><ul><li><span class='ee-k'>0:</span><span class='ee-v'>2191</span></li><li><span class='ee-k'>1:</span><span class='ee-v'>3576</span></li></ul></li><li><label class='ee-shut'>origin: [3356, 6051]<input type='checkbox' class='ee-toggle'></label><ul><li><span class='ee-k'>0:</span><span class='ee-v'>3356</span></li><li><span class='ee-k'>1:</span><span class='ee-v'>6051</span></li></ul></li></ul></li><li><label class='ee-shut'>8: \"B8A\", unsigned int16, EPSG:32718, 1096x1789 px<input type='checkbox' class='ee-toggle'></label><ul><li><span class='ee-k'>id:</span><span class='ee-v'>B8A</span></li><li><span class='ee-k'>crs:</span><span class='ee-v'>EPSG:32718</span></li><li><label class='ee-shut'>crs_transform: [20, 0, 600000, 0, -20, 9600040]<input type='checkbox' class='ee-toggle'></label><ul><li><span class='ee-k'>0:</span><span class='ee-v'>20</span></li><li><span class='ee-k'>1:</span><span class='ee-v'>0</span></li><li><span class='ee-k'>2:</span><span class='ee-v'>600000</span></li><li><span class='ee-k'>3:</span><span class='ee-v'>0</span></li><li><span class='ee-k'>4:</span><span class='ee-v'>-20</span></li><li><span class='ee-k'>5:</span><span class='ee-v'>9600040</span></li></ul></li><li><label class='ee-shut'>data_type: unsigned int16<input type='checkbox' class='ee-toggle'></label><ul><li><span class='ee-k'>type:</span><span class='ee-v'>PixelType</span></li><li><span class='ee-k'>max:</span><span class='ee-v'>65535</span></li><li><span class='ee-k'>min:</span><span class='ee-v'>0</span></li><li><span class='ee-k'>precision:</span><span class='ee-v'>int</span></li></ul></li><li><label class='ee-shut'>dimensions: [1096, 1789]<input type='checkbox' class='ee-toggle'></label><ul><li><span class='ee-k'>0:</span><span class='ee-v'>1096</span></li><li><span class='ee-k'>1:</span><span class='ee-v'>1789</span></li></ul></li><li><label class='ee-shut'>origin: [1678, 3025]<input type='checkbox' class='ee-toggle'></label><ul><li><span class='ee-k'>0:</span><span class='ee-v'>1678</span></li><li><span class='ee-k'>1:</span><span class='ee-v'>3025</span></li></ul></li></ul></li><li><label class='ee-shut'>9: \"B9\", unsigned int16, EPSG:32718, 366x597 px<input type='checkbox' class='ee-toggle'></label><ul><li><span class='ee-k'>id:</span><span class='ee-v'>B9</span></li><li><span class='ee-k'>crs:</span><span class='ee-v'>EPSG:32718</span></li><li><label class='ee-shut'>crs_transform: [60, 0, 600000, 0, -60, 9600040]<input type='checkbox' class='ee-toggle'></label><ul><li><span class='ee-k'>0:</span><span class='ee-v'>60</span></li><li><span class='ee-k'>1:</span><span class='ee-v'>0</span></li><li><span class='ee-k'>2:</span><span class='ee-v'>600000</span></li><li><span class='ee-k'>3:</span><span class='ee-v'>0</span></li><li><span class='ee-k'>4:</span><span class='ee-v'>-60</span></li><li><span class='ee-k'>5:</span><span class='ee-v'>9600040</span></li></ul></li><li><label class='ee-shut'>data_type: unsigned int16<input type='checkbox' class='ee-toggle'></label><ul><li><span class='ee-k'>type:</span><span class='ee-v'>PixelType</span></li><li><span class='ee-k'>max:</span><span class='ee-v'>65535</span></li><li><span class='ee-k'>min:</span><span class='ee-v'>0</span></li><li><span class='ee-k'>precision:</span><span class='ee-v'>int</span></li></ul></li><li><label class='ee-shut'>dimensions: [366, 597]<input type='checkbox' class='ee-toggle'></label><ul><li><span class='ee-k'>0:</span><span class='ee-v'>366</span></li><li><span class='ee-k'>1:</span><span class='ee-v'>597</span></li></ul></li><li><label class='ee-shut'>origin: [559, 1008]<input type='checkbox' class='ee-toggle'></label><ul><li><span class='ee-k'>0:</span><span class='ee-v'>559</span></li><li><span class='ee-k'>1:</span><span class='ee-v'>1008</span></li></ul></li></ul></li><li><label class='ee-shut'>10: \"B11\", unsigned int16, EPSG:32718, 1096x1789 px<input type='checkbox' class='ee-toggle'></label><ul><li><span class='ee-k'>id:</span><span class='ee-v'>B11</span></li><li><span class='ee-k'>crs:</span><span class='ee-v'>EPSG:32718</span></li><li><label class='ee-shut'>crs_transform: [20, 0, 600000, 0, -20, 9600040]<input type='checkbox' class='ee-toggle'></label><ul><li><span class='ee-k'>0:</span><span class='ee-v'>20</span></li><li><span class='ee-k'>1:</span><span class='ee-v'>0</span></li><li><span class='ee-k'>2:</span><span class='ee-v'>600000</span></li><li><span class='ee-k'>3:</span><span class='ee-v'>0</span></li><li><span class='ee-k'>4:</span><span class='ee-v'>-20</span></li><li><span class='ee-k'>5:</span><span class='ee-v'>9600040</span></li></ul></li><li><label class='ee-shut'>data_type: unsigned int16<input type='checkbox' class='ee-toggle'></label><ul><li><span class='ee-k'>type:</span><span class='ee-v'>PixelType</span></li><li><span class='ee-k'>max:</span><span class='ee-v'>65535</span></li><li><span class='ee-k'>min:</span><span class='ee-v'>0</span></li><li><span class='ee-k'>precision:</span><span class='ee-v'>int</span></li></ul></li><li><label class='ee-shut'>dimensions: [1096, 1789]<input type='checkbox' class='ee-toggle'></label><ul><li><span class='ee-k'>0:</span><span class='ee-v'>1096</span></li><li><span class='ee-k'>1:</span><span class='ee-v'>1789</span></li></ul></li><li><label class='ee-shut'>origin: [1678, 3025]<input type='checkbox' class='ee-toggle'></label><ul><li><span class='ee-k'>0:</span><span class='ee-v'>1678</span></li><li><span class='ee-k'>1:</span><span class='ee-v'>3025</span></li></ul></li></ul></li><li><label class='ee-shut'>11: \"B12\", unsigned int16, EPSG:32718, 1096x1789 px<input type='checkbox' class='ee-toggle'></label><ul><li><span class='ee-k'>id:</span><span class='ee-v'>B12</span></li><li><span class='ee-k'>crs:</span><span class='ee-v'>EPSG:32718</span></li><li><label class='ee-shut'>crs_transform: [20, 0, 600000, 0, -20, 9600040]<input type='checkbox' class='ee-toggle'></label><ul><li><span class='ee-k'>0:</span><span class='ee-v'>20</span></li><li><span class='ee-k'>1:</span><span class='ee-v'>0</span></li><li><span class='ee-k'>2:</span><span class='ee-v'>600000</span></li><li><span class='ee-k'>3:</span><span class='ee-v'>0</span></li><li><span class='ee-k'>4:</span><span class='ee-v'>-20</span></li><li><span class='ee-k'>5:</span><span class='ee-v'>9600040</span></li></ul></li><li><label class='ee-shut'>data_type: unsigned int16<input type='checkbox' class='ee-toggle'></label><ul><li><span class='ee-k'>type:</span><span class='ee-v'>PixelType</span></li><li><span class='ee-k'>max:</span><span class='ee-v'>65535</span></li><li><span class='ee-k'>min:</span><span class='ee-v'>0</span></li><li><span class='ee-k'>precision:</span><span class='ee-v'>int</span></li></ul></li><li><label class='ee-shut'>dimensions: [1096, 1789]<input type='checkbox' class='ee-toggle'></label><ul><li><span class='ee-k'>0:</span><span class='ee-v'>1096</span></li><li><span class='ee-k'>1:</span><span class='ee-v'>1789</span></li></ul></li><li><label class='ee-shut'>origin: [1678, 3025]<input type='checkbox' class='ee-toggle'></label><ul><li><span class='ee-k'>0:</span><span class='ee-v'>1678</span></li><li><span class='ee-k'>1:</span><span class='ee-v'>3025</span></li></ul></li></ul></li><li><label class='ee-shut'>12: \"AOT\", unsigned int16, EPSG:32718, 2191x3576 px<input type='checkbox' class='ee-toggle'></label><ul><li><span class='ee-k'>id:</span><span class='ee-v'>AOT</span></li><li><span class='ee-k'>crs:</span><span class='ee-v'>EPSG:32718</span></li><li><label class='ee-shut'>crs_transform: [10, 0, 600000, 0, -10, 9600040]<input type='checkbox' class='ee-toggle'></label><ul><li><span class='ee-k'>0:</span><span class='ee-v'>10</span></li><li><span class='ee-k'>1:</span><span class='ee-v'>0</span></li><li><span class='ee-k'>2:</span><span class='ee-v'>600000</span></li><li><span class='ee-k'>3:</span><span class='ee-v'>0</span></li><li><span class='ee-k'>4:</span><span class='ee-v'>-10</span></li><li><span class='ee-k'>5:</span><span class='ee-v'>9600040</span></li></ul></li><li><label class='ee-shut'>data_type: unsigned int16<input type='checkbox' class='ee-toggle'></label><ul><li><span class='ee-k'>type:</span><span class='ee-v'>PixelType</span></li><li><span class='ee-k'>max:</span><span class='ee-v'>65535</span></li><li><span class='ee-k'>min:</span><span class='ee-v'>0</span></li><li><span class='ee-k'>precision:</span><span class='ee-v'>int</span></li></ul></li><li><label class='ee-shut'>dimensions: [2191, 3576]<input type='checkbox' class='ee-toggle'></label><ul><li><span class='ee-k'>0:</span><span class='ee-v'>2191</span></li><li><span class='ee-k'>1:</span><span class='ee-v'>3576</span></li></ul></li><li><label class='ee-shut'>origin: [3356, 6051]<input type='checkbox' class='ee-toggle'></label><ul><li><span class='ee-k'>0:</span><span class='ee-v'>3356</span></li><li><span class='ee-k'>1:</span><span class='ee-v'>6051</span></li></ul></li></ul></li><li><label class='ee-shut'>13: \"WVP\", unsigned int16, EPSG:32718, 2191x3576 px<input type='checkbox' class='ee-toggle'></label><ul><li><span class='ee-k'>id:</span><span class='ee-v'>WVP</span></li><li><span class='ee-k'>crs:</span><span class='ee-v'>EPSG:32718</span></li><li><label class='ee-shut'>crs_transform: [10, 0, 600000, 0, -10, 9600040]<input type='checkbox' class='ee-toggle'></label><ul><li><span class='ee-k'>0:</span><span class='ee-v'>10</span></li><li><span class='ee-k'>1:</span><span class='ee-v'>0</span></li><li><span class='ee-k'>2:</span><span class='ee-v'>600000</span></li><li><span class='ee-k'>3:</span><span class='ee-v'>0</span></li><li><span class='ee-k'>4:</span><span class='ee-v'>-10</span></li><li><span class='ee-k'>5:</span><span class='ee-v'>9600040</span></li></ul></li><li><label class='ee-shut'>data_type: unsigned int16<input type='checkbox' class='ee-toggle'></label><ul><li><span class='ee-k'>type:</span><span class='ee-v'>PixelType</span></li><li><span class='ee-k'>max:</span><span class='ee-v'>65535</span></li><li><span class='ee-k'>min:</span><span class='ee-v'>0</span></li><li><span class='ee-k'>precision:</span><span class='ee-v'>int</span></li></ul></li><li><label class='ee-shut'>dimensions: [2191, 3576]<input type='checkbox' class='ee-toggle'></label><ul><li><span class='ee-k'>0:</span><span class='ee-v'>2191</span></li><li><span class='ee-k'>1:</span><span class='ee-v'>3576</span></li></ul></li><li><label class='ee-shut'>origin: [3356, 6051]<input type='checkbox' class='ee-toggle'></label><ul><li><span class='ee-k'>0:</span><span class='ee-v'>3356</span></li><li><span class='ee-k'>1:</span><span class='ee-v'>6051</span></li></ul></li></ul></li><li><label class='ee-shut'>14: \"SCL\", unsigned int8, EPSG:32718, 1096x1789 px<input type='checkbox' class='ee-toggle'></label><ul><li><span class='ee-k'>id:</span><span class='ee-v'>SCL</span></li><li><span class='ee-k'>crs:</span><span class='ee-v'>EPSG:32718</span></li><li><label class='ee-shut'>crs_transform: [20, 0, 600000, 0, -20, 9600040]<input type='checkbox' class='ee-toggle'></label><ul><li><span class='ee-k'>0:</span><span class='ee-v'>20</span></li><li><span class='ee-k'>1:</span><span class='ee-v'>0</span></li><li><span class='ee-k'>2:</span><span class='ee-v'>600000</span></li><li><span class='ee-k'>3:</span><span class='ee-v'>0</span></li><li><span class='ee-k'>4:</span><span class='ee-v'>-20</span></li><li><span class='ee-k'>5:</span><span class='ee-v'>9600040</span></li></ul></li><li><label class='ee-shut'>data_type: unsigned int8<input type='checkbox' class='ee-toggle'></label><ul><li><span class='ee-k'>type:</span><span class='ee-v'>PixelType</span></li><li><span class='ee-k'>max:</span><span class='ee-v'>255</span></li><li><span class='ee-k'>min:</span><span class='ee-v'>0</span></li><li><span class='ee-k'>precision:</span><span class='ee-v'>int</span></li></ul></li><li><label class='ee-shut'>dimensions: [1096, 1789]<input type='checkbox' class='ee-toggle'></label><ul><li><span class='ee-k'>0:</span><span class='ee-v'>1096</span></li><li><span class='ee-k'>1:</span><span class='ee-v'>1789</span></li></ul></li><li><label class='ee-shut'>origin: [1678, 3025]<input type='checkbox' class='ee-toggle'></label><ul><li><span class='ee-k'>0:</span><span class='ee-v'>1678</span></li><li><span class='ee-k'>1:</span><span class='ee-v'>3025</span></li></ul></li></ul></li><li><label class='ee-shut'>15: \"TCI_R\", unsigned int8, EPSG:32718, 2191x3576 px<input type='checkbox' class='ee-toggle'></label><ul><li><span class='ee-k'>id:</span><span class='ee-v'>TCI_R</span></li><li><span class='ee-k'>crs:</span><span class='ee-v'>EPSG:32718</span></li><li><label class='ee-shut'>crs_transform: [10, 0, 600000, 0, -10, 9600040]<input type='checkbox' class='ee-toggle'></label><ul><li><span class='ee-k'>0:</span><span class='ee-v'>10</span></li><li><span class='ee-k'>1:</span><span class='ee-v'>0</span></li><li><span class='ee-k'>2:</span><span class='ee-v'>600000</span></li><li><span class='ee-k'>3:</span><span class='ee-v'>0</span></li><li><span class='ee-k'>4:</span><span class='ee-v'>-10</span></li><li><span class='ee-k'>5:</span><span class='ee-v'>9600040</span></li></ul></li><li><label class='ee-shut'>data_type: unsigned int8<input type='checkbox' class='ee-toggle'></label><ul><li><span class='ee-k'>type:</span><span class='ee-v'>PixelType</span></li><li><span class='ee-k'>max:</span><span class='ee-v'>255</span></li><li><span class='ee-k'>min:</span><span class='ee-v'>0</span></li><li><span class='ee-k'>precision:</span><span class='ee-v'>int</span></li></ul></li><li><label class='ee-shut'>dimensions: [2191, 3576]<input type='checkbox' class='ee-toggle'></label><ul><li><span class='ee-k'>0:</span><span class='ee-v'>2191</span></li><li><span class='ee-k'>1:</span><span class='ee-v'>3576</span></li></ul></li><li><label class='ee-shut'>origin: [3356, 6051]<input type='checkbox' class='ee-toggle'></label><ul><li><span class='ee-k'>0:</span><span class='ee-v'>3356</span></li><li><span class='ee-k'>1:</span><span class='ee-v'>6051</span></li></ul></li></ul></li><li><label class='ee-shut'>16: \"TCI_G\", unsigned int8, EPSG:32718, 2191x3576 px<input type='checkbox' class='ee-toggle'></label><ul><li><span class='ee-k'>id:</span><span class='ee-v'>TCI_G</span></li><li><span class='ee-k'>crs:</span><span class='ee-v'>EPSG:32718</span></li><li><label class='ee-shut'>crs_transform: [10, 0, 600000, 0, -10, 9600040]<input type='checkbox' class='ee-toggle'></label><ul><li><span class='ee-k'>0:</span><span class='ee-v'>10</span></li><li><span class='ee-k'>1:</span><span class='ee-v'>0</span></li><li><span class='ee-k'>2:</span><span class='ee-v'>600000</span></li><li><span class='ee-k'>3:</span><span class='ee-v'>0</span></li><li><span class='ee-k'>4:</span><span class='ee-v'>-10</span></li><li><span class='ee-k'>5:</span><span class='ee-v'>9600040</span></li></ul></li><li><label class='ee-shut'>data_type: unsigned int8<input type='checkbox' class='ee-toggle'></label><ul><li><span class='ee-k'>type:</span><span class='ee-v'>PixelType</span></li><li><span class='ee-k'>max:</span><span class='ee-v'>255</span></li><li><span class='ee-k'>min:</span><span class='ee-v'>0</span></li><li><span class='ee-k'>precision:</span><span class='ee-v'>int</span></li></ul></li><li><label class='ee-shut'>dimensions: [2191, 3576]<input type='checkbox' class='ee-toggle'></label><ul><li><span class='ee-k'>0:</span><span class='ee-v'>2191</span></li><li><span class='ee-k'>1:</span><span class='ee-v'>3576</span></li></ul></li><li><label class='ee-shut'>origin: [3356, 6051]<input type='checkbox' class='ee-toggle'></label><ul><li><span class='ee-k'>0:</span><span class='ee-v'>3356</span></li><li><span class='ee-k'>1:</span><span class='ee-v'>6051</span></li></ul></li></ul></li><li><label class='ee-shut'>17: \"TCI_B\", unsigned int8, EPSG:32718, 2191x3576 px<input type='checkbox' class='ee-toggle'></label><ul><li><span class='ee-k'>id:</span><span class='ee-v'>TCI_B</span></li><li><span class='ee-k'>crs:</span><span class='ee-v'>EPSG:32718</span></li><li><label class='ee-shut'>crs_transform: [10, 0, 600000, 0, -10, 9600040]<input type='checkbox' class='ee-toggle'></label><ul><li><span class='ee-k'>0:</span><span class='ee-v'>10</span></li><li><span class='ee-k'>1:</span><span class='ee-v'>0</span></li><li><span class='ee-k'>2:</span><span class='ee-v'>600000</span></li><li><span class='ee-k'>3:</span><span class='ee-v'>0</span></li><li><span class='ee-k'>4:</span><span class='ee-v'>-10</span></li><li><span class='ee-k'>5:</span><span class='ee-v'>9600040</span></li></ul></li><li><label class='ee-shut'>data_type: unsigned int8<input type='checkbox' class='ee-toggle'></label><ul><li><span class='ee-k'>type:</span><span class='ee-v'>PixelType</span></li><li><span class='ee-k'>max:</span><span class='ee-v'>255</span></li><li><span class='ee-k'>min:</span><span class='ee-v'>0</span></li><li><span class='ee-k'>precision:</span><span class='ee-v'>int</span></li></ul></li><li><label class='ee-shut'>dimensions: [2191, 3576]<input type='checkbox' class='ee-toggle'></label><ul><li><span class='ee-k'>0:</span><span class='ee-v'>2191</span></li><li><span class='ee-k'>1:</span><span class='ee-v'>3576</span></li></ul></li><li><label class='ee-shut'>origin: [3356, 6051]<input type='checkbox' class='ee-toggle'></label><ul><li><span class='ee-k'>0:</span><span class='ee-v'>3356</span></li><li><span class='ee-k'>1:</span><span class='ee-v'>6051</span></li></ul></li></ul></li><li><label class='ee-shut'>18: \"MSK_CLDPRB\", unsigned int8, EPSG:32718, 1096x1789 px<input type='checkbox' class='ee-toggle'></label><ul><li><span class='ee-k'>id:</span><span class='ee-v'>MSK_CLDPRB</span></li><li><span class='ee-k'>crs:</span><span class='ee-v'>EPSG:32718</span></li><li><label class='ee-shut'>crs_transform: [20, 0, 600000, 0, -20, 9600040]<input type='checkbox' class='ee-toggle'></label><ul><li><span class='ee-k'>0:</span><span class='ee-v'>20</span></li><li><span class='ee-k'>1:</span><span class='ee-v'>0</span></li><li><span class='ee-k'>2:</span><span class='ee-v'>600000</span></li><li><span class='ee-k'>3:</span><span class='ee-v'>0</span></li><li><span class='ee-k'>4:</span><span class='ee-v'>-20</span></li><li><span class='ee-k'>5:</span><span class='ee-v'>9600040</span></li></ul></li><li><label class='ee-shut'>data_type: unsigned int8<input type='checkbox' class='ee-toggle'></label><ul><li><span class='ee-k'>type:</span><span class='ee-v'>PixelType</span></li><li><span class='ee-k'>max:</span><span class='ee-v'>255</span></li><li><span class='ee-k'>min:</span><span class='ee-v'>0</span></li><li><span class='ee-k'>precision:</span><span class='ee-v'>int</span></li></ul></li><li><label class='ee-shut'>dimensions: [1096, 1789]<input type='checkbox' class='ee-toggle'></label><ul><li><span class='ee-k'>0:</span><span class='ee-v'>1096</span></li><li><span class='ee-k'>1:</span><span class='ee-v'>1789</span></li></ul></li><li><label class='ee-shut'>origin: [1678, 3025]<input type='checkbox' class='ee-toggle'></label><ul><li><span class='ee-k'>0:</span><span class='ee-v'>1678</span></li><li><span class='ee-k'>1:</span><span class='ee-v'>3025</span></li></ul></li></ul></li><li><label class='ee-shut'>19: \"MSK_SNWPRB\", unsigned int8, EPSG:32718, 1096x1789 px<input type='checkbox' class='ee-toggle'></label><ul><li><span class='ee-k'>id:</span><span class='ee-v'>MSK_SNWPRB</span></li><li><span class='ee-k'>crs:</span><span class='ee-v'>EPSG:32718</span></li><li><label class='ee-shut'>crs_transform: [20, 0, 600000, 0, -20, 9600040]<input type='checkbox' class='ee-toggle'></label><ul><li><span class='ee-k'>0:</span><span class='ee-v'>20</span></li><li><span class='ee-k'>1:</span><span class='ee-v'>0</span></li><li><span class='ee-k'>2:</span><span class='ee-v'>600000</span></li><li><span class='ee-k'>3:</span><span class='ee-v'>0</span></li><li><span class='ee-k'>4:</span><span class='ee-v'>-20</span></li><li><span class='ee-k'>5:</span><span class='ee-v'>9600040</span></li></ul></li><li><label class='ee-shut'>data_type: unsigned int8<input type='checkbox' class='ee-toggle'></label><ul><li><span class='ee-k'>type:</span><span class='ee-v'>PixelType</span></li><li><span class='ee-k'>max:</span><span class='ee-v'>255</span></li><li><span class='ee-k'>min:</span><span class='ee-v'>0</span></li><li><span class='ee-k'>precision:</span><span class='ee-v'>int</span></li></ul></li><li><label class='ee-shut'>dimensions: [1096, 1789]<input type='checkbox' class='ee-toggle'></label><ul><li><span class='ee-k'>0:</span><span class='ee-v'>1096</span></li><li><span class='ee-k'>1:</span><span class='ee-v'>1789</span></li></ul></li><li><label class='ee-shut'>origin: [1678, 3025]<input type='checkbox' class='ee-toggle'></label><ul><li><span class='ee-k'>0:</span><span class='ee-v'>1678</span></li><li><span class='ee-k'>1:</span><span class='ee-v'>3025</span></li></ul></li></ul></li><li><label class='ee-shut'>20: \"QA10\", unsigned int16, EPSG:32718, 2191x3576 px<input type='checkbox' class='ee-toggle'></label><ul><li><span class='ee-k'>id:</span><span class='ee-v'>QA10</span></li><li><span class='ee-k'>crs:</span><span class='ee-v'>EPSG:32718</span></li><li><label class='ee-shut'>crs_transform: [10, 0, 600000, 0, -10, 9600040]<input type='checkbox' class='ee-toggle'></label><ul><li><span class='ee-k'>0:</span><span class='ee-v'>10</span></li><li><span class='ee-k'>1:</span><span class='ee-v'>0</span></li><li><span class='ee-k'>2:</span><span class='ee-v'>600000</span></li><li><span class='ee-k'>3:</span><span class='ee-v'>0</span></li><li><span class='ee-k'>4:</span><span class='ee-v'>-10</span></li><li><span class='ee-k'>5:</span><span class='ee-v'>9600040</span></li></ul></li><li><label class='ee-shut'>data_type: unsigned int16<input type='checkbox' class='ee-toggle'></label><ul><li><span class='ee-k'>type:</span><span class='ee-v'>PixelType</span></li><li><span class='ee-k'>max:</span><span class='ee-v'>65535</span></li><li><span class='ee-k'>min:</span><span class='ee-v'>0</span></li><li><span class='ee-k'>precision:</span><span class='ee-v'>int</span></li></ul></li><li><label class='ee-shut'>dimensions: [2191, 3576]<input type='checkbox' class='ee-toggle'></label><ul><li><span class='ee-k'>0:</span><span class='ee-v'>2191</span></li><li><span class='ee-k'>1:</span><span class='ee-v'>3576</span></li></ul></li><li><label class='ee-shut'>origin: [3356, 6051]<input type='checkbox' class='ee-toggle'></label><ul><li><span class='ee-k'>0:</span><span class='ee-v'>3356</span></li><li><span class='ee-k'>1:</span><span class='ee-v'>6051</span></li></ul></li></ul></li><li><label class='ee-shut'>21: \"QA20\", unsigned int32, EPSG:32718, 1096x1789 px<input type='checkbox' class='ee-toggle'></label><ul><li><span class='ee-k'>id:</span><span class='ee-v'>QA20</span></li><li><span class='ee-k'>crs:</span><span class='ee-v'>EPSG:32718</span></li><li><label class='ee-shut'>crs_transform: [20, 0, 600000, 0, -20, 9600040]<input type='checkbox' class='ee-toggle'></label><ul><li><span class='ee-k'>0:</span><span class='ee-v'>20</span></li><li><span class='ee-k'>1:</span><span class='ee-v'>0</span></li><li><span class='ee-k'>2:</span><span class='ee-v'>600000</span></li><li><span class='ee-k'>3:</span><span class='ee-v'>0</span></li><li><span class='ee-k'>4:</span><span class='ee-v'>-20</span></li><li><span class='ee-k'>5:</span><span class='ee-v'>9600040</span></li></ul></li><li><label class='ee-shut'>data_type: unsigned int32<input type='checkbox' class='ee-toggle'></label><ul><li><span class='ee-k'>type:</span><span class='ee-v'>PixelType</span></li><li><span class='ee-k'>max:</span><span class='ee-v'>4294967295</span></li><li><span class='ee-k'>min:</span><span class='ee-v'>0</span></li><li><span class='ee-k'>precision:</span><span class='ee-v'>int</span></li></ul></li><li><label class='ee-shut'>dimensions: [1096, 1789]<input type='checkbox' class='ee-toggle'></label><ul><li><span class='ee-k'>0:</span><span class='ee-v'>1096</span></li><li><span class='ee-k'>1:</span><span class='ee-v'>1789</span></li></ul></li><li><label class='ee-shut'>origin: [1678, 3025]<input type='checkbox' class='ee-toggle'></label><ul><li><span class='ee-k'>0:</span><span class='ee-v'>1678</span></li><li><span class='ee-k'>1:</span><span class='ee-v'>3025</span></li></ul></li></ul></li><li><label class='ee-shut'>22: \"QA60\", unsigned int16, EPSG:32718, 366x597 px<input type='checkbox' class='ee-toggle'></label><ul><li><span class='ee-k'>id:</span><span class='ee-v'>QA60</span></li><li><span class='ee-k'>crs:</span><span class='ee-v'>EPSG:32718</span></li><li><label class='ee-shut'>crs_transform: [60, 0, 600000, 0, -60, 9600040]<input type='checkbox' class='ee-toggle'></label><ul><li><span class='ee-k'>0:</span><span class='ee-v'>60</span></li><li><span class='ee-k'>1:</span><span class='ee-v'>0</span></li><li><span class='ee-k'>2:</span><span class='ee-v'>600000</span></li><li><span class='ee-k'>3:</span><span class='ee-v'>0</span></li><li><span class='ee-k'>4:</span><span class='ee-v'>-60</span></li><li><span class='ee-k'>5:</span><span class='ee-v'>9600040</span></li></ul></li><li><label class='ee-shut'>data_type: unsigned int16<input type='checkbox' class='ee-toggle'></label><ul><li><span class='ee-k'>type:</span><span class='ee-v'>PixelType</span></li><li><span class='ee-k'>max:</span><span class='ee-v'>65535</span></li><li><span class='ee-k'>min:</span><span class='ee-v'>0</span></li><li><span class='ee-k'>precision:</span><span class='ee-v'>int</span></li></ul></li><li><label class='ee-shut'>dimensions: [366, 597]<input type='checkbox' class='ee-toggle'></label><ul><li><span class='ee-k'>0:</span><span class='ee-v'>366</span></li><li><span class='ee-k'>1:</span><span class='ee-v'>597</span></li></ul></li><li><label class='ee-shut'>origin: [559, 1008]<input type='checkbox' class='ee-toggle'></label><ul><li><span class='ee-k'>0:</span><span class='ee-v'>559</span></li><li><span class='ee-k'>1:</span><span class='ee-v'>1008</span></li></ul></li></ul></li></ul></li><li><label class='ee-shut'>properties: Object (81 properties)<input type='checkbox' class='ee-toggle'></label><ul><li><span class='ee-k'>AOT_RETRIEVAL_ACCURACY:</span><span class='ee-v'>0</span></li><li><span class='ee-k'>CLOUDY_PIXEL_PERCENTAGE:</span><span class='ee-v'>0.268722</span></li><li><span class='ee-k'>CLOUD_COVERAGE_ASSESSMENT:</span><span class='ee-v'>0.268722</span></li><li><span class='ee-k'>CLOUD_SHADOW_PERCENTAGE:</span><span class='ee-v'>0.043301</span></li><li><span class='ee-k'>DARK_FEATURES_PERCENTAGE:</span><span class='ee-v'>0.379066</span></li><li><span class='ee-k'>DATASTRIP_ID:</span><span class='ee-v'>S2A_OPER_MSI_L2A_DS_SGS__20190809T192331_S20190809T151806_N02.13</span></li><li><span class='ee-k'>DATATAKE_IDENTIFIER:</span><span class='ee-v'>GS2A_20190809T151711_021572_N02.13</span></li><li><span class='ee-k'>DATATAKE_TYPE:</span><span class='ee-v'>INS-NOBS</span></li><li><span class='ee-k'>DEGRADED_MSI_DATA_PERCENTAGE:</span><span class='ee-v'>0</span></li><li><span class='ee-k'>FORMAT_CORRECTNESS:</span><span class='ee-v'>PASSED</span></li><li><span class='ee-k'>GENERAL_QUALITY:</span><span class='ee-v'>PASSED</span></li><li><span class='ee-k'>GENERATION_TIME:</span><span class='ee-v'>1565378611000</span></li><li><span class='ee-k'>GEOMETRIC_QUALITY:</span><span class='ee-v'>PASSED</span></li><li><span class='ee-k'>GRANULE_ID:</span><span class='ee-v'>L2A_T18MXA_A021572_20190809T151806</span></li><li><span class='ee-k'>HIGH_PROBA_CLOUDS_PERCENTAGE:</span><span class='ee-v'>0.048109</span></li><li><span class='ee-k'>MEAN_INCIDENCE_AZIMUTH_ANGLE_B1:</span><span class='ee-v'>274.44883424</span></li><li><span class='ee-k'>MEAN_INCIDENCE_AZIMUTH_ANGLE_B10:</span><span class='ee-v'>275.459774834</span></li><li><span class='ee-k'>MEAN_INCIDENCE_AZIMUTH_ANGLE_B11:</span><span class='ee-v'>274.95284803</span></li><li><span class='ee-k'>MEAN_INCIDENCE_AZIMUTH_ANGLE_B12:</span><span class='ee-v'>274.554560155</span></li><li><span class='ee-k'>MEAN_INCIDENCE_AZIMUTH_ANGLE_B2:</span><span class='ee-v'>277.114972957</span></li><li><span class='ee-k'>MEAN_INCIDENCE_AZIMUTH_ANGLE_B3:</span><span class='ee-v'>276.084528095</span></li><li><span class='ee-k'>MEAN_INCIDENCE_AZIMUTH_ANGLE_B4:</span><span class='ee-v'>275.454931387</span></li><li><span class='ee-k'>MEAN_INCIDENCE_AZIMUTH_ANGLE_B5:</span><span class='ee-v'>275.180740302</span></li><li><span class='ee-k'>MEAN_INCIDENCE_AZIMUTH_ANGLE_B6:</span><span class='ee-v'>274.977689395</span></li><li><span class='ee-k'>MEAN_INCIDENCE_AZIMUTH_ANGLE_B7:</span><span class='ee-v'>274.791046575</span></li><li><span class='ee-k'>MEAN_INCIDENCE_AZIMUTH_ANGLE_B8:</span><span class='ee-v'>276.544397721</span></li><li><span class='ee-k'>MEAN_INCIDENCE_AZIMUTH_ANGLE_B8A:</span><span class='ee-v'>274.654301822</span></li><li><span class='ee-k'>MEAN_INCIDENCE_AZIMUTH_ANGLE_B9:</span><span class='ee-v'>274.344587115</span></li><li><span class='ee-k'>MEAN_INCIDENCE_ZENITH_ANGLE_B1:</span><span class='ee-v'>5.32467612511</span></li><li><span class='ee-k'>MEAN_INCIDENCE_ZENITH_ANGLE_B10:</span><span class='ee-v'>5.06548703722</span></li><li><span class='ee-k'>MEAN_INCIDENCE_ZENITH_ANGLE_B11:</span><span class='ee-v'>5.17060419881</span></li><li><span class='ee-k'>MEAN_INCIDENCE_ZENITH_ANGLE_B12:</span><span class='ee-v'>5.29942975437</span></li><li><span class='ee-k'>MEAN_INCIDENCE_ZENITH_ANGLE_B2:</span><span class='ee-v'>4.92265535137</span></li><li><span class='ee-k'>MEAN_INCIDENCE_ZENITH_ANGLE_B3:</span><span class='ee-v'>4.98387434073</span></li><li><span class='ee-k'>MEAN_INCIDENCE_ZENITH_ANGLE_B4:</span><span class='ee-v'>5.05651503589</span></li><li><span class='ee-k'>MEAN_INCIDENCE_ZENITH_ANGLE_B5:</span><span class='ee-v'>5.10194376444</span></li><li><span class='ee-k'>MEAN_INCIDENCE_ZENITH_ANGLE_B6:</span><span class='ee-v'>5.15098384302</span></li><li><span class='ee-k'>MEAN_INCIDENCE_ZENITH_ANGLE_B7:</span><span class='ee-v'>5.20388407885</span></li><li><span class='ee-k'>MEAN_INCIDENCE_ZENITH_ANGLE_B8:</span><span class='ee-v'>4.95078068382</span></li><li><span class='ee-k'>MEAN_INCIDENCE_ZENITH_ANGLE_B8A:</span><span class='ee-v'>5.25989230178</span></li><li><span class='ee-k'>MEAN_INCIDENCE_ZENITH_ANGLE_B9:</span><span class='ee-v'>5.38845301168</span></li><li><span class='ee-k'>MEAN_SOLAR_AZIMUTH_ANGLE:</span><span class='ee-v'>49.3614815429</span></li><li><span class='ee-k'>MEAN_SOLAR_ZENITH_ANGLE:</span><span class='ee-v'>30.9395461331</span></li><li><span class='ee-k'>MEDIUM_PROBA_CLOUDS_PERCENTAGE:</span><span class='ee-v'>0.184415</span></li><li><span class='ee-k'>MGRS_TILE:</span><span class='ee-v'>18MXA</span></li><li><span class='ee-k'>NODATA_PIXEL_PERCENTAGE:</span><span class='ee-v'>7e-06</span></li><li><span class='ee-k'>NOT_VEGETATED_PERCENTAGE:</span><span class='ee-v'>0.554647</span></li><li><span class='ee-k'>PROCESSING_BASELINE:</span><span class='ee-v'>02.13</span></li><li><span class='ee-k'>PRODUCT_ID:</span><span class='ee-v'>S2A_MSIL2A_20190809T151711_N0213_R125_T18MXA_20190809T192331</span></li><li><span class='ee-k'>RADIATIVE_TRANSFER_ACCURACY:</span><span class='ee-v'>0</span></li><li><span class='ee-k'>RADIOMETRIC_QUALITY:</span><span class='ee-v'>PASSED</span></li><li><span class='ee-k'>REFLECTANCE_CONVERSION_CORRECTION:</span><span class='ee-v'>0.971989551161</span></li><li><span class='ee-k'>SATURATED_DEFECTIVE_PIXEL_PERCENTAGE:</span><span class='ee-v'>0</span></li><li><span class='ee-k'>SENSING_ORBIT_DIRECTION:</span><span class='ee-v'>DESCENDING</span></li><li><span class='ee-k'>SENSING_ORBIT_NUMBER:</span><span class='ee-v'>125</span></li><li><span class='ee-k'>SENSOR_QUALITY:</span><span class='ee-v'>PASSED</span></li><li><span class='ee-k'>SNOW_ICE_PERCENTAGE:</span><span class='ee-v'>0</span></li><li><span class='ee-k'>SOLAR_IRRADIANCE_B1:</span><span class='ee-v'>1884.69</span></li><li><span class='ee-k'>SOLAR_IRRADIANCE_B10:</span><span class='ee-v'>367.15</span></li><li><span class='ee-k'>SOLAR_IRRADIANCE_B11:</span><span class='ee-v'>245.59</span></li><li><span class='ee-k'>SOLAR_IRRADIANCE_B12:</span><span class='ee-v'>85.25</span></li><li><span class='ee-k'>SOLAR_IRRADIANCE_B2:</span><span class='ee-v'>1959.72</span></li><li><span class='ee-k'>SOLAR_IRRADIANCE_B3:</span><span class='ee-v'>1823.24</span></li><li><span class='ee-k'>SOLAR_IRRADIANCE_B4:</span><span class='ee-v'>1512.06</span></li><li><span class='ee-k'>SOLAR_IRRADIANCE_B5:</span><span class='ee-v'>1424.64</span></li><li><span class='ee-k'>SOLAR_IRRADIANCE_B6:</span><span class='ee-v'>1287.61</span></li><li><span class='ee-k'>SOLAR_IRRADIANCE_B7:</span><span class='ee-v'>1162.08</span></li><li><span class='ee-k'>SOLAR_IRRADIANCE_B8:</span><span class='ee-v'>1041.63</span></li><li><span class='ee-k'>SOLAR_IRRADIANCE_B8A:</span><span class='ee-v'>955.32</span></li><li><span class='ee-k'>SOLAR_IRRADIANCE_B9:</span><span class='ee-v'>812.92</span></li><li><span class='ee-k'>SPACECRAFT_NAME:</span><span class='ee-v'>Sentinel-2A</span></li><li><span class='ee-k'>THIN_CIRRUS_PERCENTAGE:</span><span class='ee-v'>0.036198</span></li><li><span class='ee-k'>UNCLASSIFIED_PERCENTAGE:</span><span class='ee-v'>0.803478</span></li><li><span class='ee-k'>VEGETATION_PERCENTAGE:</span><span class='ee-v'>93.968755</span></li><li><span class='ee-k'>WATER_PERCENTAGE:</span><span class='ee-v'>3.982034</span></li><li><span class='ee-k'>WATER_VAPOUR_RETRIEVAL_ACCURACY:</span><span class='ee-v'>0</span></li><li><span class='ee-k'>system:asset_size:</span><span class='ee-v'>1560917201</span></li><li><label class='ee-shut'>system:footprint: Polygon (126 vertices)<input type='checkbox' class='ee-toggle'></label><ul><li><span class='ee-k'>type:</span><span class='ee-v'>Polygon</span></li><li><label class='ee-shut'>coordinates: List (1 element)<input type='checkbox' class='ee-toggle'></label><ul><li><label class='ee-shut'>0: List (126 elements)<input type='checkbox' class='ee-toggle'></label><ul><li><label class='ee-shut'>0: [-73.70644351295583, -4.245527932001742]<input type='checkbox' class='ee-toggle'></label><ul><li><span class='ee-k'>0:</span><span class='ee-v'>-73.70644351295583</span></li><li><span class='ee-k'>1:</span><span class='ee-v'>-4.245527932001742</span></li></ul></li><li><label class='ee-shut'>1: [-73.70651840850482, -4.200305430535437]<input type='checkbox' class='ee-toggle'></label><ul><li><span class='ee-k'>0:</span><span class='ee-v'>-73.70651840850482</span></li><li><span class='ee-k'>1:</span><span class='ee-v'>-4.200305430535437</span></li></ul></li><li><label class='ee-shut'>2: [-73.70654430447145, -4.184554511085448]<input type='checkbox' class='ee-toggle'></label><ul><li><span class='ee-k'>0:</span><span class='ee-v'>-73.70654430447145</span></li><li><span class='ee-k'>1:</span><span class='ee-v'>-4.184554511085448</span></li></ul></li><li><label class='ee-shut'>3: [-73.75161724827645, -4.164970396995145]<input type='checkbox' class='ee-toggle'></label><ul><li><span class='ee-k'>0:</span><span class='ee-v'>-73.75161724827645</span></li><li><span class='ee-k'>1:</span><span class='ee-v'>-4.164970396995145</span></li></ul></li><li><label class='ee-shut'>4: [-73.79665879269554, -4.165040682138108]<input type='checkbox' class='ee-toggle'></label><ul><li><span class='ee-k'>0:</span><span class='ee-v'>-73.79665879269554</span></li><li><span class='ee-k'>1:</span><span class='ee-v'>-4.165040682138108</span></li></ul></li><li><label class='ee-shut'>5: [-73.79664603445022, -4.173428671936142]<input type='checkbox' class='ee-toggle'></label><ul><li><span class='ee-k'>0:</span><span class='ee-v'>-73.79664603445022</span></li><li><span class='ee-k'>1:</span><span class='ee-v'>-4.173428671936142</span></li></ul></li><li><label class='ee-shut'>6: [-73.79660475885693, -4.200449802790024]<input type='checkbox' class='ee-toggle'></label><ul><li><span class='ee-k'>0:</span><span class='ee-v'>-73.79660475885693</span></li><li><span class='ee-k'>1:</span><span class='ee-v'>-4.200449802790024</span></li></ul></li><li><label class='ee-shut'>7: [-73.79656849245288, -4.224047724686024]<input type='checkbox' class='ee-toggle'></label><ul><li><span class='ee-k'>0:</span><span class='ee-v'>-73.79656849245288</span></li><li><span class='ee-k'>1:</span><span class='ee-v'>-4.224047724686024</span></li></ul></li><li><label class='ee-shut'>8: [-73.7965350763306, -4.245673864084816]<input type='checkbox' class='ee-toggle'></label><ul><li><span class='ee-k'>0:</span><span class='ee-v'>-73.7965350763306</span></li><li><span class='ee-k'>1:</span><span class='ee-v'>-4.245673864084816</span></li></ul></li><li><label class='ee-shut'>9: [-73.79646464076079, -4.290897871296439]<input type='checkbox' class='ee-toggle'></label><ul><li><span class='ee-k'>0:</span><span class='ee-v'>-73.79646464076079</span></li><li><span class='ee-k'>1:</span><span class='ee-v'>-4.290897871296439</span></li></ul></li><li><label class='ee-shut'>10: [-73.79639345192926, -4.336121823852913]<input type='checkbox' class='ee-toggle'></label><ul><li><span class='ee-k'>0:</span><span class='ee-v'>-73.79639345192926</span></li><li><span class='ee-k'>1:</span><span class='ee-v'>-4.336121823852913</span></li></ul></li><li><label class='ee-shut'>11: [-73.7963849853264, -4.341468738571878]<input type='checkbox' class='ee-toggle'></label><ul><li><span class='ee-k'>0:</span><span class='ee-v'>-73.7963849853264</span></li><li><span class='ee-k'>1:</span><span class='ee-v'>-4.341468738571878</span></li></ul></li><li><label class='ee-shut'>12: [-73.79632150961547, -4.381345721182393]<input type='checkbox' class='ee-toggle'></label><ul><li><span class='ee-k'>0:</span><span class='ee-v'>-73.79632150961547</span></li><li><span class='ee-k'>1:</span><span class='ee-v'>-4.381345721182393</span></li></ul></li><li><label class='ee-shut'>13: [-73.79624881359646, -4.426569562713167]<input type='checkbox' class='ee-toggle'></label><ul><li><span class='ee-k'>0:</span><span class='ee-v'>-73.79624881359646</span></li><li><span class='ee-k'>1:</span><span class='ee-v'>-4.426569562713167</span></li></ul></li><li><label class='ee-shut'>14: [-73.79617536364692, -4.47179334787365]<input type='checkbox' class='ee-toggle'></label><ul><li><span class='ee-k'>0:</span><span class='ee-v'>-73.79617536364692</span></li><li><span class='ee-k'>1:</span><span class='ee-v'>-4.47179334787365</span></li></ul></li><li><label class='ee-shut'>15: [-73.75108754529599, -4.488332065999658]<input type='checkbox' class='ee-toggle'></label><ul><li><span class='ee-k'>0:</span><span class='ee-v'>-73.75108754529599</span></li><li><span class='ee-k'>1:</span><span class='ee-v'>-4.488332065999658</span></li></ul></li><li><label class='ee-shut'>16: [-73.74970249138407, -4.4870009486664415]<input type='checkbox' class='ee-toggle'></label><ul><li><span class='ee-k'>0:</span><span class='ee-v'>-73.74970249138407</span></li><li><span class='ee-k'>1:</span><span class='ee-v'>-4.4870009486664415</span></li></ul></li><li><label class='ee-shut'>17: [-73.74881151999165, -4.486441911395095]<input type='checkbox' class='ee-toggle'></label><ul><li><span class='ee-k'>0:</span><span class='ee-v'>-73.74881151999165</span></li><li><span class='ee-k'>1:</span><span class='ee-v'>-4.486441911395095</span></li></ul></li><li><label class='ee-shut'>18: [-73.74778101389151, -4.485794629948547]<input type='checkbox' class='ee-toggle'></label><ul><li><span class='ee-k'>0:</span><span class='ee-v'>-73.74778101389151</span></li><li><span class='ee-k'>1:</span><span class='ee-v'>-4.485794629948547</span></li></ul></li><li><label class='ee-shut'>19: [-73.74575957769454, -4.484760074053891]<input type='checkbox' class='ee-toggle'></label><ul><li><span class='ee-k'>0:</span><span class='ee-v'>-73.74575957769454</span></li><li><span class='ee-k'>1:</span><span class='ee-v'>-4.484760074053891</span></li></ul></li><li><label class='ee-shut'>20: [-73.74366352147801, -4.483888188450969]<input type='checkbox' class='ee-toggle'></label><ul><li><span class='ee-k'>0:</span><span class='ee-v'>-73.74366352147801</span></li><li><span class='ee-k'>1:</span><span class='ee-v'>-4.483888188450969</span></li></ul></li><li><label class='ee-shut'>21: [-73.74239725852446, -4.483511924161269]<input type='checkbox' class='ee-toggle'></label><ul><li><span class='ee-k'>0:</span><span class='ee-v'>-73.74239725852446</span></li><li><span class='ee-k'>1:</span><span class='ee-v'>-4.483511924161269</span></li></ul></li><li><label class='ee-shut'>22: [-73.74149318626301, -4.483242556240875]<input type='checkbox' class='ee-toggle'></label><ul><li><span class='ee-k'>0:</span><span class='ee-v'>-73.74149318626301</span></li><li><span class='ee-k'>1:</span><span class='ee-v'>-4.483242556240875</span></li></ul></li><li><label class='ee-shut'>23: [-73.740553870473, -4.4830302883816415]<input type='checkbox' class='ee-toggle'></label><ul><li><span class='ee-k'>0:</span><span class='ee-v'>-73.740553870473</span></li><li><span class='ee-k'>1:</span><span class='ee-v'>-4.4830302883816415</span></li></ul></li><li><label class='ee-shut'>24: [-73.73927664852665, -4.482741009497692]<input type='checkbox' class='ee-toggle'></label><ul><li><span class='ee-k'>0:</span><span class='ee-v'>-73.73927664852665</span></li><li><span class='ee-k'>1:</span><span class='ee-v'>-4.482741009497692</span></li></ul></li><li><label class='ee-shut'>25: [-73.73780383279085, -4.482420096426139]<input type='checkbox' class='ee-toggle'></label><ul><li><span class='ee-k'>0:</span><span class='ee-v'>-73.73780383279085</span></li><li><span class='ee-k'>1:</span><span class='ee-v'>-4.482420096426139</span></li></ul></li><li><label class='ee-shut'>26: [-73.73706053468318, -4.482257818081319]<input type='checkbox' class='ee-toggle'></label><ul><li><span class='ee-k'>0:</span><span class='ee-v'>-73.73706053468318</span></li><li><span class='ee-k'>1:</span><span class='ee-v'>-4.482257818081319</span></li></ul></li><li><label class='ee-shut'>27: [-73.73596340554424, -4.48205612561772]<input type='checkbox' class='ee-toggle'></label><ul><li><span class='ee-k'>0:</span><span class='ee-v'>-73.73596340554424</span></li><li><span class='ee-k'>1:</span><span class='ee-v'>-4.48205612561772</span></li></ul></li><li><label class='ee-shut'>28: [-73.73482744885148, -4.481846947879099]<input type='checkbox' class='ee-toggle'></label><ul><li><span class='ee-k'>0:</span><span class='ee-v'>-73.73482744885148</span></li><li><span class='ee-k'>1:</span><span class='ee-v'>-4.481846947879099</span></li></ul></li><li><label class='ee-shut'>29: [-73.73258580271076, -4.481490324039987]<input type='checkbox' class='ee-toggle'></label><ul><li><span class='ee-k'>0:</span><span class='ee-v'>-73.73258580271076</span></li><li><span class='ee-k'>1:</span><span class='ee-v'>-4.481490324039987</span></li></ul></li><li><label class='ee-shut'>30: [-73.73154995509378, -4.481290812169524]<input type='checkbox' class='ee-toggle'></label><ul><li><span class='ee-k'>0:</span><span class='ee-v'>-73.73154995509378</span></li><li><span class='ee-k'>1:</span><span class='ee-v'>-4.481290812169524</span></li></ul></li><li><label class='ee-shut'>31: [-73.73036194862735, -4.481061458890254]<input type='checkbox' class='ee-toggle'></label><ul><li><span class='ee-k'>0:</span><span class='ee-v'>-73.73036194862735</span></li><li><span class='ee-k'>1:</span><span class='ee-v'>-4.481061458890254</span></li></ul></li><li><label class='ee-shut'>32: [-73.72813416548473, -4.480614220433293]<input type='checkbox' class='ee-toggle'></label><ul><li><span class='ee-k'>0:</span><span class='ee-v'>-73.72813416548473</span></li><li><span class='ee-k'>1:</span><span class='ee-v'>-4.480614220433293</span></li></ul></li><li><label class='ee-shut'>33: [-73.72765935516014, -4.48054655459936]<input type='checkbox' class='ee-toggle'></label><ul><li><span class='ee-k'>0:</span><span class='ee-v'>-73.72765935516014</span></li><li><span class='ee-k'>1:</span><span class='ee-v'>-4.48054655459936</span></li></ul></li><li><label class='ee-shut'>34: [-73.72588688184207, -4.480293836765291]<input type='checkbox' class='ee-toggle'></label><ul><li><span class='ee-k'>0:</span><span class='ee-v'>-73.72588688184207</span></li><li><span class='ee-k'>1:</span><span class='ee-v'>-4.480293836765291</span></li></ul></li><li><label class='ee-shut'>35: [-73.7251957293642, -4.480259437846727]<input type='checkbox' class='ee-toggle'></label><ul><li><span class='ee-k'>0:</span><span class='ee-v'>-73.7251957293642</span></li><li><span class='ee-k'>1:</span><span class='ee-v'>-4.480259437846727</span></li></ul></li><li><label class='ee-shut'>36: [-73.72362518332044, -4.4801811743438025]<input type='checkbox' class='ee-toggle'></label><ul><li><span class='ee-k'>0:</span><span class='ee-v'>-73.72362518332044</span></li><li><span class='ee-k'>1:</span><span class='ee-v'>-4.4801811743438025</span></li></ul></li><li><label class='ee-shut'>37: [-73.72287959618178, -4.480200854909804]<input type='checkbox' class='ee-toggle'></label><ul><li><span class='ee-k'>0:</span><span class='ee-v'>-73.72287959618178</span></li><li><span class='ee-k'>1:</span><span class='ee-v'>-4.480200854909804</span></li></ul></li><li><label class='ee-shut'>38: [-73.72135570848036, -4.48024069915099]<input type='checkbox' class='ee-toggle'></label><ul><li><span class='ee-k'>0:</span><span class='ee-v'>-73.72135570848036</span></li><li><span class='ee-k'>1:</span><span class='ee-v'>-4.48024069915099</span></li></ul></li><li><label class='ee-shut'>39: [-73.71943216369692, -4.480321625512571]<input type='checkbox' class='ee-toggle'></label><ul><li><span class='ee-k'>0:</span><span class='ee-v'>-73.71943216369692</span></li><li><span class='ee-k'>1:</span><span class='ee-v'>-4.480321625512571</span></li></ul></li><li><label class='ee-shut'>40: [-73.71908572203861, -4.480336213056514]<input type='checkbox' class='ee-toggle'></label><ul><li><span class='ee-k'>0:</span><span class='ee-v'>-73.71908572203861</span></li><li><span class='ee-k'>1:</span><span class='ee-v'>-4.480336213056514</span></li></ul></li><li><label class='ee-shut'>41: [-73.71700283916486, -4.481146292757484]<input type='checkbox' class='ee-toggle'></label><ul><li><span class='ee-k'>0:</span><span class='ee-v'>-73.71700283916486</span></li><li><span class='ee-k'>1:</span><span class='ee-v'>-4.481146292757484</span></li></ul></li><li><label class='ee-shut'>42: [-73.71601884651129, -4.481345171034944]<input type='checkbox' class='ee-toggle'></label><ul><li><span class='ee-k'>0:</span><span class='ee-v'>-73.71601884651129</span></li><li><span class='ee-k'>1:</span><span class='ee-v'>-4.481345171034944</span></li></ul></li><li><label class='ee-shut'>43: [-73.71478035982169, -4.481594882415131]<input type='checkbox' class='ee-toggle'></label><ul><li><span class='ee-k'>0:</span><span class='ee-v'>-73.71478035982169</span></li><li><span class='ee-k'>1:</span><span class='ee-v'>-4.481594882415131</span></li></ul></li><li><label class='ee-shut'>44: [-73.71346028722132, -4.481603050291513]<input type='checkbox' class='ee-toggle'></label><ul><li><span class='ee-k'>0:</span><span class='ee-v'>-73.71346028722132</span></li><li><span class='ee-k'>1:</span><span class='ee-v'>-4.481603050291513</span></li></ul></li><li><label class='ee-shut'>45: [-73.71250916495588, -4.481608881466721]<input type='checkbox' class='ee-toggle'></label><ul><li><span class='ee-k'>0:</span><span class='ee-v'>-73.71250916495588</span></li><li><span class='ee-k'>1:</span><span class='ee-v'>-4.481608881466721</span></li></ul></li><li><label class='ee-shut'>46: [-73.71121524600525, -4.481606690208439]<input type='checkbox' class='ee-toggle'></label><ul><li><span class='ee-k'>0:</span><span class='ee-v'>-73.71121524600525</span></li><li><span class='ee-k'>1:</span><span class='ee-v'>-4.481606690208439</span></li></ul></li><li><label class='ee-shut'>47: [-73.71024286980528, -4.481604974007236]<input type='checkbox' class='ee-toggle'></label><ul><li><span class='ee-k'>0:</span><span class='ee-v'>-73.71024286980528</span></li><li><span class='ee-k'>1:</span><span class='ee-v'>-4.481604974007236</span></li></ul></li><li><label class='ee-shut'>48: [-73.70798057345189, -4.481429131182429]<input type='checkbox' class='ee-toggle'></label><ul><li><span class='ee-k'>0:</span><span class='ee-v'>-73.70798057345189</span></li><li><span class='ee-k'>1:</span><span class='ee-v'>-4.481429131182429</span></li></ul></li><li><label class='ee-shut'>49: [-73.70603999990816, -4.4812548464663475]<input type='checkbox' class='ee-toggle'></label><ul><li><span class='ee-k'>0:</span><span class='ee-v'>-73.70603999990816</span></li><li><span class='ee-k'>1:</span><span class='ee-v'>-4.4812548464663475</span></li></ul></li><li><label class='ee-shut'>50: [-73.7059638619137, -4.4812480186998815]<input type='checkbox' class='ee-toggle'></label><ul><li><span class='ee-k'>0:</span><span class='ee-v'>-73.7059638619137</span></li><li><span class='ee-k'>1:</span><span class='ee-v'>-4.4812480186998815</span></li></ul></li><li><label class='ee-shut'>51: [-73.70571895905348, -4.481225968583812]<input type='checkbox' class='ee-toggle'></label><ul><li><span class='ee-k'>0:</span><span class='ee-v'>-73.70571895905348</span></li><li><span class='ee-k'>1:</span><span class='ee-v'>-4.481225968583812</span></li></ul></li><li><label class='ee-shut'>52: [-73.70531997809951, -4.481190169098988]<input type='checkbox' class='ee-toggle'></label><ul><li><span class='ee-k'>0:</span><span class='ee-v'>-73.70531997809951</span></li><li><span class='ee-k'>1:</span><span class='ee-v'>-4.481190169098988</span></li></ul></li><li><label class='ee-shut'>53: [-73.70346077175077, -4.481023167197234]<input type='checkbox' class='ee-toggle'></label><ul><li><span class='ee-k'>0:</span><span class='ee-v'>-73.70346077175077</span></li><li><span class='ee-k'>1:</span><span class='ee-v'>-4.481023167197234</span></li></ul></li><li><label class='ee-shut'>54: [-73.7011932785949, -4.480937739572928]<input type='checkbox' class='ee-toggle'></label><ul><li><span class='ee-k'>0:</span><span class='ee-v'>-73.7011932785949</span></li><li><span class='ee-k'>1:</span><span class='ee-v'>-4.480937739572928</span></li></ul></li><li><label class='ee-shut'>55: [-73.69892614698026, -4.481006061176363]<input type='checkbox' class='ee-toggle'></label><ul><li><span class='ee-k'>0:</span><span class='ee-v'>-73.69892614698026</span></li><li><span class='ee-k'>1:</span><span class='ee-v'>-4.481006061176363</span></li></ul></li><li><label class='ee-shut'>56: [-73.69759285077252, -4.481056866792948]<input type='checkbox' class='ee-toggle'></label><ul><li><span class='ee-k'>0:</span><span class='ee-v'>-73.69759285077252</span></li><li><span class='ee-k'>1:</span><span class='ee-v'>-4.481056866792948</span></li></ul></li><li><label class='ee-shut'>57: [-73.69665529011687, -4.4810924578333715]<input type='checkbox' class='ee-toggle'></label><ul><li><span class='ee-k'>0:</span><span class='ee-v'>-73.69665529011687</span></li><li><span class='ee-k'>1:</span><span class='ee-v'>-4.4810924578333715</span></li></ul></li><li><label class='ee-shut'>58: [-73.69438934325424, -4.481205898871592]<input type='checkbox' class='ee-toggle'></label><ul><li><span class='ee-k'>0:</span><span class='ee-v'>-73.69438934325424</span></li><li><span class='ee-k'>1:</span><span class='ee-v'>-4.481205898871592</span></li></ul></li><li><label class='ee-shut'>59: [-73.69212345245468, -4.481237842590027]<input type='checkbox' class='ee-toggle'></label><ul><li><span class='ee-k'>0:</span><span class='ee-v'>-73.69212345245468</span></li><li><span class='ee-k'>1:</span><span class='ee-v'>-4.481237842590027</span></li></ul></li><li><label class='ee-shut'>60: [-73.68985744409937, -4.481134384230166]<input type='checkbox' class='ee-toggle'></label><ul><li><span class='ee-k'>0:</span><span class='ee-v'>-73.68985744409937</span></li><li><span class='ee-k'>1:</span><span class='ee-v'>-4.481134384230166</span></li></ul></li><li><label class='ee-shut'>61: [-73.68770992205634, -4.4809416827506485]<input type='checkbox' class='ee-toggle'></label><ul><li><span class='ee-k'>0:</span><span class='ee-v'>-73.68770992205634</span></li><li><span class='ee-k'>1:</span><span class='ee-v'>-4.4809416827506485</span></li></ul></li><li><label class='ee-shut'>62: [-73.6875990050001, -4.480931715560229]<input type='checkbox' class='ee-toggle'></label><ul><li><span class='ee-k'>0:</span><span class='ee-v'>-73.6875990050001</span></li><li><span class='ee-k'>1:</span><span class='ee-v'>-4.480931715560229</span></li></ul></li><li><label class='ee-shut'>63: [-73.68535614889957, -4.480583634495522]<input type='checkbox' class='ee-toggle'></label><ul><li><span class='ee-k'>0:</span><span class='ee-v'>-73.68535614889957</span></li><li><span class='ee-k'>1:</span><span class='ee-v'>-4.480583634495522</span></li></ul></li><li><label class='ee-shut'>64: [-73.68312942465121, -4.480136630679193]<input type='checkbox' class='ee-toggle'></label><ul><li><span class='ee-k'>0:</span><span class='ee-v'>-73.68312942465121</span></li><li><span class='ee-k'>1:</span><span class='ee-v'>-4.480136630679193</span></li></ul></li><li><label class='ee-shut'>65: [-73.68093447318127, -4.479562876067171]<input type='checkbox' class='ee-toggle'></label><ul><li><span class='ee-k'>0:</span><span class='ee-v'>-73.68093447318127</span></li><li><span class='ee-k'>1:</span><span class='ee-v'>-4.479562876067171</span></li></ul></li><li><label class='ee-shut'>66: [-73.67875930225387, -4.4789167966705365]<input type='checkbox' class='ee-toggle'></label><ul><li><span class='ee-k'>0:</span><span class='ee-v'>-73.67875930225387</span></li><li><span class='ee-k'>1:</span><span class='ee-v'>-4.4789167966705365</span></li></ul></li><li><label class='ee-shut'>67: [-73.67662943902413, -4.478135128529261]<input type='checkbox' class='ee-toggle'></label><ul><li><span class='ee-k'>0:</span><span class='ee-v'>-73.67662943902413</span></li><li><span class='ee-k'>1:</span><span class='ee-v'>-4.478135128529261</span></li></ul></li><li><label class='ee-shut'>68: [-73.67452393716952, -4.477290189190655]<input type='checkbox' class='ee-toggle'></label><ul><li><span class='ee-k'>0:</span><span class='ee-v'>-73.67452393716952</span></li><li><span class='ee-k'>1:</span><span class='ee-v'>-4.477290189190655</span></li></ul></li><li><label class='ee-shut'>69: [-73.67329130988502, -4.476745925844339]<input type='checkbox' class='ee-toggle'></label><ul><li><span class='ee-k'>0:</span><span class='ee-v'>-73.67329130988502</span></li><li><span class='ee-k'>1:</span><span class='ee-v'>-4.476745925844339</span></li></ul></li><li><label class='ee-shut'>70: [-73.672447229346, -4.476372761814433]<input type='checkbox' class='ee-toggle'></label><ul><li><span class='ee-k'>0:</span><span class='ee-v'>-73.672447229346</span></li><li><span class='ee-k'>1:</span><span class='ee-v'>-4.476372761814433</span></li></ul></li><li><label class='ee-shut'>71: [-73.67039486676285, -4.4754013796009815]<input type='checkbox' class='ee-toggle'></label><ul><li><span class='ee-k'>0:</span><span class='ee-v'>-73.67039486676285</span></li><li><span class='ee-k'>1:</span><span class='ee-v'>-4.4754013796009815</span></li></ul></li><li><label class='ee-shut'>72: [-73.66991467216454, -4.475182085872096]<input type='checkbox' class='ee-toggle'></label><ul><li><span class='ee-k'>0:</span><span class='ee-v'>-73.66991467216454</span></li><li><span class='ee-k'>1:</span><span class='ee-v'>-4.475182085872096</span></li></ul></li><li><label class='ee-shut'>73: [-73.66832732242706, -4.474457098565824]<input type='checkbox' class='ee-toggle'></label><ul><li><span class='ee-k'>0:</span><span class='ee-v'>-73.66832732242706</span></li><li><span class='ee-k'>1:</span><span class='ee-v'>-4.474457098565824</span></li></ul></li><li><label class='ee-shut'>74: [-73.66623261930617, -4.473585027879518]<input type='checkbox' class='ee-toggle'></label><ul><li><span class='ee-k'>0:</span><span class='ee-v'>-73.66623261930617</span></li><li><span class='ee-k'>1:</span><span class='ee-v'>-4.473585027879518</span></li></ul></li><li><label class='ee-shut'>75: [-73.6640801503208, -4.472866600581387]<input type='checkbox' class='ee-toggle'></label><ul><li><span class='ee-k'>0:</span><span class='ee-v'>-73.6640801503208</span></li><li><span class='ee-k'>1:</span><span class='ee-v'>-4.472866600581387</span></li></ul></li><li><label class='ee-shut'>76: [-73.66187381399985, -4.472338000179723]<input type='checkbox' class='ee-toggle'></label><ul><li><span class='ee-k'>0:</span><span class='ee-v'>-73.66187381399985</span></li><li><span class='ee-k'>1:</span><span class='ee-v'>-4.472338000179723</span></li></ul></li><li><label class='ee-shut'>77: [-73.65964020154851, -4.471945008614324]<input type='checkbox' class='ee-toggle'></label><ul><li><span class='ee-k'>0:</span><span class='ee-v'>-73.65964020154851</span></li><li><span class='ee-k'>1:</span><span class='ee-v'>-4.471945008614324</span></li></ul></li><li><label class='ee-shut'>78: [-73.65963803894721, -4.471944914211611]<input type='checkbox' class='ee-toggle'></label><ul><li><span class='ee-k'>0:</span><span class='ee-v'>-73.65963803894721</span></li><li><span class='ee-k'>1:</span><span class='ee-v'>-4.471944914211611</span></li></ul></li><li><label class='ee-shut'>79: [-73.65963740830497, -4.471944822613911]<input type='checkbox' class='ee-toggle'></label><ul><li><span class='ee-k'>0:</span><span class='ee-v'>-73.65963740830497</span></li><li><span class='ee-k'>1:</span><span class='ee-v'>-4.471944822613911</span></li></ul></li><li><label class='ee-shut'>80: [-73.65871073724571, -4.471902516402021]<input type='checkbox' class='ee-toggle'></label><ul><li><span class='ee-k'>0:</span><span class='ee-v'>-73.65871073724571</span></li><li><span class='ee-k'>1:</span><span class='ee-v'>-4.471902516402021</span></li></ul></li><li><label class='ee-shut'>81: [-73.65737452621731, -4.471841369459497]<input type='checkbox' class='ee-toggle'></label><ul><li><span class='ee-k'>0:</span><span class='ee-v'>-73.65737452621731</span></li><li><span class='ee-k'>1:</span><span class='ee-v'>-4.471841369459497</span></li></ul></li><li><label class='ee-shut'>82: [-73.65737407547692, -4.471841459075725]<input type='checkbox' class='ee-toggle'></label><ul><li><span class='ee-k'>0:</span><span class='ee-v'>-73.65737407547692</span></li><li><span class='ee-k'>1:</span><span class='ee-v'>-4.471841459075725</span></li></ul></li><li><label class='ee-shut'>83: [-73.65737155241767, -4.47184136400539]<input type='checkbox' class='ee-toggle'></label><ul><li><span class='ee-k'>0:</span><span class='ee-v'>-73.65737155241767</span></li><li><span class='ee-k'>1:</span><span class='ee-v'>-4.47184136400539</span></li></ul></li><li><label class='ee-shut'>84: [-73.65513611190423, -4.472207985833637]<input type='checkbox' class='ee-toggle'></label><ul><li><span class='ee-k'>0:</span><span class='ee-v'>-73.65513611190423</span></li><li><span class='ee-k'>1:</span><span class='ee-v'>-4.472207985833637</span></li></ul></li><li><label class='ee-shut'>85: [-73.65290900960902, -4.472647060143798]<input type='checkbox' class='ee-toggle'></label><ul><li><span class='ee-k'>0:</span><span class='ee-v'>-73.65290900960902</span></li><li><span class='ee-k'>1:</span><span class='ee-v'>-4.472647060143798</span></li></ul></li><li><label class='ee-shut'>86: [-73.6520898189253, -4.472522188114017]<input type='checkbox' class='ee-toggle'></label><ul><li><span class='ee-k'>0:</span><span class='ee-v'>-73.6520898189253</span></li><li><span class='ee-k'>1:</span><span class='ee-v'>-4.472522188114017</span></li></ul></li><li><label class='ee-shut'>87: [-73.65068819588525, -4.472308602874048]<input type='checkbox' class='ee-toggle'></label><ul><li><span class='ee-k'>0:</span><span class='ee-v'>-73.65068819588525</span></li><li><span class='ee-k'>1:</span><span class='ee-v'>-4.472308602874048</span></li></ul></li><li><label class='ee-shut'>88: [-73.6487274016014, -4.471165137744553]<input type='checkbox' class='ee-toggle'></label><ul><li><span class='ee-k'>0:</span><span class='ee-v'>-73.6487274016014</span></li><li><span class='ee-k'>1:</span><span class='ee-v'>-4.471165137744553</span></li></ul></li><li><label class='ee-shut'>89: [-73.64692683490026, -4.469778041704015]<input type='checkbox' class='ee-toggle'></label><ul><li><span class='ee-k'>0:</span><span class='ee-v'>-73.64692683490026</span></li><li><span class='ee-k'>1:</span><span class='ee-v'>-4.469778041704015</span></li></ul></li><li><label class='ee-shut'>90: [-73.64499662925209, -4.468571678838533]<input type='checkbox' class='ee-toggle'></label><ul><li><span class='ee-k'>0:</span><span class='ee-v'>-73.64499662925209</span></li><li><span class='ee-k'>1:</span><span class='ee-v'>-4.468571678838533</span></li></ul></li><li><label class='ee-shut'>91: [-73.64312052470142, -4.4678907928150595]<input type='checkbox' class='ee-toggle'></label><ul><li><span class='ee-k'>0:</span><span class='ee-v'>-73.64312052470142</span></li><li><span class='ee-k'>1:</span><span class='ee-v'>-4.4678907928150595</span></li></ul></li><li><label class='ee-shut'>92: [-73.64167178942206, -4.467480575269855]<input type='checkbox' class='ee-toggle'></label><ul><li><span class='ee-k'>0:</span><span class='ee-v'>-73.64167178942206</span></li><li><span class='ee-k'>1:</span><span class='ee-v'>-4.467480575269855</span></li></ul></li><li><label class='ee-shut'>93: [-73.64067840592179, -4.467215998249145]<input type='checkbox' class='ee-toggle'></label><ul><li><span class='ee-k'>0:</span><span class='ee-v'>-73.64067840592179</span></li><li><span class='ee-k'>1:</span><span class='ee-v'>-4.467215998249145</span></li></ul></li><li><label class='ee-shut'>94: [-73.63843538319364, -4.466868424975319]<input type='checkbox' class='ee-toggle'></label><ul><li><span class='ee-k'>0:</span><span class='ee-v'>-73.63843538319364</span></li><li><span class='ee-k'>1:</span><span class='ee-v'>-4.466868424975319</span></li></ul></li><li><label class='ee-shut'>95: [-73.63616940527771, -4.466900388411386]<input type='checkbox' class='ee-toggle'></label><ul><li><span class='ee-k'>0:</span><span class='ee-v'>-73.63616940527771</span></li><li><span class='ee-k'>1:</span><span class='ee-v'>-4.466900388411386</span></li></ul></li><li><label class='ee-shut'>96: [-73.63392113773378, -4.467248291882181]<input type='checkbox' class='ee-toggle'></label><ul><li><span class='ee-k'>0:</span><span class='ee-v'>-73.63392113773378</span></li><li><span class='ee-k'>1:</span><span class='ee-v'>-4.467248291882181</span></li></ul></li><li><label class='ee-shut'>97: [-73.63172909062652, -4.467796350420927]<input type='checkbox' class='ee-toggle'></label><ul><li><span class='ee-k'>0:</span><span class='ee-v'>-73.63172909062652</span></li><li><span class='ee-k'>1:</span><span class='ee-v'>-4.467796350420927</span></li></ul></li><li><label class='ee-shut'>98: [-73.62951659750591, -4.468289826686977]<input type='checkbox' class='ee-toggle'></label><ul><li><span class='ee-k'>0:</span><span class='ee-v'>-73.62951659750591</span></li><li><span class='ee-k'>1:</span><span class='ee-v'>-4.468289826686977</span></li></ul></li><li><label class='ee-shut'>99: [-73.62725825656443, -4.468529701071753]<input type='checkbox' class='ee-toggle'></label><ul><li><span class='ee-k'>0:</span><span class='ee-v'>-73.62725825656443</span></li><li><span class='ee-k'>1:</span><span class='ee-v'>-4.468529701071753</span></li></ul></li><li><label class='ee-shut'>100: [-73.62499236907237, -4.468660842929837]<input type='checkbox' class='ee-toggle'></label><ul><li><span class='ee-k'>0:</span><span class='ee-v'>-73.62499236907237</span></li><li><span class='ee-k'>1:</span><span class='ee-v'>-4.468660842929837</span></li></ul></li><li><label class='ee-shut'>101: [-73.62272639776242, -4.4686927628997]<input type='checkbox' class='ee-toggle'></label><ul><li><span class='ee-k'>0:</span><span class='ee-v'>-73.62272639776242</span></li><li><span class='ee-k'>1:</span><span class='ee-v'>-4.4686927628997</span></li></ul></li><li><label class='ee-shut'>102: [-73.62081570293623, -4.468458813491792]<input type='checkbox' class='ee-toggle'></label><ul><li><span class='ee-k'>0:</span><span class='ee-v'>-73.62081570293623</span></li><li><span class='ee-k'>1:</span><span class='ee-v'>-4.468458813491792</span></li></ul></li><li><label class='ee-shut'>103: [-73.62085456042063, -4.447618884813608]<input type='checkbox' class='ee-toggle'></label><ul><li><span class='ee-k'>0:</span><span class='ee-v'>-73.62085456042063</span></li><li><span class='ee-k'>1:</span><span class='ee-v'>-4.447618884813608</span></li></ul></li><li><label class='ee-shut'>104: [-73.60445526034653, -4.4475879725503225]<input type='checkbox' class='ee-toggle'></label><ul><li><span class='ee-k'>0:</span><span class='ee-v'>-73.60445526034653</span></li><li><span class='ee-k'>1:</span><span class='ee-v'>-4.4475879725503225</span></li></ul></li><li><label class='ee-shut'>105: [-73.5988622633844, -4.432077513760651]<input type='checkbox' class='ee-toggle'></label><ul><li><span class='ee-k'>0:</span><span class='ee-v'>-73.5988622633844</span></li><li><span class='ee-k'>1:</span><span class='ee-v'>-4.432077513760651</span></li></ul></li><li><label class='ee-shut'>106: [-73.62088334211315, -4.4321189623806205]<input type='checkbox' class='ee-toggle'></label><ul><li><span class='ee-k'>0:</span><span class='ee-v'>-73.62088334211315</span></li><li><span class='ee-k'>1:</span><span class='ee-v'>-4.4321189623806205</span></li></ul></li><li><label class='ee-shut'>107: [-73.6209471707229, -4.3975481991966605]<input type='checkbox' class='ee-toggle'></label><ul><li><span class='ee-k'>0:</span><span class='ee-v'>-73.6209471707229</span></li><li><span class='ee-k'>1:</span><span class='ee-v'>-4.3975481991966605</span></li></ul></li><li><label class='ee-shut'>108: [-73.63536397793573, -4.397574770837496]<input type='checkbox' class='ee-toggle'></label><ul><li><span class='ee-k'>0:</span><span class='ee-v'>-73.63536397793573</span></li><li><span class='ee-k'>1:</span><span class='ee-v'>-4.397574770837496</span></li></ul></li><li><label class='ee-shut'>109: [-73.63539760164353, -4.379058763260627]<input type='checkbox' class='ee-toggle'></label><ul><li><span class='ee-k'>0:</span><span class='ee-v'>-73.63539760164353</span></li><li><span class='ee-k'>1:</span><span class='ee-v'>-4.379058763260627</span></li></ul></li><li><label class='ee-shut'>110: [-73.66013148137458, -4.3791035111058925]<input type='checkbox' class='ee-toggle'></label><ul><li><span class='ee-k'>0:</span><span class='ee-v'>-73.66013148137458</span></li><li><span class='ee-k'>1:</span><span class='ee-v'>-4.3791035111058925</span></li></ul></li><li><label class='ee-shut'>111: [-73.661186750047, -4.366839936498773]<input type='checkbox' class='ee-toggle'></label><ul><li><span class='ee-k'>0:</span><span class='ee-v'>-73.661186750047</span></li><li><span class='ee-k'>1:</span><span class='ee-v'>-4.366839936498773</span></li></ul></li><li><label class='ee-shut'>112: [-73.66715289862839, -4.297483771434617]<input type='checkbox' class='ee-toggle'></label><ul><li><span class='ee-k'>0:</span><span class='ee-v'>-73.66715289862839</span></li><li><span class='ee-k'>1:</span><span class='ee-v'>-4.297483771434617</span></li></ul></li><li><label class='ee-shut'>113: [-73.67925833668968, -4.297490391713284]<input type='checkbox' class='ee-toggle'></label><ul><li><span class='ee-k'>0:</span><span class='ee-v'>-73.67925833668968</span></li><li><span class='ee-k'>1:</span><span class='ee-v'>-4.297490391713284</span></li></ul></li><li><label class='ee-shut'>114: [-73.67926652168201, -4.2927317791679505]<input type='checkbox' class='ee-toggle'></label><ul><li><span class='ee-k'>0:</span><span class='ee-v'>-73.67926652168201</span></li><li><span class='ee-k'>1:</span><span class='ee-v'>-4.2927317791679505</span></li></ul></li><li><label class='ee-shut'>115: [-73.70636438638385, -4.292782946040173]<input type='checkbox' class='ee-toggle'></label><ul><li><span class='ee-k'>0:</span><span class='ee-v'>-73.70636438638385</span></li><li><span class='ee-k'>1:</span><span class='ee-v'>-4.292782946040173</span></li></ul></li><li><label class='ee-shut'>116: [-73.72694072069217, -4.285378957796191]<input type='checkbox' class='ee-toggle'></label><ul><li><span class='ee-k'>0:</span><span class='ee-v'>-73.72694072069217</span></li><li><span class='ee-k'>1:</span><span class='ee-v'>-4.285378957796191</span></li></ul></li><li><label class='ee-shut'>117: [-73.75141258828562, -4.292822873641741]<input type='checkbox' class='ee-toggle'></label><ul><li><span class='ee-k'>0:</span><span class='ee-v'>-73.75141258828562</span></li><li><span class='ee-k'>1:</span><span class='ee-v'>-4.292822873641741</span></li></ul></li><li><label class='ee-shut'>118: [-73.75399153150043, -4.292825103247114]<input type='checkbox' class='ee-toggle'></label><ul><li><span class='ee-k'>0:</span><span class='ee-v'>-73.75399153150043</span></li><li><span class='ee-k'>1:</span><span class='ee-v'>-4.292825103247114</span></li></ul></li><li><label class='ee-shut'>119: [-73.76290911877882, -4.288345492600839]<input type='checkbox' class='ee-toggle'></label><ul><li><span class='ee-k'>0:</span><span class='ee-v'>-73.76290911877882</span></li><li><span class='ee-k'>1:</span><span class='ee-v'>-4.288345492600839</span></li></ul></li><li><label class='ee-shut'>120: [-73.76291732108112, -4.2863824427238955]<input type='checkbox' class='ee-toggle'></label><ul><li><span class='ee-k'>0:</span><span class='ee-v'>-73.76291732108112</span></li><li><span class='ee-k'>1:</span><span class='ee-v'>-4.2863824427238955</span></li></ul></li><li><label class='ee-shut'>121: [-73.75143211852038, -4.280788522871085]<input type='checkbox' class='ee-toggle'></label><ul><li><span class='ee-k'>0:</span><span class='ee-v'>-73.75143211852038</span></li><li><span class='ee-k'>1:</span><span class='ee-v'>-4.280788522871085</span></li></ul></li><li><label class='ee-shut'>122: [-73.73430088524701, -4.2645813501288625]<input type='checkbox' class='ee-toggle'></label><ul><li><span class='ee-k'>0:</span><span class='ee-v'>-73.73430088524701</span></li><li><span class='ee-k'>1:</span><span class='ee-v'>-4.2645813501288625</span></li></ul></li><li><label class='ee-shut'>123: [-73.7242540051786, -4.2645516887155885]<input type='checkbox' class='ee-toggle'></label><ul><li><span class='ee-k'>0:</span><span class='ee-v'>-73.7242540051786</span></li><li><span class='ee-k'>1:</span><span class='ee-v'>-4.2645516887155885</span></li></ul></li><li><label class='ee-shut'>124: [-73.70639795371522, -4.272800691995381]<input type='checkbox' class='ee-toggle'></label><ul><li><span class='ee-k'>0:</span><span class='ee-v'>-73.70639795371522</span></li><li><span class='ee-k'>1:</span><span class='ee-v'>-4.272800691995381</span></li></ul></li><li><label class='ee-shut'>125: [-73.70644351295583, -4.245527932001742]<input type='checkbox' class='ee-toggle'></label><ul><li><span class='ee-k'>0:</span><span class='ee-v'>-73.70644351295583</span></li><li><span class='ee-k'>1:</span><span class='ee-v'>-4.245527932001742</span></li></ul></li></ul></li></ul></li></ul></li><li><span class='ee-k'>system:index:</span><span class='ee-v'>20190809T151711_20190809T151806_T18MXA</span></li><li><span class='ee-k'>system:time_end:</span><span class='ee-v'>1565364255846</span></li><li><span class='ee-k'>system:time_start:</span><span class='ee-v'>1565364255846</span></li></ul></li></ul></li></ul></div><script>function toggleHeader() {\n",
              "    const parent = this.parentElement;\n",
              "    parent.className = parent.className === \"ee-open\" ? \"ee-shut\" : \"ee-open\";\n",
              "}\n",
              "\n",
              "for (let c of document.getElementsByClassName(\"ee-toggle\")) {\n",
              "    c.onclick = toggleHeader;\n",
              "}</script></div>"
            ]
          },
          "metadata": {},
          "execution_count": 177
        }
      ]
    },
    {
      "cell_type": "code",
      "source": [
        "  ndvi1"
      ],
      "metadata": {
        "id": "YP3vItWAW1y3",
        "outputId": "c3772a3f-2485-4fdb-9409-9e797a2980b9",
        "colab": {
          "base_uri": "https://localhost:8080/",
          "height": 0
        }
      },
      "execution_count": 178,
      "outputs": [
        {
          "output_type": "display_data",
          "data": {
            "text/plain": [
              "<IPython.core.display.HTML object>"
            ],
            "text/html": [
              "\n",
              "            <style>\n",
              "                .geemap-dark {\n",
              "                    --jp-widgets-color: white;\n",
              "                    --jp-widgets-label-color: white;\n",
              "                    --jp-ui-font-color1: white;\n",
              "                    --jp-layout-color2: #454545;\n",
              "                    background-color: #383838;\n",
              "                }\n",
              "                    \n",
              "                .geemap-dark .jupyter-button {\n",
              "                    --jp-layout-color3: #383838;\n",
              "                }\n",
              "                \n",
              "                .geemap-colab {\n",
              "                    background-color: var(--colab-primary-surface-color, white);\n",
              "                }\n",
              "                    \n",
              "                .geemap-colab .jupyter-button {\n",
              "                    --jp-layout-color3: var(--colab-primary-surface-color, white);\n",
              "                }\n",
              "            </style>\n",
              "            "
            ]
          },
          "metadata": {}
        },
        {
          "output_type": "execute_result",
          "data": {
            "text/plain": [
              "<ee.image.Image at 0x7f8dac2f9330>"
            ],
            "text/html": [
              "<div><style>:root {\n",
              "  --font-color-primary: var(--jp-content-font-color0, rgba(0, 0, 0, 1));\n",
              "  --font-color-secondary: var(--jp-content-font-color2, rgba(0, 0, 0, 0.6));\n",
              "  --font-color-accent: rgba(123, 31, 162, 1);\n",
              "  --border-color: var(--jp-border-color2, #e0e0e0);\n",
              "  --background-color: var(--jp-layout-color0, white);\n",
              "  --background-color-row-even: var(--jp-layout-color1, white);\n",
              "  --background-color-row-odd: var(--jp-layout-color2, #eeeeee);\n",
              "}\n",
              "\n",
              "html[theme=\"dark\"],\n",
              "body[data-theme=\"dark\"],\n",
              "body.vscode-dark {\n",
              "  --font-color-primary: rgba(255, 255, 255, 1);\n",
              "  --font-color-secondary: rgba(255, 255, 255, 0.6);\n",
              "  --font-color-accent: rgb(173, 132, 190);\n",
              "  --border-color: #2e2e2e;\n",
              "  --background-color: #111111;\n",
              "  --background-color-row-even: #111111;\n",
              "  --background-color-row-odd: #313131;\n",
              "}\n",
              "\n",
              ".ee {\n",
              "  padding: 1em;\n",
              "  line-height: 1.5em;\n",
              "  min-width: 300px;\n",
              "  max-width: 1200px;\n",
              "  overflow-y: scroll;\n",
              "  max-height: 600px;\n",
              "  border: 1px solid var(--border-color);\n",
              "  font-family: monospace;\n",
              "}\n",
              "\n",
              ".ee li {\n",
              "  list-style-type: none;\n",
              "}\n",
              "\n",
              ".ee ul {\n",
              "  padding-left: 1.5em !important;\n",
              "  margin: 0;\n",
              "}\n",
              "\n",
              ".ee > ul {\n",
              "  padding-left: 0 !important;\n",
              "}\n",
              "\n",
              ".ee-open,\n",
              ".ee-shut {\n",
              "  color: var(--font-color-secondary);\n",
              "  cursor: pointer;\n",
              "  margin: 0;\n",
              "}\n",
              "\n",
              ".ee-open:hover,\n",
              ".ee-shut:hover {\n",
              "  color: var(--font-color-primary);\n",
              "}\n",
              "\n",
              ".ee-k {\n",
              "  color: var(--font-color-accent);\n",
              "  margin-right: 6px;\n",
              "}\n",
              "\n",
              ".ee-v {\n",
              "  color: var(--font-color-primary);\n",
              "}\n",
              "\n",
              ".ee-toggle {\n",
              "  display: none;\n",
              "}\n",
              "\n",
              ".ee-shut + ul {\n",
              "  display: none;\n",
              "}\n",
              "\n",
              ".ee-open + ul {\n",
              "  display: block;\n",
              "}\n",
              "\n",
              ".ee-shut::before {\n",
              "  display: inline-block;\n",
              "  content: \"▼\";\n",
              "  margin-right: 6px;\n",
              "  transform: rotate(-90deg);\n",
              "  transition: transform 0.2s;\n",
              "}\n",
              "\n",
              ".ee-open::before {\n",
              "  transform: rotate(0deg);\n",
              "  display: inline-block;\n",
              "  content: \"▼\";\n",
              "  margin-right: 6px;\n",
              "  transition: transform 0.2s;\n",
              "}\n",
              "</style><div class='ee'><ul><li><label class='ee-shut'>Image (1 band)<input type='checkbox' class='ee-toggle'></label><ul><li><span class='ee-k'>type:</span><span class='ee-v'>Image</span></li><li><label class='ee-shut'>bands: List (1 element)<input type='checkbox' class='ee-toggle'></label><ul><li><label class='ee-shut'>0: \"NDVI\", float, EPSG:32718, 1096x1789 px<input type='checkbox' class='ee-toggle'></label><ul><li><span class='ee-k'>id:</span><span class='ee-v'>NDVI</span></li><li><span class='ee-k'>crs:</span><span class='ee-v'>EPSG:32718</span></li><li><label class='ee-shut'>crs_transform: [20, 0, 600000, 0, -20, 9600040]<input type='checkbox' class='ee-toggle'></label><ul><li><span class='ee-k'>0:</span><span class='ee-v'>20</span></li><li><span class='ee-k'>1:</span><span class='ee-v'>0</span></li><li><span class='ee-k'>2:</span><span class='ee-v'>600000</span></li><li><span class='ee-k'>3:</span><span class='ee-v'>0</span></li><li><span class='ee-k'>4:</span><span class='ee-v'>-20</span></li><li><span class='ee-k'>5:</span><span class='ee-v'>9600040</span></li></ul></li><li><label class='ee-shut'>data_type: float<input type='checkbox' class='ee-toggle'></label><ul><li><span class='ee-k'>type:</span><span class='ee-v'>PixelType</span></li><li><span class='ee-k'>precision:</span><span class='ee-v'>float</span></li></ul></li><li><label class='ee-shut'>dimensions: [1096, 1789]<input type='checkbox' class='ee-toggle'></label><ul><li><span class='ee-k'>0:</span><span class='ee-v'>1096</span></li><li><span class='ee-k'>1:</span><span class='ee-v'>1789</span></li></ul></li><li><label class='ee-shut'>origin: [1678, 3025]<input type='checkbox' class='ee-toggle'></label><ul><li><span class='ee-k'>0:</span><span class='ee-v'>1678</span></li><li><span class='ee-k'>1:</span><span class='ee-v'>3025</span></li></ul></li></ul></li></ul></li></ul></li></ul></div><script>function toggleHeader() {\n",
              "    const parent = this.parentElement;\n",
              "    parent.className = parent.className === \"ee-open\" ? \"ee-shut\" : \"ee-open\";\n",
              "}\n",
              "\n",
              "for (let c of document.getElementsByClassName(\"ee-toggle\")) {\n",
              "    c.onclick = toggleHeader;\n",
              "}</script></div>"
            ]
          },
          "metadata": {},
          "execution_count": 178
        }
      ]
    },
    {
      "cell_type": "code",
      "source": [
        "image2"
      ],
      "metadata": {
        "id": "4tSE34RKUlLQ",
        "outputId": "b200e66c-cbb9-44e6-a9b0-ba18af4077a7",
        "colab": {
          "base_uri": "https://localhost:8080/",
          "height": 0
        }
      },
      "execution_count": 179,
      "outputs": [
        {
          "output_type": "display_data",
          "data": {
            "text/plain": [
              "<IPython.core.display.HTML object>"
            ],
            "text/html": [
              "\n",
              "            <style>\n",
              "                .geemap-dark {\n",
              "                    --jp-widgets-color: white;\n",
              "                    --jp-widgets-label-color: white;\n",
              "                    --jp-ui-font-color1: white;\n",
              "                    --jp-layout-color2: #454545;\n",
              "                    background-color: #383838;\n",
              "                }\n",
              "                    \n",
              "                .geemap-dark .jupyter-button {\n",
              "                    --jp-layout-color3: #383838;\n",
              "                }\n",
              "                \n",
              "                .geemap-colab {\n",
              "                    background-color: var(--colab-primary-surface-color, white);\n",
              "                }\n",
              "                    \n",
              "                .geemap-colab .jupyter-button {\n",
              "                    --jp-layout-color3: var(--colab-primary-surface-color, white);\n",
              "                }\n",
              "            </style>\n",
              "            "
            ]
          },
          "metadata": {}
        },
        {
          "output_type": "execute_result",
          "data": {
            "text/plain": [
              "<ee.image.Image at 0x7f8dac2f9bd0>"
            ],
            "text/html": [
              "<div><style>:root {\n",
              "  --font-color-primary: var(--jp-content-font-color0, rgba(0, 0, 0, 1));\n",
              "  --font-color-secondary: var(--jp-content-font-color2, rgba(0, 0, 0, 0.6));\n",
              "  --font-color-accent: rgba(123, 31, 162, 1);\n",
              "  --border-color: var(--jp-border-color2, #e0e0e0);\n",
              "  --background-color: var(--jp-layout-color0, white);\n",
              "  --background-color-row-even: var(--jp-layout-color1, white);\n",
              "  --background-color-row-odd: var(--jp-layout-color2, #eeeeee);\n",
              "}\n",
              "\n",
              "html[theme=\"dark\"],\n",
              "body[data-theme=\"dark\"],\n",
              "body.vscode-dark {\n",
              "  --font-color-primary: rgba(255, 255, 255, 1);\n",
              "  --font-color-secondary: rgba(255, 255, 255, 0.6);\n",
              "  --font-color-accent: rgb(173, 132, 190);\n",
              "  --border-color: #2e2e2e;\n",
              "  --background-color: #111111;\n",
              "  --background-color-row-even: #111111;\n",
              "  --background-color-row-odd: #313131;\n",
              "}\n",
              "\n",
              ".ee {\n",
              "  padding: 1em;\n",
              "  line-height: 1.5em;\n",
              "  min-width: 300px;\n",
              "  max-width: 1200px;\n",
              "  overflow-y: scroll;\n",
              "  max-height: 600px;\n",
              "  border: 1px solid var(--border-color);\n",
              "  font-family: monospace;\n",
              "}\n",
              "\n",
              ".ee li {\n",
              "  list-style-type: none;\n",
              "}\n",
              "\n",
              ".ee ul {\n",
              "  padding-left: 1.5em !important;\n",
              "  margin: 0;\n",
              "}\n",
              "\n",
              ".ee > ul {\n",
              "  padding-left: 0 !important;\n",
              "}\n",
              "\n",
              ".ee-open,\n",
              ".ee-shut {\n",
              "  color: var(--font-color-secondary);\n",
              "  cursor: pointer;\n",
              "  margin: 0;\n",
              "}\n",
              "\n",
              ".ee-open:hover,\n",
              ".ee-shut:hover {\n",
              "  color: var(--font-color-primary);\n",
              "}\n",
              "\n",
              ".ee-k {\n",
              "  color: var(--font-color-accent);\n",
              "  margin-right: 6px;\n",
              "}\n",
              "\n",
              ".ee-v {\n",
              "  color: var(--font-color-primary);\n",
              "}\n",
              "\n",
              ".ee-toggle {\n",
              "  display: none;\n",
              "}\n",
              "\n",
              ".ee-shut + ul {\n",
              "  display: none;\n",
              "}\n",
              "\n",
              ".ee-open + ul {\n",
              "  display: block;\n",
              "}\n",
              "\n",
              ".ee-shut::before {\n",
              "  display: inline-block;\n",
              "  content: \"▼\";\n",
              "  margin-right: 6px;\n",
              "  transform: rotate(-90deg);\n",
              "  transition: transform 0.2s;\n",
              "}\n",
              "\n",
              ".ee-open::before {\n",
              "  transform: rotate(0deg);\n",
              "  display: inline-block;\n",
              "  content: \"▼\";\n",
              "  margin-right: 6px;\n",
              "  transition: transform 0.2s;\n",
              "}\n",
              "</style><div class='ee'><ul><li><label class='ee-shut'>Image COPERNICUS/S2_SR_HARMONIZED/20230917T151711_20230917T152113_T18MXA (23 bands)<input type='checkbox' class='ee-toggle'></label><ul><li><span class='ee-k'>type:</span><span class='ee-v'>Image</span></li><li><span class='ee-k'>id:</span><span class='ee-v'>COPERNICUS/S2_SR_HARMONIZED/20230917T151711_20230917T152113_T18MXA</span></li><li><span class='ee-k'>version:</span><span class='ee-v'>1708363825581643</span></li><li><label class='ee-shut'>bands: List (23 elements)<input type='checkbox' class='ee-toggle'></label><ul><li><label class='ee-shut'>0: \"B1\", unsigned int16, EPSG:32718, 366x597 px<input type='checkbox' class='ee-toggle'></label><ul><li><span class='ee-k'>id:</span><span class='ee-v'>B1</span></li><li><span class='ee-k'>crs:</span><span class='ee-v'>EPSG:32718</span></li><li><label class='ee-shut'>crs_transform: [60, 0, 600000, 0, -60, 9600040]<input type='checkbox' class='ee-toggle'></label><ul><li><span class='ee-k'>0:</span><span class='ee-v'>60</span></li><li><span class='ee-k'>1:</span><span class='ee-v'>0</span></li><li><span class='ee-k'>2:</span><span class='ee-v'>600000</span></li><li><span class='ee-k'>3:</span><span class='ee-v'>0</span></li><li><span class='ee-k'>4:</span><span class='ee-v'>-60</span></li><li><span class='ee-k'>5:</span><span class='ee-v'>9600040</span></li></ul></li><li><label class='ee-shut'>data_type: unsigned int16<input type='checkbox' class='ee-toggle'></label><ul><li><span class='ee-k'>type:</span><span class='ee-v'>PixelType</span></li><li><span class='ee-k'>max:</span><span class='ee-v'>65535</span></li><li><span class='ee-k'>min:</span><span class='ee-v'>0</span></li><li><span class='ee-k'>precision:</span><span class='ee-v'>int</span></li></ul></li><li><label class='ee-shut'>dimensions: [366, 597]<input type='checkbox' class='ee-toggle'></label><ul><li><span class='ee-k'>0:</span><span class='ee-v'>366</span></li><li><span class='ee-k'>1:</span><span class='ee-v'>597</span></li></ul></li><li><label class='ee-shut'>origin: [559, 1008]<input type='checkbox' class='ee-toggle'></label><ul><li><span class='ee-k'>0:</span><span class='ee-v'>559</span></li><li><span class='ee-k'>1:</span><span class='ee-v'>1008</span></li></ul></li></ul></li><li><label class='ee-shut'>1: \"B2\", unsigned int16, EPSG:32718, 2191x3576 px<input type='checkbox' class='ee-toggle'></label><ul><li><span class='ee-k'>id:</span><span class='ee-v'>B2</span></li><li><span class='ee-k'>crs:</span><span class='ee-v'>EPSG:32718</span></li><li><label class='ee-shut'>crs_transform: [10, 0, 600000, 0, -10, 9600040]<input type='checkbox' class='ee-toggle'></label><ul><li><span class='ee-k'>0:</span><span class='ee-v'>10</span></li><li><span class='ee-k'>1:</span><span class='ee-v'>0</span></li><li><span class='ee-k'>2:</span><span class='ee-v'>600000</span></li><li><span class='ee-k'>3:</span><span class='ee-v'>0</span></li><li><span class='ee-k'>4:</span><span class='ee-v'>-10</span></li><li><span class='ee-k'>5:</span><span class='ee-v'>9600040</span></li></ul></li><li><label class='ee-shut'>data_type: unsigned int16<input type='checkbox' class='ee-toggle'></label><ul><li><span class='ee-k'>type:</span><span class='ee-v'>PixelType</span></li><li><span class='ee-k'>max:</span><span class='ee-v'>65535</span></li><li><span class='ee-k'>min:</span><span class='ee-v'>0</span></li><li><span class='ee-k'>precision:</span><span class='ee-v'>int</span></li></ul></li><li><label class='ee-shut'>dimensions: [2191, 3576]<input type='checkbox' class='ee-toggle'></label><ul><li><span class='ee-k'>0:</span><span class='ee-v'>2191</span></li><li><span class='ee-k'>1:</span><span class='ee-v'>3576</span></li></ul></li><li><label class='ee-shut'>origin: [3356, 6051]<input type='checkbox' class='ee-toggle'></label><ul><li><span class='ee-k'>0:</span><span class='ee-v'>3356</span></li><li><span class='ee-k'>1:</span><span class='ee-v'>6051</span></li></ul></li></ul></li><li><label class='ee-shut'>2: \"B3\", unsigned int16, EPSG:32718, 2191x3576 px<input type='checkbox' class='ee-toggle'></label><ul><li><span class='ee-k'>id:</span><span class='ee-v'>B3</span></li><li><span class='ee-k'>crs:</span><span class='ee-v'>EPSG:32718</span></li><li><label class='ee-shut'>crs_transform: [10, 0, 600000, 0, -10, 9600040]<input type='checkbox' class='ee-toggle'></label><ul><li><span class='ee-k'>0:</span><span class='ee-v'>10</span></li><li><span class='ee-k'>1:</span><span class='ee-v'>0</span></li><li><span class='ee-k'>2:</span><span class='ee-v'>600000</span></li><li><span class='ee-k'>3:</span><span class='ee-v'>0</span></li><li><span class='ee-k'>4:</span><span class='ee-v'>-10</span></li><li><span class='ee-k'>5:</span><span class='ee-v'>9600040</span></li></ul></li><li><label class='ee-shut'>data_type: unsigned int16<input type='checkbox' class='ee-toggle'></label><ul><li><span class='ee-k'>type:</span><span class='ee-v'>PixelType</span></li><li><span class='ee-k'>max:</span><span class='ee-v'>65535</span></li><li><span class='ee-k'>min:</span><span class='ee-v'>0</span></li><li><span class='ee-k'>precision:</span><span class='ee-v'>int</span></li></ul></li><li><label class='ee-shut'>dimensions: [2191, 3576]<input type='checkbox' class='ee-toggle'></label><ul><li><span class='ee-k'>0:</span><span class='ee-v'>2191</span></li><li><span class='ee-k'>1:</span><span class='ee-v'>3576</span></li></ul></li><li><label class='ee-shut'>origin: [3356, 6051]<input type='checkbox' class='ee-toggle'></label><ul><li><span class='ee-k'>0:</span><span class='ee-v'>3356</span></li><li><span class='ee-k'>1:</span><span class='ee-v'>6051</span></li></ul></li></ul></li><li><label class='ee-shut'>3: \"B4\", unsigned int16, EPSG:32718, 2191x3576 px<input type='checkbox' class='ee-toggle'></label><ul><li><span class='ee-k'>id:</span><span class='ee-v'>B4</span></li><li><span class='ee-k'>crs:</span><span class='ee-v'>EPSG:32718</span></li><li><label class='ee-shut'>crs_transform: [10, 0, 600000, 0, -10, 9600040]<input type='checkbox' class='ee-toggle'></label><ul><li><span class='ee-k'>0:</span><span class='ee-v'>10</span></li><li><span class='ee-k'>1:</span><span class='ee-v'>0</span></li><li><span class='ee-k'>2:</span><span class='ee-v'>600000</span></li><li><span class='ee-k'>3:</span><span class='ee-v'>0</span></li><li><span class='ee-k'>4:</span><span class='ee-v'>-10</span></li><li><span class='ee-k'>5:</span><span class='ee-v'>9600040</span></li></ul></li><li><label class='ee-shut'>data_type: unsigned int16<input type='checkbox' class='ee-toggle'></label><ul><li><span class='ee-k'>type:</span><span class='ee-v'>PixelType</span></li><li><span class='ee-k'>max:</span><span class='ee-v'>65535</span></li><li><span class='ee-k'>min:</span><span class='ee-v'>0</span></li><li><span class='ee-k'>precision:</span><span class='ee-v'>int</span></li></ul></li><li><label class='ee-shut'>dimensions: [2191, 3576]<input type='checkbox' class='ee-toggle'></label><ul><li><span class='ee-k'>0:</span><span class='ee-v'>2191</span></li><li><span class='ee-k'>1:</span><span class='ee-v'>3576</span></li></ul></li><li><label class='ee-shut'>origin: [3356, 6051]<input type='checkbox' class='ee-toggle'></label><ul><li><span class='ee-k'>0:</span><span class='ee-v'>3356</span></li><li><span class='ee-k'>1:</span><span class='ee-v'>6051</span></li></ul></li></ul></li><li><label class='ee-shut'>4: \"B5\", unsigned int16, EPSG:32718, 1096x1789 px<input type='checkbox' class='ee-toggle'></label><ul><li><span class='ee-k'>id:</span><span class='ee-v'>B5</span></li><li><span class='ee-k'>crs:</span><span class='ee-v'>EPSG:32718</span></li><li><label class='ee-shut'>crs_transform: [20, 0, 600000, 0, -20, 9600040]<input type='checkbox' class='ee-toggle'></label><ul><li><span class='ee-k'>0:</span><span class='ee-v'>20</span></li><li><span class='ee-k'>1:</span><span class='ee-v'>0</span></li><li><span class='ee-k'>2:</span><span class='ee-v'>600000</span></li><li><span class='ee-k'>3:</span><span class='ee-v'>0</span></li><li><span class='ee-k'>4:</span><span class='ee-v'>-20</span></li><li><span class='ee-k'>5:</span><span class='ee-v'>9600040</span></li></ul></li><li><label class='ee-shut'>data_type: unsigned int16<input type='checkbox' class='ee-toggle'></label><ul><li><span class='ee-k'>type:</span><span class='ee-v'>PixelType</span></li><li><span class='ee-k'>max:</span><span class='ee-v'>65535</span></li><li><span class='ee-k'>min:</span><span class='ee-v'>0</span></li><li><span class='ee-k'>precision:</span><span class='ee-v'>int</span></li></ul></li><li><label class='ee-shut'>dimensions: [1096, 1789]<input type='checkbox' class='ee-toggle'></label><ul><li><span class='ee-k'>0:</span><span class='ee-v'>1096</span></li><li><span class='ee-k'>1:</span><span class='ee-v'>1789</span></li></ul></li><li><label class='ee-shut'>origin: [1678, 3025]<input type='checkbox' class='ee-toggle'></label><ul><li><span class='ee-k'>0:</span><span class='ee-v'>1678</span></li><li><span class='ee-k'>1:</span><span class='ee-v'>3025</span></li></ul></li></ul></li><li><label class='ee-shut'>5: \"B6\", unsigned int16, EPSG:32718, 1096x1789 px<input type='checkbox' class='ee-toggle'></label><ul><li><span class='ee-k'>id:</span><span class='ee-v'>B6</span></li><li><span class='ee-k'>crs:</span><span class='ee-v'>EPSG:32718</span></li><li><label class='ee-shut'>crs_transform: [20, 0, 600000, 0, -20, 9600040]<input type='checkbox' class='ee-toggle'></label><ul><li><span class='ee-k'>0:</span><span class='ee-v'>20</span></li><li><span class='ee-k'>1:</span><span class='ee-v'>0</span></li><li><span class='ee-k'>2:</span><span class='ee-v'>600000</span></li><li><span class='ee-k'>3:</span><span class='ee-v'>0</span></li><li><span class='ee-k'>4:</span><span class='ee-v'>-20</span></li><li><span class='ee-k'>5:</span><span class='ee-v'>9600040</span></li></ul></li><li><label class='ee-shut'>data_type: unsigned int16<input type='checkbox' class='ee-toggle'></label><ul><li><span class='ee-k'>type:</span><span class='ee-v'>PixelType</span></li><li><span class='ee-k'>max:</span><span class='ee-v'>65535</span></li><li><span class='ee-k'>min:</span><span class='ee-v'>0</span></li><li><span class='ee-k'>precision:</span><span class='ee-v'>int</span></li></ul></li><li><label class='ee-shut'>dimensions: [1096, 1789]<input type='checkbox' class='ee-toggle'></label><ul><li><span class='ee-k'>0:</span><span class='ee-v'>1096</span></li><li><span class='ee-k'>1:</span><span class='ee-v'>1789</span></li></ul></li><li><label class='ee-shut'>origin: [1678, 3025]<input type='checkbox' class='ee-toggle'></label><ul><li><span class='ee-k'>0:</span><span class='ee-v'>1678</span></li><li><span class='ee-k'>1:</span><span class='ee-v'>3025</span></li></ul></li></ul></li><li><label class='ee-shut'>6: \"B7\", unsigned int16, EPSG:32718, 1096x1789 px<input type='checkbox' class='ee-toggle'></label><ul><li><span class='ee-k'>id:</span><span class='ee-v'>B7</span></li><li><span class='ee-k'>crs:</span><span class='ee-v'>EPSG:32718</span></li><li><label class='ee-shut'>crs_transform: [20, 0, 600000, 0, -20, 9600040]<input type='checkbox' class='ee-toggle'></label><ul><li><span class='ee-k'>0:</span><span class='ee-v'>20</span></li><li><span class='ee-k'>1:</span><span class='ee-v'>0</span></li><li><span class='ee-k'>2:</span><span class='ee-v'>600000</span></li><li><span class='ee-k'>3:</span><span class='ee-v'>0</span></li><li><span class='ee-k'>4:</span><span class='ee-v'>-20</span></li><li><span class='ee-k'>5:</span><span class='ee-v'>9600040</span></li></ul></li><li><label class='ee-shut'>data_type: unsigned int16<input type='checkbox' class='ee-toggle'></label><ul><li><span class='ee-k'>type:</span><span class='ee-v'>PixelType</span></li><li><span class='ee-k'>max:</span><span class='ee-v'>65535</span></li><li><span class='ee-k'>min:</span><span class='ee-v'>0</span></li><li><span class='ee-k'>precision:</span><span class='ee-v'>int</span></li></ul></li><li><label class='ee-shut'>dimensions: [1096, 1789]<input type='checkbox' class='ee-toggle'></label><ul><li><span class='ee-k'>0:</span><span class='ee-v'>1096</span></li><li><span class='ee-k'>1:</span><span class='ee-v'>1789</span></li></ul></li><li><label class='ee-shut'>origin: [1678, 3025]<input type='checkbox' class='ee-toggle'></label><ul><li><span class='ee-k'>0:</span><span class='ee-v'>1678</span></li><li><span class='ee-k'>1:</span><span class='ee-v'>3025</span></li></ul></li></ul></li><li><label class='ee-shut'>7: \"B8\", unsigned int16, EPSG:32718, 2191x3576 px<input type='checkbox' class='ee-toggle'></label><ul><li><span class='ee-k'>id:</span><span class='ee-v'>B8</span></li><li><span class='ee-k'>crs:</span><span class='ee-v'>EPSG:32718</span></li><li><label class='ee-shut'>crs_transform: [10, 0, 600000, 0, -10, 9600040]<input type='checkbox' class='ee-toggle'></label><ul><li><span class='ee-k'>0:</span><span class='ee-v'>10</span></li><li><span class='ee-k'>1:</span><span class='ee-v'>0</span></li><li><span class='ee-k'>2:</span><span class='ee-v'>600000</span></li><li><span class='ee-k'>3:</span><span class='ee-v'>0</span></li><li><span class='ee-k'>4:</span><span class='ee-v'>-10</span></li><li><span class='ee-k'>5:</span><span class='ee-v'>9600040</span></li></ul></li><li><label class='ee-shut'>data_type: unsigned int16<input type='checkbox' class='ee-toggle'></label><ul><li><span class='ee-k'>type:</span><span class='ee-v'>PixelType</span></li><li><span class='ee-k'>max:</span><span class='ee-v'>65535</span></li><li><span class='ee-k'>min:</span><span class='ee-v'>0</span></li><li><span class='ee-k'>precision:</span><span class='ee-v'>int</span></li></ul></li><li><label class='ee-shut'>dimensions: [2191, 3576]<input type='checkbox' class='ee-toggle'></label><ul><li><span class='ee-k'>0:</span><span class='ee-v'>2191</span></li><li><span class='ee-k'>1:</span><span class='ee-v'>3576</span></li></ul></li><li><label class='ee-shut'>origin: [3356, 6051]<input type='checkbox' class='ee-toggle'></label><ul><li><span class='ee-k'>0:</span><span class='ee-v'>3356</span></li><li><span class='ee-k'>1:</span><span class='ee-v'>6051</span></li></ul></li></ul></li><li><label class='ee-shut'>8: \"B8A\", unsigned int16, EPSG:32718, 1096x1789 px<input type='checkbox' class='ee-toggle'></label><ul><li><span class='ee-k'>id:</span><span class='ee-v'>B8A</span></li><li><span class='ee-k'>crs:</span><span class='ee-v'>EPSG:32718</span></li><li><label class='ee-shut'>crs_transform: [20, 0, 600000, 0, -20, 9600040]<input type='checkbox' class='ee-toggle'></label><ul><li><span class='ee-k'>0:</span><span class='ee-v'>20</span></li><li><span class='ee-k'>1:</span><span class='ee-v'>0</span></li><li><span class='ee-k'>2:</span><span class='ee-v'>600000</span></li><li><span class='ee-k'>3:</span><span class='ee-v'>0</span></li><li><span class='ee-k'>4:</span><span class='ee-v'>-20</span></li><li><span class='ee-k'>5:</span><span class='ee-v'>9600040</span></li></ul></li><li><label class='ee-shut'>data_type: unsigned int16<input type='checkbox' class='ee-toggle'></label><ul><li><span class='ee-k'>type:</span><span class='ee-v'>PixelType</span></li><li><span class='ee-k'>max:</span><span class='ee-v'>65535</span></li><li><span class='ee-k'>min:</span><span class='ee-v'>0</span></li><li><span class='ee-k'>precision:</span><span class='ee-v'>int</span></li></ul></li><li><label class='ee-shut'>dimensions: [1096, 1789]<input type='checkbox' class='ee-toggle'></label><ul><li><span class='ee-k'>0:</span><span class='ee-v'>1096</span></li><li><span class='ee-k'>1:</span><span class='ee-v'>1789</span></li></ul></li><li><label class='ee-shut'>origin: [1678, 3025]<input type='checkbox' class='ee-toggle'></label><ul><li><span class='ee-k'>0:</span><span class='ee-v'>1678</span></li><li><span class='ee-k'>1:</span><span class='ee-v'>3025</span></li></ul></li></ul></li><li><label class='ee-shut'>9: \"B9\", unsigned int16, EPSG:32718, 366x597 px<input type='checkbox' class='ee-toggle'></label><ul><li><span class='ee-k'>id:</span><span class='ee-v'>B9</span></li><li><span class='ee-k'>crs:</span><span class='ee-v'>EPSG:32718</span></li><li><label class='ee-shut'>crs_transform: [60, 0, 600000, 0, -60, 9600040]<input type='checkbox' class='ee-toggle'></label><ul><li><span class='ee-k'>0:</span><span class='ee-v'>60</span></li><li><span class='ee-k'>1:</span><span class='ee-v'>0</span></li><li><span class='ee-k'>2:</span><span class='ee-v'>600000</span></li><li><span class='ee-k'>3:</span><span class='ee-v'>0</span></li><li><span class='ee-k'>4:</span><span class='ee-v'>-60</span></li><li><span class='ee-k'>5:</span><span class='ee-v'>9600040</span></li></ul></li><li><label class='ee-shut'>data_type: unsigned int16<input type='checkbox' class='ee-toggle'></label><ul><li><span class='ee-k'>type:</span><span class='ee-v'>PixelType</span></li><li><span class='ee-k'>max:</span><span class='ee-v'>65535</span></li><li><span class='ee-k'>min:</span><span class='ee-v'>0</span></li><li><span class='ee-k'>precision:</span><span class='ee-v'>int</span></li></ul></li><li><label class='ee-shut'>dimensions: [366, 597]<input type='checkbox' class='ee-toggle'></label><ul><li><span class='ee-k'>0:</span><span class='ee-v'>366</span></li><li><span class='ee-k'>1:</span><span class='ee-v'>597</span></li></ul></li><li><label class='ee-shut'>origin: [559, 1008]<input type='checkbox' class='ee-toggle'></label><ul><li><span class='ee-k'>0:</span><span class='ee-v'>559</span></li><li><span class='ee-k'>1:</span><span class='ee-v'>1008</span></li></ul></li></ul></li><li><label class='ee-shut'>10: \"B11\", unsigned int16, EPSG:32718, 1096x1789 px<input type='checkbox' class='ee-toggle'></label><ul><li><span class='ee-k'>id:</span><span class='ee-v'>B11</span></li><li><span class='ee-k'>crs:</span><span class='ee-v'>EPSG:32718</span></li><li><label class='ee-shut'>crs_transform: [20, 0, 600000, 0, -20, 9600040]<input type='checkbox' class='ee-toggle'></label><ul><li><span class='ee-k'>0:</span><span class='ee-v'>20</span></li><li><span class='ee-k'>1:</span><span class='ee-v'>0</span></li><li><span class='ee-k'>2:</span><span class='ee-v'>600000</span></li><li><span class='ee-k'>3:</span><span class='ee-v'>0</span></li><li><span class='ee-k'>4:</span><span class='ee-v'>-20</span></li><li><span class='ee-k'>5:</span><span class='ee-v'>9600040</span></li></ul></li><li><label class='ee-shut'>data_type: unsigned int16<input type='checkbox' class='ee-toggle'></label><ul><li><span class='ee-k'>type:</span><span class='ee-v'>PixelType</span></li><li><span class='ee-k'>max:</span><span class='ee-v'>65535</span></li><li><span class='ee-k'>min:</span><span class='ee-v'>0</span></li><li><span class='ee-k'>precision:</span><span class='ee-v'>int</span></li></ul></li><li><label class='ee-shut'>dimensions: [1096, 1789]<input type='checkbox' class='ee-toggle'></label><ul><li><span class='ee-k'>0:</span><span class='ee-v'>1096</span></li><li><span class='ee-k'>1:</span><span class='ee-v'>1789</span></li></ul></li><li><label class='ee-shut'>origin: [1678, 3025]<input type='checkbox' class='ee-toggle'></label><ul><li><span class='ee-k'>0:</span><span class='ee-v'>1678</span></li><li><span class='ee-k'>1:</span><span class='ee-v'>3025</span></li></ul></li></ul></li><li><label class='ee-shut'>11: \"B12\", unsigned int16, EPSG:32718, 1096x1789 px<input type='checkbox' class='ee-toggle'></label><ul><li><span class='ee-k'>id:</span><span class='ee-v'>B12</span></li><li><span class='ee-k'>crs:</span><span class='ee-v'>EPSG:32718</span></li><li><label class='ee-shut'>crs_transform: [20, 0, 600000, 0, -20, 9600040]<input type='checkbox' class='ee-toggle'></label><ul><li><span class='ee-k'>0:</span><span class='ee-v'>20</span></li><li><span class='ee-k'>1:</span><span class='ee-v'>0</span></li><li><span class='ee-k'>2:</span><span class='ee-v'>600000</span></li><li><span class='ee-k'>3:</span><span class='ee-v'>0</span></li><li><span class='ee-k'>4:</span><span class='ee-v'>-20</span></li><li><span class='ee-k'>5:</span><span class='ee-v'>9600040</span></li></ul></li><li><label class='ee-shut'>data_type: unsigned int16<input type='checkbox' class='ee-toggle'></label><ul><li><span class='ee-k'>type:</span><span class='ee-v'>PixelType</span></li><li><span class='ee-k'>max:</span><span class='ee-v'>65535</span></li><li><span class='ee-k'>min:</span><span class='ee-v'>0</span></li><li><span class='ee-k'>precision:</span><span class='ee-v'>int</span></li></ul></li><li><label class='ee-shut'>dimensions: [1096, 1789]<input type='checkbox' class='ee-toggle'></label><ul><li><span class='ee-k'>0:</span><span class='ee-v'>1096</span></li><li><span class='ee-k'>1:</span><span class='ee-v'>1789</span></li></ul></li><li><label class='ee-shut'>origin: [1678, 3025]<input type='checkbox' class='ee-toggle'></label><ul><li><span class='ee-k'>0:</span><span class='ee-v'>1678</span></li><li><span class='ee-k'>1:</span><span class='ee-v'>3025</span></li></ul></li></ul></li><li><label class='ee-shut'>12: \"AOT\", unsigned int16, EPSG:32718, 2191x3576 px<input type='checkbox' class='ee-toggle'></label><ul><li><span class='ee-k'>id:</span><span class='ee-v'>AOT</span></li><li><span class='ee-k'>crs:</span><span class='ee-v'>EPSG:32718</span></li><li><label class='ee-shut'>crs_transform: [10, 0, 600000, 0, -10, 9600040]<input type='checkbox' class='ee-toggle'></label><ul><li><span class='ee-k'>0:</span><span class='ee-v'>10</span></li><li><span class='ee-k'>1:</span><span class='ee-v'>0</span></li><li><span class='ee-k'>2:</span><span class='ee-v'>600000</span></li><li><span class='ee-k'>3:</span><span class='ee-v'>0</span></li><li><span class='ee-k'>4:</span><span class='ee-v'>-10</span></li><li><span class='ee-k'>5:</span><span class='ee-v'>9600040</span></li></ul></li><li><label class='ee-shut'>data_type: unsigned int16<input type='checkbox' class='ee-toggle'></label><ul><li><span class='ee-k'>type:</span><span class='ee-v'>PixelType</span></li><li><span class='ee-k'>max:</span><span class='ee-v'>65535</span></li><li><span class='ee-k'>min:</span><span class='ee-v'>0</span></li><li><span class='ee-k'>precision:</span><span class='ee-v'>int</span></li></ul></li><li><label class='ee-shut'>dimensions: [2191, 3576]<input type='checkbox' class='ee-toggle'></label><ul><li><span class='ee-k'>0:</span><span class='ee-v'>2191</span></li><li><span class='ee-k'>1:</span><span class='ee-v'>3576</span></li></ul></li><li><label class='ee-shut'>origin: [3356, 6051]<input type='checkbox' class='ee-toggle'></label><ul><li><span class='ee-k'>0:</span><span class='ee-v'>3356</span></li><li><span class='ee-k'>1:</span><span class='ee-v'>6051</span></li></ul></li></ul></li><li><label class='ee-shut'>13: \"WVP\", unsigned int16, EPSG:32718, 2191x3576 px<input type='checkbox' class='ee-toggle'></label><ul><li><span class='ee-k'>id:</span><span class='ee-v'>WVP</span></li><li><span class='ee-k'>crs:</span><span class='ee-v'>EPSG:32718</span></li><li><label class='ee-shut'>crs_transform: [10, 0, 600000, 0, -10, 9600040]<input type='checkbox' class='ee-toggle'></label><ul><li><span class='ee-k'>0:</span><span class='ee-v'>10</span></li><li><span class='ee-k'>1:</span><span class='ee-v'>0</span></li><li><span class='ee-k'>2:</span><span class='ee-v'>600000</span></li><li><span class='ee-k'>3:</span><span class='ee-v'>0</span></li><li><span class='ee-k'>4:</span><span class='ee-v'>-10</span></li><li><span class='ee-k'>5:</span><span class='ee-v'>9600040</span></li></ul></li><li><label class='ee-shut'>data_type: unsigned int16<input type='checkbox' class='ee-toggle'></label><ul><li><span class='ee-k'>type:</span><span class='ee-v'>PixelType</span></li><li><span class='ee-k'>max:</span><span class='ee-v'>65535</span></li><li><span class='ee-k'>min:</span><span class='ee-v'>0</span></li><li><span class='ee-k'>precision:</span><span class='ee-v'>int</span></li></ul></li><li><label class='ee-shut'>dimensions: [2191, 3576]<input type='checkbox' class='ee-toggle'></label><ul><li><span class='ee-k'>0:</span><span class='ee-v'>2191</span></li><li><span class='ee-k'>1:</span><span class='ee-v'>3576</span></li></ul></li><li><label class='ee-shut'>origin: [3356, 6051]<input type='checkbox' class='ee-toggle'></label><ul><li><span class='ee-k'>0:</span><span class='ee-v'>3356</span></li><li><span class='ee-k'>1:</span><span class='ee-v'>6051</span></li></ul></li></ul></li><li><label class='ee-shut'>14: \"SCL\", unsigned int8, EPSG:32718, 1096x1789 px<input type='checkbox' class='ee-toggle'></label><ul><li><span class='ee-k'>id:</span><span class='ee-v'>SCL</span></li><li><span class='ee-k'>crs:</span><span class='ee-v'>EPSG:32718</span></li><li><label class='ee-shut'>crs_transform: [20, 0, 600000, 0, -20, 9600040]<input type='checkbox' class='ee-toggle'></label><ul><li><span class='ee-k'>0:</span><span class='ee-v'>20</span></li><li><span class='ee-k'>1:</span><span class='ee-v'>0</span></li><li><span class='ee-k'>2:</span><span class='ee-v'>600000</span></li><li><span class='ee-k'>3:</span><span class='ee-v'>0</span></li><li><span class='ee-k'>4:</span><span class='ee-v'>-20</span></li><li><span class='ee-k'>5:</span><span class='ee-v'>9600040</span></li></ul></li><li><label class='ee-shut'>data_type: unsigned int8<input type='checkbox' class='ee-toggle'></label><ul><li><span class='ee-k'>type:</span><span class='ee-v'>PixelType</span></li><li><span class='ee-k'>max:</span><span class='ee-v'>255</span></li><li><span class='ee-k'>min:</span><span class='ee-v'>0</span></li><li><span class='ee-k'>precision:</span><span class='ee-v'>int</span></li></ul></li><li><label class='ee-shut'>dimensions: [1096, 1789]<input type='checkbox' class='ee-toggle'></label><ul><li><span class='ee-k'>0:</span><span class='ee-v'>1096</span></li><li><span class='ee-k'>1:</span><span class='ee-v'>1789</span></li></ul></li><li><label class='ee-shut'>origin: [1678, 3025]<input type='checkbox' class='ee-toggle'></label><ul><li><span class='ee-k'>0:</span><span class='ee-v'>1678</span></li><li><span class='ee-k'>1:</span><span class='ee-v'>3025</span></li></ul></li></ul></li><li><label class='ee-shut'>15: \"TCI_R\", unsigned int8, EPSG:32718, 2191x3576 px<input type='checkbox' class='ee-toggle'></label><ul><li><span class='ee-k'>id:</span><span class='ee-v'>TCI_R</span></li><li><span class='ee-k'>crs:</span><span class='ee-v'>EPSG:32718</span></li><li><label class='ee-shut'>crs_transform: [10, 0, 600000, 0, -10, 9600040]<input type='checkbox' class='ee-toggle'></label><ul><li><span class='ee-k'>0:</span><span class='ee-v'>10</span></li><li><span class='ee-k'>1:</span><span class='ee-v'>0</span></li><li><span class='ee-k'>2:</span><span class='ee-v'>600000</span></li><li><span class='ee-k'>3:</span><span class='ee-v'>0</span></li><li><span class='ee-k'>4:</span><span class='ee-v'>-10</span></li><li><span class='ee-k'>5:</span><span class='ee-v'>9600040</span></li></ul></li><li><label class='ee-shut'>data_type: unsigned int8<input type='checkbox' class='ee-toggle'></label><ul><li><span class='ee-k'>type:</span><span class='ee-v'>PixelType</span></li><li><span class='ee-k'>max:</span><span class='ee-v'>255</span></li><li><span class='ee-k'>min:</span><span class='ee-v'>0</span></li><li><span class='ee-k'>precision:</span><span class='ee-v'>int</span></li></ul></li><li><label class='ee-shut'>dimensions: [2191, 3576]<input type='checkbox' class='ee-toggle'></label><ul><li><span class='ee-k'>0:</span><span class='ee-v'>2191</span></li><li><span class='ee-k'>1:</span><span class='ee-v'>3576</span></li></ul></li><li><label class='ee-shut'>origin: [3356, 6051]<input type='checkbox' class='ee-toggle'></label><ul><li><span class='ee-k'>0:</span><span class='ee-v'>3356</span></li><li><span class='ee-k'>1:</span><span class='ee-v'>6051</span></li></ul></li></ul></li><li><label class='ee-shut'>16: \"TCI_G\", unsigned int8, EPSG:32718, 2191x3576 px<input type='checkbox' class='ee-toggle'></label><ul><li><span class='ee-k'>id:</span><span class='ee-v'>TCI_G</span></li><li><span class='ee-k'>crs:</span><span class='ee-v'>EPSG:32718</span></li><li><label class='ee-shut'>crs_transform: [10, 0, 600000, 0, -10, 9600040]<input type='checkbox' class='ee-toggle'></label><ul><li><span class='ee-k'>0:</span><span class='ee-v'>10</span></li><li><span class='ee-k'>1:</span><span class='ee-v'>0</span></li><li><span class='ee-k'>2:</span><span class='ee-v'>600000</span></li><li><span class='ee-k'>3:</span><span class='ee-v'>0</span></li><li><span class='ee-k'>4:</span><span class='ee-v'>-10</span></li><li><span class='ee-k'>5:</span><span class='ee-v'>9600040</span></li></ul></li><li><label class='ee-shut'>data_type: unsigned int8<input type='checkbox' class='ee-toggle'></label><ul><li><span class='ee-k'>type:</span><span class='ee-v'>PixelType</span></li><li><span class='ee-k'>max:</span><span class='ee-v'>255</span></li><li><span class='ee-k'>min:</span><span class='ee-v'>0</span></li><li><span class='ee-k'>precision:</span><span class='ee-v'>int</span></li></ul></li><li><label class='ee-shut'>dimensions: [2191, 3576]<input type='checkbox' class='ee-toggle'></label><ul><li><span class='ee-k'>0:</span><span class='ee-v'>2191</span></li><li><span class='ee-k'>1:</span><span class='ee-v'>3576</span></li></ul></li><li><label class='ee-shut'>origin: [3356, 6051]<input type='checkbox' class='ee-toggle'></label><ul><li><span class='ee-k'>0:</span><span class='ee-v'>3356</span></li><li><span class='ee-k'>1:</span><span class='ee-v'>6051</span></li></ul></li></ul></li><li><label class='ee-shut'>17: \"TCI_B\", unsigned int8, EPSG:32718, 2191x3576 px<input type='checkbox' class='ee-toggle'></label><ul><li><span class='ee-k'>id:</span><span class='ee-v'>TCI_B</span></li><li><span class='ee-k'>crs:</span><span class='ee-v'>EPSG:32718</span></li><li><label class='ee-shut'>crs_transform: [10, 0, 600000, 0, -10, 9600040]<input type='checkbox' class='ee-toggle'></label><ul><li><span class='ee-k'>0:</span><span class='ee-v'>10</span></li><li><span class='ee-k'>1:</span><span class='ee-v'>0</span></li><li><span class='ee-k'>2:</span><span class='ee-v'>600000</span></li><li><span class='ee-k'>3:</span><span class='ee-v'>0</span></li><li><span class='ee-k'>4:</span><span class='ee-v'>-10</span></li><li><span class='ee-k'>5:</span><span class='ee-v'>9600040</span></li></ul></li><li><label class='ee-shut'>data_type: unsigned int8<input type='checkbox' class='ee-toggle'></label><ul><li><span class='ee-k'>type:</span><span class='ee-v'>PixelType</span></li><li><span class='ee-k'>max:</span><span class='ee-v'>255</span></li><li><span class='ee-k'>min:</span><span class='ee-v'>0</span></li><li><span class='ee-k'>precision:</span><span class='ee-v'>int</span></li></ul></li><li><label class='ee-shut'>dimensions: [2191, 3576]<input type='checkbox' class='ee-toggle'></label><ul><li><span class='ee-k'>0:</span><span class='ee-v'>2191</span></li><li><span class='ee-k'>1:</span><span class='ee-v'>3576</span></li></ul></li><li><label class='ee-shut'>origin: [3356, 6051]<input type='checkbox' class='ee-toggle'></label><ul><li><span class='ee-k'>0:</span><span class='ee-v'>3356</span></li><li><span class='ee-k'>1:</span><span class='ee-v'>6051</span></li></ul></li></ul></li><li><label class='ee-shut'>18: \"MSK_CLDPRB\", unsigned int8, EPSG:32718, 1096x1789 px<input type='checkbox' class='ee-toggle'></label><ul><li><span class='ee-k'>id:</span><span class='ee-v'>MSK_CLDPRB</span></li><li><span class='ee-k'>crs:</span><span class='ee-v'>EPSG:32718</span></li><li><label class='ee-shut'>crs_transform: [20, 0, 600000, 0, -20, 9600040]<input type='checkbox' class='ee-toggle'></label><ul><li><span class='ee-k'>0:</span><span class='ee-v'>20</span></li><li><span class='ee-k'>1:</span><span class='ee-v'>0</span></li><li><span class='ee-k'>2:</span><span class='ee-v'>600000</span></li><li><span class='ee-k'>3:</span><span class='ee-v'>0</span></li><li><span class='ee-k'>4:</span><span class='ee-v'>-20</span></li><li><span class='ee-k'>5:</span><span class='ee-v'>9600040</span></li></ul></li><li><label class='ee-shut'>data_type: unsigned int8<input type='checkbox' class='ee-toggle'></label><ul><li><span class='ee-k'>type:</span><span class='ee-v'>PixelType</span></li><li><span class='ee-k'>max:</span><span class='ee-v'>255</span></li><li><span class='ee-k'>min:</span><span class='ee-v'>0</span></li><li><span class='ee-k'>precision:</span><span class='ee-v'>int</span></li></ul></li><li><label class='ee-shut'>dimensions: [1096, 1789]<input type='checkbox' class='ee-toggle'></label><ul><li><span class='ee-k'>0:</span><span class='ee-v'>1096</span></li><li><span class='ee-k'>1:</span><span class='ee-v'>1789</span></li></ul></li><li><label class='ee-shut'>origin: [1678, 3025]<input type='checkbox' class='ee-toggle'></label><ul><li><span class='ee-k'>0:</span><span class='ee-v'>1678</span></li><li><span class='ee-k'>1:</span><span class='ee-v'>3025</span></li></ul></li></ul></li><li><label class='ee-shut'>19: \"MSK_SNWPRB\", unsigned int8, EPSG:32718, 1096x1789 px<input type='checkbox' class='ee-toggle'></label><ul><li><span class='ee-k'>id:</span><span class='ee-v'>MSK_SNWPRB</span></li><li><span class='ee-k'>crs:</span><span class='ee-v'>EPSG:32718</span></li><li><label class='ee-shut'>crs_transform: [20, 0, 600000, 0, -20, 9600040]<input type='checkbox' class='ee-toggle'></label><ul><li><span class='ee-k'>0:</span><span class='ee-v'>20</span></li><li><span class='ee-k'>1:</span><span class='ee-v'>0</span></li><li><span class='ee-k'>2:</span><span class='ee-v'>600000</span></li><li><span class='ee-k'>3:</span><span class='ee-v'>0</span></li><li><span class='ee-k'>4:</span><span class='ee-v'>-20</span></li><li><span class='ee-k'>5:</span><span class='ee-v'>9600040</span></li></ul></li><li><label class='ee-shut'>data_type: unsigned int8<input type='checkbox' class='ee-toggle'></label><ul><li><span class='ee-k'>type:</span><span class='ee-v'>PixelType</span></li><li><span class='ee-k'>max:</span><span class='ee-v'>255</span></li><li><span class='ee-k'>min:</span><span class='ee-v'>0</span></li><li><span class='ee-k'>precision:</span><span class='ee-v'>int</span></li></ul></li><li><label class='ee-shut'>dimensions: [1096, 1789]<input type='checkbox' class='ee-toggle'></label><ul><li><span class='ee-k'>0:</span><span class='ee-v'>1096</span></li><li><span class='ee-k'>1:</span><span class='ee-v'>1789</span></li></ul></li><li><label class='ee-shut'>origin: [1678, 3025]<input type='checkbox' class='ee-toggle'></label><ul><li><span class='ee-k'>0:</span><span class='ee-v'>1678</span></li><li><span class='ee-k'>1:</span><span class='ee-v'>3025</span></li></ul></li></ul></li><li><label class='ee-shut'>20: \"QA10\", unsigned int16, EPSG:32718, 2191x3576 px<input type='checkbox' class='ee-toggle'></label><ul><li><span class='ee-k'>id:</span><span class='ee-v'>QA10</span></li><li><span class='ee-k'>crs:</span><span class='ee-v'>EPSG:32718</span></li><li><label class='ee-shut'>crs_transform: [10, 0, 600000, 0, -10, 9600040]<input type='checkbox' class='ee-toggle'></label><ul><li><span class='ee-k'>0:</span><span class='ee-v'>10</span></li><li><span class='ee-k'>1:</span><span class='ee-v'>0</span></li><li><span class='ee-k'>2:</span><span class='ee-v'>600000</span></li><li><span class='ee-k'>3:</span><span class='ee-v'>0</span></li><li><span class='ee-k'>4:</span><span class='ee-v'>-10</span></li><li><span class='ee-k'>5:</span><span class='ee-v'>9600040</span></li></ul></li><li><label class='ee-shut'>data_type: unsigned int16<input type='checkbox' class='ee-toggle'></label><ul><li><span class='ee-k'>type:</span><span class='ee-v'>PixelType</span></li><li><span class='ee-k'>max:</span><span class='ee-v'>65535</span></li><li><span class='ee-k'>min:</span><span class='ee-v'>0</span></li><li><span class='ee-k'>precision:</span><span class='ee-v'>int</span></li></ul></li><li><label class='ee-shut'>dimensions: [2191, 3576]<input type='checkbox' class='ee-toggle'></label><ul><li><span class='ee-k'>0:</span><span class='ee-v'>2191</span></li><li><span class='ee-k'>1:</span><span class='ee-v'>3576</span></li></ul></li><li><label class='ee-shut'>origin: [3356, 6051]<input type='checkbox' class='ee-toggle'></label><ul><li><span class='ee-k'>0:</span><span class='ee-v'>3356</span></li><li><span class='ee-k'>1:</span><span class='ee-v'>6051</span></li></ul></li></ul></li><li><label class='ee-shut'>21: \"QA20\", unsigned int32, EPSG:32718, 1096x1789 px<input type='checkbox' class='ee-toggle'></label><ul><li><span class='ee-k'>id:</span><span class='ee-v'>QA20</span></li><li><span class='ee-k'>crs:</span><span class='ee-v'>EPSG:32718</span></li><li><label class='ee-shut'>crs_transform: [20, 0, 600000, 0, -20, 9600040]<input type='checkbox' class='ee-toggle'></label><ul><li><span class='ee-k'>0:</span><span class='ee-v'>20</span></li><li><span class='ee-k'>1:</span><span class='ee-v'>0</span></li><li><span class='ee-k'>2:</span><span class='ee-v'>600000</span></li><li><span class='ee-k'>3:</span><span class='ee-v'>0</span></li><li><span class='ee-k'>4:</span><span class='ee-v'>-20</span></li><li><span class='ee-k'>5:</span><span class='ee-v'>9600040</span></li></ul></li><li><label class='ee-shut'>data_type: unsigned int32<input type='checkbox' class='ee-toggle'></label><ul><li><span class='ee-k'>type:</span><span class='ee-v'>PixelType</span></li><li><span class='ee-k'>max:</span><span class='ee-v'>4294967295</span></li><li><span class='ee-k'>min:</span><span class='ee-v'>0</span></li><li><span class='ee-k'>precision:</span><span class='ee-v'>int</span></li></ul></li><li><label class='ee-shut'>dimensions: [1096, 1789]<input type='checkbox' class='ee-toggle'></label><ul><li><span class='ee-k'>0:</span><span class='ee-v'>1096</span></li><li><span class='ee-k'>1:</span><span class='ee-v'>1789</span></li></ul></li><li><label class='ee-shut'>origin: [1678, 3025]<input type='checkbox' class='ee-toggle'></label><ul><li><span class='ee-k'>0:</span><span class='ee-v'>1678</span></li><li><span class='ee-k'>1:</span><span class='ee-v'>3025</span></li></ul></li></ul></li><li><label class='ee-shut'>22: \"QA60\", unsigned int16, EPSG:32718, 366x597 px<input type='checkbox' class='ee-toggle'></label><ul><li><span class='ee-k'>id:</span><span class='ee-v'>QA60</span></li><li><span class='ee-k'>crs:</span><span class='ee-v'>EPSG:32718</span></li><li><label class='ee-shut'>crs_transform: [60, 0, 600000, 0, -60, 9600040]<input type='checkbox' class='ee-toggle'></label><ul><li><span class='ee-k'>0:</span><span class='ee-v'>60</span></li><li><span class='ee-k'>1:</span><span class='ee-v'>0</span></li><li><span class='ee-k'>2:</span><span class='ee-v'>600000</span></li><li><span class='ee-k'>3:</span><span class='ee-v'>0</span></li><li><span class='ee-k'>4:</span><span class='ee-v'>-60</span></li><li><span class='ee-k'>5:</span><span class='ee-v'>9600040</span></li></ul></li><li><label class='ee-shut'>data_type: unsigned int16<input type='checkbox' class='ee-toggle'></label><ul><li><span class='ee-k'>type:</span><span class='ee-v'>PixelType</span></li><li><span class='ee-k'>max:</span><span class='ee-v'>65535</span></li><li><span class='ee-k'>min:</span><span class='ee-v'>0</span></li><li><span class='ee-k'>precision:</span><span class='ee-v'>int</span></li></ul></li><li><label class='ee-shut'>dimensions: [366, 597]<input type='checkbox' class='ee-toggle'></label><ul><li><span class='ee-k'>0:</span><span class='ee-v'>366</span></li><li><span class='ee-k'>1:</span><span class='ee-v'>597</span></li></ul></li><li><label class='ee-shut'>origin: [559, 1008]<input type='checkbox' class='ee-toggle'></label><ul><li><span class='ee-k'>0:</span><span class='ee-v'>559</span></li><li><span class='ee-k'>1:</span><span class='ee-v'>1008</span></li></ul></li></ul></li></ul></li><li><label class='ee-shut'>properties: Object (101 properties)<input type='checkbox' class='ee-toggle'></label><ul><li><span class='ee-k'>AOT_RETRIEVAL_ACCURACY:</span><span class='ee-v'>0</span></li><li><span class='ee-k'>AOT_RETRIEVAL_METHOD:</span><span class='ee-v'>SEN2COR_DDV</span></li><li><span class='ee-k'>BOA_ADD_OFFSET_B1:</span><span class='ee-v'>-1000</span></li><li><span class='ee-k'>BOA_ADD_OFFSET_B10:</span><span class='ee-v'>-1000</span></li><li><span class='ee-k'>BOA_ADD_OFFSET_B11:</span><span class='ee-v'>-1000</span></li><li><span class='ee-k'>BOA_ADD_OFFSET_B12:</span><span class='ee-v'>-1000</span></li><li><span class='ee-k'>BOA_ADD_OFFSET_B2:</span><span class='ee-v'>-1000</span></li><li><span class='ee-k'>BOA_ADD_OFFSET_B3:</span><span class='ee-v'>-1000</span></li><li><span class='ee-k'>BOA_ADD_OFFSET_B4:</span><span class='ee-v'>-1000</span></li><li><span class='ee-k'>BOA_ADD_OFFSET_B5:</span><span class='ee-v'>-1000</span></li><li><span class='ee-k'>BOA_ADD_OFFSET_B6:</span><span class='ee-v'>-1000</span></li><li><span class='ee-k'>BOA_ADD_OFFSET_B7:</span><span class='ee-v'>-1000</span></li><li><span class='ee-k'>BOA_ADD_OFFSET_B8:</span><span class='ee-v'>-1000</span></li><li><span class='ee-k'>BOA_ADD_OFFSET_B8A:</span><span class='ee-v'>-1000</span></li><li><span class='ee-k'>BOA_ADD_OFFSET_B9:</span><span class='ee-v'>-1000</span></li><li><span class='ee-k'>CLOUDY_PIXEL_OVER_LAND_PERCENTAGE:</span><span class='ee-v'>0.251178</span></li><li><span class='ee-k'>CLOUDY_PIXEL_PERCENTAGE:</span><span class='ee-v'>0.326276</span></li><li><span class='ee-k'>CLOUD_COVERAGE_ASSESSMENT:</span><span class='ee-v'>0.326276</span></li><li><span class='ee-k'>CLOUD_SHADOW_PERCENTAGE:</span><span class='ee-v'>0.401893</span></li><li><span class='ee-k'>DARK_FEATURES_PERCENTAGE:</span><span class='ee-v'>0.015544</span></li><li><span class='ee-k'>DATASTRIP_ID:</span><span class='ee-v'>S2A_OPER_MSI_L2A_DS_2APS_20230917T215602_S20230917T152113_N05.09</span></li><li><span class='ee-k'>DATATAKE_IDENTIFIER:</span><span class='ee-v'>GS2A_20230917T151711_043022_N05.09</span></li><li><span class='ee-k'>DATATAKE_TYPE:</span><span class='ee-v'>INS-NOBS</span></li><li><span class='ee-k'>DEGRADED_MSI_DATA_PERCENTAGE:</span><span class='ee-v'>0.0216</span></li><li><span class='ee-k'>FORMAT_CORRECTNESS:</span><span class='ee-v'>PASSED</span></li><li><span class='ee-k'>GENERAL_QUALITY:</span><span class='ee-v'>PASSED</span></li><li><span class='ee-k'>GENERATION_TIME:</span><span class='ee-v'>1694987762000</span></li><li><span class='ee-k'>GEOMETRIC_QUALITY:</span><span class='ee-v'>PASSED</span></li><li><span class='ee-k'>GRANULE_ID:</span><span class='ee-v'>L2A_T18MXA_A043022_20230917T152113</span></li><li><span class='ee-k'>GRANULE_MEAN_AOT:</span><span class='ee-v'>0.100394</span></li><li><span class='ee-k'>GRANULE_MEAN_WV:</span><span class='ee-v'>3.985187</span></li><li><span class='ee-k'>HIGH_PROBA_CLOUDS_PERCENTAGE:</span><span class='ee-v'>0.053981</span></li><li><span class='ee-k'>L2A_QUALITY:</span><span class='ee-v'>PASSED</span></li><li><span class='ee-k'>MEAN_INCIDENCE_AZIMUTH_ANGLE_B1:</span><span class='ee-v'>274.96113752576</span></li><li><span class='ee-k'>MEAN_INCIDENCE_AZIMUTH_ANGLE_B10:</span><span class='ee-v'>276.034201743785</span></li><li><span class='ee-k'>MEAN_INCIDENCE_AZIMUTH_ANGLE_B11:</span><span class='ee-v'>275.468531043025</span></li><li><span class='ee-k'>MEAN_INCIDENCE_AZIMUTH_ANGLE_B12:</span><span class='ee-v'>275.114251150191</span></li><li><span class='ee-k'>MEAN_INCIDENCE_AZIMUTH_ANGLE_B2:</span><span class='ee-v'>277.571735902361</span></li><li><span class='ee-k'>MEAN_INCIDENCE_AZIMUTH_ANGLE_B3:</span><span class='ee-v'>276.621682166996</span></li><li><span class='ee-k'>MEAN_INCIDENCE_AZIMUTH_ANGLE_B4:</span><span class='ee-v'>276.000733414481</span></li><li><span class='ee-k'>MEAN_INCIDENCE_AZIMUTH_ANGLE_B5:</span><span class='ee-v'>275.700297611837</span></li><li><span class='ee-k'>MEAN_INCIDENCE_AZIMUTH_ANGLE_B6:</span><span class='ee-v'>275.495143677879</span></li><li><span class='ee-k'>MEAN_INCIDENCE_AZIMUTH_ANGLE_B7:</span><span class='ee-v'>275.305349467448</span></li><li><span class='ee-k'>MEAN_INCIDENCE_AZIMUTH_ANGLE_B8:</span><span class='ee-v'>277.029271593923</span></li><li><span class='ee-k'>MEAN_INCIDENCE_AZIMUTH_ANGLE_B8A:</span><span class='ee-v'>275.16461328629</span></li><li><span class='ee-k'>MEAN_INCIDENCE_AZIMUTH_ANGLE_B9:</span><span class='ee-v'>274.853404148708</span></li><li><span class='ee-k'>MEAN_INCIDENCE_ZENITH_ANGLE_B1:</span><span class='ee-v'>5.36824261477628</span></li><li><span class='ee-k'>MEAN_INCIDENCE_ZENITH_ANGLE_B10:</span><span class='ee-v'>5.10041809337439</span></li><li><span class='ee-k'>MEAN_INCIDENCE_ZENITH_ANGLE_B11:</span><span class='ee-v'>5.20398442817374</span></li><li><span class='ee-k'>MEAN_INCIDENCE_ZENITH_ANGLE_B12:</span><span class='ee-v'>5.32999401319564</span></li><li><span class='ee-k'>MEAN_INCIDENCE_ZENITH_ANGLE_B2:</span><span class='ee-v'>4.96891072307217</span></li><li><span class='ee-k'>MEAN_INCIDENCE_ZENITH_ANGLE_B3:</span><span class='ee-v'>5.04449951709028</span></li><li><span class='ee-k'>MEAN_INCIDENCE_ZENITH_ANGLE_B4:</span><span class='ee-v'>5.11599249533057</span></li><li><span class='ee-k'>MEAN_INCIDENCE_ZENITH_ANGLE_B5:</span><span class='ee-v'>5.15250026892171</span></li><li><span class='ee-k'>MEAN_INCIDENCE_ZENITH_ANGLE_B6:</span><span class='ee-v'>5.2009294965624</span></li><li><span class='ee-k'>MEAN_INCIDENCE_ZENITH_ANGLE_B7:</span><span class='ee-v'>5.25321413751908</span></li><li><span class='ee-k'>MEAN_INCIDENCE_ZENITH_ANGLE_B8:</span><span class='ee-v'>5.0017171301562</span></li><li><span class='ee-k'>MEAN_INCIDENCE_ZENITH_ANGLE_B8A:</span><span class='ee-v'>5.30860624878269</span></li><li><span class='ee-k'>MEAN_INCIDENCE_ZENITH_ANGLE_B9:</span><span class='ee-v'>5.43145455193936</span></li><li><span class='ee-k'>MEAN_SOLAR_AZIMUTH_ANGLE:</span><span class='ee-v'>73.7841799603101</span></li><li><span class='ee-k'>MEAN_SOLAR_ZENITH_ANGLE:</span><span class='ee-v'>22.0778493089577</span></li><li><span class='ee-k'>MEDIUM_PROBA_CLOUDS_PERCENTAGE:</span><span class='ee-v'>0.271804</span></li><li><span class='ee-k'>MGRS_TILE:</span><span class='ee-v'>18MXA</span></li><li><span class='ee-k'>NODATA_PIXEL_PERCENTAGE:</span><span class='ee-v'>0</span></li><li><span class='ee-k'>NOT_VEGETATED_PERCENTAGE:</span><span class='ee-v'>1.493475</span></li><li><span class='ee-k'>OZONE_SOURCE:</span><span class='ee-v'>AUX_ECMWFT</span></li><li><span class='ee-k'>OZONE_VALUE:</span><span class='ee-v'>276.634541</span></li><li><span class='ee-k'>PROCESSING_BASELINE:</span><span class='ee-v'>05.09</span></li><li><span class='ee-k'>PRODUCT_ID:</span><span class='ee-v'>S2A_MSIL2A_20230917T151711_N0509_R125_T18MXA_20230917T215602</span></li><li><span class='ee-k'>RADIATIVE_TRANSFER_ACCURACY:</span><span class='ee-v'>0</span></li><li><span class='ee-k'>RADIOMETRIC_QUALITY:</span><span class='ee-v'>PASSED</span></li><li><span class='ee-k'>REFLECTANCE_CONVERSION_CORRECTION:</span><span class='ee-v'>0.988360576760938</span></li><li><span class='ee-k'>SATURATED_DEFECTIVE_PIXEL_PERCENTAGE:</span><span class='ee-v'>0</span></li><li><span class='ee-k'>SENSING_ORBIT_DIRECTION:</span><span class='ee-v'>DESCENDING</span></li><li><span class='ee-k'>SENSING_ORBIT_NUMBER:</span><span class='ee-v'>125</span></li><li><span class='ee-k'>SENSOR_QUALITY:</span><span class='ee-v'>PASSED</span></li><li><span class='ee-k'>SNOW_ICE_PERCENTAGE:</span><span class='ee-v'>0</span></li><li><span class='ee-k'>SOLAR_IRRADIANCE_B1:</span><span class='ee-v'>1884.69</span></li><li><span class='ee-k'>SOLAR_IRRADIANCE_B10:</span><span class='ee-v'>367.15</span></li><li><span class='ee-k'>SOLAR_IRRADIANCE_B11:</span><span class='ee-v'>245.59</span></li><li><span class='ee-k'>SOLAR_IRRADIANCE_B12:</span><span class='ee-v'>85.25</span></li><li><span class='ee-k'>SOLAR_IRRADIANCE_B2:</span><span class='ee-v'>1959.66</span></li><li><span class='ee-k'>SOLAR_IRRADIANCE_B3:</span><span class='ee-v'>1823.24</span></li><li><span class='ee-k'>SOLAR_IRRADIANCE_B4:</span><span class='ee-v'>1512.06</span></li><li><span class='ee-k'>SOLAR_IRRADIANCE_B5:</span><span class='ee-v'>1424.64</span></li><li><span class='ee-k'>SOLAR_IRRADIANCE_B6:</span><span class='ee-v'>1287.61</span></li><li><span class='ee-k'>SOLAR_IRRADIANCE_B7:</span><span class='ee-v'>1162.08</span></li><li><span class='ee-k'>SOLAR_IRRADIANCE_B8:</span><span class='ee-v'>1041.63</span></li><li><span class='ee-k'>SOLAR_IRRADIANCE_B8A:</span><span class='ee-v'>955.32</span></li><li><span class='ee-k'>SOLAR_IRRADIANCE_B9:</span><span class='ee-v'>812.92</span></li><li><span class='ee-k'>SPACECRAFT_NAME:</span><span class='ee-v'>Sentinel-2A</span></li><li><span class='ee-k'>THIN_CIRRUS_PERCENTAGE:</span><span class='ee-v'>0.000491</span></li><li><span class='ee-k'>UNCLASSIFIED_PERCENTAGE:</span><span class='ee-v'>0.26349</span></li><li><span class='ee-k'>VEGETATION_PERCENTAGE:</span><span class='ee-v'>94.682157</span></li><li><span class='ee-k'>WATER_PERCENTAGE:</span><span class='ee-v'>2.817167</span></li><li><span class='ee-k'>WATER_VAPOUR_RETRIEVAL_ACCURACY:</span><span class='ee-v'>0</span></li><li><span class='ee-k'>system:asset_size:</span><span class='ee-v'>1529803893</span></li><li><label class='ee-shut'>system:footprint: Polygon (126 vertices)<input type='checkbox' class='ee-toggle'></label><ul><li><span class='ee-k'>type:</span><span class='ee-v'>Polygon</span></li><li><label class='ee-shut'>coordinates: List (1 element)<input type='checkbox' class='ee-toggle'></label><ul><li><label class='ee-shut'>0: List (126 elements)<input type='checkbox' class='ee-toggle'></label><ul><li><label class='ee-shut'>0: [-73.70644351295583, -4.245527932001742]<input type='checkbox' class='ee-toggle'></label><ul><li><span class='ee-k'>0:</span><span class='ee-v'>-73.70644351295583</span></li><li><span class='ee-k'>1:</span><span class='ee-v'>-4.245527932001742</span></li></ul></li><li><label class='ee-shut'>1: [-73.70651840850482, -4.200305430535437]<input type='checkbox' class='ee-toggle'></label><ul><li><span class='ee-k'>0:</span><span class='ee-v'>-73.70651840850482</span></li><li><span class='ee-k'>1:</span><span class='ee-v'>-4.200305430535437</span></li></ul></li><li><label class='ee-shut'>2: [-73.70654430447145, -4.184554511085448]<input type='checkbox' class='ee-toggle'></label><ul><li><span class='ee-k'>0:</span><span class='ee-v'>-73.70654430447145</span></li><li><span class='ee-k'>1:</span><span class='ee-v'>-4.184554511085448</span></li></ul></li><li><label class='ee-shut'>3: [-73.75161724827645, -4.164970396995145]<input type='checkbox' class='ee-toggle'></label><ul><li><span class='ee-k'>0:</span><span class='ee-v'>-73.75161724827645</span></li><li><span class='ee-k'>1:</span><span class='ee-v'>-4.164970396995145</span></li></ul></li><li><label class='ee-shut'>4: [-73.79665879269554, -4.165040682138108]<input type='checkbox' class='ee-toggle'></label><ul><li><span class='ee-k'>0:</span><span class='ee-v'>-73.79665879269554</span></li><li><span class='ee-k'>1:</span><span class='ee-v'>-4.165040682138108</span></li></ul></li><li><label class='ee-shut'>5: [-73.79664603445022, -4.173428671936142]<input type='checkbox' class='ee-toggle'></label><ul><li><span class='ee-k'>0:</span><span class='ee-v'>-73.79664603445022</span></li><li><span class='ee-k'>1:</span><span class='ee-v'>-4.173428671936142</span></li></ul></li><li><label class='ee-shut'>6: [-73.79660475885693, -4.200449802790024]<input type='checkbox' class='ee-toggle'></label><ul><li><span class='ee-k'>0:</span><span class='ee-v'>-73.79660475885693</span></li><li><span class='ee-k'>1:</span><span class='ee-v'>-4.200449802790024</span></li></ul></li><li><label class='ee-shut'>7: [-73.79656849245288, -4.224047724686024]<input type='checkbox' class='ee-toggle'></label><ul><li><span class='ee-k'>0:</span><span class='ee-v'>-73.79656849245288</span></li><li><span class='ee-k'>1:</span><span class='ee-v'>-4.224047724686024</span></li></ul></li><li><label class='ee-shut'>8: [-73.7965350763306, -4.245673864084816]<input type='checkbox' class='ee-toggle'></label><ul><li><span class='ee-k'>0:</span><span class='ee-v'>-73.7965350763306</span></li><li><span class='ee-k'>1:</span><span class='ee-v'>-4.245673864084816</span></li></ul></li><li><label class='ee-shut'>9: [-73.79646464076079, -4.290897871296439]<input type='checkbox' class='ee-toggle'></label><ul><li><span class='ee-k'>0:</span><span class='ee-v'>-73.79646464076079</span></li><li><span class='ee-k'>1:</span><span class='ee-v'>-4.290897871296439</span></li></ul></li><li><label class='ee-shut'>10: [-73.79639345192926, -4.336121823852913]<input type='checkbox' class='ee-toggle'></label><ul><li><span class='ee-k'>0:</span><span class='ee-v'>-73.79639345192926</span></li><li><span class='ee-k'>1:</span><span class='ee-v'>-4.336121823852913</span></li></ul></li><li><label class='ee-shut'>11: [-73.7963849853264, -4.341468738571878]<input type='checkbox' class='ee-toggle'></label><ul><li><span class='ee-k'>0:</span><span class='ee-v'>-73.7963849853264</span></li><li><span class='ee-k'>1:</span><span class='ee-v'>-4.341468738571878</span></li></ul></li><li><label class='ee-shut'>12: [-73.79632150961547, -4.381345721182393]<input type='checkbox' class='ee-toggle'></label><ul><li><span class='ee-k'>0:</span><span class='ee-v'>-73.79632150961547</span></li><li><span class='ee-k'>1:</span><span class='ee-v'>-4.381345721182393</span></li></ul></li><li><label class='ee-shut'>13: [-73.79624881359646, -4.426569562713167]<input type='checkbox' class='ee-toggle'></label><ul><li><span class='ee-k'>0:</span><span class='ee-v'>-73.79624881359646</span></li><li><span class='ee-k'>1:</span><span class='ee-v'>-4.426569562713167</span></li></ul></li><li><label class='ee-shut'>14: [-73.79617536364692, -4.47179334787365]<input type='checkbox' class='ee-toggle'></label><ul><li><span class='ee-k'>0:</span><span class='ee-v'>-73.79617536364692</span></li><li><span class='ee-k'>1:</span><span class='ee-v'>-4.47179334787365</span></li></ul></li><li><label class='ee-shut'>15: [-73.75108754529599, -4.488332065999658]<input type='checkbox' class='ee-toggle'></label><ul><li><span class='ee-k'>0:</span><span class='ee-v'>-73.75108754529599</span></li><li><span class='ee-k'>1:</span><span class='ee-v'>-4.488332065999658</span></li></ul></li><li><label class='ee-shut'>16: [-73.74970249138407, -4.4870009486664415]<input type='checkbox' class='ee-toggle'></label><ul><li><span class='ee-k'>0:</span><span class='ee-v'>-73.74970249138407</span></li><li><span class='ee-k'>1:</span><span class='ee-v'>-4.4870009486664415</span></li></ul></li><li><label class='ee-shut'>17: [-73.74881151999165, -4.486441911395095]<input type='checkbox' class='ee-toggle'></label><ul><li><span class='ee-k'>0:</span><span class='ee-v'>-73.74881151999165</span></li><li><span class='ee-k'>1:</span><span class='ee-v'>-4.486441911395095</span></li></ul></li><li><label class='ee-shut'>18: [-73.74778101389151, -4.485794629948547]<input type='checkbox' class='ee-toggle'></label><ul><li><span class='ee-k'>0:</span><span class='ee-v'>-73.74778101389151</span></li><li><span class='ee-k'>1:</span><span class='ee-v'>-4.485794629948547</span></li></ul></li><li><label class='ee-shut'>19: [-73.74575957769454, -4.484760074053891]<input type='checkbox' class='ee-toggle'></label><ul><li><span class='ee-k'>0:</span><span class='ee-v'>-73.74575957769454</span></li><li><span class='ee-k'>1:</span><span class='ee-v'>-4.484760074053891</span></li></ul></li><li><label class='ee-shut'>20: [-73.74366352147801, -4.483888188450969]<input type='checkbox' class='ee-toggle'></label><ul><li><span class='ee-k'>0:</span><span class='ee-v'>-73.74366352147801</span></li><li><span class='ee-k'>1:</span><span class='ee-v'>-4.483888188450969</span></li></ul></li><li><label class='ee-shut'>21: [-73.74239725852446, -4.483511924161269]<input type='checkbox' class='ee-toggle'></label><ul><li><span class='ee-k'>0:</span><span class='ee-v'>-73.74239725852446</span></li><li><span class='ee-k'>1:</span><span class='ee-v'>-4.483511924161269</span></li></ul></li><li><label class='ee-shut'>22: [-73.74149318626301, -4.483242556240875]<input type='checkbox' class='ee-toggle'></label><ul><li><span class='ee-k'>0:</span><span class='ee-v'>-73.74149318626301</span></li><li><span class='ee-k'>1:</span><span class='ee-v'>-4.483242556240875</span></li></ul></li><li><label class='ee-shut'>23: [-73.740553870473, -4.4830302883816415]<input type='checkbox' class='ee-toggle'></label><ul><li><span class='ee-k'>0:</span><span class='ee-v'>-73.740553870473</span></li><li><span class='ee-k'>1:</span><span class='ee-v'>-4.4830302883816415</span></li></ul></li><li><label class='ee-shut'>24: [-73.73927664852665, -4.482741009497692]<input type='checkbox' class='ee-toggle'></label><ul><li><span class='ee-k'>0:</span><span class='ee-v'>-73.73927664852665</span></li><li><span class='ee-k'>1:</span><span class='ee-v'>-4.482741009497692</span></li></ul></li><li><label class='ee-shut'>25: [-73.73780383279085, -4.482420096426139]<input type='checkbox' class='ee-toggle'></label><ul><li><span class='ee-k'>0:</span><span class='ee-v'>-73.73780383279085</span></li><li><span class='ee-k'>1:</span><span class='ee-v'>-4.482420096426139</span></li></ul></li><li><label class='ee-shut'>26: [-73.73706053468318, -4.482257818081319]<input type='checkbox' class='ee-toggle'></label><ul><li><span class='ee-k'>0:</span><span class='ee-v'>-73.73706053468318</span></li><li><span class='ee-k'>1:</span><span class='ee-v'>-4.482257818081319</span></li></ul></li><li><label class='ee-shut'>27: [-73.73596340554424, -4.48205612561772]<input type='checkbox' class='ee-toggle'></label><ul><li><span class='ee-k'>0:</span><span class='ee-v'>-73.73596340554424</span></li><li><span class='ee-k'>1:</span><span class='ee-v'>-4.48205612561772</span></li></ul></li><li><label class='ee-shut'>28: [-73.73482744885148, -4.481846947879099]<input type='checkbox' class='ee-toggle'></label><ul><li><span class='ee-k'>0:</span><span class='ee-v'>-73.73482744885148</span></li><li><span class='ee-k'>1:</span><span class='ee-v'>-4.481846947879099</span></li></ul></li><li><label class='ee-shut'>29: [-73.73258580271076, -4.481490324039987]<input type='checkbox' class='ee-toggle'></label><ul><li><span class='ee-k'>0:</span><span class='ee-v'>-73.73258580271076</span></li><li><span class='ee-k'>1:</span><span class='ee-v'>-4.481490324039987</span></li></ul></li><li><label class='ee-shut'>30: [-73.73154995509378, -4.481290812169524]<input type='checkbox' class='ee-toggle'></label><ul><li><span class='ee-k'>0:</span><span class='ee-v'>-73.73154995509378</span></li><li><span class='ee-k'>1:</span><span class='ee-v'>-4.481290812169524</span></li></ul></li><li><label class='ee-shut'>31: [-73.73036194862735, -4.481061458890254]<input type='checkbox' class='ee-toggle'></label><ul><li><span class='ee-k'>0:</span><span class='ee-v'>-73.73036194862735</span></li><li><span class='ee-k'>1:</span><span class='ee-v'>-4.481061458890254</span></li></ul></li><li><label class='ee-shut'>32: [-73.72813416548473, -4.480614220433293]<input type='checkbox' class='ee-toggle'></label><ul><li><span class='ee-k'>0:</span><span class='ee-v'>-73.72813416548473</span></li><li><span class='ee-k'>1:</span><span class='ee-v'>-4.480614220433293</span></li></ul></li><li><label class='ee-shut'>33: [-73.72765935516014, -4.48054655459936]<input type='checkbox' class='ee-toggle'></label><ul><li><span class='ee-k'>0:</span><span class='ee-v'>-73.72765935516014</span></li><li><span class='ee-k'>1:</span><span class='ee-v'>-4.48054655459936</span></li></ul></li><li><label class='ee-shut'>34: [-73.72588688184207, -4.480293836765291]<input type='checkbox' class='ee-toggle'></label><ul><li><span class='ee-k'>0:</span><span class='ee-v'>-73.72588688184207</span></li><li><span class='ee-k'>1:</span><span class='ee-v'>-4.480293836765291</span></li></ul></li><li><label class='ee-shut'>35: [-73.7251957293642, -4.480259437846727]<input type='checkbox' class='ee-toggle'></label><ul><li><span class='ee-k'>0:</span><span class='ee-v'>-73.7251957293642</span></li><li><span class='ee-k'>1:</span><span class='ee-v'>-4.480259437846727</span></li></ul></li><li><label class='ee-shut'>36: [-73.72362518332044, -4.4801811743438025]<input type='checkbox' class='ee-toggle'></label><ul><li><span class='ee-k'>0:</span><span class='ee-v'>-73.72362518332044</span></li><li><span class='ee-k'>1:</span><span class='ee-v'>-4.4801811743438025</span></li></ul></li><li><label class='ee-shut'>37: [-73.72287959618178, -4.480200854909804]<input type='checkbox' class='ee-toggle'></label><ul><li><span class='ee-k'>0:</span><span class='ee-v'>-73.72287959618178</span></li><li><span class='ee-k'>1:</span><span class='ee-v'>-4.480200854909804</span></li></ul></li><li><label class='ee-shut'>38: [-73.72135570848036, -4.48024069915099]<input type='checkbox' class='ee-toggle'></label><ul><li><span class='ee-k'>0:</span><span class='ee-v'>-73.72135570848036</span></li><li><span class='ee-k'>1:</span><span class='ee-v'>-4.48024069915099</span></li></ul></li><li><label class='ee-shut'>39: [-73.71943216369692, -4.480321625512571]<input type='checkbox' class='ee-toggle'></label><ul><li><span class='ee-k'>0:</span><span class='ee-v'>-73.71943216369692</span></li><li><span class='ee-k'>1:</span><span class='ee-v'>-4.480321625512571</span></li></ul></li><li><label class='ee-shut'>40: [-73.71908572203861, -4.480336213056514]<input type='checkbox' class='ee-toggle'></label><ul><li><span class='ee-k'>0:</span><span class='ee-v'>-73.71908572203861</span></li><li><span class='ee-k'>1:</span><span class='ee-v'>-4.480336213056514</span></li></ul></li><li><label class='ee-shut'>41: [-73.71700283916486, -4.481146292757484]<input type='checkbox' class='ee-toggle'></label><ul><li><span class='ee-k'>0:</span><span class='ee-v'>-73.71700283916486</span></li><li><span class='ee-k'>1:</span><span class='ee-v'>-4.481146292757484</span></li></ul></li><li><label class='ee-shut'>42: [-73.71601884651129, -4.481345171034944]<input type='checkbox' class='ee-toggle'></label><ul><li><span class='ee-k'>0:</span><span class='ee-v'>-73.71601884651129</span></li><li><span class='ee-k'>1:</span><span class='ee-v'>-4.481345171034944</span></li></ul></li><li><label class='ee-shut'>43: [-73.71478035982169, -4.481594882415131]<input type='checkbox' class='ee-toggle'></label><ul><li><span class='ee-k'>0:</span><span class='ee-v'>-73.71478035982169</span></li><li><span class='ee-k'>1:</span><span class='ee-v'>-4.481594882415131</span></li></ul></li><li><label class='ee-shut'>44: [-73.71346028722132, -4.481603050291513]<input type='checkbox' class='ee-toggle'></label><ul><li><span class='ee-k'>0:</span><span class='ee-v'>-73.71346028722132</span></li><li><span class='ee-k'>1:</span><span class='ee-v'>-4.481603050291513</span></li></ul></li><li><label class='ee-shut'>45: [-73.71250916495588, -4.481608881466721]<input type='checkbox' class='ee-toggle'></label><ul><li><span class='ee-k'>0:</span><span class='ee-v'>-73.71250916495588</span></li><li><span class='ee-k'>1:</span><span class='ee-v'>-4.481608881466721</span></li></ul></li><li><label class='ee-shut'>46: [-73.71121524600525, -4.481606690208439]<input type='checkbox' class='ee-toggle'></label><ul><li><span class='ee-k'>0:</span><span class='ee-v'>-73.71121524600525</span></li><li><span class='ee-k'>1:</span><span class='ee-v'>-4.481606690208439</span></li></ul></li><li><label class='ee-shut'>47: [-73.71024286980528, -4.481604974007236]<input type='checkbox' class='ee-toggle'></label><ul><li><span class='ee-k'>0:</span><span class='ee-v'>-73.71024286980528</span></li><li><span class='ee-k'>1:</span><span class='ee-v'>-4.481604974007236</span></li></ul></li><li><label class='ee-shut'>48: [-73.70798057345189, -4.481429131182429]<input type='checkbox' class='ee-toggle'></label><ul><li><span class='ee-k'>0:</span><span class='ee-v'>-73.70798057345189</span></li><li><span class='ee-k'>1:</span><span class='ee-v'>-4.481429131182429</span></li></ul></li><li><label class='ee-shut'>49: [-73.70603999990816, -4.4812548464663475]<input type='checkbox' class='ee-toggle'></label><ul><li><span class='ee-k'>0:</span><span class='ee-v'>-73.70603999990816</span></li><li><span class='ee-k'>1:</span><span class='ee-v'>-4.4812548464663475</span></li></ul></li><li><label class='ee-shut'>50: [-73.7059638619137, -4.4812480186998815]<input type='checkbox' class='ee-toggle'></label><ul><li><span class='ee-k'>0:</span><span class='ee-v'>-73.7059638619137</span></li><li><span class='ee-k'>1:</span><span class='ee-v'>-4.4812480186998815</span></li></ul></li><li><label class='ee-shut'>51: [-73.70571895905348, -4.481225968583812]<input type='checkbox' class='ee-toggle'></label><ul><li><span class='ee-k'>0:</span><span class='ee-v'>-73.70571895905348</span></li><li><span class='ee-k'>1:</span><span class='ee-v'>-4.481225968583812</span></li></ul></li><li><label class='ee-shut'>52: [-73.70531997809951, -4.481190169098988]<input type='checkbox' class='ee-toggle'></label><ul><li><span class='ee-k'>0:</span><span class='ee-v'>-73.70531997809951</span></li><li><span class='ee-k'>1:</span><span class='ee-v'>-4.481190169098988</span></li></ul></li><li><label class='ee-shut'>53: [-73.70346077175077, -4.481023167197234]<input type='checkbox' class='ee-toggle'></label><ul><li><span class='ee-k'>0:</span><span class='ee-v'>-73.70346077175077</span></li><li><span class='ee-k'>1:</span><span class='ee-v'>-4.481023167197234</span></li></ul></li><li><label class='ee-shut'>54: [-73.7011932785949, -4.480937739572928]<input type='checkbox' class='ee-toggle'></label><ul><li><span class='ee-k'>0:</span><span class='ee-v'>-73.7011932785949</span></li><li><span class='ee-k'>1:</span><span class='ee-v'>-4.480937739572928</span></li></ul></li><li><label class='ee-shut'>55: [-73.69892614698026, -4.481006061176363]<input type='checkbox' class='ee-toggle'></label><ul><li><span class='ee-k'>0:</span><span class='ee-v'>-73.69892614698026</span></li><li><span class='ee-k'>1:</span><span class='ee-v'>-4.481006061176363</span></li></ul></li><li><label class='ee-shut'>56: [-73.69759285077252, -4.481056866792948]<input type='checkbox' class='ee-toggle'></label><ul><li><span class='ee-k'>0:</span><span class='ee-v'>-73.69759285077252</span></li><li><span class='ee-k'>1:</span><span class='ee-v'>-4.481056866792948</span></li></ul></li><li><label class='ee-shut'>57: [-73.69665529011687, -4.4810924578333715]<input type='checkbox' class='ee-toggle'></label><ul><li><span class='ee-k'>0:</span><span class='ee-v'>-73.69665529011687</span></li><li><span class='ee-k'>1:</span><span class='ee-v'>-4.4810924578333715</span></li></ul></li><li><label class='ee-shut'>58: [-73.69438934325424, -4.481205898871592]<input type='checkbox' class='ee-toggle'></label><ul><li><span class='ee-k'>0:</span><span class='ee-v'>-73.69438934325424</span></li><li><span class='ee-k'>1:</span><span class='ee-v'>-4.481205898871592</span></li></ul></li><li><label class='ee-shut'>59: [-73.69212345245468, -4.481237842590027]<input type='checkbox' class='ee-toggle'></label><ul><li><span class='ee-k'>0:</span><span class='ee-v'>-73.69212345245468</span></li><li><span class='ee-k'>1:</span><span class='ee-v'>-4.481237842590027</span></li></ul></li><li><label class='ee-shut'>60: [-73.68985744409937, -4.481134384230166]<input type='checkbox' class='ee-toggle'></label><ul><li><span class='ee-k'>0:</span><span class='ee-v'>-73.68985744409937</span></li><li><span class='ee-k'>1:</span><span class='ee-v'>-4.481134384230166</span></li></ul></li><li><label class='ee-shut'>61: [-73.68770992205634, -4.4809416827506485]<input type='checkbox' class='ee-toggle'></label><ul><li><span class='ee-k'>0:</span><span class='ee-v'>-73.68770992205634</span></li><li><span class='ee-k'>1:</span><span class='ee-v'>-4.4809416827506485</span></li></ul></li><li><label class='ee-shut'>62: [-73.6875990050001, -4.480931715560229]<input type='checkbox' class='ee-toggle'></label><ul><li><span class='ee-k'>0:</span><span class='ee-v'>-73.6875990050001</span></li><li><span class='ee-k'>1:</span><span class='ee-v'>-4.480931715560229</span></li></ul></li><li><label class='ee-shut'>63: [-73.68535614889957, -4.480583634495522]<input type='checkbox' class='ee-toggle'></label><ul><li><span class='ee-k'>0:</span><span class='ee-v'>-73.68535614889957</span></li><li><span class='ee-k'>1:</span><span class='ee-v'>-4.480583634495522</span></li></ul></li><li><label class='ee-shut'>64: [-73.68312942465121, -4.480136630679193]<input type='checkbox' class='ee-toggle'></label><ul><li><span class='ee-k'>0:</span><span class='ee-v'>-73.68312942465121</span></li><li><span class='ee-k'>1:</span><span class='ee-v'>-4.480136630679193</span></li></ul></li><li><label class='ee-shut'>65: [-73.68093447318127, -4.479562876067171]<input type='checkbox' class='ee-toggle'></label><ul><li><span class='ee-k'>0:</span><span class='ee-v'>-73.68093447318127</span></li><li><span class='ee-k'>1:</span><span class='ee-v'>-4.479562876067171</span></li></ul></li><li><label class='ee-shut'>66: [-73.67875930225387, -4.4789167966705365]<input type='checkbox' class='ee-toggle'></label><ul><li><span class='ee-k'>0:</span><span class='ee-v'>-73.67875930225387</span></li><li><span class='ee-k'>1:</span><span class='ee-v'>-4.4789167966705365</span></li></ul></li><li><label class='ee-shut'>67: [-73.67662943902413, -4.478135128529261]<input type='checkbox' class='ee-toggle'></label><ul><li><span class='ee-k'>0:</span><span class='ee-v'>-73.67662943902413</span></li><li><span class='ee-k'>1:</span><span class='ee-v'>-4.478135128529261</span></li></ul></li><li><label class='ee-shut'>68: [-73.67452393716952, -4.477290189190655]<input type='checkbox' class='ee-toggle'></label><ul><li><span class='ee-k'>0:</span><span class='ee-v'>-73.67452393716952</span></li><li><span class='ee-k'>1:</span><span class='ee-v'>-4.477290189190655</span></li></ul></li><li><label class='ee-shut'>69: [-73.67329130988502, -4.476745925844339]<input type='checkbox' class='ee-toggle'></label><ul><li><span class='ee-k'>0:</span><span class='ee-v'>-73.67329130988502</span></li><li><span class='ee-k'>1:</span><span class='ee-v'>-4.476745925844339</span></li></ul></li><li><label class='ee-shut'>70: [-73.672447229346, -4.476372761814433]<input type='checkbox' class='ee-toggle'></label><ul><li><span class='ee-k'>0:</span><span class='ee-v'>-73.672447229346</span></li><li><span class='ee-k'>1:</span><span class='ee-v'>-4.476372761814433</span></li></ul></li><li><label class='ee-shut'>71: [-73.67039486676285, -4.4754013796009815]<input type='checkbox' class='ee-toggle'></label><ul><li><span class='ee-k'>0:</span><span class='ee-v'>-73.67039486676285</span></li><li><span class='ee-k'>1:</span><span class='ee-v'>-4.4754013796009815</span></li></ul></li><li><label class='ee-shut'>72: [-73.66991467216454, -4.475182085872096]<input type='checkbox' class='ee-toggle'></label><ul><li><span class='ee-k'>0:</span><span class='ee-v'>-73.66991467216454</span></li><li><span class='ee-k'>1:</span><span class='ee-v'>-4.475182085872096</span></li></ul></li><li><label class='ee-shut'>73: [-73.66832732242706, -4.474457098565824]<input type='checkbox' class='ee-toggle'></label><ul><li><span class='ee-k'>0:</span><span class='ee-v'>-73.66832732242706</span></li><li><span class='ee-k'>1:</span><span class='ee-v'>-4.474457098565824</span></li></ul></li><li><label class='ee-shut'>74: [-73.66623261930617, -4.473585027879518]<input type='checkbox' class='ee-toggle'></label><ul><li><span class='ee-k'>0:</span><span class='ee-v'>-73.66623261930617</span></li><li><span class='ee-k'>1:</span><span class='ee-v'>-4.473585027879518</span></li></ul></li><li><label class='ee-shut'>75: [-73.6640801503208, -4.472866600581387]<input type='checkbox' class='ee-toggle'></label><ul><li><span class='ee-k'>0:</span><span class='ee-v'>-73.6640801503208</span></li><li><span class='ee-k'>1:</span><span class='ee-v'>-4.472866600581387</span></li></ul></li><li><label class='ee-shut'>76: [-73.66187381399985, -4.472338000179723]<input type='checkbox' class='ee-toggle'></label><ul><li><span class='ee-k'>0:</span><span class='ee-v'>-73.66187381399985</span></li><li><span class='ee-k'>1:</span><span class='ee-v'>-4.472338000179723</span></li></ul></li><li><label class='ee-shut'>77: [-73.65964020154851, -4.471945008614324]<input type='checkbox' class='ee-toggle'></label><ul><li><span class='ee-k'>0:</span><span class='ee-v'>-73.65964020154851</span></li><li><span class='ee-k'>1:</span><span class='ee-v'>-4.471945008614324</span></li></ul></li><li><label class='ee-shut'>78: [-73.65963803894721, -4.471944914211611]<input type='checkbox' class='ee-toggle'></label><ul><li><span class='ee-k'>0:</span><span class='ee-v'>-73.65963803894721</span></li><li><span class='ee-k'>1:</span><span class='ee-v'>-4.471944914211611</span></li></ul></li><li><label class='ee-shut'>79: [-73.65963740830497, -4.471944822613911]<input type='checkbox' class='ee-toggle'></label><ul><li><span class='ee-k'>0:</span><span class='ee-v'>-73.65963740830497</span></li><li><span class='ee-k'>1:</span><span class='ee-v'>-4.471944822613911</span></li></ul></li><li><label class='ee-shut'>80: [-73.65871073724571, -4.471902516402021]<input type='checkbox' class='ee-toggle'></label><ul><li><span class='ee-k'>0:</span><span class='ee-v'>-73.65871073724571</span></li><li><span class='ee-k'>1:</span><span class='ee-v'>-4.471902516402021</span></li></ul></li><li><label class='ee-shut'>81: [-73.65737452621731, -4.471841369459497]<input type='checkbox' class='ee-toggle'></label><ul><li><span class='ee-k'>0:</span><span class='ee-v'>-73.65737452621731</span></li><li><span class='ee-k'>1:</span><span class='ee-v'>-4.471841369459497</span></li></ul></li><li><label class='ee-shut'>82: [-73.65737407547692, -4.471841459075725]<input type='checkbox' class='ee-toggle'></label><ul><li><span class='ee-k'>0:</span><span class='ee-v'>-73.65737407547692</span></li><li><span class='ee-k'>1:</span><span class='ee-v'>-4.471841459075725</span></li></ul></li><li><label class='ee-shut'>83: [-73.65737155241767, -4.47184136400539]<input type='checkbox' class='ee-toggle'></label><ul><li><span class='ee-k'>0:</span><span class='ee-v'>-73.65737155241767</span></li><li><span class='ee-k'>1:</span><span class='ee-v'>-4.47184136400539</span></li></ul></li><li><label class='ee-shut'>84: [-73.65513611190423, -4.472207985833637]<input type='checkbox' class='ee-toggle'></label><ul><li><span class='ee-k'>0:</span><span class='ee-v'>-73.65513611190423</span></li><li><span class='ee-k'>1:</span><span class='ee-v'>-4.472207985833637</span></li></ul></li><li><label class='ee-shut'>85: [-73.65290900960902, -4.472647060143798]<input type='checkbox' class='ee-toggle'></label><ul><li><span class='ee-k'>0:</span><span class='ee-v'>-73.65290900960902</span></li><li><span class='ee-k'>1:</span><span class='ee-v'>-4.472647060143798</span></li></ul></li><li><label class='ee-shut'>86: [-73.6520898189253, -4.472522188114017]<input type='checkbox' class='ee-toggle'></label><ul><li><span class='ee-k'>0:</span><span class='ee-v'>-73.6520898189253</span></li><li><span class='ee-k'>1:</span><span class='ee-v'>-4.472522188114017</span></li></ul></li><li><label class='ee-shut'>87: [-73.65068819588525, -4.472308602874048]<input type='checkbox' class='ee-toggle'></label><ul><li><span class='ee-k'>0:</span><span class='ee-v'>-73.65068819588525</span></li><li><span class='ee-k'>1:</span><span class='ee-v'>-4.472308602874048</span></li></ul></li><li><label class='ee-shut'>88: [-73.6487274016014, -4.471165137744553]<input type='checkbox' class='ee-toggle'></label><ul><li><span class='ee-k'>0:</span><span class='ee-v'>-73.6487274016014</span></li><li><span class='ee-k'>1:</span><span class='ee-v'>-4.471165137744553</span></li></ul></li><li><label class='ee-shut'>89: [-73.64692683490026, -4.469778041704015]<input type='checkbox' class='ee-toggle'></label><ul><li><span class='ee-k'>0:</span><span class='ee-v'>-73.64692683490026</span></li><li><span class='ee-k'>1:</span><span class='ee-v'>-4.469778041704015</span></li></ul></li><li><label class='ee-shut'>90: [-73.64499662925209, -4.468571678838533]<input type='checkbox' class='ee-toggle'></label><ul><li><span class='ee-k'>0:</span><span class='ee-v'>-73.64499662925209</span></li><li><span class='ee-k'>1:</span><span class='ee-v'>-4.468571678838533</span></li></ul></li><li><label class='ee-shut'>91: [-73.64312052470142, -4.4678907928150595]<input type='checkbox' class='ee-toggle'></label><ul><li><span class='ee-k'>0:</span><span class='ee-v'>-73.64312052470142</span></li><li><span class='ee-k'>1:</span><span class='ee-v'>-4.4678907928150595</span></li></ul></li><li><label class='ee-shut'>92: [-73.64167178942206, -4.467480575269855]<input type='checkbox' class='ee-toggle'></label><ul><li><span class='ee-k'>0:</span><span class='ee-v'>-73.64167178942206</span></li><li><span class='ee-k'>1:</span><span class='ee-v'>-4.467480575269855</span></li></ul></li><li><label class='ee-shut'>93: [-73.64067840592179, -4.467215998249145]<input type='checkbox' class='ee-toggle'></label><ul><li><span class='ee-k'>0:</span><span class='ee-v'>-73.64067840592179</span></li><li><span class='ee-k'>1:</span><span class='ee-v'>-4.467215998249145</span></li></ul></li><li><label class='ee-shut'>94: [-73.63843538319364, -4.466868424975319]<input type='checkbox' class='ee-toggle'></label><ul><li><span class='ee-k'>0:</span><span class='ee-v'>-73.63843538319364</span></li><li><span class='ee-k'>1:</span><span class='ee-v'>-4.466868424975319</span></li></ul></li><li><label class='ee-shut'>95: [-73.63616940527771, -4.466900388411386]<input type='checkbox' class='ee-toggle'></label><ul><li><span class='ee-k'>0:</span><span class='ee-v'>-73.63616940527771</span></li><li><span class='ee-k'>1:</span><span class='ee-v'>-4.466900388411386</span></li></ul></li><li><label class='ee-shut'>96: [-73.63392113773378, -4.467248291882181]<input type='checkbox' class='ee-toggle'></label><ul><li><span class='ee-k'>0:</span><span class='ee-v'>-73.63392113773378</span></li><li><span class='ee-k'>1:</span><span class='ee-v'>-4.467248291882181</span></li></ul></li><li><label class='ee-shut'>97: [-73.63172909062652, -4.467796350420927]<input type='checkbox' class='ee-toggle'></label><ul><li><span class='ee-k'>0:</span><span class='ee-v'>-73.63172909062652</span></li><li><span class='ee-k'>1:</span><span class='ee-v'>-4.467796350420927</span></li></ul></li><li><label class='ee-shut'>98: [-73.62951659750591, -4.468289826686977]<input type='checkbox' class='ee-toggle'></label><ul><li><span class='ee-k'>0:</span><span class='ee-v'>-73.62951659750591</span></li><li><span class='ee-k'>1:</span><span class='ee-v'>-4.468289826686977</span></li></ul></li><li><label class='ee-shut'>99: [-73.62725825656443, -4.468529701071753]<input type='checkbox' class='ee-toggle'></label><ul><li><span class='ee-k'>0:</span><span class='ee-v'>-73.62725825656443</span></li><li><span class='ee-k'>1:</span><span class='ee-v'>-4.468529701071753</span></li></ul></li><li><label class='ee-shut'>100: [-73.62499236907237, -4.468660842929837]<input type='checkbox' class='ee-toggle'></label><ul><li><span class='ee-k'>0:</span><span class='ee-v'>-73.62499236907237</span></li><li><span class='ee-k'>1:</span><span class='ee-v'>-4.468660842929837</span></li></ul></li><li><label class='ee-shut'>101: [-73.62272639776242, -4.4686927628997]<input type='checkbox' class='ee-toggle'></label><ul><li><span class='ee-k'>0:</span><span class='ee-v'>-73.62272639776242</span></li><li><span class='ee-k'>1:</span><span class='ee-v'>-4.4686927628997</span></li></ul></li><li><label class='ee-shut'>102: [-73.62081570293623, -4.468458813491792]<input type='checkbox' class='ee-toggle'></label><ul><li><span class='ee-k'>0:</span><span class='ee-v'>-73.62081570293623</span></li><li><span class='ee-k'>1:</span><span class='ee-v'>-4.468458813491792</span></li></ul></li><li><label class='ee-shut'>103: [-73.62085456042063, -4.447618884813608]<input type='checkbox' class='ee-toggle'></label><ul><li><span class='ee-k'>0:</span><span class='ee-v'>-73.62085456042063</span></li><li><span class='ee-k'>1:</span><span class='ee-v'>-4.447618884813608</span></li></ul></li><li><label class='ee-shut'>104: [-73.60445526034653, -4.4475879725503225]<input type='checkbox' class='ee-toggle'></label><ul><li><span class='ee-k'>0:</span><span class='ee-v'>-73.60445526034653</span></li><li><span class='ee-k'>1:</span><span class='ee-v'>-4.4475879725503225</span></li></ul></li><li><label class='ee-shut'>105: [-73.5988622633844, -4.432077513760651]<input type='checkbox' class='ee-toggle'></label><ul><li><span class='ee-k'>0:</span><span class='ee-v'>-73.5988622633844</span></li><li><span class='ee-k'>1:</span><span class='ee-v'>-4.432077513760651</span></li></ul></li><li><label class='ee-shut'>106: [-73.62088334211315, -4.4321189623806205]<input type='checkbox' class='ee-toggle'></label><ul><li><span class='ee-k'>0:</span><span class='ee-v'>-73.62088334211315</span></li><li><span class='ee-k'>1:</span><span class='ee-v'>-4.4321189623806205</span></li></ul></li><li><label class='ee-shut'>107: [-73.6209471707229, -4.3975481991966605]<input type='checkbox' class='ee-toggle'></label><ul><li><span class='ee-k'>0:</span><span class='ee-v'>-73.6209471707229</span></li><li><span class='ee-k'>1:</span><span class='ee-v'>-4.3975481991966605</span></li></ul></li><li><label class='ee-shut'>108: [-73.63536397793573, -4.397574770837496]<input type='checkbox' class='ee-toggle'></label><ul><li><span class='ee-k'>0:</span><span class='ee-v'>-73.63536397793573</span></li><li><span class='ee-k'>1:</span><span class='ee-v'>-4.397574770837496</span></li></ul></li><li><label class='ee-shut'>109: [-73.63539760164353, -4.379058763260627]<input type='checkbox' class='ee-toggle'></label><ul><li><span class='ee-k'>0:</span><span class='ee-v'>-73.63539760164353</span></li><li><span class='ee-k'>1:</span><span class='ee-v'>-4.379058763260627</span></li></ul></li><li><label class='ee-shut'>110: [-73.66013148137458, -4.3791035111058925]<input type='checkbox' class='ee-toggle'></label><ul><li><span class='ee-k'>0:</span><span class='ee-v'>-73.66013148137458</span></li><li><span class='ee-k'>1:</span><span class='ee-v'>-4.3791035111058925</span></li></ul></li><li><label class='ee-shut'>111: [-73.661186750047, -4.366839936498773]<input type='checkbox' class='ee-toggle'></label><ul><li><span class='ee-k'>0:</span><span class='ee-v'>-73.661186750047</span></li><li><span class='ee-k'>1:</span><span class='ee-v'>-4.366839936498773</span></li></ul></li><li><label class='ee-shut'>112: [-73.66715289862839, -4.297483771434617]<input type='checkbox' class='ee-toggle'></label><ul><li><span class='ee-k'>0:</span><span class='ee-v'>-73.66715289862839</span></li><li><span class='ee-k'>1:</span><span class='ee-v'>-4.297483771434617</span></li></ul></li><li><label class='ee-shut'>113: [-73.67925833668968, -4.297490391713284]<input type='checkbox' class='ee-toggle'></label><ul><li><span class='ee-k'>0:</span><span class='ee-v'>-73.67925833668968</span></li><li><span class='ee-k'>1:</span><span class='ee-v'>-4.297490391713284</span></li></ul></li><li><label class='ee-shut'>114: [-73.67926652168201, -4.2927317791679505]<input type='checkbox' class='ee-toggle'></label><ul><li><span class='ee-k'>0:</span><span class='ee-v'>-73.67926652168201</span></li><li><span class='ee-k'>1:</span><span class='ee-v'>-4.2927317791679505</span></li></ul></li><li><label class='ee-shut'>115: [-73.70636438638385, -4.292782946040173]<input type='checkbox' class='ee-toggle'></label><ul><li><span class='ee-k'>0:</span><span class='ee-v'>-73.70636438638385</span></li><li><span class='ee-k'>1:</span><span class='ee-v'>-4.292782946040173</span></li></ul></li><li><label class='ee-shut'>116: [-73.72694072069217, -4.285378957796191]<input type='checkbox' class='ee-toggle'></label><ul><li><span class='ee-k'>0:</span><span class='ee-v'>-73.72694072069217</span></li><li><span class='ee-k'>1:</span><span class='ee-v'>-4.285378957796191</span></li></ul></li><li><label class='ee-shut'>117: [-73.75141258828562, -4.292822873641741]<input type='checkbox' class='ee-toggle'></label><ul><li><span class='ee-k'>0:</span><span class='ee-v'>-73.75141258828562</span></li><li><span class='ee-k'>1:</span><span class='ee-v'>-4.292822873641741</span></li></ul></li><li><label class='ee-shut'>118: [-73.75399153150043, -4.292825103247114]<input type='checkbox' class='ee-toggle'></label><ul><li><span class='ee-k'>0:</span><span class='ee-v'>-73.75399153150043</span></li><li><span class='ee-k'>1:</span><span class='ee-v'>-4.292825103247114</span></li></ul></li><li><label class='ee-shut'>119: [-73.76290911877882, -4.288345492600839]<input type='checkbox' class='ee-toggle'></label><ul><li><span class='ee-k'>0:</span><span class='ee-v'>-73.76290911877882</span></li><li><span class='ee-k'>1:</span><span class='ee-v'>-4.288345492600839</span></li></ul></li><li><label class='ee-shut'>120: [-73.76291732108112, -4.2863824427238955]<input type='checkbox' class='ee-toggle'></label><ul><li><span class='ee-k'>0:</span><span class='ee-v'>-73.76291732108112</span></li><li><span class='ee-k'>1:</span><span class='ee-v'>-4.2863824427238955</span></li></ul></li><li><label class='ee-shut'>121: [-73.75143211852038, -4.280788522871085]<input type='checkbox' class='ee-toggle'></label><ul><li><span class='ee-k'>0:</span><span class='ee-v'>-73.75143211852038</span></li><li><span class='ee-k'>1:</span><span class='ee-v'>-4.280788522871085</span></li></ul></li><li><label class='ee-shut'>122: [-73.73430088524701, -4.2645813501288625]<input type='checkbox' class='ee-toggle'></label><ul><li><span class='ee-k'>0:</span><span class='ee-v'>-73.73430088524701</span></li><li><span class='ee-k'>1:</span><span class='ee-v'>-4.2645813501288625</span></li></ul></li><li><label class='ee-shut'>123: [-73.7242540051786, -4.2645516887155885]<input type='checkbox' class='ee-toggle'></label><ul><li><span class='ee-k'>0:</span><span class='ee-v'>-73.7242540051786</span></li><li><span class='ee-k'>1:</span><span class='ee-v'>-4.2645516887155885</span></li></ul></li><li><label class='ee-shut'>124: [-73.70639795371522, -4.272800691995381]<input type='checkbox' class='ee-toggle'></label><ul><li><span class='ee-k'>0:</span><span class='ee-v'>-73.70639795371522</span></li><li><span class='ee-k'>1:</span><span class='ee-v'>-4.272800691995381</span></li></ul></li><li><label class='ee-shut'>125: [-73.70644351295583, -4.245527932001742]<input type='checkbox' class='ee-toggle'></label><ul><li><span class='ee-k'>0:</span><span class='ee-v'>-73.70644351295583</span></li><li><span class='ee-k'>1:</span><span class='ee-v'>-4.245527932001742</span></li></ul></li></ul></li></ul></li></ul></li><li><span class='ee-k'>system:index:</span><span class='ee-v'>20230917T151711_20230917T152113_T18MXA</span></li><li><span class='ee-k'>system:time_end:</span><span class='ee-v'>1694964255236</span></li><li><span class='ee-k'>system:time_start:</span><span class='ee-v'>1694964255236</span></li></ul></li></ul></li></ul></div><script>function toggleHeader() {\n",
              "    const parent = this.parentElement;\n",
              "    parent.className = parent.className === \"ee-open\" ? \"ee-shut\" : \"ee-open\";\n",
              "}\n",
              "\n",
              "for (let c of document.getElementsByClassName(\"ee-toggle\")) {\n",
              "    c.onclick = toggleHeader;\n",
              "}</script></div>"
            ]
          },
          "metadata": {},
          "execution_count": 179
        }
      ]
    },
    {
      "cell_type": "code",
      "source": [
        "ndvi2"
      ],
      "metadata": {
        "id": "O_gpiH_iXXir",
        "outputId": "ca5362d3-8749-485c-8650-04a1ec85018e",
        "colab": {
          "base_uri": "https://localhost:8080/",
          "height": 0
        }
      },
      "execution_count": 180,
      "outputs": [
        {
          "output_type": "display_data",
          "data": {
            "text/plain": [
              "<IPython.core.display.HTML object>"
            ],
            "text/html": [
              "\n",
              "            <style>\n",
              "                .geemap-dark {\n",
              "                    --jp-widgets-color: white;\n",
              "                    --jp-widgets-label-color: white;\n",
              "                    --jp-ui-font-color1: white;\n",
              "                    --jp-layout-color2: #454545;\n",
              "                    background-color: #383838;\n",
              "                }\n",
              "                    \n",
              "                .geemap-dark .jupyter-button {\n",
              "                    --jp-layout-color3: #383838;\n",
              "                }\n",
              "                \n",
              "                .geemap-colab {\n",
              "                    background-color: var(--colab-primary-surface-color, white);\n",
              "                }\n",
              "                    \n",
              "                .geemap-colab .jupyter-button {\n",
              "                    --jp-layout-color3: var(--colab-primary-surface-color, white);\n",
              "                }\n",
              "            </style>\n",
              "            "
            ]
          },
          "metadata": {}
        },
        {
          "output_type": "execute_result",
          "data": {
            "text/plain": [
              "<ee.image.Image at 0x7f8dac2f9f00>"
            ],
            "text/html": [
              "<div><style>:root {\n",
              "  --font-color-primary: var(--jp-content-font-color0, rgba(0, 0, 0, 1));\n",
              "  --font-color-secondary: var(--jp-content-font-color2, rgba(0, 0, 0, 0.6));\n",
              "  --font-color-accent: rgba(123, 31, 162, 1);\n",
              "  --border-color: var(--jp-border-color2, #e0e0e0);\n",
              "  --background-color: var(--jp-layout-color0, white);\n",
              "  --background-color-row-even: var(--jp-layout-color1, white);\n",
              "  --background-color-row-odd: var(--jp-layout-color2, #eeeeee);\n",
              "}\n",
              "\n",
              "html[theme=\"dark\"],\n",
              "body[data-theme=\"dark\"],\n",
              "body.vscode-dark {\n",
              "  --font-color-primary: rgba(255, 255, 255, 1);\n",
              "  --font-color-secondary: rgba(255, 255, 255, 0.6);\n",
              "  --font-color-accent: rgb(173, 132, 190);\n",
              "  --border-color: #2e2e2e;\n",
              "  --background-color: #111111;\n",
              "  --background-color-row-even: #111111;\n",
              "  --background-color-row-odd: #313131;\n",
              "}\n",
              "\n",
              ".ee {\n",
              "  padding: 1em;\n",
              "  line-height: 1.5em;\n",
              "  min-width: 300px;\n",
              "  max-width: 1200px;\n",
              "  overflow-y: scroll;\n",
              "  max-height: 600px;\n",
              "  border: 1px solid var(--border-color);\n",
              "  font-family: monospace;\n",
              "}\n",
              "\n",
              ".ee li {\n",
              "  list-style-type: none;\n",
              "}\n",
              "\n",
              ".ee ul {\n",
              "  padding-left: 1.5em !important;\n",
              "  margin: 0;\n",
              "}\n",
              "\n",
              ".ee > ul {\n",
              "  padding-left: 0 !important;\n",
              "}\n",
              "\n",
              ".ee-open,\n",
              ".ee-shut {\n",
              "  color: var(--font-color-secondary);\n",
              "  cursor: pointer;\n",
              "  margin: 0;\n",
              "}\n",
              "\n",
              ".ee-open:hover,\n",
              ".ee-shut:hover {\n",
              "  color: var(--font-color-primary);\n",
              "}\n",
              "\n",
              ".ee-k {\n",
              "  color: var(--font-color-accent);\n",
              "  margin-right: 6px;\n",
              "}\n",
              "\n",
              ".ee-v {\n",
              "  color: var(--font-color-primary);\n",
              "}\n",
              "\n",
              ".ee-toggle {\n",
              "  display: none;\n",
              "}\n",
              "\n",
              ".ee-shut + ul {\n",
              "  display: none;\n",
              "}\n",
              "\n",
              ".ee-open + ul {\n",
              "  display: block;\n",
              "}\n",
              "\n",
              ".ee-shut::before {\n",
              "  display: inline-block;\n",
              "  content: \"▼\";\n",
              "  margin-right: 6px;\n",
              "  transform: rotate(-90deg);\n",
              "  transition: transform 0.2s;\n",
              "}\n",
              "\n",
              ".ee-open::before {\n",
              "  transform: rotate(0deg);\n",
              "  display: inline-block;\n",
              "  content: \"▼\";\n",
              "  margin-right: 6px;\n",
              "  transition: transform 0.2s;\n",
              "}\n",
              "</style><div class='ee'><ul><li><label class='ee-shut'>Image (1 band)<input type='checkbox' class='ee-toggle'></label><ul><li><span class='ee-k'>type:</span><span class='ee-v'>Image</span></li><li><label class='ee-shut'>bands: List (1 element)<input type='checkbox' class='ee-toggle'></label><ul><li><label class='ee-shut'>0: \"NDVI\", float, EPSG:32718, 1096x1789 px<input type='checkbox' class='ee-toggle'></label><ul><li><span class='ee-k'>id:</span><span class='ee-v'>NDVI</span></li><li><span class='ee-k'>crs:</span><span class='ee-v'>EPSG:32718</span></li><li><label class='ee-shut'>crs_transform: [20, 0, 600000, 0, -20, 9600040]<input type='checkbox' class='ee-toggle'></label><ul><li><span class='ee-k'>0:</span><span class='ee-v'>20</span></li><li><span class='ee-k'>1:</span><span class='ee-v'>0</span></li><li><span class='ee-k'>2:</span><span class='ee-v'>600000</span></li><li><span class='ee-k'>3:</span><span class='ee-v'>0</span></li><li><span class='ee-k'>4:</span><span class='ee-v'>-20</span></li><li><span class='ee-k'>5:</span><span class='ee-v'>9600040</span></li></ul></li><li><label class='ee-shut'>data_type: float<input type='checkbox' class='ee-toggle'></label><ul><li><span class='ee-k'>type:</span><span class='ee-v'>PixelType</span></li><li><span class='ee-k'>precision:</span><span class='ee-v'>float</span></li></ul></li><li><label class='ee-shut'>dimensions: [1096, 1789]<input type='checkbox' class='ee-toggle'></label><ul><li><span class='ee-k'>0:</span><span class='ee-v'>1096</span></li><li><span class='ee-k'>1:</span><span class='ee-v'>1789</span></li></ul></li><li><label class='ee-shut'>origin: [1678, 3025]<input type='checkbox' class='ee-toggle'></label><ul><li><span class='ee-k'>0:</span><span class='ee-v'>1678</span></li><li><span class='ee-k'>1:</span><span class='ee-v'>3025</span></li></ul></li></ul></li></ul></li></ul></li></ul></div><script>function toggleHeader() {\n",
              "    const parent = this.parentElement;\n",
              "    parent.className = parent.className === \"ee-open\" ? \"ee-shut\" : \"ee-open\";\n",
              "}\n",
              "\n",
              "for (let c of document.getElementsByClassName(\"ee-toggle\")) {\n",
              "    c.onclick = toggleHeader;\n",
              "}</script></div>"
            ]
          },
          "metadata": {},
          "execution_count": 180
        }
      ]
    },
    {
      "cell_type": "markdown",
      "source": [
        "#### Estilo"
      ],
      "metadata": {
        "id": "dIAOT52GHPWi"
      }
    },
    {
      "cell_type": "code",
      "source": [
        "vizParams = {\n",
        "    'bands': ['B4', 'B3', 'B2'],\n",
        "    'min': 0,\n",
        "    'max': 2500,\n",
        "    'gamma': 1.0\n",
        "}"
      ],
      "metadata": {
        "id": "-Wmxu9IzEisr",
        "outputId": "9dceadfd-bc66-46d7-a468-2adfa36e50ab",
        "colab": {
          "base_uri": "https://localhost:8080/",
          "height": 17
        }
      },
      "execution_count": 182,
      "outputs": [
        {
          "output_type": "display_data",
          "data": {
            "text/plain": [
              "<IPython.core.display.HTML object>"
            ],
            "text/html": [
              "\n",
              "            <style>\n",
              "                .geemap-dark {\n",
              "                    --jp-widgets-color: white;\n",
              "                    --jp-widgets-label-color: white;\n",
              "                    --jp-ui-font-color1: white;\n",
              "                    --jp-layout-color2: #454545;\n",
              "                    background-color: #383838;\n",
              "                }\n",
              "                    \n",
              "                .geemap-dark .jupyter-button {\n",
              "                    --jp-layout-color3: #383838;\n",
              "                }\n",
              "                \n",
              "                .geemap-colab {\n",
              "                    background-color: var(--colab-primary-surface-color, white);\n",
              "                }\n",
              "                    \n",
              "                .geemap-colab .jupyter-button {\n",
              "                    --jp-layout-color3: var(--colab-primary-surface-color, white);\n",
              "                }\n",
              "            </style>\n",
              "            "
            ]
          },
          "metadata": {}
        }
      ]
    },
    {
      "cell_type": "markdown",
      "source": [
        "## **Antes**"
      ],
      "metadata": {
        "id": "5fN_RG1nHV-o"
      }
    },
    {
      "cell_type": "code",
      "source": [
        "# @title\n",
        "# Aquí vemos la trama previa a la emisión del permiso.\n",
        "# https://colab.research.google.com/github/giswqs/gee-tutorials/blob/master/Image/image_visualization.ipynb#scrollTo=dIqOCYLbo0SF\n",
        "\n",
        "\n",
        "Map = geemap.Map()\n",
        "\n",
        "\n",
        "Map.centerObject(polygon, 11)\n",
        "Map.addLayer(image1, vizParams, 'Antes Permiso')\n",
        "\n",
        "Map"
      ],
      "metadata": {
        "id": "JnNZDKvkTzQB",
        "outputId": "dd192ecf-32df-421f-de5f-da5dc64c80de",
        "colab": {
          "base_uri": "https://localhost:8080/",
          "height": 621,
          "referenced_widgets": [
            "4312ba118b854db89caaab194c945d08",
            "0bec9d690eb64b52b1c7f7f91dcd5d0a",
            "87b14aaa2b9d474595d2339306adb4b9",
            "8399c103ed0e435ca274d7789be1cc98",
            "980eaf2c22d34fc1828181da572198da",
            "93b7776a6c294440935e8d08e4faca1c",
            "15b1aaa306b24f7883d7a5cb0d31c9b2",
            "4a5879303bc44eb0b541dfebbc97afd2",
            "21e2f68b9bba4da4a21daa243305ce8d",
            "399be29b1b9b4ef9a3234368ed0af228",
            "8752d112eee548b6aec2e110110512bd",
            "e7acd19f0be74512be2169095bec0e3d",
            "7e8fc937769e47d993bfa6be7e790a00",
            "17535b680087403290c6fb5b71a4a9c5",
            "58037119ecc74016ac0402d2c8670b49",
            "6e02ef18f38a4acb9c0bbaeaa9debbc8",
            "3586d4132b9d422fad3f63b0baa0af89",
            "dd3a7f20ecfc4ca6aa1ce45a43f36349",
            "899b9283df7b4488935aebe4dc10c4d2",
            "166fa94ebc0049e6851a2edc092508fd",
            "08fd678dc28d4b55a4ddc62b2af912d5",
            "fbf2d0b7cda94e158a9bf4d7c1500404",
            "41d27e2a31c244a288fdabd77015b592",
            "838ef6e481184820958a902342c06b73",
            "094d3f869b0448beb2e284663bc752e2"
          ]
        }
      },
      "execution_count": 183,
      "outputs": [
        {
          "output_type": "display_data",
          "data": {
            "text/plain": [
              "<IPython.core.display.HTML object>"
            ],
            "text/html": [
              "\n",
              "            <style>\n",
              "                .geemap-dark {\n",
              "                    --jp-widgets-color: white;\n",
              "                    --jp-widgets-label-color: white;\n",
              "                    --jp-ui-font-color1: white;\n",
              "                    --jp-layout-color2: #454545;\n",
              "                    background-color: #383838;\n",
              "                }\n",
              "                    \n",
              "                .geemap-dark .jupyter-button {\n",
              "                    --jp-layout-color3: #383838;\n",
              "                }\n",
              "                \n",
              "                .geemap-colab {\n",
              "                    background-color: var(--colab-primary-surface-color, white);\n",
              "                }\n",
              "                    \n",
              "                .geemap-colab .jupyter-button {\n",
              "                    --jp-layout-color3: var(--colab-primary-surface-color, white);\n",
              "                }\n",
              "            </style>\n",
              "            "
            ]
          },
          "metadata": {}
        },
        {
          "output_type": "display_data",
          "data": {
            "text/plain": [
              "Map(center=[-4.349379692587443, -73.72766753816298], controls=(WidgetControl(options=['position', 'transparent…"
            ],
            "application/vnd.jupyter.widget-view+json": {
              "version_major": 2,
              "version_minor": 0,
              "model_id": "4312ba118b854db89caaab194c945d08"
            }
          },
          "metadata": {
            "application/vnd.jupyter.widget-view+json": {
              "colab": {
                "custom_widget_manager": {
                  "url": "https://ssl.gstatic.com/colaboratory-static/widgets/colab-cdn-widget-manager/2b70e893a8ba7c0f/manager.min.js"
                }
              }
            }
          }
        }
      ]
    },
    {
      "cell_type": "markdown",
      "source": [
        "# **4. Calcular NDVI:**\n",
        "#### _Calcular y enmascarar áreas donde se excede el umbral._"
      ],
      "metadata": {
        "id": "ZosZS1gPH8Fu"
      }
    },
    {
      "cell_type": "code",
      "source": [
        "ndvi_diff = ndvi2.subtract(ndvi1).rename('Cambio')\n",
        "\n",
        "loss_threshold = -0.1\n",
        "'''\n",
        "Es importante monitorear para asegurarse de que el umbral dado\n",
        "refleje con precisión el área cosechada.\n",
        "Normalmente, un área deforestada estaría en el rango de |0,1 a 0,2|\n",
        "para el umbral del NDVI. Es posible que deba ajustar el script y\n",
        "probarlo un poco desde aquí para encontrar las áreas deforestadas\n",
        "para su parcela, ya que el área y las tendencias generales del NDVI\n",
        "pueden afectar esto.\n",
        "\n",
        "NOTA IMPORTANTE: Si el NDVI antes es menor que el NDVI después indica un aumento en la vegetación. Establezca el umbral en un número negativo. Se aplica lo inverso.\n",
        "'''\n",
        "loss_mask = ndvi_diff.lt(loss_threshold)"
      ],
      "metadata": {
        "id": "yQ-pklCgB87X",
        "outputId": "8ce6a102-73a4-4dcf-9f89-a2a7441d617b",
        "colab": {
          "base_uri": "https://localhost:8080/",
          "height": 17
        }
      },
      "execution_count": 194,
      "outputs": [
        {
          "output_type": "display_data",
          "data": {
            "text/plain": [
              "<IPython.core.display.HTML object>"
            ],
            "text/html": [
              "\n",
              "            <style>\n",
              "                .geemap-dark {\n",
              "                    --jp-widgets-color: white;\n",
              "                    --jp-widgets-label-color: white;\n",
              "                    --jp-ui-font-color1: white;\n",
              "                    --jp-layout-color2: #454545;\n",
              "                    background-color: #383838;\n",
              "                }\n",
              "                    \n",
              "                .geemap-dark .jupyter-button {\n",
              "                    --jp-layout-color3: #383838;\n",
              "                }\n",
              "                \n",
              "                .geemap-colab {\n",
              "                    background-color: var(--colab-primary-surface-color, white);\n",
              "                }\n",
              "                    \n",
              "                .geemap-colab .jupyter-button {\n",
              "                    --jp-layout-color3: var(--colab-primary-surface-color, white);\n",
              "                }\n",
              "            </style>\n",
              "            "
            ]
          },
          "metadata": {}
        }
      ]
    },
    {
      "cell_type": "code",
      "source": [
        "pixelArea = ee.Image.pixelArea().mask(loss_mask)\n",
        "\n",
        "totalLossArea = pixelArea.reduceRegion(\n",
        "    reducer=ee.Reducer.sum(),\n",
        "    geometry=polygon,\n",
        "    scale=30,\n",
        "    maxPixels=1e9\n",
        ").get('area').getInfo()\n",
        "\n",
        "print(f\"Areas de Perdido de Vegetacion: {totalLossArea} metricos cubiertos\")"
      ],
      "metadata": {
        "id": "DsOzimV4pjcG",
        "outputId": "2ec4f5d9-372d-4356-dc42-557a17be0021",
        "colab": {
          "base_uri": "https://localhost:8080/",
          "height": 35
        }
      },
      "execution_count": 197,
      "outputs": [
        {
          "output_type": "display_data",
          "data": {
            "text/plain": [
              "<IPython.core.display.HTML object>"
            ],
            "text/html": [
              "\n",
              "            <style>\n",
              "                .geemap-dark {\n",
              "                    --jp-widgets-color: white;\n",
              "                    --jp-widgets-label-color: white;\n",
              "                    --jp-ui-font-color1: white;\n",
              "                    --jp-layout-color2: #454545;\n",
              "                    background-color: #383838;\n",
              "                }\n",
              "                    \n",
              "                .geemap-dark .jupyter-button {\n",
              "                    --jp-layout-color3: #383838;\n",
              "                }\n",
              "                \n",
              "                .geemap-colab {\n",
              "                    background-color: var(--colab-primary-surface-color, white);\n",
              "                }\n",
              "                    \n",
              "                .geemap-colab .jupyter-button {\n",
              "                    --jp-layout-color3: var(--colab-primary-surface-color, white);\n",
              "                }\n",
              "            </style>\n",
              "            "
            ]
          },
          "metadata": {}
        },
        {
          "output_type": "stream",
          "name": "stdout",
          "text": [
            "Areas de Perdido de Vegetacion: 1426268.33046875 metricos cubiertos\n"
          ]
        }
      ]
    },
    {
      "cell_type": "code",
      "source": [
        "# @title\n",
        "vectorizedAndSimplified = loss_mask.updateMask(loss_mask).reduceToVectors(\n",
        "    geometryType='polygon',\n",
        "    reducer=ee.Reducer.countEvery(),\n",
        "    scale=30,\n",
        "    maxPixels=1e9\n",
        ").map(lambda feature: ee.Feature(feature.geometry().simplify(maxError=ee.ErrorMargin(1))))\n",
        "\n",
        "indices = ee.List.sequence(0, vectorizedAndSimplified.size().subtract(1))\n",
        "\n",
        "def assign_names_and_calculate_areas(feature, index):\n",
        "    name = ee.String('Polygonio_').cat(ee.Number(index).add(1).format())\n",
        "    area = feature.geometry().area(maxError=ee.ErrorMargin(1))\n",
        "    return feature.set({'name': name, 'area_m2': area})\n",
        "\n",
        "featuresWithInfo = ee.FeatureCollection(indices.map(lambda index: assign_names_and_calculate_areas(ee.Feature(vectorizedAndSimplified.toList(vectorizedAndSimplified.size()).get(index)), index)))\n",
        "\n",
        "def print_feature_info(feature):\n",
        "    feature = ee.Feature(feature)\n",
        "    name = feature.get('name').getInfo()\n",
        "    area = feature.get('area_m2').getInfo()\n",
        "    vertices = feature.geometry().coordinates().getInfo()\n",
        "    print(f\"Nombre: {name}, Area (metricos cubiertos): {area}, Vertices: {vertices}\")\n",
        "\n",
        "featureList = featuresWithInfo.toList(featuresWithInfo.size())"
      ],
      "metadata": {
        "collapsed": true,
        "id": "hBAE6F4_p4FL",
        "outputId": "4fbab89d-3ae3-4909-aac9-b530cfada593",
        "colab": {
          "base_uri": "https://localhost:8080/",
          "height": 17
        }
      },
      "execution_count": 202,
      "outputs": [
        {
          "output_type": "display_data",
          "data": {
            "text/plain": [
              "<IPython.core.display.HTML object>"
            ],
            "text/html": [
              "\n",
              "            <style>\n",
              "                .geemap-dark {\n",
              "                    --jp-widgets-color: white;\n",
              "                    --jp-widgets-label-color: white;\n",
              "                    --jp-ui-font-color1: white;\n",
              "                    --jp-layout-color2: #454545;\n",
              "                    background-color: #383838;\n",
              "                }\n",
              "                    \n",
              "                .geemap-dark .jupyter-button {\n",
              "                    --jp-layout-color3: #383838;\n",
              "                }\n",
              "                \n",
              "                .geemap-colab {\n",
              "                    background-color: var(--colab-primary-surface-color, white);\n",
              "                }\n",
              "                    \n",
              "                .geemap-colab .jupyter-button {\n",
              "                    --jp-layout-color3: var(--colab-primary-surface-color, white);\n",
              "                }\n",
              "            </style>\n",
              "            "
            ]
          },
          "metadata": {}
        }
      ]
    },
    {
      "cell_type": "markdown",
      "source": [
        "# **5. Visualizar**\n",
        "#### _Muestra los polígonos identificados sobre la imagen más reciente._"
      ],
      "metadata": {
        "id": "IGiBjQDLITmo"
      }
    },
    {
      "cell_type": "code",
      "source": [
        "# @title\n",
        "for i in range(featureList.size().getInfo()):\n",
        "    print_feature_info(featureList.get(i))"
      ],
      "metadata": {
        "collapsed": true,
        "id": "B4lC45IG807l",
        "outputId": "cec86230-df34-4452-934c-1cf115c842a3",
        "colab": {
          "base_uri": "https://localhost:8080/",
          "height": 1000
        }
      },
      "execution_count": null,
      "outputs": [
        {
          "output_type": "display_data",
          "data": {
            "text/plain": [
              "<IPython.core.display.HTML object>"
            ],
            "text/html": [
              "\n",
              "            <style>\n",
              "                .geemap-dark {\n",
              "                    --jp-widgets-color: white;\n",
              "                    --jp-widgets-label-color: white;\n",
              "                    --jp-ui-font-color1: white;\n",
              "                    --jp-layout-color2: #454545;\n",
              "                    background-color: #383838;\n",
              "                }\n",
              "                    \n",
              "                .geemap-dark .jupyter-button {\n",
              "                    --jp-layout-color3: #383838;\n",
              "                }\n",
              "                \n",
              "                .geemap-colab {\n",
              "                    background-color: var(--colab-primary-surface-color, white);\n",
              "                }\n",
              "                    \n",
              "                .geemap-colab .jupyter-button {\n",
              "                    --jp-layout-color3: var(--colab-primary-surface-color, white);\n",
              "                }\n",
              "            </style>\n",
              "            "
            ]
          },
          "metadata": {}
        },
        {
          "output_type": "stream",
          "name": "stdout",
          "text": [
            "Nombre: Polygonio_1.0, Area (metricos cubiertos): 904.2998680482572, Vertices: [[[-73.79651299894724, -4.203009350320091], [-73.79651258281167, -4.203280694814974], [-73.79624231818158, -4.2032802769636195], [-73.79624273440699, -4.203008932486703], [-73.79651299894724, -4.203009350320091]]]\n",
            "Nombre: Polygonio_2.0, Area (metricos cubiertos): 904.2966507757552, Vertices: [[[-73.79609113958851, -4.300692817559388], [-73.79609071358944, -4.300964161326636], [-73.79582041496711, -4.300963733629746], [-73.79582084105601, -4.3006923898804645], [-73.79609113958851, -4.300692817559388]]]\n",
            "Nombre: Polygonio_3.0, Area (metricos cubiertos): 904.2935115112335, Vertices: [[[-73.79593602907842, -4.398376447052391], [-73.79593559331467, -4.398647790100988], [-73.79566525988261, -4.398647352648394], [-73.79566569574519, -4.398376009626747], [-73.79593602907842, -4.398376447052391]]]\n",
            "Nombre: Polygonio_4.0, Area (metricos cubiertos): 904.2930051695607, Vertices: [[[-73.79591027272633, -4.414385683775452], [-73.79590983536356, -4.414657026707267], [-73.79563949615535, -4.414656587664655], [-73.79563993361693, -4.414385244750806], [-73.79591027272633, -4.414385683775452]]]\n",
            "Nombre: Polygonio_5.0, Area (metricos cubiertos): 904.297779257125, Vertices: [[[-73.79562597087788, -4.252392749056695], [-73.7956255495231, -4.252664093120387], [-73.79535526787893, -4.252663670049821], [-73.79535568932354, -4.252392326013078], [-73.79562597087788, -4.252392749056695]]]\n",
            "Nombre: Polygonio_6.0, Area (metricos cubiertos): 904.2923286860031, Vertices: [[[-73.79535426380498, -4.423881805249481], [-73.79535382529238, -4.424153148055532], [-73.7950834827065, -4.424152707863076], [-73.79508392130894, -4.423881365074991], [-73.79535426380498, -4.423881805249481]]]\n",
            "Nombre: Polygonio_7.0, Area (metricos cubiertos): 1808.5980910725118, Vertices: [[[-73.79543069134647, -4.203821711599823], [-73.79543027475275, -4.204093055986909], [-73.7948897451692, -4.2040922192601204], [-73.79489016195156, -4.203820874926934], [-73.79543069134647, -4.203821711599823]]]\n",
            "Nombre: Polygonio_8.0, Area (metricos cubiertos): 9042.98931412206, Vertices: [[[[-73.79488891153261, -4.204634907917511], [-73.79488766087113, -4.205448940899105], [-73.79515792612105, -4.205449359442163], [-73.79515750926682, -4.2057207037843325], [-73.79569804002716, -4.205721540654851], [-73.79569762334363, -4.20599288505092], [-73.79488682696505, -4.20599162953853], [-73.79488724393606, -4.205720285214326], [-73.79461697862325, -4.205719866554488], [-73.7946186465971, -4.20463448936547], [-73.79488891153261, -4.204634907917511]]], [[[-73.79488891153261, -4.204634907917511], [-73.79488932836887, -4.204363563593307], [-73.7954298581321, -4.204364400373994], [-73.79542944148447, -4.204635744752097], [-73.79488891153261, -4.204634907917511]]]]\n",
            "Nombre: Polygonio_9.0, Area (metricos cubiertos): 904.2980830559322, Vertices: [[[-73.79511736558696, -4.231769752215438], [-73.79511694610966, -4.232041096377945], [-73.79484667167895, -4.232040675175875], [-73.79484709125508, -4.231769331040317], [-73.79511736558696, -4.231769752215438]]]\n",
            "Nombre: Polygonio_10.0, Area (metricos cubiertos): 904.2943391632057, Vertices: [[[-73.79493017278855, -4.351160993643961], [-73.79492974136365, -4.351432336935103], [-73.79465942496365, -4.351431903812388], [-73.79465985647839, -4.351160560539213], [-73.79493017278855, -4.351160993643961]]]\n",
            "Nombre: Polygonio_11.0, Area (metricos cubiertos): 904.2990213304954, Vertices: [[[-73.79464070623808, -4.190253238718421], [-73.79464029073132, -4.190524583123473], [-73.7943700306647, -4.190524165882973], [-73.79437044627923, -4.19025282150487], [-73.79464070623808, -4.190253238718421]]]\n",
            "Nombre: Polygonio_12.0, Area (metricos cubiertos): 904.2957136965192, Vertices: [[[-73.79421652017989, -4.289564733257417], [-73.79421609462996, -4.289836076916868], [-73.79394580011294, -4.289835649660152], [-73.79394622576167, -4.289564306027652], [-73.79421652017989, -4.289564733257417]]]\n",
            "Nombre: Polygonio_13.0, Area (metricos cubiertos): 904.2943598536216, Vertices: [[[-73.79414765709988, -4.333251037572545], [-73.79414722718415, -4.333522380917585], [-73.79387691723407, -4.333521949295057], [-73.79387734724861, -4.333250605976967], [-73.79414765709988, -4.333251037572545]]]\n",
            "Nombre: Polygonio_14.0, Area (metricos cubiertos): 904.2984185782627, Vertices: [[[-73.79408770351985, -4.1983927337838685], [-73.79408728700699, -4.198664078081123], [-73.7938170242005, -4.19866365983451], [-73.79381744081216, -4.198392315573188], [-73.79408770351985, -4.1983927337838685]]]\n",
            "Nombre: Polygonio_15.0, Area (metricos cubiertos): 904.2968126064021, Vertices: [[[-73.79400934287575, -4.249134082372048], [-73.79400892127842, -4.249405426292009], [-73.79373864092783, -4.2494050029788974], [-73.79373906261499, -4.249133659076902], [-73.79400934287575, -4.249134082372048]]]\n",
            "Nombre: Polygonio_16.0, Area (metricos cubiertos): 2712.886633467302, Vertices: [[[-73.79421566906208, -4.290107420585301], [-73.79421524345827, -4.2903787642447515], [-73.7934043594131, -4.290377482007481], [-73.7934047852954, -4.290106138428879], [-73.79421566906208, -4.290107420585301]]]\n",
            "Nombre: Polygonio_17.0, Area (metricos cubiertos): 33459.00981036743, Vertices: [[[[-73.79299830991829, -4.203817943625347], [-73.79299872732946, -4.203546599480807], [-73.79218793429263, -4.2035453418843245], [-73.79218835194635, -4.203273997820632], [-73.79191808774746, -4.203273578460108], [-73.79191850547305, -4.203002234423365], [-73.79218876958211, -4.203002653747957], [-73.7921904398287, -4.201917277466238], [-73.79354175889176, -4.201919372175784], [-73.79354134183991, -4.202190716383207], [-73.79327107787459, -4.202190297606587], [-73.79327066069696, -4.20246164178706], [-73.79354092475212, -4.202462060599612], [-73.79353925615844, -4.203547437411337], [-73.79380952060886, -4.203547856232872], [-73.79380910348513, -4.203819200458261], [-73.7935388389359, -4.203818781609777], [-73.7935384216954, -4.204090125808216], [-73.79326815707431, -4.204089706833968], [-73.79326857441362, -4.203818362662478], [-73.79299830991829, -4.203817943625347]]], [[[-73.79299747503305, -4.204360631914429], [-73.79326773970804, -4.204361051005458], [-73.79326732232381, -4.204632395167964], [-73.79299705755, -4.204631976049986], [-73.79299747503305, -4.204360631914429]]], [[[-73.79299747503305, -4.204360631914429], [-73.79272721037601, -4.204360212724584], [-73.79272804545889, -4.203817524498385], [-73.79299830991829, -4.203817943625347], [-73.79299747503305, -4.204360631914429]]]]\n",
            "Nombre: Polygonio_18.0, Area (metricos cubiertos): 904.2977884209563, Vertices: [[[-73.79275138347437, -4.188622250939855], [-73.79275096746456, -4.188893595165244], [-73.79248070816149, -4.188893177430671], [-73.79248112425215, -4.188621833241214], [-73.79275138347437, -4.188622250939855]]]\n",
            "Nombre: Polygonio_19.0, Area (metricos cubiertos): 904.2959441752898, Vertices: [[[-73.79265962983871, -4.248046589794266], [-73.79265920788205, -4.2483179335974475], [-73.7923889280435, -4.248317509916027], [-73.79238935009897, -4.248046166148779], [-73.79265962983871, -4.248046589794266]]]\n",
            "Nombre: Polygonio_20.0, Area (metricos cubiertos): 904.2979419553765, Vertices: [[[-73.79249733077616, -4.178039408082734], [-73.79249691573654, -4.178310752353038], [-73.79222666008062, -4.1783103355886455], [-73.79222707521008, -4.17803899134529], [-73.79249733077616, -4.178039408082734]]]\n",
            "Nombre: Polygonio_21.0, Area (metricos cubiertos): 904.2954237228942, Vertices: [[[-73.79184879069135, -4.248045318552375], [-73.79184836844723, -4.248316662274708], [-73.79157808868952, -4.248316238305827], [-73.79157851102347, -4.248044894619427], [-73.79184879069135, -4.248045318552375]]]\n",
            "Nombre: Polygonio_22.0, Area (metricos cubiertos): 904.2930144191199, Vertices: [[[-73.79172992987097, -4.32375013992683], [-73.79172950003608, -4.32402148310119], [-73.79145919370622, -4.3240210515505275], [-73.79145962363991, -4.3237497084121], [-73.79172992987097, -4.32375013992683]]]\n",
            "Nombre: Polygonio_23.0, Area (metricos cubiertos): 904.2977887931696, Vertices: [[[-73.79170522511369, -4.1658276670721275], [-73.79170481102628, -4.166099011351416], [-73.7914345596194, -4.16609859552127], [-73.79143497379664, -4.165827251277915], [-73.79170522511369, -4.1658276670721275]]]\n",
            "Nombre: Polygonio_24.0, Area (metricos cubiertos): 67822.22810468939, Vertices: [[[[-73.7916486591884, -4.202730470981183], [-73.79164740573314, -4.203544503019546], [-73.79191766999492, -4.20354492249685], [-73.79191725222441, -4.203816266533593], [-73.79164698786383, -4.203815847029339], [-73.79164656996755, -4.204087191030149], [-73.79191683441798, -4.204087610570336], [-73.79191641658458, -4.204358954598096], [-73.79218668115179, -4.204359374066418], [-73.79218626339026, -4.20463071813011], [-73.79272679280314, -4.204631556833192], [-73.79272553989586, -4.205445589159016], [-73.79245527489748, -4.205445169771543], [-73.79245485711799, -4.205716513844218], [-73.7919143270134, -4.205715674727911], [-73.79191474498154, -4.205444330709135], [-73.791644480064, -4.205443911043183], [-73.79164406199705, -4.2057152550350105], [-73.79110353205417, -4.205714415352765], [-73.79110395030976, -4.2054430714148365], [-73.79002289112469, -4.205441391044233], [-73.79002330972165, -4.205170047214103], [-73.78975304508258, -4.205169626910347], [-73.7897534637514, -4.204898283098183], [-73.7894831992381, -4.204897862731546], [-73.78948361796083, -4.204626518946331], [-73.79002414682573, -4.204627359535875], [-73.7900254022932, -4.203813328009552], [-73.7902956664831, -4.203813748079745], [-73.79029608481954, -4.203542404204699], [-73.79056634894657, -4.203542824158111], [-73.79056718535895, -4.20300013635412], [-73.79110771332554, -4.203000975856702], [-73.79110813130266, -4.202729631900808], [-73.7916486591884, -4.202730470981183]]], [[[-73.7916486591884, -4.202730470981183], [-73.79164907694992, -4.202459126962406], [-73.79191934084338, -4.202459546331913], [-73.79191892317169, -4.202730890377639], [-73.7916486591884, -4.202730470981183]]]]\n",
            "Nombre: Polygonio_25.0, Area (metricos cubiertos): 904.2936443938278, Vertices: [[[-73.7909764014421, -4.2873888533708495], [-73.79097597496691, -4.287660196724873], [-73.79070568153685, -4.28765976853391], [-73.79070610811084, -4.287388425206836], [-73.7909764014421, -4.2873888533708495]]]\n",
            "Nombre: Polygonio_26.0, Area (metricos cubiertos): 904.2950003051374, Vertices: [[[-73.79052144223739, -4.232576610514555], [-73.79052102108024, -4.232847954209938], [-73.7902507468292, -4.232847531319035], [-73.79025116807618, -4.232576187659585], [-73.79052144223739, -4.232576610514555]]]\n",
            "Nombre: Polygonio_27.0, Area (metricos cubiertos): 904.292731888619, Vertices: [[[-73.78962450808606, -4.287658054808859], [-73.78962408111681, -4.287929398028135], [-73.78935378772267, -4.287928969325132], [-73.78935421479973, -4.2876576261417885], [-73.78962450808606, -4.287658054808859]]]\n",
            "Nombre: Polygonio_28.0, Area (metricos cubiertos): 14468.68063897494, Vertices: [[[[-73.78934994284343, -4.290371057930305], [-73.7888093544292, -4.290370199760732], [-73.78880978193745, -4.29009885664027], [-73.78908007604126, -4.290099285747515], [-73.78908050342373, -4.2898279426001045], [-73.78881020941874, -4.289827513528793], [-73.78881277374057, -4.288199454779075], [-73.78908306717064, -4.288199883697675], [-73.78908221269315, -4.288742570001479], [-73.7893525063388, -4.288742998884145], [-73.78935165195114, -4.289285685232865], [-73.78962194582138, -4.289286114070616], [-73.78962151868144, -4.289557457271925], [-73.78935122471239, -4.289557028416208], [-73.78934994284343, -4.290371057930305]]], [[[-73.78934994284343, -4.290371057930305], [-73.78962023709097, -4.290371486866871], [-73.78961938256855, -4.290914173260506], [-73.78934908812339, -4.29091374426106], [-73.78934994284343, -4.290371057930305]]]]\n",
            "Nombre: Polygonio_29.0, Area (metricos cubiertos): 904.295134414508, Vertices: [[[-73.78922172427274, -4.199199222983202], [-73.78922130599018, -4.199470566777399], [-73.78895104339928, -4.199470146770088], [-73.78895146177166, -4.19919880300284], [-73.78922172427274, -4.199199222983202]]]\n",
            "Nombre: Polygonio_30.0, Area (metricos cubiertos): 11755.835109715857, Vertices: [[[-73.78948780374174, -4.201913081004355], [-73.78948612975816, -4.202998456208094], [-73.78921586592757, -4.202998035940272], [-73.78921544726774, -4.20326937970752], [-73.78894518336529, -4.203268959313934], [-73.78894602084667, -4.2027262718333365], [-73.78840549349991, -4.202725430875483], [-73.78840591238433, -4.202454087189083], [-73.78867617594541, -4.202454507681485], [-73.78867659471305, -4.202183163968136], [-73.78894685821126, -4.202183584343755], [-73.78894769546805, -4.201640896845192], [-73.78921795880456, -4.201641317068098], [-73.78921754027947, -4.20191266084433], [-73.78948780374174, -4.201913081004355]]]\n",
            "Nombre: Polygonio_31.0, Area (metricos cubiertos): 904.2959289180657, Vertices: [[[-73.78900105298844, -4.166908880929129], [-73.78900063786797, -4.167180224920956], [-73.78873038636227, -4.167179808057749], [-73.78873080158156, -4.166908464092871], [-73.78900105298844, -4.166908880929129]]]\n",
            "Nombre: Polygonio_32.0, Area (metricos cubiertos): 904.2938588520959, Vertices: [[[-73.78889600120536, -4.235016163633822], [-73.78889557923074, -4.235287507149542], [-73.78862530429699, -4.235287083450156], [-73.78862572636143, -4.235015739961385], [-73.78889600120536, -4.235016163633822]]]\n",
            "Nombre: Polygonio_33.0, Area (metricos cubiertos): 904.2925862980285, Vertices: [[[-73.78883240085155, -4.275717668713594], [-73.7888319747896, -4.27598901193287], [-73.78856168566246, -4.275988584146148], [-73.78856211182323, -4.2757172409538216], [-73.78883240085155, -4.275717668713594]]]\n",
            "Nombre: Polygonio_34.0, Area (metricos cubiertos): 904.2883602247354, Vertices: [[[-73.78862036022119, -4.408675608904732], [-73.78861992077432, -4.408946951153827], [-73.78834958435988, -4.408946510018141], [-73.78835002389656, -4.4086751677959946], [-73.78862036022119, -4.408675608904732]]]\n",
            "Nombre: Polygonio_35.0, Area (metricos cubiertos): 904.2919819987897, Vertices: [[[-73.78854162548267, -4.288741711966652], [-73.78854119801035, -4.289013055069147], [-73.7882709043557, -4.289012625881053], [-73.78827133191784, -4.288741282805508], [-73.78854162548267, -4.288741711966652]]]\n",
            "Nombre: Polygonio_36.0, Area (metricos cubiertos): 904.2867246889381, Vertices: [[[-73.78827757470602, -4.453175264182524], [-73.78827713068674, -4.45344660606331], [-73.78800677813854, -4.453446160364182], [-73.78800722225664, -4.4531748185013615], [-73.78827757470602, -4.453175264182524]]]\n",
            "Nombre: Polygonio_37.0, Area (metricos cubiertos): 904.295385616556, Vertices: [[[-73.78845099118378, -4.173148957334886], [-73.78845057524583, -4.173420301236882], [-73.78818032166504, -4.173419883556207], [-73.7881807377018, -4.173148539690144], [-73.78845099118378, -4.173148957334886]]]\n",
            "Nombre: Polygonio_38.0, Area (metricos cubiertos): 904.2938827699311, Vertices: [[[-73.78837484132053, -4.222533515041937], [-73.78837442041491, -4.222804858584607], [-73.78810414985595, -4.222804435954215], [-73.7881045708514, -4.222533092429512], [-73.78837484132053, -4.222533515041937]]]\n",
            "Nombre: Polygonio_39.0, Area (metricos cubiertos): 904.2938520622778, Vertices: [[[-73.78837399948233, -4.22307620213626], [-73.78837357853179, -4.223347545678929], [-73.78810330778418, -4.223347122985655], [-73.78810372883355, -4.223075779469935], [-73.78837399948233, -4.22307620213626]]]\n",
            "Nombre: Polygonio_40.0, Area (metricos cubiertos): 2712.875767780694, Vertices: [[[[-73.78826791064816, -4.29091202732004], [-73.78826748287041, -4.291183370377619], [-73.78799718847017, -4.291182940875116], [-73.78799761634671, -4.290911597844486], [-73.78826791064816, -4.29091202732004]]], [[[-73.78826791064816, -4.29091202732004], [-73.78826833839894, -4.290640684262461], [-73.78880892689402, -4.290641542872209], [-73.78880849933186, -4.290912885983688], [-73.78826791064816, -4.29091202732004]]]]\n",
            "Nombre: Polygonio_41.0, Area (metricos cubiertos): 904.2908795091563, Vertices: [[[-73.78822456686383, -4.318317665912706], [-73.78822413631929, -4.318589008772656], [-73.78795383226215, -4.318588576521307], [-73.78795426289652, -4.3183172336883064], [-73.78822456686383, -4.318317665912706]]]\n",
            "Nombre: Polygonio_42.0, Area (metricos cubiertos): 904.292828850916, Vertices: [[[-73.78806106482236, -4.250481464774995], [-73.78806064101518, -4.250752808102069], [-73.78779036079034, -4.250752382561136], [-73.78779078468736, -4.250481039269995], [-73.78806106482236, -4.250481464774995]]]\n",
            "Nombre: Polygonio_43.0, Area (metricos cubiertos): 904.2914826343741, Vertices: [[[-73.7877324556117, -4.287655052109174], [-73.78773202795973, -4.287926395139803], [-73.78746173476323, -4.287925965772047], [-73.78746216250504, -4.2876546227773495], [-73.7877324556117, -4.287655052109174]]]\n",
            "Nombre: Polygonio_44.0, Area (metricos cubiertos): 904.2914113412102, Vertices: [[[-73.7877303171093, -4.289011767217406], [-73.78772988933156, -4.28928311023007], [-73.78745959565894, -4.289282680727566], [-73.78746002353549, -4.289011337741852], [-73.7877303171093, -4.289011767217406]]]\n",
            "Nombre: Polygonio_45.0, Area (metricos cubiertos): 904.2913844869958, Vertices: [[[-73.78772817793313, -4.290368482262757], [-73.78772775002065, -4.290639825266437], [-73.78745745586295, -4.290639395629186], [-73.78745788388323, -4.290368052652455], [-73.78772817793313, -4.290368482262757]]]\n",
            "Nombre: Polygonio_46.0, Area (metricos cubiertos): 904.2878327341127, Vertices: [[[-73.7875504411248, -4.401618947673153], [-73.78755000200134, -4.401890289859367], [-73.78727966824589, -4.40188984903809], [-73.78728010745918, -4.401618506878826], [-73.7875504411248, -4.401618947673153]]]\n",
            "Nombre: Polygonio_47.0, Area (metricos cubiertos): 904.2910335243785, Vertices: [[[-73.78744931843802, -4.295794911827745], [-73.78744888987875, -4.29606625475956], [-73.78717859384356, -4.296065824484504], [-73.78717902250165, -4.295794481570656], [-73.78744931843802, -4.295794911827745]]]\n",
            "Nombre: Polygonio_48.0, Area (metricos cubiertos): 3617.1796311732332, Vertices: [[[[-73.78737122615662, -4.172333254807387], [-73.78737080993122, -4.172604598601584], [-73.78710055674567, -4.172604180633449], [-73.7871009730609, -4.172332836866201], [-73.78737122615662, -4.172333254807387]]], [[[-73.78737122615662, -4.172333254807387], [-73.78737164235507, -4.17206191101319], [-73.78791214845667, -4.172062746554201], [-73.78791131640112, -4.172605434250395], [-73.78764106315269, -4.172605016470905], [-73.78764147928827, -4.172333672649758], [-73.78737122615662, -4.172333254807387]]]]\n",
            "Nombre: Polygonio_49.0, Area (metricos cubiertos): 904.2883421859214, Vertices: [[[-73.78679197130609, -4.369056557734346], [-73.78679153517402, -4.369327900082256], [-73.7865212131955, -4.369327462243387], [-73.78652164942638, -4.369056119922426], [-73.78679197130609, -4.369056557734346]]]\n",
            "Nombre: Polygonio_50.0, Area (metricos cubiertos): 904.2900679620706, Vertices: [[[-73.78661738512301, -4.309089418400258], [-73.78661695493778, -4.309360761161392], [-73.78634665430323, -4.309360329251404], [-73.78634708458728, -4.309088986517218], [-73.78661738512301, -4.309089418400258]]]\n",
            "Nombre: Polygonio_51.0, Area (metricos cubiertos): 904.2859418554725, Vertices: [[[-73.78641041143102, -4.437705662518625], [-73.78640996828311, -4.4379770043275455], [-73.78613962156498, -4.437976559481817], [-73.7861400648117, -4.437705217699846], [-73.78641041143102, -4.437705662518625]]]\n",
            "Nombre: Polygonio_52.0, Area (metricos cubiertos): 904.2905557941773, Vertices: [[[-73.78638184652314, -4.287110218679127], [-73.78638141845794, -4.287381561566026], [-73.7861111255938, -4.287381131776061], [-73.78611155374884, -4.287109788916111], [-73.78638184652314, -4.287110218679127]]]\n",
            "Nombre: Polygonio_53.0, Area (metricos cubiertos): 904.2904176111603, Vertices: [[[-73.78611240998704, -4.286567103178245], [-73.78611198188591, -4.286838446047178], [-73.78584168922839, -4.286838016221282], [-73.78584211743731, -4.286566673379298], [-73.78611240998704, -4.286567103178245]]]\n",
            "Nombre: Polygonio_54.0, Area (metricos cubiertos): 904.2915691464117, Vertices: [[[-73.7859081580107, -4.244508509327016], [-73.7859077340508, -4.2447798524744265], [-73.78563745611666, -4.24477942678078], [-73.78563788017539, -4.244508083660318], [-73.7859081580107, -4.244508509327016]]]\n",
            "Nombre: Polygonio_55.0, Area (metricos cubiertos): 904.2924213434851, Vertices: [[[-73.785690671838, -4.210590178744532], [-73.78569025120186, -4.210861522098555], [-73.78541998504464, -4.210861099728675], [-73.78542040577061, -4.210589756392618], [-73.785690671838, -4.210590178744532]]]\n",
            "Nombre: Polygonio_56.0, Area (metricos cubiertos): 1808.5800438356484, Vertices: [[[[-73.78530367394846, -4.285209099517586], [-73.7850333819557, -4.285208669565924], [-73.78503381027242, -4.284937326795807], [-73.78530410218434, -4.2849377567205185], [-73.78530367394846, -4.285209099517586]]], [[[-73.78530367394846, -4.285209099517586], [-73.78557396597716, -4.285209529379416], [-73.78557353782213, -4.285480872203433], [-73.78530324569462, -4.285480442314654], [-73.78530367394846, -4.285209099517586]]]]\n",
            "Nombre: Polygonio_57.0, Area (metricos cubiertos): 2712.870758131036, Vertices: [[[[-73.78557225317738, -4.286294900657518], [-73.78557182490556, -4.286566243472552], [-73.78530153240077, -4.286565813484958], [-73.78530196076241, -4.286294470696873], [-73.78557225317738, -4.286294900657518]]], [[[-73.78557225317738, -4.286294900657518], [-73.78557268141326, -4.286023557842484], [-73.78611326612642, -4.286024417440379], [-73.78611283807021, -4.286295760309312], [-73.78557225317738, -4.286294900657518]]]]\n",
            "Nombre: Polygonio_58.0, Area (metricos cubiertos): 904.289441248223, Vertices: [[[-73.78554177802, -4.30556023567403], [-73.78554134780784, -4.305831578354318], [-73.78527104852974, -4.305831146417379], [-73.78527147884073, -4.305559803773026], [-73.78554177802, -4.30556023567403]]]\n",
            "Nombre: Polygonio_59.0, Area (metricos cubiertos): 904.2885143452214, Vertices: [[[-73.78549472377135, -4.335136575680061], [-73.78549429057678, -4.335407918135768], [-73.78522398082431, -4.335407483225407], [-73.7852244141177, -4.335136140796648], [-73.78549472377135, -4.335136575680061]]]\n",
            "Nombre: Polygonio_60.0, Area (metricos cubiertos): 904.2868895371647, Vertices: [[[-73.78541280180121, -4.386148923010553], [-73.7854123634593, -4.386420265097952], [-73.785142035489, -4.386419825049226], [-73.78514247392974, -4.386148482988777], [-73.78541280180121, -4.386148923010553]]]\n",
            "Nombre: Polygonio_61.0, Area (metricos cubiertos): 904.290158821376, Vertices: [[[-73.78531693629803, -4.276797471865256], [-73.7853165088886, -4.277068814716222], [-73.78504621974349, -4.277068385582028], [-73.78504664725173, -4.276797042758011], [-73.78531693629803, -4.276797471865256]]]\n",
            "Nombre: Polygonio_62.0, Area (metricos cubiertos): 904.2909208154609, Vertices: [[[-73.78509265638243, -4.247492005618934], [-73.78509223183862, -4.247763348658547], [-73.78482195295229, -4.247762922380995], [-73.78482237758591, -4.247491579368332], [-73.78509265638243, -4.247492005618934]]]\n",
            "Nombre: Polygonio_63.0, Area (metricos cubiertos): 904.2905620935908, Vertices: [[[-73.78481430473188, -4.252647096294526], [-73.78481387957723, -4.252918439271257], [-73.7845435989212, -4.2529180123738675], [-73.78454402417468, -4.252646669433069], [-73.78481430473188, -4.252647096294526]]]\n",
            "Nombre: Polygonio_64.0, Area (metricos cubiertos): 904.2897691127603, Vertices: [[[-73.78477464766942, -4.277881984749206], [-73.78477421996354, -4.278153327546273], [-73.78450393049505, -4.278152898106652], [-73.78450435829973, -4.277881555345516], [-73.78477464766942, -4.277881984749206]]]\n",
            "Nombre: Polygonio_65.0, Area (metricos cubiertos): 904.2886620738398, Vertices: [[[-73.7847183849435, -4.313427874079118], [-73.78471795364436, -4.313699216615675], [-73.78444765167131, -4.313698783600759], [-73.78444808306028, -4.313427441091152], [-73.7847183849435, -4.313427874079118]]]\n",
            "Nombre: Polygonio_66.0, Area (metricos cubiertos): 904.2895921323754, Vertices: [[[-73.7845030748138, -4.278695583637905], [-73.78450264692827, -4.27896692639904], [-73.78423235719926, -4.278966496788739], [-73.78423278517462, -4.278695154054553], [-73.7845030748138, -4.278695583637905]]]\n",
            "Nombre: Polygonio_67.0, Area (metricos cubiertos): 81386.06096541112, Vertices: [[[[-73.78530067558765, -4.287108499052144], [-73.78503038292114, -4.287108068902854], [-73.7850308114355, -4.286836726150701], [-73.78530110401216, -4.28683715626406], [-73.78530067558765, -4.287108499052144]]], [[[-73.78340562312651, -4.289004884119087], [-73.7831353299839, -4.289004453116396], [-73.78313575936065, -4.288733110561874], [-73.78340605240443, -4.288733541537614], [-73.78340562312651, -4.289004884119087]]], [[[-73.78340562312651, -4.289004884119087], [-73.78367591629606, -4.289005315031945], [-73.78367634547517, -4.288733972423524], [-73.78448722486706, -4.288735264497347], [-73.7844885113893, -4.287921236420553], [-73.78475880428937, -4.287921666839339], [-73.78475923298339, -4.287650324114137], [-73.78502952581158, -4.28765075441614], [-73.78502995437984, -4.287379411663989], [-73.78530024714514, -4.287379841831245], [-73.78530067558765, -4.287108499052144], [-73.78557096828109, -4.2871089291026205], [-73.78557053992843, -4.287380271908671], [-73.78584083274765, -4.287380701896265], [-73.78584040445787, -4.287652044729265], [-73.78611069740285, -4.287652474644994], [-73.78610641401099, -4.29036590315466], [-73.78448465106801, -4.2903633206060166], [-73.7844837929164, -4.2909060059576065], [-73.78421349900125, -4.2909055751435625], [-73.78421392818935, -4.290634232490225], [-73.78394363439097, -4.290633801604316], [-73.78394406364194, -4.290362458986912], [-73.78340347632366, -4.290361596981531], [-73.78340562312651, -4.289004884119087]], [[-73.7847562315593, -4.289549723145638], [-73.78475580267664, -4.289821065852874], [-73.78448550911182, -4.289820635245443], [-73.7844859380933, -4.289549292556173], [-73.7847562315593, -4.289549723145638]]]]\n",
            "Nombre: Polygonio_68.0, Area (metricos cubiertos): 41597.46397097499, Vertices: [[[-73.78575012472403, -4.172059402153348], [-73.78574929118626, -4.1726020894093665], [-73.78493853218659, -4.1726008335646], [-73.7849381150988, -4.172872177107269], [-73.78466786205698, -4.1728717582767505], [-73.78466827924359, -4.172600414761031], [-73.78439802631856, -4.172599995858647], [-73.7843976090511, -4.172871339356401], [-73.7841273560632, -4.172870920337237], [-73.78412777342945, -4.172599576875416], [-73.78385752056731, -4.172599157793369], [-73.78385793799644, -4.172327814349515], [-73.78331743254164, -4.172326975960843], [-73.78331826768739, -4.171784289189914], [-73.78304801518458, -4.171783869910239], [-73.78305010303997, -4.170427153077241], [-73.7835906071473, -4.170427991268284], [-73.78359018981698, -4.170699334694172], [-73.78386044200539, -4.170699753677403], [-73.78386002473793, -4.170971097130241], [-73.78413027705211, -4.170971516041607], [-73.78412944261603, -4.171514202992199], [-73.78494020025926, -4.171515459357989], [-73.78493978328825, -4.171786802909642], [-73.78521003597972, -4.17178722154253], [-73.78521045286988, -4.1715158779549455], [-73.78548070549846, -4.17151629646207], [-73.78547987187984, -4.172058983682156], [-73.78575012472403, -4.172059402153348]], [[-73.78466911351798, -4.172057727711625], [-73.78466869639425, -4.1723290712363275], [-73.78439844356804, -4.172328652369877], [-73.78439886079057, -4.172057308872123], [-73.78466911351798, -4.172057727711625]]]\n",
            "Nombre: Polygonio_69.0, Area (metricos cubiertos): 904.2916118484643, Vertices: [[[-73.78434355132988, -4.2078746337321915], [-73.78434313049613, -4.208145976978416], [-73.7840728654079, -4.2081455544019235], [-73.78407328633149, -4.207874211191631], [-73.78434355132988, -4.2078746337321915]]]\n",
            "Nombre: Polygonio_70.0, Area (metricos cubiertos): 1808.578869913775, Vertices: [[[-73.78450093511663, -4.280052297425614], [-73.78450050709634, -4.280323640177766], [-73.78395992671307, -4.280322780579871], [-73.78396035493097, -4.2800514378906005], [-73.78450093511663, -4.280052297425614]]]\n",
            "Nombre: Polygonio_71.0, Area (metricos cubiertos): 904.2893363538868, Vertices: [[[-73.78422978874518, -4.280594553148936], [-73.78422936058116, -4.280865895874139], [-73.78395907021435, -4.280865465967394], [-73.78395949847719, -4.2805941232781235], [-73.78422978874518, -4.280594553148936]]]\n",
            "Nombre: Polygonio_72.0, Area (metricos cubiertos): 904.2892784032748, Vertices: [[[-73.78422593422701, -4.283036637558978], [-73.78422550581146, -4.283307980266215], [-73.78395521458228, -4.283307550116923], [-73.78395564309663, -4.28303620744562], [-73.78422593422701, -4.283036637558978]]]\n",
            "Nombre: Polygonio_73.0, Area (metricos cubiertos): 904.2894009606737, Vertices: [[[-73.78397147879609, -4.272996527080252], [-73.78397105130581, -4.273267869832404], [-73.78370076362496, -4.273267440599395], [-73.78370119121405, -4.272996097883175], [-73.78397147879609, -4.272996527080252]]]\n",
            "Nombre: Polygonio_74.0, Area (metricos cubiertos): 904.2893777271156, Vertices: [[[-73.7839706237796, -4.273539212575573], [-73.78397019621745, -4.273810555318741], [-73.78369990835695, -4.273810126031833], [-73.78370033599994, -4.273538783315614], [-73.7839706237796, -4.273539212575573]]]\n",
            "Nombre: Polygonio_75.0, Area (metricos cubiertos): 904.2892681905861, Vertices: [[[-73.78396420759861, -4.2776093535254756], [-73.78396377963223, -4.277880696241694], [-73.78369349033441, -4.277880266550545], [-73.7836939183996, -4.2776089238612744], [-73.78396420759861, -4.2776093535254756]]]\n",
            "Nombre: Polygonio_76.0, Area (metricos cubiertos): 4521.461487861285, Vertices: [[[-73.78412652124982, -4.173413607260879], [-73.7841261038027, -4.1736849507227], [-73.78358559735975, -4.173684112244197], [-73.7835860149955, -4.1734127688362745], [-73.78331576190878, -4.1734123494847335], [-73.78331617960741, -4.173141006112744], [-73.78358643260431, -4.173141425437335], [-73.78358685017719, -4.172870082029414], [-73.7838571031112, -4.172870501228241], [-73.78385626810919, -4.173413188097984], [-73.78412652124982, -4.173413607260879]]]\n",
            "Nombre: Polygonio_77.0, Area (metricos cubiertos): 904.2911139954655, Vertices: [[[-73.78379712461191, -4.211672593002281], [-73.78379670321222, -4.211943936158675], [-73.78352643686635, -4.2119435130162435], [-73.78352685836487, -4.211672169886799], [-73.78379712461191, -4.211672593002281]]]\n",
            "Nombre: Polygonio_78.0, Area (metricos cubiertos): 904.2870762357896, Vertices: [[[-73.783593439742, -4.340831716670037], [-73.78359300529877, -4.341103058892182], [-73.78332269371376, -4.341102622733163], [-73.7833231282558, -4.340831280528983], [-73.783593439742, -4.340831716670037]]]\n",
            "Nombre: Polygonio_79.0, Area (metricos cubiertos): 904.2859017144509, Vertices: [[[-73.78327428905467, -4.371221594434411], [-73.78327385144038, -4.371492936405029], [-73.78300352904863, -4.371492497083939], [-73.78300396675276, -4.371221155131288], [-73.78327428905467, -4.371221594434411]]]\n",
            "Nombre: Polygonio_80.0, Area (metricos cubiertos): 904.2913459754069, Vertices: [[[-73.78328603529059, -4.19267772448526], [-73.78328561562464, -4.192949067722502], [-73.78301535587241, -4.192948646313819], [-73.78301577563717, -4.192677303094543], [-73.78328603529059, -4.19267772448526]]]\n",
            "Nombre: Polygonio_81.0, Area (metricos cubiertos): 904.2862354353886, Vertices: [[[-73.78276858022868, -4.349513355600588], [-73.78276814461763, -4.349784697679003], [-73.78249783003224, -4.349784260352173], [-73.7824982657421, -4.349512918291724], [-73.78276858022868, -4.349513355600588]]]\n",
            "Nombre: Polygonio_82.0, Area (metricos cubiertos): 904.2887576346956, Vertices: [[[-73.78263286761543, -4.264854100874914], [-73.78263244046651, -4.265125443546218], [-73.78236215576808, -4.2651250146635515], [-73.78236258301581, -4.264853672019197], [-73.78263286761543, -4.264854100874914]]]\n",
            "Nombre: Polygonio_83.0, Area (metricos cubiertos): 6330.017619265312, Vertices: [[[-73.78287147602813, -4.284933883939598], [-73.7828706178316, -4.28547656903966], [-73.78260032598257, -4.285476138198667], [-73.78259989674956, -4.285747480717257], [-73.78287018868843, -4.285747911585199], [-73.78286975952729, -4.286019254130739], [-73.78232917547888, -4.2860183922421395], [-73.78233089274329, -4.2849330222665944], [-73.78287147602813, -4.284933883939598]]]\n",
            "Nombre: Polygonio_84.0, Area (metricos cubiertos): 904.2879854027337, Vertices: [[[-73.78259431419619, -4.289274933306213], [-73.7825938845769, -4.2895462757978535], [-73.78232359132649, -4.289545844453803], [-73.7823240210356, -4.289274501989112], [-73.78259431419619, -4.289274933306213]]]\n",
            "Nombre: Polygonio_85.0, Area (metricos cubiertos): 904.2883273599493, Vertices: [[[-73.782351037751, -4.27217992268014], [-73.78235060976665, -4.272451265270595], [-73.78208032254393, -4.272450835552496], [-73.78208075061812, -4.2721794929889905], [-73.782351037751, -4.27217992268014]]]\n",
            "Nombre: Polygonio_86.0, Area (metricos cubiertos): 904.2861192029218, Vertices: [[[-73.78223883751625, -4.342728929597396], [-73.78223840239927, -4.343000271675811], [-73.78196809027526, -4.342999834834071], [-73.78196852549105, -4.342728492782605], [-73.78223883751625, -4.342728929597396]]]\n",
            "Nombre: Polygonio_87.0, Area (metricos cubiertos): 904.2835904692377, Vertices: [[[-73.78158985676286, -4.409749474210332], [-73.78158941466599, -4.410020815740776], [-73.78131907857492, -4.410020371937092], [-73.78131952077062, -4.4097490304335984], [-73.78158985676286, -4.409749474210332]]]\n",
            "Nombre: Polygonio_88.0, Area (metricos cubiertos): 904.2903991869357, Vertices: [[[-73.78167245690715, -4.187519675944898], [-73.78167203719627, -4.187791019056377], [-73.78140177938441, -4.187790597602778], [-73.78140219918511, -4.187519254518249], [-73.78167245690715, -4.187519675944898]]]\n",
            "Nombre: Polygonio_89.0, Area (metricos cubiertos): 904.2880992608818, Vertices: [[[-73.78155685760007, -4.2615962740072595], [-73.78155643039725, -4.261867616588732], [-73.78128614695645, -4.261867187652166], [-73.7812865742491, -4.261595845097644], [-73.78155685760007, -4.2615962740072595]]]\n",
            "Nombre: Polygonio_90.0, Area (metricos cubiertos): 2712.8639696491946, Vertices: [[[[-73.78181131978631, -4.271636378125913], [-73.78181089166722, -4.27190772066247], [-73.78127031772486, -4.271906860857961], [-73.7812707460326, -4.271635518375304], [-73.78181131978631, -4.271636378125913]]], [[[-73.78181131978631, -4.271636378125913], [-73.78181174787846, -4.271365035580374], [-73.78208203469694, -4.27136546528949], [-73.7820816067036, -4.271636807852995], [-73.78181131978631, -4.271636378125913]]]]\n",
            "Nombre: Polygonio_91.0, Area (metricos cubiertos): 904.2814629510226, Vertices: [[[-73.78122247230299, -4.468901428868733], [-73.78122202411552, -4.46917276992307], [-73.78095166653675, -4.469172320046775], [-73.78095211482304, -4.468900979019389], [-73.78122247230299, -4.468901428868733]]]\n",
            "Nombre: Polygonio_92.0, Area (metricos cubiertos): 1808.5751607335842, Vertices: [[[[-73.78074130377968, -4.264579754398997], [-73.78047101946751, -4.264579324905477], [-73.7804714473261, -4.264307982449769], [-73.78074173153945, -4.26430841191634], [-73.78074130377968, -4.264579754398997]]], [[[-73.78074130377968, -4.264579754398997], [-73.7810115881188, -4.264580183802686], [-73.7810111604309, -4.2648515263122935], [-73.78074087599296, -4.264851096881655], [-73.78074130377968, -4.264579754398997]]]]\n",
            "Nombre: Polygonio_93.0, Area (metricos cubiertos): 904.2861490519773, Vertices: [[[-73.78093416109377, -4.313421803489008], [-73.78093372845613, -4.313693145639288], [-73.78066342686039, -4.313692711276899], [-73.78066385958785, -4.313421369144584], [-73.78093416109377, -4.313421803489008]]]\n",
            "Nombre: Polygonio_94.0, Area (metricos cubiertos): 904.2879174381859, Vertices: [[[-73.78076308449376, -4.250741285331071], [-73.7807626581084, -4.2510126279125435], [-73.78049237852137, -4.251012199784462], [-73.78049280500554, -4.250740857238923], [-73.78076308449376, -4.250741285331071]]]\n",
            "Nombre: Polygonio_95.0, Area (metricos cubiertos): 904.2877390162804, Vertices: [[[-73.780753697656, -4.256710821629382], [-73.78075327065979, -4.256982164165939], [-73.78048298899765, -4.2569817354449695], [-73.78048341608368, -4.2567103929353625], [-73.780753697656, -4.256710821629382]]]\n",
            "Nombre: Polygonio_96.0, Area (metricos cubiertos): 904.287303361225, Vertices: [[[-73.78073274282603, -4.270006603629937], [-73.78073231449135, -4.270277946067678], [-73.78046202818491, -4.270277515999235], [-73.78046245661842, -4.270006173588444], [-73.78073274282603, -4.270006603629937]]]\n",
            "Nombre: Polygonio_97.0, Area (metricos cubiertos): 904.288616545541, Vertices: [[[-73.78053785615484, -4.221978535670762], [-73.7805374325902, -4.222249878431898], [-73.78026716301939, -4.222249453115543], [-73.78026758667386, -4.22197811039034], [-73.78053785615484, -4.221978535670762]]]\n",
            "Nombre: Polygonio_98.0, Area (metricos cubiertos): 904.2875840256274, Vertices: [[[-73.7804846971711, -4.255896365388576], [-73.78048427017491, -4.256167707907166], [-73.78021398881819, -4.25616727916823], [-73.7802144159222, -4.25589593667659], [-73.7804846971711, -4.255896365388576]]]\n",
            "Nombre: Polygonio_99.0, Area (metricos cubiertos): 5425.723247145593, Vertices: [[[-73.78099960236509, -4.272177773263193], [-73.78099917390462, -4.272449115718901], [-73.78072888680768, -4.272448685524695], [-73.78072802961726, -4.272991370373228], [-73.78018745513592, -4.272990509580574], [-73.7801883127126, -4.272447824848821], [-73.78045859974667, -4.272448255231674], [-73.78045902839577, -4.272176912838848], [-73.78099960236509, -4.272177773263193]]]\n",
            "Nombre: Polygonio_100.0, Area (metricos cubiertos): 2712.8601488767376, Vertices: [[[-73.7809725556819, -4.289272343939356], [-73.7809721254877, -4.289543686269299], [-73.7801612463114, -4.28954239021594], [-73.78016167679306, -4.289271047966845], [-73.7809725556819, -4.289272343939356]]]\n",
            "Nombre: Polygonio_101.0, Area (metricos cubiertos): 1808.57507317613, Vertices: [[[-73.78048768542588, -4.253996967731497], [-73.78048725860934, -4.25426831025907], [-73.77994669726137, -4.2542674530686595], [-73.77994712426654, -4.2539961105949855], [-73.78048768542588, -4.253996967731497]]]\n",
            "Nombre: Polygonio_102.0, Area (metricos cubiertos): 904.2849965643793, Vertices: [[[-73.7800933204617, -4.332143098431599], [-73.78009288564117, -4.332414440366284], [-73.77982257749669, -4.332414003820989], [-73.77982301241605, -4.332142661913253], [-73.7800933204617, -4.332143098431599]]]\n",
            "Nombre: Polygonio_103.0, Area (metricos cubiertos): 904.2823913281163, Vertices: [[[-73.77996208414454, -4.413274247600903], [-73.77996164110442, -4.4135455889427], [-73.77969130389945, -4.413545144186803], [-73.77969174703838, -4.413273802880938], [-73.77996208414454, -4.413274247600903]]]\n",
            "Nombre: Polygonio_104.0, Area (metricos cubiertos): 904.2815374708565, Vertices: [[[-73.779920763492, -4.438508983009608], [-73.77992031789168, -4.438780324153775], [-73.77964997154186, -4.438779876846662], [-73.77965041724099, -4.4385085357294445], [-73.779920763492, -4.438508983009608]]]\n",
            "Nombre: Polygonio_105.0, Area (metricos cubiertos): 904.2811176126141, Vertices: [[[-73.77989844974458, -4.452076037783552], [-73.77989800276984, -4.452347378828906], [-73.7796276514703, -4.45234693014737], [-73.77962809854385, -4.45207558913795], [-73.77989844974458, -4.452076037783552]]]\n",
            "Nombre: Polygonio_106.0, Area (metricos cubiertos): 1808.572526593559, Vertices: [[[-73.78016253766657, -4.288728363468654], [-73.7801621072388, -4.28899970571775], [-73.77962152164528, -4.288998841313867], [-73.77962195226169, -4.288727499118671], [-73.78016253766657, -4.288728363468654]]]\n",
            "Nombre: Polygonio_107.0, Area (metricos cubiertos): 904.2861356086249, Vertices: [[[-73.77989095331252, -4.289541958009507], [-73.77989052271407, -4.28981330022267], [-73.77962022964333, -4.289812867890474], [-73.77962066034058, -4.28954152570426], [-73.77989095331252, -4.289541958009507]]]\n",
            "Nombre: Polygonio_108.0, Area (metricos cubiertos): 904.2881273984424, Vertices: [[[-73.77973001397591, -4.220077860753079], [-73.77972959032144, -4.220349203442349], [-73.77945932148724, -4.220348778036163], [-73.77945974524053, -4.220077435373843], [-73.77973001397591, -4.220077860753079]]]\n",
            "Nombre: Polygonio_109.0, Area (metricos cubiertos): 904.2894311782295, Vertices: [[[-73.77953473512721, -4.171778410803341], [-73.77953431626975, -4.172049753807022], [-73.77926406406336, -4.172049333197839], [-73.77926448301066, -4.171777990221109], [-73.77953473512721, -4.171778410803341]]]\n",
            "Nombre: Polygonio_110.0, Area (metricos cubiertos): 904.2884603356421, Vertices: [[[-73.77948469793282, -4.204068214892323], [-73.7794842757965, -4.204339557671425], [-73.77921401251389, -4.204339133792375], [-73.77921443474004, -4.204067791040223], [-73.77948469793282, -4.204068214892323]]]\n",
            "Nombre: Polygonio_111.0, Area (metricos cubiertos): 1808.5729163502263, Vertices: [[[-73.77964945430091, -4.271361594520796], [-73.77964902544518, -4.2716329368417565], [-73.77910845213164, -4.271632075564011], [-73.779108881176, -4.27136073329695], [-73.77964945430091, -4.271361594520796]]]\n",
            "Nombre: Polygonio_112.0, Area (metricos cubiertos): 904.2857733165221, Vertices: [[[-73.77934993659953, -4.289812435459462], [-73.77934950577651, -4.290083777618726], [-73.77907921266983, -4.290083345070934], [-73.77907964358269, -4.289812002938619], [-73.77934993659953, -4.289812435459462]]]\n",
            "Nombre: Polygonio_113.0, Area (metricos cubiertos): 904.2813660003479, Vertices: [[[-73.77912842762726, -4.427111314398671], [-73.77912798288034, -4.427382655542838], [-73.7788576407526, -4.427382209098108], [-73.77885808558935, -4.42711086798089], [-73.77912842762726, -4.427111314398671]]]\n",
            "Nombre: Polygonio_114.0, Area (metricos cubiertos): 904.2844254622297, Vertices: [[[-73.77901948273437, -4.327528540456717], [-73.7790190479947, -4.327799882319536], [-73.77874874160193, -4.3277994458550895], [-73.77874917643145, -4.327528104019219], [-73.77901948273437, -4.327528540456717]]]\n",
            "Nombre: Polygonio_115.0, Area (metricos cubiertos): 904.283514539193, Vertices: [[[-73.7787138657058, -4.349506785852606], [-73.77871342863948, -4.349778127517796], [-73.77844311446731, -4.349777688735696], [-73.77844355162345, -4.349506347088472], [-73.7787138657058, -4.349506785852606]]]\n",
            "Nombre: Polygonio_116.0, Area (metricos cubiertos): 1808.5702675973828, Vertices: [[[-73.77853905763884, -4.289811137600489], [-73.77853862652834, -4.2900824796789045], [-73.77799804050365, -4.2900816139005995], [-73.7779984717938, -4.289810271885067], [-73.77853905763884, -4.289811137600489]]]\n",
            "Nombre: Polygonio_117.0, Area (metricos cubiertos): 904.2797485520149, Vertices: [[[-73.77774056455944, -4.449087696616795], [-73.77774011709961, -4.449359037464519], [-73.77746976711161, -4.44935858828891], [-73.77747021467026, -4.449087247477119], [-73.77774056455944, -4.449087696616795]]]\n",
            "Nombre: Polygonio_118.0, Area (metricos cubiertos): 904.2885254465898, Vertices: [[[-73.77792160535343, -4.166349028709577], [-73.77792118648698, -4.166620371587493], [-73.77765093629283, -4.166619950969328], [-73.7776513552491, -4.166348608118361], [-73.77792160535343, -4.166349028709577]]]\n",
            "Nombre: Polygonio_119.0, Area (metricos cubiertos): 904.2801446831887, Vertices: [[[-73.77749835564519, -4.431992771788815], [-73.7774979098203, -4.4322641127353535], [-73.7772275660756, -4.432263665203663], [-73.7772280119993, -4.4319923242840735], [-73.77749835564519, -4.431992771788815]]]\n",
            "Nombre: Polygonio_120.0, Area (metricos cubiertos): 904.2879541608888, Vertices: [[[-73.77763163449775, -4.179101720038684], [-73.77763121423891, -4.17937306279982], [-73.77736095971487, -4.179372640789265], [-73.77736138006354, -4.1791012980550795], [-73.77763163449775, -4.179101720038684]]]\n",
            "Nombre: Polygonio_121.0, Area (metricos cubiertos): 2712.853523863615, Vertices: [[[-73.77746219940722, -4.287095985996343], [-73.77746133696166, -4.287638669964529], [-73.77719104490602, -4.287638236994527], [-73.7771914762321, -4.287366895032894], [-73.77692118429324, -4.287366461991027], [-73.77692161570018, -4.2870951200563425], [-73.77746219940722, -4.287095985996343]]]\n",
            "Nombre: Polygonio_122.0, Area (metricos cubiertos): 904.2845552053597, Vertices: [[[-73.77745918035819, -4.288995379862532], [-73.77745874896024, -4.289266721842133], [-73.7771884563207, -4.2892662887014525], [-73.77718888782644, -4.288994946748801], [-73.77745918035819, -4.288995379862532]]]\n",
            "Nombre: Polygonio_123.0, Area (metricos cubiertos): 1808.568788540249, Vertices: [[[-73.777457023072, -4.29035208971562], [-73.77745659153032, -4.290623431677255], [-73.77691600533494, -4.290622565027585], [-73.77691643707425, -4.290351223119849], [-73.777457023072, -4.29035208971562]]]\n",
            "Nombre: Polygonio_124.0, Area (metricos cubiertos): 904.2841523655695, Vertices: [[[-73.77691730045406, -4.289808539295395], [-73.77691686877763, -4.2900798812121135], [-73.7766465759135, -4.290079447792955], [-73.77664700767976, -4.2898081059121695], [-73.77691730045406, -4.289808539295395]]]\n",
            "Nombre: Polygonio_125.0, Area (metricos cubiertos): 904.2812200544572, Vertices: [[[-73.77650787421005, -4.376366066843682], [-73.7765074336403, -4.376637408095647], [-73.77623711008074, -4.376636965801134], [-73.77623755074032, -4.376365624576118], [-73.77650787421005, -4.376366066843682]]]\n",
            "Nombre: Polygonio_126.0, Area (metricos cubiertos): 904.2872242259094, Vertices: [[[-73.77629045151231, -4.172587385685982], [-73.77629003146008, -4.172858728357285], [-73.77601977929861, -4.17285830654436], [-73.77602019944966, -4.172586963908989], [-73.77629045151231, -4.172587385685982]]]\n",
            "Nombre: Polygonio_127.0, Area (metricos cubiertos): 904.2862731689474, Vertices: [[[-73.7762415414341, -4.2040631225136575], [-73.77624111818388, -4.204334464960382], [-73.77597085522466, -4.204334039958439], [-73.7759712785737, -4.204062697538663], [-73.7762415414341, -4.2040631225136575]]]\n",
            "Nombre: Polygonio_128.0, Area (metricos cubiertos): 904.2858605715941, Vertices: [[[-73.77596068669091, -4.210846257431174], [-73.77596026265914, -4.21111759979705], [-73.77568999739125, -4.211117174013572], [-73.77569042152183, -4.210845831674645], [-73.77596068669091, -4.210846257431174]]]\n",
            "Nombre: Polygonio_129.0, Area (metricos cubiertos): 904.282697852657, Vertices: [[[-73.77527909941935, -4.300116922569722], [-73.77527866612596, -4.300388264243896], [-73.77500836980332, -4.30038782920777], [-73.77500880319552, -4.300116487569529], [-73.77527909941935, -4.300116922569722]]]\n",
            "Nombre: Polygonio_130.0, Area (metricos cubiertos): 904.2813042327573, Vertices: [[[-73.77520810762857, -4.344345589103449], [-73.77520766983461, -4.3446169304542295], [-73.77493735785434, -4.34461649093551], [-73.7749377957471, -4.344345149611679], [-73.77520810762857, -4.344345589103449]]]\n",
            "Nombre: Polygonio_131.0, Area (metricos cubiertos): 904.2852545546652, Vertices: [[[-73.77488641293931, -4.206503077413419], [-73.77488598897042, -4.206774419698447], [-73.7746157253195, -4.206773993986834], [-73.77461614937822, -4.206502651719772], [-73.77488641293931, -4.206503077413419]]]\n",
            "Nombre: Polygonio_132.0, Area (metricos cubiertos): 904.2825271338494, Vertices: [[[-73.77448553152419, -4.289261952039503], [-73.77448509903928, -4.289533293713676], [-73.77421480661532, -4.289532859486035], [-73.77421523919006, -4.289261517847793], [-73.77448553152419, -4.289261952039503]]]\n",
            "Nombre: Polygonio_133.0, Area (metricos cubiertos): 904.2824755663394, Vertices: [[[-73.77448380144081, -4.290347318709248], [-73.77448336884811, -4.290618660365455], [-73.77421307604686, -4.2906182260389985], [-73.7742135087294, -4.2903468844007575], [-73.77448380144081, -4.290347318709248]]]\n",
            "Nombre: Polygonio_134.0, Area (metricos cubiertos): 904.2814812068611, Vertices: [[[-73.77417140968666, -4.316667013671211], [-73.77417097432715, -4.316938355120805], [-73.77390067226426, -4.316937918018555], [-73.77390110773159, -4.316666576604892], [-73.77417140968666, -4.316667013671211]]]\n",
            "Nombre: Polygonio_135.0, Area (metricos cubiertos): 904.2849495813766, Vertices: [[[-73.77382654063699, -4.192934262579321], [-73.7738261176832, -4.193205604855366], [-73.77355585880234, -4.1932051801408825], [-73.77355628185494, -4.192933837891787], [-73.77382654063699, -4.192934262579321]]]\n",
            "Nombre: Polygonio_136.0, Area (metricos cubiertos): 904.2825773190435, Vertices: [[[-73.77370574109952, -4.269724049795241], [-73.7737053103214, -4.269995391523313], [-73.77343502483244, -4.26999495900247], [-73.77343545570038, -4.269723617301347], [-73.77370574109952, -4.269724049795241]]]\n",
            "Nombre: Polygonio_137.0, Area (metricos cubiertos): 904.2817414528708, Vertices: [[[-73.77340219779583, -4.290616922475723], [-73.7734017647899, -4.290888264024133], [-73.77313147200661, -4.290887829284451], [-73.7731319050934, -4.290616487762991], [-73.77340219779583, -4.290616922475723]]]\n",
            "Nombre: Polygonio_138.0, Area (metricos cubiertos): 904.2768359008602, Vertices: [[[-73.77315359732341, -4.443653239724395], [-73.77315314873171, -4.443924580140927], [-73.77288280118712, -4.443924129842425], [-73.77288324987765, -4.443652789452842], [-73.77315359732341, -4.443653239724395]]]\n",
            "Nombre: Polygonio_139.0, Area (metricos cubiertos): 4521.40784824434, Vertices: [[[[-73.77286291183097, -4.289802028458929], [-73.77259261947889, -4.289801593638399], [-73.77259348579618, -4.2892589106853105], [-73.77340436236736, -4.289260214697744], [-73.77340392951413, -4.2895315562551355], [-73.77286334490877, -4.289530686955436], [-73.77286291183097, -4.289802028458929]]], [[[-73.77286291183097, -4.289802028458929], [-73.77313320421001, -4.289802463180645], [-73.77313277120408, -4.290073804711088], [-73.77286247872622, -4.29007336995344], [-73.77286291183097, -4.289802028458929]]]]\n",
            "Nombre: Polygonio_140.0, Area (metricos cubiertos): 904.2808636849355, Vertices: [[[-73.77283600694685, -4.306625197704985], [-73.77283557212633, -4.3068965390827145], [-73.77256527375552, -4.3068961025194525], [-73.77256570867486, -4.306624761168672], [-73.77283600694685, -4.306625197704985]]]\n",
            "Nombre: Polygonio_141.0, Area (metricos cubiertos): 2712.8439649165, Vertices: [[[-73.77312930611457, -4.292244536855819], [-73.7731288728571, -4.292515878368295], [-73.7723179929352, -4.292514573071272], [-73.77231842648013, -4.2922432316486265], [-73.77312930611457, -4.292244536855819]]]\n",
            "Nombre: Polygonio_142.0, Area (metricos cubiertos): 904.2788303805994, Vertices: [[[-73.77221094046025, -4.358993162941422], [-73.7722105001061, -4.359264503878977], [-73.77194018320306, -4.359264061791076], [-73.77194062365602, -4.358992720880471], [-73.77221094046025, -4.358993162941422]]]\n",
            "Nombre: Polygonio_143.0, Area (metricos cubiertos): 23511.20243017456, Vertices: [[[[-73.77236183116125, -4.431984252229543], [-73.77236093572955, -4.432526933071591], [-73.77182024912948, -4.432526034091553], [-73.77182114494744, -4.431983353357303], [-73.77236183116125, -4.431984252229543]]], [[[-73.77209327895366, -4.430898441244075], [-73.77182293625998, -4.430897991861855], [-73.77182338401624, -4.430626651490238], [-73.77209372661112, -4.430627100836526], [-73.77209327895366, -4.430898441244075]]], [[[-73.77236183116125, -4.431984252229543], [-73.77236272647616, -4.431441571378512], [-73.77209238354891, -4.43144112205019], [-73.77209327895366, -4.430898441244075], [-73.77290430720538, -4.4308997887709], [-73.77290475457536, -4.430628448282503], [-73.77344544001663, -4.430629346085747], [-73.77344499285324, -4.430900686637027], [-73.77371533570862, -4.430901135417376], [-73.7737148886171, -4.431172475986623], [-73.77344454565393, -4.431172027179323], [-73.77344365118343, -4.431714708254932], [-73.77317330804958, -4.431714259285937], [-73.77317286067958, -4.431985599801283], [-73.77290251747387, -4.431985150706524], [-73.77290206996912, -4.432256491185938], [-73.77263172670052, -4.432256041965414], [-73.77263217430408, -4.431984701521932], [-73.77236183116125, -4.431984252229543]]]]\n"
          ]
        }
      ]
    },
    {
      "cell_type": "code",
      "source": [
        "# @title\n",
        "styledPolygons = vectorizedAndSimplified.style(\n",
        "    color='FFCC00',\n",
        "    width=.75,\n",
        "    fillColor='00000000',\n",
        "    lineType='solid'\n",
        ")\n",
        "\n",
        "Map = geemap.Map()\n",
        "\n",
        "Map.centerObject(polygon, 11)\n",
        "\n",
        "Map.addLayer(image2, vizParams, 'Despues Tallando')\n",
        "\n",
        "Map.addLayer(styledPolygons, {}, 'Mask Outline')\n",
        "\n",
        "Map"
      ],
      "metadata": {
        "id": "LaWvzkWFmV8T",
        "outputId": "1ea60add-952e-415e-e391-40d9037de050",
        "colab": {
          "base_uri": "https://localhost:8080/",
          "height": 621,
          "referenced_widgets": [
            "066b3ceb05854812917f6950e7b9382f",
            "e633ddefdf00497a9f7b7b4d5b21340b",
            "75b393f5e7fe4b5f93d77b54fc361f8b",
            "e2d1f9eb62744e869755e7b241a223c3",
            "413ff2d602fa42fcae27fa264304cc41",
            "003b38c51769494395ac25a1cbc037f2",
            "d9afca9a37af41e4b00b65af9950b453",
            "fb2e9d0e04f84fa98b2e17ef47914d8c",
            "66f76d62fe01438ba20bdfc28f790a00",
            "442fbd1a566b4e65a6db371e48685cdb",
            "2a48f712d3b64577ad5fb1e88c22890f",
            "f3fb038e876b433a971cd79840ea9cfe",
            "aaec5910f523446bb6415f1a6605355c",
            "f47fa776d9f040ec912d00e790f7aa26",
            "4a362a4961064dfd84b555f2cadfe09b",
            "a9f99a66a51c42019df00aefa24f960e",
            "550a8cd2455e435991df729eb8fc0263",
            "b821dc348db644c792bc93f6c8d0cabb",
            "1fa904d8255b4f3aa8489b3bb44cf7e7",
            "93f922aab2244547b99b7ca9fdd1dfaa",
            "f827eee994dc41739545cb60fb4e5866",
            "64ad14cd00594fc59fc97307175011ff",
            "ef502c03fcfd41de8cc4c43ceb8c5f7c",
            "b54b31f20bd840d89719e400de3e84a6",
            "573456b098c648ed93c3d37a7aa95bb7",
            "feb3f8b6f43b4e38b9dd73abf6fc778d"
          ]
        }
      },
      "execution_count": 201,
      "outputs": [
        {
          "output_type": "display_data",
          "data": {
            "text/plain": [
              "<IPython.core.display.HTML object>"
            ],
            "text/html": [
              "\n",
              "            <style>\n",
              "                .geemap-dark {\n",
              "                    --jp-widgets-color: white;\n",
              "                    --jp-widgets-label-color: white;\n",
              "                    --jp-ui-font-color1: white;\n",
              "                    --jp-layout-color2: #454545;\n",
              "                    background-color: #383838;\n",
              "                }\n",
              "                    \n",
              "                .geemap-dark .jupyter-button {\n",
              "                    --jp-layout-color3: #383838;\n",
              "                }\n",
              "                \n",
              "                .geemap-colab {\n",
              "                    background-color: var(--colab-primary-surface-color, white);\n",
              "                }\n",
              "                    \n",
              "                .geemap-colab .jupyter-button {\n",
              "                    --jp-layout-color3: var(--colab-primary-surface-color, white);\n",
              "                }\n",
              "            </style>\n",
              "            "
            ]
          },
          "metadata": {}
        },
        {
          "output_type": "display_data",
          "data": {
            "text/plain": [
              "Map(center=[-4.349379692587443, -73.72766753816298], controls=(WidgetControl(options=['position', 'transparent…"
            ],
            "application/vnd.jupyter.widget-view+json": {
              "version_major": 2,
              "version_minor": 0,
              "model_id": "066b3ceb05854812917f6950e7b9382f"
            }
          },
          "metadata": {
            "application/vnd.jupyter.widget-view+json": {
              "colab": {
                "custom_widget_manager": {
                  "url": "https://ssl.gstatic.com/colaboratory-static/widgets/colab-cdn-widget-manager/2b70e893a8ba7c0f/manager.min.js"
                }
              }
            }
          }
        }
      ]
    }
  ]
}