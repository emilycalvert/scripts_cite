{
  "nbformat": 4,
  "nbformat_minor": 0,
  "metadata": {
    "colab": {
      "provenance": [],
      "collapsed_sections": [
        "d4es-WyE3Srw"
      ],
      "authorship_tag": "ABX9TyMyDQOsgzKdHiiUivpBOqrr",
      "include_colab_link": true
    },
    "kernelspec": {
      "name": "python3",
      "display_name": "Python 3"
    },
    "language_info": {
      "name": "python"
    },
    "widgets": {
      "application/vnd.jupyter.widget-state+json": {
        "ef332bde20c0483eb37cc155adb96b0a": {
          "model_module": "jupyter-leaflet",
          "model_name": "LeafletMapModel",
          "model_module_version": "^0.18",
          "state": {
            "_dom_classes": [],
            "_model_module": "jupyter-leaflet",
            "_model_module_version": "^0.18",
            "_model_name": "LeafletMapModel",
            "_view_count": null,
            "_view_module": "jupyter-leaflet",
            "_view_module_version": "^0.18",
            "_view_name": "LeafletMapView",
            "bottom": 268784,
            "bounce_at_zoom_limits": true,
            "box_zoom": true,
            "center": [
              -4.349379692587443,
              -73.72766753816298
            ],
            "close_popup_on_click": true,
            "controls": [
              "IPY_MODEL_e7eea94dcd0b4c899d9c9ee8194becd1",
              "IPY_MODEL_af991c1f8b7e45a0a6b9b10e039c71f0",
              "IPY_MODEL_5a833600e0ae497bb831573dc1373383",
              "IPY_MODEL_d260233842f445979d2cd1557a6f55b6",
              "IPY_MODEL_d5e6014fe9bf49d18e3774b63f39f22b",
              "IPY_MODEL_ef381e4a652c4b718725f970b92f22eb",
              "IPY_MODEL_13ae8b1e9528447fa31fdb0eb4ee2db0",
              "IPY_MODEL_6bfc2554db2a41bc8cd9b96a36abaa67"
            ],
            "crs": {
              "name": "EPSG3857",
              "custom": false
            },
            "default_style": "IPY_MODEL_10a7cf87dbfc4360b917fcd530a88908",
            "double_click_zoom": true,
            "dragging": true,
            "dragging_style": "IPY_MODEL_f76c6fdd79354851819009e6ca974d01",
            "east": -73.03848266601564,
            "fullscreen": false,
            "inertia": true,
            "inertia_deceleration": 3000,
            "inertia_max_speed": 1500,
            "interpolation": "bilinear",
            "keyboard": true,
            "keyboard_pan_offset": 80,
            "keyboard_zoom_offset": 1,
            "layers": [
              "IPY_MODEL_4d839a0164b3414e8a0dcfa9253b143e",
              "IPY_MODEL_d55ff85ce93c483783f265295fbc85c3"
            ],
            "layout": "IPY_MODEL_be03c0b68fa94e63838c52737e64392f",
            "left": 153767,
            "max_zoom": 24,
            "min_zoom": null,
            "modisdate": "2024-02-18",
            "north": -4.14372190751926,
            "options": [
              "bounce_at_zoom_limits",
              "box_zoom",
              "center",
              "close_popup_on_click",
              "double_click_zoom",
              "dragging",
              "fullscreen",
              "inertia",
              "inertia_deceleration",
              "inertia_max_speed",
              "interpolation",
              "keyboard",
              "keyboard_pan_offset",
              "keyboard_zoom_offset",
              "max_zoom",
              "min_zoom",
              "prefer_canvas",
              "scroll_wheel_zoom",
              "tap",
              "tap_tolerance",
              "touch_zoom",
              "world_copy_jump",
              "zoom",
              "zoom_animation_threshold",
              "zoom_delta",
              "zoom_snap"
            ],
            "panes": {},
            "prefer_canvas": false,
            "right": 155774,
            "scroll_wheel_zoom": true,
            "south": -4.554521998417129,
            "style": "IPY_MODEL_a90dfa8371f54330aeb336107cbc3cdf",
            "tap": true,
            "tap_tolerance": 15,
            "top": 268184,
            "touch_zoom": true,
            "west": -74.41658020019533,
            "window_url": "https://2v9dg334kfr-496ff2e9c6d22116-0-colab.googleusercontent.com/outputframe.html?vrz=colab_20240214-060113_RC00_606917857",
            "world_copy_jump": false,
            "zoom": 11,
            "zoom_animation_threshold": 4,
            "zoom_delta": 1,
            "zoom_snap": 1
          }
        },
        "e7eea94dcd0b4c899d9c9ee8194becd1": {
          "model_module": "jupyter-leaflet",
          "model_name": "LeafletWidgetControlModel",
          "model_module_version": "^0.18",
          "state": {
            "_model_module": "jupyter-leaflet",
            "_model_module_version": "^0.18",
            "_model_name": "LeafletWidgetControlModel",
            "_view_count": null,
            "_view_module": "jupyter-leaflet",
            "_view_module_version": "^0.18",
            "_view_name": "LeafletWidgetControlView",
            "max_height": null,
            "max_width": null,
            "min_height": null,
            "min_width": null,
            "options": [
              "position",
              "transparent_bg"
            ],
            "position": "topleft",
            "transparent_bg": false,
            "widget": "IPY_MODEL_bdbdec14199743b797ab1b812b620445"
          }
        },
        "af991c1f8b7e45a0a6b9b10e039c71f0": {
          "model_module": "jupyter-leaflet",
          "model_name": "LeafletZoomControlModel",
          "model_module_version": "^0.18",
          "state": {
            "_model_module": "jupyter-leaflet",
            "_model_module_version": "^0.18",
            "_model_name": "LeafletZoomControlModel",
            "_view_count": null,
            "_view_module": "jupyter-leaflet",
            "_view_module_version": "^0.18",
            "_view_name": "LeafletZoomControlView",
            "options": [
              "position",
              "zoom_in_text",
              "zoom_in_title",
              "zoom_out_text",
              "zoom_out_title"
            ],
            "position": "topleft",
            "zoom_in_text": "+",
            "zoom_in_title": "Zoom in",
            "zoom_out_text": "-",
            "zoom_out_title": "Zoom out"
          }
        },
        "5a833600e0ae497bb831573dc1373383": {
          "model_module": "jupyter-leaflet",
          "model_name": "LeafletFullScreenControlModel",
          "model_module_version": "^0.18",
          "state": {
            "_model_module": "jupyter-leaflet",
            "_model_module_version": "^0.18",
            "_model_name": "LeafletFullScreenControlModel",
            "_view_count": null,
            "_view_module": "jupyter-leaflet",
            "_view_module_version": "^0.18",
            "_view_name": "LeafletFullScreenControlView",
            "options": [
              "position"
            ],
            "position": "topleft"
          }
        },
        "d260233842f445979d2cd1557a6f55b6": {
          "model_module": "jupyter-leaflet",
          "model_name": "LeafletDrawControlModel",
          "model_module_version": "^0.18",
          "state": {
            "_model_module": "jupyter-leaflet",
            "_model_module_version": "^0.18",
            "_model_name": "LeafletDrawControlModel",
            "_view_count": null,
            "_view_module": "jupyter-leaflet",
            "_view_module_version": "^0.18",
            "_view_name": "LeafletDrawControlView",
            "circle": {},
            "circlemarker": {},
            "data": [],
            "edit": true,
            "marker": {
              "shapeOptions": {
                "color": "#3388ff"
              }
            },
            "options": [
              "position"
            ],
            "polygon": {
              "shapeOptions": {}
            },
            "polyline": {
              "shapeOptions": {}
            },
            "position": "topleft",
            "rectangle": {
              "shapeOptions": {
                "color": "#3388ff"
              }
            },
            "remove": true
          }
        },
        "d5e6014fe9bf49d18e3774b63f39f22b": {
          "model_module": "jupyter-leaflet",
          "model_name": "LeafletScaleControlModel",
          "model_module_version": "^0.18",
          "state": {
            "_model_module": "jupyter-leaflet",
            "_model_module_version": "^0.18",
            "_model_name": "LeafletScaleControlModel",
            "_view_count": null,
            "_view_module": "jupyter-leaflet",
            "_view_module_version": "^0.18",
            "_view_name": "LeafletScaleControlView",
            "imperial": true,
            "max_width": 100,
            "metric": true,
            "options": [
              "imperial",
              "max_width",
              "metric",
              "position",
              "update_when_idle"
            ],
            "position": "bottomleft",
            "update_when_idle": false
          }
        },
        "ef381e4a652c4b718725f970b92f22eb": {
          "model_module": "jupyter-leaflet",
          "model_name": "LeafletMeasureControlModel",
          "model_module_version": "^0.18",
          "state": {
            "_custom_units": {},
            "_model_module": "jupyter-leaflet",
            "_model_module_version": "^0.18",
            "_model_name": "LeafletMeasureControlModel",
            "_view_count": null,
            "_view_module": "jupyter-leaflet",
            "_view_module_version": "^0.18",
            "_view_name": "LeafletMeasureControlView",
            "active_color": "orange",
            "capture_z_index": 10000,
            "completed_color": "#C8F2BE",
            "options": [
              "active_color",
              "capture_z_index",
              "completed_color",
              "popup_options",
              "position",
              "primary_area_unit",
              "primary_length_unit",
              "secondary_area_unit",
              "secondary_length_unit"
            ],
            "popup_options": {
              "className": "leaflet-measure-resultpopup",
              "autoPanPadding": [
                10,
                10
              ]
            },
            "position": "bottomleft",
            "primary_area_unit": "acres",
            "primary_length_unit": "kilometers",
            "secondary_area_unit": null,
            "secondary_length_unit": null
          }
        },
        "13ae8b1e9528447fa31fdb0eb4ee2db0": {
          "model_module": "jupyter-leaflet",
          "model_name": "LeafletWidgetControlModel",
          "model_module_version": "^0.18",
          "state": {
            "_model_module": "jupyter-leaflet",
            "_model_module_version": "^0.18",
            "_model_name": "LeafletWidgetControlModel",
            "_view_count": null,
            "_view_module": "jupyter-leaflet",
            "_view_module_version": "^0.18",
            "_view_name": "LeafletWidgetControlView",
            "max_height": null,
            "max_width": null,
            "min_height": null,
            "min_width": null,
            "options": [
              "position",
              "transparent_bg"
            ],
            "position": "topright",
            "transparent_bg": false,
            "widget": "IPY_MODEL_3a4a04692c364090a10dd82dce5e889a"
          }
        },
        "6bfc2554db2a41bc8cd9b96a36abaa67": {
          "model_module": "jupyter-leaflet",
          "model_name": "LeafletAttributionControlModel",
          "model_module_version": "^0.18",
          "state": {
            "_model_module": "jupyter-leaflet",
            "_model_module_version": "^0.18",
            "_model_name": "LeafletAttributionControlModel",
            "_view_count": null,
            "_view_module": "jupyter-leaflet",
            "_view_module_version": "^0.18",
            "_view_name": "LeafletAttributionControlView",
            "options": [
              "position",
              "prefix"
            ],
            "position": "bottomright",
            "prefix": "ipyleaflet"
          }
        },
        "10a7cf87dbfc4360b917fcd530a88908": {
          "model_module": "jupyter-leaflet",
          "model_name": "LeafletMapStyleModel",
          "model_module_version": "^0.18",
          "state": {
            "_model_module": "jupyter-leaflet",
            "_model_module_version": "^0.18",
            "_model_name": "LeafletMapStyleModel",
            "_view_count": null,
            "_view_module": "@jupyter-widgets/base",
            "_view_module_version": "1.2.0",
            "_view_name": "StyleView",
            "cursor": "grab"
          }
        },
        "f76c6fdd79354851819009e6ca974d01": {
          "model_module": "jupyter-leaflet",
          "model_name": "LeafletMapStyleModel",
          "model_module_version": "^0.18",
          "state": {
            "_model_module": "jupyter-leaflet",
            "_model_module_version": "^0.18",
            "_model_name": "LeafletMapStyleModel",
            "_view_count": null,
            "_view_module": "@jupyter-widgets/base",
            "_view_module_version": "1.2.0",
            "_view_name": "StyleView",
            "cursor": "move"
          }
        },
        "4d839a0164b3414e8a0dcfa9253b143e": {
          "model_module": "jupyter-leaflet",
          "model_name": "LeafletTileLayerModel",
          "model_module_version": "^0.18",
          "state": {
            "_model_module": "jupyter-leaflet",
            "_model_module_version": "^0.18",
            "_model_name": "LeafletTileLayerModel",
            "_view_count": null,
            "_view_module": "jupyter-leaflet",
            "_view_module_version": "^0.18",
            "_view_name": "LeafletTileLayerView",
            "attribution": "&copy; <a href=\"https://www.openstreetmap.org/copyright\">OpenStreetMap</a> contributors",
            "base": true,
            "bottom": true,
            "bounds": null,
            "detect_retina": false,
            "loading": false,
            "max_native_zoom": null,
            "max_zoom": 19,
            "min_native_zoom": null,
            "min_zoom": 1,
            "name": "OpenStreetMap.Mapnik",
            "no_wrap": false,
            "opacity": 1,
            "options": [
              "attribution",
              "bounds",
              "detect_retina",
              "max_native_zoom",
              "max_zoom",
              "min_native_zoom",
              "min_zoom",
              "no_wrap",
              "tile_size",
              "tms",
              "zoom_offset"
            ],
            "pane": "",
            "popup": null,
            "popup_max_height": null,
            "popup_max_width": 300,
            "popup_min_width": 50,
            "show_loading": false,
            "subitems": [],
            "tile_size": 256,
            "tms": false,
            "url": "https://tile.openstreetmap.org/{z}/{x}/{y}.png",
            "visible": true,
            "zoom_offset": 0
          }
        },
        "d55ff85ce93c483783f265295fbc85c3": {
          "model_module": "jupyter-leaflet",
          "model_name": "LeafletTileLayerModel",
          "model_module_version": "^0.18",
          "state": {
            "_model_module": "jupyter-leaflet",
            "_model_module_version": "^0.18",
            "_model_name": "LeafletTileLayerModel",
            "_view_count": null,
            "_view_module": "jupyter-leaflet",
            "_view_module_version": "^0.18",
            "_view_name": "LeafletTileLayerView",
            "attribution": "Google Earth Engine",
            "base": false,
            "bottom": true,
            "bounds": null,
            "detect_retina": false,
            "loading": false,
            "max_native_zoom": null,
            "max_zoom": 24,
            "min_native_zoom": null,
            "min_zoom": 0,
            "name": "Antes Permiso",
            "no_wrap": false,
            "opacity": 1,
            "options": [
              "attribution",
              "bounds",
              "detect_retina",
              "max_native_zoom",
              "max_zoom",
              "min_native_zoom",
              "min_zoom",
              "no_wrap",
              "tile_size",
              "tms",
              "zoom_offset"
            ],
            "pane": "",
            "popup": null,
            "popup_max_height": null,
            "popup_max_width": 300,
            "popup_min_width": 50,
            "show_loading": false,
            "subitems": [],
            "tile_size": 256,
            "tms": false,
            "url": "https://earthengine.googleapis.com/v1/projects/earthengine-legacy/maps/3e1eaca98947a267f1dd08a0b180ab16-43e75e27b006af50102ad55fe337888d/tiles/{z}/{x}/{y}",
            "visible": true,
            "zoom_offset": 0
          }
        },
        "be03c0b68fa94e63838c52737e64392f": {
          "model_module": "@jupyter-widgets/base",
          "model_name": "LayoutModel",
          "model_module_version": "1.2.0",
          "state": {
            "_model_module": "@jupyter-widgets/base",
            "_model_module_version": "1.2.0",
            "_model_name": "LayoutModel",
            "_view_count": null,
            "_view_module": "@jupyter-widgets/base",
            "_view_module_version": "1.2.0",
            "_view_name": "LayoutView",
            "align_content": null,
            "align_items": null,
            "align_self": null,
            "border": null,
            "bottom": null,
            "display": null,
            "flex": null,
            "flex_flow": null,
            "grid_area": null,
            "grid_auto_columns": null,
            "grid_auto_flow": null,
            "grid_auto_rows": null,
            "grid_column": null,
            "grid_gap": null,
            "grid_row": null,
            "grid_template_areas": null,
            "grid_template_columns": null,
            "grid_template_rows": null,
            "height": "600px",
            "justify_content": null,
            "justify_items": null,
            "left": null,
            "margin": null,
            "max_height": null,
            "max_width": null,
            "min_height": null,
            "min_width": null,
            "object_fit": null,
            "object_position": null,
            "order": null,
            "overflow": null,
            "overflow_x": null,
            "overflow_y": null,
            "padding": null,
            "right": null,
            "top": null,
            "visibility": null,
            "width": null
          }
        },
        "a90dfa8371f54330aeb336107cbc3cdf": {
          "model_module": "jupyter-leaflet",
          "model_name": "LeafletMapStyleModel",
          "model_module_version": "^0.18",
          "state": {
            "_model_module": "jupyter-leaflet",
            "_model_module_version": "^0.18",
            "_model_name": "LeafletMapStyleModel",
            "_view_count": null,
            "_view_module": "@jupyter-widgets/base",
            "_view_module_version": "1.2.0",
            "_view_name": "StyleView",
            "cursor": "grab"
          }
        },
        "bdbdec14199743b797ab1b812b620445": {
          "model_module": "@jupyter-widgets/controls",
          "model_name": "HBoxModel",
          "model_module_version": "1.5.0",
          "state": {
            "_dom_classes": [
              "geemap-colab"
            ],
            "_model_module": "@jupyter-widgets/controls",
            "_model_module_version": "1.5.0",
            "_model_name": "HBoxModel",
            "_view_count": null,
            "_view_module": "@jupyter-widgets/controls",
            "_view_module_version": "1.5.0",
            "_view_name": "HBoxView",
            "box_style": "",
            "children": [
              "IPY_MODEL_3ed7e2c0f58c412ca9effc6defeaf939"
            ],
            "layout": "IPY_MODEL_6becb501dd6e4adda86c558868302b88"
          }
        },
        "3a4a04692c364090a10dd82dce5e889a": {
          "model_module": "@jupyter-widgets/controls",
          "model_name": "VBoxModel",
          "model_module_version": "1.5.0",
          "state": {
            "_dom_classes": [
              "geemap-colab"
            ],
            "_model_module": "@jupyter-widgets/controls",
            "_model_module_version": "1.5.0",
            "_model_name": "VBoxModel",
            "_view_count": null,
            "_view_module": "@jupyter-widgets/controls",
            "_view_module_version": "1.5.0",
            "_view_name": "VBoxView",
            "box_style": "",
            "children": [
              "IPY_MODEL_b33d7013892545fb99651d63cf318035"
            ],
            "layout": "IPY_MODEL_9c71a4b4b68f4b6fa3412b508c59a1f9"
          }
        },
        "3ed7e2c0f58c412ca9effc6defeaf939": {
          "model_module": "@jupyter-widgets/controls",
          "model_name": "ToggleButtonModel",
          "model_module_version": "1.5.0",
          "state": {
            "_dom_classes": [],
            "_model_module": "@jupyter-widgets/controls",
            "_model_module_version": "1.5.0",
            "_model_name": "ToggleButtonModel",
            "_view_count": null,
            "_view_module": "@jupyter-widgets/controls",
            "_view_module_version": "1.5.0",
            "_view_name": "ToggleButtonView",
            "button_style": "",
            "description": "",
            "description_tooltip": null,
            "disabled": false,
            "icon": "globe",
            "layout": "IPY_MODEL_170dc497a1c84ef8a6fcab381a4b02e4",
            "style": "IPY_MODEL_7a29b0b67c0c4743a786e5907fd4ba80",
            "tooltip": "Search location/data",
            "value": false
          }
        },
        "6becb501dd6e4adda86c558868302b88": {
          "model_module": "@jupyter-widgets/base",
          "model_name": "LayoutModel",
          "model_module_version": "1.2.0",
          "state": {
            "_model_module": "@jupyter-widgets/base",
            "_model_module_version": "1.2.0",
            "_model_name": "LayoutModel",
            "_view_count": null,
            "_view_module": "@jupyter-widgets/base",
            "_view_module_version": "1.2.0",
            "_view_name": "LayoutView",
            "align_content": null,
            "align_items": null,
            "align_self": null,
            "border": null,
            "bottom": null,
            "display": null,
            "flex": null,
            "flex_flow": null,
            "grid_area": null,
            "grid_auto_columns": null,
            "grid_auto_flow": null,
            "grid_auto_rows": null,
            "grid_column": null,
            "grid_gap": null,
            "grid_row": null,
            "grid_template_areas": null,
            "grid_template_columns": null,
            "grid_template_rows": null,
            "height": null,
            "justify_content": null,
            "justify_items": null,
            "left": null,
            "margin": null,
            "max_height": null,
            "max_width": null,
            "min_height": null,
            "min_width": null,
            "object_fit": null,
            "object_position": null,
            "order": null,
            "overflow": null,
            "overflow_x": null,
            "overflow_y": null,
            "padding": null,
            "right": null,
            "top": null,
            "visibility": null,
            "width": null
          }
        },
        "b33d7013892545fb99651d63cf318035": {
          "model_module": "@jupyter-widgets/controls",
          "model_name": "ToggleButtonModel",
          "model_module_version": "1.5.0",
          "state": {
            "_dom_classes": [],
            "_model_module": "@jupyter-widgets/controls",
            "_model_module_version": "1.5.0",
            "_model_name": "ToggleButtonModel",
            "_view_count": null,
            "_view_module": "@jupyter-widgets/controls",
            "_view_module_version": "1.5.0",
            "_view_name": "ToggleButtonView",
            "button_style": "",
            "description": "",
            "description_tooltip": null,
            "disabled": false,
            "icon": "wrench",
            "layout": "IPY_MODEL_63d7c6ad4d684a7e99b98ec3b257d68f",
            "style": "IPY_MODEL_7eb4e25079ea40a2b588bc9a8b11f9cb",
            "tooltip": "Toolbar",
            "value": false
          }
        },
        "9c71a4b4b68f4b6fa3412b508c59a1f9": {
          "model_module": "@jupyter-widgets/base",
          "model_name": "LayoutModel",
          "model_module_version": "1.2.0",
          "state": {
            "_model_module": "@jupyter-widgets/base",
            "_model_module_version": "1.2.0",
            "_model_name": "LayoutModel",
            "_view_count": null,
            "_view_module": "@jupyter-widgets/base",
            "_view_module_version": "1.2.0",
            "_view_name": "LayoutView",
            "align_content": null,
            "align_items": null,
            "align_self": null,
            "border": null,
            "bottom": null,
            "display": null,
            "flex": null,
            "flex_flow": null,
            "grid_area": null,
            "grid_auto_columns": null,
            "grid_auto_flow": null,
            "grid_auto_rows": null,
            "grid_column": null,
            "grid_gap": null,
            "grid_row": null,
            "grid_template_areas": null,
            "grid_template_columns": null,
            "grid_template_rows": null,
            "height": null,
            "justify_content": null,
            "justify_items": null,
            "left": null,
            "margin": null,
            "max_height": null,
            "max_width": null,
            "min_height": null,
            "min_width": null,
            "object_fit": null,
            "object_position": null,
            "order": null,
            "overflow": null,
            "overflow_x": null,
            "overflow_y": null,
            "padding": null,
            "right": null,
            "top": null,
            "visibility": null,
            "width": null
          }
        },
        "170dc497a1c84ef8a6fcab381a4b02e4": {
          "model_module": "@jupyter-widgets/base",
          "model_name": "LayoutModel",
          "model_module_version": "1.2.0",
          "state": {
            "_model_module": "@jupyter-widgets/base",
            "_model_module_version": "1.2.0",
            "_model_name": "LayoutModel",
            "_view_count": null,
            "_view_module": "@jupyter-widgets/base",
            "_view_module_version": "1.2.0",
            "_view_name": "LayoutView",
            "align_content": null,
            "align_items": null,
            "align_self": null,
            "border": null,
            "bottom": null,
            "display": null,
            "flex": null,
            "flex_flow": null,
            "grid_area": null,
            "grid_auto_columns": null,
            "grid_auto_flow": null,
            "grid_auto_rows": null,
            "grid_column": null,
            "grid_gap": null,
            "grid_row": null,
            "grid_template_areas": null,
            "grid_template_columns": null,
            "grid_template_rows": null,
            "height": "28px",
            "justify_content": null,
            "justify_items": null,
            "left": null,
            "margin": null,
            "max_height": null,
            "max_width": null,
            "min_height": null,
            "min_width": null,
            "object_fit": null,
            "object_position": null,
            "order": null,
            "overflow": null,
            "overflow_x": null,
            "overflow_y": null,
            "padding": "0px 0px 0px 4px",
            "right": null,
            "top": null,
            "visibility": null,
            "width": "28px"
          }
        },
        "7a29b0b67c0c4743a786e5907fd4ba80": {
          "model_module": "@jupyter-widgets/controls",
          "model_name": "DescriptionStyleModel",
          "model_module_version": "1.5.0",
          "state": {
            "_model_module": "@jupyter-widgets/controls",
            "_model_module_version": "1.5.0",
            "_model_name": "DescriptionStyleModel",
            "_view_count": null,
            "_view_module": "@jupyter-widgets/base",
            "_view_module_version": "1.2.0",
            "_view_name": "StyleView",
            "description_width": ""
          }
        },
        "63d7c6ad4d684a7e99b98ec3b257d68f": {
          "model_module": "@jupyter-widgets/base",
          "model_name": "LayoutModel",
          "model_module_version": "1.2.0",
          "state": {
            "_model_module": "@jupyter-widgets/base",
            "_model_module_version": "1.2.0",
            "_model_name": "LayoutModel",
            "_view_count": null,
            "_view_module": "@jupyter-widgets/base",
            "_view_module_version": "1.2.0",
            "_view_name": "LayoutView",
            "align_content": null,
            "align_items": null,
            "align_self": null,
            "border": null,
            "bottom": null,
            "display": null,
            "flex": null,
            "flex_flow": null,
            "grid_area": null,
            "grid_auto_columns": null,
            "grid_auto_flow": null,
            "grid_auto_rows": null,
            "grid_column": null,
            "grid_gap": null,
            "grid_row": null,
            "grid_template_areas": null,
            "grid_template_columns": null,
            "grid_template_rows": null,
            "height": "28px",
            "justify_content": null,
            "justify_items": null,
            "left": null,
            "margin": null,
            "max_height": null,
            "max_width": null,
            "min_height": null,
            "min_width": null,
            "object_fit": null,
            "object_position": null,
            "order": null,
            "overflow": null,
            "overflow_x": null,
            "overflow_y": null,
            "padding": "0px 0px 0px 4px",
            "right": null,
            "top": null,
            "visibility": null,
            "width": "28px"
          }
        },
        "7eb4e25079ea40a2b588bc9a8b11f9cb": {
          "model_module": "@jupyter-widgets/controls",
          "model_name": "DescriptionStyleModel",
          "model_module_version": "1.5.0",
          "state": {
            "_model_module": "@jupyter-widgets/controls",
            "_model_module_version": "1.5.0",
            "_model_name": "DescriptionStyleModel",
            "_view_count": null,
            "_view_module": "@jupyter-widgets/base",
            "_view_module_version": "1.2.0",
            "_view_name": "StyleView",
            "description_width": ""
          }
        },
        "c6e05830d1594d72a623a7bdde063b8f": {
          "model_module": "jupyter-leaflet",
          "model_name": "LeafletMapModel",
          "model_module_version": "^0.18",
          "state": {
            "_dom_classes": [],
            "_model_module": "jupyter-leaflet",
            "_model_module_version": "^0.18",
            "_model_name": "LeafletMapModel",
            "_view_count": null,
            "_view_module": "jupyter-leaflet",
            "_view_module_version": "^0.18",
            "_view_name": "LeafletMapView",
            "bottom": 537059,
            "bounce_at_zoom_limits": true,
            "box_zoom": true,
            "center": [
              -4.277598739558828,
              -73.68307480340626
            ],
            "close_popup_on_click": true,
            "controls": [
              "IPY_MODEL_82e754caeb3f461585f45b3642721286",
              "IPY_MODEL_ab21f8b63a3b4e078c49f7abc5226d87",
              "IPY_MODEL_14c6bca7e34f431193b95822c8d75bea",
              "IPY_MODEL_0ef83cabed42473da9b186ffe641b400",
              "IPY_MODEL_7b464c8acd9742aa956ec0564c1b6a7f",
              "IPY_MODEL_816ae754f111407a96185fe2c36edf73",
              "IPY_MODEL_76fc4ff28b9243b4ae5ad1d57d75f5f3",
              "IPY_MODEL_0d35281fb8604aae88698bb2c4d286ca"
            ],
            "crs": {
              "name": "EPSG3857",
              "custom": false
            },
            "default_style": "IPY_MODEL_a115b6061a054cd786e2bce9d2473bea",
            "double_click_zoom": true,
            "dragging": true,
            "dragging_style": "IPY_MODEL_f6ee0b80f3bc43b5a56014e2a60e26f9",
            "east": -73.33855041986133,
            "fullscreen": false,
            "inertia": true,
            "inertia_deceleration": 3000,
            "inertia_max_speed": 1500,
            "interpolation": "bilinear",
            "keyboard": true,
            "keyboard_pan_offset": 80,
            "keyboard_zoom_offset": 1,
            "layers": [
              "IPY_MODEL_b0e79dd3cd2548d99a202682875170a8",
              "IPY_MODEL_0c9a9a47c7864892a47cf74d7bf926df",
              "IPY_MODEL_29d7b50b101f4e19be1b45c9e067fb02"
            ],
            "layout": "IPY_MODEL_6b0b8624681f40a8b68cc0d482c921af",
            "left": 308666.9893192875,
            "max_zoom": 24,
            "min_zoom": null,
            "modisdate": "2024-02-18",
            "north": -4.174881993074697,
            "options": [
              "bounce_at_zoom_limits",
              "box_zoom",
              "center",
              "close_popup_on_click",
              "double_click_zoom",
              "dragging",
              "fullscreen",
              "inertia",
              "inertia_deceleration",
              "inertia_max_speed",
              "interpolation",
              "keyboard",
              "keyboard_pan_offset",
              "keyboard_zoom_offset",
              "max_zoom",
              "min_zoom",
              "prefer_canvas",
              "scroll_wheel_zoom",
              "tap",
              "tap_tolerance",
              "touch_zoom",
              "world_copy_jump",
              "zoom",
              "zoom_animation_threshold",
              "zoom_delta",
              "zoom_snap"
            ],
            "panes": {},
            "prefer_canvas": false,
            "right": 310673.9893192875,
            "scroll_wheel_zoom": true,
            "south": -4.380301714364084,
            "style": "IPY_MODEL_a115b6061a054cd786e2bce9d2473bea",
            "tap": true,
            "tap_tolerance": 15,
            "top": 536459,
            "touch_zoom": true,
            "west": -74.02759918695118,
            "window_url": "https://2v9dg334kfr-496ff2e9c6d22116-0-colab.googleusercontent.com/outputframe.html?vrz=colab_20240214-060113_RC00_606917857",
            "world_copy_jump": false,
            "zoom": 12,
            "zoom_animation_threshold": 4,
            "zoom_delta": 1,
            "zoom_snap": 1
          }
        },
        "82e754caeb3f461585f45b3642721286": {
          "model_module": "jupyter-leaflet",
          "model_name": "LeafletWidgetControlModel",
          "model_module_version": "^0.18",
          "state": {
            "_model_module": "jupyter-leaflet",
            "_model_module_version": "^0.18",
            "_model_name": "LeafletWidgetControlModel",
            "_view_count": null,
            "_view_module": "jupyter-leaflet",
            "_view_module_version": "^0.18",
            "_view_name": "LeafletWidgetControlView",
            "max_height": null,
            "max_width": null,
            "min_height": null,
            "min_width": null,
            "options": [
              "position",
              "transparent_bg"
            ],
            "position": "topleft",
            "transparent_bg": false,
            "widget": "IPY_MODEL_9ed036d41bc34599911e7e069efcd174"
          }
        },
        "ab21f8b63a3b4e078c49f7abc5226d87": {
          "model_module": "jupyter-leaflet",
          "model_name": "LeafletZoomControlModel",
          "model_module_version": "^0.18",
          "state": {
            "_model_module": "jupyter-leaflet",
            "_model_module_version": "^0.18",
            "_model_name": "LeafletZoomControlModel",
            "_view_count": null,
            "_view_module": "jupyter-leaflet",
            "_view_module_version": "^0.18",
            "_view_name": "LeafletZoomControlView",
            "options": [
              "position",
              "zoom_in_text",
              "zoom_in_title",
              "zoom_out_text",
              "zoom_out_title"
            ],
            "position": "topleft",
            "zoom_in_text": "+",
            "zoom_in_title": "Zoom in",
            "zoom_out_text": "-",
            "zoom_out_title": "Zoom out"
          }
        },
        "14c6bca7e34f431193b95822c8d75bea": {
          "model_module": "jupyter-leaflet",
          "model_name": "LeafletFullScreenControlModel",
          "model_module_version": "^0.18",
          "state": {
            "_model_module": "jupyter-leaflet",
            "_model_module_version": "^0.18",
            "_model_name": "LeafletFullScreenControlModel",
            "_view_count": null,
            "_view_module": "jupyter-leaflet",
            "_view_module_version": "^0.18",
            "_view_name": "LeafletFullScreenControlView",
            "options": [
              "position"
            ],
            "position": "topleft"
          }
        },
        "0ef83cabed42473da9b186ffe641b400": {
          "model_module": "jupyter-leaflet",
          "model_name": "LeafletDrawControlModel",
          "model_module_version": "^0.18",
          "state": {
            "_model_module": "jupyter-leaflet",
            "_model_module_version": "^0.18",
            "_model_name": "LeafletDrawControlModel",
            "_view_count": null,
            "_view_module": "jupyter-leaflet",
            "_view_module_version": "^0.18",
            "_view_name": "LeafletDrawControlView",
            "circle": {},
            "circlemarker": {},
            "data": [],
            "edit": true,
            "marker": {
              "shapeOptions": {
                "color": "#3388ff"
              }
            },
            "options": [
              "position"
            ],
            "polygon": {
              "shapeOptions": {}
            },
            "polyline": {
              "shapeOptions": {}
            },
            "position": "topleft",
            "rectangle": {
              "shapeOptions": {
                "color": "#3388ff"
              }
            },
            "remove": true
          }
        },
        "7b464c8acd9742aa956ec0564c1b6a7f": {
          "model_module": "jupyter-leaflet",
          "model_name": "LeafletScaleControlModel",
          "model_module_version": "^0.18",
          "state": {
            "_model_module": "jupyter-leaflet",
            "_model_module_version": "^0.18",
            "_model_name": "LeafletScaleControlModel",
            "_view_count": null,
            "_view_module": "jupyter-leaflet",
            "_view_module_version": "^0.18",
            "_view_name": "LeafletScaleControlView",
            "imperial": true,
            "max_width": 100,
            "metric": true,
            "options": [
              "imperial",
              "max_width",
              "metric",
              "position",
              "update_when_idle"
            ],
            "position": "bottomleft",
            "update_when_idle": false
          }
        },
        "816ae754f111407a96185fe2c36edf73": {
          "model_module": "jupyter-leaflet",
          "model_name": "LeafletMeasureControlModel",
          "model_module_version": "^0.18",
          "state": {
            "_custom_units": {},
            "_model_module": "jupyter-leaflet",
            "_model_module_version": "^0.18",
            "_model_name": "LeafletMeasureControlModel",
            "_view_count": null,
            "_view_module": "jupyter-leaflet",
            "_view_module_version": "^0.18",
            "_view_name": "LeafletMeasureControlView",
            "active_color": "orange",
            "capture_z_index": 10000,
            "completed_color": "#C8F2BE",
            "options": [
              "active_color",
              "capture_z_index",
              "completed_color",
              "popup_options",
              "position",
              "primary_area_unit",
              "primary_length_unit",
              "secondary_area_unit",
              "secondary_length_unit"
            ],
            "popup_options": {
              "className": "leaflet-measure-resultpopup",
              "autoPanPadding": [
                10,
                10
              ]
            },
            "position": "bottomleft",
            "primary_area_unit": "acres",
            "primary_length_unit": "kilometers",
            "secondary_area_unit": null,
            "secondary_length_unit": null
          }
        },
        "76fc4ff28b9243b4ae5ad1d57d75f5f3": {
          "model_module": "jupyter-leaflet",
          "model_name": "LeafletWidgetControlModel",
          "model_module_version": "^0.18",
          "state": {
            "_model_module": "jupyter-leaflet",
            "_model_module_version": "^0.18",
            "_model_name": "LeafletWidgetControlModel",
            "_view_count": null,
            "_view_module": "jupyter-leaflet",
            "_view_module_version": "^0.18",
            "_view_name": "LeafletWidgetControlView",
            "max_height": null,
            "max_width": null,
            "min_height": null,
            "min_width": null,
            "options": [
              "position",
              "transparent_bg"
            ],
            "position": "topright",
            "transparent_bg": false,
            "widget": "IPY_MODEL_89ba7f777ce94c4aa1b0323dbd04cec0"
          }
        },
        "0d35281fb8604aae88698bb2c4d286ca": {
          "model_module": "jupyter-leaflet",
          "model_name": "LeafletAttributionControlModel",
          "model_module_version": "^0.18",
          "state": {
            "_model_module": "jupyter-leaflet",
            "_model_module_version": "^0.18",
            "_model_name": "LeafletAttributionControlModel",
            "_view_count": null,
            "_view_module": "jupyter-leaflet",
            "_view_module_version": "^0.18",
            "_view_name": "LeafletAttributionControlView",
            "options": [
              "position",
              "prefix"
            ],
            "position": "bottomright",
            "prefix": "ipyleaflet"
          }
        },
        "a115b6061a054cd786e2bce9d2473bea": {
          "model_module": "jupyter-leaflet",
          "model_name": "LeafletMapStyleModel",
          "model_module_version": "^0.18",
          "state": {
            "_model_module": "jupyter-leaflet",
            "_model_module_version": "^0.18",
            "_model_name": "LeafletMapStyleModel",
            "_view_count": null,
            "_view_module": "@jupyter-widgets/base",
            "_view_module_version": "1.2.0",
            "_view_name": "StyleView",
            "cursor": "grab"
          }
        },
        "f6ee0b80f3bc43b5a56014e2a60e26f9": {
          "model_module": "jupyter-leaflet",
          "model_name": "LeafletMapStyleModel",
          "model_module_version": "^0.18",
          "state": {
            "_model_module": "jupyter-leaflet",
            "_model_module_version": "^0.18",
            "_model_name": "LeafletMapStyleModel",
            "_view_count": null,
            "_view_module": "@jupyter-widgets/base",
            "_view_module_version": "1.2.0",
            "_view_name": "StyleView",
            "cursor": "move"
          }
        },
        "b0e79dd3cd2548d99a202682875170a8": {
          "model_module": "jupyter-leaflet",
          "model_name": "LeafletTileLayerModel",
          "model_module_version": "^0.18",
          "state": {
            "_model_module": "jupyter-leaflet",
            "_model_module_version": "^0.18",
            "_model_name": "LeafletTileLayerModel",
            "_view_count": null,
            "_view_module": "jupyter-leaflet",
            "_view_module_version": "^0.18",
            "_view_name": "LeafletTileLayerView",
            "attribution": "&copy; <a href=\"https://www.openstreetmap.org/copyright\">OpenStreetMap</a> contributors",
            "base": true,
            "bottom": true,
            "bounds": null,
            "detect_retina": false,
            "loading": false,
            "max_native_zoom": null,
            "max_zoom": 19,
            "min_native_zoom": null,
            "min_zoom": 1,
            "name": "OpenStreetMap.Mapnik",
            "no_wrap": false,
            "opacity": 1,
            "options": [
              "attribution",
              "bounds",
              "detect_retina",
              "max_native_zoom",
              "max_zoom",
              "min_native_zoom",
              "min_zoom",
              "no_wrap",
              "tile_size",
              "tms",
              "zoom_offset"
            ],
            "pane": "",
            "popup": null,
            "popup_max_height": null,
            "popup_max_width": 300,
            "popup_min_width": 50,
            "show_loading": false,
            "subitems": [],
            "tile_size": 256,
            "tms": false,
            "url": "https://tile.openstreetmap.org/{z}/{x}/{y}.png",
            "visible": true,
            "zoom_offset": 0
          }
        },
        "0c9a9a47c7864892a47cf74d7bf926df": {
          "model_module": "jupyter-leaflet",
          "model_name": "LeafletTileLayerModel",
          "model_module_version": "^0.18",
          "state": {
            "_model_module": "jupyter-leaflet",
            "_model_module_version": "^0.18",
            "_model_name": "LeafletTileLayerModel",
            "_view_count": null,
            "_view_module": "jupyter-leaflet",
            "_view_module_version": "^0.18",
            "_view_name": "LeafletTileLayerView",
            "attribution": "Google Earth Engine",
            "base": false,
            "bottom": true,
            "bounds": null,
            "detect_retina": false,
            "loading": false,
            "max_native_zoom": null,
            "max_zoom": 24,
            "min_native_zoom": null,
            "min_zoom": 0,
            "name": "Despues Tallando",
            "no_wrap": false,
            "opacity": 1,
            "options": [
              "attribution",
              "bounds",
              "detect_retina",
              "max_native_zoom",
              "max_zoom",
              "min_native_zoom",
              "min_zoom",
              "no_wrap",
              "tile_size",
              "tms",
              "zoom_offset"
            ],
            "pane": "",
            "popup": null,
            "popup_max_height": null,
            "popup_max_width": 300,
            "popup_min_width": 50,
            "show_loading": false,
            "subitems": [],
            "tile_size": 256,
            "tms": false,
            "url": "https://earthengine.googleapis.com/v1/projects/earthengine-legacy/maps/623150d15fb41e7ac4d6c0325ec247fd-8554d63cc381866d8c1517d5b1427567/tiles/{z}/{x}/{y}",
            "visible": true,
            "zoom_offset": 0
          }
        },
        "29d7b50b101f4e19be1b45c9e067fb02": {
          "model_module": "jupyter-leaflet",
          "model_name": "LeafletTileLayerModel",
          "model_module_version": "^0.18",
          "state": {
            "_model_module": "jupyter-leaflet",
            "_model_module_version": "^0.18",
            "_model_name": "LeafletTileLayerModel",
            "_view_count": null,
            "_view_module": "jupyter-leaflet",
            "_view_module_version": "^0.18",
            "_view_name": "LeafletTileLayerView",
            "attribution": "Google Earth Engine",
            "base": false,
            "bottom": true,
            "bounds": null,
            "detect_retina": false,
            "loading": false,
            "max_native_zoom": null,
            "max_zoom": 24,
            "min_native_zoom": null,
            "min_zoom": 0,
            "name": "Mask Outline",
            "no_wrap": false,
            "opacity": 1,
            "options": [
              "attribution",
              "bounds",
              "detect_retina",
              "max_native_zoom",
              "max_zoom",
              "min_native_zoom",
              "min_zoom",
              "no_wrap",
              "tile_size",
              "tms",
              "zoom_offset"
            ],
            "pane": "",
            "popup": null,
            "popup_max_height": null,
            "popup_max_width": 300,
            "popup_min_width": 50,
            "show_loading": false,
            "subitems": [],
            "tile_size": 256,
            "tms": false,
            "url": "https://earthengine.googleapis.com/v1/projects/earthengine-legacy/maps/94ee94ba14213d79cc3eada99b1e0d57-dcf08b4ced30a640c0b2397cf746aec2/tiles/{z}/{x}/{y}",
            "visible": true,
            "zoom_offset": 0
          }
        },
        "6b0b8624681f40a8b68cc0d482c921af": {
          "model_module": "@jupyter-widgets/base",
          "model_name": "LayoutModel",
          "model_module_version": "1.2.0",
          "state": {
            "_model_module": "@jupyter-widgets/base",
            "_model_module_version": "1.2.0",
            "_model_name": "LayoutModel",
            "_view_count": null,
            "_view_module": "@jupyter-widgets/base",
            "_view_module_version": "1.2.0",
            "_view_name": "LayoutView",
            "align_content": null,
            "align_items": null,
            "align_self": null,
            "border": null,
            "bottom": null,
            "display": null,
            "flex": null,
            "flex_flow": null,
            "grid_area": null,
            "grid_auto_columns": null,
            "grid_auto_flow": null,
            "grid_auto_rows": null,
            "grid_column": null,
            "grid_gap": null,
            "grid_row": null,
            "grid_template_areas": null,
            "grid_template_columns": null,
            "grid_template_rows": null,
            "height": "600px",
            "justify_content": null,
            "justify_items": null,
            "left": null,
            "margin": null,
            "max_height": null,
            "max_width": null,
            "min_height": null,
            "min_width": null,
            "object_fit": null,
            "object_position": null,
            "order": null,
            "overflow": null,
            "overflow_x": null,
            "overflow_y": null,
            "padding": null,
            "right": null,
            "top": null,
            "visibility": null,
            "width": null
          }
        },
        "a3b0470bcd094b37807315b62f919b77": {
          "model_module": "jupyter-leaflet",
          "model_name": "LeafletMapStyleModel",
          "model_module_version": "^0.18",
          "state": {
            "_model_module": "jupyter-leaflet",
            "_model_module_version": "^0.18",
            "_model_name": "LeafletMapStyleModel",
            "_view_count": null,
            "_view_module": "@jupyter-widgets/base",
            "_view_module_version": "1.2.0",
            "_view_name": "StyleView",
            "cursor": "grab"
          }
        },
        "9ed036d41bc34599911e7e069efcd174": {
          "model_module": "@jupyter-widgets/controls",
          "model_name": "HBoxModel",
          "model_module_version": "1.5.0",
          "state": {
            "_dom_classes": [
              "geemap-colab"
            ],
            "_model_module": "@jupyter-widgets/controls",
            "_model_module_version": "1.5.0",
            "_model_name": "HBoxModel",
            "_view_count": null,
            "_view_module": "@jupyter-widgets/controls",
            "_view_module_version": "1.5.0",
            "_view_name": "HBoxView",
            "box_style": "",
            "children": [
              "IPY_MODEL_bebddd35cd7c4bd1a1abb078519a1976"
            ],
            "layout": "IPY_MODEL_d730ea04ca914c37ae02a73319aab93f"
          }
        },
        "89ba7f777ce94c4aa1b0323dbd04cec0": {
          "model_module": "@jupyter-widgets/controls",
          "model_name": "VBoxModel",
          "model_module_version": "1.5.0",
          "state": {
            "_dom_classes": [
              "geemap-colab"
            ],
            "_model_module": "@jupyter-widgets/controls",
            "_model_module_version": "1.5.0",
            "_model_name": "VBoxModel",
            "_view_count": null,
            "_view_module": "@jupyter-widgets/controls",
            "_view_module_version": "1.5.0",
            "_view_name": "VBoxView",
            "box_style": "",
            "children": [
              "IPY_MODEL_cfed3f84b53347ca9e3ca8f275f2dc34"
            ],
            "layout": "IPY_MODEL_a5b42f2096c940b0aaecf7732496ba5d"
          }
        },
        "bebddd35cd7c4bd1a1abb078519a1976": {
          "model_module": "@jupyter-widgets/controls",
          "model_name": "ToggleButtonModel",
          "model_module_version": "1.5.0",
          "state": {
            "_dom_classes": [],
            "_model_module": "@jupyter-widgets/controls",
            "_model_module_version": "1.5.0",
            "_model_name": "ToggleButtonModel",
            "_view_count": null,
            "_view_module": "@jupyter-widgets/controls",
            "_view_module_version": "1.5.0",
            "_view_name": "ToggleButtonView",
            "button_style": "",
            "description": "",
            "description_tooltip": null,
            "disabled": false,
            "icon": "globe",
            "layout": "IPY_MODEL_8d067bc020424fdfa00bd7cee33e160f",
            "style": "IPY_MODEL_4fd330100cbb45d491827b9bf6493056",
            "tooltip": "Search location/data",
            "value": false
          }
        },
        "d730ea04ca914c37ae02a73319aab93f": {
          "model_module": "@jupyter-widgets/base",
          "model_name": "LayoutModel",
          "model_module_version": "1.2.0",
          "state": {
            "_model_module": "@jupyter-widgets/base",
            "_model_module_version": "1.2.0",
            "_model_name": "LayoutModel",
            "_view_count": null,
            "_view_module": "@jupyter-widgets/base",
            "_view_module_version": "1.2.0",
            "_view_name": "LayoutView",
            "align_content": null,
            "align_items": null,
            "align_self": null,
            "border": null,
            "bottom": null,
            "display": null,
            "flex": null,
            "flex_flow": null,
            "grid_area": null,
            "grid_auto_columns": null,
            "grid_auto_flow": null,
            "grid_auto_rows": null,
            "grid_column": null,
            "grid_gap": null,
            "grid_row": null,
            "grid_template_areas": null,
            "grid_template_columns": null,
            "grid_template_rows": null,
            "height": null,
            "justify_content": null,
            "justify_items": null,
            "left": null,
            "margin": null,
            "max_height": null,
            "max_width": null,
            "min_height": null,
            "min_width": null,
            "object_fit": null,
            "object_position": null,
            "order": null,
            "overflow": null,
            "overflow_x": null,
            "overflow_y": null,
            "padding": null,
            "right": null,
            "top": null,
            "visibility": null,
            "width": null
          }
        },
        "cfed3f84b53347ca9e3ca8f275f2dc34": {
          "model_module": "@jupyter-widgets/controls",
          "model_name": "ToggleButtonModel",
          "model_module_version": "1.5.0",
          "state": {
            "_dom_classes": [],
            "_model_module": "@jupyter-widgets/controls",
            "_model_module_version": "1.5.0",
            "_model_name": "ToggleButtonModel",
            "_view_count": null,
            "_view_module": "@jupyter-widgets/controls",
            "_view_module_version": "1.5.0",
            "_view_name": "ToggleButtonView",
            "button_style": "",
            "description": "",
            "description_tooltip": null,
            "disabled": false,
            "icon": "wrench",
            "layout": "IPY_MODEL_47fe104251184f2f9e7fbbff42133e05",
            "style": "IPY_MODEL_fdccc21d5a9b434bb8b8b0d139458dee",
            "tooltip": "Toolbar",
            "value": false
          }
        },
        "a5b42f2096c940b0aaecf7732496ba5d": {
          "model_module": "@jupyter-widgets/base",
          "model_name": "LayoutModel",
          "model_module_version": "1.2.0",
          "state": {
            "_model_module": "@jupyter-widgets/base",
            "_model_module_version": "1.2.0",
            "_model_name": "LayoutModel",
            "_view_count": null,
            "_view_module": "@jupyter-widgets/base",
            "_view_module_version": "1.2.0",
            "_view_name": "LayoutView",
            "align_content": null,
            "align_items": null,
            "align_self": null,
            "border": null,
            "bottom": null,
            "display": null,
            "flex": null,
            "flex_flow": null,
            "grid_area": null,
            "grid_auto_columns": null,
            "grid_auto_flow": null,
            "grid_auto_rows": null,
            "grid_column": null,
            "grid_gap": null,
            "grid_row": null,
            "grid_template_areas": null,
            "grid_template_columns": null,
            "grid_template_rows": null,
            "height": null,
            "justify_content": null,
            "justify_items": null,
            "left": null,
            "margin": null,
            "max_height": null,
            "max_width": null,
            "min_height": null,
            "min_width": null,
            "object_fit": null,
            "object_position": null,
            "order": null,
            "overflow": null,
            "overflow_x": null,
            "overflow_y": null,
            "padding": null,
            "right": null,
            "top": null,
            "visibility": null,
            "width": null
          }
        },
        "8d067bc020424fdfa00bd7cee33e160f": {
          "model_module": "@jupyter-widgets/base",
          "model_name": "LayoutModel",
          "model_module_version": "1.2.0",
          "state": {
            "_model_module": "@jupyter-widgets/base",
            "_model_module_version": "1.2.0",
            "_model_name": "LayoutModel",
            "_view_count": null,
            "_view_module": "@jupyter-widgets/base",
            "_view_module_version": "1.2.0",
            "_view_name": "LayoutView",
            "align_content": null,
            "align_items": null,
            "align_self": null,
            "border": null,
            "bottom": null,
            "display": null,
            "flex": null,
            "flex_flow": null,
            "grid_area": null,
            "grid_auto_columns": null,
            "grid_auto_flow": null,
            "grid_auto_rows": null,
            "grid_column": null,
            "grid_gap": null,
            "grid_row": null,
            "grid_template_areas": null,
            "grid_template_columns": null,
            "grid_template_rows": null,
            "height": "28px",
            "justify_content": null,
            "justify_items": null,
            "left": null,
            "margin": null,
            "max_height": null,
            "max_width": null,
            "min_height": null,
            "min_width": null,
            "object_fit": null,
            "object_position": null,
            "order": null,
            "overflow": null,
            "overflow_x": null,
            "overflow_y": null,
            "padding": "0px 0px 0px 4px",
            "right": null,
            "top": null,
            "visibility": null,
            "width": "28px"
          }
        },
        "4fd330100cbb45d491827b9bf6493056": {
          "model_module": "@jupyter-widgets/controls",
          "model_name": "DescriptionStyleModel",
          "model_module_version": "1.5.0",
          "state": {
            "_model_module": "@jupyter-widgets/controls",
            "_model_module_version": "1.5.0",
            "_model_name": "DescriptionStyleModel",
            "_view_count": null,
            "_view_module": "@jupyter-widgets/base",
            "_view_module_version": "1.2.0",
            "_view_name": "StyleView",
            "description_width": ""
          }
        },
        "47fe104251184f2f9e7fbbff42133e05": {
          "model_module": "@jupyter-widgets/base",
          "model_name": "LayoutModel",
          "model_module_version": "1.2.0",
          "state": {
            "_model_module": "@jupyter-widgets/base",
            "_model_module_version": "1.2.0",
            "_model_name": "LayoutModel",
            "_view_count": null,
            "_view_module": "@jupyter-widgets/base",
            "_view_module_version": "1.2.0",
            "_view_name": "LayoutView",
            "align_content": null,
            "align_items": null,
            "align_self": null,
            "border": null,
            "bottom": null,
            "display": null,
            "flex": null,
            "flex_flow": null,
            "grid_area": null,
            "grid_auto_columns": null,
            "grid_auto_flow": null,
            "grid_auto_rows": null,
            "grid_column": null,
            "grid_gap": null,
            "grid_row": null,
            "grid_template_areas": null,
            "grid_template_columns": null,
            "grid_template_rows": null,
            "height": "28px",
            "justify_content": null,
            "justify_items": null,
            "left": null,
            "margin": null,
            "max_height": null,
            "max_width": null,
            "min_height": null,
            "min_width": null,
            "object_fit": null,
            "object_position": null,
            "order": null,
            "overflow": null,
            "overflow_x": null,
            "overflow_y": null,
            "padding": "0px 0px 0px 4px",
            "right": null,
            "top": null,
            "visibility": null,
            "width": "28px"
          }
        },
        "fdccc21d5a9b434bb8b8b0d139458dee": {
          "model_module": "@jupyter-widgets/controls",
          "model_name": "DescriptionStyleModel",
          "model_module_version": "1.5.0",
          "state": {
            "_model_module": "@jupyter-widgets/controls",
            "_model_module_version": "1.5.0",
            "_model_name": "DescriptionStyleModel",
            "_view_count": null,
            "_view_module": "@jupyter-widgets/base",
            "_view_module_version": "1.2.0",
            "_view_name": "StyleView",
            "description_width": ""
          }
        }
      }
    }
  },
  "cells": [
    {
      "cell_type": "markdown",
      "metadata": {
        "id": "view-in-github",
        "colab_type": "text"
      },
      "source": [
        "<a href=\"https://colab.research.google.com/github/emilycalvert/scripts_cite/blob/main/verficar_tallando.ipynb\" target=\"_parent\"><img src=\"https://colab.research.google.com/assets/colab-badge.svg\" alt=\"Open In Colab\"/></a>"
      ]
    },
    {
      "cell_type": "markdown",
      "source": [
        "# Alistar entorno."
      ],
      "metadata": {
        "id": "d4es-WyE3Srw"
      }
    },
    {
      "cell_type": "code",
      "source": [
        "!pip install numpy\n",
        "!pip install geopy\n",
        "!pip install pandas\n",
        "!pip install pyproj\n",
        "!pip install geemap\n",
        "!pip install timedelta"
      ],
      "metadata": {
        "colab": {
          "base_uri": "https://localhost:8080/",
          "height": 1000
        },
        "id": "z2gAjbKYA5RA",
        "outputId": "3407511b-2647-4be9-ca00-f3520981c264",
        "collapsed": true
      },
      "execution_count": null,
      "outputs": [
        {
          "output_type": "display_data",
          "data": {
            "text/plain": [
              "<IPython.core.display.HTML object>"
            ],
            "text/html": [
              "\n",
              "            <style>\n",
              "                .geemap-dark {\n",
              "                    --jp-widgets-color: white;\n",
              "                    --jp-widgets-label-color: white;\n",
              "                    --jp-ui-font-color1: white;\n",
              "                    --jp-layout-color2: #454545;\n",
              "                    background-color: #383838;\n",
              "                }\n",
              "                    \n",
              "                .geemap-dark .jupyter-button {\n",
              "                    --jp-layout-color3: #383838;\n",
              "                }\n",
              "                \n",
              "                .geemap-colab {\n",
              "                    background-color: var(--colab-primary-surface-color, white);\n",
              "                }\n",
              "                    \n",
              "                .geemap-colab .jupyter-button {\n",
              "                    --jp-layout-color3: var(--colab-primary-surface-color, white);\n",
              "                }\n",
              "            </style>\n",
              "            "
            ]
          },
          "metadata": {}
        },
        {
          "output_type": "stream",
          "name": "stdout",
          "text": [
            "Requirement already satisfied: numpy in /usr/local/lib/python3.10/dist-packages (1.25.2)\n",
            "Requirement already satisfied: geopy in /usr/local/lib/python3.10/dist-packages (2.3.0)\n",
            "Requirement already satisfied: geographiclib<3,>=1.52 in /usr/local/lib/python3.10/dist-packages (from geopy) (2.0)\n",
            "Requirement already satisfied: pandas in /usr/local/lib/python3.10/dist-packages (1.5.3)\n",
            "Requirement already satisfied: python-dateutil>=2.8.1 in /usr/local/lib/python3.10/dist-packages (from pandas) (2.8.2)\n",
            "Requirement already satisfied: pytz>=2020.1 in /usr/local/lib/python3.10/dist-packages (from pandas) (2023.4)\n",
            "Requirement already satisfied: numpy>=1.21.0 in /usr/local/lib/python3.10/dist-packages (from pandas) (1.25.2)\n",
            "Requirement already satisfied: six>=1.5 in /usr/local/lib/python3.10/dist-packages (from python-dateutil>=2.8.1->pandas) (1.16.0)\n",
            "Requirement already satisfied: pyproj in /usr/local/lib/python3.10/dist-packages (3.6.1)\n",
            "Requirement already satisfied: certifi in /usr/local/lib/python3.10/dist-packages (from pyproj) (2024.2.2)\n",
            "Requirement already satisfied: geemap in /usr/local/lib/python3.10/dist-packages (0.30.4)\n",
            "Requirement already satisfied: bqplot in /usr/local/lib/python3.10/dist-packages (from geemap) (0.12.42)\n",
            "Requirement already satisfied: colour in /usr/local/lib/python3.10/dist-packages (from geemap) (0.1.5)\n",
            "Requirement already satisfied: earthengine-api>=0.1.347 in /usr/local/lib/python3.10/dist-packages (from geemap) (0.1.389)\n",
            "Requirement already satisfied: eerepr>=0.0.4 in /usr/local/lib/python3.10/dist-packages (from geemap) (0.0.4)\n",
            "Requirement already satisfied: folium>=0.13.0 in /usr/local/lib/python3.10/dist-packages (from geemap) (0.14.0)\n",
            "Requirement already satisfied: geocoder in /usr/local/lib/python3.10/dist-packages (from geemap) (1.38.1)\n",
            "Requirement already satisfied: ipyevents in /usr/local/lib/python3.10/dist-packages (from geemap) (2.0.2)\n",
            "Requirement already satisfied: ipyfilechooser>=0.6.0 in /usr/local/lib/python3.10/dist-packages (from geemap) (0.6.0)\n",
            "Requirement already satisfied: ipyleaflet>=0.17.0 in /usr/local/lib/python3.10/dist-packages (from geemap) (0.18.2)\n",
            "Requirement already satisfied: ipytree in /usr/local/lib/python3.10/dist-packages (from geemap) (0.2.2)\n",
            "Requirement already satisfied: matplotlib in /usr/local/lib/python3.10/dist-packages (from geemap) (3.7.1)\n",
            "Requirement already satisfied: numpy in /usr/local/lib/python3.10/dist-packages (from geemap) (1.25.2)\n",
            "Requirement already satisfied: pandas in /usr/local/lib/python3.10/dist-packages (from geemap) (1.5.3)\n",
            "Requirement already satisfied: plotly in /usr/local/lib/python3.10/dist-packages (from geemap) (5.15.0)\n",
            "Requirement already satisfied: pyperclip in /usr/local/lib/python3.10/dist-packages (from geemap) (1.8.2)\n",
            "Requirement already satisfied: pyshp>=2.1.3 in /usr/local/lib/python3.10/dist-packages (from geemap) (2.3.1)\n",
            "Requirement already satisfied: python-box in /usr/local/lib/python3.10/dist-packages (from geemap) (7.1.1)\n",
            "Requirement already satisfied: scooby in /usr/local/lib/python3.10/dist-packages (from geemap) (0.9.2)\n",
            "Requirement already satisfied: google-cloud-storage in /usr/local/lib/python3.10/dist-packages (from earthengine-api>=0.1.347->geemap) (2.8.0)\n",
            "Requirement already satisfied: google-api-python-client>=1.12.1 in /usr/local/lib/python3.10/dist-packages (from earthengine-api>=0.1.347->geemap) (2.84.0)\n",
            "Requirement already satisfied: google-auth>=1.4.1 in /usr/local/lib/python3.10/dist-packages (from earthengine-api>=0.1.347->geemap) (2.27.0)\n",
            "Requirement already satisfied: google-auth-httplib2>=0.0.3 in /usr/local/lib/python3.10/dist-packages (from earthengine-api>=0.1.347->geemap) (0.1.1)\n",
            "Requirement already satisfied: httplib2<1dev,>=0.9.2 in /usr/local/lib/python3.10/dist-packages (from earthengine-api>=0.1.347->geemap) (0.22.0)\n",
            "Requirement already satisfied: requests in /usr/local/lib/python3.10/dist-packages (from earthengine-api>=0.1.347->geemap) (2.31.0)\n",
            "Requirement already satisfied: branca>=0.6.0 in /usr/local/lib/python3.10/dist-packages (from folium>=0.13.0->geemap) (0.7.1)\n",
            "Requirement already satisfied: jinja2>=2.9 in /usr/local/lib/python3.10/dist-packages (from folium>=0.13.0->geemap) (3.1.3)\n",
            "Requirement already satisfied: ipywidgets in /usr/local/lib/python3.10/dist-packages (from ipyfilechooser>=0.6.0->geemap) (7.7.1)\n",
            "Requirement already satisfied: traittypes<3,>=0.2.1 in /usr/local/lib/python3.10/dist-packages (from ipyleaflet>=0.17.0->geemap) (0.2.1)\n",
            "Requirement already satisfied: xyzservices>=2021.8.1 in /usr/local/lib/python3.10/dist-packages (from ipyleaflet>=0.17.0->geemap) (2023.10.1)\n",
            "Requirement already satisfied: traitlets>=4.3.0 in /usr/local/lib/python3.10/dist-packages (from bqplot->geemap) (5.7.1)\n",
            "Requirement already satisfied: python-dateutil>=2.8.1 in /usr/local/lib/python3.10/dist-packages (from pandas->geemap) (2.8.2)\n",
            "Requirement already satisfied: pytz>=2020.1 in /usr/local/lib/python3.10/dist-packages (from pandas->geemap) (2023.4)\n",
            "Requirement already satisfied: click in /usr/local/lib/python3.10/dist-packages (from geocoder->geemap) (8.1.7)\n",
            "Requirement already satisfied: future in /usr/local/lib/python3.10/dist-packages (from geocoder->geemap) (0.18.3)\n",
            "Requirement already satisfied: ratelim in /usr/local/lib/python3.10/dist-packages (from geocoder->geemap) (0.1.6)\n",
            "Requirement already satisfied: six in /usr/local/lib/python3.10/dist-packages (from geocoder->geemap) (1.16.0)\n",
            "Requirement already satisfied: contourpy>=1.0.1 in /usr/local/lib/python3.10/dist-packages (from matplotlib->geemap) (1.2.0)\n",
            "Requirement already satisfied: cycler>=0.10 in /usr/local/lib/python3.10/dist-packages (from matplotlib->geemap) (0.12.1)\n",
            "Requirement already satisfied: fonttools>=4.22.0 in /usr/local/lib/python3.10/dist-packages (from matplotlib->geemap) (4.48.1)\n",
            "Requirement already satisfied: kiwisolver>=1.0.1 in /usr/local/lib/python3.10/dist-packages (from matplotlib->geemap) (1.4.5)\n",
            "Requirement already satisfied: packaging>=20.0 in /usr/local/lib/python3.10/dist-packages (from matplotlib->geemap) (23.2)\n",
            "Requirement already satisfied: pillow>=6.2.0 in /usr/local/lib/python3.10/dist-packages (from matplotlib->geemap) (9.4.0)\n",
            "Requirement already satisfied: pyparsing>=2.3.1 in /usr/local/lib/python3.10/dist-packages (from matplotlib->geemap) (3.1.1)\n",
            "Requirement already satisfied: tenacity>=6.2.0 in /usr/local/lib/python3.10/dist-packages (from plotly->geemap) (8.2.3)\n",
            "Requirement already satisfied: google-api-core!=2.0.*,!=2.1.*,!=2.2.*,!=2.3.0,<3.0.0dev,>=1.31.5 in /usr/local/lib/python3.10/dist-packages (from google-api-python-client>=1.12.1->earthengine-api>=0.1.347->geemap) (2.11.1)\n",
            "Requirement already satisfied: uritemplate<5,>=3.0.1 in /usr/local/lib/python3.10/dist-packages (from google-api-python-client>=1.12.1->earthengine-api>=0.1.347->geemap) (4.1.1)\n",
            "Requirement already satisfied: cachetools<6.0,>=2.0.0 in /usr/local/lib/python3.10/dist-packages (from google-auth>=1.4.1->earthengine-api>=0.1.347->geemap) (5.3.2)\n",
            "Requirement already satisfied: pyasn1-modules>=0.2.1 in /usr/local/lib/python3.10/dist-packages (from google-auth>=1.4.1->earthengine-api>=0.1.347->geemap) (0.3.0)\n",
            "Requirement already satisfied: rsa<5,>=3.1.4 in /usr/local/lib/python3.10/dist-packages (from google-auth>=1.4.1->earthengine-api>=0.1.347->geemap) (4.9)\n",
            "Requirement already satisfied: ipykernel>=4.5.1 in /usr/local/lib/python3.10/dist-packages (from ipywidgets->ipyfilechooser>=0.6.0->geemap) (5.5.6)\n",
            "Requirement already satisfied: ipython-genutils~=0.2.0 in /usr/local/lib/python3.10/dist-packages (from ipywidgets->ipyfilechooser>=0.6.0->geemap) (0.2.0)\n",
            "Requirement already satisfied: widgetsnbextension~=3.6.0 in /usr/local/lib/python3.10/dist-packages (from ipywidgets->ipyfilechooser>=0.6.0->geemap) (3.6.6)\n",
            "Requirement already satisfied: ipython>=4.0.0 in /usr/local/lib/python3.10/dist-packages (from ipywidgets->ipyfilechooser>=0.6.0->geemap) (7.34.0)\n",
            "Requirement already satisfied: jupyterlab-widgets>=1.0.0 in /usr/local/lib/python3.10/dist-packages (from ipywidgets->ipyfilechooser>=0.6.0->geemap) (3.0.10)\n",
            "Requirement already satisfied: MarkupSafe>=2.0 in /usr/local/lib/python3.10/dist-packages (from jinja2>=2.9->folium>=0.13.0->geemap) (2.1.5)\n",
            "Requirement already satisfied: google-cloud-core<3.0dev,>=2.3.0 in /usr/local/lib/python3.10/dist-packages (from google-cloud-storage->earthengine-api>=0.1.347->geemap) (2.3.3)\n",
            "Requirement already satisfied: google-resumable-media>=2.3.2 in /usr/local/lib/python3.10/dist-packages (from google-cloud-storage->earthengine-api>=0.1.347->geemap) (2.7.0)\n",
            "Requirement already satisfied: charset-normalizer<4,>=2 in /usr/local/lib/python3.10/dist-packages (from requests->earthengine-api>=0.1.347->geemap) (3.3.2)\n",
            "Requirement already satisfied: idna<4,>=2.5 in /usr/local/lib/python3.10/dist-packages (from requests->earthengine-api>=0.1.347->geemap) (3.6)\n",
            "Requirement already satisfied: urllib3<3,>=1.21.1 in /usr/local/lib/python3.10/dist-packages (from requests->earthengine-api>=0.1.347->geemap) (2.0.7)\n",
            "Requirement already satisfied: certifi>=2017.4.17 in /usr/local/lib/python3.10/dist-packages (from requests->earthengine-api>=0.1.347->geemap) (2024.2.2)\n",
            "Requirement already satisfied: decorator in /usr/local/lib/python3.10/dist-packages (from ratelim->geocoder->geemap) (4.4.2)\n",
            "Requirement already satisfied: googleapis-common-protos<2.0.dev0,>=1.56.2 in /usr/local/lib/python3.10/dist-packages (from google-api-core!=2.0.*,!=2.1.*,!=2.2.*,!=2.3.0,<3.0.0dev,>=1.31.5->google-api-python-client>=1.12.1->earthengine-api>=0.1.347->geemap) (1.62.0)\n",
            "Requirement already satisfied: protobuf!=3.20.0,!=3.20.1,!=4.21.0,!=4.21.1,!=4.21.2,!=4.21.3,!=4.21.4,!=4.21.5,<5.0.0.dev0,>=3.19.5 in /usr/local/lib/python3.10/dist-packages (from google-api-core!=2.0.*,!=2.1.*,!=2.2.*,!=2.3.0,<3.0.0dev,>=1.31.5->google-api-python-client>=1.12.1->earthengine-api>=0.1.347->geemap) (3.20.3)\n",
            "Requirement already satisfied: google-crc32c<2.0dev,>=1.0 in /usr/local/lib/python3.10/dist-packages (from google-resumable-media>=2.3.2->google-cloud-storage->earthengine-api>=0.1.347->geemap) (1.5.0)\n",
            "Requirement already satisfied: jupyter-client in /usr/local/lib/python3.10/dist-packages (from ipykernel>=4.5.1->ipywidgets->ipyfilechooser>=0.6.0->geemap) (6.1.12)\n",
            "Requirement already satisfied: tornado>=4.2 in /usr/local/lib/python3.10/dist-packages (from ipykernel>=4.5.1->ipywidgets->ipyfilechooser>=0.6.0->geemap) (6.3.2)\n",
            "Requirement already satisfied: setuptools>=18.5 in /usr/local/lib/python3.10/dist-packages (from ipython>=4.0.0->ipywidgets->ipyfilechooser>=0.6.0->geemap) (67.7.2)\n",
            "Collecting jedi>=0.16 (from ipython>=4.0.0->ipywidgets->ipyfilechooser>=0.6.0->geemap)\n",
            "  Downloading jedi-0.19.1-py2.py3-none-any.whl (1.6 MB)\n",
            "\u001b[2K     \u001b[90m━━━━━━━━━━━━━━━━━━━━━━━━━━━━━━━━━━━━━━━━\u001b[0m \u001b[32m1.6/1.6 MB\u001b[0m \u001b[31m9.5 MB/s\u001b[0m eta \u001b[36m0:00:00\u001b[0m\n",
            "\u001b[?25hRequirement already satisfied: pickleshare in /usr/local/lib/python3.10/dist-packages (from ipython>=4.0.0->ipywidgets->ipyfilechooser>=0.6.0->geemap) (0.7.5)\n",
            "Requirement already satisfied: prompt-toolkit!=3.0.0,!=3.0.1,<3.1.0,>=2.0.0 in /usr/local/lib/python3.10/dist-packages (from ipython>=4.0.0->ipywidgets->ipyfilechooser>=0.6.0->geemap) (3.0.43)\n",
            "Requirement already satisfied: pygments in /usr/local/lib/python3.10/dist-packages (from ipython>=4.0.0->ipywidgets->ipyfilechooser>=0.6.0->geemap) (2.16.1)\n",
            "Requirement already satisfied: backcall in /usr/local/lib/python3.10/dist-packages (from ipython>=4.0.0->ipywidgets->ipyfilechooser>=0.6.0->geemap) (0.2.0)\n",
            "Requirement already satisfied: matplotlib-inline in /usr/local/lib/python3.10/dist-packages (from ipython>=4.0.0->ipywidgets->ipyfilechooser>=0.6.0->geemap) (0.1.6)\n",
            "Requirement already satisfied: pexpect>4.3 in /usr/local/lib/python3.10/dist-packages (from ipython>=4.0.0->ipywidgets->ipyfilechooser>=0.6.0->geemap) (4.9.0)\n",
            "Requirement already satisfied: pyasn1<0.6.0,>=0.4.6 in /usr/local/lib/python3.10/dist-packages (from pyasn1-modules>=0.2.1->google-auth>=1.4.1->earthengine-api>=0.1.347->geemap) (0.5.1)\n",
            "Requirement already satisfied: notebook>=4.4.1 in /usr/local/lib/python3.10/dist-packages (from widgetsnbextension~=3.6.0->ipywidgets->ipyfilechooser>=0.6.0->geemap) (6.5.5)\n",
            "Requirement already satisfied: parso<0.9.0,>=0.8.3 in /usr/local/lib/python3.10/dist-packages (from jedi>=0.16->ipython>=4.0.0->ipywidgets->ipyfilechooser>=0.6.0->geemap) (0.8.3)\n",
            "Requirement already satisfied: pyzmq<25,>=17 in /usr/local/lib/python3.10/dist-packages (from notebook>=4.4.1->widgetsnbextension~=3.6.0->ipywidgets->ipyfilechooser>=0.6.0->geemap) (23.2.1)\n",
            "Requirement already satisfied: argon2-cffi in /usr/local/lib/python3.10/dist-packages (from notebook>=4.4.1->widgetsnbextension~=3.6.0->ipywidgets->ipyfilechooser>=0.6.0->geemap) (23.1.0)\n",
            "Requirement already satisfied: jupyter-core>=4.6.1 in /usr/local/lib/python3.10/dist-packages (from notebook>=4.4.1->widgetsnbextension~=3.6.0->ipywidgets->ipyfilechooser>=0.6.0->geemap) (5.7.1)\n",
            "Requirement already satisfied: nbformat in /usr/local/lib/python3.10/dist-packages (from notebook>=4.4.1->widgetsnbextension~=3.6.0->ipywidgets->ipyfilechooser>=0.6.0->geemap) (5.9.2)\n",
            "Requirement already satisfied: nbconvert>=5 in /usr/local/lib/python3.10/dist-packages (from notebook>=4.4.1->widgetsnbextension~=3.6.0->ipywidgets->ipyfilechooser>=0.6.0->geemap) (6.5.4)\n",
            "Requirement already satisfied: nest-asyncio>=1.5 in /usr/local/lib/python3.10/dist-packages (from notebook>=4.4.1->widgetsnbextension~=3.6.0->ipywidgets->ipyfilechooser>=0.6.0->geemap) (1.6.0)\n",
            "Requirement already satisfied: Send2Trash>=1.8.0 in /usr/local/lib/python3.10/dist-packages (from notebook>=4.4.1->widgetsnbextension~=3.6.0->ipywidgets->ipyfilechooser>=0.6.0->geemap) (1.8.2)\n",
            "Requirement already satisfied: terminado>=0.8.3 in /usr/local/lib/python3.10/dist-packages (from notebook>=4.4.1->widgetsnbextension~=3.6.0->ipywidgets->ipyfilechooser>=0.6.0->geemap) (0.18.0)\n",
            "Requirement already satisfied: prometheus-client in /usr/local/lib/python3.10/dist-packages (from notebook>=4.4.1->widgetsnbextension~=3.6.0->ipywidgets->ipyfilechooser>=0.6.0->geemap) (0.19.0)\n",
            "Requirement already satisfied: nbclassic>=0.4.7 in /usr/local/lib/python3.10/dist-packages (from notebook>=4.4.1->widgetsnbextension~=3.6.0->ipywidgets->ipyfilechooser>=0.6.0->geemap) (1.0.0)\n",
            "Requirement already satisfied: ptyprocess>=0.5 in /usr/local/lib/python3.10/dist-packages (from pexpect>4.3->ipython>=4.0.0->ipywidgets->ipyfilechooser>=0.6.0->geemap) (0.7.0)\n",
            "Requirement already satisfied: wcwidth in /usr/local/lib/python3.10/dist-packages (from prompt-toolkit!=3.0.0,!=3.0.1,<3.1.0,>=2.0.0->ipython>=4.0.0->ipywidgets->ipyfilechooser>=0.6.0->geemap) (0.2.13)\n",
            "Requirement already satisfied: platformdirs>=2.5 in /usr/local/lib/python3.10/dist-packages (from jupyter-core>=4.6.1->notebook>=4.4.1->widgetsnbextension~=3.6.0->ipywidgets->ipyfilechooser>=0.6.0->geemap) (4.2.0)\n",
            "Requirement already satisfied: jupyter-server>=1.8 in /usr/local/lib/python3.10/dist-packages (from nbclassic>=0.4.7->notebook>=4.4.1->widgetsnbextension~=3.6.0->ipywidgets->ipyfilechooser>=0.6.0->geemap) (1.24.0)\n",
            "Requirement already satisfied: notebook-shim>=0.2.3 in /usr/local/lib/python3.10/dist-packages (from nbclassic>=0.4.7->notebook>=4.4.1->widgetsnbextension~=3.6.0->ipywidgets->ipyfilechooser>=0.6.0->geemap) (0.2.3)\n",
            "Requirement already satisfied: lxml in /usr/local/lib/python3.10/dist-packages (from nbconvert>=5->notebook>=4.4.1->widgetsnbextension~=3.6.0->ipywidgets->ipyfilechooser>=0.6.0->geemap) (4.9.4)\n",
            "Requirement already satisfied: beautifulsoup4 in /usr/local/lib/python3.10/dist-packages (from nbconvert>=5->notebook>=4.4.1->widgetsnbextension~=3.6.0->ipywidgets->ipyfilechooser>=0.6.0->geemap) (4.12.3)\n",
            "Requirement already satisfied: bleach in /usr/local/lib/python3.10/dist-packages (from nbconvert>=5->notebook>=4.4.1->widgetsnbextension~=3.6.0->ipywidgets->ipyfilechooser>=0.6.0->geemap) (6.1.0)\n",
            "Requirement already satisfied: defusedxml in /usr/local/lib/python3.10/dist-packages (from nbconvert>=5->notebook>=4.4.1->widgetsnbextension~=3.6.0->ipywidgets->ipyfilechooser>=0.6.0->geemap) (0.7.1)\n",
            "Requirement already satisfied: entrypoints>=0.2.2 in /usr/local/lib/python3.10/dist-packages (from nbconvert>=5->notebook>=4.4.1->widgetsnbextension~=3.6.0->ipywidgets->ipyfilechooser>=0.6.0->geemap) (0.4)\n",
            "Requirement already satisfied: jupyterlab-pygments in /usr/local/lib/python3.10/dist-packages (from nbconvert>=5->notebook>=4.4.1->widgetsnbextension~=3.6.0->ipywidgets->ipyfilechooser>=0.6.0->geemap) (0.3.0)\n",
            "Requirement already satisfied: mistune<2,>=0.8.1 in /usr/local/lib/python3.10/dist-packages (from nbconvert>=5->notebook>=4.4.1->widgetsnbextension~=3.6.0->ipywidgets->ipyfilechooser>=0.6.0->geemap) (0.8.4)\n",
            "Requirement already satisfied: nbclient>=0.5.0 in /usr/local/lib/python3.10/dist-packages (from nbconvert>=5->notebook>=4.4.1->widgetsnbextension~=3.6.0->ipywidgets->ipyfilechooser>=0.6.0->geemap) (0.9.0)\n",
            "Requirement already satisfied: pandocfilters>=1.4.1 in /usr/local/lib/python3.10/dist-packages (from nbconvert>=5->notebook>=4.4.1->widgetsnbextension~=3.6.0->ipywidgets->ipyfilechooser>=0.6.0->geemap) (1.5.1)\n",
            "Requirement already satisfied: tinycss2 in /usr/local/lib/python3.10/dist-packages (from nbconvert>=5->notebook>=4.4.1->widgetsnbextension~=3.6.0->ipywidgets->ipyfilechooser>=0.6.0->geemap) (1.2.1)\n",
            "Requirement already satisfied: fastjsonschema in /usr/local/lib/python3.10/dist-packages (from nbformat->notebook>=4.4.1->widgetsnbextension~=3.6.0->ipywidgets->ipyfilechooser>=0.6.0->geemap) (2.19.1)\n",
            "Requirement already satisfied: jsonschema>=2.6 in /usr/local/lib/python3.10/dist-packages (from nbformat->notebook>=4.4.1->widgetsnbextension~=3.6.0->ipywidgets->ipyfilechooser>=0.6.0->geemap) (4.19.2)\n",
            "Requirement already satisfied: argon2-cffi-bindings in /usr/local/lib/python3.10/dist-packages (from argon2-cffi->notebook>=4.4.1->widgetsnbextension~=3.6.0->ipywidgets->ipyfilechooser>=0.6.0->geemap) (21.2.0)\n",
            "Requirement already satisfied: attrs>=22.2.0 in /usr/local/lib/python3.10/dist-packages (from jsonschema>=2.6->nbformat->notebook>=4.4.1->widgetsnbextension~=3.6.0->ipywidgets->ipyfilechooser>=0.6.0->geemap) (23.2.0)\n",
            "Requirement already satisfied: jsonschema-specifications>=2023.03.6 in /usr/local/lib/python3.10/dist-packages (from jsonschema>=2.6->nbformat->notebook>=4.4.1->widgetsnbextension~=3.6.0->ipywidgets->ipyfilechooser>=0.6.0->geemap) (2023.12.1)\n",
            "Requirement already satisfied: referencing>=0.28.4 in /usr/local/lib/python3.10/dist-packages (from jsonschema>=2.6->nbformat->notebook>=4.4.1->widgetsnbextension~=3.6.0->ipywidgets->ipyfilechooser>=0.6.0->geemap) (0.33.0)\n",
            "Requirement already satisfied: rpds-py>=0.7.1 in /usr/local/lib/python3.10/dist-packages (from jsonschema>=2.6->nbformat->notebook>=4.4.1->widgetsnbextension~=3.6.0->ipywidgets->ipyfilechooser>=0.6.0->geemap) (0.17.1)\n",
            "Requirement already satisfied: anyio<4,>=3.1.0 in /usr/local/lib/python3.10/dist-packages (from jupyter-server>=1.8->nbclassic>=0.4.7->notebook>=4.4.1->widgetsnbextension~=3.6.0->ipywidgets->ipyfilechooser>=0.6.0->geemap) (3.7.1)\n",
            "Requirement already satisfied: websocket-client in /usr/local/lib/python3.10/dist-packages (from jupyter-server>=1.8->nbclassic>=0.4.7->notebook>=4.4.1->widgetsnbextension~=3.6.0->ipywidgets->ipyfilechooser>=0.6.0->geemap) (1.7.0)\n",
            "Requirement already satisfied: cffi>=1.0.1 in /usr/local/lib/python3.10/dist-packages (from argon2-cffi-bindings->argon2-cffi->notebook>=4.4.1->widgetsnbextension~=3.6.0->ipywidgets->ipyfilechooser>=0.6.0->geemap) (1.16.0)\n",
            "Requirement already satisfied: soupsieve>1.2 in /usr/local/lib/python3.10/dist-packages (from beautifulsoup4->nbconvert>=5->notebook>=4.4.1->widgetsnbextension~=3.6.0->ipywidgets->ipyfilechooser>=0.6.0->geemap) (2.5)\n",
            "Requirement already satisfied: webencodings in /usr/local/lib/python3.10/dist-packages (from bleach->nbconvert>=5->notebook>=4.4.1->widgetsnbextension~=3.6.0->ipywidgets->ipyfilechooser>=0.6.0->geemap) (0.5.1)\n",
            "Requirement already satisfied: sniffio>=1.1 in /usr/local/lib/python3.10/dist-packages (from anyio<4,>=3.1.0->jupyter-server>=1.8->nbclassic>=0.4.7->notebook>=4.4.1->widgetsnbextension~=3.6.0->ipywidgets->ipyfilechooser>=0.6.0->geemap) (1.3.0)\n",
            "Requirement already satisfied: exceptiongroup in /usr/local/lib/python3.10/dist-packages (from anyio<4,>=3.1.0->jupyter-server>=1.8->nbclassic>=0.4.7->notebook>=4.4.1->widgetsnbextension~=3.6.0->ipywidgets->ipyfilechooser>=0.6.0->geemap) (1.2.0)\n",
            "Requirement already satisfied: pycparser in /usr/local/lib/python3.10/dist-packages (from cffi>=1.0.1->argon2-cffi-bindings->argon2-cffi->notebook>=4.4.1->widgetsnbextension~=3.6.0->ipywidgets->ipyfilechooser>=0.6.0->geemap) (2.21)\n",
            "Installing collected packages: jedi\n",
            "Successfully installed jedi-0.19.1\n",
            "Collecting timedelta\n",
            "  Downloading timedelta-2020.12.3.tar.gz (1.6 kB)\n",
            "  Preparing metadata (setup.py) ... \u001b[?25l\u001b[?25hdone\n",
            "Building wheels for collected packages: timedelta\n",
            "  Building wheel for timedelta (setup.py) ... \u001b[?25l\u001b[?25hdone\n",
            "  Created wheel for timedelta: filename=timedelta-2020.12.3-py3-none-any.whl size=1554 sha256=a63532f1edacd1b905dd7df67b33122436dbdba6f82fd37525686fadbdf98a86\n",
            "  Stored in directory: /root/.cache/pip/wheels/be/c0/1f/843bd73679dc7dfb26758c4effc6e273d3eebf2da2a35082b1\n",
            "Successfully built timedelta\n",
            "Installing collected packages: timedelta\n",
            "Successfully installed timedelta-2020.12.3\n"
          ]
        }
      ]
    },
    {
      "cell_type": "code",
      "execution_count": null,
      "metadata": {
        "collapsed": true,
        "id": "MNZna2UJf_ch",
        "outputId": "aceb7c8e-da2d-41d8-9f0c-d89e6cc13871",
        "colab": {
          "base_uri": "https://localhost:8080/",
          "height": 17
        }
      },
      "outputs": [
        {
          "output_type": "display_data",
          "data": {
            "text/plain": [
              "<IPython.core.display.HTML object>"
            ],
            "text/html": [
              "\n",
              "            <style>\n",
              "                .geemap-dark {\n",
              "                    --jp-widgets-color: white;\n",
              "                    --jp-widgets-label-color: white;\n",
              "                    --jp-ui-font-color1: white;\n",
              "                    --jp-layout-color2: #454545;\n",
              "                    background-color: #383838;\n",
              "                }\n",
              "                    \n",
              "                .geemap-dark .jupyter-button {\n",
              "                    --jp-layout-color3: #383838;\n",
              "                }\n",
              "                \n",
              "                .geemap-colab {\n",
              "                    background-color: var(--colab-primary-surface-color, white);\n",
              "                }\n",
              "                    \n",
              "                .geemap-colab .jupyter-button {\n",
              "                    --jp-layout-color3: var(--colab-primary-surface-color, white);\n",
              "                }\n",
              "            </style>\n",
              "            "
            ]
          },
          "metadata": {}
        }
      ],
      "source": [
        "import ee\n",
        "import time\n",
        "import geemap\n",
        "import datetime\n",
        "import numpy as np\n",
        "import pandas as pd\n",
        "from datetime import datetime, timedelta\n",
        "from pyproj import Transformer, Proj, transform\n",
        "from dateutil.relativedelta import relativedelta"
      ]
    },
    {
      "cell_type": "markdown",
      "source": [
        "# **1. Autorizar e inicializar Earth Engine**\n",
        "#### _Autenticar e inicializar la API de Google Earth Engine (GEE)._\n",
        "\n",
        "\n",
        "\n",
        "\n",
        "- Conecte e inicialice con tu cuenta de earth engine y proyecto."
      ],
      "metadata": {
        "id": "gLMYjSSaB6Oi"
      }
    },
    {
      "cell_type": "code",
      "source": [
        "ee.Authenticate(auth_mode=\"notebook\")\n",
        "ee.Initialize()"
      ],
      "metadata": {
        "id": "Rk7FOpOkgIyg",
        "collapsed": true,
        "outputId": "6ef322f3-7061-43fd-a7ff-3c69b63094a1",
        "colab": {
          "base_uri": "https://localhost:8080/",
          "height": 185
        }
      },
      "execution_count": null,
      "outputs": [
        {
          "data": {
            "text/html": [
              "\n",
              "            <style>\n",
              "                .geemap-dark {\n",
              "                    --jp-widgets-color: white;\n",
              "                    --jp-widgets-label-color: white;\n",
              "                    --jp-ui-font-color1: white;\n",
              "                    --jp-layout-color2: #454545;\n",
              "                    background-color: #383838;\n",
              "                }\n",
              "                    \n",
              "                .geemap-dark .jupyter-button {\n",
              "                    --jp-layout-color3: #383838;\n",
              "                }\n",
              "                \n",
              "                .geemap-colab {\n",
              "                    background-color: var(--colab-primary-surface-color, white);\n",
              "                }\n",
              "                    \n",
              "                .geemap-colab .jupyter-button {\n",
              "                    --jp-layout-color3: var(--colab-primary-surface-color, white);\n",
              "                }\n",
              "            </style>\n",
              "            "
            ],
            "text/plain": [
              "<IPython.core.display.HTML object>"
            ]
          },
          "metadata": {},
          "output_type": "display_data"
        },
        {
          "output_type": "stream",
          "name": "stdout",
          "text": [
            "To authorize access needed by Earth Engine, open the following URL in a web browser and follow the instructions. If the web browser does not start automatically, please manually browse the URL below.\n",
            "\n",
            "    https://code.earthengine.google.com/client-auth?scopes=https%3A//www.googleapis.com/auth/earthengine%20https%3A//www.googleapis.com/auth/cloud-platform%20https%3A//www.googleapis.com/auth/devstorage.full_control&request_id=wz9oKilqz3_LHE8gVNcMZBGGPnI5QdvHKO3kLBx891M&tc=TswcRvmz9HVfHWl6wGvAupSVNrgn_w5429x0xA0hLeY&cc=31bqnR3mBTTu0Ihdgi9Uc9Q-7gKlMNqEzAkO5JNG6LA\n",
            "\n",
            "The authorization workflow will generate a code, which you should paste in the box below.\n",
            "Enter verification code: 4/1AeaYSHDzkbvhqqO5WLc2BPO8jg7qkdN0g4UVGc6poaZh__QmdrGOmJeWEyk\n",
            "\n",
            "Successfully saved authorization token.\n"
          ]
        }
      ]
    },
    {
      "cell_type": "markdown",
      "source": [
        "# **2. Cargar CSV**\n",
        "\n",
        "#### _Cargue el archivo CSV que contiene las coordenadas y analícelo para crear puntos._\n",
        "\n",
        "- Exporta tu hoja de cálculo con los vértices como csv. La integridad y uniformidad del documento original es importante. Si tiene dificultades en este paso, consulte el curso [aquí.](https://www.youtube.com/watch?v=uGx0PHD6o9M)\n",
        "\n",
        "- Al usar este cuaderno en colab. Habrá un panel a la izquierda. Si no estás en los archivos. Haga clic en el icono de la carpeta donde los botones están al ras de la pantalla. Ahora donde dice \"Archivos\", haz clic en el ícono de archivo con una flecha en el medio y sube tus vértices. Alternativamente, puede arrastrar y soltar en el panel de archivos."
      ],
      "metadata": {
        "id": "1FPEd4NJCAn3"
      }
    },
    {
      "cell_type": "code",
      "source": [
        "# @title\n",
        "csv_viaje = 'imazacoord_NOppi.csv'  # Una vez que haya cargado su archivo, en esta línea cambie el nombre por el nombre del archivo que cargó con la extensión.\n",
        "df = pd.read_csv(csv_viaje)"
      ],
      "metadata": {
        "id": "shNomv3DB4AB",
        "outputId": "2366d32f-b20e-4b98-9586-631902d66223",
        "colab": {
          "base_uri": "https://localhost:8080/",
          "height": 17
        }
      },
      "execution_count": 204,
      "outputs": [
        {
          "output_type": "display_data",
          "data": {
            "text/plain": [
              "<IPython.core.display.HTML object>"
            ],
            "text/html": [
              "\n",
              "            <style>\n",
              "                .geemap-dark {\n",
              "                    --jp-widgets-color: white;\n",
              "                    --jp-widgets-label-color: white;\n",
              "                    --jp-ui-font-color1: white;\n",
              "                    --jp-layout-color2: #454545;\n",
              "                    background-color: #383838;\n",
              "                }\n",
              "                    \n",
              "                .geemap-dark .jupyter-button {\n",
              "                    --jp-layout-color3: #383838;\n",
              "                }\n",
              "                \n",
              "                .geemap-colab {\n",
              "                    background-color: var(--colab-primary-surface-color, white);\n",
              "                }\n",
              "                    \n",
              "                .geemap-colab .jupyter-button {\n",
              "                    --jp-layout-color3: var(--colab-primary-surface-color, white);\n",
              "                }\n",
              "            </style>\n",
              "            "
            ]
          },
          "metadata": {}
        }
      ]
    },
    {
      "cell_type": "code",
      "source": [
        "# @title\n",
        "df.head()"
      ],
      "metadata": {
        "id": "z7MnMH6ybA07",
        "outputId": "0798e253-ca6a-4dbf-dd2c-9ac398155ac7",
        "colab": {
          "base_uri": "https://localhost:8080/",
          "height": 206
        }
      },
      "execution_count": 205,
      "outputs": [
        {
          "output_type": "display_data",
          "data": {
            "text/plain": [
              "<IPython.core.display.HTML object>"
            ],
            "text/html": [
              "\n",
              "            <style>\n",
              "                .geemap-dark {\n",
              "                    --jp-widgets-color: white;\n",
              "                    --jp-widgets-label-color: white;\n",
              "                    --jp-ui-font-color1: white;\n",
              "                    --jp-layout-color2: #454545;\n",
              "                    background-color: #383838;\n",
              "                }\n",
              "                    \n",
              "                .geemap-dark .jupyter-button {\n",
              "                    --jp-layout-color3: #383838;\n",
              "                }\n",
              "                \n",
              "                .geemap-colab {\n",
              "                    background-color: var(--colab-primary-surface-color, white);\n",
              "                }\n",
              "                    \n",
              "                .geemap-colab .jupyter-button {\n",
              "                    --jp-layout-color3: var(--colab-primary-surface-color, white);\n",
              "                }\n",
              "            </style>\n",
              "            "
            ]
          },
          "metadata": {}
        },
        {
          "output_type": "execute_result",
          "data": {
            "text/plain": [
              "             NCONTRA                           NOMTIT       NUMRUC  \\\n",
              "0  16-IQU/C-J-105-04  INDUSTRIAL MADERERA ZAPOTE S.A.  20103979529   \n",
              "1  16-IQU/C-J-105-04  INDUSTRIAL MADERERA ZAPOTE S.A.  20103979529   \n",
              "2  16-IQU/C-J-105-04  INDUSTRIAL MADERERA ZAPOTE S.A.  20103979529   \n",
              "3  16-IQU/C-J-105-04  INDUSTRIAL MADERERA ZAPOTE S.A.  20103979529   \n",
              "4  16-IQU/C-J-105-04  INDUSTRIAL MADERERA ZAPOTE S.A.  20103979529   \n",
              "\n",
              "                                     RESAPR       ESTE       NORTE  VERTICE  \n",
              "0  RSD N° 019-2012-GRL-GGR-PRMRFFS-DER-SDPM  643560.25  9530613.00        1  \n",
              "1  RSD N° 019-2012-GRL-GGR-PRMRFFS-DER-SDPM  643560.25  9527597.60        2  \n",
              "2  RSD N° 019-2012-GRL-GGR-PRMRFFS-DER-SDPM  641579.82  9528512.95        3  \n",
              "3  RSD N° 019-2012-GRL-GGR-PRMRFFS-DER-SDPM  640464.65  9528511.51        4  \n",
              "4  RSD N° 019-2012-GRL-GGR-PRMRFFS-DER-SDPM  638560.25  9526722.71        5  "
            ],
            "text/html": [
              "\n",
              "  <div id=\"df-1ea1c12c-a383-47ca-98e2-ae1938eb83e7\" class=\"colab-df-container\">\n",
              "    <div>\n",
              "<style scoped>\n",
              "    .dataframe tbody tr th:only-of-type {\n",
              "        vertical-align: middle;\n",
              "    }\n",
              "\n",
              "    .dataframe tbody tr th {\n",
              "        vertical-align: top;\n",
              "    }\n",
              "\n",
              "    .dataframe thead th {\n",
              "        text-align: right;\n",
              "    }\n",
              "</style>\n",
              "<table border=\"1\" class=\"dataframe\">\n",
              "  <thead>\n",
              "    <tr style=\"text-align: right;\">\n",
              "      <th></th>\n",
              "      <th>NCONTRA</th>\n",
              "      <th>NOMTIT</th>\n",
              "      <th>NUMRUC</th>\n",
              "      <th>RESAPR</th>\n",
              "      <th>ESTE</th>\n",
              "      <th>NORTE</th>\n",
              "      <th>VERTICE</th>\n",
              "    </tr>\n",
              "  </thead>\n",
              "  <tbody>\n",
              "    <tr>\n",
              "      <th>0</th>\n",
              "      <td>16-IQU/C-J-105-04</td>\n",
              "      <td>INDUSTRIAL MADERERA ZAPOTE S.A.</td>\n",
              "      <td>20103979529</td>\n",
              "      <td>RSD N° 019-2012-GRL-GGR-PRMRFFS-DER-SDPM</td>\n",
              "      <td>643560.25</td>\n",
              "      <td>9530613.00</td>\n",
              "      <td>1</td>\n",
              "    </tr>\n",
              "    <tr>\n",
              "      <th>1</th>\n",
              "      <td>16-IQU/C-J-105-04</td>\n",
              "      <td>INDUSTRIAL MADERERA ZAPOTE S.A.</td>\n",
              "      <td>20103979529</td>\n",
              "      <td>RSD N° 019-2012-GRL-GGR-PRMRFFS-DER-SDPM</td>\n",
              "      <td>643560.25</td>\n",
              "      <td>9527597.60</td>\n",
              "      <td>2</td>\n",
              "    </tr>\n",
              "    <tr>\n",
              "      <th>2</th>\n",
              "      <td>16-IQU/C-J-105-04</td>\n",
              "      <td>INDUSTRIAL MADERERA ZAPOTE S.A.</td>\n",
              "      <td>20103979529</td>\n",
              "      <td>RSD N° 019-2012-GRL-GGR-PRMRFFS-DER-SDPM</td>\n",
              "      <td>641579.82</td>\n",
              "      <td>9528512.95</td>\n",
              "      <td>3</td>\n",
              "    </tr>\n",
              "    <tr>\n",
              "      <th>3</th>\n",
              "      <td>16-IQU/C-J-105-04</td>\n",
              "      <td>INDUSTRIAL MADERERA ZAPOTE S.A.</td>\n",
              "      <td>20103979529</td>\n",
              "      <td>RSD N° 019-2012-GRL-GGR-PRMRFFS-DER-SDPM</td>\n",
              "      <td>640464.65</td>\n",
              "      <td>9528511.51</td>\n",
              "      <td>4</td>\n",
              "    </tr>\n",
              "    <tr>\n",
              "      <th>4</th>\n",
              "      <td>16-IQU/C-J-105-04</td>\n",
              "      <td>INDUSTRIAL MADERERA ZAPOTE S.A.</td>\n",
              "      <td>20103979529</td>\n",
              "      <td>RSD N° 019-2012-GRL-GGR-PRMRFFS-DER-SDPM</td>\n",
              "      <td>638560.25</td>\n",
              "      <td>9526722.71</td>\n",
              "      <td>5</td>\n",
              "    </tr>\n",
              "  </tbody>\n",
              "</table>\n",
              "</div>\n",
              "    <div class=\"colab-df-buttons\">\n",
              "\n",
              "  <div class=\"colab-df-container\">\n",
              "    <button class=\"colab-df-convert\" onclick=\"convertToInteractive('df-1ea1c12c-a383-47ca-98e2-ae1938eb83e7')\"\n",
              "            title=\"Convert this dataframe to an interactive table.\"\n",
              "            style=\"display:none;\">\n",
              "\n",
              "  <svg xmlns=\"http://www.w3.org/2000/svg\" height=\"24px\" viewBox=\"0 -960 960 960\">\n",
              "    <path d=\"M120-120v-720h720v720H120Zm60-500h600v-160H180v160Zm220 220h160v-160H400v160Zm0 220h160v-160H400v160ZM180-400h160v-160H180v160Zm440 0h160v-160H620v160ZM180-180h160v-160H180v160Zm440 0h160v-160H620v160Z\"/>\n",
              "  </svg>\n",
              "    </button>\n",
              "\n",
              "  <style>\n",
              "    .colab-df-container {\n",
              "      display:flex;\n",
              "      gap: 12px;\n",
              "    }\n",
              "\n",
              "    .colab-df-convert {\n",
              "      background-color: #E8F0FE;\n",
              "      border: none;\n",
              "      border-radius: 50%;\n",
              "      cursor: pointer;\n",
              "      display: none;\n",
              "      fill: #1967D2;\n",
              "      height: 32px;\n",
              "      padding: 0 0 0 0;\n",
              "      width: 32px;\n",
              "    }\n",
              "\n",
              "    .colab-df-convert:hover {\n",
              "      background-color: #E2EBFA;\n",
              "      box-shadow: 0px 1px 2px rgba(60, 64, 67, 0.3), 0px 1px 3px 1px rgba(60, 64, 67, 0.15);\n",
              "      fill: #174EA6;\n",
              "    }\n",
              "\n",
              "    .colab-df-buttons div {\n",
              "      margin-bottom: 4px;\n",
              "    }\n",
              "\n",
              "    [theme=dark] .colab-df-convert {\n",
              "      background-color: #3B4455;\n",
              "      fill: #D2E3FC;\n",
              "    }\n",
              "\n",
              "    [theme=dark] .colab-df-convert:hover {\n",
              "      background-color: #434B5C;\n",
              "      box-shadow: 0px 1px 3px 1px rgba(0, 0, 0, 0.15);\n",
              "      filter: drop-shadow(0px 1px 2px rgba(0, 0, 0, 0.3));\n",
              "      fill: #FFFFFF;\n",
              "    }\n",
              "  </style>\n",
              "\n",
              "    <script>\n",
              "      const buttonEl =\n",
              "        document.querySelector('#df-1ea1c12c-a383-47ca-98e2-ae1938eb83e7 button.colab-df-convert');\n",
              "      buttonEl.style.display =\n",
              "        google.colab.kernel.accessAllowed ? 'block' : 'none';\n",
              "\n",
              "      async function convertToInteractive(key) {\n",
              "        const element = document.querySelector('#df-1ea1c12c-a383-47ca-98e2-ae1938eb83e7');\n",
              "        const dataTable =\n",
              "          await google.colab.kernel.invokeFunction('convertToInteractive',\n",
              "                                                    [key], {});\n",
              "        if (!dataTable) return;\n",
              "\n",
              "        const docLinkHtml = 'Like what you see? Visit the ' +\n",
              "          '<a target=\"_blank\" href=https://colab.research.google.com/notebooks/data_table.ipynb>data table notebook</a>'\n",
              "          + ' to learn more about interactive tables.';\n",
              "        element.innerHTML = '';\n",
              "        dataTable['output_type'] = 'display_data';\n",
              "        await google.colab.output.renderOutput(dataTable, element);\n",
              "        const docLink = document.createElement('div');\n",
              "        docLink.innerHTML = docLinkHtml;\n",
              "        element.appendChild(docLink);\n",
              "      }\n",
              "    </script>\n",
              "  </div>\n",
              "\n",
              "\n",
              "<div id=\"df-4380c905-ea89-453a-9451-321ec2db736a\">\n",
              "  <button class=\"colab-df-quickchart\" onclick=\"quickchart('df-4380c905-ea89-453a-9451-321ec2db736a')\"\n",
              "            title=\"Suggest charts\"\n",
              "            style=\"display:none;\">\n",
              "\n",
              "<svg xmlns=\"http://www.w3.org/2000/svg\" height=\"24px\"viewBox=\"0 0 24 24\"\n",
              "     width=\"24px\">\n",
              "    <g>\n",
              "        <path d=\"M19 3H5c-1.1 0-2 .9-2 2v14c0 1.1.9 2 2 2h14c1.1 0 2-.9 2-2V5c0-1.1-.9-2-2-2zM9 17H7v-7h2v7zm4 0h-2V7h2v10zm4 0h-2v-4h2v4z\"/>\n",
              "    </g>\n",
              "</svg>\n",
              "  </button>\n",
              "\n",
              "<style>\n",
              "  .colab-df-quickchart {\n",
              "      --bg-color: #E8F0FE;\n",
              "      --fill-color: #1967D2;\n",
              "      --hover-bg-color: #E2EBFA;\n",
              "      --hover-fill-color: #174EA6;\n",
              "      --disabled-fill-color: #AAA;\n",
              "      --disabled-bg-color: #DDD;\n",
              "  }\n",
              "\n",
              "  [theme=dark] .colab-df-quickchart {\n",
              "      --bg-color: #3B4455;\n",
              "      --fill-color: #D2E3FC;\n",
              "      --hover-bg-color: #434B5C;\n",
              "      --hover-fill-color: #FFFFFF;\n",
              "      --disabled-bg-color: #3B4455;\n",
              "      --disabled-fill-color: #666;\n",
              "  }\n",
              "\n",
              "  .colab-df-quickchart {\n",
              "    background-color: var(--bg-color);\n",
              "    border: none;\n",
              "    border-radius: 50%;\n",
              "    cursor: pointer;\n",
              "    display: none;\n",
              "    fill: var(--fill-color);\n",
              "    height: 32px;\n",
              "    padding: 0;\n",
              "    width: 32px;\n",
              "  }\n",
              "\n",
              "  .colab-df-quickchart:hover {\n",
              "    background-color: var(--hover-bg-color);\n",
              "    box-shadow: 0 1px 2px rgba(60, 64, 67, 0.3), 0 1px 3px 1px rgba(60, 64, 67, 0.15);\n",
              "    fill: var(--button-hover-fill-color);\n",
              "  }\n",
              "\n",
              "  .colab-df-quickchart-complete:disabled,\n",
              "  .colab-df-quickchart-complete:disabled:hover {\n",
              "    background-color: var(--disabled-bg-color);\n",
              "    fill: var(--disabled-fill-color);\n",
              "    box-shadow: none;\n",
              "  }\n",
              "\n",
              "  .colab-df-spinner {\n",
              "    border: 2px solid var(--fill-color);\n",
              "    border-color: transparent;\n",
              "    border-bottom-color: var(--fill-color);\n",
              "    animation:\n",
              "      spin 1s steps(1) infinite;\n",
              "  }\n",
              "\n",
              "  @keyframes spin {\n",
              "    0% {\n",
              "      border-color: transparent;\n",
              "      border-bottom-color: var(--fill-color);\n",
              "      border-left-color: var(--fill-color);\n",
              "    }\n",
              "    20% {\n",
              "      border-color: transparent;\n",
              "      border-left-color: var(--fill-color);\n",
              "      border-top-color: var(--fill-color);\n",
              "    }\n",
              "    30% {\n",
              "      border-color: transparent;\n",
              "      border-left-color: var(--fill-color);\n",
              "      border-top-color: var(--fill-color);\n",
              "      border-right-color: var(--fill-color);\n",
              "    }\n",
              "    40% {\n",
              "      border-color: transparent;\n",
              "      border-right-color: var(--fill-color);\n",
              "      border-top-color: var(--fill-color);\n",
              "    }\n",
              "    60% {\n",
              "      border-color: transparent;\n",
              "      border-right-color: var(--fill-color);\n",
              "    }\n",
              "    80% {\n",
              "      border-color: transparent;\n",
              "      border-right-color: var(--fill-color);\n",
              "      border-bottom-color: var(--fill-color);\n",
              "    }\n",
              "    90% {\n",
              "      border-color: transparent;\n",
              "      border-bottom-color: var(--fill-color);\n",
              "    }\n",
              "  }\n",
              "</style>\n",
              "\n",
              "  <script>\n",
              "    async function quickchart(key) {\n",
              "      const quickchartButtonEl =\n",
              "        document.querySelector('#' + key + ' button');\n",
              "      quickchartButtonEl.disabled = true;  // To prevent multiple clicks.\n",
              "      quickchartButtonEl.classList.add('colab-df-spinner');\n",
              "      try {\n",
              "        const charts = await google.colab.kernel.invokeFunction(\n",
              "            'suggestCharts', [key], {});\n",
              "      } catch (error) {\n",
              "        console.error('Error during call to suggestCharts:', error);\n",
              "      }\n",
              "      quickchartButtonEl.classList.remove('colab-df-spinner');\n",
              "      quickchartButtonEl.classList.add('colab-df-quickchart-complete');\n",
              "    }\n",
              "    (() => {\n",
              "      let quickchartButtonEl =\n",
              "        document.querySelector('#df-4380c905-ea89-453a-9451-321ec2db736a button');\n",
              "      quickchartButtonEl.style.display =\n",
              "        google.colab.kernel.accessAllowed ? 'block' : 'none';\n",
              "    })();\n",
              "  </script>\n",
              "</div>\n",
              "\n",
              "    </div>\n",
              "  </div>\n"
            ],
            "application/vnd.google.colaboratory.intrinsic+json": {
              "type": "dataframe",
              "variable_name": "df",
              "summary": "{\n  \"name\": \"df\",\n  \"rows\": 127,\n  \"fields\": [\n    {\n      \"column\": \"NCONTRA\",\n      \"properties\": {\n        \"dtype\": \"category\",\n        \"samples\": [\n          \"16-IQU/C-J-105-04\"\n        ],\n        \"num_unique_values\": 1,\n        \"semantic_type\": \"\",\n        \"description\": \"\"\n      }\n    },\n    {\n      \"column\": \"NOMTIT\",\n      \"properties\": {\n        \"dtype\": \"category\",\n        \"samples\": [\n          \"INDUSTRIAL MADERERA ZAPOTE S.A.\"\n        ],\n        \"num_unique_values\": 1,\n        \"semantic_type\": \"\",\n        \"description\": \"\"\n      }\n    },\n    {\n      \"column\": \"NUMRUC\",\n      \"properties\": {\n        \"dtype\": \"number\",\n        \"std\": 0,\n        \"min\": 20103979529,\n        \"max\": 20103979529,\n        \"samples\": [\n          20103979529\n        ],\n        \"num_unique_values\": 1,\n        \"semantic_type\": \"\",\n        \"description\": \"\"\n      }\n    },\n    {\n      \"column\": \"RESAPR\",\n      \"properties\": {\n        \"dtype\": \"category\",\n        \"samples\": [\n          \"RSD N\\u00b0 019-2012-GRL-GGR-PRMRFFS-DER-SDPM\"\n        ],\n        \"num_unique_values\": 1,\n        \"semantic_type\": \"\",\n        \"description\": \"\"\n      }\n    },\n    {\n      \"column\": \"ESTE\",\n      \"properties\": {\n        \"dtype\": \"number\",\n        \"std\": 5468.181361623219,\n        \"min\": 633560.25,\n        \"max\": 655463.84,\n        \"samples\": [\n          649704.26\n        ],\n        \"num_unique_values\": 102,\n        \"semantic_type\": \"\",\n        \"description\": \"\"\n      }\n    },\n    {\n      \"column\": \"NORTE\",\n      \"properties\": {\n        \"dtype\": \"number\",\n        \"std\": 10071.448190166484,\n        \"min\": 9503776.08,\n        \"max\": 9539527.85,\n        \"samples\": [\n          9504672.02\n        ],\n        \"num_unique_values\": 116,\n        \"semantic_type\": \"\",\n        \"description\": \"\"\n      }\n    },\n    {\n      \"column\": \"VERTICE\",\n      \"properties\": {\n        \"dtype\": \"number\",\n        \"std\": 36,\n        \"min\": 1,\n        \"max\": 127,\n        \"samples\": [\n          27\n        ],\n        \"num_unique_values\": 127,\n        \"semantic_type\": \"\",\n        \"description\": \"\"\n      }\n    }\n  ]\n}"
            }
          },
          "metadata": {},
          "execution_count": 205
        }
      ]
    },
    {
      "cell_type": "code",
      "source": [
        "# Aquí necesitamos proyectar desde UTM 18S a WGS84 (el CRS utilizado por Earth Engine).\n",
        "transformer = Transformer.from_crs(\"epsg:32718\", \"epsg:4326\", always_xy=True)\n",
        "'''\n",
        "Tenga en cuenta que si sus coordenadas no están en UTM 18S,\n",
        "deberá consultar la documentación de pyproj y ajustar \"epsg:32718\"\n",
        "al epsg que utilizan sus coordenadas. Aquí está el sitio donde\n",
        "puedes encontrar esa información:\n",
        "https://pyproj4.github.io/pyproj/stable/api/crs/crs.html\n",
        "https://epsg.io/\n",
        "'''\n",
        "def utm_to_latlon(easting, northing):\n",
        "    # Dado que transformador.transform(este, norte) ya se alinea con (x, y) => (ESTE, NORTE),\n",
        "    # y desea regresar (latitud, longitud), asegúrese de capturar la salida correctamente.\n",
        "    lon, lat = transformer.transform(easting, northing)\n",
        "    return lat, lon  # Esto garantiza que la devolución esté en formato (latitud, longitud).\n",
        "\n",
        "# Assuming 'df' is your DataFrame\n",
        "df['latitud'], df['longitud'] = zip(*df.apply(lambda row: utm_to_latlon(row['ESTE'], row['NORTE']), axis=1)) # Donde dice 'ESTE' y 'NORTE', esto coincide de manera muy idéntica con los nombres de las columnas de latitud y longitud en sus datos."
      ],
      "metadata": {
        "collapsed": true,
        "id": "yyoEB_F7B8tJ",
        "outputId": "82c9ffd2-e5f4-4d1a-d07f-0add1832eb75",
        "colab": {
          "base_uri": "https://localhost:8080/",
          "height": 17
        }
      },
      "execution_count": 206,
      "outputs": [
        {
          "output_type": "display_data",
          "data": {
            "text/plain": [
              "<IPython.core.display.HTML object>"
            ],
            "text/html": [
              "\n",
              "            <style>\n",
              "                .geemap-dark {\n",
              "                    --jp-widgets-color: white;\n",
              "                    --jp-widgets-label-color: white;\n",
              "                    --jp-ui-font-color1: white;\n",
              "                    --jp-layout-color2: #454545;\n",
              "                    background-color: #383838;\n",
              "                }\n",
              "                    \n",
              "                .geemap-dark .jupyter-button {\n",
              "                    --jp-layout-color3: #383838;\n",
              "                }\n",
              "                \n",
              "                .geemap-colab {\n",
              "                    background-color: var(--colab-primary-surface-color, white);\n",
              "                }\n",
              "                    \n",
              "                .geemap-colab .jupyter-button {\n",
              "                    --jp-layout-color3: var(--colab-primary-surface-color, white);\n",
              "                }\n",
              "            </style>\n",
              "            "
            ]
          },
          "metadata": {}
        }
      ]
    },
    {
      "cell_type": "markdown",
      "source": [
        "#### Procesando"
      ],
      "metadata": {
        "id": "BGbpHpSMGs9q"
      }
    },
    {
      "cell_type": "code",
      "source": [
        "coordenadas = df[['latitud', 'longitud']].values.tolist()"
      ],
      "metadata": {
        "id": "4etm69guE3lE",
        "collapsed": true,
        "outputId": "0b7a7021-77c5-441a-d964-96f6a9926b22",
        "colab": {
          "base_uri": "https://localhost:8080/",
          "height": 17
        }
      },
      "execution_count": 207,
      "outputs": [
        {
          "output_type": "display_data",
          "data": {
            "text/plain": [
              "<IPython.core.display.HTML object>"
            ],
            "text/html": [
              "\n",
              "            <style>\n",
              "                .geemap-dark {\n",
              "                    --jp-widgets-color: white;\n",
              "                    --jp-widgets-label-color: white;\n",
              "                    --jp-ui-font-color1: white;\n",
              "                    --jp-layout-color2: #454545;\n",
              "                    background-color: #383838;\n",
              "                }\n",
              "                    \n",
              "                .geemap-dark .jupyter-button {\n",
              "                    --jp-layout-color3: #383838;\n",
              "                }\n",
              "                \n",
              "                .geemap-colab {\n",
              "                    background-color: var(--colab-primary-surface-color, white);\n",
              "                }\n",
              "                    \n",
              "                .geemap-colab .jupyter-button {\n",
              "                    --jp-layout-color3: var(--colab-primary-surface-color, white);\n",
              "                }\n",
              "            </style>\n",
              "            "
            ]
          },
          "metadata": {}
        }
      ]
    },
    {
      "cell_type": "code",
      "source": [
        "puntos = [ee.Feature(ee.Geometry.Point([lon, lat])) for lat, lon in coordenadas]\n",
        "puntos_fc = ee.FeatureCollection(puntos)"
      ],
      "metadata": {
        "id": "7flGn0lPB8wW",
        "outputId": "28a5a3f9-6721-4b7e-ebb6-cc97d7c0313f",
        "colab": {
          "base_uri": "https://localhost:8080/",
          "height": 17
        }
      },
      "execution_count": 208,
      "outputs": [
        {
          "output_type": "display_data",
          "data": {
            "text/plain": [
              "<IPython.core.display.HTML object>"
            ],
            "text/html": [
              "\n",
              "            <style>\n",
              "                .geemap-dark {\n",
              "                    --jp-widgets-color: white;\n",
              "                    --jp-widgets-label-color: white;\n",
              "                    --jp-ui-font-color1: white;\n",
              "                    --jp-layout-color2: #454545;\n",
              "                    background-color: #383838;\n",
              "                }\n",
              "                    \n",
              "                .geemap-dark .jupyter-button {\n",
              "                    --jp-layout-color3: #383838;\n",
              "                }\n",
              "                \n",
              "                .geemap-colab {\n",
              "                    background-color: var(--colab-primary-surface-color, white);\n",
              "                }\n",
              "                    \n",
              "                .geemap-colab .jupyter-button {\n",
              "                    --jp-layout-color3: var(--colab-primary-surface-color, white);\n",
              "                }\n",
              "            </style>\n",
              "            "
            ]
          },
          "metadata": {}
        }
      ]
    },
    {
      "cell_type": "code",
      "source": [
        "polygon = ee.Geometry.Polygon([[[lon, lat] for lat, lon in coordenadas]])"
      ],
      "metadata": {
        "id": "U3FK1tnq5xDt",
        "outputId": "925e4618-4b98-4e72-cbb5-db364772f09a",
        "colab": {
          "base_uri": "https://localhost:8080/",
          "height": 17
        }
      },
      "execution_count": 209,
      "outputs": [
        {
          "output_type": "display_data",
          "data": {
            "text/plain": [
              "<IPython.core.display.HTML object>"
            ],
            "text/html": [
              "\n",
              "            <style>\n",
              "                .geemap-dark {\n",
              "                    --jp-widgets-color: white;\n",
              "                    --jp-widgets-label-color: white;\n",
              "                    --jp-ui-font-color1: white;\n",
              "                    --jp-layout-color2: #454545;\n",
              "                    background-color: #383838;\n",
              "                }\n",
              "                    \n",
              "                .geemap-dark .jupyter-button {\n",
              "                    --jp-layout-color3: #383838;\n",
              "                }\n",
              "                \n",
              "                .geemap-colab {\n",
              "                    background-color: var(--colab-primary-surface-color, white);\n",
              "                }\n",
              "                    \n",
              "                .geemap-colab .jupyter-button {\n",
              "                    --jp-layout-color3: var(--colab-primary-surface-color, white);\n",
              "                }\n",
              "            </style>\n",
              "            "
            ]
          },
          "metadata": {}
        }
      ]
    },
    {
      "cell_type": "code",
      "source": [
        "centroid = polygon.centroid(maxError=1)"
      ],
      "metadata": {
        "id": "7B-fjdbu6M9o",
        "outputId": "dfe126e7-81a4-4962-97f1-dedbef7e5f4c",
        "colab": {
          "base_uri": "https://localhost:8080/",
          "height": 17
        }
      },
      "execution_count": 210,
      "outputs": [
        {
          "output_type": "display_data",
          "data": {
            "text/plain": [
              "<IPython.core.display.HTML object>"
            ],
            "text/html": [
              "\n",
              "            <style>\n",
              "                .geemap-dark {\n",
              "                    --jp-widgets-color: white;\n",
              "                    --jp-widgets-label-color: white;\n",
              "                    --jp-ui-font-color1: white;\n",
              "                    --jp-layout-color2: #454545;\n",
              "                    background-color: #383838;\n",
              "                }\n",
              "                    \n",
              "                .geemap-dark .jupyter-button {\n",
              "                    --jp-layout-color3: #383838;\n",
              "                }\n",
              "                \n",
              "                .geemap-colab {\n",
              "                    background-color: var(--colab-primary-surface-color, white);\n",
              "                }\n",
              "                    \n",
              "                .geemap-colab .jupyter-button {\n",
              "                    --jp-layout-color3: var(--colab-primary-surface-color, white);\n",
              "                }\n",
              "            </style>\n",
              "            "
            ]
          },
          "metadata": {}
        }
      ]
    },
    {
      "cell_type": "markdown",
      "source": [
        "#### Modificar"
      ],
      "metadata": {
        "id": "lDsf7hKMG2Di"
      }
    },
    {
      "cell_type": "code",
      "source": [
        "print(centroid.getInfo())"
      ],
      "metadata": {
        "id": "5T38u4WcHElU",
        "outputId": "f4c3b853-e641-468f-b43d-1db3fe80d732",
        "colab": {
          "base_uri": "https://localhost:8080/",
          "height": 35
        }
      },
      "execution_count": 211,
      "outputs": [
        {
          "output_type": "display_data",
          "data": {
            "text/plain": [
              "<IPython.core.display.HTML object>"
            ],
            "text/html": [
              "\n",
              "            <style>\n",
              "                .geemap-dark {\n",
              "                    --jp-widgets-color: white;\n",
              "                    --jp-widgets-label-color: white;\n",
              "                    --jp-ui-font-color1: white;\n",
              "                    --jp-layout-color2: #454545;\n",
              "                    background-color: #383838;\n",
              "                }\n",
              "                    \n",
              "                .geemap-dark .jupyter-button {\n",
              "                    --jp-layout-color3: #383838;\n",
              "                }\n",
              "                \n",
              "                .geemap-colab {\n",
              "                    background-color: var(--colab-primary-surface-color, white);\n",
              "                }\n",
              "                    \n",
              "                .geemap-colab .jupyter-button {\n",
              "                    --jp-layout-color3: var(--colab-primary-surface-color, white);\n",
              "                }\n",
              "            </style>\n",
              "            "
            ]
          },
          "metadata": {}
        },
        {
          "output_type": "stream",
          "name": "stdout",
          "text": [
            "{'type': 'Point', 'coordinates': [-73.72766753816298, -4.349379692587443]}\n"
          ]
        }
      ]
    },
    {
      "cell_type": "code",
      "source": [
        "centro= (-73.72766753816298, -4.349379692587443) # Aquí pegue las coordenadas impresas en la celda de arriba para definir el centro de su parcela."
      ],
      "metadata": {
        "id": "4u-R5Ba8Bl40",
        "outputId": "e9af2e7a-9931-4d7c-8f75-5887543a0082",
        "colab": {
          "base_uri": "https://localhost:8080/",
          "height": 17
        }
      },
      "execution_count": 212,
      "outputs": [
        {
          "output_type": "display_data",
          "data": {
            "text/plain": [
              "<IPython.core.display.HTML object>"
            ],
            "text/html": [
              "\n",
              "            <style>\n",
              "                .geemap-dark {\n",
              "                    --jp-widgets-color: white;\n",
              "                    --jp-widgets-label-color: white;\n",
              "                    --jp-ui-font-color1: white;\n",
              "                    --jp-layout-color2: #454545;\n",
              "                    background-color: #383838;\n",
              "                }\n",
              "                    \n",
              "                .geemap-dark .jupyter-button {\n",
              "                    --jp-layout-color3: #383838;\n",
              "                }\n",
              "                \n",
              "                .geemap-colab {\n",
              "                    background-color: var(--colab-primary-surface-color, white);\n",
              "                }\n",
              "                    \n",
              "                .geemap-colab .jupyter-button {\n",
              "                    --jp-layout-color3: var(--colab-primary-surface-color, white);\n",
              "                }\n",
              "            </style>\n",
              "            "
            ]
          },
          "metadata": {}
        }
      ]
    },
    {
      "cell_type": "markdown",
      "source": [
        "# **3. Obtener imágenes:**\n",
        "\n",
        "#### _Utilice la API de Earth Engine para consultar imágenes para las fechas y la cobertura de nubes especificadas._"
      ],
      "metadata": {
        "id": "KSrZlhbHDS7Y"
      }
    },
    {
      "cell_type": "code",
      "source": [
        "antes = '2020-01-06'\n",
        "'''\n",
        "Establezca esto en una fecha anterior a la emisión del permiso.\n",
        "Encontrará la primera imagen de satélite en esa fecha o antes que\n",
        "cumpla con sus requisitos de cobertura de nubes.\n",
        "'''\n",
        "despues = '2023-01-06'\n",
        "'''\n",
        "Esta fecha es posterior a la cosecha y encontrará\n",
        "una imagen para la fecha más cercana pero no anterior\n",
        "a la cosecha que cumpla con el umbral de nubosidad.\n",
        "'''\n",
        "limite_coberatura_nubes = 20  # Establezca esto en su umbral máximo de cobertura de nubes."
      ],
      "metadata": {
        "id": "WWvySrWmB8z_",
        "outputId": "24a0f452-cb7e-42ca-edc0-51f23229a2d7",
        "colab": {
          "base_uri": "https://localhost:8080/",
          "height": 17
        }
      },
      "execution_count": 213,
      "outputs": [
        {
          "output_type": "display_data",
          "data": {
            "text/plain": [
              "<IPython.core.display.HTML object>"
            ],
            "text/html": [
              "\n",
              "            <style>\n",
              "                .geemap-dark {\n",
              "                    --jp-widgets-color: white;\n",
              "                    --jp-widgets-label-color: white;\n",
              "                    --jp-ui-font-color1: white;\n",
              "                    --jp-layout-color2: #454545;\n",
              "                    background-color: #383838;\n",
              "                }\n",
              "                    \n",
              "                .geemap-dark .jupyter-button {\n",
              "                    --jp-layout-color3: #383838;\n",
              "                }\n",
              "                \n",
              "                .geemap-colab {\n",
              "                    background-color: var(--colab-primary-surface-color, white);\n",
              "                }\n",
              "                    \n",
              "                .geemap-colab .jupyter-button {\n",
              "                    --jp-layout-color3: var(--colab-primary-surface-color, white);\n",
              "                }\n",
              "            </style>\n",
              "            "
            ]
          },
          "metadata": {}
        }
      ]
    },
    {
      "cell_type": "code",
      "source": [
        "antes_fecha = datetime.strptime(antes, '%Y-%m-%d')\n",
        "antes1= antes_fecha + relativedelta(years=-1)"
      ],
      "metadata": {
        "collapsed": true,
        "id": "LKsDoFqGV3Ur",
        "outputId": "baff2436-4e99-4843-e479-89f1ea89fdac",
        "colab": {
          "base_uri": "https://localhost:8080/",
          "height": 17
        }
      },
      "execution_count": 214,
      "outputs": [
        {
          "output_type": "display_data",
          "data": {
            "text/plain": [
              "<IPython.core.display.HTML object>"
            ],
            "text/html": [
              "\n",
              "            <style>\n",
              "                .geemap-dark {\n",
              "                    --jp-widgets-color: white;\n",
              "                    --jp-widgets-label-color: white;\n",
              "                    --jp-ui-font-color1: white;\n",
              "                    --jp-layout-color2: #454545;\n",
              "                    background-color: #383838;\n",
              "                }\n",
              "                    \n",
              "                .geemap-dark .jupyter-button {\n",
              "                    --jp-layout-color3: #383838;\n",
              "                }\n",
              "                \n",
              "                .geemap-colab {\n",
              "                    background-color: var(--colab-primary-surface-color, white);\n",
              "                }\n",
              "                    \n",
              "                .geemap-colab .jupyter-button {\n",
              "                    --jp-layout-color3: var(--colab-primary-surface-color, white);\n",
              "                }\n",
              "            </style>\n",
              "            "
            ]
          },
          "metadata": {}
        }
      ]
    },
    {
      "cell_type": "code",
      "source": [
        "ahora= datetime.now()\n",
        "ahora = ahora.strftime('%Y-%m-%d')"
      ],
      "metadata": {
        "id": "lM_1Sg34VlmP",
        "outputId": "d0740979-b7e4-47ae-c166-6a3369042802",
        "colab": {
          "base_uri": "https://localhost:8080/",
          "height": 17
        }
      },
      "execution_count": 215,
      "outputs": [
        {
          "output_type": "display_data",
          "data": {
            "text/plain": [
              "<IPython.core.display.HTML object>"
            ],
            "text/html": [
              "\n",
              "            <style>\n",
              "                .geemap-dark {\n",
              "                    --jp-widgets-color: white;\n",
              "                    --jp-widgets-label-color: white;\n",
              "                    --jp-ui-font-color1: white;\n",
              "                    --jp-layout-color2: #454545;\n",
              "                    background-color: #383838;\n",
              "                }\n",
              "                    \n",
              "                .geemap-dark .jupyter-button {\n",
              "                    --jp-layout-color3: #383838;\n",
              "                }\n",
              "                \n",
              "                .geemap-colab {\n",
              "                    background-color: var(--colab-primary-surface-color, white);\n",
              "                }\n",
              "                    \n",
              "                .geemap-colab .jupyter-button {\n",
              "                    --jp-layout-color3: var(--colab-primary-surface-color, white);\n",
              "                }\n",
              "            </style>\n",
              "            "
            ]
          },
          "metadata": {}
        }
      ]
    },
    {
      "cell_type": "code",
      "source": [
        "# @title\n",
        "# Imagen antes de la emisión del permiso.\n",
        "image1 = ee.ImageCollection(\"COPERNICUS/S2_SR_HARMONIZED\") \\\n",
        "           .filterDate(antes1, antes) \\\n",
        "           .filterBounds(puntos_fc) \\\n",
        "           .filter(ee.Filter.lt('CLOUDY_PIXEL_PERCENTAGE', limite_coberatura_nubes)) \\\n",
        "           .sort('CLOUDY_PIXEL_PERCENTAGE') \\\n",
        "           .first()\\\n",
        "           .clip(polygon)"
      ],
      "metadata": {
        "id": "KV70arDMecVZ",
        "outputId": "bcba4ace-f67a-4953-c499-5733f5b95a7f",
        "colab": {
          "base_uri": "https://localhost:8080/",
          "height": 17
        }
      },
      "execution_count": 216,
      "outputs": [
        {
          "output_type": "display_data",
          "data": {
            "text/plain": [
              "<IPython.core.display.HTML object>"
            ],
            "text/html": [
              "\n",
              "            <style>\n",
              "                .geemap-dark {\n",
              "                    --jp-widgets-color: white;\n",
              "                    --jp-widgets-label-color: white;\n",
              "                    --jp-ui-font-color1: white;\n",
              "                    --jp-layout-color2: #454545;\n",
              "                    background-color: #383838;\n",
              "                }\n",
              "                    \n",
              "                .geemap-dark .jupyter-button {\n",
              "                    --jp-layout-color3: #383838;\n",
              "                }\n",
              "                \n",
              "                .geemap-colab {\n",
              "                    background-color: var(--colab-primary-surface-color, white);\n",
              "                }\n",
              "                    \n",
              "                .geemap-colab .jupyter-button {\n",
              "                    --jp-layout-color3: var(--colab-primary-surface-color, white);\n",
              "                }\n",
              "            </style>\n",
              "            "
            ]
          },
          "metadata": {}
        }
      ]
    },
    {
      "cell_type": "code",
      "source": [
        "nir1 = image1.select('B8')\n",
        "red1 = image1.select('B4')\n",
        "\n",
        "ndvi1 = nir1.subtract(red1).divide(nir1.add(red1)).rename('NDVI')"
      ],
      "metadata": {
        "id": "cwX3FEEzZH_R",
        "outputId": "6515c63d-f4be-4c29-8075-13694da201da",
        "colab": {
          "base_uri": "https://localhost:8080/",
          "height": 17
        }
      },
      "execution_count": 217,
      "outputs": [
        {
          "output_type": "display_data",
          "data": {
            "text/plain": [
              "<IPython.core.display.HTML object>"
            ],
            "text/html": [
              "\n",
              "            <style>\n",
              "                .geemap-dark {\n",
              "                    --jp-widgets-color: white;\n",
              "                    --jp-widgets-label-color: white;\n",
              "                    --jp-ui-font-color1: white;\n",
              "                    --jp-layout-color2: #454545;\n",
              "                    background-color: #383838;\n",
              "                }\n",
              "                    \n",
              "                .geemap-dark .jupyter-button {\n",
              "                    --jp-layout-color3: #383838;\n",
              "                }\n",
              "                \n",
              "                .geemap-colab {\n",
              "                    background-color: var(--colab-primary-surface-color, white);\n",
              "                }\n",
              "                    \n",
              "                .geemap-colab .jupyter-button {\n",
              "                    --jp-layout-color3: var(--colab-primary-surface-color, white);\n",
              "                }\n",
              "            </style>\n",
              "            "
            ]
          },
          "metadata": {}
        }
      ]
    },
    {
      "cell_type": "code",
      "source": [
        "date = ee.Date(image1.get('system:time_start')).format('YYYY-MM-dd')\n",
        "print('Date of the image1 image:', date.getInfo())"
      ],
      "metadata": {
        "id": "gRKC-xz1Tz37",
        "outputId": "ed822de0-5a92-4318-cc07-ebd4b7fdeffe",
        "colab": {
          "base_uri": "https://localhost:8080/",
          "height": 35
        }
      },
      "execution_count": 218,
      "outputs": [
        {
          "output_type": "display_data",
          "data": {
            "text/plain": [
              "<IPython.core.display.HTML object>"
            ],
            "text/html": [
              "\n",
              "            <style>\n",
              "                .geemap-dark {\n",
              "                    --jp-widgets-color: white;\n",
              "                    --jp-widgets-label-color: white;\n",
              "                    --jp-ui-font-color1: white;\n",
              "                    --jp-layout-color2: #454545;\n",
              "                    background-color: #383838;\n",
              "                }\n",
              "                    \n",
              "                .geemap-dark .jupyter-button {\n",
              "                    --jp-layout-color3: #383838;\n",
              "                }\n",
              "                \n",
              "                .geemap-colab {\n",
              "                    background-color: var(--colab-primary-surface-color, white);\n",
              "                }\n",
              "                    \n",
              "                .geemap-colab .jupyter-button {\n",
              "                    --jp-layout-color3: var(--colab-primary-surface-color, white);\n",
              "                }\n",
              "            </style>\n",
              "            "
            ]
          },
          "metadata": {}
        },
        {
          "output_type": "stream",
          "name": "stdout",
          "text": [
            "Date of the image1 image: 2019-08-09\n"
          ]
        }
      ]
    },
    {
      "cell_type": "code",
      "source": [
        "# @title\n",
        "ndvi_antes = ndvi1.reduceRegion(\n",
        "    reducer=ee.Reducer.mean(),\n",
        "    scale=30,\n",
        "    maxPixels=1e9\n",
        ")\n",
        "\n",
        "ndvi_antes = ndvi_antes.get('NDVI').getInfo()\n",
        "\n",
        "print('NDVI Antes:', ndvi_antes)"
      ],
      "metadata": {
        "id": "aP7XU1FolHmQ",
        "outputId": "ae917b3b-bc64-4997-b8a6-eb780c1e5ae8",
        "colab": {
          "base_uri": "https://localhost:8080/",
          "height": 35
        }
      },
      "execution_count": 219,
      "outputs": [
        {
          "output_type": "display_data",
          "data": {
            "text/plain": [
              "<IPython.core.display.HTML object>"
            ],
            "text/html": [
              "\n",
              "            <style>\n",
              "                .geemap-dark {\n",
              "                    --jp-widgets-color: white;\n",
              "                    --jp-widgets-label-color: white;\n",
              "                    --jp-ui-font-color1: white;\n",
              "                    --jp-layout-color2: #454545;\n",
              "                    background-color: #383838;\n",
              "                }\n",
              "                    \n",
              "                .geemap-dark .jupyter-button {\n",
              "                    --jp-layout-color3: #383838;\n",
              "                }\n",
              "                \n",
              "                .geemap-colab {\n",
              "                    background-color: var(--colab-primary-surface-color, white);\n",
              "                }\n",
              "                    \n",
              "                .geemap-colab .jupyter-button {\n",
              "                    --jp-layout-color3: var(--colab-primary-surface-color, white);\n",
              "                }\n",
              "            </style>\n",
              "            "
            ]
          },
          "metadata": {}
        },
        {
          "output_type": "stream",
          "name": "stdout",
          "text": [
            "NDVI Antes: 0.8255680912098503\n"
          ]
        }
      ]
    },
    {
      "cell_type": "code",
      "source": [
        "# @title\n",
        "# Aquí está la foto después de la cosecha.\n",
        "image2 = ee.ImageCollection(\"COPERNICUS/S2_SR_HARMONIZED\") \\\n",
        "           .filterDate(despues, ahora) \\\n",
        "           .filterBounds(puntos_fc) \\\n",
        "           .filter(ee.Filter.lt('CLOUDY_PIXEL_PERCENTAGE', limite_coberatura_nubes)) \\\n",
        "           .sort('CLOUDY_PIXEL_PERCENTAGE') \\\n",
        "           .first()\\\n",
        "           .clip(polygon)"
      ],
      "metadata": {
        "id": "3uA18p9tiStX",
        "outputId": "f72277d2-5626-44bf-ae54-943c3b2e2fc7",
        "colab": {
          "base_uri": "https://localhost:8080/",
          "height": 17
        }
      },
      "execution_count": 220,
      "outputs": [
        {
          "output_type": "display_data",
          "data": {
            "text/plain": [
              "<IPython.core.display.HTML object>"
            ],
            "text/html": [
              "\n",
              "            <style>\n",
              "                .geemap-dark {\n",
              "                    --jp-widgets-color: white;\n",
              "                    --jp-widgets-label-color: white;\n",
              "                    --jp-ui-font-color1: white;\n",
              "                    --jp-layout-color2: #454545;\n",
              "                    background-color: #383838;\n",
              "                }\n",
              "                    \n",
              "                .geemap-dark .jupyter-button {\n",
              "                    --jp-layout-color3: #383838;\n",
              "                }\n",
              "                \n",
              "                .geemap-colab {\n",
              "                    background-color: var(--colab-primary-surface-color, white);\n",
              "                }\n",
              "                    \n",
              "                .geemap-colab .jupyter-button {\n",
              "                    --jp-layout-color3: var(--colab-primary-surface-color, white);\n",
              "                }\n",
              "            </style>\n",
              "            "
            ]
          },
          "metadata": {}
        }
      ]
    },
    {
      "cell_type": "code",
      "source": [
        "nir2 = image2.select('B8')\n",
        "red2 = image2.select('B4')\n",
        "\n",
        "ndvi2 = nir2.subtract(red2).divide(nir2.add(red2)).rename('NDVI')"
      ],
      "metadata": {
        "id": "ibk4wNBna9bN",
        "outputId": "88841974-c7eb-476c-f390-6f0631d9640e",
        "colab": {
          "base_uri": "https://localhost:8080/",
          "height": 17
        }
      },
      "execution_count": 221,
      "outputs": [
        {
          "output_type": "display_data",
          "data": {
            "text/plain": [
              "<IPython.core.display.HTML object>"
            ],
            "text/html": [
              "\n",
              "            <style>\n",
              "                .geemap-dark {\n",
              "                    --jp-widgets-color: white;\n",
              "                    --jp-widgets-label-color: white;\n",
              "                    --jp-ui-font-color1: white;\n",
              "                    --jp-layout-color2: #454545;\n",
              "                    background-color: #383838;\n",
              "                }\n",
              "                    \n",
              "                .geemap-dark .jupyter-button {\n",
              "                    --jp-layout-color3: #383838;\n",
              "                }\n",
              "                \n",
              "                .geemap-colab {\n",
              "                    background-color: var(--colab-primary-surface-color, white);\n",
              "                }\n",
              "                    \n",
              "                .geemap-colab .jupyter-button {\n",
              "                    --jp-layout-color3: var(--colab-primary-surface-color, white);\n",
              "                }\n",
              "            </style>\n",
              "            "
            ]
          },
          "metadata": {}
        }
      ]
    },
    {
      "cell_type": "code",
      "source": [
        "# Print the date of the image2 image\n",
        "date_image2 = ee.Date(image2.get('system:time_start')).format('YYYY-MM-dd')\n",
        "print('Date of the image2 image:', date_image2.getInfo())"
      ],
      "metadata": {
        "id": "6I2TgjTDVjD9",
        "outputId": "e606c7b7-c1f6-4608-adf9-a0a92ee2710c",
        "colab": {
          "base_uri": "https://localhost:8080/",
          "height": 35
        }
      },
      "execution_count": 222,
      "outputs": [
        {
          "output_type": "display_data",
          "data": {
            "text/plain": [
              "<IPython.core.display.HTML object>"
            ],
            "text/html": [
              "\n",
              "            <style>\n",
              "                .geemap-dark {\n",
              "                    --jp-widgets-color: white;\n",
              "                    --jp-widgets-label-color: white;\n",
              "                    --jp-ui-font-color1: white;\n",
              "                    --jp-layout-color2: #454545;\n",
              "                    background-color: #383838;\n",
              "                }\n",
              "                    \n",
              "                .geemap-dark .jupyter-button {\n",
              "                    --jp-layout-color3: #383838;\n",
              "                }\n",
              "                \n",
              "                .geemap-colab {\n",
              "                    background-color: var(--colab-primary-surface-color, white);\n",
              "                }\n",
              "                    \n",
              "                .geemap-colab .jupyter-button {\n",
              "                    --jp-layout-color3: var(--colab-primary-surface-color, white);\n",
              "                }\n",
              "            </style>\n",
              "            "
            ]
          },
          "metadata": {}
        },
        {
          "output_type": "stream",
          "name": "stdout",
          "text": [
            "Date of the image2 image: 2023-09-17\n"
          ]
        }
      ]
    },
    {
      "cell_type": "code",
      "source": [
        "# @title\n",
        "ndvi_despues = ndvi2.reduceRegion(\n",
        "    reducer=ee.Reducer.mean(),\n",
        "    scale=30,\n",
        "    maxPixels=1e9\n",
        ")\n",
        "\n",
        "ndvi_despues = ndvi_despues.get('NDVI').getInfo()\n",
        "\n",
        "print('NDVI Despues:', ndvi_despues)"
      ],
      "metadata": {
        "id": "APeSEcyshaX7",
        "outputId": "edbd6c01-48cf-4b45-b741-7ede220e25ef",
        "colab": {
          "base_uri": "https://localhost:8080/",
          "height": 35
        }
      },
      "execution_count": 223,
      "outputs": [
        {
          "output_type": "display_data",
          "data": {
            "text/plain": [
              "<IPython.core.display.HTML object>"
            ],
            "text/html": [
              "\n",
              "            <style>\n",
              "                .geemap-dark {\n",
              "                    --jp-widgets-color: white;\n",
              "                    --jp-widgets-label-color: white;\n",
              "                    --jp-ui-font-color1: white;\n",
              "                    --jp-layout-color2: #454545;\n",
              "                    background-color: #383838;\n",
              "                }\n",
              "                    \n",
              "                .geemap-dark .jupyter-button {\n",
              "                    --jp-layout-color3: #383838;\n",
              "                }\n",
              "                \n",
              "                .geemap-colab {\n",
              "                    background-color: var(--colab-primary-surface-color, white);\n",
              "                }\n",
              "                    \n",
              "                .geemap-colab .jupyter-button {\n",
              "                    --jp-layout-color3: var(--colab-primary-surface-color, white);\n",
              "                }\n",
              "            </style>\n",
              "            "
            ]
          },
          "metadata": {}
        },
        {
          "output_type": "stream",
          "name": "stdout",
          "text": [
            "NDVI Despues: 0.8451962613228494\n"
          ]
        }
      ]
    },
    {
      "cell_type": "markdown",
      "source": [
        "#### Imagenes"
      ],
      "metadata": {
        "id": "Ro8Kt98SHJ1q"
      }
    },
    {
      "cell_type": "code",
      "source": [
        "image1"
      ],
      "metadata": {
        "id": "wVLPa7nzUlEC",
        "outputId": "3f87fc72-aba8-4512-8232-251a24591a9f",
        "colab": {
          "base_uri": "https://localhost:8080/",
          "height": 68
        }
      },
      "execution_count": 224,
      "outputs": [
        {
          "output_type": "display_data",
          "data": {
            "text/plain": [
              "<IPython.core.display.HTML object>"
            ],
            "text/html": [
              "\n",
              "            <style>\n",
              "                .geemap-dark {\n",
              "                    --jp-widgets-color: white;\n",
              "                    --jp-widgets-label-color: white;\n",
              "                    --jp-ui-font-color1: white;\n",
              "                    --jp-layout-color2: #454545;\n",
              "                    background-color: #383838;\n",
              "                }\n",
              "                    \n",
              "                .geemap-dark .jupyter-button {\n",
              "                    --jp-layout-color3: #383838;\n",
              "                }\n",
              "                \n",
              "                .geemap-colab {\n",
              "                    background-color: var(--colab-primary-surface-color, white);\n",
              "                }\n",
              "                    \n",
              "                .geemap-colab .jupyter-button {\n",
              "                    --jp-layout-color3: var(--colab-primary-surface-color, white);\n",
              "                }\n",
              "            </style>\n",
              "            "
            ]
          },
          "metadata": {}
        },
        {
          "output_type": "execute_result",
          "data": {
            "text/plain": [
              "<ee.image.Image at 0x7f8daa9795a0>"
            ],
            "text/html": [
              "<div><style>:root {\n",
              "  --font-color-primary: var(--jp-content-font-color0, rgba(0, 0, 0, 1));\n",
              "  --font-color-secondary: var(--jp-content-font-color2, rgba(0, 0, 0, 0.6));\n",
              "  --font-color-accent: rgba(123, 31, 162, 1);\n",
              "  --border-color: var(--jp-border-color2, #e0e0e0);\n",
              "  --background-color: var(--jp-layout-color0, white);\n",
              "  --background-color-row-even: var(--jp-layout-color1, white);\n",
              "  --background-color-row-odd: var(--jp-layout-color2, #eeeeee);\n",
              "}\n",
              "\n",
              "html[theme=\"dark\"],\n",
              "body[data-theme=\"dark\"],\n",
              "body.vscode-dark {\n",
              "  --font-color-primary: rgba(255, 255, 255, 1);\n",
              "  --font-color-secondary: rgba(255, 255, 255, 0.6);\n",
              "  --font-color-accent: rgb(173, 132, 190);\n",
              "  --border-color: #2e2e2e;\n",
              "  --background-color: #111111;\n",
              "  --background-color-row-even: #111111;\n",
              "  --background-color-row-odd: #313131;\n",
              "}\n",
              "\n",
              ".ee {\n",
              "  padding: 1em;\n",
              "  line-height: 1.5em;\n",
              "  min-width: 300px;\n",
              "  max-width: 1200px;\n",
              "  overflow-y: scroll;\n",
              "  max-height: 600px;\n",
              "  border: 1px solid var(--border-color);\n",
              "  font-family: monospace;\n",
              "}\n",
              "\n",
              ".ee li {\n",
              "  list-style-type: none;\n",
              "}\n",
              "\n",
              ".ee ul {\n",
              "  padding-left: 1.5em !important;\n",
              "  margin: 0;\n",
              "}\n",
              "\n",
              ".ee > ul {\n",
              "  padding-left: 0 !important;\n",
              "}\n",
              "\n",
              ".ee-open,\n",
              ".ee-shut {\n",
              "  color: var(--font-color-secondary);\n",
              "  cursor: pointer;\n",
              "  margin: 0;\n",
              "}\n",
              "\n",
              ".ee-open:hover,\n",
              ".ee-shut:hover {\n",
              "  color: var(--font-color-primary);\n",
              "}\n",
              "\n",
              ".ee-k {\n",
              "  color: var(--font-color-accent);\n",
              "  margin-right: 6px;\n",
              "}\n",
              "\n",
              ".ee-v {\n",
              "  color: var(--font-color-primary);\n",
              "}\n",
              "\n",
              ".ee-toggle {\n",
              "  display: none;\n",
              "}\n",
              "\n",
              ".ee-shut + ul {\n",
              "  display: none;\n",
              "}\n",
              "\n",
              ".ee-open + ul {\n",
              "  display: block;\n",
              "}\n",
              "\n",
              ".ee-shut::before {\n",
              "  display: inline-block;\n",
              "  content: \"▼\";\n",
              "  margin-right: 6px;\n",
              "  transform: rotate(-90deg);\n",
              "  transition: transform 0.2s;\n",
              "}\n",
              "\n",
              ".ee-open::before {\n",
              "  transform: rotate(0deg);\n",
              "  display: inline-block;\n",
              "  content: \"▼\";\n",
              "  margin-right: 6px;\n",
              "  transition: transform 0.2s;\n",
              "}\n",
              "</style><div class='ee'><ul><li><label class='ee-shut'>Image COPERNICUS/S2_SR_HARMONIZED/20190809T151711_20190809T151806_T18MXA (23 bands)<input type='checkbox' class='ee-toggle'></label><ul><li><span class='ee-k'>type:</span><span class='ee-v'>Image</span></li><li><span class='ee-k'>id:</span><span class='ee-v'>COPERNICUS/S2_SR_HARMONIZED/20190809T151711_20190809T151806_T18MXA</span></li><li><span class='ee-k'>version:</span><span class='ee-v'>1708363825581643</span></li><li><label class='ee-shut'>bands: List (23 elements)<input type='checkbox' class='ee-toggle'></label><ul><li><label class='ee-shut'>0: \"B1\", unsigned int16, EPSG:32718, 366x597 px<input type='checkbox' class='ee-toggle'></label><ul><li><span class='ee-k'>id:</span><span class='ee-v'>B1</span></li><li><span class='ee-k'>crs:</span><span class='ee-v'>EPSG:32718</span></li><li><label class='ee-shut'>crs_transform: [60, 0, 600000, 0, -60, 9600040]<input type='checkbox' class='ee-toggle'></label><ul><li><span class='ee-k'>0:</span><span class='ee-v'>60</span></li><li><span class='ee-k'>1:</span><span class='ee-v'>0</span></li><li><span class='ee-k'>2:</span><span class='ee-v'>600000</span></li><li><span class='ee-k'>3:</span><span class='ee-v'>0</span></li><li><span class='ee-k'>4:</span><span class='ee-v'>-60</span></li><li><span class='ee-k'>5:</span><span class='ee-v'>9600040</span></li></ul></li><li><label class='ee-shut'>data_type: unsigned int16<input type='checkbox' class='ee-toggle'></label><ul><li><span class='ee-k'>type:</span><span class='ee-v'>PixelType</span></li><li><span class='ee-k'>max:</span><span class='ee-v'>65535</span></li><li><span class='ee-k'>min:</span><span class='ee-v'>0</span></li><li><span class='ee-k'>precision:</span><span class='ee-v'>int</span></li></ul></li><li><label class='ee-shut'>dimensions: [366, 597]<input type='checkbox' class='ee-toggle'></label><ul><li><span class='ee-k'>0:</span><span class='ee-v'>366</span></li><li><span class='ee-k'>1:</span><span class='ee-v'>597</span></li></ul></li><li><label class='ee-shut'>origin: [559, 1008]<input type='checkbox' class='ee-toggle'></label><ul><li><span class='ee-k'>0:</span><span class='ee-v'>559</span></li><li><span class='ee-k'>1:</span><span class='ee-v'>1008</span></li></ul></li></ul></li><li><label class='ee-shut'>1: \"B2\", unsigned int16, EPSG:32718, 2191x3576 px<input type='checkbox' class='ee-toggle'></label><ul><li><span class='ee-k'>id:</span><span class='ee-v'>B2</span></li><li><span class='ee-k'>crs:</span><span class='ee-v'>EPSG:32718</span></li><li><label class='ee-shut'>crs_transform: [10, 0, 600000, 0, -10, 9600040]<input type='checkbox' class='ee-toggle'></label><ul><li><span class='ee-k'>0:</span><span class='ee-v'>10</span></li><li><span class='ee-k'>1:</span><span class='ee-v'>0</span></li><li><span class='ee-k'>2:</span><span class='ee-v'>600000</span></li><li><span class='ee-k'>3:</span><span class='ee-v'>0</span></li><li><span class='ee-k'>4:</span><span class='ee-v'>-10</span></li><li><span class='ee-k'>5:</span><span class='ee-v'>9600040</span></li></ul></li><li><label class='ee-shut'>data_type: unsigned int16<input type='checkbox' class='ee-toggle'></label><ul><li><span class='ee-k'>type:</span><span class='ee-v'>PixelType</span></li><li><span class='ee-k'>max:</span><span class='ee-v'>65535</span></li><li><span class='ee-k'>min:</span><span class='ee-v'>0</span></li><li><span class='ee-k'>precision:</span><span class='ee-v'>int</span></li></ul></li><li><label class='ee-shut'>dimensions: [2191, 3576]<input type='checkbox' class='ee-toggle'></label><ul><li><span class='ee-k'>0:</span><span class='ee-v'>2191</span></li><li><span class='ee-k'>1:</span><span class='ee-v'>3576</span></li></ul></li><li><label class='ee-shut'>origin: [3356, 6051]<input type='checkbox' class='ee-toggle'></label><ul><li><span class='ee-k'>0:</span><span class='ee-v'>3356</span></li><li><span class='ee-k'>1:</span><span class='ee-v'>6051</span></li></ul></li></ul></li><li><label class='ee-shut'>2: \"B3\", unsigned int16, EPSG:32718, 2191x3576 px<input type='checkbox' class='ee-toggle'></label><ul><li><span class='ee-k'>id:</span><span class='ee-v'>B3</span></li><li><span class='ee-k'>crs:</span><span class='ee-v'>EPSG:32718</span></li><li><label class='ee-shut'>crs_transform: [10, 0, 600000, 0, -10, 9600040]<input type='checkbox' class='ee-toggle'></label><ul><li><span class='ee-k'>0:</span><span class='ee-v'>10</span></li><li><span class='ee-k'>1:</span><span class='ee-v'>0</span></li><li><span class='ee-k'>2:</span><span class='ee-v'>600000</span></li><li><span class='ee-k'>3:</span><span class='ee-v'>0</span></li><li><span class='ee-k'>4:</span><span class='ee-v'>-10</span></li><li><span class='ee-k'>5:</span><span class='ee-v'>9600040</span></li></ul></li><li><label class='ee-shut'>data_type: unsigned int16<input type='checkbox' class='ee-toggle'></label><ul><li><span class='ee-k'>type:</span><span class='ee-v'>PixelType</span></li><li><span class='ee-k'>max:</span><span class='ee-v'>65535</span></li><li><span class='ee-k'>min:</span><span class='ee-v'>0</span></li><li><span class='ee-k'>precision:</span><span class='ee-v'>int</span></li></ul></li><li><label class='ee-shut'>dimensions: [2191, 3576]<input type='checkbox' class='ee-toggle'></label><ul><li><span class='ee-k'>0:</span><span class='ee-v'>2191</span></li><li><span class='ee-k'>1:</span><span class='ee-v'>3576</span></li></ul></li><li><label class='ee-shut'>origin: [3356, 6051]<input type='checkbox' class='ee-toggle'></label><ul><li><span class='ee-k'>0:</span><span class='ee-v'>3356</span></li><li><span class='ee-k'>1:</span><span class='ee-v'>6051</span></li></ul></li></ul></li><li><label class='ee-shut'>3: \"B4\", unsigned int16, EPSG:32718, 2191x3576 px<input type='checkbox' class='ee-toggle'></label><ul><li><span class='ee-k'>id:</span><span class='ee-v'>B4</span></li><li><span class='ee-k'>crs:</span><span class='ee-v'>EPSG:32718</span></li><li><label class='ee-shut'>crs_transform: [10, 0, 600000, 0, -10, 9600040]<input type='checkbox' class='ee-toggle'></label><ul><li><span class='ee-k'>0:</span><span class='ee-v'>10</span></li><li><span class='ee-k'>1:</span><span class='ee-v'>0</span></li><li><span class='ee-k'>2:</span><span class='ee-v'>600000</span></li><li><span class='ee-k'>3:</span><span class='ee-v'>0</span></li><li><span class='ee-k'>4:</span><span class='ee-v'>-10</span></li><li><span class='ee-k'>5:</span><span class='ee-v'>9600040</span></li></ul></li><li><label class='ee-shut'>data_type: unsigned int16<input type='checkbox' class='ee-toggle'></label><ul><li><span class='ee-k'>type:</span><span class='ee-v'>PixelType</span></li><li><span class='ee-k'>max:</span><span class='ee-v'>65535</span></li><li><span class='ee-k'>min:</span><span class='ee-v'>0</span></li><li><span class='ee-k'>precision:</span><span class='ee-v'>int</span></li></ul></li><li><label class='ee-shut'>dimensions: [2191, 3576]<input type='checkbox' class='ee-toggle'></label><ul><li><span class='ee-k'>0:</span><span class='ee-v'>2191</span></li><li><span class='ee-k'>1:</span><span class='ee-v'>3576</span></li></ul></li><li><label class='ee-shut'>origin: [3356, 6051]<input type='checkbox' class='ee-toggle'></label><ul><li><span class='ee-k'>0:</span><span class='ee-v'>3356</span></li><li><span class='ee-k'>1:</span><span class='ee-v'>6051</span></li></ul></li></ul></li><li><label class='ee-shut'>4: \"B5\", unsigned int16, EPSG:32718, 1096x1789 px<input type='checkbox' class='ee-toggle'></label><ul><li><span class='ee-k'>id:</span><span class='ee-v'>B5</span></li><li><span class='ee-k'>crs:</span><span class='ee-v'>EPSG:32718</span></li><li><label class='ee-shut'>crs_transform: [20, 0, 600000, 0, -20, 9600040]<input type='checkbox' class='ee-toggle'></label><ul><li><span class='ee-k'>0:</span><span class='ee-v'>20</span></li><li><span class='ee-k'>1:</span><span class='ee-v'>0</span></li><li><span class='ee-k'>2:</span><span class='ee-v'>600000</span></li><li><span class='ee-k'>3:</span><span class='ee-v'>0</span></li><li><span class='ee-k'>4:</span><span class='ee-v'>-20</span></li><li><span class='ee-k'>5:</span><span class='ee-v'>9600040</span></li></ul></li><li><label class='ee-shut'>data_type: unsigned int16<input type='checkbox' class='ee-toggle'></label><ul><li><span class='ee-k'>type:</span><span class='ee-v'>PixelType</span></li><li><span class='ee-k'>max:</span><span class='ee-v'>65535</span></li><li><span class='ee-k'>min:</span><span class='ee-v'>0</span></li><li><span class='ee-k'>precision:</span><span class='ee-v'>int</span></li></ul></li><li><label class='ee-shut'>dimensions: [1096, 1789]<input type='checkbox' class='ee-toggle'></label><ul><li><span class='ee-k'>0:</span><span class='ee-v'>1096</span></li><li><span class='ee-k'>1:</span><span class='ee-v'>1789</span></li></ul></li><li><label class='ee-shut'>origin: [1678, 3025]<input type='checkbox' class='ee-toggle'></label><ul><li><span class='ee-k'>0:</span><span class='ee-v'>1678</span></li><li><span class='ee-k'>1:</span><span class='ee-v'>3025</span></li></ul></li></ul></li><li><label class='ee-shut'>5: \"B6\", unsigned int16, EPSG:32718, 1096x1789 px<input type='checkbox' class='ee-toggle'></label><ul><li><span class='ee-k'>id:</span><span class='ee-v'>B6</span></li><li><span class='ee-k'>crs:</span><span class='ee-v'>EPSG:32718</span></li><li><label class='ee-shut'>crs_transform: [20, 0, 600000, 0, -20, 9600040]<input type='checkbox' class='ee-toggle'></label><ul><li><span class='ee-k'>0:</span><span class='ee-v'>20</span></li><li><span class='ee-k'>1:</span><span class='ee-v'>0</span></li><li><span class='ee-k'>2:</span><span class='ee-v'>600000</span></li><li><span class='ee-k'>3:</span><span class='ee-v'>0</span></li><li><span class='ee-k'>4:</span><span class='ee-v'>-20</span></li><li><span class='ee-k'>5:</span><span class='ee-v'>9600040</span></li></ul></li><li><label class='ee-shut'>data_type: unsigned int16<input type='checkbox' class='ee-toggle'></label><ul><li><span class='ee-k'>type:</span><span class='ee-v'>PixelType</span></li><li><span class='ee-k'>max:</span><span class='ee-v'>65535</span></li><li><span class='ee-k'>min:</span><span class='ee-v'>0</span></li><li><span class='ee-k'>precision:</span><span class='ee-v'>int</span></li></ul></li><li><label class='ee-shut'>dimensions: [1096, 1789]<input type='checkbox' class='ee-toggle'></label><ul><li><span class='ee-k'>0:</span><span class='ee-v'>1096</span></li><li><span class='ee-k'>1:</span><span class='ee-v'>1789</span></li></ul></li><li><label class='ee-shut'>origin: [1678, 3025]<input type='checkbox' class='ee-toggle'></label><ul><li><span class='ee-k'>0:</span><span class='ee-v'>1678</span></li><li><span class='ee-k'>1:</span><span class='ee-v'>3025</span></li></ul></li></ul></li><li><label class='ee-shut'>6: \"B7\", unsigned int16, EPSG:32718, 1096x1789 px<input type='checkbox' class='ee-toggle'></label><ul><li><span class='ee-k'>id:</span><span class='ee-v'>B7</span></li><li><span class='ee-k'>crs:</span><span class='ee-v'>EPSG:32718</span></li><li><label class='ee-shut'>crs_transform: [20, 0, 600000, 0, -20, 9600040]<input type='checkbox' class='ee-toggle'></label><ul><li><span class='ee-k'>0:</span><span class='ee-v'>20</span></li><li><span class='ee-k'>1:</span><span class='ee-v'>0</span></li><li><span class='ee-k'>2:</span><span class='ee-v'>600000</span></li><li><span class='ee-k'>3:</span><span class='ee-v'>0</span></li><li><span class='ee-k'>4:</span><span class='ee-v'>-20</span></li><li><span class='ee-k'>5:</span><span class='ee-v'>9600040</span></li></ul></li><li><label class='ee-shut'>data_type: unsigned int16<input type='checkbox' class='ee-toggle'></label><ul><li><span class='ee-k'>type:</span><span class='ee-v'>PixelType</span></li><li><span class='ee-k'>max:</span><span class='ee-v'>65535</span></li><li><span class='ee-k'>min:</span><span class='ee-v'>0</span></li><li><span class='ee-k'>precision:</span><span class='ee-v'>int</span></li></ul></li><li><label class='ee-shut'>dimensions: [1096, 1789]<input type='checkbox' class='ee-toggle'></label><ul><li><span class='ee-k'>0:</span><span class='ee-v'>1096</span></li><li><span class='ee-k'>1:</span><span class='ee-v'>1789</span></li></ul></li><li><label class='ee-shut'>origin: [1678, 3025]<input type='checkbox' class='ee-toggle'></label><ul><li><span class='ee-k'>0:</span><span class='ee-v'>1678</span></li><li><span class='ee-k'>1:</span><span class='ee-v'>3025</span></li></ul></li></ul></li><li><label class='ee-shut'>7: \"B8\", unsigned int16, EPSG:32718, 2191x3576 px<input type='checkbox' class='ee-toggle'></label><ul><li><span class='ee-k'>id:</span><span class='ee-v'>B8</span></li><li><span class='ee-k'>crs:</span><span class='ee-v'>EPSG:32718</span></li><li><label class='ee-shut'>crs_transform: [10, 0, 600000, 0, -10, 9600040]<input type='checkbox' class='ee-toggle'></label><ul><li><span class='ee-k'>0:</span><span class='ee-v'>10</span></li><li><span class='ee-k'>1:</span><span class='ee-v'>0</span></li><li><span class='ee-k'>2:</span><span class='ee-v'>600000</span></li><li><span class='ee-k'>3:</span><span class='ee-v'>0</span></li><li><span class='ee-k'>4:</span><span class='ee-v'>-10</span></li><li><span class='ee-k'>5:</span><span class='ee-v'>9600040</span></li></ul></li><li><label class='ee-shut'>data_type: unsigned int16<input type='checkbox' class='ee-toggle'></label><ul><li><span class='ee-k'>type:</span><span class='ee-v'>PixelType</span></li><li><span class='ee-k'>max:</span><span class='ee-v'>65535</span></li><li><span class='ee-k'>min:</span><span class='ee-v'>0</span></li><li><span class='ee-k'>precision:</span><span class='ee-v'>int</span></li></ul></li><li><label class='ee-shut'>dimensions: [2191, 3576]<input type='checkbox' class='ee-toggle'></label><ul><li><span class='ee-k'>0:</span><span class='ee-v'>2191</span></li><li><span class='ee-k'>1:</span><span class='ee-v'>3576</span></li></ul></li><li><label class='ee-shut'>origin: [3356, 6051]<input type='checkbox' class='ee-toggle'></label><ul><li><span class='ee-k'>0:</span><span class='ee-v'>3356</span></li><li><span class='ee-k'>1:</span><span class='ee-v'>6051</span></li></ul></li></ul></li><li><label class='ee-shut'>8: \"B8A\", unsigned int16, EPSG:32718, 1096x1789 px<input type='checkbox' class='ee-toggle'></label><ul><li><span class='ee-k'>id:</span><span class='ee-v'>B8A</span></li><li><span class='ee-k'>crs:</span><span class='ee-v'>EPSG:32718</span></li><li><label class='ee-shut'>crs_transform: [20, 0, 600000, 0, -20, 9600040]<input type='checkbox' class='ee-toggle'></label><ul><li><span class='ee-k'>0:</span><span class='ee-v'>20</span></li><li><span class='ee-k'>1:</span><span class='ee-v'>0</span></li><li><span class='ee-k'>2:</span><span class='ee-v'>600000</span></li><li><span class='ee-k'>3:</span><span class='ee-v'>0</span></li><li><span class='ee-k'>4:</span><span class='ee-v'>-20</span></li><li><span class='ee-k'>5:</span><span class='ee-v'>9600040</span></li></ul></li><li><label class='ee-shut'>data_type: unsigned int16<input type='checkbox' class='ee-toggle'></label><ul><li><span class='ee-k'>type:</span><span class='ee-v'>PixelType</span></li><li><span class='ee-k'>max:</span><span class='ee-v'>65535</span></li><li><span class='ee-k'>min:</span><span class='ee-v'>0</span></li><li><span class='ee-k'>precision:</span><span class='ee-v'>int</span></li></ul></li><li><label class='ee-shut'>dimensions: [1096, 1789]<input type='checkbox' class='ee-toggle'></label><ul><li><span class='ee-k'>0:</span><span class='ee-v'>1096</span></li><li><span class='ee-k'>1:</span><span class='ee-v'>1789</span></li></ul></li><li><label class='ee-shut'>origin: [1678, 3025]<input type='checkbox' class='ee-toggle'></label><ul><li><span class='ee-k'>0:</span><span class='ee-v'>1678</span></li><li><span class='ee-k'>1:</span><span class='ee-v'>3025</span></li></ul></li></ul></li><li><label class='ee-shut'>9: \"B9\", unsigned int16, EPSG:32718, 366x597 px<input type='checkbox' class='ee-toggle'></label><ul><li><span class='ee-k'>id:</span><span class='ee-v'>B9</span></li><li><span class='ee-k'>crs:</span><span class='ee-v'>EPSG:32718</span></li><li><label class='ee-shut'>crs_transform: [60, 0, 600000, 0, -60, 9600040]<input type='checkbox' class='ee-toggle'></label><ul><li><span class='ee-k'>0:</span><span class='ee-v'>60</span></li><li><span class='ee-k'>1:</span><span class='ee-v'>0</span></li><li><span class='ee-k'>2:</span><span class='ee-v'>600000</span></li><li><span class='ee-k'>3:</span><span class='ee-v'>0</span></li><li><span class='ee-k'>4:</span><span class='ee-v'>-60</span></li><li><span class='ee-k'>5:</span><span class='ee-v'>9600040</span></li></ul></li><li><label class='ee-shut'>data_type: unsigned int16<input type='checkbox' class='ee-toggle'></label><ul><li><span class='ee-k'>type:</span><span class='ee-v'>PixelType</span></li><li><span class='ee-k'>max:</span><span class='ee-v'>65535</span></li><li><span class='ee-k'>min:</span><span class='ee-v'>0</span></li><li><span class='ee-k'>precision:</span><span class='ee-v'>int</span></li></ul></li><li><label class='ee-shut'>dimensions: [366, 597]<input type='checkbox' class='ee-toggle'></label><ul><li><span class='ee-k'>0:</span><span class='ee-v'>366</span></li><li><span class='ee-k'>1:</span><span class='ee-v'>597</span></li></ul></li><li><label class='ee-shut'>origin: [559, 1008]<input type='checkbox' class='ee-toggle'></label><ul><li><span class='ee-k'>0:</span><span class='ee-v'>559</span></li><li><span class='ee-k'>1:</span><span class='ee-v'>1008</span></li></ul></li></ul></li><li><label class='ee-shut'>10: \"B11\", unsigned int16, EPSG:32718, 1096x1789 px<input type='checkbox' class='ee-toggle'></label><ul><li><span class='ee-k'>id:</span><span class='ee-v'>B11</span></li><li><span class='ee-k'>crs:</span><span class='ee-v'>EPSG:32718</span></li><li><label class='ee-shut'>crs_transform: [20, 0, 600000, 0, -20, 9600040]<input type='checkbox' class='ee-toggle'></label><ul><li><span class='ee-k'>0:</span><span class='ee-v'>20</span></li><li><span class='ee-k'>1:</span><span class='ee-v'>0</span></li><li><span class='ee-k'>2:</span><span class='ee-v'>600000</span></li><li><span class='ee-k'>3:</span><span class='ee-v'>0</span></li><li><span class='ee-k'>4:</span><span class='ee-v'>-20</span></li><li><span class='ee-k'>5:</span><span class='ee-v'>9600040</span></li></ul></li><li><label class='ee-shut'>data_type: unsigned int16<input type='checkbox' class='ee-toggle'></label><ul><li><span class='ee-k'>type:</span><span class='ee-v'>PixelType</span></li><li><span class='ee-k'>max:</span><span class='ee-v'>65535</span></li><li><span class='ee-k'>min:</span><span class='ee-v'>0</span></li><li><span class='ee-k'>precision:</span><span class='ee-v'>int</span></li></ul></li><li><label class='ee-shut'>dimensions: [1096, 1789]<input type='checkbox' class='ee-toggle'></label><ul><li><span class='ee-k'>0:</span><span class='ee-v'>1096</span></li><li><span class='ee-k'>1:</span><span class='ee-v'>1789</span></li></ul></li><li><label class='ee-shut'>origin: [1678, 3025]<input type='checkbox' class='ee-toggle'></label><ul><li><span class='ee-k'>0:</span><span class='ee-v'>1678</span></li><li><span class='ee-k'>1:</span><span class='ee-v'>3025</span></li></ul></li></ul></li><li><label class='ee-shut'>11: \"B12\", unsigned int16, EPSG:32718, 1096x1789 px<input type='checkbox' class='ee-toggle'></label><ul><li><span class='ee-k'>id:</span><span class='ee-v'>B12</span></li><li><span class='ee-k'>crs:</span><span class='ee-v'>EPSG:32718</span></li><li><label class='ee-shut'>crs_transform: [20, 0, 600000, 0, -20, 9600040]<input type='checkbox' class='ee-toggle'></label><ul><li><span class='ee-k'>0:</span><span class='ee-v'>20</span></li><li><span class='ee-k'>1:</span><span class='ee-v'>0</span></li><li><span class='ee-k'>2:</span><span class='ee-v'>600000</span></li><li><span class='ee-k'>3:</span><span class='ee-v'>0</span></li><li><span class='ee-k'>4:</span><span class='ee-v'>-20</span></li><li><span class='ee-k'>5:</span><span class='ee-v'>9600040</span></li></ul></li><li><label class='ee-shut'>data_type: unsigned int16<input type='checkbox' class='ee-toggle'></label><ul><li><span class='ee-k'>type:</span><span class='ee-v'>PixelType</span></li><li><span class='ee-k'>max:</span><span class='ee-v'>65535</span></li><li><span class='ee-k'>min:</span><span class='ee-v'>0</span></li><li><span class='ee-k'>precision:</span><span class='ee-v'>int</span></li></ul></li><li><label class='ee-shut'>dimensions: [1096, 1789]<input type='checkbox' class='ee-toggle'></label><ul><li><span class='ee-k'>0:</span><span class='ee-v'>1096</span></li><li><span class='ee-k'>1:</span><span class='ee-v'>1789</span></li></ul></li><li><label class='ee-shut'>origin: [1678, 3025]<input type='checkbox' class='ee-toggle'></label><ul><li><span class='ee-k'>0:</span><span class='ee-v'>1678</span></li><li><span class='ee-k'>1:</span><span class='ee-v'>3025</span></li></ul></li></ul></li><li><label class='ee-shut'>12: \"AOT\", unsigned int16, EPSG:32718, 2191x3576 px<input type='checkbox' class='ee-toggle'></label><ul><li><span class='ee-k'>id:</span><span class='ee-v'>AOT</span></li><li><span class='ee-k'>crs:</span><span class='ee-v'>EPSG:32718</span></li><li><label class='ee-shut'>crs_transform: [10, 0, 600000, 0, -10, 9600040]<input type='checkbox' class='ee-toggle'></label><ul><li><span class='ee-k'>0:</span><span class='ee-v'>10</span></li><li><span class='ee-k'>1:</span><span class='ee-v'>0</span></li><li><span class='ee-k'>2:</span><span class='ee-v'>600000</span></li><li><span class='ee-k'>3:</span><span class='ee-v'>0</span></li><li><span class='ee-k'>4:</span><span class='ee-v'>-10</span></li><li><span class='ee-k'>5:</span><span class='ee-v'>9600040</span></li></ul></li><li><label class='ee-shut'>data_type: unsigned int16<input type='checkbox' class='ee-toggle'></label><ul><li><span class='ee-k'>type:</span><span class='ee-v'>PixelType</span></li><li><span class='ee-k'>max:</span><span class='ee-v'>65535</span></li><li><span class='ee-k'>min:</span><span class='ee-v'>0</span></li><li><span class='ee-k'>precision:</span><span class='ee-v'>int</span></li></ul></li><li><label class='ee-shut'>dimensions: [2191, 3576]<input type='checkbox' class='ee-toggle'></label><ul><li><span class='ee-k'>0:</span><span class='ee-v'>2191</span></li><li><span class='ee-k'>1:</span><span class='ee-v'>3576</span></li></ul></li><li><label class='ee-shut'>origin: [3356, 6051]<input type='checkbox' class='ee-toggle'></label><ul><li><span class='ee-k'>0:</span><span class='ee-v'>3356</span></li><li><span class='ee-k'>1:</span><span class='ee-v'>6051</span></li></ul></li></ul></li><li><label class='ee-shut'>13: \"WVP\", unsigned int16, EPSG:32718, 2191x3576 px<input type='checkbox' class='ee-toggle'></label><ul><li><span class='ee-k'>id:</span><span class='ee-v'>WVP</span></li><li><span class='ee-k'>crs:</span><span class='ee-v'>EPSG:32718</span></li><li><label class='ee-shut'>crs_transform: [10, 0, 600000, 0, -10, 9600040]<input type='checkbox' class='ee-toggle'></label><ul><li><span class='ee-k'>0:</span><span class='ee-v'>10</span></li><li><span class='ee-k'>1:</span><span class='ee-v'>0</span></li><li><span class='ee-k'>2:</span><span class='ee-v'>600000</span></li><li><span class='ee-k'>3:</span><span class='ee-v'>0</span></li><li><span class='ee-k'>4:</span><span class='ee-v'>-10</span></li><li><span class='ee-k'>5:</span><span class='ee-v'>9600040</span></li></ul></li><li><label class='ee-shut'>data_type: unsigned int16<input type='checkbox' class='ee-toggle'></label><ul><li><span class='ee-k'>type:</span><span class='ee-v'>PixelType</span></li><li><span class='ee-k'>max:</span><span class='ee-v'>65535</span></li><li><span class='ee-k'>min:</span><span class='ee-v'>0</span></li><li><span class='ee-k'>precision:</span><span class='ee-v'>int</span></li></ul></li><li><label class='ee-shut'>dimensions: [2191, 3576]<input type='checkbox' class='ee-toggle'></label><ul><li><span class='ee-k'>0:</span><span class='ee-v'>2191</span></li><li><span class='ee-k'>1:</span><span class='ee-v'>3576</span></li></ul></li><li><label class='ee-shut'>origin: [3356, 6051]<input type='checkbox' class='ee-toggle'></label><ul><li><span class='ee-k'>0:</span><span class='ee-v'>3356</span></li><li><span class='ee-k'>1:</span><span class='ee-v'>6051</span></li></ul></li></ul></li><li><label class='ee-shut'>14: \"SCL\", unsigned int8, EPSG:32718, 1096x1789 px<input type='checkbox' class='ee-toggle'></label><ul><li><span class='ee-k'>id:</span><span class='ee-v'>SCL</span></li><li><span class='ee-k'>crs:</span><span class='ee-v'>EPSG:32718</span></li><li><label class='ee-shut'>crs_transform: [20, 0, 600000, 0, -20, 9600040]<input type='checkbox' class='ee-toggle'></label><ul><li><span class='ee-k'>0:</span><span class='ee-v'>20</span></li><li><span class='ee-k'>1:</span><span class='ee-v'>0</span></li><li><span class='ee-k'>2:</span><span class='ee-v'>600000</span></li><li><span class='ee-k'>3:</span><span class='ee-v'>0</span></li><li><span class='ee-k'>4:</span><span class='ee-v'>-20</span></li><li><span class='ee-k'>5:</span><span class='ee-v'>9600040</span></li></ul></li><li><label class='ee-shut'>data_type: unsigned int8<input type='checkbox' class='ee-toggle'></label><ul><li><span class='ee-k'>type:</span><span class='ee-v'>PixelType</span></li><li><span class='ee-k'>max:</span><span class='ee-v'>255</span></li><li><span class='ee-k'>min:</span><span class='ee-v'>0</span></li><li><span class='ee-k'>precision:</span><span class='ee-v'>int</span></li></ul></li><li><label class='ee-shut'>dimensions: [1096, 1789]<input type='checkbox' class='ee-toggle'></label><ul><li><span class='ee-k'>0:</span><span class='ee-v'>1096</span></li><li><span class='ee-k'>1:</span><span class='ee-v'>1789</span></li></ul></li><li><label class='ee-shut'>origin: [1678, 3025]<input type='checkbox' class='ee-toggle'></label><ul><li><span class='ee-k'>0:</span><span class='ee-v'>1678</span></li><li><span class='ee-k'>1:</span><span class='ee-v'>3025</span></li></ul></li></ul></li><li><label class='ee-shut'>15: \"TCI_R\", unsigned int8, EPSG:32718, 2191x3576 px<input type='checkbox' class='ee-toggle'></label><ul><li><span class='ee-k'>id:</span><span class='ee-v'>TCI_R</span></li><li><span class='ee-k'>crs:</span><span class='ee-v'>EPSG:32718</span></li><li><label class='ee-shut'>crs_transform: [10, 0, 600000, 0, -10, 9600040]<input type='checkbox' class='ee-toggle'></label><ul><li><span class='ee-k'>0:</span><span class='ee-v'>10</span></li><li><span class='ee-k'>1:</span><span class='ee-v'>0</span></li><li><span class='ee-k'>2:</span><span class='ee-v'>600000</span></li><li><span class='ee-k'>3:</span><span class='ee-v'>0</span></li><li><span class='ee-k'>4:</span><span class='ee-v'>-10</span></li><li><span class='ee-k'>5:</span><span class='ee-v'>9600040</span></li></ul></li><li><label class='ee-shut'>data_type: unsigned int8<input type='checkbox' class='ee-toggle'></label><ul><li><span class='ee-k'>type:</span><span class='ee-v'>PixelType</span></li><li><span class='ee-k'>max:</span><span class='ee-v'>255</span></li><li><span class='ee-k'>min:</span><span class='ee-v'>0</span></li><li><span class='ee-k'>precision:</span><span class='ee-v'>int</span></li></ul></li><li><label class='ee-shut'>dimensions: [2191, 3576]<input type='checkbox' class='ee-toggle'></label><ul><li><span class='ee-k'>0:</span><span class='ee-v'>2191</span></li><li><span class='ee-k'>1:</span><span class='ee-v'>3576</span></li></ul></li><li><label class='ee-shut'>origin: [3356, 6051]<input type='checkbox' class='ee-toggle'></label><ul><li><span class='ee-k'>0:</span><span class='ee-v'>3356</span></li><li><span class='ee-k'>1:</span><span class='ee-v'>6051</span></li></ul></li></ul></li><li><label class='ee-shut'>16: \"TCI_G\", unsigned int8, EPSG:32718, 2191x3576 px<input type='checkbox' class='ee-toggle'></label><ul><li><span class='ee-k'>id:</span><span class='ee-v'>TCI_G</span></li><li><span class='ee-k'>crs:</span><span class='ee-v'>EPSG:32718</span></li><li><label class='ee-shut'>crs_transform: [10, 0, 600000, 0, -10, 9600040]<input type='checkbox' class='ee-toggle'></label><ul><li><span class='ee-k'>0:</span><span class='ee-v'>10</span></li><li><span class='ee-k'>1:</span><span class='ee-v'>0</span></li><li><span class='ee-k'>2:</span><span class='ee-v'>600000</span></li><li><span class='ee-k'>3:</span><span class='ee-v'>0</span></li><li><span class='ee-k'>4:</span><span class='ee-v'>-10</span></li><li><span class='ee-k'>5:</span><span class='ee-v'>9600040</span></li></ul></li><li><label class='ee-shut'>data_type: unsigned int8<input type='checkbox' class='ee-toggle'></label><ul><li><span class='ee-k'>type:</span><span class='ee-v'>PixelType</span></li><li><span class='ee-k'>max:</span><span class='ee-v'>255</span></li><li><span class='ee-k'>min:</span><span class='ee-v'>0</span></li><li><span class='ee-k'>precision:</span><span class='ee-v'>int</span></li></ul></li><li><label class='ee-shut'>dimensions: [2191, 3576]<input type='checkbox' class='ee-toggle'></label><ul><li><span class='ee-k'>0:</span><span class='ee-v'>2191</span></li><li><span class='ee-k'>1:</span><span class='ee-v'>3576</span></li></ul></li><li><label class='ee-shut'>origin: [3356, 6051]<input type='checkbox' class='ee-toggle'></label><ul><li><span class='ee-k'>0:</span><span class='ee-v'>3356</span></li><li><span class='ee-k'>1:</span><span class='ee-v'>6051</span></li></ul></li></ul></li><li><label class='ee-shut'>17: \"TCI_B\", unsigned int8, EPSG:32718, 2191x3576 px<input type='checkbox' class='ee-toggle'></label><ul><li><span class='ee-k'>id:</span><span class='ee-v'>TCI_B</span></li><li><span class='ee-k'>crs:</span><span class='ee-v'>EPSG:32718</span></li><li><label class='ee-shut'>crs_transform: [10, 0, 600000, 0, -10, 9600040]<input type='checkbox' class='ee-toggle'></label><ul><li><span class='ee-k'>0:</span><span class='ee-v'>10</span></li><li><span class='ee-k'>1:</span><span class='ee-v'>0</span></li><li><span class='ee-k'>2:</span><span class='ee-v'>600000</span></li><li><span class='ee-k'>3:</span><span class='ee-v'>0</span></li><li><span class='ee-k'>4:</span><span class='ee-v'>-10</span></li><li><span class='ee-k'>5:</span><span class='ee-v'>9600040</span></li></ul></li><li><label class='ee-shut'>data_type: unsigned int8<input type='checkbox' class='ee-toggle'></label><ul><li><span class='ee-k'>type:</span><span class='ee-v'>PixelType</span></li><li><span class='ee-k'>max:</span><span class='ee-v'>255</span></li><li><span class='ee-k'>min:</span><span class='ee-v'>0</span></li><li><span class='ee-k'>precision:</span><span class='ee-v'>int</span></li></ul></li><li><label class='ee-shut'>dimensions: [2191, 3576]<input type='checkbox' class='ee-toggle'></label><ul><li><span class='ee-k'>0:</span><span class='ee-v'>2191</span></li><li><span class='ee-k'>1:</span><span class='ee-v'>3576</span></li></ul></li><li><label class='ee-shut'>origin: [3356, 6051]<input type='checkbox' class='ee-toggle'></label><ul><li><span class='ee-k'>0:</span><span class='ee-v'>3356</span></li><li><span class='ee-k'>1:</span><span class='ee-v'>6051</span></li></ul></li></ul></li><li><label class='ee-shut'>18: \"MSK_CLDPRB\", unsigned int8, EPSG:32718, 1096x1789 px<input type='checkbox' class='ee-toggle'></label><ul><li><span class='ee-k'>id:</span><span class='ee-v'>MSK_CLDPRB</span></li><li><span class='ee-k'>crs:</span><span class='ee-v'>EPSG:32718</span></li><li><label class='ee-shut'>crs_transform: [20, 0, 600000, 0, -20, 9600040]<input type='checkbox' class='ee-toggle'></label><ul><li><span class='ee-k'>0:</span><span class='ee-v'>20</span></li><li><span class='ee-k'>1:</span><span class='ee-v'>0</span></li><li><span class='ee-k'>2:</span><span class='ee-v'>600000</span></li><li><span class='ee-k'>3:</span><span class='ee-v'>0</span></li><li><span class='ee-k'>4:</span><span class='ee-v'>-20</span></li><li><span class='ee-k'>5:</span><span class='ee-v'>9600040</span></li></ul></li><li><label class='ee-shut'>data_type: unsigned int8<input type='checkbox' class='ee-toggle'></label><ul><li><span class='ee-k'>type:</span><span class='ee-v'>PixelType</span></li><li><span class='ee-k'>max:</span><span class='ee-v'>255</span></li><li><span class='ee-k'>min:</span><span class='ee-v'>0</span></li><li><span class='ee-k'>precision:</span><span class='ee-v'>int</span></li></ul></li><li><label class='ee-shut'>dimensions: [1096, 1789]<input type='checkbox' class='ee-toggle'></label><ul><li><span class='ee-k'>0:</span><span class='ee-v'>1096</span></li><li><span class='ee-k'>1:</span><span class='ee-v'>1789</span></li></ul></li><li><label class='ee-shut'>origin: [1678, 3025]<input type='checkbox' class='ee-toggle'></label><ul><li><span class='ee-k'>0:</span><span class='ee-v'>1678</span></li><li><span class='ee-k'>1:</span><span class='ee-v'>3025</span></li></ul></li></ul></li><li><label class='ee-shut'>19: \"MSK_SNWPRB\", unsigned int8, EPSG:32718, 1096x1789 px<input type='checkbox' class='ee-toggle'></label><ul><li><span class='ee-k'>id:</span><span class='ee-v'>MSK_SNWPRB</span></li><li><span class='ee-k'>crs:</span><span class='ee-v'>EPSG:32718</span></li><li><label class='ee-shut'>crs_transform: [20, 0, 600000, 0, -20, 9600040]<input type='checkbox' class='ee-toggle'></label><ul><li><span class='ee-k'>0:</span><span class='ee-v'>20</span></li><li><span class='ee-k'>1:</span><span class='ee-v'>0</span></li><li><span class='ee-k'>2:</span><span class='ee-v'>600000</span></li><li><span class='ee-k'>3:</span><span class='ee-v'>0</span></li><li><span class='ee-k'>4:</span><span class='ee-v'>-20</span></li><li><span class='ee-k'>5:</span><span class='ee-v'>9600040</span></li></ul></li><li><label class='ee-shut'>data_type: unsigned int8<input type='checkbox' class='ee-toggle'></label><ul><li><span class='ee-k'>type:</span><span class='ee-v'>PixelType</span></li><li><span class='ee-k'>max:</span><span class='ee-v'>255</span></li><li><span class='ee-k'>min:</span><span class='ee-v'>0</span></li><li><span class='ee-k'>precision:</span><span class='ee-v'>int</span></li></ul></li><li><label class='ee-shut'>dimensions: [1096, 1789]<input type='checkbox' class='ee-toggle'></label><ul><li><span class='ee-k'>0:</span><span class='ee-v'>1096</span></li><li><span class='ee-k'>1:</span><span class='ee-v'>1789</span></li></ul></li><li><label class='ee-shut'>origin: [1678, 3025]<input type='checkbox' class='ee-toggle'></label><ul><li><span class='ee-k'>0:</span><span class='ee-v'>1678</span></li><li><span class='ee-k'>1:</span><span class='ee-v'>3025</span></li></ul></li></ul></li><li><label class='ee-shut'>20: \"QA10\", unsigned int16, EPSG:32718, 2191x3576 px<input type='checkbox' class='ee-toggle'></label><ul><li><span class='ee-k'>id:</span><span class='ee-v'>QA10</span></li><li><span class='ee-k'>crs:</span><span class='ee-v'>EPSG:32718</span></li><li><label class='ee-shut'>crs_transform: [10, 0, 600000, 0, -10, 9600040]<input type='checkbox' class='ee-toggle'></label><ul><li><span class='ee-k'>0:</span><span class='ee-v'>10</span></li><li><span class='ee-k'>1:</span><span class='ee-v'>0</span></li><li><span class='ee-k'>2:</span><span class='ee-v'>600000</span></li><li><span class='ee-k'>3:</span><span class='ee-v'>0</span></li><li><span class='ee-k'>4:</span><span class='ee-v'>-10</span></li><li><span class='ee-k'>5:</span><span class='ee-v'>9600040</span></li></ul></li><li><label class='ee-shut'>data_type: unsigned int16<input type='checkbox' class='ee-toggle'></label><ul><li><span class='ee-k'>type:</span><span class='ee-v'>PixelType</span></li><li><span class='ee-k'>max:</span><span class='ee-v'>65535</span></li><li><span class='ee-k'>min:</span><span class='ee-v'>0</span></li><li><span class='ee-k'>precision:</span><span class='ee-v'>int</span></li></ul></li><li><label class='ee-shut'>dimensions: [2191, 3576]<input type='checkbox' class='ee-toggle'></label><ul><li><span class='ee-k'>0:</span><span class='ee-v'>2191</span></li><li><span class='ee-k'>1:</span><span class='ee-v'>3576</span></li></ul></li><li><label class='ee-shut'>origin: [3356, 6051]<input type='checkbox' class='ee-toggle'></label><ul><li><span class='ee-k'>0:</span><span class='ee-v'>3356</span></li><li><span class='ee-k'>1:</span><span class='ee-v'>6051</span></li></ul></li></ul></li><li><label class='ee-shut'>21: \"QA20\", unsigned int32, EPSG:32718, 1096x1789 px<input type='checkbox' class='ee-toggle'></label><ul><li><span class='ee-k'>id:</span><span class='ee-v'>QA20</span></li><li><span class='ee-k'>crs:</span><span class='ee-v'>EPSG:32718</span></li><li><label class='ee-shut'>crs_transform: [20, 0, 600000, 0, -20, 9600040]<input type='checkbox' class='ee-toggle'></label><ul><li><span class='ee-k'>0:</span><span class='ee-v'>20</span></li><li><span class='ee-k'>1:</span><span class='ee-v'>0</span></li><li><span class='ee-k'>2:</span><span class='ee-v'>600000</span></li><li><span class='ee-k'>3:</span><span class='ee-v'>0</span></li><li><span class='ee-k'>4:</span><span class='ee-v'>-20</span></li><li><span class='ee-k'>5:</span><span class='ee-v'>9600040</span></li></ul></li><li><label class='ee-shut'>data_type: unsigned int32<input type='checkbox' class='ee-toggle'></label><ul><li><span class='ee-k'>type:</span><span class='ee-v'>PixelType</span></li><li><span class='ee-k'>max:</span><span class='ee-v'>4294967295</span></li><li><span class='ee-k'>min:</span><span class='ee-v'>0</span></li><li><span class='ee-k'>precision:</span><span class='ee-v'>int</span></li></ul></li><li><label class='ee-shut'>dimensions: [1096, 1789]<input type='checkbox' class='ee-toggle'></label><ul><li><span class='ee-k'>0:</span><span class='ee-v'>1096</span></li><li><span class='ee-k'>1:</span><span class='ee-v'>1789</span></li></ul></li><li><label class='ee-shut'>origin: [1678, 3025]<input type='checkbox' class='ee-toggle'></label><ul><li><span class='ee-k'>0:</span><span class='ee-v'>1678</span></li><li><span class='ee-k'>1:</span><span class='ee-v'>3025</span></li></ul></li></ul></li><li><label class='ee-shut'>22: \"QA60\", unsigned int16, EPSG:32718, 366x597 px<input type='checkbox' class='ee-toggle'></label><ul><li><span class='ee-k'>id:</span><span class='ee-v'>QA60</span></li><li><span class='ee-k'>crs:</span><span class='ee-v'>EPSG:32718</span></li><li><label class='ee-shut'>crs_transform: [60, 0, 600000, 0, -60, 9600040]<input type='checkbox' class='ee-toggle'></label><ul><li><span class='ee-k'>0:</span><span class='ee-v'>60</span></li><li><span class='ee-k'>1:</span><span class='ee-v'>0</span></li><li><span class='ee-k'>2:</span><span class='ee-v'>600000</span></li><li><span class='ee-k'>3:</span><span class='ee-v'>0</span></li><li><span class='ee-k'>4:</span><span class='ee-v'>-60</span></li><li><span class='ee-k'>5:</span><span class='ee-v'>9600040</span></li></ul></li><li><label class='ee-shut'>data_type: unsigned int16<input type='checkbox' class='ee-toggle'></label><ul><li><span class='ee-k'>type:</span><span class='ee-v'>PixelType</span></li><li><span class='ee-k'>max:</span><span class='ee-v'>65535</span></li><li><span class='ee-k'>min:</span><span class='ee-v'>0</span></li><li><span class='ee-k'>precision:</span><span class='ee-v'>int</span></li></ul></li><li><label class='ee-shut'>dimensions: [366, 597]<input type='checkbox' class='ee-toggle'></label><ul><li><span class='ee-k'>0:</span><span class='ee-v'>366</span></li><li><span class='ee-k'>1:</span><span class='ee-v'>597</span></li></ul></li><li><label class='ee-shut'>origin: [559, 1008]<input type='checkbox' class='ee-toggle'></label><ul><li><span class='ee-k'>0:</span><span class='ee-v'>559</span></li><li><span class='ee-k'>1:</span><span class='ee-v'>1008</span></li></ul></li></ul></li></ul></li><li><label class='ee-shut'>properties: Object (81 properties)<input type='checkbox' class='ee-toggle'></label><ul><li><span class='ee-k'>AOT_RETRIEVAL_ACCURACY:</span><span class='ee-v'>0</span></li><li><span class='ee-k'>CLOUDY_PIXEL_PERCENTAGE:</span><span class='ee-v'>0.268722</span></li><li><span class='ee-k'>CLOUD_COVERAGE_ASSESSMENT:</span><span class='ee-v'>0.268722</span></li><li><span class='ee-k'>CLOUD_SHADOW_PERCENTAGE:</span><span class='ee-v'>0.043301</span></li><li><span class='ee-k'>DARK_FEATURES_PERCENTAGE:</span><span class='ee-v'>0.379066</span></li><li><span class='ee-k'>DATASTRIP_ID:</span><span class='ee-v'>S2A_OPER_MSI_L2A_DS_SGS__20190809T192331_S20190809T151806_N02.13</span></li><li><span class='ee-k'>DATATAKE_IDENTIFIER:</span><span class='ee-v'>GS2A_20190809T151711_021572_N02.13</span></li><li><span class='ee-k'>DATATAKE_TYPE:</span><span class='ee-v'>INS-NOBS</span></li><li><span class='ee-k'>DEGRADED_MSI_DATA_PERCENTAGE:</span><span class='ee-v'>0</span></li><li><span class='ee-k'>FORMAT_CORRECTNESS:</span><span class='ee-v'>PASSED</span></li><li><span class='ee-k'>GENERAL_QUALITY:</span><span class='ee-v'>PASSED</span></li><li><span class='ee-k'>GENERATION_TIME:</span><span class='ee-v'>1565378611000</span></li><li><span class='ee-k'>GEOMETRIC_QUALITY:</span><span class='ee-v'>PASSED</span></li><li><span class='ee-k'>GRANULE_ID:</span><span class='ee-v'>L2A_T18MXA_A021572_20190809T151806</span></li><li><span class='ee-k'>HIGH_PROBA_CLOUDS_PERCENTAGE:</span><span class='ee-v'>0.048109</span></li><li><span class='ee-k'>MEAN_INCIDENCE_AZIMUTH_ANGLE_B1:</span><span class='ee-v'>274.44883424</span></li><li><span class='ee-k'>MEAN_INCIDENCE_AZIMUTH_ANGLE_B10:</span><span class='ee-v'>275.459774834</span></li><li><span class='ee-k'>MEAN_INCIDENCE_AZIMUTH_ANGLE_B11:</span><span class='ee-v'>274.95284803</span></li><li><span class='ee-k'>MEAN_INCIDENCE_AZIMUTH_ANGLE_B12:</span><span class='ee-v'>274.554560155</span></li><li><span class='ee-k'>MEAN_INCIDENCE_AZIMUTH_ANGLE_B2:</span><span class='ee-v'>277.114972957</span></li><li><span class='ee-k'>MEAN_INCIDENCE_AZIMUTH_ANGLE_B3:</span><span class='ee-v'>276.084528095</span></li><li><span class='ee-k'>MEAN_INCIDENCE_AZIMUTH_ANGLE_B4:</span><span class='ee-v'>275.454931387</span></li><li><span class='ee-k'>MEAN_INCIDENCE_AZIMUTH_ANGLE_B5:</span><span class='ee-v'>275.180740302</span></li><li><span class='ee-k'>MEAN_INCIDENCE_AZIMUTH_ANGLE_B6:</span><span class='ee-v'>274.977689395</span></li><li><span class='ee-k'>MEAN_INCIDENCE_AZIMUTH_ANGLE_B7:</span><span class='ee-v'>274.791046575</span></li><li><span class='ee-k'>MEAN_INCIDENCE_AZIMUTH_ANGLE_B8:</span><span class='ee-v'>276.544397721</span></li><li><span class='ee-k'>MEAN_INCIDENCE_AZIMUTH_ANGLE_B8A:</span><span class='ee-v'>274.654301822</span></li><li><span class='ee-k'>MEAN_INCIDENCE_AZIMUTH_ANGLE_B9:</span><span class='ee-v'>274.344587115</span></li><li><span class='ee-k'>MEAN_INCIDENCE_ZENITH_ANGLE_B1:</span><span class='ee-v'>5.32467612511</span></li><li><span class='ee-k'>MEAN_INCIDENCE_ZENITH_ANGLE_B10:</span><span class='ee-v'>5.06548703722</span></li><li><span class='ee-k'>MEAN_INCIDENCE_ZENITH_ANGLE_B11:</span><span class='ee-v'>5.17060419881</span></li><li><span class='ee-k'>MEAN_INCIDENCE_ZENITH_ANGLE_B12:</span><span class='ee-v'>5.29942975437</span></li><li><span class='ee-k'>MEAN_INCIDENCE_ZENITH_ANGLE_B2:</span><span class='ee-v'>4.92265535137</span></li><li><span class='ee-k'>MEAN_INCIDENCE_ZENITH_ANGLE_B3:</span><span class='ee-v'>4.98387434073</span></li><li><span class='ee-k'>MEAN_INCIDENCE_ZENITH_ANGLE_B4:</span><span class='ee-v'>5.05651503589</span></li><li><span class='ee-k'>MEAN_INCIDENCE_ZENITH_ANGLE_B5:</span><span class='ee-v'>5.10194376444</span></li><li><span class='ee-k'>MEAN_INCIDENCE_ZENITH_ANGLE_B6:</span><span class='ee-v'>5.15098384302</span></li><li><span class='ee-k'>MEAN_INCIDENCE_ZENITH_ANGLE_B7:</span><span class='ee-v'>5.20388407885</span></li><li><span class='ee-k'>MEAN_INCIDENCE_ZENITH_ANGLE_B8:</span><span class='ee-v'>4.95078068382</span></li><li><span class='ee-k'>MEAN_INCIDENCE_ZENITH_ANGLE_B8A:</span><span class='ee-v'>5.25989230178</span></li><li><span class='ee-k'>MEAN_INCIDENCE_ZENITH_ANGLE_B9:</span><span class='ee-v'>5.38845301168</span></li><li><span class='ee-k'>MEAN_SOLAR_AZIMUTH_ANGLE:</span><span class='ee-v'>49.3614815429</span></li><li><span class='ee-k'>MEAN_SOLAR_ZENITH_ANGLE:</span><span class='ee-v'>30.9395461331</span></li><li><span class='ee-k'>MEDIUM_PROBA_CLOUDS_PERCENTAGE:</span><span class='ee-v'>0.184415</span></li><li><span class='ee-k'>MGRS_TILE:</span><span class='ee-v'>18MXA</span></li><li><span class='ee-k'>NODATA_PIXEL_PERCENTAGE:</span><span class='ee-v'>7e-06</span></li><li><span class='ee-k'>NOT_VEGETATED_PERCENTAGE:</span><span class='ee-v'>0.554647</span></li><li><span class='ee-k'>PROCESSING_BASELINE:</span><span class='ee-v'>02.13</span></li><li><span class='ee-k'>PRODUCT_ID:</span><span class='ee-v'>S2A_MSIL2A_20190809T151711_N0213_R125_T18MXA_20190809T192331</span></li><li><span class='ee-k'>RADIATIVE_TRANSFER_ACCURACY:</span><span class='ee-v'>0</span></li><li><span class='ee-k'>RADIOMETRIC_QUALITY:</span><span class='ee-v'>PASSED</span></li><li><span class='ee-k'>REFLECTANCE_CONVERSION_CORRECTION:</span><span class='ee-v'>0.971989551161</span></li><li><span class='ee-k'>SATURATED_DEFECTIVE_PIXEL_PERCENTAGE:</span><span class='ee-v'>0</span></li><li><span class='ee-k'>SENSING_ORBIT_DIRECTION:</span><span class='ee-v'>DESCENDING</span></li><li><span class='ee-k'>SENSING_ORBIT_NUMBER:</span><span class='ee-v'>125</span></li><li><span class='ee-k'>SENSOR_QUALITY:</span><span class='ee-v'>PASSED</span></li><li><span class='ee-k'>SNOW_ICE_PERCENTAGE:</span><span class='ee-v'>0</span></li><li><span class='ee-k'>SOLAR_IRRADIANCE_B1:</span><span class='ee-v'>1884.69</span></li><li><span class='ee-k'>SOLAR_IRRADIANCE_B10:</span><span class='ee-v'>367.15</span></li><li><span class='ee-k'>SOLAR_IRRADIANCE_B11:</span><span class='ee-v'>245.59</span></li><li><span class='ee-k'>SOLAR_IRRADIANCE_B12:</span><span class='ee-v'>85.25</span></li><li><span class='ee-k'>SOLAR_IRRADIANCE_B2:</span><span class='ee-v'>1959.72</span></li><li><span class='ee-k'>SOLAR_IRRADIANCE_B3:</span><span class='ee-v'>1823.24</span></li><li><span class='ee-k'>SOLAR_IRRADIANCE_B4:</span><span class='ee-v'>1512.06</span></li><li><span class='ee-k'>SOLAR_IRRADIANCE_B5:</span><span class='ee-v'>1424.64</span></li><li><span class='ee-k'>SOLAR_IRRADIANCE_B6:</span><span class='ee-v'>1287.61</span></li><li><span class='ee-k'>SOLAR_IRRADIANCE_B7:</span><span class='ee-v'>1162.08</span></li><li><span class='ee-k'>SOLAR_IRRADIANCE_B8:</span><span class='ee-v'>1041.63</span></li><li><span class='ee-k'>SOLAR_IRRADIANCE_B8A:</span><span class='ee-v'>955.32</span></li><li><span class='ee-k'>SOLAR_IRRADIANCE_B9:</span><span class='ee-v'>812.92</span></li><li><span class='ee-k'>SPACECRAFT_NAME:</span><span class='ee-v'>Sentinel-2A</span></li><li><span class='ee-k'>THIN_CIRRUS_PERCENTAGE:</span><span class='ee-v'>0.036198</span></li><li><span class='ee-k'>UNCLASSIFIED_PERCENTAGE:</span><span class='ee-v'>0.803478</span></li><li><span class='ee-k'>VEGETATION_PERCENTAGE:</span><span class='ee-v'>93.968755</span></li><li><span class='ee-k'>WATER_PERCENTAGE:</span><span class='ee-v'>3.982034</span></li><li><span class='ee-k'>WATER_VAPOUR_RETRIEVAL_ACCURACY:</span><span class='ee-v'>0</span></li><li><span class='ee-k'>system:asset_size:</span><span class='ee-v'>1560917201</span></li><li><label class='ee-shut'>system:footprint: Polygon (126 vertices)<input type='checkbox' class='ee-toggle'></label><ul><li><span class='ee-k'>type:</span><span class='ee-v'>Polygon</span></li><li><label class='ee-shut'>coordinates: List (1 element)<input type='checkbox' class='ee-toggle'></label><ul><li><label class='ee-shut'>0: List (126 elements)<input type='checkbox' class='ee-toggle'></label><ul><li><label class='ee-shut'>0: [-73.70644351295583, -4.245527932001742]<input type='checkbox' class='ee-toggle'></label><ul><li><span class='ee-k'>0:</span><span class='ee-v'>-73.70644351295583</span></li><li><span class='ee-k'>1:</span><span class='ee-v'>-4.245527932001742</span></li></ul></li><li><label class='ee-shut'>1: [-73.70651840850482, -4.200305430535437]<input type='checkbox' class='ee-toggle'></label><ul><li><span class='ee-k'>0:</span><span class='ee-v'>-73.70651840850482</span></li><li><span class='ee-k'>1:</span><span class='ee-v'>-4.200305430535437</span></li></ul></li><li><label class='ee-shut'>2: [-73.70654430447145, -4.184554511085448]<input type='checkbox' class='ee-toggle'></label><ul><li><span class='ee-k'>0:</span><span class='ee-v'>-73.70654430447145</span></li><li><span class='ee-k'>1:</span><span class='ee-v'>-4.184554511085448</span></li></ul></li><li><label class='ee-shut'>3: [-73.75161724827645, -4.164970396995145]<input type='checkbox' class='ee-toggle'></label><ul><li><span class='ee-k'>0:</span><span class='ee-v'>-73.75161724827645</span></li><li><span class='ee-k'>1:</span><span class='ee-v'>-4.164970396995145</span></li></ul></li><li><label class='ee-shut'>4: [-73.79665879269554, -4.165040682138108]<input type='checkbox' class='ee-toggle'></label><ul><li><span class='ee-k'>0:</span><span class='ee-v'>-73.79665879269554</span></li><li><span class='ee-k'>1:</span><span class='ee-v'>-4.165040682138108</span></li></ul></li><li><label class='ee-shut'>5: [-73.79664603445022, -4.173428671936142]<input type='checkbox' class='ee-toggle'></label><ul><li><span class='ee-k'>0:</span><span class='ee-v'>-73.79664603445022</span></li><li><span class='ee-k'>1:</span><span class='ee-v'>-4.173428671936142</span></li></ul></li><li><label class='ee-shut'>6: [-73.79660475885693, -4.200449802790024]<input type='checkbox' class='ee-toggle'></label><ul><li><span class='ee-k'>0:</span><span class='ee-v'>-73.79660475885693</span></li><li><span class='ee-k'>1:</span><span class='ee-v'>-4.200449802790024</span></li></ul></li><li><label class='ee-shut'>7: [-73.79656849245288, -4.224047724686024]<input type='checkbox' class='ee-toggle'></label><ul><li><span class='ee-k'>0:</span><span class='ee-v'>-73.79656849245288</span></li><li><span class='ee-k'>1:</span><span class='ee-v'>-4.224047724686024</span></li></ul></li><li><label class='ee-shut'>8: [-73.7965350763306, -4.245673864084816]<input type='checkbox' class='ee-toggle'></label><ul><li><span class='ee-k'>0:</span><span class='ee-v'>-73.7965350763306</span></li><li><span class='ee-k'>1:</span><span class='ee-v'>-4.245673864084816</span></li></ul></li><li><label class='ee-shut'>9: [-73.79646464076079, -4.290897871296439]<input type='checkbox' class='ee-toggle'></label><ul><li><span class='ee-k'>0:</span><span class='ee-v'>-73.79646464076079</span></li><li><span class='ee-k'>1:</span><span class='ee-v'>-4.290897871296439</span></li></ul></li><li><label class='ee-shut'>10: [-73.79639345192926, -4.336121823852913]<input type='checkbox' class='ee-toggle'></label><ul><li><span class='ee-k'>0:</span><span class='ee-v'>-73.79639345192926</span></li><li><span class='ee-k'>1:</span><span class='ee-v'>-4.336121823852913</span></li></ul></li><li><label class='ee-shut'>11: [-73.7963849853264, -4.341468738571878]<input type='checkbox' class='ee-toggle'></label><ul><li><span class='ee-k'>0:</span><span class='ee-v'>-73.7963849853264</span></li><li><span class='ee-k'>1:</span><span class='ee-v'>-4.341468738571878</span></li></ul></li><li><label class='ee-shut'>12: [-73.79632150961547, -4.381345721182393]<input type='checkbox' class='ee-toggle'></label><ul><li><span class='ee-k'>0:</span><span class='ee-v'>-73.79632150961547</span></li><li><span class='ee-k'>1:</span><span class='ee-v'>-4.381345721182393</span></li></ul></li><li><label class='ee-shut'>13: [-73.79624881359646, -4.426569562713167]<input type='checkbox' class='ee-toggle'></label><ul><li><span class='ee-k'>0:</span><span class='ee-v'>-73.79624881359646</span></li><li><span class='ee-k'>1:</span><span class='ee-v'>-4.426569562713167</span></li></ul></li><li><label class='ee-shut'>14: [-73.79617536364692, -4.47179334787365]<input type='checkbox' class='ee-toggle'></label><ul><li><span class='ee-k'>0:</span><span class='ee-v'>-73.79617536364692</span></li><li><span class='ee-k'>1:</span><span class='ee-v'>-4.47179334787365</span></li></ul></li><li><label class='ee-shut'>15: [-73.75108754529599, -4.488332065999658]<input type='checkbox' class='ee-toggle'></label><ul><li><span class='ee-k'>0:</span><span class='ee-v'>-73.75108754529599</span></li><li><span class='ee-k'>1:</span><span class='ee-v'>-4.488332065999658</span></li></ul></li><li><label class='ee-shut'>16: [-73.74970249138407, -4.4870009486664415]<input type='checkbox' class='ee-toggle'></label><ul><li><span class='ee-k'>0:</span><span class='ee-v'>-73.74970249138407</span></li><li><span class='ee-k'>1:</span><span class='ee-v'>-4.4870009486664415</span></li></ul></li><li><label class='ee-shut'>17: [-73.74881151999165, -4.486441911395095]<input type='checkbox' class='ee-toggle'></label><ul><li><span class='ee-k'>0:</span><span class='ee-v'>-73.74881151999165</span></li><li><span class='ee-k'>1:</span><span class='ee-v'>-4.486441911395095</span></li></ul></li><li><label class='ee-shut'>18: [-73.74778101389151, -4.485794629948547]<input type='checkbox' class='ee-toggle'></label><ul><li><span class='ee-k'>0:</span><span class='ee-v'>-73.74778101389151</span></li><li><span class='ee-k'>1:</span><span class='ee-v'>-4.485794629948547</span></li></ul></li><li><label class='ee-shut'>19: [-73.74575957769454, -4.484760074053891]<input type='checkbox' class='ee-toggle'></label><ul><li><span class='ee-k'>0:</span><span class='ee-v'>-73.74575957769454</span></li><li><span class='ee-k'>1:</span><span class='ee-v'>-4.484760074053891</span></li></ul></li><li><label class='ee-shut'>20: [-73.74366352147801, -4.483888188450969]<input type='checkbox' class='ee-toggle'></label><ul><li><span class='ee-k'>0:</span><span class='ee-v'>-73.74366352147801</span></li><li><span class='ee-k'>1:</span><span class='ee-v'>-4.483888188450969</span></li></ul></li><li><label class='ee-shut'>21: [-73.74239725852446, -4.483511924161269]<input type='checkbox' class='ee-toggle'></label><ul><li><span class='ee-k'>0:</span><span class='ee-v'>-73.74239725852446</span></li><li><span class='ee-k'>1:</span><span class='ee-v'>-4.483511924161269</span></li></ul></li><li><label class='ee-shut'>22: [-73.74149318626301, -4.483242556240875]<input type='checkbox' class='ee-toggle'></label><ul><li><span class='ee-k'>0:</span><span class='ee-v'>-73.74149318626301</span></li><li><span class='ee-k'>1:</span><span class='ee-v'>-4.483242556240875</span></li></ul></li><li><label class='ee-shut'>23: [-73.740553870473, -4.4830302883816415]<input type='checkbox' class='ee-toggle'></label><ul><li><span class='ee-k'>0:</span><span class='ee-v'>-73.740553870473</span></li><li><span class='ee-k'>1:</span><span class='ee-v'>-4.4830302883816415</span></li></ul></li><li><label class='ee-shut'>24: [-73.73927664852665, -4.482741009497692]<input type='checkbox' class='ee-toggle'></label><ul><li><span class='ee-k'>0:</span><span class='ee-v'>-73.73927664852665</span></li><li><span class='ee-k'>1:</span><span class='ee-v'>-4.482741009497692</span></li></ul></li><li><label class='ee-shut'>25: [-73.73780383279085, -4.482420096426139]<input type='checkbox' class='ee-toggle'></label><ul><li><span class='ee-k'>0:</span><span class='ee-v'>-73.73780383279085</span></li><li><span class='ee-k'>1:</span><span class='ee-v'>-4.482420096426139</span></li></ul></li><li><label class='ee-shut'>26: [-73.73706053468318, -4.482257818081319]<input type='checkbox' class='ee-toggle'></label><ul><li><span class='ee-k'>0:</span><span class='ee-v'>-73.73706053468318</span></li><li><span class='ee-k'>1:</span><span class='ee-v'>-4.482257818081319</span></li></ul></li><li><label class='ee-shut'>27: [-73.73596340554424, -4.48205612561772]<input type='checkbox' class='ee-toggle'></label><ul><li><span class='ee-k'>0:</span><span class='ee-v'>-73.73596340554424</span></li><li><span class='ee-k'>1:</span><span class='ee-v'>-4.48205612561772</span></li></ul></li><li><label class='ee-shut'>28: [-73.73482744885148, -4.481846947879099]<input type='checkbox' class='ee-toggle'></label><ul><li><span class='ee-k'>0:</span><span class='ee-v'>-73.73482744885148</span></li><li><span class='ee-k'>1:</span><span class='ee-v'>-4.481846947879099</span></li></ul></li><li><label class='ee-shut'>29: [-73.73258580271076, -4.481490324039987]<input type='checkbox' class='ee-toggle'></label><ul><li><span class='ee-k'>0:</span><span class='ee-v'>-73.73258580271076</span></li><li><span class='ee-k'>1:</span><span class='ee-v'>-4.481490324039987</span></li></ul></li><li><label class='ee-shut'>30: [-73.73154995509378, -4.481290812169524]<input type='checkbox' class='ee-toggle'></label><ul><li><span class='ee-k'>0:</span><span class='ee-v'>-73.73154995509378</span></li><li><span class='ee-k'>1:</span><span class='ee-v'>-4.481290812169524</span></li></ul></li><li><label class='ee-shut'>31: [-73.73036194862735, -4.481061458890254]<input type='checkbox' class='ee-toggle'></label><ul><li><span class='ee-k'>0:</span><span class='ee-v'>-73.73036194862735</span></li><li><span class='ee-k'>1:</span><span class='ee-v'>-4.481061458890254</span></li></ul></li><li><label class='ee-shut'>32: [-73.72813416548473, -4.480614220433293]<input type='checkbox' class='ee-toggle'></label><ul><li><span class='ee-k'>0:</span><span class='ee-v'>-73.72813416548473</span></li><li><span class='ee-k'>1:</span><span class='ee-v'>-4.480614220433293</span></li></ul></li><li><label class='ee-shut'>33: [-73.72765935516014, -4.48054655459936]<input type='checkbox' class='ee-toggle'></label><ul><li><span class='ee-k'>0:</span><span class='ee-v'>-73.72765935516014</span></li><li><span class='ee-k'>1:</span><span class='ee-v'>-4.48054655459936</span></li></ul></li><li><label class='ee-shut'>34: [-73.72588688184207, -4.480293836765291]<input type='checkbox' class='ee-toggle'></label><ul><li><span class='ee-k'>0:</span><span class='ee-v'>-73.72588688184207</span></li><li><span class='ee-k'>1:</span><span class='ee-v'>-4.480293836765291</span></li></ul></li><li><label class='ee-shut'>35: [-73.7251957293642, -4.480259437846727]<input type='checkbox' class='ee-toggle'></label><ul><li><span class='ee-k'>0:</span><span class='ee-v'>-73.7251957293642</span></li><li><span class='ee-k'>1:</span><span class='ee-v'>-4.480259437846727</span></li></ul></li><li><label class='ee-shut'>36: [-73.72362518332044, -4.4801811743438025]<input type='checkbox' class='ee-toggle'></label><ul><li><span class='ee-k'>0:</span><span class='ee-v'>-73.72362518332044</span></li><li><span class='ee-k'>1:</span><span class='ee-v'>-4.4801811743438025</span></li></ul></li><li><label class='ee-shut'>37: [-73.72287959618178, -4.480200854909804]<input type='checkbox' class='ee-toggle'></label><ul><li><span class='ee-k'>0:</span><span class='ee-v'>-73.72287959618178</span></li><li><span class='ee-k'>1:</span><span class='ee-v'>-4.480200854909804</span></li></ul></li><li><label class='ee-shut'>38: [-73.72135570848036, -4.48024069915099]<input type='checkbox' class='ee-toggle'></label><ul><li><span class='ee-k'>0:</span><span class='ee-v'>-73.72135570848036</span></li><li><span class='ee-k'>1:</span><span class='ee-v'>-4.48024069915099</span></li></ul></li><li><label class='ee-shut'>39: [-73.71943216369692, -4.480321625512571]<input type='checkbox' class='ee-toggle'></label><ul><li><span class='ee-k'>0:</span><span class='ee-v'>-73.71943216369692</span></li><li><span class='ee-k'>1:</span><span class='ee-v'>-4.480321625512571</span></li></ul></li><li><label class='ee-shut'>40: [-73.71908572203861, -4.480336213056514]<input type='checkbox' class='ee-toggle'></label><ul><li><span class='ee-k'>0:</span><span class='ee-v'>-73.71908572203861</span></li><li><span class='ee-k'>1:</span><span class='ee-v'>-4.480336213056514</span></li></ul></li><li><label class='ee-shut'>41: [-73.71700283916486, -4.481146292757484]<input type='checkbox' class='ee-toggle'></label><ul><li><span class='ee-k'>0:</span><span class='ee-v'>-73.71700283916486</span></li><li><span class='ee-k'>1:</span><span class='ee-v'>-4.481146292757484</span></li></ul></li><li><label class='ee-shut'>42: [-73.71601884651129, -4.481345171034944]<input type='checkbox' class='ee-toggle'></label><ul><li><span class='ee-k'>0:</span><span class='ee-v'>-73.71601884651129</span></li><li><span class='ee-k'>1:</span><span class='ee-v'>-4.481345171034944</span></li></ul></li><li><label class='ee-shut'>43: [-73.71478035982169, -4.481594882415131]<input type='checkbox' class='ee-toggle'></label><ul><li><span class='ee-k'>0:</span><span class='ee-v'>-73.71478035982169</span></li><li><span class='ee-k'>1:</span><span class='ee-v'>-4.481594882415131</span></li></ul></li><li><label class='ee-shut'>44: [-73.71346028722132, -4.481603050291513]<input type='checkbox' class='ee-toggle'></label><ul><li><span class='ee-k'>0:</span><span class='ee-v'>-73.71346028722132</span></li><li><span class='ee-k'>1:</span><span class='ee-v'>-4.481603050291513</span></li></ul></li><li><label class='ee-shut'>45: [-73.71250916495588, -4.481608881466721]<input type='checkbox' class='ee-toggle'></label><ul><li><span class='ee-k'>0:</span><span class='ee-v'>-73.71250916495588</span></li><li><span class='ee-k'>1:</span><span class='ee-v'>-4.481608881466721</span></li></ul></li><li><label class='ee-shut'>46: [-73.71121524600525, -4.481606690208439]<input type='checkbox' class='ee-toggle'></label><ul><li><span class='ee-k'>0:</span><span class='ee-v'>-73.71121524600525</span></li><li><span class='ee-k'>1:</span><span class='ee-v'>-4.481606690208439</span></li></ul></li><li><label class='ee-shut'>47: [-73.71024286980528, -4.481604974007236]<input type='checkbox' class='ee-toggle'></label><ul><li><span class='ee-k'>0:</span><span class='ee-v'>-73.71024286980528</span></li><li><span class='ee-k'>1:</span><span class='ee-v'>-4.481604974007236</span></li></ul></li><li><label class='ee-shut'>48: [-73.70798057345189, -4.481429131182429]<input type='checkbox' class='ee-toggle'></label><ul><li><span class='ee-k'>0:</span><span class='ee-v'>-73.70798057345189</span></li><li><span class='ee-k'>1:</span><span class='ee-v'>-4.481429131182429</span></li></ul></li><li><label class='ee-shut'>49: [-73.70603999990816, -4.4812548464663475]<input type='checkbox' class='ee-toggle'></label><ul><li><span class='ee-k'>0:</span><span class='ee-v'>-73.70603999990816</span></li><li><span class='ee-k'>1:</span><span class='ee-v'>-4.4812548464663475</span></li></ul></li><li><label class='ee-shut'>50: [-73.7059638619137, -4.4812480186998815]<input type='checkbox' class='ee-toggle'></label><ul><li><span class='ee-k'>0:</span><span class='ee-v'>-73.7059638619137</span></li><li><span class='ee-k'>1:</span><span class='ee-v'>-4.4812480186998815</span></li></ul></li><li><label class='ee-shut'>51: [-73.70571895905348, -4.481225968583812]<input type='checkbox' class='ee-toggle'></label><ul><li><span class='ee-k'>0:</span><span class='ee-v'>-73.70571895905348</span></li><li><span class='ee-k'>1:</span><span class='ee-v'>-4.481225968583812</span></li></ul></li><li><label class='ee-shut'>52: [-73.70531997809951, -4.481190169098988]<input type='checkbox' class='ee-toggle'></label><ul><li><span class='ee-k'>0:</span><span class='ee-v'>-73.70531997809951</span></li><li><span class='ee-k'>1:</span><span class='ee-v'>-4.481190169098988</span></li></ul></li><li><label class='ee-shut'>53: [-73.70346077175077, -4.481023167197234]<input type='checkbox' class='ee-toggle'></label><ul><li><span class='ee-k'>0:</span><span class='ee-v'>-73.70346077175077</span></li><li><span class='ee-k'>1:</span><span class='ee-v'>-4.481023167197234</span></li></ul></li><li><label class='ee-shut'>54: [-73.7011932785949, -4.480937739572928]<input type='checkbox' class='ee-toggle'></label><ul><li><span class='ee-k'>0:</span><span class='ee-v'>-73.7011932785949</span></li><li><span class='ee-k'>1:</span><span class='ee-v'>-4.480937739572928</span></li></ul></li><li><label class='ee-shut'>55: [-73.69892614698026, -4.481006061176363]<input type='checkbox' class='ee-toggle'></label><ul><li><span class='ee-k'>0:</span><span class='ee-v'>-73.69892614698026</span></li><li><span class='ee-k'>1:</span><span class='ee-v'>-4.481006061176363</span></li></ul></li><li><label class='ee-shut'>56: [-73.69759285077252, -4.481056866792948]<input type='checkbox' class='ee-toggle'></label><ul><li><span class='ee-k'>0:</span><span class='ee-v'>-73.69759285077252</span></li><li><span class='ee-k'>1:</span><span class='ee-v'>-4.481056866792948</span></li></ul></li><li><label class='ee-shut'>57: [-73.69665529011687, -4.4810924578333715]<input type='checkbox' class='ee-toggle'></label><ul><li><span class='ee-k'>0:</span><span class='ee-v'>-73.69665529011687</span></li><li><span class='ee-k'>1:</span><span class='ee-v'>-4.4810924578333715</span></li></ul></li><li><label class='ee-shut'>58: [-73.69438934325424, -4.481205898871592]<input type='checkbox' class='ee-toggle'></label><ul><li><span class='ee-k'>0:</span><span class='ee-v'>-73.69438934325424</span></li><li><span class='ee-k'>1:</span><span class='ee-v'>-4.481205898871592</span></li></ul></li><li><label class='ee-shut'>59: [-73.69212345245468, -4.481237842590027]<input type='checkbox' class='ee-toggle'></label><ul><li><span class='ee-k'>0:</span><span class='ee-v'>-73.69212345245468</span></li><li><span class='ee-k'>1:</span><span class='ee-v'>-4.481237842590027</span></li></ul></li><li><label class='ee-shut'>60: [-73.68985744409937, -4.481134384230166]<input type='checkbox' class='ee-toggle'></label><ul><li><span class='ee-k'>0:</span><span class='ee-v'>-73.68985744409937</span></li><li><span class='ee-k'>1:</span><span class='ee-v'>-4.481134384230166</span></li></ul></li><li><label class='ee-shut'>61: [-73.68770992205634, -4.4809416827506485]<input type='checkbox' class='ee-toggle'></label><ul><li><span class='ee-k'>0:</span><span class='ee-v'>-73.68770992205634</span></li><li><span class='ee-k'>1:</span><span class='ee-v'>-4.4809416827506485</span></li></ul></li><li><label class='ee-shut'>62: [-73.6875990050001, -4.480931715560229]<input type='checkbox' class='ee-toggle'></label><ul><li><span class='ee-k'>0:</span><span class='ee-v'>-73.6875990050001</span></li><li><span class='ee-k'>1:</span><span class='ee-v'>-4.480931715560229</span></li></ul></li><li><label class='ee-shut'>63: [-73.68535614889957, -4.480583634495522]<input type='checkbox' class='ee-toggle'></label><ul><li><span class='ee-k'>0:</span><span class='ee-v'>-73.68535614889957</span></li><li><span class='ee-k'>1:</span><span class='ee-v'>-4.480583634495522</span></li></ul></li><li><label class='ee-shut'>64: [-73.68312942465121, -4.480136630679193]<input type='checkbox' class='ee-toggle'></label><ul><li><span class='ee-k'>0:</span><span class='ee-v'>-73.68312942465121</span></li><li><span class='ee-k'>1:</span><span class='ee-v'>-4.480136630679193</span></li></ul></li><li><label class='ee-shut'>65: [-73.68093447318127, -4.479562876067171]<input type='checkbox' class='ee-toggle'></label><ul><li><span class='ee-k'>0:</span><span class='ee-v'>-73.68093447318127</span></li><li><span class='ee-k'>1:</span><span class='ee-v'>-4.479562876067171</span></li></ul></li><li><label class='ee-shut'>66: [-73.67875930225387, -4.4789167966705365]<input type='checkbox' class='ee-toggle'></label><ul><li><span class='ee-k'>0:</span><span class='ee-v'>-73.67875930225387</span></li><li><span class='ee-k'>1:</span><span class='ee-v'>-4.4789167966705365</span></li></ul></li><li><label class='ee-shut'>67: [-73.67662943902413, -4.478135128529261]<input type='checkbox' class='ee-toggle'></label><ul><li><span class='ee-k'>0:</span><span class='ee-v'>-73.67662943902413</span></li><li><span class='ee-k'>1:</span><span class='ee-v'>-4.478135128529261</span></li></ul></li><li><label class='ee-shut'>68: [-73.67452393716952, -4.477290189190655]<input type='checkbox' class='ee-toggle'></label><ul><li><span class='ee-k'>0:</span><span class='ee-v'>-73.67452393716952</span></li><li><span class='ee-k'>1:</span><span class='ee-v'>-4.477290189190655</span></li></ul></li><li><label class='ee-shut'>69: [-73.67329130988502, -4.476745925844339]<input type='checkbox' class='ee-toggle'></label><ul><li><span class='ee-k'>0:</span><span class='ee-v'>-73.67329130988502</span></li><li><span class='ee-k'>1:</span><span class='ee-v'>-4.476745925844339</span></li></ul></li><li><label class='ee-shut'>70: [-73.672447229346, -4.476372761814433]<input type='checkbox' class='ee-toggle'></label><ul><li><span class='ee-k'>0:</span><span class='ee-v'>-73.672447229346</span></li><li><span class='ee-k'>1:</span><span class='ee-v'>-4.476372761814433</span></li></ul></li><li><label class='ee-shut'>71: [-73.67039486676285, -4.4754013796009815]<input type='checkbox' class='ee-toggle'></label><ul><li><span class='ee-k'>0:</span><span class='ee-v'>-73.67039486676285</span></li><li><span class='ee-k'>1:</span><span class='ee-v'>-4.4754013796009815</span></li></ul></li><li><label class='ee-shut'>72: [-73.66991467216454, -4.475182085872096]<input type='checkbox' class='ee-toggle'></label><ul><li><span class='ee-k'>0:</span><span class='ee-v'>-73.66991467216454</span></li><li><span class='ee-k'>1:</span><span class='ee-v'>-4.475182085872096</span></li></ul></li><li><label class='ee-shut'>73: [-73.66832732242706, -4.474457098565824]<input type='checkbox' class='ee-toggle'></label><ul><li><span class='ee-k'>0:</span><span class='ee-v'>-73.66832732242706</span></li><li><span class='ee-k'>1:</span><span class='ee-v'>-4.474457098565824</span></li></ul></li><li><label class='ee-shut'>74: [-73.66623261930617, -4.473585027879518]<input type='checkbox' class='ee-toggle'></label><ul><li><span class='ee-k'>0:</span><span class='ee-v'>-73.66623261930617</span></li><li><span class='ee-k'>1:</span><span class='ee-v'>-4.473585027879518</span></li></ul></li><li><label class='ee-shut'>75: [-73.6640801503208, -4.472866600581387]<input type='checkbox' class='ee-toggle'></label><ul><li><span class='ee-k'>0:</span><span class='ee-v'>-73.6640801503208</span></li><li><span class='ee-k'>1:</span><span class='ee-v'>-4.472866600581387</span></li></ul></li><li><label class='ee-shut'>76: [-73.66187381399985, -4.472338000179723]<input type='checkbox' class='ee-toggle'></label><ul><li><span class='ee-k'>0:</span><span class='ee-v'>-73.66187381399985</span></li><li><span class='ee-k'>1:</span><span class='ee-v'>-4.472338000179723</span></li></ul></li><li><label class='ee-shut'>77: [-73.65964020154851, -4.471945008614324]<input type='checkbox' class='ee-toggle'></label><ul><li><span class='ee-k'>0:</span><span class='ee-v'>-73.65964020154851</span></li><li><span class='ee-k'>1:</span><span class='ee-v'>-4.471945008614324</span></li></ul></li><li><label class='ee-shut'>78: [-73.65963803894721, -4.471944914211611]<input type='checkbox' class='ee-toggle'></label><ul><li><span class='ee-k'>0:</span><span class='ee-v'>-73.65963803894721</span></li><li><span class='ee-k'>1:</span><span class='ee-v'>-4.471944914211611</span></li></ul></li><li><label class='ee-shut'>79: [-73.65963740830497, -4.471944822613911]<input type='checkbox' class='ee-toggle'></label><ul><li><span class='ee-k'>0:</span><span class='ee-v'>-73.65963740830497</span></li><li><span class='ee-k'>1:</span><span class='ee-v'>-4.471944822613911</span></li></ul></li><li><label class='ee-shut'>80: [-73.65871073724571, -4.471902516402021]<input type='checkbox' class='ee-toggle'></label><ul><li><span class='ee-k'>0:</span><span class='ee-v'>-73.65871073724571</span></li><li><span class='ee-k'>1:</span><span class='ee-v'>-4.471902516402021</span></li></ul></li><li><label class='ee-shut'>81: [-73.65737452621731, -4.471841369459497]<input type='checkbox' class='ee-toggle'></label><ul><li><span class='ee-k'>0:</span><span class='ee-v'>-73.65737452621731</span></li><li><span class='ee-k'>1:</span><span class='ee-v'>-4.471841369459497</span></li></ul></li><li><label class='ee-shut'>82: [-73.65737407547692, -4.471841459075725]<input type='checkbox' class='ee-toggle'></label><ul><li><span class='ee-k'>0:</span><span class='ee-v'>-73.65737407547692</span></li><li><span class='ee-k'>1:</span><span class='ee-v'>-4.471841459075725</span></li></ul></li><li><label class='ee-shut'>83: [-73.65737155241767, -4.47184136400539]<input type='checkbox' class='ee-toggle'></label><ul><li><span class='ee-k'>0:</span><span class='ee-v'>-73.65737155241767</span></li><li><span class='ee-k'>1:</span><span class='ee-v'>-4.47184136400539</span></li></ul></li><li><label class='ee-shut'>84: [-73.65513611190423, -4.472207985833637]<input type='checkbox' class='ee-toggle'></label><ul><li><span class='ee-k'>0:</span><span class='ee-v'>-73.65513611190423</span></li><li><span class='ee-k'>1:</span><span class='ee-v'>-4.472207985833637</span></li></ul></li><li><label class='ee-shut'>85: [-73.65290900960902, -4.472647060143798]<input type='checkbox' class='ee-toggle'></label><ul><li><span class='ee-k'>0:</span><span class='ee-v'>-73.65290900960902</span></li><li><span class='ee-k'>1:</span><span class='ee-v'>-4.472647060143798</span></li></ul></li><li><label class='ee-shut'>86: [-73.6520898189253, -4.472522188114017]<input type='checkbox' class='ee-toggle'></label><ul><li><span class='ee-k'>0:</span><span class='ee-v'>-73.6520898189253</span></li><li><span class='ee-k'>1:</span><span class='ee-v'>-4.472522188114017</span></li></ul></li><li><label class='ee-shut'>87: [-73.65068819588525, -4.472308602874048]<input type='checkbox' class='ee-toggle'></label><ul><li><span class='ee-k'>0:</span><span class='ee-v'>-73.65068819588525</span></li><li><span class='ee-k'>1:</span><span class='ee-v'>-4.472308602874048</span></li></ul></li><li><label class='ee-shut'>88: [-73.6487274016014, -4.471165137744553]<input type='checkbox' class='ee-toggle'></label><ul><li><span class='ee-k'>0:</span><span class='ee-v'>-73.6487274016014</span></li><li><span class='ee-k'>1:</span><span class='ee-v'>-4.471165137744553</span></li></ul></li><li><label class='ee-shut'>89: [-73.64692683490026, -4.469778041704015]<input type='checkbox' class='ee-toggle'></label><ul><li><span class='ee-k'>0:</span><span class='ee-v'>-73.64692683490026</span></li><li><span class='ee-k'>1:</span><span class='ee-v'>-4.469778041704015</span></li></ul></li><li><label class='ee-shut'>90: [-73.64499662925209, -4.468571678838533]<input type='checkbox' class='ee-toggle'></label><ul><li><span class='ee-k'>0:</span><span class='ee-v'>-73.64499662925209</span></li><li><span class='ee-k'>1:</span><span class='ee-v'>-4.468571678838533</span></li></ul></li><li><label class='ee-shut'>91: [-73.64312052470142, -4.4678907928150595]<input type='checkbox' class='ee-toggle'></label><ul><li><span class='ee-k'>0:</span><span class='ee-v'>-73.64312052470142</span></li><li><span class='ee-k'>1:</span><span class='ee-v'>-4.4678907928150595</span></li></ul></li><li><label class='ee-shut'>92: [-73.64167178942206, -4.467480575269855]<input type='checkbox' class='ee-toggle'></label><ul><li><span class='ee-k'>0:</span><span class='ee-v'>-73.64167178942206</span></li><li><span class='ee-k'>1:</span><span class='ee-v'>-4.467480575269855</span></li></ul></li><li><label class='ee-shut'>93: [-73.64067840592179, -4.467215998249145]<input type='checkbox' class='ee-toggle'></label><ul><li><span class='ee-k'>0:</span><span class='ee-v'>-73.64067840592179</span></li><li><span class='ee-k'>1:</span><span class='ee-v'>-4.467215998249145</span></li></ul></li><li><label class='ee-shut'>94: [-73.63843538319364, -4.466868424975319]<input type='checkbox' class='ee-toggle'></label><ul><li><span class='ee-k'>0:</span><span class='ee-v'>-73.63843538319364</span></li><li><span class='ee-k'>1:</span><span class='ee-v'>-4.466868424975319</span></li></ul></li><li><label class='ee-shut'>95: [-73.63616940527771, -4.466900388411386]<input type='checkbox' class='ee-toggle'></label><ul><li><span class='ee-k'>0:</span><span class='ee-v'>-73.63616940527771</span></li><li><span class='ee-k'>1:</span><span class='ee-v'>-4.466900388411386</span></li></ul></li><li><label class='ee-shut'>96: [-73.63392113773378, -4.467248291882181]<input type='checkbox' class='ee-toggle'></label><ul><li><span class='ee-k'>0:</span><span class='ee-v'>-73.63392113773378</span></li><li><span class='ee-k'>1:</span><span class='ee-v'>-4.467248291882181</span></li></ul></li><li><label class='ee-shut'>97: [-73.63172909062652, -4.467796350420927]<input type='checkbox' class='ee-toggle'></label><ul><li><span class='ee-k'>0:</span><span class='ee-v'>-73.63172909062652</span></li><li><span class='ee-k'>1:</span><span class='ee-v'>-4.467796350420927</span></li></ul></li><li><label class='ee-shut'>98: [-73.62951659750591, -4.468289826686977]<input type='checkbox' class='ee-toggle'></label><ul><li><span class='ee-k'>0:</span><span class='ee-v'>-73.62951659750591</span></li><li><span class='ee-k'>1:</span><span class='ee-v'>-4.468289826686977</span></li></ul></li><li><label class='ee-shut'>99: [-73.62725825656443, -4.468529701071753]<input type='checkbox' class='ee-toggle'></label><ul><li><span class='ee-k'>0:</span><span class='ee-v'>-73.62725825656443</span></li><li><span class='ee-k'>1:</span><span class='ee-v'>-4.468529701071753</span></li></ul></li><li><label class='ee-shut'>100: [-73.62499236907237, -4.468660842929837]<input type='checkbox' class='ee-toggle'></label><ul><li><span class='ee-k'>0:</span><span class='ee-v'>-73.62499236907237</span></li><li><span class='ee-k'>1:</span><span class='ee-v'>-4.468660842929837</span></li></ul></li><li><label class='ee-shut'>101: [-73.62272639776242, -4.4686927628997]<input type='checkbox' class='ee-toggle'></label><ul><li><span class='ee-k'>0:</span><span class='ee-v'>-73.62272639776242</span></li><li><span class='ee-k'>1:</span><span class='ee-v'>-4.4686927628997</span></li></ul></li><li><label class='ee-shut'>102: [-73.62081570293623, -4.468458813491792]<input type='checkbox' class='ee-toggle'></label><ul><li><span class='ee-k'>0:</span><span class='ee-v'>-73.62081570293623</span></li><li><span class='ee-k'>1:</span><span class='ee-v'>-4.468458813491792</span></li></ul></li><li><label class='ee-shut'>103: [-73.62085456042063, -4.447618884813608]<input type='checkbox' class='ee-toggle'></label><ul><li><span class='ee-k'>0:</span><span class='ee-v'>-73.62085456042063</span></li><li><span class='ee-k'>1:</span><span class='ee-v'>-4.447618884813608</span></li></ul></li><li><label class='ee-shut'>104: [-73.60445526034653, -4.4475879725503225]<input type='checkbox' class='ee-toggle'></label><ul><li><span class='ee-k'>0:</span><span class='ee-v'>-73.60445526034653</span></li><li><span class='ee-k'>1:</span><span class='ee-v'>-4.4475879725503225</span></li></ul></li><li><label class='ee-shut'>105: [-73.5988622633844, -4.432077513760651]<input type='checkbox' class='ee-toggle'></label><ul><li><span class='ee-k'>0:</span><span class='ee-v'>-73.5988622633844</span></li><li><span class='ee-k'>1:</span><span class='ee-v'>-4.432077513760651</span></li></ul></li><li><label class='ee-shut'>106: [-73.62088334211315, -4.4321189623806205]<input type='checkbox' class='ee-toggle'></label><ul><li><span class='ee-k'>0:</span><span class='ee-v'>-73.62088334211315</span></li><li><span class='ee-k'>1:</span><span class='ee-v'>-4.4321189623806205</span></li></ul></li><li><label class='ee-shut'>107: [-73.6209471707229, -4.3975481991966605]<input type='checkbox' class='ee-toggle'></label><ul><li><span class='ee-k'>0:</span><span class='ee-v'>-73.6209471707229</span></li><li><span class='ee-k'>1:</span><span class='ee-v'>-4.3975481991966605</span></li></ul></li><li><label class='ee-shut'>108: [-73.63536397793573, -4.397574770837496]<input type='checkbox' class='ee-toggle'></label><ul><li><span class='ee-k'>0:</span><span class='ee-v'>-73.63536397793573</span></li><li><span class='ee-k'>1:</span><span class='ee-v'>-4.397574770837496</span></li></ul></li><li><label class='ee-shut'>109: [-73.63539760164353, -4.379058763260627]<input type='checkbox' class='ee-toggle'></label><ul><li><span class='ee-k'>0:</span><span class='ee-v'>-73.63539760164353</span></li><li><span class='ee-k'>1:</span><span class='ee-v'>-4.379058763260627</span></li></ul></li><li><label class='ee-shut'>110: [-73.66013148137458, -4.3791035111058925]<input type='checkbox' class='ee-toggle'></label><ul><li><span class='ee-k'>0:</span><span class='ee-v'>-73.66013148137458</span></li><li><span class='ee-k'>1:</span><span class='ee-v'>-4.3791035111058925</span></li></ul></li><li><label class='ee-shut'>111: [-73.661186750047, -4.366839936498773]<input type='checkbox' class='ee-toggle'></label><ul><li><span class='ee-k'>0:</span><span class='ee-v'>-73.661186750047</span></li><li><span class='ee-k'>1:</span><span class='ee-v'>-4.366839936498773</span></li></ul></li><li><label class='ee-shut'>112: [-73.66715289862839, -4.297483771434617]<input type='checkbox' class='ee-toggle'></label><ul><li><span class='ee-k'>0:</span><span class='ee-v'>-73.66715289862839</span></li><li><span class='ee-k'>1:</span><span class='ee-v'>-4.297483771434617</span></li></ul></li><li><label class='ee-shut'>113: [-73.67925833668968, -4.297490391713284]<input type='checkbox' class='ee-toggle'></label><ul><li><span class='ee-k'>0:</span><span class='ee-v'>-73.67925833668968</span></li><li><span class='ee-k'>1:</span><span class='ee-v'>-4.297490391713284</span></li></ul></li><li><label class='ee-shut'>114: [-73.67926652168201, -4.2927317791679505]<input type='checkbox' class='ee-toggle'></label><ul><li><span class='ee-k'>0:</span><span class='ee-v'>-73.67926652168201</span></li><li><span class='ee-k'>1:</span><span class='ee-v'>-4.2927317791679505</span></li></ul></li><li><label class='ee-shut'>115: [-73.70636438638385, -4.292782946040173]<input type='checkbox' class='ee-toggle'></label><ul><li><span class='ee-k'>0:</span><span class='ee-v'>-73.70636438638385</span></li><li><span class='ee-k'>1:</span><span class='ee-v'>-4.292782946040173</span></li></ul></li><li><label class='ee-shut'>116: [-73.72694072069217, -4.285378957796191]<input type='checkbox' class='ee-toggle'></label><ul><li><span class='ee-k'>0:</span><span class='ee-v'>-73.72694072069217</span></li><li><span class='ee-k'>1:</span><span class='ee-v'>-4.285378957796191</span></li></ul></li><li><label class='ee-shut'>117: [-73.75141258828562, -4.292822873641741]<input type='checkbox' class='ee-toggle'></label><ul><li><span class='ee-k'>0:</span><span class='ee-v'>-73.75141258828562</span></li><li><span class='ee-k'>1:</span><span class='ee-v'>-4.292822873641741</span></li></ul></li><li><label class='ee-shut'>118: [-73.75399153150043, -4.292825103247114]<input type='checkbox' class='ee-toggle'></label><ul><li><span class='ee-k'>0:</span><span class='ee-v'>-73.75399153150043</span></li><li><span class='ee-k'>1:</span><span class='ee-v'>-4.292825103247114</span></li></ul></li><li><label class='ee-shut'>119: [-73.76290911877882, -4.288345492600839]<input type='checkbox' class='ee-toggle'></label><ul><li><span class='ee-k'>0:</span><span class='ee-v'>-73.76290911877882</span></li><li><span class='ee-k'>1:</span><span class='ee-v'>-4.288345492600839</span></li></ul></li><li><label class='ee-shut'>120: [-73.76291732108112, -4.2863824427238955]<input type='checkbox' class='ee-toggle'></label><ul><li><span class='ee-k'>0:</span><span class='ee-v'>-73.76291732108112</span></li><li><span class='ee-k'>1:</span><span class='ee-v'>-4.2863824427238955</span></li></ul></li><li><label class='ee-shut'>121: [-73.75143211852038, -4.280788522871085]<input type='checkbox' class='ee-toggle'></label><ul><li><span class='ee-k'>0:</span><span class='ee-v'>-73.75143211852038</span></li><li><span class='ee-k'>1:</span><span class='ee-v'>-4.280788522871085</span></li></ul></li><li><label class='ee-shut'>122: [-73.73430088524701, -4.2645813501288625]<input type='checkbox' class='ee-toggle'></label><ul><li><span class='ee-k'>0:</span><span class='ee-v'>-73.73430088524701</span></li><li><span class='ee-k'>1:</span><span class='ee-v'>-4.2645813501288625</span></li></ul></li><li><label class='ee-shut'>123: [-73.7242540051786, -4.2645516887155885]<input type='checkbox' class='ee-toggle'></label><ul><li><span class='ee-k'>0:</span><span class='ee-v'>-73.7242540051786</span></li><li><span class='ee-k'>1:</span><span class='ee-v'>-4.2645516887155885</span></li></ul></li><li><label class='ee-shut'>124: [-73.70639795371522, -4.272800691995381]<input type='checkbox' class='ee-toggle'></label><ul><li><span class='ee-k'>0:</span><span class='ee-v'>-73.70639795371522</span></li><li><span class='ee-k'>1:</span><span class='ee-v'>-4.272800691995381</span></li></ul></li><li><label class='ee-shut'>125: [-73.70644351295583, -4.245527932001742]<input type='checkbox' class='ee-toggle'></label><ul><li><span class='ee-k'>0:</span><span class='ee-v'>-73.70644351295583</span></li><li><span class='ee-k'>1:</span><span class='ee-v'>-4.245527932001742</span></li></ul></li></ul></li></ul></li></ul></li><li><span class='ee-k'>system:index:</span><span class='ee-v'>20190809T151711_20190809T151806_T18MXA</span></li><li><span class='ee-k'>system:time_end:</span><span class='ee-v'>1565364255846</span></li><li><span class='ee-k'>system:time_start:</span><span class='ee-v'>1565364255846</span></li></ul></li></ul></li></ul></div><script>function toggleHeader() {\n",
              "    const parent = this.parentElement;\n",
              "    parent.className = parent.className === \"ee-open\" ? \"ee-shut\" : \"ee-open\";\n",
              "}\n",
              "\n",
              "for (let c of document.getElementsByClassName(\"ee-toggle\")) {\n",
              "    c.onclick = toggleHeader;\n",
              "}</script></div>"
            ]
          },
          "metadata": {},
          "execution_count": 224
        }
      ]
    },
    {
      "cell_type": "code",
      "source": [
        "  ndvi1"
      ],
      "metadata": {
        "id": "YP3vItWAW1y3",
        "outputId": "56279055-0ea2-47f6-ee16-1fee899b0ced",
        "colab": {
          "base_uri": "https://localhost:8080/",
          "height": 68
        }
      },
      "execution_count": 225,
      "outputs": [
        {
          "output_type": "display_data",
          "data": {
            "text/plain": [
              "<IPython.core.display.HTML object>"
            ],
            "text/html": [
              "\n",
              "            <style>\n",
              "                .geemap-dark {\n",
              "                    --jp-widgets-color: white;\n",
              "                    --jp-widgets-label-color: white;\n",
              "                    --jp-ui-font-color1: white;\n",
              "                    --jp-layout-color2: #454545;\n",
              "                    background-color: #383838;\n",
              "                }\n",
              "                    \n",
              "                .geemap-dark .jupyter-button {\n",
              "                    --jp-layout-color3: #383838;\n",
              "                }\n",
              "                \n",
              "                .geemap-colab {\n",
              "                    background-color: var(--colab-primary-surface-color, white);\n",
              "                }\n",
              "                    \n",
              "                .geemap-colab .jupyter-button {\n",
              "                    --jp-layout-color3: var(--colab-primary-surface-color, white);\n",
              "                }\n",
              "            </style>\n",
              "            "
            ]
          },
          "metadata": {}
        },
        {
          "output_type": "execute_result",
          "data": {
            "text/plain": [
              "<ee.image.Image at 0x7f8daa97b100>"
            ],
            "text/html": [
              "<div><style>:root {\n",
              "  --font-color-primary: var(--jp-content-font-color0, rgba(0, 0, 0, 1));\n",
              "  --font-color-secondary: var(--jp-content-font-color2, rgba(0, 0, 0, 0.6));\n",
              "  --font-color-accent: rgba(123, 31, 162, 1);\n",
              "  --border-color: var(--jp-border-color2, #e0e0e0);\n",
              "  --background-color: var(--jp-layout-color0, white);\n",
              "  --background-color-row-even: var(--jp-layout-color1, white);\n",
              "  --background-color-row-odd: var(--jp-layout-color2, #eeeeee);\n",
              "}\n",
              "\n",
              "html[theme=\"dark\"],\n",
              "body[data-theme=\"dark\"],\n",
              "body.vscode-dark {\n",
              "  --font-color-primary: rgba(255, 255, 255, 1);\n",
              "  --font-color-secondary: rgba(255, 255, 255, 0.6);\n",
              "  --font-color-accent: rgb(173, 132, 190);\n",
              "  --border-color: #2e2e2e;\n",
              "  --background-color: #111111;\n",
              "  --background-color-row-even: #111111;\n",
              "  --background-color-row-odd: #313131;\n",
              "}\n",
              "\n",
              ".ee {\n",
              "  padding: 1em;\n",
              "  line-height: 1.5em;\n",
              "  min-width: 300px;\n",
              "  max-width: 1200px;\n",
              "  overflow-y: scroll;\n",
              "  max-height: 600px;\n",
              "  border: 1px solid var(--border-color);\n",
              "  font-family: monospace;\n",
              "}\n",
              "\n",
              ".ee li {\n",
              "  list-style-type: none;\n",
              "}\n",
              "\n",
              ".ee ul {\n",
              "  padding-left: 1.5em !important;\n",
              "  margin: 0;\n",
              "}\n",
              "\n",
              ".ee > ul {\n",
              "  padding-left: 0 !important;\n",
              "}\n",
              "\n",
              ".ee-open,\n",
              ".ee-shut {\n",
              "  color: var(--font-color-secondary);\n",
              "  cursor: pointer;\n",
              "  margin: 0;\n",
              "}\n",
              "\n",
              ".ee-open:hover,\n",
              ".ee-shut:hover {\n",
              "  color: var(--font-color-primary);\n",
              "}\n",
              "\n",
              ".ee-k {\n",
              "  color: var(--font-color-accent);\n",
              "  margin-right: 6px;\n",
              "}\n",
              "\n",
              ".ee-v {\n",
              "  color: var(--font-color-primary);\n",
              "}\n",
              "\n",
              ".ee-toggle {\n",
              "  display: none;\n",
              "}\n",
              "\n",
              ".ee-shut + ul {\n",
              "  display: none;\n",
              "}\n",
              "\n",
              ".ee-open + ul {\n",
              "  display: block;\n",
              "}\n",
              "\n",
              ".ee-shut::before {\n",
              "  display: inline-block;\n",
              "  content: \"▼\";\n",
              "  margin-right: 6px;\n",
              "  transform: rotate(-90deg);\n",
              "  transition: transform 0.2s;\n",
              "}\n",
              "\n",
              ".ee-open::before {\n",
              "  transform: rotate(0deg);\n",
              "  display: inline-block;\n",
              "  content: \"▼\";\n",
              "  margin-right: 6px;\n",
              "  transition: transform 0.2s;\n",
              "}\n",
              "</style><div class='ee'><ul><li><label class='ee-shut'>Image (1 band)<input type='checkbox' class='ee-toggle'></label><ul><li><span class='ee-k'>type:</span><span class='ee-v'>Image</span></li><li><label class='ee-shut'>bands: List (1 element)<input type='checkbox' class='ee-toggle'></label><ul><li><label class='ee-shut'>0: \"NDVI\", float, EPSG:32718, 2191x3576 px<input type='checkbox' class='ee-toggle'></label><ul><li><span class='ee-k'>id:</span><span class='ee-v'>NDVI</span></li><li><span class='ee-k'>crs:</span><span class='ee-v'>EPSG:32718</span></li><li><label class='ee-shut'>crs_transform: [10, 0, 600000, 0, -10, 9600040]<input type='checkbox' class='ee-toggle'></label><ul><li><span class='ee-k'>0:</span><span class='ee-v'>10</span></li><li><span class='ee-k'>1:</span><span class='ee-v'>0</span></li><li><span class='ee-k'>2:</span><span class='ee-v'>600000</span></li><li><span class='ee-k'>3:</span><span class='ee-v'>0</span></li><li><span class='ee-k'>4:</span><span class='ee-v'>-10</span></li><li><span class='ee-k'>5:</span><span class='ee-v'>9600040</span></li></ul></li><li><label class='ee-shut'>data_type: float<input type='checkbox' class='ee-toggle'></label><ul><li><span class='ee-k'>type:</span><span class='ee-v'>PixelType</span></li><li><span class='ee-k'>precision:</span><span class='ee-v'>float</span></li></ul></li><li><label class='ee-shut'>dimensions: [2191, 3576]<input type='checkbox' class='ee-toggle'></label><ul><li><span class='ee-k'>0:</span><span class='ee-v'>2191</span></li><li><span class='ee-k'>1:</span><span class='ee-v'>3576</span></li></ul></li><li><label class='ee-shut'>origin: [3356, 6051]<input type='checkbox' class='ee-toggle'></label><ul><li><span class='ee-k'>0:</span><span class='ee-v'>3356</span></li><li><span class='ee-k'>1:</span><span class='ee-v'>6051</span></li></ul></li></ul></li></ul></li></ul></li></ul></div><script>function toggleHeader() {\n",
              "    const parent = this.parentElement;\n",
              "    parent.className = parent.className === \"ee-open\" ? \"ee-shut\" : \"ee-open\";\n",
              "}\n",
              "\n",
              "for (let c of document.getElementsByClassName(\"ee-toggle\")) {\n",
              "    c.onclick = toggleHeader;\n",
              "}</script></div>"
            ]
          },
          "metadata": {},
          "execution_count": 225
        }
      ]
    },
    {
      "cell_type": "code",
      "source": [
        "image2"
      ],
      "metadata": {
        "id": "4tSE34RKUlLQ",
        "outputId": "939dec87-1422-4967-e10d-8c96b8fa1302",
        "colab": {
          "base_uri": "https://localhost:8080/",
          "height": 68
        }
      },
      "execution_count": 226,
      "outputs": [
        {
          "output_type": "display_data",
          "data": {
            "text/plain": [
              "<IPython.core.display.HTML object>"
            ],
            "text/html": [
              "\n",
              "            <style>\n",
              "                .geemap-dark {\n",
              "                    --jp-widgets-color: white;\n",
              "                    --jp-widgets-label-color: white;\n",
              "                    --jp-ui-font-color1: white;\n",
              "                    --jp-layout-color2: #454545;\n",
              "                    background-color: #383838;\n",
              "                }\n",
              "                    \n",
              "                .geemap-dark .jupyter-button {\n",
              "                    --jp-layout-color3: #383838;\n",
              "                }\n",
              "                \n",
              "                .geemap-colab {\n",
              "                    background-color: var(--colab-primary-surface-color, white);\n",
              "                }\n",
              "                    \n",
              "                .geemap-colab .jupyter-button {\n",
              "                    --jp-layout-color3: var(--colab-primary-surface-color, white);\n",
              "                }\n",
              "            </style>\n",
              "            "
            ]
          },
          "metadata": {}
        },
        {
          "output_type": "execute_result",
          "data": {
            "text/plain": [
              "<ee.image.Image at 0x7f8daa97add0>"
            ],
            "text/html": [
              "<div><style>:root {\n",
              "  --font-color-primary: var(--jp-content-font-color0, rgba(0, 0, 0, 1));\n",
              "  --font-color-secondary: var(--jp-content-font-color2, rgba(0, 0, 0, 0.6));\n",
              "  --font-color-accent: rgba(123, 31, 162, 1);\n",
              "  --border-color: var(--jp-border-color2, #e0e0e0);\n",
              "  --background-color: var(--jp-layout-color0, white);\n",
              "  --background-color-row-even: var(--jp-layout-color1, white);\n",
              "  --background-color-row-odd: var(--jp-layout-color2, #eeeeee);\n",
              "}\n",
              "\n",
              "html[theme=\"dark\"],\n",
              "body[data-theme=\"dark\"],\n",
              "body.vscode-dark {\n",
              "  --font-color-primary: rgba(255, 255, 255, 1);\n",
              "  --font-color-secondary: rgba(255, 255, 255, 0.6);\n",
              "  --font-color-accent: rgb(173, 132, 190);\n",
              "  --border-color: #2e2e2e;\n",
              "  --background-color: #111111;\n",
              "  --background-color-row-even: #111111;\n",
              "  --background-color-row-odd: #313131;\n",
              "}\n",
              "\n",
              ".ee {\n",
              "  padding: 1em;\n",
              "  line-height: 1.5em;\n",
              "  min-width: 300px;\n",
              "  max-width: 1200px;\n",
              "  overflow-y: scroll;\n",
              "  max-height: 600px;\n",
              "  border: 1px solid var(--border-color);\n",
              "  font-family: monospace;\n",
              "}\n",
              "\n",
              ".ee li {\n",
              "  list-style-type: none;\n",
              "}\n",
              "\n",
              ".ee ul {\n",
              "  padding-left: 1.5em !important;\n",
              "  margin: 0;\n",
              "}\n",
              "\n",
              ".ee > ul {\n",
              "  padding-left: 0 !important;\n",
              "}\n",
              "\n",
              ".ee-open,\n",
              ".ee-shut {\n",
              "  color: var(--font-color-secondary);\n",
              "  cursor: pointer;\n",
              "  margin: 0;\n",
              "}\n",
              "\n",
              ".ee-open:hover,\n",
              ".ee-shut:hover {\n",
              "  color: var(--font-color-primary);\n",
              "}\n",
              "\n",
              ".ee-k {\n",
              "  color: var(--font-color-accent);\n",
              "  margin-right: 6px;\n",
              "}\n",
              "\n",
              ".ee-v {\n",
              "  color: var(--font-color-primary);\n",
              "}\n",
              "\n",
              ".ee-toggle {\n",
              "  display: none;\n",
              "}\n",
              "\n",
              ".ee-shut + ul {\n",
              "  display: none;\n",
              "}\n",
              "\n",
              ".ee-open + ul {\n",
              "  display: block;\n",
              "}\n",
              "\n",
              ".ee-shut::before {\n",
              "  display: inline-block;\n",
              "  content: \"▼\";\n",
              "  margin-right: 6px;\n",
              "  transform: rotate(-90deg);\n",
              "  transition: transform 0.2s;\n",
              "}\n",
              "\n",
              ".ee-open::before {\n",
              "  transform: rotate(0deg);\n",
              "  display: inline-block;\n",
              "  content: \"▼\";\n",
              "  margin-right: 6px;\n",
              "  transition: transform 0.2s;\n",
              "}\n",
              "</style><div class='ee'><ul><li><label class='ee-shut'>Image COPERNICUS/S2_SR_HARMONIZED/20230917T151711_20230917T152113_T18MXA (23 bands)<input type='checkbox' class='ee-toggle'></label><ul><li><span class='ee-k'>type:</span><span class='ee-v'>Image</span></li><li><span class='ee-k'>id:</span><span class='ee-v'>COPERNICUS/S2_SR_HARMONIZED/20230917T151711_20230917T152113_T18MXA</span></li><li><span class='ee-k'>version:</span><span class='ee-v'>1708363825581643</span></li><li><label class='ee-shut'>bands: List (23 elements)<input type='checkbox' class='ee-toggle'></label><ul><li><label class='ee-shut'>0: \"B1\", unsigned int16, EPSG:32718, 366x597 px<input type='checkbox' class='ee-toggle'></label><ul><li><span class='ee-k'>id:</span><span class='ee-v'>B1</span></li><li><span class='ee-k'>crs:</span><span class='ee-v'>EPSG:32718</span></li><li><label class='ee-shut'>crs_transform: [60, 0, 600000, 0, -60, 9600040]<input type='checkbox' class='ee-toggle'></label><ul><li><span class='ee-k'>0:</span><span class='ee-v'>60</span></li><li><span class='ee-k'>1:</span><span class='ee-v'>0</span></li><li><span class='ee-k'>2:</span><span class='ee-v'>600000</span></li><li><span class='ee-k'>3:</span><span class='ee-v'>0</span></li><li><span class='ee-k'>4:</span><span class='ee-v'>-60</span></li><li><span class='ee-k'>5:</span><span class='ee-v'>9600040</span></li></ul></li><li><label class='ee-shut'>data_type: unsigned int16<input type='checkbox' class='ee-toggle'></label><ul><li><span class='ee-k'>type:</span><span class='ee-v'>PixelType</span></li><li><span class='ee-k'>max:</span><span class='ee-v'>65535</span></li><li><span class='ee-k'>min:</span><span class='ee-v'>0</span></li><li><span class='ee-k'>precision:</span><span class='ee-v'>int</span></li></ul></li><li><label class='ee-shut'>dimensions: [366, 597]<input type='checkbox' class='ee-toggle'></label><ul><li><span class='ee-k'>0:</span><span class='ee-v'>366</span></li><li><span class='ee-k'>1:</span><span class='ee-v'>597</span></li></ul></li><li><label class='ee-shut'>origin: [559, 1008]<input type='checkbox' class='ee-toggle'></label><ul><li><span class='ee-k'>0:</span><span class='ee-v'>559</span></li><li><span class='ee-k'>1:</span><span class='ee-v'>1008</span></li></ul></li></ul></li><li><label class='ee-shut'>1: \"B2\", unsigned int16, EPSG:32718, 2191x3576 px<input type='checkbox' class='ee-toggle'></label><ul><li><span class='ee-k'>id:</span><span class='ee-v'>B2</span></li><li><span class='ee-k'>crs:</span><span class='ee-v'>EPSG:32718</span></li><li><label class='ee-shut'>crs_transform: [10, 0, 600000, 0, -10, 9600040]<input type='checkbox' class='ee-toggle'></label><ul><li><span class='ee-k'>0:</span><span class='ee-v'>10</span></li><li><span class='ee-k'>1:</span><span class='ee-v'>0</span></li><li><span class='ee-k'>2:</span><span class='ee-v'>600000</span></li><li><span class='ee-k'>3:</span><span class='ee-v'>0</span></li><li><span class='ee-k'>4:</span><span class='ee-v'>-10</span></li><li><span class='ee-k'>5:</span><span class='ee-v'>9600040</span></li></ul></li><li><label class='ee-shut'>data_type: unsigned int16<input type='checkbox' class='ee-toggle'></label><ul><li><span class='ee-k'>type:</span><span class='ee-v'>PixelType</span></li><li><span class='ee-k'>max:</span><span class='ee-v'>65535</span></li><li><span class='ee-k'>min:</span><span class='ee-v'>0</span></li><li><span class='ee-k'>precision:</span><span class='ee-v'>int</span></li></ul></li><li><label class='ee-shut'>dimensions: [2191, 3576]<input type='checkbox' class='ee-toggle'></label><ul><li><span class='ee-k'>0:</span><span class='ee-v'>2191</span></li><li><span class='ee-k'>1:</span><span class='ee-v'>3576</span></li></ul></li><li><label class='ee-shut'>origin: [3356, 6051]<input type='checkbox' class='ee-toggle'></label><ul><li><span class='ee-k'>0:</span><span class='ee-v'>3356</span></li><li><span class='ee-k'>1:</span><span class='ee-v'>6051</span></li></ul></li></ul></li><li><label class='ee-shut'>2: \"B3\", unsigned int16, EPSG:32718, 2191x3576 px<input type='checkbox' class='ee-toggle'></label><ul><li><span class='ee-k'>id:</span><span class='ee-v'>B3</span></li><li><span class='ee-k'>crs:</span><span class='ee-v'>EPSG:32718</span></li><li><label class='ee-shut'>crs_transform: [10, 0, 600000, 0, -10, 9600040]<input type='checkbox' class='ee-toggle'></label><ul><li><span class='ee-k'>0:</span><span class='ee-v'>10</span></li><li><span class='ee-k'>1:</span><span class='ee-v'>0</span></li><li><span class='ee-k'>2:</span><span class='ee-v'>600000</span></li><li><span class='ee-k'>3:</span><span class='ee-v'>0</span></li><li><span class='ee-k'>4:</span><span class='ee-v'>-10</span></li><li><span class='ee-k'>5:</span><span class='ee-v'>9600040</span></li></ul></li><li><label class='ee-shut'>data_type: unsigned int16<input type='checkbox' class='ee-toggle'></label><ul><li><span class='ee-k'>type:</span><span class='ee-v'>PixelType</span></li><li><span class='ee-k'>max:</span><span class='ee-v'>65535</span></li><li><span class='ee-k'>min:</span><span class='ee-v'>0</span></li><li><span class='ee-k'>precision:</span><span class='ee-v'>int</span></li></ul></li><li><label class='ee-shut'>dimensions: [2191, 3576]<input type='checkbox' class='ee-toggle'></label><ul><li><span class='ee-k'>0:</span><span class='ee-v'>2191</span></li><li><span class='ee-k'>1:</span><span class='ee-v'>3576</span></li></ul></li><li><label class='ee-shut'>origin: [3356, 6051]<input type='checkbox' class='ee-toggle'></label><ul><li><span class='ee-k'>0:</span><span class='ee-v'>3356</span></li><li><span class='ee-k'>1:</span><span class='ee-v'>6051</span></li></ul></li></ul></li><li><label class='ee-shut'>3: \"B4\", unsigned int16, EPSG:32718, 2191x3576 px<input type='checkbox' class='ee-toggle'></label><ul><li><span class='ee-k'>id:</span><span class='ee-v'>B4</span></li><li><span class='ee-k'>crs:</span><span class='ee-v'>EPSG:32718</span></li><li><label class='ee-shut'>crs_transform: [10, 0, 600000, 0, -10, 9600040]<input type='checkbox' class='ee-toggle'></label><ul><li><span class='ee-k'>0:</span><span class='ee-v'>10</span></li><li><span class='ee-k'>1:</span><span class='ee-v'>0</span></li><li><span class='ee-k'>2:</span><span class='ee-v'>600000</span></li><li><span class='ee-k'>3:</span><span class='ee-v'>0</span></li><li><span class='ee-k'>4:</span><span class='ee-v'>-10</span></li><li><span class='ee-k'>5:</span><span class='ee-v'>9600040</span></li></ul></li><li><label class='ee-shut'>data_type: unsigned int16<input type='checkbox' class='ee-toggle'></label><ul><li><span class='ee-k'>type:</span><span class='ee-v'>PixelType</span></li><li><span class='ee-k'>max:</span><span class='ee-v'>65535</span></li><li><span class='ee-k'>min:</span><span class='ee-v'>0</span></li><li><span class='ee-k'>precision:</span><span class='ee-v'>int</span></li></ul></li><li><label class='ee-shut'>dimensions: [2191, 3576]<input type='checkbox' class='ee-toggle'></label><ul><li><span class='ee-k'>0:</span><span class='ee-v'>2191</span></li><li><span class='ee-k'>1:</span><span class='ee-v'>3576</span></li></ul></li><li><label class='ee-shut'>origin: [3356, 6051]<input type='checkbox' class='ee-toggle'></label><ul><li><span class='ee-k'>0:</span><span class='ee-v'>3356</span></li><li><span class='ee-k'>1:</span><span class='ee-v'>6051</span></li></ul></li></ul></li><li><label class='ee-shut'>4: \"B5\", unsigned int16, EPSG:32718, 1096x1789 px<input type='checkbox' class='ee-toggle'></label><ul><li><span class='ee-k'>id:</span><span class='ee-v'>B5</span></li><li><span class='ee-k'>crs:</span><span class='ee-v'>EPSG:32718</span></li><li><label class='ee-shut'>crs_transform: [20, 0, 600000, 0, -20, 9600040]<input type='checkbox' class='ee-toggle'></label><ul><li><span class='ee-k'>0:</span><span class='ee-v'>20</span></li><li><span class='ee-k'>1:</span><span class='ee-v'>0</span></li><li><span class='ee-k'>2:</span><span class='ee-v'>600000</span></li><li><span class='ee-k'>3:</span><span class='ee-v'>0</span></li><li><span class='ee-k'>4:</span><span class='ee-v'>-20</span></li><li><span class='ee-k'>5:</span><span class='ee-v'>9600040</span></li></ul></li><li><label class='ee-shut'>data_type: unsigned int16<input type='checkbox' class='ee-toggle'></label><ul><li><span class='ee-k'>type:</span><span class='ee-v'>PixelType</span></li><li><span class='ee-k'>max:</span><span class='ee-v'>65535</span></li><li><span class='ee-k'>min:</span><span class='ee-v'>0</span></li><li><span class='ee-k'>precision:</span><span class='ee-v'>int</span></li></ul></li><li><label class='ee-shut'>dimensions: [1096, 1789]<input type='checkbox' class='ee-toggle'></label><ul><li><span class='ee-k'>0:</span><span class='ee-v'>1096</span></li><li><span class='ee-k'>1:</span><span class='ee-v'>1789</span></li></ul></li><li><label class='ee-shut'>origin: [1678, 3025]<input type='checkbox' class='ee-toggle'></label><ul><li><span class='ee-k'>0:</span><span class='ee-v'>1678</span></li><li><span class='ee-k'>1:</span><span class='ee-v'>3025</span></li></ul></li></ul></li><li><label class='ee-shut'>5: \"B6\", unsigned int16, EPSG:32718, 1096x1789 px<input type='checkbox' class='ee-toggle'></label><ul><li><span class='ee-k'>id:</span><span class='ee-v'>B6</span></li><li><span class='ee-k'>crs:</span><span class='ee-v'>EPSG:32718</span></li><li><label class='ee-shut'>crs_transform: [20, 0, 600000, 0, -20, 9600040]<input type='checkbox' class='ee-toggle'></label><ul><li><span class='ee-k'>0:</span><span class='ee-v'>20</span></li><li><span class='ee-k'>1:</span><span class='ee-v'>0</span></li><li><span class='ee-k'>2:</span><span class='ee-v'>600000</span></li><li><span class='ee-k'>3:</span><span class='ee-v'>0</span></li><li><span class='ee-k'>4:</span><span class='ee-v'>-20</span></li><li><span class='ee-k'>5:</span><span class='ee-v'>9600040</span></li></ul></li><li><label class='ee-shut'>data_type: unsigned int16<input type='checkbox' class='ee-toggle'></label><ul><li><span class='ee-k'>type:</span><span class='ee-v'>PixelType</span></li><li><span class='ee-k'>max:</span><span class='ee-v'>65535</span></li><li><span class='ee-k'>min:</span><span class='ee-v'>0</span></li><li><span class='ee-k'>precision:</span><span class='ee-v'>int</span></li></ul></li><li><label class='ee-shut'>dimensions: [1096, 1789]<input type='checkbox' class='ee-toggle'></label><ul><li><span class='ee-k'>0:</span><span class='ee-v'>1096</span></li><li><span class='ee-k'>1:</span><span class='ee-v'>1789</span></li></ul></li><li><label class='ee-shut'>origin: [1678, 3025]<input type='checkbox' class='ee-toggle'></label><ul><li><span class='ee-k'>0:</span><span class='ee-v'>1678</span></li><li><span class='ee-k'>1:</span><span class='ee-v'>3025</span></li></ul></li></ul></li><li><label class='ee-shut'>6: \"B7\", unsigned int16, EPSG:32718, 1096x1789 px<input type='checkbox' class='ee-toggle'></label><ul><li><span class='ee-k'>id:</span><span class='ee-v'>B7</span></li><li><span class='ee-k'>crs:</span><span class='ee-v'>EPSG:32718</span></li><li><label class='ee-shut'>crs_transform: [20, 0, 600000, 0, -20, 9600040]<input type='checkbox' class='ee-toggle'></label><ul><li><span class='ee-k'>0:</span><span class='ee-v'>20</span></li><li><span class='ee-k'>1:</span><span class='ee-v'>0</span></li><li><span class='ee-k'>2:</span><span class='ee-v'>600000</span></li><li><span class='ee-k'>3:</span><span class='ee-v'>0</span></li><li><span class='ee-k'>4:</span><span class='ee-v'>-20</span></li><li><span class='ee-k'>5:</span><span class='ee-v'>9600040</span></li></ul></li><li><label class='ee-shut'>data_type: unsigned int16<input type='checkbox' class='ee-toggle'></label><ul><li><span class='ee-k'>type:</span><span class='ee-v'>PixelType</span></li><li><span class='ee-k'>max:</span><span class='ee-v'>65535</span></li><li><span class='ee-k'>min:</span><span class='ee-v'>0</span></li><li><span class='ee-k'>precision:</span><span class='ee-v'>int</span></li></ul></li><li><label class='ee-shut'>dimensions: [1096, 1789]<input type='checkbox' class='ee-toggle'></label><ul><li><span class='ee-k'>0:</span><span class='ee-v'>1096</span></li><li><span class='ee-k'>1:</span><span class='ee-v'>1789</span></li></ul></li><li><label class='ee-shut'>origin: [1678, 3025]<input type='checkbox' class='ee-toggle'></label><ul><li><span class='ee-k'>0:</span><span class='ee-v'>1678</span></li><li><span class='ee-k'>1:</span><span class='ee-v'>3025</span></li></ul></li></ul></li><li><label class='ee-shut'>7: \"B8\", unsigned int16, EPSG:32718, 2191x3576 px<input type='checkbox' class='ee-toggle'></label><ul><li><span class='ee-k'>id:</span><span class='ee-v'>B8</span></li><li><span class='ee-k'>crs:</span><span class='ee-v'>EPSG:32718</span></li><li><label class='ee-shut'>crs_transform: [10, 0, 600000, 0, -10, 9600040]<input type='checkbox' class='ee-toggle'></label><ul><li><span class='ee-k'>0:</span><span class='ee-v'>10</span></li><li><span class='ee-k'>1:</span><span class='ee-v'>0</span></li><li><span class='ee-k'>2:</span><span class='ee-v'>600000</span></li><li><span class='ee-k'>3:</span><span class='ee-v'>0</span></li><li><span class='ee-k'>4:</span><span class='ee-v'>-10</span></li><li><span class='ee-k'>5:</span><span class='ee-v'>9600040</span></li></ul></li><li><label class='ee-shut'>data_type: unsigned int16<input type='checkbox' class='ee-toggle'></label><ul><li><span class='ee-k'>type:</span><span class='ee-v'>PixelType</span></li><li><span class='ee-k'>max:</span><span class='ee-v'>65535</span></li><li><span class='ee-k'>min:</span><span class='ee-v'>0</span></li><li><span class='ee-k'>precision:</span><span class='ee-v'>int</span></li></ul></li><li><label class='ee-shut'>dimensions: [2191, 3576]<input type='checkbox' class='ee-toggle'></label><ul><li><span class='ee-k'>0:</span><span class='ee-v'>2191</span></li><li><span class='ee-k'>1:</span><span class='ee-v'>3576</span></li></ul></li><li><label class='ee-shut'>origin: [3356, 6051]<input type='checkbox' class='ee-toggle'></label><ul><li><span class='ee-k'>0:</span><span class='ee-v'>3356</span></li><li><span class='ee-k'>1:</span><span class='ee-v'>6051</span></li></ul></li></ul></li><li><label class='ee-shut'>8: \"B8A\", unsigned int16, EPSG:32718, 1096x1789 px<input type='checkbox' class='ee-toggle'></label><ul><li><span class='ee-k'>id:</span><span class='ee-v'>B8A</span></li><li><span class='ee-k'>crs:</span><span class='ee-v'>EPSG:32718</span></li><li><label class='ee-shut'>crs_transform: [20, 0, 600000, 0, -20, 9600040]<input type='checkbox' class='ee-toggle'></label><ul><li><span class='ee-k'>0:</span><span class='ee-v'>20</span></li><li><span class='ee-k'>1:</span><span class='ee-v'>0</span></li><li><span class='ee-k'>2:</span><span class='ee-v'>600000</span></li><li><span class='ee-k'>3:</span><span class='ee-v'>0</span></li><li><span class='ee-k'>4:</span><span class='ee-v'>-20</span></li><li><span class='ee-k'>5:</span><span class='ee-v'>9600040</span></li></ul></li><li><label class='ee-shut'>data_type: unsigned int16<input type='checkbox' class='ee-toggle'></label><ul><li><span class='ee-k'>type:</span><span class='ee-v'>PixelType</span></li><li><span class='ee-k'>max:</span><span class='ee-v'>65535</span></li><li><span class='ee-k'>min:</span><span class='ee-v'>0</span></li><li><span class='ee-k'>precision:</span><span class='ee-v'>int</span></li></ul></li><li><label class='ee-shut'>dimensions: [1096, 1789]<input type='checkbox' class='ee-toggle'></label><ul><li><span class='ee-k'>0:</span><span class='ee-v'>1096</span></li><li><span class='ee-k'>1:</span><span class='ee-v'>1789</span></li></ul></li><li><label class='ee-shut'>origin: [1678, 3025]<input type='checkbox' class='ee-toggle'></label><ul><li><span class='ee-k'>0:</span><span class='ee-v'>1678</span></li><li><span class='ee-k'>1:</span><span class='ee-v'>3025</span></li></ul></li></ul></li><li><label class='ee-shut'>9: \"B9\", unsigned int16, EPSG:32718, 366x597 px<input type='checkbox' class='ee-toggle'></label><ul><li><span class='ee-k'>id:</span><span class='ee-v'>B9</span></li><li><span class='ee-k'>crs:</span><span class='ee-v'>EPSG:32718</span></li><li><label class='ee-shut'>crs_transform: [60, 0, 600000, 0, -60, 9600040]<input type='checkbox' class='ee-toggle'></label><ul><li><span class='ee-k'>0:</span><span class='ee-v'>60</span></li><li><span class='ee-k'>1:</span><span class='ee-v'>0</span></li><li><span class='ee-k'>2:</span><span class='ee-v'>600000</span></li><li><span class='ee-k'>3:</span><span class='ee-v'>0</span></li><li><span class='ee-k'>4:</span><span class='ee-v'>-60</span></li><li><span class='ee-k'>5:</span><span class='ee-v'>9600040</span></li></ul></li><li><label class='ee-shut'>data_type: unsigned int16<input type='checkbox' class='ee-toggle'></label><ul><li><span class='ee-k'>type:</span><span class='ee-v'>PixelType</span></li><li><span class='ee-k'>max:</span><span class='ee-v'>65535</span></li><li><span class='ee-k'>min:</span><span class='ee-v'>0</span></li><li><span class='ee-k'>precision:</span><span class='ee-v'>int</span></li></ul></li><li><label class='ee-shut'>dimensions: [366, 597]<input type='checkbox' class='ee-toggle'></label><ul><li><span class='ee-k'>0:</span><span class='ee-v'>366</span></li><li><span class='ee-k'>1:</span><span class='ee-v'>597</span></li></ul></li><li><label class='ee-shut'>origin: [559, 1008]<input type='checkbox' class='ee-toggle'></label><ul><li><span class='ee-k'>0:</span><span class='ee-v'>559</span></li><li><span class='ee-k'>1:</span><span class='ee-v'>1008</span></li></ul></li></ul></li><li><label class='ee-shut'>10: \"B11\", unsigned int16, EPSG:32718, 1096x1789 px<input type='checkbox' class='ee-toggle'></label><ul><li><span class='ee-k'>id:</span><span class='ee-v'>B11</span></li><li><span class='ee-k'>crs:</span><span class='ee-v'>EPSG:32718</span></li><li><label class='ee-shut'>crs_transform: [20, 0, 600000, 0, -20, 9600040]<input type='checkbox' class='ee-toggle'></label><ul><li><span class='ee-k'>0:</span><span class='ee-v'>20</span></li><li><span class='ee-k'>1:</span><span class='ee-v'>0</span></li><li><span class='ee-k'>2:</span><span class='ee-v'>600000</span></li><li><span class='ee-k'>3:</span><span class='ee-v'>0</span></li><li><span class='ee-k'>4:</span><span class='ee-v'>-20</span></li><li><span class='ee-k'>5:</span><span class='ee-v'>9600040</span></li></ul></li><li><label class='ee-shut'>data_type: unsigned int16<input type='checkbox' class='ee-toggle'></label><ul><li><span class='ee-k'>type:</span><span class='ee-v'>PixelType</span></li><li><span class='ee-k'>max:</span><span class='ee-v'>65535</span></li><li><span class='ee-k'>min:</span><span class='ee-v'>0</span></li><li><span class='ee-k'>precision:</span><span class='ee-v'>int</span></li></ul></li><li><label class='ee-shut'>dimensions: [1096, 1789]<input type='checkbox' class='ee-toggle'></label><ul><li><span class='ee-k'>0:</span><span class='ee-v'>1096</span></li><li><span class='ee-k'>1:</span><span class='ee-v'>1789</span></li></ul></li><li><label class='ee-shut'>origin: [1678, 3025]<input type='checkbox' class='ee-toggle'></label><ul><li><span class='ee-k'>0:</span><span class='ee-v'>1678</span></li><li><span class='ee-k'>1:</span><span class='ee-v'>3025</span></li></ul></li></ul></li><li><label class='ee-shut'>11: \"B12\", unsigned int16, EPSG:32718, 1096x1789 px<input type='checkbox' class='ee-toggle'></label><ul><li><span class='ee-k'>id:</span><span class='ee-v'>B12</span></li><li><span class='ee-k'>crs:</span><span class='ee-v'>EPSG:32718</span></li><li><label class='ee-shut'>crs_transform: [20, 0, 600000, 0, -20, 9600040]<input type='checkbox' class='ee-toggle'></label><ul><li><span class='ee-k'>0:</span><span class='ee-v'>20</span></li><li><span class='ee-k'>1:</span><span class='ee-v'>0</span></li><li><span class='ee-k'>2:</span><span class='ee-v'>600000</span></li><li><span class='ee-k'>3:</span><span class='ee-v'>0</span></li><li><span class='ee-k'>4:</span><span class='ee-v'>-20</span></li><li><span class='ee-k'>5:</span><span class='ee-v'>9600040</span></li></ul></li><li><label class='ee-shut'>data_type: unsigned int16<input type='checkbox' class='ee-toggle'></label><ul><li><span class='ee-k'>type:</span><span class='ee-v'>PixelType</span></li><li><span class='ee-k'>max:</span><span class='ee-v'>65535</span></li><li><span class='ee-k'>min:</span><span class='ee-v'>0</span></li><li><span class='ee-k'>precision:</span><span class='ee-v'>int</span></li></ul></li><li><label class='ee-shut'>dimensions: [1096, 1789]<input type='checkbox' class='ee-toggle'></label><ul><li><span class='ee-k'>0:</span><span class='ee-v'>1096</span></li><li><span class='ee-k'>1:</span><span class='ee-v'>1789</span></li></ul></li><li><label class='ee-shut'>origin: [1678, 3025]<input type='checkbox' class='ee-toggle'></label><ul><li><span class='ee-k'>0:</span><span class='ee-v'>1678</span></li><li><span class='ee-k'>1:</span><span class='ee-v'>3025</span></li></ul></li></ul></li><li><label class='ee-shut'>12: \"AOT\", unsigned int16, EPSG:32718, 2191x3576 px<input type='checkbox' class='ee-toggle'></label><ul><li><span class='ee-k'>id:</span><span class='ee-v'>AOT</span></li><li><span class='ee-k'>crs:</span><span class='ee-v'>EPSG:32718</span></li><li><label class='ee-shut'>crs_transform: [10, 0, 600000, 0, -10, 9600040]<input type='checkbox' class='ee-toggle'></label><ul><li><span class='ee-k'>0:</span><span class='ee-v'>10</span></li><li><span class='ee-k'>1:</span><span class='ee-v'>0</span></li><li><span class='ee-k'>2:</span><span class='ee-v'>600000</span></li><li><span class='ee-k'>3:</span><span class='ee-v'>0</span></li><li><span class='ee-k'>4:</span><span class='ee-v'>-10</span></li><li><span class='ee-k'>5:</span><span class='ee-v'>9600040</span></li></ul></li><li><label class='ee-shut'>data_type: unsigned int16<input type='checkbox' class='ee-toggle'></label><ul><li><span class='ee-k'>type:</span><span class='ee-v'>PixelType</span></li><li><span class='ee-k'>max:</span><span class='ee-v'>65535</span></li><li><span class='ee-k'>min:</span><span class='ee-v'>0</span></li><li><span class='ee-k'>precision:</span><span class='ee-v'>int</span></li></ul></li><li><label class='ee-shut'>dimensions: [2191, 3576]<input type='checkbox' class='ee-toggle'></label><ul><li><span class='ee-k'>0:</span><span class='ee-v'>2191</span></li><li><span class='ee-k'>1:</span><span class='ee-v'>3576</span></li></ul></li><li><label class='ee-shut'>origin: [3356, 6051]<input type='checkbox' class='ee-toggle'></label><ul><li><span class='ee-k'>0:</span><span class='ee-v'>3356</span></li><li><span class='ee-k'>1:</span><span class='ee-v'>6051</span></li></ul></li></ul></li><li><label class='ee-shut'>13: \"WVP\", unsigned int16, EPSG:32718, 2191x3576 px<input type='checkbox' class='ee-toggle'></label><ul><li><span class='ee-k'>id:</span><span class='ee-v'>WVP</span></li><li><span class='ee-k'>crs:</span><span class='ee-v'>EPSG:32718</span></li><li><label class='ee-shut'>crs_transform: [10, 0, 600000, 0, -10, 9600040]<input type='checkbox' class='ee-toggle'></label><ul><li><span class='ee-k'>0:</span><span class='ee-v'>10</span></li><li><span class='ee-k'>1:</span><span class='ee-v'>0</span></li><li><span class='ee-k'>2:</span><span class='ee-v'>600000</span></li><li><span class='ee-k'>3:</span><span class='ee-v'>0</span></li><li><span class='ee-k'>4:</span><span class='ee-v'>-10</span></li><li><span class='ee-k'>5:</span><span class='ee-v'>9600040</span></li></ul></li><li><label class='ee-shut'>data_type: unsigned int16<input type='checkbox' class='ee-toggle'></label><ul><li><span class='ee-k'>type:</span><span class='ee-v'>PixelType</span></li><li><span class='ee-k'>max:</span><span class='ee-v'>65535</span></li><li><span class='ee-k'>min:</span><span class='ee-v'>0</span></li><li><span class='ee-k'>precision:</span><span class='ee-v'>int</span></li></ul></li><li><label class='ee-shut'>dimensions: [2191, 3576]<input type='checkbox' class='ee-toggle'></label><ul><li><span class='ee-k'>0:</span><span class='ee-v'>2191</span></li><li><span class='ee-k'>1:</span><span class='ee-v'>3576</span></li></ul></li><li><label class='ee-shut'>origin: [3356, 6051]<input type='checkbox' class='ee-toggle'></label><ul><li><span class='ee-k'>0:</span><span class='ee-v'>3356</span></li><li><span class='ee-k'>1:</span><span class='ee-v'>6051</span></li></ul></li></ul></li><li><label class='ee-shut'>14: \"SCL\", unsigned int8, EPSG:32718, 1096x1789 px<input type='checkbox' class='ee-toggle'></label><ul><li><span class='ee-k'>id:</span><span class='ee-v'>SCL</span></li><li><span class='ee-k'>crs:</span><span class='ee-v'>EPSG:32718</span></li><li><label class='ee-shut'>crs_transform: [20, 0, 600000, 0, -20, 9600040]<input type='checkbox' class='ee-toggle'></label><ul><li><span class='ee-k'>0:</span><span class='ee-v'>20</span></li><li><span class='ee-k'>1:</span><span class='ee-v'>0</span></li><li><span class='ee-k'>2:</span><span class='ee-v'>600000</span></li><li><span class='ee-k'>3:</span><span class='ee-v'>0</span></li><li><span class='ee-k'>4:</span><span class='ee-v'>-20</span></li><li><span class='ee-k'>5:</span><span class='ee-v'>9600040</span></li></ul></li><li><label class='ee-shut'>data_type: unsigned int8<input type='checkbox' class='ee-toggle'></label><ul><li><span class='ee-k'>type:</span><span class='ee-v'>PixelType</span></li><li><span class='ee-k'>max:</span><span class='ee-v'>255</span></li><li><span class='ee-k'>min:</span><span class='ee-v'>0</span></li><li><span class='ee-k'>precision:</span><span class='ee-v'>int</span></li></ul></li><li><label class='ee-shut'>dimensions: [1096, 1789]<input type='checkbox' class='ee-toggle'></label><ul><li><span class='ee-k'>0:</span><span class='ee-v'>1096</span></li><li><span class='ee-k'>1:</span><span class='ee-v'>1789</span></li></ul></li><li><label class='ee-shut'>origin: [1678, 3025]<input type='checkbox' class='ee-toggle'></label><ul><li><span class='ee-k'>0:</span><span class='ee-v'>1678</span></li><li><span class='ee-k'>1:</span><span class='ee-v'>3025</span></li></ul></li></ul></li><li><label class='ee-shut'>15: \"TCI_R\", unsigned int8, EPSG:32718, 2191x3576 px<input type='checkbox' class='ee-toggle'></label><ul><li><span class='ee-k'>id:</span><span class='ee-v'>TCI_R</span></li><li><span class='ee-k'>crs:</span><span class='ee-v'>EPSG:32718</span></li><li><label class='ee-shut'>crs_transform: [10, 0, 600000, 0, -10, 9600040]<input type='checkbox' class='ee-toggle'></label><ul><li><span class='ee-k'>0:</span><span class='ee-v'>10</span></li><li><span class='ee-k'>1:</span><span class='ee-v'>0</span></li><li><span class='ee-k'>2:</span><span class='ee-v'>600000</span></li><li><span class='ee-k'>3:</span><span class='ee-v'>0</span></li><li><span class='ee-k'>4:</span><span class='ee-v'>-10</span></li><li><span class='ee-k'>5:</span><span class='ee-v'>9600040</span></li></ul></li><li><label class='ee-shut'>data_type: unsigned int8<input type='checkbox' class='ee-toggle'></label><ul><li><span class='ee-k'>type:</span><span class='ee-v'>PixelType</span></li><li><span class='ee-k'>max:</span><span class='ee-v'>255</span></li><li><span class='ee-k'>min:</span><span class='ee-v'>0</span></li><li><span class='ee-k'>precision:</span><span class='ee-v'>int</span></li></ul></li><li><label class='ee-shut'>dimensions: [2191, 3576]<input type='checkbox' class='ee-toggle'></label><ul><li><span class='ee-k'>0:</span><span class='ee-v'>2191</span></li><li><span class='ee-k'>1:</span><span class='ee-v'>3576</span></li></ul></li><li><label class='ee-shut'>origin: [3356, 6051]<input type='checkbox' class='ee-toggle'></label><ul><li><span class='ee-k'>0:</span><span class='ee-v'>3356</span></li><li><span class='ee-k'>1:</span><span class='ee-v'>6051</span></li></ul></li></ul></li><li><label class='ee-shut'>16: \"TCI_G\", unsigned int8, EPSG:32718, 2191x3576 px<input type='checkbox' class='ee-toggle'></label><ul><li><span class='ee-k'>id:</span><span class='ee-v'>TCI_G</span></li><li><span class='ee-k'>crs:</span><span class='ee-v'>EPSG:32718</span></li><li><label class='ee-shut'>crs_transform: [10, 0, 600000, 0, -10, 9600040]<input type='checkbox' class='ee-toggle'></label><ul><li><span class='ee-k'>0:</span><span class='ee-v'>10</span></li><li><span class='ee-k'>1:</span><span class='ee-v'>0</span></li><li><span class='ee-k'>2:</span><span class='ee-v'>600000</span></li><li><span class='ee-k'>3:</span><span class='ee-v'>0</span></li><li><span class='ee-k'>4:</span><span class='ee-v'>-10</span></li><li><span class='ee-k'>5:</span><span class='ee-v'>9600040</span></li></ul></li><li><label class='ee-shut'>data_type: unsigned int8<input type='checkbox' class='ee-toggle'></label><ul><li><span class='ee-k'>type:</span><span class='ee-v'>PixelType</span></li><li><span class='ee-k'>max:</span><span class='ee-v'>255</span></li><li><span class='ee-k'>min:</span><span class='ee-v'>0</span></li><li><span class='ee-k'>precision:</span><span class='ee-v'>int</span></li></ul></li><li><label class='ee-shut'>dimensions: [2191, 3576]<input type='checkbox' class='ee-toggle'></label><ul><li><span class='ee-k'>0:</span><span class='ee-v'>2191</span></li><li><span class='ee-k'>1:</span><span class='ee-v'>3576</span></li></ul></li><li><label class='ee-shut'>origin: [3356, 6051]<input type='checkbox' class='ee-toggle'></label><ul><li><span class='ee-k'>0:</span><span class='ee-v'>3356</span></li><li><span class='ee-k'>1:</span><span class='ee-v'>6051</span></li></ul></li></ul></li><li><label class='ee-shut'>17: \"TCI_B\", unsigned int8, EPSG:32718, 2191x3576 px<input type='checkbox' class='ee-toggle'></label><ul><li><span class='ee-k'>id:</span><span class='ee-v'>TCI_B</span></li><li><span class='ee-k'>crs:</span><span class='ee-v'>EPSG:32718</span></li><li><label class='ee-shut'>crs_transform: [10, 0, 600000, 0, -10, 9600040]<input type='checkbox' class='ee-toggle'></label><ul><li><span class='ee-k'>0:</span><span class='ee-v'>10</span></li><li><span class='ee-k'>1:</span><span class='ee-v'>0</span></li><li><span class='ee-k'>2:</span><span class='ee-v'>600000</span></li><li><span class='ee-k'>3:</span><span class='ee-v'>0</span></li><li><span class='ee-k'>4:</span><span class='ee-v'>-10</span></li><li><span class='ee-k'>5:</span><span class='ee-v'>9600040</span></li></ul></li><li><label class='ee-shut'>data_type: unsigned int8<input type='checkbox' class='ee-toggle'></label><ul><li><span class='ee-k'>type:</span><span class='ee-v'>PixelType</span></li><li><span class='ee-k'>max:</span><span class='ee-v'>255</span></li><li><span class='ee-k'>min:</span><span class='ee-v'>0</span></li><li><span class='ee-k'>precision:</span><span class='ee-v'>int</span></li></ul></li><li><label class='ee-shut'>dimensions: [2191, 3576]<input type='checkbox' class='ee-toggle'></label><ul><li><span class='ee-k'>0:</span><span class='ee-v'>2191</span></li><li><span class='ee-k'>1:</span><span class='ee-v'>3576</span></li></ul></li><li><label class='ee-shut'>origin: [3356, 6051]<input type='checkbox' class='ee-toggle'></label><ul><li><span class='ee-k'>0:</span><span class='ee-v'>3356</span></li><li><span class='ee-k'>1:</span><span class='ee-v'>6051</span></li></ul></li></ul></li><li><label class='ee-shut'>18: \"MSK_CLDPRB\", unsigned int8, EPSG:32718, 1096x1789 px<input type='checkbox' class='ee-toggle'></label><ul><li><span class='ee-k'>id:</span><span class='ee-v'>MSK_CLDPRB</span></li><li><span class='ee-k'>crs:</span><span class='ee-v'>EPSG:32718</span></li><li><label class='ee-shut'>crs_transform: [20, 0, 600000, 0, -20, 9600040]<input type='checkbox' class='ee-toggle'></label><ul><li><span class='ee-k'>0:</span><span class='ee-v'>20</span></li><li><span class='ee-k'>1:</span><span class='ee-v'>0</span></li><li><span class='ee-k'>2:</span><span class='ee-v'>600000</span></li><li><span class='ee-k'>3:</span><span class='ee-v'>0</span></li><li><span class='ee-k'>4:</span><span class='ee-v'>-20</span></li><li><span class='ee-k'>5:</span><span class='ee-v'>9600040</span></li></ul></li><li><label class='ee-shut'>data_type: unsigned int8<input type='checkbox' class='ee-toggle'></label><ul><li><span class='ee-k'>type:</span><span class='ee-v'>PixelType</span></li><li><span class='ee-k'>max:</span><span class='ee-v'>255</span></li><li><span class='ee-k'>min:</span><span class='ee-v'>0</span></li><li><span class='ee-k'>precision:</span><span class='ee-v'>int</span></li></ul></li><li><label class='ee-shut'>dimensions: [1096, 1789]<input type='checkbox' class='ee-toggle'></label><ul><li><span class='ee-k'>0:</span><span class='ee-v'>1096</span></li><li><span class='ee-k'>1:</span><span class='ee-v'>1789</span></li></ul></li><li><label class='ee-shut'>origin: [1678, 3025]<input type='checkbox' class='ee-toggle'></label><ul><li><span class='ee-k'>0:</span><span class='ee-v'>1678</span></li><li><span class='ee-k'>1:</span><span class='ee-v'>3025</span></li></ul></li></ul></li><li><label class='ee-shut'>19: \"MSK_SNWPRB\", unsigned int8, EPSG:32718, 1096x1789 px<input type='checkbox' class='ee-toggle'></label><ul><li><span class='ee-k'>id:</span><span class='ee-v'>MSK_SNWPRB</span></li><li><span class='ee-k'>crs:</span><span class='ee-v'>EPSG:32718</span></li><li><label class='ee-shut'>crs_transform: [20, 0, 600000, 0, -20, 9600040]<input type='checkbox' class='ee-toggle'></label><ul><li><span class='ee-k'>0:</span><span class='ee-v'>20</span></li><li><span class='ee-k'>1:</span><span class='ee-v'>0</span></li><li><span class='ee-k'>2:</span><span class='ee-v'>600000</span></li><li><span class='ee-k'>3:</span><span class='ee-v'>0</span></li><li><span class='ee-k'>4:</span><span class='ee-v'>-20</span></li><li><span class='ee-k'>5:</span><span class='ee-v'>9600040</span></li></ul></li><li><label class='ee-shut'>data_type: unsigned int8<input type='checkbox' class='ee-toggle'></label><ul><li><span class='ee-k'>type:</span><span class='ee-v'>PixelType</span></li><li><span class='ee-k'>max:</span><span class='ee-v'>255</span></li><li><span class='ee-k'>min:</span><span class='ee-v'>0</span></li><li><span class='ee-k'>precision:</span><span class='ee-v'>int</span></li></ul></li><li><label class='ee-shut'>dimensions: [1096, 1789]<input type='checkbox' class='ee-toggle'></label><ul><li><span class='ee-k'>0:</span><span class='ee-v'>1096</span></li><li><span class='ee-k'>1:</span><span class='ee-v'>1789</span></li></ul></li><li><label class='ee-shut'>origin: [1678, 3025]<input type='checkbox' class='ee-toggle'></label><ul><li><span class='ee-k'>0:</span><span class='ee-v'>1678</span></li><li><span class='ee-k'>1:</span><span class='ee-v'>3025</span></li></ul></li></ul></li><li><label class='ee-shut'>20: \"QA10\", unsigned int16, EPSG:32718, 2191x3576 px<input type='checkbox' class='ee-toggle'></label><ul><li><span class='ee-k'>id:</span><span class='ee-v'>QA10</span></li><li><span class='ee-k'>crs:</span><span class='ee-v'>EPSG:32718</span></li><li><label class='ee-shut'>crs_transform: [10, 0, 600000, 0, -10, 9600040]<input type='checkbox' class='ee-toggle'></label><ul><li><span class='ee-k'>0:</span><span class='ee-v'>10</span></li><li><span class='ee-k'>1:</span><span class='ee-v'>0</span></li><li><span class='ee-k'>2:</span><span class='ee-v'>600000</span></li><li><span class='ee-k'>3:</span><span class='ee-v'>0</span></li><li><span class='ee-k'>4:</span><span class='ee-v'>-10</span></li><li><span class='ee-k'>5:</span><span class='ee-v'>9600040</span></li></ul></li><li><label class='ee-shut'>data_type: unsigned int16<input type='checkbox' class='ee-toggle'></label><ul><li><span class='ee-k'>type:</span><span class='ee-v'>PixelType</span></li><li><span class='ee-k'>max:</span><span class='ee-v'>65535</span></li><li><span class='ee-k'>min:</span><span class='ee-v'>0</span></li><li><span class='ee-k'>precision:</span><span class='ee-v'>int</span></li></ul></li><li><label class='ee-shut'>dimensions: [2191, 3576]<input type='checkbox' class='ee-toggle'></label><ul><li><span class='ee-k'>0:</span><span class='ee-v'>2191</span></li><li><span class='ee-k'>1:</span><span class='ee-v'>3576</span></li></ul></li><li><label class='ee-shut'>origin: [3356, 6051]<input type='checkbox' class='ee-toggle'></label><ul><li><span class='ee-k'>0:</span><span class='ee-v'>3356</span></li><li><span class='ee-k'>1:</span><span class='ee-v'>6051</span></li></ul></li></ul></li><li><label class='ee-shut'>21: \"QA20\", unsigned int32, EPSG:32718, 1096x1789 px<input type='checkbox' class='ee-toggle'></label><ul><li><span class='ee-k'>id:</span><span class='ee-v'>QA20</span></li><li><span class='ee-k'>crs:</span><span class='ee-v'>EPSG:32718</span></li><li><label class='ee-shut'>crs_transform: [20, 0, 600000, 0, -20, 9600040]<input type='checkbox' class='ee-toggle'></label><ul><li><span class='ee-k'>0:</span><span class='ee-v'>20</span></li><li><span class='ee-k'>1:</span><span class='ee-v'>0</span></li><li><span class='ee-k'>2:</span><span class='ee-v'>600000</span></li><li><span class='ee-k'>3:</span><span class='ee-v'>0</span></li><li><span class='ee-k'>4:</span><span class='ee-v'>-20</span></li><li><span class='ee-k'>5:</span><span class='ee-v'>9600040</span></li></ul></li><li><label class='ee-shut'>data_type: unsigned int32<input type='checkbox' class='ee-toggle'></label><ul><li><span class='ee-k'>type:</span><span class='ee-v'>PixelType</span></li><li><span class='ee-k'>max:</span><span class='ee-v'>4294967295</span></li><li><span class='ee-k'>min:</span><span class='ee-v'>0</span></li><li><span class='ee-k'>precision:</span><span class='ee-v'>int</span></li></ul></li><li><label class='ee-shut'>dimensions: [1096, 1789]<input type='checkbox' class='ee-toggle'></label><ul><li><span class='ee-k'>0:</span><span class='ee-v'>1096</span></li><li><span class='ee-k'>1:</span><span class='ee-v'>1789</span></li></ul></li><li><label class='ee-shut'>origin: [1678, 3025]<input type='checkbox' class='ee-toggle'></label><ul><li><span class='ee-k'>0:</span><span class='ee-v'>1678</span></li><li><span class='ee-k'>1:</span><span class='ee-v'>3025</span></li></ul></li></ul></li><li><label class='ee-shut'>22: \"QA60\", unsigned int16, EPSG:32718, 366x597 px<input type='checkbox' class='ee-toggle'></label><ul><li><span class='ee-k'>id:</span><span class='ee-v'>QA60</span></li><li><span class='ee-k'>crs:</span><span class='ee-v'>EPSG:32718</span></li><li><label class='ee-shut'>crs_transform: [60, 0, 600000, 0, -60, 9600040]<input type='checkbox' class='ee-toggle'></label><ul><li><span class='ee-k'>0:</span><span class='ee-v'>60</span></li><li><span class='ee-k'>1:</span><span class='ee-v'>0</span></li><li><span class='ee-k'>2:</span><span class='ee-v'>600000</span></li><li><span class='ee-k'>3:</span><span class='ee-v'>0</span></li><li><span class='ee-k'>4:</span><span class='ee-v'>-60</span></li><li><span class='ee-k'>5:</span><span class='ee-v'>9600040</span></li></ul></li><li><label class='ee-shut'>data_type: unsigned int16<input type='checkbox' class='ee-toggle'></label><ul><li><span class='ee-k'>type:</span><span class='ee-v'>PixelType</span></li><li><span class='ee-k'>max:</span><span class='ee-v'>65535</span></li><li><span class='ee-k'>min:</span><span class='ee-v'>0</span></li><li><span class='ee-k'>precision:</span><span class='ee-v'>int</span></li></ul></li><li><label class='ee-shut'>dimensions: [366, 597]<input type='checkbox' class='ee-toggle'></label><ul><li><span class='ee-k'>0:</span><span class='ee-v'>366</span></li><li><span class='ee-k'>1:</span><span class='ee-v'>597</span></li></ul></li><li><label class='ee-shut'>origin: [559, 1008]<input type='checkbox' class='ee-toggle'></label><ul><li><span class='ee-k'>0:</span><span class='ee-v'>559</span></li><li><span class='ee-k'>1:</span><span class='ee-v'>1008</span></li></ul></li></ul></li></ul></li><li><label class='ee-shut'>properties: Object (101 properties)<input type='checkbox' class='ee-toggle'></label><ul><li><span class='ee-k'>AOT_RETRIEVAL_ACCURACY:</span><span class='ee-v'>0</span></li><li><span class='ee-k'>AOT_RETRIEVAL_METHOD:</span><span class='ee-v'>SEN2COR_DDV</span></li><li><span class='ee-k'>BOA_ADD_OFFSET_B1:</span><span class='ee-v'>-1000</span></li><li><span class='ee-k'>BOA_ADD_OFFSET_B10:</span><span class='ee-v'>-1000</span></li><li><span class='ee-k'>BOA_ADD_OFFSET_B11:</span><span class='ee-v'>-1000</span></li><li><span class='ee-k'>BOA_ADD_OFFSET_B12:</span><span class='ee-v'>-1000</span></li><li><span class='ee-k'>BOA_ADD_OFFSET_B2:</span><span class='ee-v'>-1000</span></li><li><span class='ee-k'>BOA_ADD_OFFSET_B3:</span><span class='ee-v'>-1000</span></li><li><span class='ee-k'>BOA_ADD_OFFSET_B4:</span><span class='ee-v'>-1000</span></li><li><span class='ee-k'>BOA_ADD_OFFSET_B5:</span><span class='ee-v'>-1000</span></li><li><span class='ee-k'>BOA_ADD_OFFSET_B6:</span><span class='ee-v'>-1000</span></li><li><span class='ee-k'>BOA_ADD_OFFSET_B7:</span><span class='ee-v'>-1000</span></li><li><span class='ee-k'>BOA_ADD_OFFSET_B8:</span><span class='ee-v'>-1000</span></li><li><span class='ee-k'>BOA_ADD_OFFSET_B8A:</span><span class='ee-v'>-1000</span></li><li><span class='ee-k'>BOA_ADD_OFFSET_B9:</span><span class='ee-v'>-1000</span></li><li><span class='ee-k'>CLOUDY_PIXEL_OVER_LAND_PERCENTAGE:</span><span class='ee-v'>0.251178</span></li><li><span class='ee-k'>CLOUDY_PIXEL_PERCENTAGE:</span><span class='ee-v'>0.326276</span></li><li><span class='ee-k'>CLOUD_COVERAGE_ASSESSMENT:</span><span class='ee-v'>0.326276</span></li><li><span class='ee-k'>CLOUD_SHADOW_PERCENTAGE:</span><span class='ee-v'>0.401893</span></li><li><span class='ee-k'>DARK_FEATURES_PERCENTAGE:</span><span class='ee-v'>0.015544</span></li><li><span class='ee-k'>DATASTRIP_ID:</span><span class='ee-v'>S2A_OPER_MSI_L2A_DS_2APS_20230917T215602_S20230917T152113_N05.09</span></li><li><span class='ee-k'>DATATAKE_IDENTIFIER:</span><span class='ee-v'>GS2A_20230917T151711_043022_N05.09</span></li><li><span class='ee-k'>DATATAKE_TYPE:</span><span class='ee-v'>INS-NOBS</span></li><li><span class='ee-k'>DEGRADED_MSI_DATA_PERCENTAGE:</span><span class='ee-v'>0.0216</span></li><li><span class='ee-k'>FORMAT_CORRECTNESS:</span><span class='ee-v'>PASSED</span></li><li><span class='ee-k'>GENERAL_QUALITY:</span><span class='ee-v'>PASSED</span></li><li><span class='ee-k'>GENERATION_TIME:</span><span class='ee-v'>1694987762000</span></li><li><span class='ee-k'>GEOMETRIC_QUALITY:</span><span class='ee-v'>PASSED</span></li><li><span class='ee-k'>GRANULE_ID:</span><span class='ee-v'>L2A_T18MXA_A043022_20230917T152113</span></li><li><span class='ee-k'>GRANULE_MEAN_AOT:</span><span class='ee-v'>0.100394</span></li><li><span class='ee-k'>GRANULE_MEAN_WV:</span><span class='ee-v'>3.985187</span></li><li><span class='ee-k'>HIGH_PROBA_CLOUDS_PERCENTAGE:</span><span class='ee-v'>0.053981</span></li><li><span class='ee-k'>L2A_QUALITY:</span><span class='ee-v'>PASSED</span></li><li><span class='ee-k'>MEAN_INCIDENCE_AZIMUTH_ANGLE_B1:</span><span class='ee-v'>274.96113752576</span></li><li><span class='ee-k'>MEAN_INCIDENCE_AZIMUTH_ANGLE_B10:</span><span class='ee-v'>276.034201743785</span></li><li><span class='ee-k'>MEAN_INCIDENCE_AZIMUTH_ANGLE_B11:</span><span class='ee-v'>275.468531043025</span></li><li><span class='ee-k'>MEAN_INCIDENCE_AZIMUTH_ANGLE_B12:</span><span class='ee-v'>275.114251150191</span></li><li><span class='ee-k'>MEAN_INCIDENCE_AZIMUTH_ANGLE_B2:</span><span class='ee-v'>277.571735902361</span></li><li><span class='ee-k'>MEAN_INCIDENCE_AZIMUTH_ANGLE_B3:</span><span class='ee-v'>276.621682166996</span></li><li><span class='ee-k'>MEAN_INCIDENCE_AZIMUTH_ANGLE_B4:</span><span class='ee-v'>276.000733414481</span></li><li><span class='ee-k'>MEAN_INCIDENCE_AZIMUTH_ANGLE_B5:</span><span class='ee-v'>275.700297611837</span></li><li><span class='ee-k'>MEAN_INCIDENCE_AZIMUTH_ANGLE_B6:</span><span class='ee-v'>275.495143677879</span></li><li><span class='ee-k'>MEAN_INCIDENCE_AZIMUTH_ANGLE_B7:</span><span class='ee-v'>275.305349467448</span></li><li><span class='ee-k'>MEAN_INCIDENCE_AZIMUTH_ANGLE_B8:</span><span class='ee-v'>277.029271593923</span></li><li><span class='ee-k'>MEAN_INCIDENCE_AZIMUTH_ANGLE_B8A:</span><span class='ee-v'>275.16461328629</span></li><li><span class='ee-k'>MEAN_INCIDENCE_AZIMUTH_ANGLE_B9:</span><span class='ee-v'>274.853404148708</span></li><li><span class='ee-k'>MEAN_INCIDENCE_ZENITH_ANGLE_B1:</span><span class='ee-v'>5.36824261477628</span></li><li><span class='ee-k'>MEAN_INCIDENCE_ZENITH_ANGLE_B10:</span><span class='ee-v'>5.10041809337439</span></li><li><span class='ee-k'>MEAN_INCIDENCE_ZENITH_ANGLE_B11:</span><span class='ee-v'>5.20398442817374</span></li><li><span class='ee-k'>MEAN_INCIDENCE_ZENITH_ANGLE_B12:</span><span class='ee-v'>5.32999401319564</span></li><li><span class='ee-k'>MEAN_INCIDENCE_ZENITH_ANGLE_B2:</span><span class='ee-v'>4.96891072307217</span></li><li><span class='ee-k'>MEAN_INCIDENCE_ZENITH_ANGLE_B3:</span><span class='ee-v'>5.04449951709028</span></li><li><span class='ee-k'>MEAN_INCIDENCE_ZENITH_ANGLE_B4:</span><span class='ee-v'>5.11599249533057</span></li><li><span class='ee-k'>MEAN_INCIDENCE_ZENITH_ANGLE_B5:</span><span class='ee-v'>5.15250026892171</span></li><li><span class='ee-k'>MEAN_INCIDENCE_ZENITH_ANGLE_B6:</span><span class='ee-v'>5.2009294965624</span></li><li><span class='ee-k'>MEAN_INCIDENCE_ZENITH_ANGLE_B7:</span><span class='ee-v'>5.25321413751908</span></li><li><span class='ee-k'>MEAN_INCIDENCE_ZENITH_ANGLE_B8:</span><span class='ee-v'>5.0017171301562</span></li><li><span class='ee-k'>MEAN_INCIDENCE_ZENITH_ANGLE_B8A:</span><span class='ee-v'>5.30860624878269</span></li><li><span class='ee-k'>MEAN_INCIDENCE_ZENITH_ANGLE_B9:</span><span class='ee-v'>5.43145455193936</span></li><li><span class='ee-k'>MEAN_SOLAR_AZIMUTH_ANGLE:</span><span class='ee-v'>73.7841799603101</span></li><li><span class='ee-k'>MEAN_SOLAR_ZENITH_ANGLE:</span><span class='ee-v'>22.0778493089577</span></li><li><span class='ee-k'>MEDIUM_PROBA_CLOUDS_PERCENTAGE:</span><span class='ee-v'>0.271804</span></li><li><span class='ee-k'>MGRS_TILE:</span><span class='ee-v'>18MXA</span></li><li><span class='ee-k'>NODATA_PIXEL_PERCENTAGE:</span><span class='ee-v'>0</span></li><li><span class='ee-k'>NOT_VEGETATED_PERCENTAGE:</span><span class='ee-v'>1.493475</span></li><li><span class='ee-k'>OZONE_SOURCE:</span><span class='ee-v'>AUX_ECMWFT</span></li><li><span class='ee-k'>OZONE_VALUE:</span><span class='ee-v'>276.634541</span></li><li><span class='ee-k'>PROCESSING_BASELINE:</span><span class='ee-v'>05.09</span></li><li><span class='ee-k'>PRODUCT_ID:</span><span class='ee-v'>S2A_MSIL2A_20230917T151711_N0509_R125_T18MXA_20230917T215602</span></li><li><span class='ee-k'>RADIATIVE_TRANSFER_ACCURACY:</span><span class='ee-v'>0</span></li><li><span class='ee-k'>RADIOMETRIC_QUALITY:</span><span class='ee-v'>PASSED</span></li><li><span class='ee-k'>REFLECTANCE_CONVERSION_CORRECTION:</span><span class='ee-v'>0.988360576760938</span></li><li><span class='ee-k'>SATURATED_DEFECTIVE_PIXEL_PERCENTAGE:</span><span class='ee-v'>0</span></li><li><span class='ee-k'>SENSING_ORBIT_DIRECTION:</span><span class='ee-v'>DESCENDING</span></li><li><span class='ee-k'>SENSING_ORBIT_NUMBER:</span><span class='ee-v'>125</span></li><li><span class='ee-k'>SENSOR_QUALITY:</span><span class='ee-v'>PASSED</span></li><li><span class='ee-k'>SNOW_ICE_PERCENTAGE:</span><span class='ee-v'>0</span></li><li><span class='ee-k'>SOLAR_IRRADIANCE_B1:</span><span class='ee-v'>1884.69</span></li><li><span class='ee-k'>SOLAR_IRRADIANCE_B10:</span><span class='ee-v'>367.15</span></li><li><span class='ee-k'>SOLAR_IRRADIANCE_B11:</span><span class='ee-v'>245.59</span></li><li><span class='ee-k'>SOLAR_IRRADIANCE_B12:</span><span class='ee-v'>85.25</span></li><li><span class='ee-k'>SOLAR_IRRADIANCE_B2:</span><span class='ee-v'>1959.66</span></li><li><span class='ee-k'>SOLAR_IRRADIANCE_B3:</span><span class='ee-v'>1823.24</span></li><li><span class='ee-k'>SOLAR_IRRADIANCE_B4:</span><span class='ee-v'>1512.06</span></li><li><span class='ee-k'>SOLAR_IRRADIANCE_B5:</span><span class='ee-v'>1424.64</span></li><li><span class='ee-k'>SOLAR_IRRADIANCE_B6:</span><span class='ee-v'>1287.61</span></li><li><span class='ee-k'>SOLAR_IRRADIANCE_B7:</span><span class='ee-v'>1162.08</span></li><li><span class='ee-k'>SOLAR_IRRADIANCE_B8:</span><span class='ee-v'>1041.63</span></li><li><span class='ee-k'>SOLAR_IRRADIANCE_B8A:</span><span class='ee-v'>955.32</span></li><li><span class='ee-k'>SOLAR_IRRADIANCE_B9:</span><span class='ee-v'>812.92</span></li><li><span class='ee-k'>SPACECRAFT_NAME:</span><span class='ee-v'>Sentinel-2A</span></li><li><span class='ee-k'>THIN_CIRRUS_PERCENTAGE:</span><span class='ee-v'>0.000491</span></li><li><span class='ee-k'>UNCLASSIFIED_PERCENTAGE:</span><span class='ee-v'>0.26349</span></li><li><span class='ee-k'>VEGETATION_PERCENTAGE:</span><span class='ee-v'>94.682157</span></li><li><span class='ee-k'>WATER_PERCENTAGE:</span><span class='ee-v'>2.817167</span></li><li><span class='ee-k'>WATER_VAPOUR_RETRIEVAL_ACCURACY:</span><span class='ee-v'>0</span></li><li><span class='ee-k'>system:asset_size:</span><span class='ee-v'>1529803893</span></li><li><label class='ee-shut'>system:footprint: Polygon (126 vertices)<input type='checkbox' class='ee-toggle'></label><ul><li><span class='ee-k'>type:</span><span class='ee-v'>Polygon</span></li><li><label class='ee-shut'>coordinates: List (1 element)<input type='checkbox' class='ee-toggle'></label><ul><li><label class='ee-shut'>0: List (126 elements)<input type='checkbox' class='ee-toggle'></label><ul><li><label class='ee-shut'>0: [-73.70644351295583, -4.245527932001742]<input type='checkbox' class='ee-toggle'></label><ul><li><span class='ee-k'>0:</span><span class='ee-v'>-73.70644351295583</span></li><li><span class='ee-k'>1:</span><span class='ee-v'>-4.245527932001742</span></li></ul></li><li><label class='ee-shut'>1: [-73.70651840850482, -4.200305430535437]<input type='checkbox' class='ee-toggle'></label><ul><li><span class='ee-k'>0:</span><span class='ee-v'>-73.70651840850482</span></li><li><span class='ee-k'>1:</span><span class='ee-v'>-4.200305430535437</span></li></ul></li><li><label class='ee-shut'>2: [-73.70654430447145, -4.184554511085448]<input type='checkbox' class='ee-toggle'></label><ul><li><span class='ee-k'>0:</span><span class='ee-v'>-73.70654430447145</span></li><li><span class='ee-k'>1:</span><span class='ee-v'>-4.184554511085448</span></li></ul></li><li><label class='ee-shut'>3: [-73.75161724827645, -4.164970396995145]<input type='checkbox' class='ee-toggle'></label><ul><li><span class='ee-k'>0:</span><span class='ee-v'>-73.75161724827645</span></li><li><span class='ee-k'>1:</span><span class='ee-v'>-4.164970396995145</span></li></ul></li><li><label class='ee-shut'>4: [-73.79665879269554, -4.165040682138108]<input type='checkbox' class='ee-toggle'></label><ul><li><span class='ee-k'>0:</span><span class='ee-v'>-73.79665879269554</span></li><li><span class='ee-k'>1:</span><span class='ee-v'>-4.165040682138108</span></li></ul></li><li><label class='ee-shut'>5: [-73.79664603445022, -4.173428671936142]<input type='checkbox' class='ee-toggle'></label><ul><li><span class='ee-k'>0:</span><span class='ee-v'>-73.79664603445022</span></li><li><span class='ee-k'>1:</span><span class='ee-v'>-4.173428671936142</span></li></ul></li><li><label class='ee-shut'>6: [-73.79660475885693, -4.200449802790024]<input type='checkbox' class='ee-toggle'></label><ul><li><span class='ee-k'>0:</span><span class='ee-v'>-73.79660475885693</span></li><li><span class='ee-k'>1:</span><span class='ee-v'>-4.200449802790024</span></li></ul></li><li><label class='ee-shut'>7: [-73.79656849245288, -4.224047724686024]<input type='checkbox' class='ee-toggle'></label><ul><li><span class='ee-k'>0:</span><span class='ee-v'>-73.79656849245288</span></li><li><span class='ee-k'>1:</span><span class='ee-v'>-4.224047724686024</span></li></ul></li><li><label class='ee-shut'>8: [-73.7965350763306, -4.245673864084816]<input type='checkbox' class='ee-toggle'></label><ul><li><span class='ee-k'>0:</span><span class='ee-v'>-73.7965350763306</span></li><li><span class='ee-k'>1:</span><span class='ee-v'>-4.245673864084816</span></li></ul></li><li><label class='ee-shut'>9: [-73.79646464076079, -4.290897871296439]<input type='checkbox' class='ee-toggle'></label><ul><li><span class='ee-k'>0:</span><span class='ee-v'>-73.79646464076079</span></li><li><span class='ee-k'>1:</span><span class='ee-v'>-4.290897871296439</span></li></ul></li><li><label class='ee-shut'>10: [-73.79639345192926, -4.336121823852913]<input type='checkbox' class='ee-toggle'></label><ul><li><span class='ee-k'>0:</span><span class='ee-v'>-73.79639345192926</span></li><li><span class='ee-k'>1:</span><span class='ee-v'>-4.336121823852913</span></li></ul></li><li><label class='ee-shut'>11: [-73.7963849853264, -4.341468738571878]<input type='checkbox' class='ee-toggle'></label><ul><li><span class='ee-k'>0:</span><span class='ee-v'>-73.7963849853264</span></li><li><span class='ee-k'>1:</span><span class='ee-v'>-4.341468738571878</span></li></ul></li><li><label class='ee-shut'>12: [-73.79632150961547, -4.381345721182393]<input type='checkbox' class='ee-toggle'></label><ul><li><span class='ee-k'>0:</span><span class='ee-v'>-73.79632150961547</span></li><li><span class='ee-k'>1:</span><span class='ee-v'>-4.381345721182393</span></li></ul></li><li><label class='ee-shut'>13: [-73.79624881359646, -4.426569562713167]<input type='checkbox' class='ee-toggle'></label><ul><li><span class='ee-k'>0:</span><span class='ee-v'>-73.79624881359646</span></li><li><span class='ee-k'>1:</span><span class='ee-v'>-4.426569562713167</span></li></ul></li><li><label class='ee-shut'>14: [-73.79617536364692, -4.47179334787365]<input type='checkbox' class='ee-toggle'></label><ul><li><span class='ee-k'>0:</span><span class='ee-v'>-73.79617536364692</span></li><li><span class='ee-k'>1:</span><span class='ee-v'>-4.47179334787365</span></li></ul></li><li><label class='ee-shut'>15: [-73.75108754529599, -4.488332065999658]<input type='checkbox' class='ee-toggle'></label><ul><li><span class='ee-k'>0:</span><span class='ee-v'>-73.75108754529599</span></li><li><span class='ee-k'>1:</span><span class='ee-v'>-4.488332065999658</span></li></ul></li><li><label class='ee-shut'>16: [-73.74970249138407, -4.4870009486664415]<input type='checkbox' class='ee-toggle'></label><ul><li><span class='ee-k'>0:</span><span class='ee-v'>-73.74970249138407</span></li><li><span class='ee-k'>1:</span><span class='ee-v'>-4.4870009486664415</span></li></ul></li><li><label class='ee-shut'>17: [-73.74881151999165, -4.486441911395095]<input type='checkbox' class='ee-toggle'></label><ul><li><span class='ee-k'>0:</span><span class='ee-v'>-73.74881151999165</span></li><li><span class='ee-k'>1:</span><span class='ee-v'>-4.486441911395095</span></li></ul></li><li><label class='ee-shut'>18: [-73.74778101389151, -4.485794629948547]<input type='checkbox' class='ee-toggle'></label><ul><li><span class='ee-k'>0:</span><span class='ee-v'>-73.74778101389151</span></li><li><span class='ee-k'>1:</span><span class='ee-v'>-4.485794629948547</span></li></ul></li><li><label class='ee-shut'>19: [-73.74575957769454, -4.484760074053891]<input type='checkbox' class='ee-toggle'></label><ul><li><span class='ee-k'>0:</span><span class='ee-v'>-73.74575957769454</span></li><li><span class='ee-k'>1:</span><span class='ee-v'>-4.484760074053891</span></li></ul></li><li><label class='ee-shut'>20: [-73.74366352147801, -4.483888188450969]<input type='checkbox' class='ee-toggle'></label><ul><li><span class='ee-k'>0:</span><span class='ee-v'>-73.74366352147801</span></li><li><span class='ee-k'>1:</span><span class='ee-v'>-4.483888188450969</span></li></ul></li><li><label class='ee-shut'>21: [-73.74239725852446, -4.483511924161269]<input type='checkbox' class='ee-toggle'></label><ul><li><span class='ee-k'>0:</span><span class='ee-v'>-73.74239725852446</span></li><li><span class='ee-k'>1:</span><span class='ee-v'>-4.483511924161269</span></li></ul></li><li><label class='ee-shut'>22: [-73.74149318626301, -4.483242556240875]<input type='checkbox' class='ee-toggle'></label><ul><li><span class='ee-k'>0:</span><span class='ee-v'>-73.74149318626301</span></li><li><span class='ee-k'>1:</span><span class='ee-v'>-4.483242556240875</span></li></ul></li><li><label class='ee-shut'>23: [-73.740553870473, -4.4830302883816415]<input type='checkbox' class='ee-toggle'></label><ul><li><span class='ee-k'>0:</span><span class='ee-v'>-73.740553870473</span></li><li><span class='ee-k'>1:</span><span class='ee-v'>-4.4830302883816415</span></li></ul></li><li><label class='ee-shut'>24: [-73.73927664852665, -4.482741009497692]<input type='checkbox' class='ee-toggle'></label><ul><li><span class='ee-k'>0:</span><span class='ee-v'>-73.73927664852665</span></li><li><span class='ee-k'>1:</span><span class='ee-v'>-4.482741009497692</span></li></ul></li><li><label class='ee-shut'>25: [-73.73780383279085, -4.482420096426139]<input type='checkbox' class='ee-toggle'></label><ul><li><span class='ee-k'>0:</span><span class='ee-v'>-73.73780383279085</span></li><li><span class='ee-k'>1:</span><span class='ee-v'>-4.482420096426139</span></li></ul></li><li><label class='ee-shut'>26: [-73.73706053468318, -4.482257818081319]<input type='checkbox' class='ee-toggle'></label><ul><li><span class='ee-k'>0:</span><span class='ee-v'>-73.73706053468318</span></li><li><span class='ee-k'>1:</span><span class='ee-v'>-4.482257818081319</span></li></ul></li><li><label class='ee-shut'>27: [-73.73596340554424, -4.48205612561772]<input type='checkbox' class='ee-toggle'></label><ul><li><span class='ee-k'>0:</span><span class='ee-v'>-73.73596340554424</span></li><li><span class='ee-k'>1:</span><span class='ee-v'>-4.48205612561772</span></li></ul></li><li><label class='ee-shut'>28: [-73.73482744885148, -4.481846947879099]<input type='checkbox' class='ee-toggle'></label><ul><li><span class='ee-k'>0:</span><span class='ee-v'>-73.73482744885148</span></li><li><span class='ee-k'>1:</span><span class='ee-v'>-4.481846947879099</span></li></ul></li><li><label class='ee-shut'>29: [-73.73258580271076, -4.481490324039987]<input type='checkbox' class='ee-toggle'></label><ul><li><span class='ee-k'>0:</span><span class='ee-v'>-73.73258580271076</span></li><li><span class='ee-k'>1:</span><span class='ee-v'>-4.481490324039987</span></li></ul></li><li><label class='ee-shut'>30: [-73.73154995509378, -4.481290812169524]<input type='checkbox' class='ee-toggle'></label><ul><li><span class='ee-k'>0:</span><span class='ee-v'>-73.73154995509378</span></li><li><span class='ee-k'>1:</span><span class='ee-v'>-4.481290812169524</span></li></ul></li><li><label class='ee-shut'>31: [-73.73036194862735, -4.481061458890254]<input type='checkbox' class='ee-toggle'></label><ul><li><span class='ee-k'>0:</span><span class='ee-v'>-73.73036194862735</span></li><li><span class='ee-k'>1:</span><span class='ee-v'>-4.481061458890254</span></li></ul></li><li><label class='ee-shut'>32: [-73.72813416548473, -4.480614220433293]<input type='checkbox' class='ee-toggle'></label><ul><li><span class='ee-k'>0:</span><span class='ee-v'>-73.72813416548473</span></li><li><span class='ee-k'>1:</span><span class='ee-v'>-4.480614220433293</span></li></ul></li><li><label class='ee-shut'>33: [-73.72765935516014, -4.48054655459936]<input type='checkbox' class='ee-toggle'></label><ul><li><span class='ee-k'>0:</span><span class='ee-v'>-73.72765935516014</span></li><li><span class='ee-k'>1:</span><span class='ee-v'>-4.48054655459936</span></li></ul></li><li><label class='ee-shut'>34: [-73.72588688184207, -4.480293836765291]<input type='checkbox' class='ee-toggle'></label><ul><li><span class='ee-k'>0:</span><span class='ee-v'>-73.72588688184207</span></li><li><span class='ee-k'>1:</span><span class='ee-v'>-4.480293836765291</span></li></ul></li><li><label class='ee-shut'>35: [-73.7251957293642, -4.480259437846727]<input type='checkbox' class='ee-toggle'></label><ul><li><span class='ee-k'>0:</span><span class='ee-v'>-73.7251957293642</span></li><li><span class='ee-k'>1:</span><span class='ee-v'>-4.480259437846727</span></li></ul></li><li><label class='ee-shut'>36: [-73.72362518332044, -4.4801811743438025]<input type='checkbox' class='ee-toggle'></label><ul><li><span class='ee-k'>0:</span><span class='ee-v'>-73.72362518332044</span></li><li><span class='ee-k'>1:</span><span class='ee-v'>-4.4801811743438025</span></li></ul></li><li><label class='ee-shut'>37: [-73.72287959618178, -4.480200854909804]<input type='checkbox' class='ee-toggle'></label><ul><li><span class='ee-k'>0:</span><span class='ee-v'>-73.72287959618178</span></li><li><span class='ee-k'>1:</span><span class='ee-v'>-4.480200854909804</span></li></ul></li><li><label class='ee-shut'>38: [-73.72135570848036, -4.48024069915099]<input type='checkbox' class='ee-toggle'></label><ul><li><span class='ee-k'>0:</span><span class='ee-v'>-73.72135570848036</span></li><li><span class='ee-k'>1:</span><span class='ee-v'>-4.48024069915099</span></li></ul></li><li><label class='ee-shut'>39: [-73.71943216369692, -4.480321625512571]<input type='checkbox' class='ee-toggle'></label><ul><li><span class='ee-k'>0:</span><span class='ee-v'>-73.71943216369692</span></li><li><span class='ee-k'>1:</span><span class='ee-v'>-4.480321625512571</span></li></ul></li><li><label class='ee-shut'>40: [-73.71908572203861, -4.480336213056514]<input type='checkbox' class='ee-toggle'></label><ul><li><span class='ee-k'>0:</span><span class='ee-v'>-73.71908572203861</span></li><li><span class='ee-k'>1:</span><span class='ee-v'>-4.480336213056514</span></li></ul></li><li><label class='ee-shut'>41: [-73.71700283916486, -4.481146292757484]<input type='checkbox' class='ee-toggle'></label><ul><li><span class='ee-k'>0:</span><span class='ee-v'>-73.71700283916486</span></li><li><span class='ee-k'>1:</span><span class='ee-v'>-4.481146292757484</span></li></ul></li><li><label class='ee-shut'>42: [-73.71601884651129, -4.481345171034944]<input type='checkbox' class='ee-toggle'></label><ul><li><span class='ee-k'>0:</span><span class='ee-v'>-73.71601884651129</span></li><li><span class='ee-k'>1:</span><span class='ee-v'>-4.481345171034944</span></li></ul></li><li><label class='ee-shut'>43: [-73.71478035982169, -4.481594882415131]<input type='checkbox' class='ee-toggle'></label><ul><li><span class='ee-k'>0:</span><span class='ee-v'>-73.71478035982169</span></li><li><span class='ee-k'>1:</span><span class='ee-v'>-4.481594882415131</span></li></ul></li><li><label class='ee-shut'>44: [-73.71346028722132, -4.481603050291513]<input type='checkbox' class='ee-toggle'></label><ul><li><span class='ee-k'>0:</span><span class='ee-v'>-73.71346028722132</span></li><li><span class='ee-k'>1:</span><span class='ee-v'>-4.481603050291513</span></li></ul></li><li><label class='ee-shut'>45: [-73.71250916495588, -4.481608881466721]<input type='checkbox' class='ee-toggle'></label><ul><li><span class='ee-k'>0:</span><span class='ee-v'>-73.71250916495588</span></li><li><span class='ee-k'>1:</span><span class='ee-v'>-4.481608881466721</span></li></ul></li><li><label class='ee-shut'>46: [-73.71121524600525, -4.481606690208439]<input type='checkbox' class='ee-toggle'></label><ul><li><span class='ee-k'>0:</span><span class='ee-v'>-73.71121524600525</span></li><li><span class='ee-k'>1:</span><span class='ee-v'>-4.481606690208439</span></li></ul></li><li><label class='ee-shut'>47: [-73.71024286980528, -4.481604974007236]<input type='checkbox' class='ee-toggle'></label><ul><li><span class='ee-k'>0:</span><span class='ee-v'>-73.71024286980528</span></li><li><span class='ee-k'>1:</span><span class='ee-v'>-4.481604974007236</span></li></ul></li><li><label class='ee-shut'>48: [-73.70798057345189, -4.481429131182429]<input type='checkbox' class='ee-toggle'></label><ul><li><span class='ee-k'>0:</span><span class='ee-v'>-73.70798057345189</span></li><li><span class='ee-k'>1:</span><span class='ee-v'>-4.481429131182429</span></li></ul></li><li><label class='ee-shut'>49: [-73.70603999990816, -4.4812548464663475]<input type='checkbox' class='ee-toggle'></label><ul><li><span class='ee-k'>0:</span><span class='ee-v'>-73.70603999990816</span></li><li><span class='ee-k'>1:</span><span class='ee-v'>-4.4812548464663475</span></li></ul></li><li><label class='ee-shut'>50: [-73.7059638619137, -4.4812480186998815]<input type='checkbox' class='ee-toggle'></label><ul><li><span class='ee-k'>0:</span><span class='ee-v'>-73.7059638619137</span></li><li><span class='ee-k'>1:</span><span class='ee-v'>-4.4812480186998815</span></li></ul></li><li><label class='ee-shut'>51: [-73.70571895905348, -4.481225968583812]<input type='checkbox' class='ee-toggle'></label><ul><li><span class='ee-k'>0:</span><span class='ee-v'>-73.70571895905348</span></li><li><span class='ee-k'>1:</span><span class='ee-v'>-4.481225968583812</span></li></ul></li><li><label class='ee-shut'>52: [-73.70531997809951, -4.481190169098988]<input type='checkbox' class='ee-toggle'></label><ul><li><span class='ee-k'>0:</span><span class='ee-v'>-73.70531997809951</span></li><li><span class='ee-k'>1:</span><span class='ee-v'>-4.481190169098988</span></li></ul></li><li><label class='ee-shut'>53: [-73.70346077175077, -4.481023167197234]<input type='checkbox' class='ee-toggle'></label><ul><li><span class='ee-k'>0:</span><span class='ee-v'>-73.70346077175077</span></li><li><span class='ee-k'>1:</span><span class='ee-v'>-4.481023167197234</span></li></ul></li><li><label class='ee-shut'>54: [-73.7011932785949, -4.480937739572928]<input type='checkbox' class='ee-toggle'></label><ul><li><span class='ee-k'>0:</span><span class='ee-v'>-73.7011932785949</span></li><li><span class='ee-k'>1:</span><span class='ee-v'>-4.480937739572928</span></li></ul></li><li><label class='ee-shut'>55: [-73.69892614698026, -4.481006061176363]<input type='checkbox' class='ee-toggle'></label><ul><li><span class='ee-k'>0:</span><span class='ee-v'>-73.69892614698026</span></li><li><span class='ee-k'>1:</span><span class='ee-v'>-4.481006061176363</span></li></ul></li><li><label class='ee-shut'>56: [-73.69759285077252, -4.481056866792948]<input type='checkbox' class='ee-toggle'></label><ul><li><span class='ee-k'>0:</span><span class='ee-v'>-73.69759285077252</span></li><li><span class='ee-k'>1:</span><span class='ee-v'>-4.481056866792948</span></li></ul></li><li><label class='ee-shut'>57: [-73.69665529011687, -4.4810924578333715]<input type='checkbox' class='ee-toggle'></label><ul><li><span class='ee-k'>0:</span><span class='ee-v'>-73.69665529011687</span></li><li><span class='ee-k'>1:</span><span class='ee-v'>-4.4810924578333715</span></li></ul></li><li><label class='ee-shut'>58: [-73.69438934325424, -4.481205898871592]<input type='checkbox' class='ee-toggle'></label><ul><li><span class='ee-k'>0:</span><span class='ee-v'>-73.69438934325424</span></li><li><span class='ee-k'>1:</span><span class='ee-v'>-4.481205898871592</span></li></ul></li><li><label class='ee-shut'>59: [-73.69212345245468, -4.481237842590027]<input type='checkbox' class='ee-toggle'></label><ul><li><span class='ee-k'>0:</span><span class='ee-v'>-73.69212345245468</span></li><li><span class='ee-k'>1:</span><span class='ee-v'>-4.481237842590027</span></li></ul></li><li><label class='ee-shut'>60: [-73.68985744409937, -4.481134384230166]<input type='checkbox' class='ee-toggle'></label><ul><li><span class='ee-k'>0:</span><span class='ee-v'>-73.68985744409937</span></li><li><span class='ee-k'>1:</span><span class='ee-v'>-4.481134384230166</span></li></ul></li><li><label class='ee-shut'>61: [-73.68770992205634, -4.4809416827506485]<input type='checkbox' class='ee-toggle'></label><ul><li><span class='ee-k'>0:</span><span class='ee-v'>-73.68770992205634</span></li><li><span class='ee-k'>1:</span><span class='ee-v'>-4.4809416827506485</span></li></ul></li><li><label class='ee-shut'>62: [-73.6875990050001, -4.480931715560229]<input type='checkbox' class='ee-toggle'></label><ul><li><span class='ee-k'>0:</span><span class='ee-v'>-73.6875990050001</span></li><li><span class='ee-k'>1:</span><span class='ee-v'>-4.480931715560229</span></li></ul></li><li><label class='ee-shut'>63: [-73.68535614889957, -4.480583634495522]<input type='checkbox' class='ee-toggle'></label><ul><li><span class='ee-k'>0:</span><span class='ee-v'>-73.68535614889957</span></li><li><span class='ee-k'>1:</span><span class='ee-v'>-4.480583634495522</span></li></ul></li><li><label class='ee-shut'>64: [-73.68312942465121, -4.480136630679193]<input type='checkbox' class='ee-toggle'></label><ul><li><span class='ee-k'>0:</span><span class='ee-v'>-73.68312942465121</span></li><li><span class='ee-k'>1:</span><span class='ee-v'>-4.480136630679193</span></li></ul></li><li><label class='ee-shut'>65: [-73.68093447318127, -4.479562876067171]<input type='checkbox' class='ee-toggle'></label><ul><li><span class='ee-k'>0:</span><span class='ee-v'>-73.68093447318127</span></li><li><span class='ee-k'>1:</span><span class='ee-v'>-4.479562876067171</span></li></ul></li><li><label class='ee-shut'>66: [-73.67875930225387, -4.4789167966705365]<input type='checkbox' class='ee-toggle'></label><ul><li><span class='ee-k'>0:</span><span class='ee-v'>-73.67875930225387</span></li><li><span class='ee-k'>1:</span><span class='ee-v'>-4.4789167966705365</span></li></ul></li><li><label class='ee-shut'>67: [-73.67662943902413, -4.478135128529261]<input type='checkbox' class='ee-toggle'></label><ul><li><span class='ee-k'>0:</span><span class='ee-v'>-73.67662943902413</span></li><li><span class='ee-k'>1:</span><span class='ee-v'>-4.478135128529261</span></li></ul></li><li><label class='ee-shut'>68: [-73.67452393716952, -4.477290189190655]<input type='checkbox' class='ee-toggle'></label><ul><li><span class='ee-k'>0:</span><span class='ee-v'>-73.67452393716952</span></li><li><span class='ee-k'>1:</span><span class='ee-v'>-4.477290189190655</span></li></ul></li><li><label class='ee-shut'>69: [-73.67329130988502, -4.476745925844339]<input type='checkbox' class='ee-toggle'></label><ul><li><span class='ee-k'>0:</span><span class='ee-v'>-73.67329130988502</span></li><li><span class='ee-k'>1:</span><span class='ee-v'>-4.476745925844339</span></li></ul></li><li><label class='ee-shut'>70: [-73.672447229346, -4.476372761814433]<input type='checkbox' class='ee-toggle'></label><ul><li><span class='ee-k'>0:</span><span class='ee-v'>-73.672447229346</span></li><li><span class='ee-k'>1:</span><span class='ee-v'>-4.476372761814433</span></li></ul></li><li><label class='ee-shut'>71: [-73.67039486676285, -4.4754013796009815]<input type='checkbox' class='ee-toggle'></label><ul><li><span class='ee-k'>0:</span><span class='ee-v'>-73.67039486676285</span></li><li><span class='ee-k'>1:</span><span class='ee-v'>-4.4754013796009815</span></li></ul></li><li><label class='ee-shut'>72: [-73.66991467216454, -4.475182085872096]<input type='checkbox' class='ee-toggle'></label><ul><li><span class='ee-k'>0:</span><span class='ee-v'>-73.66991467216454</span></li><li><span class='ee-k'>1:</span><span class='ee-v'>-4.475182085872096</span></li></ul></li><li><label class='ee-shut'>73: [-73.66832732242706, -4.474457098565824]<input type='checkbox' class='ee-toggle'></label><ul><li><span class='ee-k'>0:</span><span class='ee-v'>-73.66832732242706</span></li><li><span class='ee-k'>1:</span><span class='ee-v'>-4.474457098565824</span></li></ul></li><li><label class='ee-shut'>74: [-73.66623261930617, -4.473585027879518]<input type='checkbox' class='ee-toggle'></label><ul><li><span class='ee-k'>0:</span><span class='ee-v'>-73.66623261930617</span></li><li><span class='ee-k'>1:</span><span class='ee-v'>-4.473585027879518</span></li></ul></li><li><label class='ee-shut'>75: [-73.6640801503208, -4.472866600581387]<input type='checkbox' class='ee-toggle'></label><ul><li><span class='ee-k'>0:</span><span class='ee-v'>-73.6640801503208</span></li><li><span class='ee-k'>1:</span><span class='ee-v'>-4.472866600581387</span></li></ul></li><li><label class='ee-shut'>76: [-73.66187381399985, -4.472338000179723]<input type='checkbox' class='ee-toggle'></label><ul><li><span class='ee-k'>0:</span><span class='ee-v'>-73.66187381399985</span></li><li><span class='ee-k'>1:</span><span class='ee-v'>-4.472338000179723</span></li></ul></li><li><label class='ee-shut'>77: [-73.65964020154851, -4.471945008614324]<input type='checkbox' class='ee-toggle'></label><ul><li><span class='ee-k'>0:</span><span class='ee-v'>-73.65964020154851</span></li><li><span class='ee-k'>1:</span><span class='ee-v'>-4.471945008614324</span></li></ul></li><li><label class='ee-shut'>78: [-73.65963803894721, -4.471944914211611]<input type='checkbox' class='ee-toggle'></label><ul><li><span class='ee-k'>0:</span><span class='ee-v'>-73.65963803894721</span></li><li><span class='ee-k'>1:</span><span class='ee-v'>-4.471944914211611</span></li></ul></li><li><label class='ee-shut'>79: [-73.65963740830497, -4.471944822613911]<input type='checkbox' class='ee-toggle'></label><ul><li><span class='ee-k'>0:</span><span class='ee-v'>-73.65963740830497</span></li><li><span class='ee-k'>1:</span><span class='ee-v'>-4.471944822613911</span></li></ul></li><li><label class='ee-shut'>80: [-73.65871073724571, -4.471902516402021]<input type='checkbox' class='ee-toggle'></label><ul><li><span class='ee-k'>0:</span><span class='ee-v'>-73.65871073724571</span></li><li><span class='ee-k'>1:</span><span class='ee-v'>-4.471902516402021</span></li></ul></li><li><label class='ee-shut'>81: [-73.65737452621731, -4.471841369459497]<input type='checkbox' class='ee-toggle'></label><ul><li><span class='ee-k'>0:</span><span class='ee-v'>-73.65737452621731</span></li><li><span class='ee-k'>1:</span><span class='ee-v'>-4.471841369459497</span></li></ul></li><li><label class='ee-shut'>82: [-73.65737407547692, -4.471841459075725]<input type='checkbox' class='ee-toggle'></label><ul><li><span class='ee-k'>0:</span><span class='ee-v'>-73.65737407547692</span></li><li><span class='ee-k'>1:</span><span class='ee-v'>-4.471841459075725</span></li></ul></li><li><label class='ee-shut'>83: [-73.65737155241767, -4.47184136400539]<input type='checkbox' class='ee-toggle'></label><ul><li><span class='ee-k'>0:</span><span class='ee-v'>-73.65737155241767</span></li><li><span class='ee-k'>1:</span><span class='ee-v'>-4.47184136400539</span></li></ul></li><li><label class='ee-shut'>84: [-73.65513611190423, -4.472207985833637]<input type='checkbox' class='ee-toggle'></label><ul><li><span class='ee-k'>0:</span><span class='ee-v'>-73.65513611190423</span></li><li><span class='ee-k'>1:</span><span class='ee-v'>-4.472207985833637</span></li></ul></li><li><label class='ee-shut'>85: [-73.65290900960902, -4.472647060143798]<input type='checkbox' class='ee-toggle'></label><ul><li><span class='ee-k'>0:</span><span class='ee-v'>-73.65290900960902</span></li><li><span class='ee-k'>1:</span><span class='ee-v'>-4.472647060143798</span></li></ul></li><li><label class='ee-shut'>86: [-73.6520898189253, -4.472522188114017]<input type='checkbox' class='ee-toggle'></label><ul><li><span class='ee-k'>0:</span><span class='ee-v'>-73.6520898189253</span></li><li><span class='ee-k'>1:</span><span class='ee-v'>-4.472522188114017</span></li></ul></li><li><label class='ee-shut'>87: [-73.65068819588525, -4.472308602874048]<input type='checkbox' class='ee-toggle'></label><ul><li><span class='ee-k'>0:</span><span class='ee-v'>-73.65068819588525</span></li><li><span class='ee-k'>1:</span><span class='ee-v'>-4.472308602874048</span></li></ul></li><li><label class='ee-shut'>88: [-73.6487274016014, -4.471165137744553]<input type='checkbox' class='ee-toggle'></label><ul><li><span class='ee-k'>0:</span><span class='ee-v'>-73.6487274016014</span></li><li><span class='ee-k'>1:</span><span class='ee-v'>-4.471165137744553</span></li></ul></li><li><label class='ee-shut'>89: [-73.64692683490026, -4.469778041704015]<input type='checkbox' class='ee-toggle'></label><ul><li><span class='ee-k'>0:</span><span class='ee-v'>-73.64692683490026</span></li><li><span class='ee-k'>1:</span><span class='ee-v'>-4.469778041704015</span></li></ul></li><li><label class='ee-shut'>90: [-73.64499662925209, -4.468571678838533]<input type='checkbox' class='ee-toggle'></label><ul><li><span class='ee-k'>0:</span><span class='ee-v'>-73.64499662925209</span></li><li><span class='ee-k'>1:</span><span class='ee-v'>-4.468571678838533</span></li></ul></li><li><label class='ee-shut'>91: [-73.64312052470142, -4.4678907928150595]<input type='checkbox' class='ee-toggle'></label><ul><li><span class='ee-k'>0:</span><span class='ee-v'>-73.64312052470142</span></li><li><span class='ee-k'>1:</span><span class='ee-v'>-4.4678907928150595</span></li></ul></li><li><label class='ee-shut'>92: [-73.64167178942206, -4.467480575269855]<input type='checkbox' class='ee-toggle'></label><ul><li><span class='ee-k'>0:</span><span class='ee-v'>-73.64167178942206</span></li><li><span class='ee-k'>1:</span><span class='ee-v'>-4.467480575269855</span></li></ul></li><li><label class='ee-shut'>93: [-73.64067840592179, -4.467215998249145]<input type='checkbox' class='ee-toggle'></label><ul><li><span class='ee-k'>0:</span><span class='ee-v'>-73.64067840592179</span></li><li><span class='ee-k'>1:</span><span class='ee-v'>-4.467215998249145</span></li></ul></li><li><label class='ee-shut'>94: [-73.63843538319364, -4.466868424975319]<input type='checkbox' class='ee-toggle'></label><ul><li><span class='ee-k'>0:</span><span class='ee-v'>-73.63843538319364</span></li><li><span class='ee-k'>1:</span><span class='ee-v'>-4.466868424975319</span></li></ul></li><li><label class='ee-shut'>95: [-73.63616940527771, -4.466900388411386]<input type='checkbox' class='ee-toggle'></label><ul><li><span class='ee-k'>0:</span><span class='ee-v'>-73.63616940527771</span></li><li><span class='ee-k'>1:</span><span class='ee-v'>-4.466900388411386</span></li></ul></li><li><label class='ee-shut'>96: [-73.63392113773378, -4.467248291882181]<input type='checkbox' class='ee-toggle'></label><ul><li><span class='ee-k'>0:</span><span class='ee-v'>-73.63392113773378</span></li><li><span class='ee-k'>1:</span><span class='ee-v'>-4.467248291882181</span></li></ul></li><li><label class='ee-shut'>97: [-73.63172909062652, -4.467796350420927]<input type='checkbox' class='ee-toggle'></label><ul><li><span class='ee-k'>0:</span><span class='ee-v'>-73.63172909062652</span></li><li><span class='ee-k'>1:</span><span class='ee-v'>-4.467796350420927</span></li></ul></li><li><label class='ee-shut'>98: [-73.62951659750591, -4.468289826686977]<input type='checkbox' class='ee-toggle'></label><ul><li><span class='ee-k'>0:</span><span class='ee-v'>-73.62951659750591</span></li><li><span class='ee-k'>1:</span><span class='ee-v'>-4.468289826686977</span></li></ul></li><li><label class='ee-shut'>99: [-73.62725825656443, -4.468529701071753]<input type='checkbox' class='ee-toggle'></label><ul><li><span class='ee-k'>0:</span><span class='ee-v'>-73.62725825656443</span></li><li><span class='ee-k'>1:</span><span class='ee-v'>-4.468529701071753</span></li></ul></li><li><label class='ee-shut'>100: [-73.62499236907237, -4.468660842929837]<input type='checkbox' class='ee-toggle'></label><ul><li><span class='ee-k'>0:</span><span class='ee-v'>-73.62499236907237</span></li><li><span class='ee-k'>1:</span><span class='ee-v'>-4.468660842929837</span></li></ul></li><li><label class='ee-shut'>101: [-73.62272639776242, -4.4686927628997]<input type='checkbox' class='ee-toggle'></label><ul><li><span class='ee-k'>0:</span><span class='ee-v'>-73.62272639776242</span></li><li><span class='ee-k'>1:</span><span class='ee-v'>-4.4686927628997</span></li></ul></li><li><label class='ee-shut'>102: [-73.62081570293623, -4.468458813491792]<input type='checkbox' class='ee-toggle'></label><ul><li><span class='ee-k'>0:</span><span class='ee-v'>-73.62081570293623</span></li><li><span class='ee-k'>1:</span><span class='ee-v'>-4.468458813491792</span></li></ul></li><li><label class='ee-shut'>103: [-73.62085456042063, -4.447618884813608]<input type='checkbox' class='ee-toggle'></label><ul><li><span class='ee-k'>0:</span><span class='ee-v'>-73.62085456042063</span></li><li><span class='ee-k'>1:</span><span class='ee-v'>-4.447618884813608</span></li></ul></li><li><label class='ee-shut'>104: [-73.60445526034653, -4.4475879725503225]<input type='checkbox' class='ee-toggle'></label><ul><li><span class='ee-k'>0:</span><span class='ee-v'>-73.60445526034653</span></li><li><span class='ee-k'>1:</span><span class='ee-v'>-4.4475879725503225</span></li></ul></li><li><label class='ee-shut'>105: [-73.5988622633844, -4.432077513760651]<input type='checkbox' class='ee-toggle'></label><ul><li><span class='ee-k'>0:</span><span class='ee-v'>-73.5988622633844</span></li><li><span class='ee-k'>1:</span><span class='ee-v'>-4.432077513760651</span></li></ul></li><li><label class='ee-shut'>106: [-73.62088334211315, -4.4321189623806205]<input type='checkbox' class='ee-toggle'></label><ul><li><span class='ee-k'>0:</span><span class='ee-v'>-73.62088334211315</span></li><li><span class='ee-k'>1:</span><span class='ee-v'>-4.4321189623806205</span></li></ul></li><li><label class='ee-shut'>107: [-73.6209471707229, -4.3975481991966605]<input type='checkbox' class='ee-toggle'></label><ul><li><span class='ee-k'>0:</span><span class='ee-v'>-73.6209471707229</span></li><li><span class='ee-k'>1:</span><span class='ee-v'>-4.3975481991966605</span></li></ul></li><li><label class='ee-shut'>108: [-73.63536397793573, -4.397574770837496]<input type='checkbox' class='ee-toggle'></label><ul><li><span class='ee-k'>0:</span><span class='ee-v'>-73.63536397793573</span></li><li><span class='ee-k'>1:</span><span class='ee-v'>-4.397574770837496</span></li></ul></li><li><label class='ee-shut'>109: [-73.63539760164353, -4.379058763260627]<input type='checkbox' class='ee-toggle'></label><ul><li><span class='ee-k'>0:</span><span class='ee-v'>-73.63539760164353</span></li><li><span class='ee-k'>1:</span><span class='ee-v'>-4.379058763260627</span></li></ul></li><li><label class='ee-shut'>110: [-73.66013148137458, -4.3791035111058925]<input type='checkbox' class='ee-toggle'></label><ul><li><span class='ee-k'>0:</span><span class='ee-v'>-73.66013148137458</span></li><li><span class='ee-k'>1:</span><span class='ee-v'>-4.3791035111058925</span></li></ul></li><li><label class='ee-shut'>111: [-73.661186750047, -4.366839936498773]<input type='checkbox' class='ee-toggle'></label><ul><li><span class='ee-k'>0:</span><span class='ee-v'>-73.661186750047</span></li><li><span class='ee-k'>1:</span><span class='ee-v'>-4.366839936498773</span></li></ul></li><li><label class='ee-shut'>112: [-73.66715289862839, -4.297483771434617]<input type='checkbox' class='ee-toggle'></label><ul><li><span class='ee-k'>0:</span><span class='ee-v'>-73.66715289862839</span></li><li><span class='ee-k'>1:</span><span class='ee-v'>-4.297483771434617</span></li></ul></li><li><label class='ee-shut'>113: [-73.67925833668968, -4.297490391713284]<input type='checkbox' class='ee-toggle'></label><ul><li><span class='ee-k'>0:</span><span class='ee-v'>-73.67925833668968</span></li><li><span class='ee-k'>1:</span><span class='ee-v'>-4.297490391713284</span></li></ul></li><li><label class='ee-shut'>114: [-73.67926652168201, -4.2927317791679505]<input type='checkbox' class='ee-toggle'></label><ul><li><span class='ee-k'>0:</span><span class='ee-v'>-73.67926652168201</span></li><li><span class='ee-k'>1:</span><span class='ee-v'>-4.2927317791679505</span></li></ul></li><li><label class='ee-shut'>115: [-73.70636438638385, -4.292782946040173]<input type='checkbox' class='ee-toggle'></label><ul><li><span class='ee-k'>0:</span><span class='ee-v'>-73.70636438638385</span></li><li><span class='ee-k'>1:</span><span class='ee-v'>-4.292782946040173</span></li></ul></li><li><label class='ee-shut'>116: [-73.72694072069217, -4.285378957796191]<input type='checkbox' class='ee-toggle'></label><ul><li><span class='ee-k'>0:</span><span class='ee-v'>-73.72694072069217</span></li><li><span class='ee-k'>1:</span><span class='ee-v'>-4.285378957796191</span></li></ul></li><li><label class='ee-shut'>117: [-73.75141258828562, -4.292822873641741]<input type='checkbox' class='ee-toggle'></label><ul><li><span class='ee-k'>0:</span><span class='ee-v'>-73.75141258828562</span></li><li><span class='ee-k'>1:</span><span class='ee-v'>-4.292822873641741</span></li></ul></li><li><label class='ee-shut'>118: [-73.75399153150043, -4.292825103247114]<input type='checkbox' class='ee-toggle'></label><ul><li><span class='ee-k'>0:</span><span class='ee-v'>-73.75399153150043</span></li><li><span class='ee-k'>1:</span><span class='ee-v'>-4.292825103247114</span></li></ul></li><li><label class='ee-shut'>119: [-73.76290911877882, -4.288345492600839]<input type='checkbox' class='ee-toggle'></label><ul><li><span class='ee-k'>0:</span><span class='ee-v'>-73.76290911877882</span></li><li><span class='ee-k'>1:</span><span class='ee-v'>-4.288345492600839</span></li></ul></li><li><label class='ee-shut'>120: [-73.76291732108112, -4.2863824427238955]<input type='checkbox' class='ee-toggle'></label><ul><li><span class='ee-k'>0:</span><span class='ee-v'>-73.76291732108112</span></li><li><span class='ee-k'>1:</span><span class='ee-v'>-4.2863824427238955</span></li></ul></li><li><label class='ee-shut'>121: [-73.75143211852038, -4.280788522871085]<input type='checkbox' class='ee-toggle'></label><ul><li><span class='ee-k'>0:</span><span class='ee-v'>-73.75143211852038</span></li><li><span class='ee-k'>1:</span><span class='ee-v'>-4.280788522871085</span></li></ul></li><li><label class='ee-shut'>122: [-73.73430088524701, -4.2645813501288625]<input type='checkbox' class='ee-toggle'></label><ul><li><span class='ee-k'>0:</span><span class='ee-v'>-73.73430088524701</span></li><li><span class='ee-k'>1:</span><span class='ee-v'>-4.2645813501288625</span></li></ul></li><li><label class='ee-shut'>123: [-73.7242540051786, -4.2645516887155885]<input type='checkbox' class='ee-toggle'></label><ul><li><span class='ee-k'>0:</span><span class='ee-v'>-73.7242540051786</span></li><li><span class='ee-k'>1:</span><span class='ee-v'>-4.2645516887155885</span></li></ul></li><li><label class='ee-shut'>124: [-73.70639795371522, -4.272800691995381]<input type='checkbox' class='ee-toggle'></label><ul><li><span class='ee-k'>0:</span><span class='ee-v'>-73.70639795371522</span></li><li><span class='ee-k'>1:</span><span class='ee-v'>-4.272800691995381</span></li></ul></li><li><label class='ee-shut'>125: [-73.70644351295583, -4.245527932001742]<input type='checkbox' class='ee-toggle'></label><ul><li><span class='ee-k'>0:</span><span class='ee-v'>-73.70644351295583</span></li><li><span class='ee-k'>1:</span><span class='ee-v'>-4.245527932001742</span></li></ul></li></ul></li></ul></li></ul></li><li><span class='ee-k'>system:index:</span><span class='ee-v'>20230917T151711_20230917T152113_T18MXA</span></li><li><span class='ee-k'>system:time_end:</span><span class='ee-v'>1694964255236</span></li><li><span class='ee-k'>system:time_start:</span><span class='ee-v'>1694964255236</span></li></ul></li></ul></li></ul></div><script>function toggleHeader() {\n",
              "    const parent = this.parentElement;\n",
              "    parent.className = parent.className === \"ee-open\" ? \"ee-shut\" : \"ee-open\";\n",
              "}\n",
              "\n",
              "for (let c of document.getElementsByClassName(\"ee-toggle\")) {\n",
              "    c.onclick = toggleHeader;\n",
              "}</script></div>"
            ]
          },
          "metadata": {},
          "execution_count": 226
        }
      ]
    },
    {
      "cell_type": "code",
      "source": [
        "ndvi2"
      ],
      "metadata": {
        "id": "O_gpiH_iXXir",
        "outputId": "9daa3dde-95d9-4f03-c78b-9a329ed22329",
        "colab": {
          "base_uri": "https://localhost:8080/",
          "height": 68
        }
      },
      "execution_count": 227,
      "outputs": [
        {
          "output_type": "display_data",
          "data": {
            "text/plain": [
              "<IPython.core.display.HTML object>"
            ],
            "text/html": [
              "\n",
              "            <style>\n",
              "                .geemap-dark {\n",
              "                    --jp-widgets-color: white;\n",
              "                    --jp-widgets-label-color: white;\n",
              "                    --jp-ui-font-color1: white;\n",
              "                    --jp-layout-color2: #454545;\n",
              "                    background-color: #383838;\n",
              "                }\n",
              "                    \n",
              "                .geemap-dark .jupyter-button {\n",
              "                    --jp-layout-color3: #383838;\n",
              "                }\n",
              "                \n",
              "                .geemap-colab {\n",
              "                    background-color: var(--colab-primary-surface-color, white);\n",
              "                }\n",
              "                    \n",
              "                .geemap-colab .jupyter-button {\n",
              "                    --jp-layout-color3: var(--colab-primary-surface-color, white);\n",
              "                }\n",
              "            </style>\n",
              "            "
            ]
          },
          "metadata": {}
        },
        {
          "output_type": "execute_result",
          "data": {
            "text/plain": [
              "<ee.image.Image at 0x7f8daa9944c0>"
            ],
            "text/html": [
              "<div><style>:root {\n",
              "  --font-color-primary: var(--jp-content-font-color0, rgba(0, 0, 0, 1));\n",
              "  --font-color-secondary: var(--jp-content-font-color2, rgba(0, 0, 0, 0.6));\n",
              "  --font-color-accent: rgba(123, 31, 162, 1);\n",
              "  --border-color: var(--jp-border-color2, #e0e0e0);\n",
              "  --background-color: var(--jp-layout-color0, white);\n",
              "  --background-color-row-even: var(--jp-layout-color1, white);\n",
              "  --background-color-row-odd: var(--jp-layout-color2, #eeeeee);\n",
              "}\n",
              "\n",
              "html[theme=\"dark\"],\n",
              "body[data-theme=\"dark\"],\n",
              "body.vscode-dark {\n",
              "  --font-color-primary: rgba(255, 255, 255, 1);\n",
              "  --font-color-secondary: rgba(255, 255, 255, 0.6);\n",
              "  --font-color-accent: rgb(173, 132, 190);\n",
              "  --border-color: #2e2e2e;\n",
              "  --background-color: #111111;\n",
              "  --background-color-row-even: #111111;\n",
              "  --background-color-row-odd: #313131;\n",
              "}\n",
              "\n",
              ".ee {\n",
              "  padding: 1em;\n",
              "  line-height: 1.5em;\n",
              "  min-width: 300px;\n",
              "  max-width: 1200px;\n",
              "  overflow-y: scroll;\n",
              "  max-height: 600px;\n",
              "  border: 1px solid var(--border-color);\n",
              "  font-family: monospace;\n",
              "}\n",
              "\n",
              ".ee li {\n",
              "  list-style-type: none;\n",
              "}\n",
              "\n",
              ".ee ul {\n",
              "  padding-left: 1.5em !important;\n",
              "  margin: 0;\n",
              "}\n",
              "\n",
              ".ee > ul {\n",
              "  padding-left: 0 !important;\n",
              "}\n",
              "\n",
              ".ee-open,\n",
              ".ee-shut {\n",
              "  color: var(--font-color-secondary);\n",
              "  cursor: pointer;\n",
              "  margin: 0;\n",
              "}\n",
              "\n",
              ".ee-open:hover,\n",
              ".ee-shut:hover {\n",
              "  color: var(--font-color-primary);\n",
              "}\n",
              "\n",
              ".ee-k {\n",
              "  color: var(--font-color-accent);\n",
              "  margin-right: 6px;\n",
              "}\n",
              "\n",
              ".ee-v {\n",
              "  color: var(--font-color-primary);\n",
              "}\n",
              "\n",
              ".ee-toggle {\n",
              "  display: none;\n",
              "}\n",
              "\n",
              ".ee-shut + ul {\n",
              "  display: none;\n",
              "}\n",
              "\n",
              ".ee-open + ul {\n",
              "  display: block;\n",
              "}\n",
              "\n",
              ".ee-shut::before {\n",
              "  display: inline-block;\n",
              "  content: \"▼\";\n",
              "  margin-right: 6px;\n",
              "  transform: rotate(-90deg);\n",
              "  transition: transform 0.2s;\n",
              "}\n",
              "\n",
              ".ee-open::before {\n",
              "  transform: rotate(0deg);\n",
              "  display: inline-block;\n",
              "  content: \"▼\";\n",
              "  margin-right: 6px;\n",
              "  transition: transform 0.2s;\n",
              "}\n",
              "</style><div class='ee'><ul><li><label class='ee-shut'>Image (1 band)<input type='checkbox' class='ee-toggle'></label><ul><li><span class='ee-k'>type:</span><span class='ee-v'>Image</span></li><li><label class='ee-shut'>bands: List (1 element)<input type='checkbox' class='ee-toggle'></label><ul><li><label class='ee-shut'>0: \"NDVI\", float, EPSG:32718, 2191x3576 px<input type='checkbox' class='ee-toggle'></label><ul><li><span class='ee-k'>id:</span><span class='ee-v'>NDVI</span></li><li><span class='ee-k'>crs:</span><span class='ee-v'>EPSG:32718</span></li><li><label class='ee-shut'>crs_transform: [10, 0, 600000, 0, -10, 9600040]<input type='checkbox' class='ee-toggle'></label><ul><li><span class='ee-k'>0:</span><span class='ee-v'>10</span></li><li><span class='ee-k'>1:</span><span class='ee-v'>0</span></li><li><span class='ee-k'>2:</span><span class='ee-v'>600000</span></li><li><span class='ee-k'>3:</span><span class='ee-v'>0</span></li><li><span class='ee-k'>4:</span><span class='ee-v'>-10</span></li><li><span class='ee-k'>5:</span><span class='ee-v'>9600040</span></li></ul></li><li><label class='ee-shut'>data_type: float<input type='checkbox' class='ee-toggle'></label><ul><li><span class='ee-k'>type:</span><span class='ee-v'>PixelType</span></li><li><span class='ee-k'>precision:</span><span class='ee-v'>float</span></li></ul></li><li><label class='ee-shut'>dimensions: [2191, 3576]<input type='checkbox' class='ee-toggle'></label><ul><li><span class='ee-k'>0:</span><span class='ee-v'>2191</span></li><li><span class='ee-k'>1:</span><span class='ee-v'>3576</span></li></ul></li><li><label class='ee-shut'>origin: [3356, 6051]<input type='checkbox' class='ee-toggle'></label><ul><li><span class='ee-k'>0:</span><span class='ee-v'>3356</span></li><li><span class='ee-k'>1:</span><span class='ee-v'>6051</span></li></ul></li></ul></li></ul></li></ul></li></ul></div><script>function toggleHeader() {\n",
              "    const parent = this.parentElement;\n",
              "    parent.className = parent.className === \"ee-open\" ? \"ee-shut\" : \"ee-open\";\n",
              "}\n",
              "\n",
              "for (let c of document.getElementsByClassName(\"ee-toggle\")) {\n",
              "    c.onclick = toggleHeader;\n",
              "}</script></div>"
            ]
          },
          "metadata": {},
          "execution_count": 227
        }
      ]
    },
    {
      "cell_type": "markdown",
      "source": [
        "#### Estilo"
      ],
      "metadata": {
        "id": "dIAOT52GHPWi"
      }
    },
    {
      "cell_type": "code",
      "source": [
        "vizParams = {\n",
        "    'bands': ['B4', 'B3', 'B2'],\n",
        "    'min': 0,\n",
        "    'max': 2500,\n",
        "    'gamma': 1.0\n",
        "}"
      ],
      "metadata": {
        "id": "-Wmxu9IzEisr",
        "outputId": "25629fa5-22cf-48e1-a1de-920e3d860274",
        "colab": {
          "base_uri": "https://localhost:8080/",
          "height": 17
        }
      },
      "execution_count": 231,
      "outputs": [
        {
          "output_type": "display_data",
          "data": {
            "text/plain": [
              "<IPython.core.display.HTML object>"
            ],
            "text/html": [
              "\n",
              "            <style>\n",
              "                .geemap-dark {\n",
              "                    --jp-widgets-color: white;\n",
              "                    --jp-widgets-label-color: white;\n",
              "                    --jp-ui-font-color1: white;\n",
              "                    --jp-layout-color2: #454545;\n",
              "                    background-color: #383838;\n",
              "                }\n",
              "                    \n",
              "                .geemap-dark .jupyter-button {\n",
              "                    --jp-layout-color3: #383838;\n",
              "                }\n",
              "                \n",
              "                .geemap-colab {\n",
              "                    background-color: var(--colab-primary-surface-color, white);\n",
              "                }\n",
              "                    \n",
              "                .geemap-colab .jupyter-button {\n",
              "                    --jp-layout-color3: var(--colab-primary-surface-color, white);\n",
              "                }\n",
              "            </style>\n",
              "            "
            ]
          },
          "metadata": {}
        }
      ]
    },
    {
      "cell_type": "markdown",
      "source": [
        "## **Antes**"
      ],
      "metadata": {
        "id": "5fN_RG1nHV-o"
      }
    },
    {
      "cell_type": "code",
      "source": [
        "# @title\n",
        "# Aquí vemos la trama previa a la emisión del permiso.\n",
        "# https://colab.research.google.com/github/giswqs/gee-tutorials/blob/master/Image/image_visualization.ipynb#scrollTo=dIqOCYLbo0SF\n",
        "\n",
        "\n",
        "Map = geemap.Map()\n",
        "\n",
        "\n",
        "Map.centerObject(polygon, 11)\n",
        "Map.addLayer(image1, vizParams, 'Antes Permiso')\n",
        "\n",
        "Map"
      ],
      "metadata": {
        "id": "JnNZDKvkTzQB",
        "outputId": "89a1263e-d3a2-41f2-9925-95921f5b24d8",
        "colab": {
          "base_uri": "https://localhost:8080/",
          "height": 621,
          "referenced_widgets": [
            "ef332bde20c0483eb37cc155adb96b0a",
            "e7eea94dcd0b4c899d9c9ee8194becd1",
            "af991c1f8b7e45a0a6b9b10e039c71f0",
            "5a833600e0ae497bb831573dc1373383",
            "d260233842f445979d2cd1557a6f55b6",
            "d5e6014fe9bf49d18e3774b63f39f22b",
            "ef381e4a652c4b718725f970b92f22eb",
            "13ae8b1e9528447fa31fdb0eb4ee2db0",
            "6bfc2554db2a41bc8cd9b96a36abaa67",
            "10a7cf87dbfc4360b917fcd530a88908",
            "f76c6fdd79354851819009e6ca974d01",
            "4d839a0164b3414e8a0dcfa9253b143e",
            "d55ff85ce93c483783f265295fbc85c3",
            "be03c0b68fa94e63838c52737e64392f",
            "a90dfa8371f54330aeb336107cbc3cdf",
            "bdbdec14199743b797ab1b812b620445",
            "3a4a04692c364090a10dd82dce5e889a",
            "3ed7e2c0f58c412ca9effc6defeaf939",
            "6becb501dd6e4adda86c558868302b88",
            "b33d7013892545fb99651d63cf318035",
            "9c71a4b4b68f4b6fa3412b508c59a1f9",
            "170dc497a1c84ef8a6fcab381a4b02e4",
            "7a29b0b67c0c4743a786e5907fd4ba80",
            "63d7c6ad4d684a7e99b98ec3b257d68f",
            "7eb4e25079ea40a2b588bc9a8b11f9cb"
          ]
        }
      },
      "execution_count": 232,
      "outputs": [
        {
          "output_type": "display_data",
          "data": {
            "text/plain": [
              "<IPython.core.display.HTML object>"
            ],
            "text/html": [
              "\n",
              "            <style>\n",
              "                .geemap-dark {\n",
              "                    --jp-widgets-color: white;\n",
              "                    --jp-widgets-label-color: white;\n",
              "                    --jp-ui-font-color1: white;\n",
              "                    --jp-layout-color2: #454545;\n",
              "                    background-color: #383838;\n",
              "                }\n",
              "                    \n",
              "                .geemap-dark .jupyter-button {\n",
              "                    --jp-layout-color3: #383838;\n",
              "                }\n",
              "                \n",
              "                .geemap-colab {\n",
              "                    background-color: var(--colab-primary-surface-color, white);\n",
              "                }\n",
              "                    \n",
              "                .geemap-colab .jupyter-button {\n",
              "                    --jp-layout-color3: var(--colab-primary-surface-color, white);\n",
              "                }\n",
              "            </style>\n",
              "            "
            ]
          },
          "metadata": {}
        },
        {
          "output_type": "display_data",
          "data": {
            "text/plain": [
              "Map(center=[-4.349379692587443, -73.72766753816298], controls=(WidgetControl(options=['position', 'transparent…"
            ],
            "application/vnd.jupyter.widget-view+json": {
              "version_major": 2,
              "version_minor": 0,
              "model_id": "ef332bde20c0483eb37cc155adb96b0a"
            }
          },
          "metadata": {
            "application/vnd.jupyter.widget-view+json": {
              "colab": {
                "custom_widget_manager": {
                  "url": "https://ssl.gstatic.com/colaboratory-static/widgets/colab-cdn-widget-manager/2b70e893a8ba7c0f/manager.min.js"
                }
              }
            }
          }
        }
      ]
    },
    {
      "cell_type": "markdown",
      "source": [
        "# **4. Calcular NDVI:**\n",
        "#### _Calcular y enmascarar áreas donde se excede el umbral._"
      ],
      "metadata": {
        "id": "ZosZS1gPH8Fu"
      }
    },
    {
      "cell_type": "code",
      "source": [
        "ndvi_diff = ndvi2.subtract(ndvi1).rename('Cambio')\n",
        "\n",
        "loss_threshold = -0.1\n",
        "'''\n",
        "Es importante monitorear para asegurarse de que el umbral dado\n",
        "refleje con precisión el área cosechada.\n",
        "Normalmente, un área deforestada estaría en el rango de |0,1 a 0,2|\n",
        "para el umbral del NDVI. Es posible que deba ajustar el script y\n",
        "probarlo un poco desde aquí para encontrar las áreas deforestadas\n",
        "para su parcela, ya que el área y las tendencias generales del NDVI\n",
        "pueden afectar esto.\n",
        "\n",
        "NOTA IMPORTANTE: Si el NDVI antes es menor que el NDVI después indica un aumento en la vegetación. Establezca el umbral en un número negativo. Se aplica lo inverso.\n",
        "'''\n",
        "loss_mask = ndvi_diff.lt(loss_threshold)"
      ],
      "metadata": {
        "id": "yQ-pklCgB87X",
        "outputId": "4b681dec-3553-499d-965c-d6685982ef2a",
        "colab": {
          "base_uri": "https://localhost:8080/",
          "height": 17
        }
      },
      "execution_count": 233,
      "outputs": [
        {
          "output_type": "display_data",
          "data": {
            "text/plain": [
              "<IPython.core.display.HTML object>"
            ],
            "text/html": [
              "\n",
              "            <style>\n",
              "                .geemap-dark {\n",
              "                    --jp-widgets-color: white;\n",
              "                    --jp-widgets-label-color: white;\n",
              "                    --jp-ui-font-color1: white;\n",
              "                    --jp-layout-color2: #454545;\n",
              "                    background-color: #383838;\n",
              "                }\n",
              "                    \n",
              "                .geemap-dark .jupyter-button {\n",
              "                    --jp-layout-color3: #383838;\n",
              "                }\n",
              "                \n",
              "                .geemap-colab {\n",
              "                    background-color: var(--colab-primary-surface-color, white);\n",
              "                }\n",
              "                    \n",
              "                .geemap-colab .jupyter-button {\n",
              "                    --jp-layout-color3: var(--colab-primary-surface-color, white);\n",
              "                }\n",
              "            </style>\n",
              "            "
            ]
          },
          "metadata": {}
        }
      ]
    },
    {
      "cell_type": "code",
      "source": [
        "pixelArea = ee.Image.pixelArea().mask(loss_mask)\n",
        "\n",
        "totalLossArea = pixelArea.reduceRegion(\n",
        "    reducer=ee.Reducer.sum(),\n",
        "    geometry=polygon,\n",
        "    scale=30,\n",
        "    maxPixels=1e9\n",
        ").get('area').getInfo()\n",
        "\n",
        "print(f\"Areas de Perdido de Vegetacion: {totalLossArea} metricos cubiertos\")"
      ],
      "metadata": {
        "id": "DsOzimV4pjcG",
        "outputId": "7b286c97-b63e-4e4e-d7ce-a34aadf7e686",
        "colab": {
          "base_uri": "https://localhost:8080/",
          "height": 35
        }
      },
      "execution_count": 234,
      "outputs": [
        {
          "output_type": "display_data",
          "data": {
            "text/plain": [
              "<IPython.core.display.HTML object>"
            ],
            "text/html": [
              "\n",
              "            <style>\n",
              "                .geemap-dark {\n",
              "                    --jp-widgets-color: white;\n",
              "                    --jp-widgets-label-color: white;\n",
              "                    --jp-ui-font-color1: white;\n",
              "                    --jp-layout-color2: #454545;\n",
              "                    background-color: #383838;\n",
              "                }\n",
              "                    \n",
              "                .geemap-dark .jupyter-button {\n",
              "                    --jp-layout-color3: #383838;\n",
              "                }\n",
              "                \n",
              "                .geemap-colab {\n",
              "                    background-color: var(--colab-primary-surface-color, white);\n",
              "                }\n",
              "                    \n",
              "                .geemap-colab .jupyter-button {\n",
              "                    --jp-layout-color3: var(--colab-primary-surface-color, white);\n",
              "                }\n",
              "            </style>\n",
              "            "
            ]
          },
          "metadata": {}
        },
        {
          "output_type": "stream",
          "name": "stdout",
          "text": [
            "Areas de Perdido de Vegetacion: 971196.2902937346 metricos cubiertos\n"
          ]
        }
      ]
    },
    {
      "cell_type": "code",
      "source": [
        "# @title\n",
        "vectorizedAndSimplified = loss_mask.updateMask(loss_mask).reduceToVectors(\n",
        "    geometryType='polygon',\n",
        "    reducer=ee.Reducer.countEvery(),\n",
        "    scale=30,\n",
        "    maxPixels=1e9\n",
        ").map(lambda feature: ee.Feature(feature.geometry().simplify(maxError=ee.ErrorMargin(1))))\n",
        "\n",
        "indices = ee.List.sequence(0, vectorizedAndSimplified.size().subtract(1))\n",
        "\n",
        "def assign_names_and_calculate_areas(feature, index):\n",
        "    name = ee.String('Polygonio_').cat(ee.Number(index).add(1).format())\n",
        "    area = feature.geometry().area(maxError=ee.ErrorMargin(1))\n",
        "    return feature.set({'name': name, 'area_m2': area})\n",
        "\n",
        "featuresWithInfo = ee.FeatureCollection(indices.map(lambda index: assign_names_and_calculate_areas(ee.Feature(vectorizedAndSimplified.toList(vectorizedAndSimplified.size()).get(index)), index)))\n",
        "\n",
        "def print_feature_info(feature):\n",
        "    feature = ee.Feature(feature)\n",
        "    name = feature.get('name').getInfo()\n",
        "    area = feature.get('area_m2').getInfo()\n",
        "    vertices = feature.geometry().coordinates().getInfo()\n",
        "    print(f\"Nombre: {name}, Area (metricos cubiertos): {area}, Vertices: {vertices}\")\n",
        "\n",
        "featureList = featuresWithInfo.toList(featuresWithInfo.size())"
      ],
      "metadata": {
        "collapsed": true,
        "id": "hBAE6F4_p4FL",
        "outputId": "c544b20a-0401-4fc9-e62a-ab1abf24843b",
        "colab": {
          "base_uri": "https://localhost:8080/",
          "height": 17
        }
      },
      "execution_count": 235,
      "outputs": [
        {
          "output_type": "display_data",
          "data": {
            "text/plain": [
              "<IPython.core.display.HTML object>"
            ],
            "text/html": [
              "\n",
              "            <style>\n",
              "                .geemap-dark {\n",
              "                    --jp-widgets-color: white;\n",
              "                    --jp-widgets-label-color: white;\n",
              "                    --jp-ui-font-color1: white;\n",
              "                    --jp-layout-color2: #454545;\n",
              "                    background-color: #383838;\n",
              "                }\n",
              "                    \n",
              "                .geemap-dark .jupyter-button {\n",
              "                    --jp-layout-color3: #383838;\n",
              "                }\n",
              "                \n",
              "                .geemap-colab {\n",
              "                    background-color: var(--colab-primary-surface-color, white);\n",
              "                }\n",
              "                    \n",
              "                .geemap-colab .jupyter-button {\n",
              "                    --jp-layout-color3: var(--colab-primary-surface-color, white);\n",
              "                }\n",
              "            </style>\n",
              "            "
            ]
          },
          "metadata": {}
        }
      ]
    },
    {
      "cell_type": "markdown",
      "source": [
        "# **5. Visualizar**\n",
        "#### _Muestra los polígonos identificados sobre la imagen más reciente._"
      ],
      "metadata": {
        "id": "IGiBjQDLITmo"
      }
    },
    {
      "cell_type": "code",
      "source": [
        "# @title\n",
        "for i in range(featureList.size().getInfo()):\n",
        "    print_feature_info(featureList.get(i))"
      ],
      "metadata": {
        "collapsed": true,
        "id": "B4lC45IG807l",
        "outputId": "c54fa882-4a43-46a2-b8fd-9a8c0c2f0326",
        "colab": {
          "base_uri": "https://localhost:8080/",
          "height": 1000
        }
      },
      "execution_count": 238,
      "outputs": [
        {
          "output_type": "display_data",
          "data": {
            "text/plain": [
              "<IPython.core.display.HTML object>"
            ],
            "text/html": [
              "\n",
              "            <style>\n",
              "                .geemap-dark {\n",
              "                    --jp-widgets-color: white;\n",
              "                    --jp-widgets-label-color: white;\n",
              "                    --jp-ui-font-color1: white;\n",
              "                    --jp-layout-color2: #454545;\n",
              "                    background-color: #383838;\n",
              "                }\n",
              "                    \n",
              "                .geemap-dark .jupyter-button {\n",
              "                    --jp-layout-color3: #383838;\n",
              "                }\n",
              "                \n",
              "                .geemap-colab {\n",
              "                    background-color: var(--colab-primary-surface-color, white);\n",
              "                }\n",
              "                    \n",
              "                .geemap-colab .jupyter-button {\n",
              "                    --jp-layout-color3: var(--colab-primary-surface-color, white);\n",
              "                }\n",
              "            </style>\n",
              "            "
            ]
          },
          "metadata": {}
        },
        {
          "output_type": "stream",
          "name": "stdout",
          "text": [
            "Nombre: Polygonio_1.0, Area (metricos cubiertos): 904.2966507757552, Vertices: [[[-73.79609113958851, -4.300692817559388], [-73.79609071358944, -4.300964161326636], [-73.79582041496711, -4.300963733629746], [-73.79582084105601, -4.3006923898804645], [-73.79609113958851, -4.300692817559388]]]\n",
            "Nombre: Polygonio_2.0, Area (metricos cubiertos): 904.2935115112335, Vertices: [[[-73.79593602907842, -4.398376447052391], [-73.79593559331467, -4.398647790100988], [-73.79566525988261, -4.398647352648394], [-73.79566569574519, -4.398376009626747], [-73.79593602907842, -4.398376447052391]]]\n",
            "Nombre: Polygonio_3.0, Area (metricos cubiertos): 904.2980830559322, Vertices: [[[-73.79511736558696, -4.231769752215438], [-73.79511694610966, -4.232041096377945], [-73.79484667167895, -4.232040675175875], [-73.79484709125508, -4.231769331040317], [-73.79511736558696, -4.231769752215438]]]\n",
            "Nombre: Polygonio_4.0, Area (metricos cubiertos): 904.2987304196871, Vertices: [[[-73.79488807778823, -4.205177596574901], [-73.79488766087113, -4.205448940899105], [-73.79461739565714, -4.2054485222572335], [-73.79461781266409, -4.205177177959979], [-73.79488807778823, -4.205177596574901]]]\n",
            "Nombre: Polygonio_5.0, Area (metricos cubiertos): 904.295732986796, Vertices: [[[-73.79421566906208, -4.290107420585301], [-73.79421524345827, -4.2903787642447515], [-73.79394494874361, -4.290378336925154], [-73.79394537444624, -4.290106993292653], [-73.79421566906208, -4.290107420585301]]]\n",
            "Nombre: Polygonio_6.0, Area (metricos cubiertos): 904.2943598536216, Vertices: [[[-73.79414765709988, -4.333251037572545], [-73.79414722718415, -4.333522380917585], [-73.79387691723407, -4.333521949295057], [-73.79387734724861, -4.333250605976967], [-73.79414765709988, -4.333251037572545]]]\n",
            "Nombre: Polygonio_7.0, Area (metricos cubiertos): 904.2973015247844, Vertices: [[[-73.79403332884606, -4.2336674752780805], [-73.79403290879382, -4.233938819314823], [-73.79376263381515, -4.233938397546814], [-73.7937630539572, -4.233667053537021], [-73.79403332884606, -4.2336674752780805]]]\n",
            "Nombre: Polygonio_8.0, Area (metricos cubiertos): 904.2968126064021, Vertices: [[[-73.79400934287575, -4.249134082372048], [-73.79400892127842, -4.249405426292009], [-73.79373864092783, -4.2494050029788974], [-73.79373906261499, -4.249133659076902], [-73.79400934287575, -4.249134082372048]]]\n",
            "Nombre: Polygonio_9.0, Area (metricos cubiertos): 27128.92680170786, Vertices: [[[[-73.79299830991829, -4.203817943625347], [-73.79299747503305, -4.204360631914429], [-73.79272721037601, -4.204360212724584], [-73.79272804545889, -4.203817524498385], [-73.79299830991829, -4.203817943625347]]], [[[-73.79299830991829, -4.203817943625347], [-73.79299872732946, -4.203546599480807], [-73.79218793429263, -4.2035453418843245], [-73.79219002230973, -4.202188621538913], [-73.79246028615827, -4.202189040692825], [-73.79246070358741, -4.2019176965932], [-73.79327149502525, -4.201918953426114], [-73.79327066069696, -4.20246164178706], [-73.79354092475212, -4.202462060599612], [-73.79354009050469, -4.2030047490054745], [-73.79326982626986, -4.203004330148008], [-73.79326899172598, -4.203547018490988], [-73.79353925615844, -4.203547437411337], [-73.7935384216954, -4.204090125808216], [-73.79326815707431, -4.204089706833968], [-73.79326857441362, -4.203818362662478], [-73.79299830991829, -4.203817943625347]]]]\n",
            "Nombre: Polygonio_10.0, Area (metricos cubiertos): 904.2959441752898, Vertices: [[[-73.79265962983871, -4.248046589794266], [-73.79265920788205, -4.2483179335974475], [-73.7923889280435, -4.248317509916027], [-73.79238935009897, -4.248046166148779], [-73.79265962983871, -4.248046589794266]]]\n",
            "Nombre: Polygonio_11.0, Area (metricos cubiertos): 60587.8554226891, Vertices: [[[-73.79272595755857, -4.205174245050408], [-73.79272553989586, -4.205445589159016], [-73.79218500992603, -4.205444750285254], [-73.79218459204773, -4.205716094339963], [-73.7919143270134, -4.205715674727911], [-73.79191474498154, -4.205444330709135], [-73.791644480064, -4.205443911043183], [-73.79164406199705, -4.2057152550350105], [-73.79110353205417, -4.205714415352765], [-73.79110395030976, -4.2054430714148365], [-73.79002289112469, -4.205441391044233], [-73.79002372829166, -4.2048987033749885], [-73.7897534637514, -4.204898283098183], [-73.78975388238429, -4.204626939286019], [-73.79002414682573, -4.204627359535875], [-73.7900254022932, -4.203813328009552], [-73.7902956664831, -4.203813748079745], [-73.79029608481954, -4.203542404204699], [-73.79056634894657, -4.203542824158111], [-73.79056718535895, -4.20300013635412], [-73.79137797734477, -4.203001395477738], [-73.79137839523206, -4.202730051485911], [-73.7916486591884, -4.202730470981183], [-73.79164740573314, -4.203544503019546], [-73.79191766999492, -4.20354492249685], [-73.79191725222441, -4.203816266533593], [-73.79164698786383, -4.203815847029339], [-73.79164656996755, -4.204087191030149], [-73.79191683441798, -4.204087610570336], [-73.79191599872425, -4.2046302986258555], [-73.79245652808322, -4.204631137526567], [-73.79245569265001, -4.205173825689884], [-73.79272595755857, -4.205174245050408]]]\n",
            "Nombre: Polygonio_12.0, Area (metricos cubiertos): 6330.047341960418, Vertices: [[[-73.7896228000204, -4.288743427659013], [-73.78962237293437, -4.289014770869306], [-73.78935207916294, -4.289014342058505], [-73.78935079745567, -4.289828371590569], [-73.78908050342373, -4.2898279426001045], [-73.78908135811683, -4.289285256305283], [-73.78881106430049, -4.28928482728787], [-73.78881191907443, -4.2887421410379645], [-73.7896228000204, -4.288743427659013]]]\n",
            "Nombre: Polygonio_13.0, Area (metricos cubiertos): 9947.24538873854, Vertices: [[[-73.78948780374174, -4.201913081004355], [-73.78948612975816, -4.202998456208094], [-73.78894560212395, -4.2029976155736355], [-73.78894602084667, -4.2027262718333365], [-73.78867575715982, -4.202725851403817], [-73.78867659471305, -4.202183163968136], [-73.78894685821126, -4.202183584343755], [-73.78894769546805, -4.201640896845192], [-73.78921795880456, -4.201641317068098], [-73.78921754027947, -4.20191266084433], [-73.78948780374174, -4.201913081004355]]]\n",
            "Nombre: Polygonio_14.0, Area (metricos cubiertos): 1808.587524178748, Vertices: [[[-73.78889600120536, -4.235016163633822], [-73.78889557923074, -4.235287507149542], [-73.78835502939017, -4.235286659660937], [-73.78835545155344, -4.2350153161991155], [-73.78889600120536, -4.235016163633822]]]\n",
            "Nombre: Polygonio_15.0, Area (metricos cubiertos): 904.2938827699311, Vertices: [[[-73.78837484132053, -4.222533515041937], [-73.78837442041491, -4.222804858584607], [-73.78810414985595, -4.222804435954215], [-73.7881045708514, -4.222533092429512], [-73.78837484132053, -4.222533515041937]]]\n",
            "Nombre: Polygonio_16.0, Area (metricos cubiertos): 904.2914113412102, Vertices: [[[-73.7877303171093, -4.289011767217406], [-73.78772988933156, -4.28928311023007], [-73.78745959565894, -4.289282680727566], [-73.78746002353549, -4.289011337741852], [-73.7877303171093, -4.289011767217406]]]\n",
            "Nombre: Polygonio_17.0, Area (metricos cubiertos): 904.2905557941773, Vertices: [[[-73.78638184652314, -4.287110218679127], [-73.78638141845794, -4.287381561566026], [-73.7861111255938, -4.287381131776061], [-73.78611155374884, -4.287109788916111], [-73.78638184652314, -4.287110218679127]]]\n",
            "Nombre: Polygonio_18.0, Area (metricos cubiertos): 904.2915691464117, Vertices: [[[-73.7859081580107, -4.244508509327016], [-73.7859077340508, -4.2447798524744265], [-73.78563745611666, -4.24477942678078], [-73.78563788017539, -4.244508083660318], [-73.7859081580107, -4.244508509327016]]]\n",
            "Nombre: Polygonio_19.0, Area (metricos cubiertos): 1808.5805038923202, Vertices: [[[[-73.78531565399787, -4.277611500427139], [-73.78504536466413, -4.277611071239046], [-73.78504579221729, -4.277339728415028], [-73.7853160814612, -4.277340157576172], [-73.78531565399787, -4.277611500427139]]], [[[-73.78531565399787, -4.277611500427139], [-73.78558594335857, -4.277611929525401], [-73.78558551596711, -4.277883272403317], [-73.78531522650759, -4.277882843278106], [-73.78531565399787, -4.277611500427139]]]]\n",
            "Nombre: Polygonio_20.0, Area (metricos cubiertos): 5425.741501121941, Vertices: [[[[-73.78557225317738, -4.286294900657518], [-73.78557182490556, -4.286566243472552], [-73.78611240998704, -4.286567103178245], [-73.78611198188591, -4.286838446047178], [-73.78530110401216, -4.28683715626406], [-73.78530196076241, -4.286294470696873], [-73.78557225317738, -4.286294900657518]]], [[[-73.78557225317738, -4.286294900657518], [-73.78557268141326, -4.286023557842484], [-73.78611326612642, -4.286024417440379], [-73.78611283807021, -4.286295760309312], [-73.78557225317738, -4.286294900657518]]]]\n",
            "Nombre: Polygonio_21.0, Area (metricos cubiertos): 1808.5798653680934, Vertices: [[[-73.78530410218434, -4.2849377567205185], [-73.78530324569462, -4.285480442314654], [-73.78503295360304, -4.285480012336043], [-73.78503381027242, -4.284937326795807], [-73.78530410218434, -4.2849377567205185]]]\n",
            "Nombre: Polygonio_22.0, Area (metricos cubiertos): 904.2909208154609, Vertices: [[[-73.78509265638243, -4.247492005618934], [-73.78509223183862, -4.247763348658547], [-73.78482195295229, -4.247762922380995], [-73.78482237758591, -4.247491579368332], [-73.78509265638243, -4.247492005618934]]]\n",
            "Nombre: Polygonio_23.0, Area (metricos cubiertos): 904.28983364573, Vertices: [[[-73.78503723588098, -4.282766584554012], [-73.78503680777087, -4.283037927342097], [-73.78476651655964, -4.283037497516199], [-73.78476694475958, -4.282766154755064], [-73.78503723588098, -4.282766584554012]]]\n",
            "Nombre: Polygonio_24.0, Area (metricos cubiertos): 904.28967844643, Vertices: [[[-73.78503038292114, -4.287108068902854], [-73.78502995437984, -4.287379411663989], [-73.78475966165045, -4.287378981388934], [-73.7847600902816, -4.2871076386637315], [-73.78503038292114, -4.287108068902854]]]\n",
            "Nombre: Polygonio_25.0, Area (metricos cubiertos): 904.2905316542754, Vertices: [[[-73.7845516740839, -4.247762496013612], [-73.78455124932451, -4.2480338389903425], [-73.78428097040222, -4.248033412497195], [-73.78428139525145, -4.247762069538431], [-73.7845516740839, -4.247762496013612]]]\n",
            "Nombre: Polygonio_26.0, Area (metricos cubiertos): 904.2895921323754, Vertices: [[[-73.7845030748138, -4.278695583637905], [-73.78450264692827, -4.27896692639904], [-73.78423235719926, -4.278966496788739], [-73.78423278517462, -4.278695154054553], [-73.7845030748138, -4.278695583637905]]]\n",
            "Nombre: Polygonio_27.0, Area (metricos cubiertos): 904.2892961593803, Vertices: [[[-73.78448894018213, -4.287649893722301], [-73.7844885113893, -4.287921236420553], [-73.78421821852517, -4.287920805911937], [-73.78421864740784, -4.2876494632406335], [-73.78448894018213, -4.287649893722301]]]\n",
            "Nombre: Polygonio_28.0, Area (metricos cubiertos): 37980.29249421381, Vertices: [[[-73.78575012472403, -4.172059402153348], [-73.78574929118626, -4.1726020894093665], [-73.78493853218659, -4.1726008335646], [-73.7849381150988, -4.172872177107269], [-73.78466786205698, -4.1728717582767505], [-73.78466827924359, -4.172600414761031], [-73.78439802631856, -4.172599995858647], [-73.7843976090511, -4.172871339356401], [-73.7841273560632, -4.172870920337237], [-73.78412777342945, -4.172599576875416], [-73.78385752056731, -4.172599157793369], [-73.78385793799644, -4.172327814349515], [-73.78358768525108, -4.1723273952045865], [-73.78358810275209, -4.172056051787681], [-73.78331785012351, -4.1720556325708875], [-73.78331826768739, -4.171784289189914], [-73.78304801518458, -4.171783869910239], [-73.78305010303997, -4.170427153077241], [-73.7835906071473, -4.170427991268284], [-73.78359018981698, -4.170699334694172], [-73.78386044200539, -4.170699753677403], [-73.78386002473793, -4.170971097130241], [-73.78413027705211, -4.170971516041607], [-73.78412944261603, -4.171514202992199], [-73.78466994768456, -4.171515040662219], [-73.78466953061475, -4.171786384186921], [-73.78548028870712, -4.171787640076604], [-73.78547987187984, -4.172058983682156], [-73.78575012472403, -4.172059402153348]], [[-73.78466911351798, -4.172057727711625], [-73.78466869639425, -4.1723290712363275], [-73.78412819076877, -4.1723282334046115], [-73.78412860808113, -4.172056889933807], [-73.78466911351798, -4.172057727711625]]]\n",
            "Nombre: Polygonio_29.0, Area (metricos cubiertos): 904.2893457633788, Vertices: [[[-73.78423064501033, -4.280051867707515], [-73.78423021689123, -4.280323210432718], [-73.78395992671307, -4.280322780579871], [-73.78396035493097, -4.2800514378906005], [-73.78423064501033, -4.280051867707515]]]\n",
            "Nombre: Polygonio_30.0, Area (metricos cubiertos): 904.2893363538868, Vertices: [[[-73.78422978874518, -4.280594553148936], [-73.78422936058116, -4.280865895874139], [-73.78395907021435, -4.280865465967394], [-73.78395949847719, -4.2805941232781235], [-73.78422978874518, -4.280594553148936]]]\n",
            "Nombre: Polygonio_31.0, Area (metricos cubiertos): 71438.88015590438, Vertices: [[[-73.78611069740285, -4.287652474644994], [-73.78610727090496, -4.289823217470693], [-73.78583697720539, -4.289822787339369], [-73.78583654867307, -4.290094130154403], [-73.78610684247145, -4.290094560312677], [-73.78610641401099, -4.29036590315466], [-73.78448465106801, -4.2903633206060166], [-73.78448422200569, -4.29063466327732], [-73.78394363439097, -4.290633801604316], [-73.78394406364194, -4.290362458986912], [-73.78340347632366, -4.290361596981531], [-73.78340562312651, -4.289004884119087], [-73.78394620949257, -4.289005745845989], [-73.78394663858185, -4.2887344032106185], [-73.78448722486706, -4.288735264497347], [-73.78448679596643, -4.289006607186616], [-73.78475708924378, -4.2890070377131995], [-73.78475794682048, -4.28846435228076], [-73.78448765373177, -4.288463921808076], [-73.7844880825785, -4.288192579118807], [-73.78475837556839, -4.288193009564542], [-73.78475923298339, -4.287650324114137], [-73.78529981866673, -4.287651184610347], [-73.78530024714514, -4.287379841831245], [-73.78584083274765, -4.287380701896265], [-73.78584040445787, -4.287652044729265], [-73.78611069740285, -4.287652474644994]], [[-73.78475666041503, -4.289278380429419], [-73.78475580267664, -4.289821065852874], [-73.78448550911182, -4.289820635245443], [-73.78448636703885, -4.289277949875887], [-73.78475666041503, -4.289278380429419]]]\n",
            "Nombre: Polygonio_32.0, Area (metricos cubiertos): 904.2894009606737, Vertices: [[[-73.78397147879609, -4.272996527080252], [-73.78397105130581, -4.273267869832404], [-73.78370076362496, -4.273267440599395], [-73.78370119121405, -4.272996097883175], [-73.78397147879609, -4.272996527080252]]]\n",
            "Nombre: Polygonio_33.0, Area (metricos cubiertos): 904.2893777271156, Vertices: [[[-73.7839706237796, -4.273539212575573], [-73.78397019621745, -4.273810555318741], [-73.78369990835695, -4.273810126031833], [-73.78370033599994, -4.273538783315614], [-73.7839706237796, -4.273539212575573]]]\n",
            "Nombre: Polygonio_34.0, Area (metricos cubiertos): 904.2892576124849, Vertices: [[[-73.78396463552907, -4.277338010809256], [-73.78396420759861, -4.2776093535254756], [-73.7836939183996, -4.2776089238612744], [-73.78369434642887, -4.277337581172005], [-73.78396463552907, -4.277338010809256]]]\n",
            "Nombre: Polygonio_35.0, Area (metricos cubiertos): 3617.16921117912, Vertices: [[[-73.78412652124982, -4.173413607260879], [-73.7841261038027, -4.1736849507227], [-73.78358559735975, -4.173684112244197], [-73.7835860149955, -4.1734127688362745], [-73.78331576190878, -4.1734123494847335], [-73.78331617960741, -4.173141006112744], [-73.78385668561918, -4.173141844663113], [-73.78385626810919, -4.173413188097984], [-73.78412652124982, -4.173413607260879]]]\n",
            "Nombre: Polygonio_36.0, Area (metricos cubiertos): 904.2870762357896, Vertices: [[[-73.783593439742, -4.340831716670037], [-73.78359300529877, -4.341103058892182], [-73.78332269371376, -4.341102622733163], [-73.7833231282558, -4.340831280528983], [-73.783593439742, -4.340831716670037]]]\n",
            "Nombre: Polygonio_37.0, Area (metricos cubiertos): 904.2883369757756, Vertices: [[[-73.78313447115856, -4.2895471382074755], [-73.78313404170098, -4.289818480753015], [-73.78286374829786, -4.289818049570662], [-73.78286417785425, -4.289546707052072], [-73.78313447115856, -4.2895471382074755]]]\n",
            "Nombre: Polygonio_38.0, Area (metricos cubiertos): 904.2862354353886, Vertices: [[[-73.78276858022868, -4.349513355600588], [-73.78276814461763, -4.349784697679003], [-73.78249783003224, -4.349784260352173], [-73.7824982657421, -4.349512918291724], [-73.78276858022868, -4.349513355600588]]]\n",
            "Nombre: Polygonio_39.0, Area (metricos cubiertos): 904.2887576346956, Vertices: [[[-73.78263286761543, -4.264854100874914], [-73.78263244046651, -4.265125443546218], [-73.78236215576808, -4.2651250146635515], [-73.78236258301581, -4.264853672019197], [-73.78263286761543, -4.264854100874914]]]\n",
            "Nombre: Polygonio_40.0, Area (metricos cubiertos): 7234.305498490547, Vertices: [[[-73.78287147602813, -4.284933883939598], [-73.78286975952729, -4.286019254130739], [-73.78232917547888, -4.2860183922421395], [-73.78233089274329, -4.2849330222665944], [-73.78287147602813, -4.284933883939598]]]\n",
            "Nombre: Polygonio_41.0, Area (metricos cubiertos): 904.2883273599493, Vertices: [[[-73.782351037751, -4.27217992268014], [-73.78235060976665, -4.272451265270595], [-73.78208032254393, -4.272450835552496], [-73.78208075061812, -4.2721794929889905], [-73.782351037751, -4.27217992268014]]]\n",
            "Nombre: Polygonio_42.0, Area (metricos cubiertos): 904.2880992608818, Vertices: [[[-73.78155685760007, -4.2615962740072595], [-73.78155643039725, -4.261867616588732], [-73.78128614695645, -4.261867187652166], [-73.7812865742491, -4.261595845097644], [-73.78155685760007, -4.2615962740072595]]]\n",
            "Nombre: Polygonio_43.0, Area (metricos cubiertos): 1808.5757936274354, Vertices: [[[-73.78181131978631, -4.271636378125913], [-73.78181089166722, -4.27190772066247], [-73.78127031772486, -4.271906860857961], [-73.7812707460326, -4.271635518375304], [-73.78181131978631, -4.271636378125913]]]\n",
            "Nombre: Polygonio_44.0, Area (metricos cubiertos): 904.2876753720499, Vertices: [[[-73.7810115881188, -4.264580183802686], [-73.7810111604309, -4.2648515263122935], [-73.78074087599296, -4.264851096881655], [-73.78074130377968, -4.264579754398997], [-73.7810115881188, -4.264580183802686]]]\n",
            "Nombre: Polygonio_45.0, Area (metricos cubiertos): 1808.5739779155163, Vertices: [[[-73.78124284869874, -4.289272775741546], [-73.78124241860334, -4.28954411809844], [-73.78070183239898, -4.289543254350328], [-73.780702262692, -4.289271912047333], [-73.78124284869874, -4.289272775741546]]]\n",
            "Nombre: Polygonio_46.0, Area (metricos cubiertos): 904.2876943571923, Vertices: [[[-73.78075156242345, -4.258067534294198], [-73.78075113530147, -4.258338876821771], [-73.78048085316323, -4.258338447957071], [-73.78048128038401, -4.258067105456448], [-73.78075156242345, -4.258067534294198]]]\n",
            "Nombre: Polygonio_47.0, Area (metricos cubiertos): 2712.861385469037, Vertices: [[[-73.78072845823044, -4.27272002794447], [-73.78072802961726, -4.272991370373228], [-73.78018745513592, -4.272990509580574], [-73.7801883127126, -4.272447824848821], [-73.78045859974667, -4.272448255231674], [-73.7804581710706, -4.272719597633483], [-73.78072845823044, -4.27272002794447]]]\n",
            "Nombre: Polygonio_48.0, Area (metricos cubiertos): 904.2865428610244, Vertices: [[[-73.78043196972905, -4.289271480056496], [-73.78043153934621, -4.289542822332542], [-73.7801612463114, -4.28954239021594], [-73.78016167679306, -4.289271047966845], [-73.78043196972905, -4.289271480056496]]]\n",
            "Nombre: Polygonio_49.0, Area (metricos cubiertos): 1808.572526593559, Vertices: [[[-73.78016253766657, -4.288728363468654], [-73.7801621072388, -4.28899970571775], [-73.77962152164528, -4.288998841313867], [-73.77962195226169, -4.288727499118671], [-73.78016253766657, -4.288728363468654]]]\n",
            "Nombre: Polygonio_50.0, Area (metricos cubiertos): 904.2865398282278, Vertices: [[[-73.77964945430091, -4.271361594520796], [-73.77964902544518, -4.2716329368417565], [-73.77937873877943, -4.271632506252291], [-73.77937916772498, -4.2713611639582805], [-73.77964945430091, -4.271361594520796]]]\n",
            "Nombre: Polygonio_51.0, Area (metricos cubiertos): 1808.5717347167133, Vertices: [[[[-73.77934950577651, -4.290083777618726], [-73.77934907493551, -4.290355119777989], [-73.77907878173002, -4.290354687203248], [-73.77907921266983, -4.290083345070934], [-73.77934950577651, -4.290083777618726]]], [[[-73.77934950577651, -4.290083777618726], [-73.77934993659953, -4.289812435459462], [-73.77962022964333, -4.289812867890474], [-73.77961979891911, -4.290084210076687], [-73.77934950577651, -4.290083777618726]]]]\n",
            "Nombre: Polygonio_52.0, Area (metricos cubiertos): 904.2854260534396, Vertices: [[[-73.7788089195901, -4.290082912424326], [-73.77880848855148, -4.290354254529691], [-73.77853819539989, -4.29035382175732], [-73.77853862652834, -4.2900824796789045], [-73.7788089195901, -4.290082912424326]]]\n",
            "Nombre: Polygonio_53.0, Area (metricos cubiertos): 1808.5699053519302, Vertices: [[[[-73.77799804050365, -4.2900816139005995], [-73.77799760917756, -4.290352955925116], [-73.77772731610682, -4.290352522865284], [-73.77772774753171, -4.2900811808767], [-73.77799804050365, -4.2900816139005995]]], [[[-73.77799804050365, -4.2900816139005995], [-73.7779984717938, -4.289810271885067], [-73.77826876470284, -4.289810704792185], [-73.77826833350252, -4.290082046843651], [-73.77799804050365, -4.2900816139005995]]]]\n",
            "Nombre: Polygonio_54.0, Area (metricos cubiertos): 904.2797485520149, Vertices: [[[-73.77774056455944, -4.449087696616795], [-73.77774011709961, -4.449359037464519], [-73.77746976711161, -4.44935858828891], [-73.77747021467026, -4.449087247477119], [-73.77774056455944, -4.449087696616795]]]\n",
            "Nombre: Polygonio_55.0, Area (metricos cubiertos): 904.2847442405405, Vertices: [[[-73.77773033546127, -4.288453128873331], [-73.77772990420705, -4.288724470879882], [-73.77745961173818, -4.288724037891915], [-73.77746004308223, -4.288452695912314], [-73.77773033546127, -4.288453128873331]]]\n",
            "Nombre: Polygonio_56.0, Area (metricos cubiertos): 904.2845552053597, Vertices: [[[-73.77745918035819, -4.288995379862532], [-73.77745874896024, -4.289266721842133], [-73.7771884563207, -4.2892662887014525], [-73.77718888782644, -4.288994946748801], [-73.77745918035819, -4.288995379862532]]]\n",
            "Nombre: Polygonio_57.0, Area (metricos cubiertos): 1808.5689754102727, Vertices: [[[-73.77746219940722, -4.287095985996343], [-73.77746176819791, -4.287367327975945], [-73.77692118429324, -4.287366461991027], [-73.77692161570018, -4.2870951200563425], [-73.77746219940722, -4.287095985996343]]]\n",
            "Nombre: Polygonio_58.0, Area (metricos cubiertos): 904.2843050431711, Vertices: [[[-73.77718673005516, -4.290351656467142], [-73.77718629842366, -4.290622998401827], [-73.77691600533494, -4.290622565027585], [-73.77691643707425, -4.290351223119849], [-73.77718673005516, -4.290351656467142]]]\n",
            "Nombre: Polygonio_59.0, Area (metricos cubiertos): 904.2839535345141, Vertices: [[[-73.7766465759135, -4.290079447792955], [-73.77664614411131, -4.290350789682725], [-73.7763758511843, -4.290350356137802], [-73.77637628307632, -4.2900790142839655], [-73.7766465759135, -4.290079447792955]]]\n",
            "Nombre: Polygonio_60.0, Area (metricos cubiertos): 904.2812200544572, Vertices: [[[-73.77650787421005, -4.376366066843682], [-73.7765074336403, -4.376637408095647], [-73.77623711008074, -4.376636965801134], [-73.77623755074032, -4.376365624576118], [-73.77650787421005, -4.376366066843682]]]\n",
            "Nombre: Polygonio_61.0, Area (metricos cubiertos): 904.2838070126986, Vertices: [[[-73.77637887386251, -4.288450963107047], [-73.77637844213218, -4.288722304978849], [-73.77610814980704, -4.288721871505793], [-73.7761085816272, -4.288450529669922], [-73.77637887386251, -4.288450963107047]]]\n",
            "Nombre: Polygonio_62.0, Area (metricos cubiertos): 904.2862731689474, Vertices: [[[-73.7762415414341, -4.2040631225136575], [-73.77624111818388, -4.204334464960382], [-73.77597085522466, -4.204334039958439], [-73.7759712785737, -4.204062697538663], [-73.7762415414341, -4.2040631225136575]]]\n",
            "Nombre: Polygonio_63.0, Area (metricos cubiertos): 904.282697852657, Vertices: [[[-73.77527909941935, -4.300116922569722], [-73.77527866612596, -4.300388264243896], [-73.77500836980332, -4.30038782920777], [-73.77500880319552, -4.300116487569529], [-73.77527909941935, -4.300116922569722]]]\n",
            "Nombre: Polygonio_64.0, Area (metricos cubiertos): 1808.563388182093, Vertices: [[[-73.77340436236736, -4.289260214697744], [-73.77340392951413, -4.2895315562551355], [-73.77286334490877, -4.289530686955436], [-73.77286377795961, -4.289259345451942], [-73.77340436236736, -4.289260214697744]]]\n",
            "Nombre: Polygonio_65.0, Area (metricos cubiertos): 14468.434167265501, Vertices: [[[[-73.7723631740887, -4.431170230952997], [-73.77209283126925, -4.431169781642641], [-73.77209327895366, -4.430898441244075], [-73.77236362168327, -4.430898890518498], [-73.7723631740887, -4.431170230952997]]], [[[-73.7723631740887, -4.431170230952997], [-73.77263351694407, -4.431170680155555], [-73.77263396443085, -4.430899339694107], [-73.77290430720538, -4.4308997887709], [-73.77290475457536, -4.430628448282503], [-73.77344544001663, -4.430629346085747], [-73.77344365118343, -4.431714708254932], [-73.77317330804958, -4.431714259285937], [-73.77317286067958, -4.431985599801283], [-73.77263217430408, -4.431984701521932], [-73.77263262188069, -4.431713361069467], [-73.77236227882769, -4.431712911804028], [-73.7723631740887, -4.431170230952997]]]]\n",
            "Nombre: Polygonio_66.0, Area (metricos cubiertos): 2712.8439649165, Vertices: [[[-73.77312930611457, -4.292244536855819], [-73.7731288728571, -4.292515878368295], [-73.7723179929352, -4.292514573071272], [-73.77231842648013, -4.2922432316486265], [-73.77312930611457, -4.292244536855819]]]\n",
            "Nombre: Polygonio_67.0, Area (metricos cubiertos): 1808.5531699810044, Vertices: [[[-73.77236183116125, -4.431984252229543], [-73.77236138345887, -4.432255592655058], [-73.77182069705643, -4.43225469372892], [-73.77182114494744, -4.431983353357303], [-73.77236183116125, -4.431984252229543]]]\n",
            "Nombre: Polygonio_68.0, Area (metricos cubiertos): 1808.5520916001922, Vertices: [[[-73.77155214571121, -4.431168882743452], [-73.77155169779324, -4.431440223088119], [-73.77101101214538, -4.431439323730789], [-73.77101146026098, -4.431167983440021], [-73.77155214571121, -4.431168882743452]]]\n",
            "Nombre: Polygonio_69.0, Area (metricos cubiertos): 904.2802415164907, Vertices: [[[-73.77123768792174, -4.291970148707056], [-73.77123725402647, -4.292241490030886], [-73.77096696097371, -4.292241054383906], [-73.77096739497676, -4.291969713096008], [-73.77123768792174, -4.291970148707056]]]\n",
            "Nombre: Polygonio_70.0, Area (metricos cubiertos): 904.2794606373398, Vertices: [[[-73.7701547789977, -4.293053770489192], [-73.77015434459938, -4.293325111687259], [-73.76988405128608, -4.293324675546206], [-73.76988448577424, -4.293053334375088], [-73.7701547789977, -4.293053770489192]]]\n",
            "Nombre: Polygonio_71.0, Area (metricos cubiertos): 904.278883947925, Vertices: [[[-73.76934303002763, -4.293595144093856], [-73.76934259529693, -4.2938664852110735], [-73.76907230187585, -4.29386604872866], [-73.76907273670537, -4.293594707647375], [-73.76934303002763, -4.293595144093856]]]\n",
            "Nombre: Polygonio_72.0, Area (metricos cubiertos): 904.2781702495058, Vertices: [[[-73.76826185688228, -4.293593397706061], [-73.7682614217653, -4.293864738715481], [-73.76799112845202, -4.293864301846792], [-73.7679915636678, -4.293592960873305], [-73.76826185688228, -4.293593397706061]]]\n",
            "Nombre: Polygonio_73.0, Area (metricos cubiertos): 904.2743636545852, Vertices: [[[-73.76806861948201, -4.4124405662272395], [-73.76806817220185, -4.412711906356312], [-73.76779783651503, -4.412711457351382], [-73.76779828388503, -4.412440117249261], [-73.76806861948201, -4.4124405662272395]]]\n",
            "Nombre: Polygonio_74.0, Area (metricos cubiertos): 904.2770122440805, Vertices: [[[-73.76768198168217, -4.318013201224999], [-73.76768154387025, -4.318284541991875], [-73.767411242005, -4.3182841024372225], [-73.76741167990676, -4.318012761697297], [-73.76768198168217, -4.318013201224999]]]\n",
            "Nombre: Polygonio_75.0, Area (metricos cubiertos): 904.277672497469, Vertices: [[[-73.76745271864101, -4.292506723215027], [-73.76745228335335, -4.292778064143598], [-73.7671819904982, -4.29277762710423], [-73.76718242588467, -4.292506286202607], [-73.76745271864101, -4.292506723215027]]]\n",
            "Nombre: Polygonio_76.0, Area (metricos cubiertos): 904.2774152276547, Vertices: [[[-73.76717981315264, -4.2941343315674265], [-73.76717937760446, -4.294405672460066], [-73.76690908421034, -4.294405235151202], [-73.76690951985731, -4.294133894294495], [-73.76717981315264, -4.2941343315674265]]]\n",
            "Nombre: Polygonio_77.0, Area (metricos cubiertos): 3617.117452315544, Vertices: [[[-73.76728397151625, -4.228741120575125], [-73.76728311376888, -4.229283803294652], [-73.7667425724713, -4.229282941900126], [-73.76674343059597, -4.22874025929738], [-73.76728397151625, -4.228741120575125]]]\n",
            "Nombre: Polygonio_78.0, Area (metricos cubiertos): 904.2775065508515, Vertices: [[[-73.76666184697628, -4.280023730963647], [-73.76666141267677, -4.280295071901201], [-73.76639112429524, -4.280294635849979], [-73.76639155868457, -4.280023294939374], [-73.76666184697628, -4.280023730963647]]]\n",
            "Nombre: Polygonio_79.0, Area (metricos cubiertos): 904.2799799161946, Vertices: [[[-73.7662656851839, -4.1888522131847195], [-73.76626526003822, -4.189123554715163], [-73.7659950033223, -4.1891231277998076], [-73.76599542856678, -4.188851786287331], [-73.7662656851839, -4.1888522131847195]]]\n",
            "Nombre: Polygonio_80.0, Area (metricos cubiertos): 904.2767072033896, Vertices: [[[-73.76609907604053, -4.293861241115939], [-73.76609864013305, -4.294132581891798], [-73.76582834694553, -4.2941321442415745], [-73.76582878294285, -4.293860803483683], [-73.76609907604053, -4.293861241115939]]]\n",
            "Nombre: Polygonio_81.0, Area (metricos cubiertos): 904.2763110718416, Vertices: [[[-73.76555892595027, -4.293589025039634], [-73.76555848988109, -4.293860365761594], [-73.76528819684627, -4.293859927940691], [-73.76528863301428, -4.293588587245681], [-73.76555892595027, -4.293589025039634]]]\n",
            "Nombre: Polygonio_82.0, Area (metricos cubiertos): 8138.472730091501, Vertices: [[[-73.76366207030985, -4.2965707041834635], [-73.76366119619519, -4.297113385205175], [-73.76339090220816, -4.297112946378158], [-73.76339046500709, -4.297384286848589], [-73.76284987693423, -4.297383408853197], [-73.76285118900455, -4.296569387585634], [-73.76312148274903, -4.2965698265473975], [-73.7631219199501, -4.2962984860949325], [-73.76339221362271, -4.296298924930932], [-73.76339177651148, -4.29657026541933], [-73.76366207030985, -4.2965707041834635]]]\n",
            "Nombre: Polygonio_83.0, Area (metricos cubiertos): 904.2745942792541, Vertices: [[[-73.7628625498183, -4.2895145358484985], [-73.7628621132191, -4.28978587631893], [-73.76259182189108, -4.289785437959037], [-73.7625922585891, -4.289514097515555], [-73.7628625498183, -4.2895145358484985]]]\n",
            "Nombre: Polygonio_84.0, Area (metricos cubiertos): 904.2744669758663, Vertices: [[[-73.76259400512062, -4.288428735696713], [-73.7625935685304, -4.288700076158161], [-73.76232327761562, -4.288699637807252], [-73.76232371429566, -4.288428297381737], [-73.76259400512062, -4.288428735696713]]]\n",
            "Nombre: Polygonio_85.0, Area (metricos cubiertos): 904.272187873262, Vertices: [[[-73.76221766659533, -4.353821283408941], [-73.76221722318691, -4.354092623358349], [-73.76194690915848, -4.354092178207193], [-73.76194735265673, -4.353820838284734], [-73.76221766659533, -4.353821283408941]]]\n",
            "Nombre: Polygonio_86.0, Area (metricos cubiertos): 904.2682562416564, Vertices: [[[-73.76149418679475, -4.4642555636629675], [-73.76149373182501, -4.464526902732027], [-73.7612233779563, -4.464526446046503], [-73.76122383301586, -4.464255107004393], [-73.76149418679475, -4.4642555636629675]]]\n",
            "Nombre: Polygonio_87.0, Area (metricos cubiertos): 904.2690179985584, Vertices: [[[-73.75605505211416, -4.320436270824742], [-73.75605460993643, -4.320707610378891], [-73.75578430839457, -4.320707166431478], [-73.7557847506801, -4.320435826904278], [-73.75605505211416, -4.320436270824742]]]\n",
            "Nombre: Polygonio_88.0, Area (metricos cubiertos): 24415.35793485911, Vertices: [[[-73.7560032367406, -4.184223137302968], [-73.75600280853168, -4.1844944778093325], [-73.7557325544568, -4.1844940478217385], [-73.75573212613108, -4.18476538829217], [-73.75546187199332, -4.184764958178811], [-73.75546230041785, -4.184493617726346], [-73.75438128454056, -4.184491896446464], [-73.75438171330644, -4.18422055611078], [-73.75411145950106, -4.184220125584197], [-73.75411231714062, -4.183677444957746], [-73.75438257076634, -4.18367787543043], [-73.75438299945138, -4.183406535085763], [-73.75465325300523, -4.183406965432683], [-73.75465368157349, -4.183135625061066], [-73.75492393506447, -4.183136055291206], [-73.75492436350696, -4.182864714883657], [-73.75519461693504, -4.182865144988031], [-73.75519418858238, -4.18313648542253], [-73.75546444212725, -4.183136915464022], [-73.75546401384646, -4.183408255916487], [-73.7557342675081, -4.183408685895098], [-73.7557338392902, -4.183680026383495], [-73.75546358552972, -4.183679596377935], [-73.75546315718606, -4.1839509368304], [-73.75573341104533, -4.183951366862909], [-73.75573298276454, -4.184222707342324], [-73.7560032367406, -4.184223137302968]]]\n",
            "Nombre: Polygonio_89.0, Area (metricos cubiertos): 904.2708403544065, Vertices: [[[-73.75562721046971, -4.2507010666418905], [-73.75562677529884, -4.2509724066451975], [-73.75535649829895, -4.2509719697046435], [-73.75535693355967, -4.250700629728286], [-73.75562721046971, -4.2507010666418905]]]\n",
            "Nombre: Polygonio_90.0, Area (metricos cubiertos): 904.2723017167799, Vertices: [[[-73.75492050650045, -4.1853067784438], [-73.75492007780643, -4.185578118833383], [-73.75464982348002, -4.1855776883517155], [-73.75465025226387, -4.185306347998065], [-73.75492050650045, -4.1853067784438]]]\n",
            "Nombre: Polygonio_91.0, Area (metricos cubiertos): 904.2693799852387, Vertices: [[[-73.75477006556795, -4.279461776156324], [-73.7547696271362, -4.27973311587217], [-73.754499340174, -4.279732675670731], [-73.75449977869559, -4.279461335990818], [-73.75477006556795, -4.279461776156324]]]\n",
            "Nombre: Polygonio_92.0, Area (metricos cubiertos): 904.269322184885, Vertices: [[[-73.75476743457317, -4.281089814397503], [-73.75476699597971, -4.281361154095382], [-73.75449670844259, -4.281360713732247], [-73.75449714713486, -4.281089374061317], [-73.75476743457317, -4.281089814397503]]]\n",
            "Nombre: Polygonio_93.0, Area (metricos cubiertos): 7234.111813464808, Vertices: [[[[-73.75214960936643, -4.39396288686182], [-73.75215006049137, -4.393691548241917], [-73.75187973329363, -4.3936910954011825], [-73.75187928207886, -4.393962433994135], [-73.75133862758456, -4.39396152795334], [-73.75133953038244, -4.393418850875233], [-73.75242083870627, -4.393420662336987], [-73.75241993668993, -4.393963339639672], [-73.75214960936643, -4.39396288686182]]], [[[-73.75187928207886, -4.393962433994135], [-73.75214960936643, -4.39396288686182], [-73.75214915821452, -4.394234225481721], [-73.75187883082813, -4.3942337725870875], [-73.75187928207886, -4.393962433994135]]]]\n",
            "Nombre: Polygonio_94.0, Area (metricos cubiertos): 904.2629914344982, Vertices: [[[-73.75079119566077, -4.3980306984801905], [-73.75079074359259, -4.398302036929412], [-73.75052041488568, -4.398301583118497], [-73.75052086704369, -4.3980302446962245], [-73.75079119566077, -4.3980306984801905]]]\n",
            "Nombre: Polygonio_95.0, Area (metricos cubiertos): 904.2674957807523, Vertices: [[[-73.75076266728738, -4.250421848144047], [-73.75076223044563, -4.2506931876442975], [-73.75049195404762, -4.2506927490238935], [-73.75049239097919, -4.250421409550593], [-73.75076266728738, -4.250421848144047]]]\n",
            "Nombre: Polygonio_96.0, Area (metricos cubiertos): 904.2673989296211, Vertices: [[[-73.74945400629763, -4.22382838750293], [-73.7494535717376, -4.22409972705708], [-73.74918330470902, -4.224099290718398], [-73.74918373935887, -4.223827951191197], [-73.74945400629763, -4.22382838750293]]]\n",
            "Nombre: Polygonio_97.0, Area (metricos cubiertos): 1808.5289938123067, Vertices: [[[-73.74852300608138, -4.298174019027326], [-73.7485221209354, -4.298716696886967], [-73.74825182794551, -4.2987162525263285], [-73.74825271328912, -4.298173574720586], [-73.74852300608138, -4.298174019027326]]]\n",
            "Nombre: Polygonio_98.0, Area (metricos cubiertos): 904.2607990773931, Vertices: [[[-73.74754951988209, -4.396668556002539], [-73.74754906678085, -4.3969398941283675], [-73.74727873890038, -4.396939439275406], [-73.74727919209145, -4.396668101185511], [-73.74754951988209, -4.396668556002539]]]\n",
            "Nombre: Polygonio_99.0, Area (metricos cubiertos): 1808.5252138937371, Vertices: [[[-73.74451507898955, -4.269676790146796], [-73.7445141969158, -4.270219467575245], [-73.74424391434637, -4.270219024741743], [-73.74424479660875, -4.2696763473671915], [-73.74451507898955, -4.269676790146796]]]\n",
            "Nombre: Polygonio_100.0, Area (metricos cubiertos): 904.2616377100924, Vertices: [[[-73.74316234279819, -4.270488591003555], [-73.74316190121334, -4.270759929569557], [-73.74289161859899, -4.270759486206049], [-73.74289206027366, -4.270488147666996], [-73.74316234279819, -4.270488591003555]]]\n",
            "Nombre: Polygonio_101.0, Area (metricos cubiertos): 904.255377867197, Vertices: [[[-73.74205508029526, -4.448756214495048], [-73.74205461980088, -4.449027551668662], [-73.74178427360377, -4.449027089422566], [-73.74178473419697, -4.448755752284884], [-73.74205508029526, -4.448756214495048]]]\n",
            "Nombre: Polygonio_102.0, Area (metricos cubiertos): 904.2538167468605, Vertices: [[[-73.73572205077836, -4.356761908511222], [-73.7357215975783, -4.357033245684836], [-73.7354512852387, -4.3570327906971285], [-73.73545173854656, -4.356761453559447], [-73.73572205077836, -4.356761908511222]]]\n",
            "Nombre: Polygonio_103.0, Area (metricos cubiertos): 904.2458644370771, Vertices: [[[-73.72983634595407, -4.4796675943215165], [-73.72983587775214, -4.479938929976978], [-73.72956552152085, -4.47993846000537], [-73.72956598983058, -4.479667124385842], [-73.72983634595407, -4.4796675943215165]]]\n",
            "Nombre: Polygonio_104.0, Area (metricos cubiertos): 904.2540813542005, Vertices: [[[-73.72870466392693, -4.186078602887011], [-73.728704226124, -4.186349940518765], [-73.72843397426796, -4.1863495009012315], [-73.72843441216074, -4.186078163287443], [-73.72870466392693, -4.186078602887011]]]\n",
            "Nombre: Polygonio_105.0, Area (metricos cubiertos): 1808.5071828920638, Vertices: [[[[-73.72789347063674, -4.186348621378703], [-73.72789303252837, -4.186619958920627], [-73.72762278066335, -4.186619518988683], [-73.72762321886155, -4.186348181473709], [-73.72789347063674, -4.186348621378703]]], [[[-73.72789347063674, -4.186348621378703], [-73.72789390871816, -4.186077283827797], [-73.72816416042147, -4.186077723607027], [-73.72816372243888, -4.186349061184883], [-73.72789347063674, -4.186348621378703]]]]\n",
            "Nombre: Polygonio_106.0, Area (metricos cubiertos): 4521.231215852469, Vertices: [[[[-73.72646265540514, -4.397446793060422], [-73.72592200371359, -4.397445867849578], [-73.7259224646751, -4.397174532005471], [-73.72646311617801, -4.397175457162416], [-73.72646265540514, -4.397446793060422]]], [[[-73.72646265540514, -4.397446793060422], [-73.72673298129135, -4.397447255522113], [-73.7267334419654, -4.397175919597157], [-73.7270037677887, -4.397176381933085], [-73.72700284660232, -4.397719053845878], [-73.72646219459635, -4.397718128967411], [-73.72646265540514, -4.397446793060422]]]]\n",
            "Nombre: Polygonio_107.0, Area (metricos cubiertos): 2712.7574654951327, Vertices: [[[-73.72627897520813, -4.182004582284075], [-73.72627766049676, -4.182818594496621], [-73.72600741010498, -4.182818154402979], [-73.72600872509483, -4.182004142271283], [-73.72627897520813, -4.182004582284075]]]\n",
            "Nombre: Polygonio_108.0, Area (metricos cubiertos): 904.2524493663306, Vertices: [[[-73.7262767838758, -4.183361269293006], [-73.7262763455249, -4.183632606691199], [-73.72600609485463, -4.18363216651671], [-73.72600653330436, -4.1833608291454665], [-73.7262767838758, -4.183361269293006]]]\n",
            "Nombre: Polygonio_109.0, Area (metricos cubiertos): 1808.4913752007606, Vertices: [[[-73.72592154270717, -4.397717203693686], [-73.72592062063146, -4.398259875363935], [-73.72565029452966, -4.398259412524951], [-73.725651216812, -4.397716740908601], [-73.72592154270717, -4.397717203693686]]]\n",
            "Nombre: Polygonio_110.0, Area (metricos cubiertos): 4521.255087714559, Vertices: [[[-73.72465571972329, -4.183087289787866], [-73.72465528084238, -4.183358627015379], [-73.72411478005881, -4.183357745507574], [-73.7241143409623, -4.183629082672205], [-73.72357384010687, -4.183628200733208], [-73.72357427939203, -4.1833568636224765], [-73.72384452971194, -4.183357304614432], [-73.72384496887133, -4.183085967467767], [-73.72465571972329, -4.183087289787866]]]\n",
            "Nombre: Polygonio_111.0, Area (metricos cubiertos): 82286.82175115084, Vertices: [[[-73.72519402666822, -4.184444857271539], [-73.72519227114456, -4.185530206352271], [-73.7249220199353, -4.18552976560286], [-73.72492114181415, -4.1860724400848355], [-73.7246508904522, -4.186071999182711], [-73.7246500120256, -4.186614673592821], [-73.72437976051093, -4.186614232537982], [-73.7243780029481, -4.187699581223455], [-73.72464825484006, -4.187700022395075], [-73.72464781547406, -4.187971359586655], [-73.72410731152843, -4.187970477099686], [-73.72410687193783, -4.188241814237368], [-73.72356636792932, -4.188240931328191], [-73.72356812683064, -4.187155583002044], [-73.72302762367552, -4.187154699940153], [-73.72302982259863, -4.185798014781752], [-73.72248932048555, -4.1857971316390135], [-73.72249020022367, -4.18525445767806], [-73.72221994940071, -4.185254016021351], [-73.72222038931469, -4.184982679063332], [-73.72249064004782, -4.184983120693093], [-73.72249107984503, -4.184711783708125], [-73.72276133051528, -4.184712225212121], [-73.72276177018672, -4.1844408881912205], [-73.72411302350208, -4.184443094166097], [-73.72411346268844, -4.184171757001466], [-73.72465396402895, -4.184172638679952], [-73.72465352503126, -4.184443975907464], [-73.72519402666822, -4.184444857271539]], [[-73.72303070195946, -4.1852553407040185], [-73.72303026229702, -4.185526677742885], [-73.72276001131233, -4.185526236247873], [-73.72276045108259, -4.1852548992359555], [-73.72303070195946, -4.1852553407040185]]]\n",
            "Nombre: Polygonio_112.0, Area (metricos cubiertos): 1808.4928170672958, Vertices: [[[-73.71763142699227, -4.181719119390079], [-73.71763054465802, -4.182261792371869], [-73.71736029537117, -4.18226134934972], [-73.71736117789406, -4.181718676430813], [-73.71763142699227, -4.181719119390079]]]\n",
            "Nombre: Polygonio_113.0, Area (metricos cubiertos): 6329.679976153514, Vertices: [[[[-73.7175488741443, -4.393361452337435], [-73.71754841055073, -4.393632787319159], [-73.71727808700913, -4.393632321919977], [-73.71727762328082, -4.393903656874752], [-73.71700729967634, -4.393903191349805], [-73.71700822728569, -4.39336052151212], [-73.7175488741443, -4.393361452337435]]], [[[-73.7175488741443, -4.393361452337435], [-73.71754933771092, -4.39309011735571], [-73.71727901435797, -4.39308965201941], [-73.71727947799646, -4.392818317064634], [-73.71782012452269, -4.392819247575538], [-73.71781966108183, -4.393090582593196], [-73.71808998448869, -4.3930910477318665], [-73.7180895211197, -4.39336238276749], [-73.7175488741443, -4.393361452337435]]]]\n",
            "Nombre: Polygonio_114.0, Area (metricos cubiertos): 904.2458417888861, Vertices: [[[-73.71682067978747, -4.181717790233802], [-73.71682023835535, -4.181989126634865], [-73.71654998924815, -4.181988683370172], [-73.71655043077011, -4.181717346996058], [-73.71682067978747, -4.181717790233802]]]\n",
            "Nombre: Polygonio_115.0, Area (metricos cubiertos): 904.2445637588917, Vertices: [[[-73.71675325052647, -4.2229609013124], [-73.71675280470157, -4.223232237426003], [-73.716482541401, -4.223231789768547], [-73.71648298732471, -4.222960453690877], [-73.71675325052647, -4.2229609013124]]]\n",
            "Nombre: Polygonio_116.0, Area (metricos cubiertos): 9946.691999591056, Vertices: [[[[-73.7154698768784, -4.181444236844517], [-73.71438888194982, -4.1814424615669035], [-73.71438976634121, -4.180899789276817], [-73.71520051193804, -4.180901120696849], [-73.71520095381034, -4.180629784457483], [-73.71547120230667, -4.18063022804557], [-73.7154707605242, -4.180901564311886], [-73.7157410091463, -4.180902007837091], [-73.7157405674267, -4.1811733441303565], [-73.71547031871478, -4.1811729005782015], [-73.7154698768784, -4.181444236844517]]], [[[-73.7154698768784, -4.181444236844517], [-73.71574012568017, -4.181444680423621], [-73.71573968390668, -4.181716016716886], [-73.7154694350061, -4.181715573101849], [-73.7154698768784, -4.181444236844517]]]]\n",
            "Nombre: Polygonio_117.0, Area (metricos cubiertos): 904.2343321245891, Vertices: [[[-73.71100969208541, -4.423197015906152], [-73.71100922294924, -4.423468349962612], [-73.71073888932854, -4.423467879029808], [-73.71073935856353, -4.423196545000297], [-73.71100969208541, -4.423197015906152]]]\n",
            "Nombre: Polygonio_118.0, Area (metricos cubiertos): 904.23640005872, Vertices: [[[-73.7105979105306, -4.348036476665655], [-73.71059744925468, -4.348307811234155], [-73.71032714269124, -4.34830734813466], [-73.71032760406597, -4.348036013602092], [-73.7105979105306, -4.348036476665655]]]\n",
            "Nombre: Polygonio_119.0, Area (metricos cubiertos): 904.2343624066548, Vertices: [[[-73.71048964684816, -4.411257375753933], [-73.71048917879895, -4.411528709846325], [-73.71021884955304, -4.411528239991499], [-73.71021931770107, -4.411256905926056], [-73.71048964684816, -4.411257375753933]]]\n",
            "Nombre: Polygonio_120.0, Area (metricos cubiertos): 904.2386318174896, Vertices: [[[-73.71019578523627, -4.2658211036183955], [-73.7101953325752, -4.2660924387258845], [-73.70992505506327, -4.266091984223266], [-73.70992550783214, -4.265820649142727], [-73.71019578523627, -4.2658211036183955]]]\n",
            "Nombre: Polygonio_121.0, Area (metricos cubiertos): 904.2333783472767, Vertices: [[[-73.70991661123198, -4.429978479759611], [-73.70991614098189, -4.430249813654374], [-73.70964580500761, -4.4302493415986754], [-73.7096462753655, -4.4299780077308615], [-73.70991661123198, -4.429978479759611]]]\n",
            "Nombre: Polygonio_122.0, Area (metricos cubiertos): 904.2343513702001, Vertices: [[[-73.70944897369044, -4.387649431967338], [-73.70944850777921, -4.387920766122612], [-73.70917818715715, -4.387920298396793], [-73.70917865316719, -4.387648964277451], [-73.70944897369044, -4.387649431967338]]]\n",
            "Nombre: Polygonio_123.0, Area (metricos cubiertos): 904.231387111651, Vertices: [[[-73.70928888640587, -4.479902927413802], [-73.70928841059522, -4.480174260877374], [-73.709018056457, -4.480173783288053], [-73.70901853236647, -4.479902449851431], [-73.70928888640587, -4.479902927413802]]]\n",
            "Nombre: Polygonio_124.0, Area (metricos cubiertos): 904.239508561579, Vertices: [[[-73.70946242812676, -4.219150087536871], [-73.70946198018184, -4.219421422895888], [-73.70919171897434, -4.2194209731004415], [-73.70919216701807, -4.219149637777357], [-73.70946242812676, -4.219150087536871]]]\n",
            "Nombre: Polygonio_125.0, Area (metricos cubiertos): 904.2381057386445, Vertices: [[[-73.70938812293599, -4.263920394726428], [-73.70938767019406, -4.264191729762052], [-73.70911739343673, -4.264191275178586], [-73.70911784627746, -4.263919940178894], [-73.70938812293599, -4.263920394726428]]]\n",
            "Nombre: Polygonio_126.0, Area (metricos cubiertos): 904.2340801631792, Vertices: [[[-73.70787448078941, -4.35997054776617], [-73.70787401725872, -4.360241881948394], [-73.70760370673372, -4.3602414166031105], [-73.70760417035423, -4.359970082447836], [-73.70787448078941, -4.35997054776617]]]\n",
            "Nombre: Polygonio_127.0, Area (metricos cubiertos): 904.2325830387372, Vertices: [[[-73.70779432576053, -4.406639998075171], [-73.70779385722622, -4.406911331916035], [-73.70752352993865, -4.406910861567136], [-73.70752399857177, -4.406639527762204], [-73.70779432576053, -4.406639998075171]]]\n",
            "Nombre: Polygonio_128.0, Area (metricos cubiertos): 1808.4629350178536, Vertices: [[[-73.70747981949796, -4.4321448969906045], [-73.70747934812498, -4.43241623060689], [-73.70693867516133, -4.43241528415089], [-73.70693914673194, -4.432143950597487], [-73.70747981949796, -4.4321448969906045]]]\n",
            "Nombre: Polygonio_129.0, Area (metricos cubiertos): 904.2311488422085, Vertices: [[[-73.70537685653674, -4.397681752516431], [-73.7053763880743, -4.397953086159666], [-73.70510606428118, -4.397952615891615], [-73.70510653283345, -4.39768128227533], [-73.70537685653674, -4.397681752516431]]]\n",
            "Nombre: Polygonio_130.0, Area (metricos cubiertos): 6329.6206040982215, Vertices: [[[-73.70540024210904, -4.384115067749569], [-73.70539884102466, -4.384929068984701], [-73.70485820283479, -4.384928131143544], [-73.70486007165397, -4.383842796399924], [-73.70513039035364, -4.383843265248638], [-73.7051299232836, -4.384114598972721], [-73.70540024210904, -4.384115067749569]]]\n",
            "Nombre: Polygonio_131.0, Area (metricos cubiertos): 904.2301991876443, Vertices: [[[-73.70376663132171, -4.3908955922257515], [-73.70376616301199, -4.391166925743223], [-73.70349584183296, -4.391166455609919], [-73.70349631024149, -4.390895122119397], [-73.70376663132171, -4.3908955922257515]]]\n",
            "Nombre: Polygonio_132.0, Area (metricos cubiertos): 904.2252536071001, Vertices: [[[-73.69778089914443, -4.41313451654492], [-73.69778042628025, -4.41340584926289], [-73.69751009771707, -4.413405374575128], [-73.69751057068007, -4.41313404189309], [-73.69778089914443, -4.41313451654492]]]\n",
            "Nombre: Polygonio_133.0, Area (metricos cubiertos): 904.2265634808525, Vertices: [[[-73.69733332999328, -4.359409662232513], [-73.69733286274356, -4.35968099528286], [-73.69706255354807, -4.359680526200584], [-73.69706302089659, -4.3594091931771874], [-73.69733332999328, -4.359409662232513]]]\n",
            "Nombre: Polygonio_134.0, Area (metricos cubiertos): 904.2225454710536, Vertices: [[[-73.69607801924757, -4.459258168732074], [-73.69607754079587, -4.459529500920038], [-73.69580719564979, -4.459529020653737], [-73.69580767420031, -4.459257688501706], [-73.69607801924757, -4.459258168732074]]]\n",
            "Nombre: Polygonio_135.0, Area (metricos cubiertos): 904.2274361380234, Vertices: [[[-73.69582152238618, -4.295100898663927], [-73.69582106152349, -4.295372232010718], [-73.69555077529792, -4.295371769297498], [-73.69555123625942, -4.295100435977656], [-73.69582152238618, -4.295100898663927]]]\n",
            "Nombre: Polygonio_136.0, Area (metricos cubiertos): 904.2255661571651, Vertices: [[[-73.69546032656402, -4.348281728407335], [-73.69545985983532, -4.348553061340901], [-73.69518955481699, -4.348552592779649], [-73.69519002163551, -4.3482812598820155], [-73.69546032656402, -4.348281728407335]]]\n",
            "Nombre: Polygonio_137.0, Area (metricos cubiertos): 904.223671589997, Vertices: [[[-73.69457950289782, -4.388708893604824], [-73.69457903150688, -4.388980226143131], [-73.6943087121065, -4.388979752919623], [-73.69430918359627, -4.388708420408265], [-73.69457950289782, -4.388708893604824]]]\n",
            "Nombre: Polygonio_138.0, Area (metricos cubiertos): 1808.451872625711, Vertices: [[[-73.69418225076627, -4.305408780256117], [-73.6941813256273, -4.305951446446643], [-73.69391103585338, -4.305950982008658], [-73.693911961181, -4.305408315881015], [-73.69418225076627, -4.305408780256117]]]\n",
            "Nombre: Polygonio_139.0, Area (metricos cubiertos): 904.2251314359554, Vertices: [[[-73.69283913267496, -4.300522464004365], [-73.69283867016836, -4.3007937969828465], [-73.69256838235276, -4.300793332634693], [-73.69256884495817, -4.300521999674178], [-73.69283913267496, -4.300522464004365]]]\n",
            "Nombre: Polygonio_140.0, Area (metricos cubiertos): 13563.377531760407, Vertices: [[[-73.69364074609742, -4.305950517480841], [-73.69363982046436, -4.306493183545602], [-73.6933695305467, -4.306492718865072], [-73.69336906759094, -4.30676405186152], [-73.6930987776104, -4.306763587055226], [-73.693097388267, -4.307577585954738], [-73.69255680782982, -4.3075766558750255], [-73.69255773446898, -4.307033990061792], [-73.69282802448545, -4.307034455092666], [-73.69282848766579, -4.306763122150117], [-73.69255819773916, -4.3067626571551765], [-73.69255958739697, -4.3059486584083775], [-73.69282987702717, -4.30594912332247], [-73.69282941393665, -4.306220456265018], [-73.69309970369261, -4.306220921116228], [-73.6931001666843, -4.3059495881377465], [-73.69364074609742, -4.305950517480841]]]\n",
            "Nombre: Polygonio_141.0, Area (metricos cubiertos): 904.2207176117164, Vertices: [[[-73.69078273394938, -4.3957568946548555], [-73.69078226042045, -4.396028226726039], [-73.69051193889108, -4.3960277513645405], [-73.69051241251883, -4.395756419320306], [-73.69078273394938, -4.3957568946548555]]]\n",
            "Nombre: Polygonio_142.0, Area (metricos cubiertos): 904.2119433790696, Vertices: [[[-73.68043717671773, -4.43725237531222], [-73.6804366949243, -4.4375237059550825], [-73.68016635950697, -4.437523222329083], [-73.68016684139023, -4.437251891713171], [-73.68043717671773, -4.43725237531222]]]\n",
            "Nombre: Polygonio_143.0, Area (metricos cubiertos): 4521.077968295802, Vertices: [[[-73.67960254008457, -4.296158294427788], [-73.67960160663618, -4.296700957564042], [-73.67906103679911, -4.296700020243907], [-73.67906243749722, -4.295886025719191], [-73.67933272211482, -4.295886494334342], [-73.67933225534121, -4.296157825875519], [-73.67960254008457, -4.296158294427788]]]\n",
            "Nombre: Polygonio_144.0, Area (metricos cubiertos): 904.2100821419965, Vertices: [[[-73.67644232386823, -4.403328820361606], [-73.67644184432956, -4.403600150806839], [-73.67617152163238, -4.403599669417645], [-73.67617200126986, -4.403328338999362], [-73.67644232386823, -4.403328820361606]]]\n",
            "Nombre: Polygonio_145.0, Area (metricos cubiertos): 904.2069797952291, Vertices: [[[-73.67160198790226, -4.388939652475683], [-73.67160150818394, -4.389210982489724], [-73.67133119120902, -4.389210500911883], [-73.67133167101719, -4.388939170924791], [-73.67160198790226, -4.388939652475683]]]\n",
            "Nombre: Polygonio_146.0, Area (metricos cubiertos): 904.2045652554664, Vertices: [[[-73.6688742669449, -4.402772645826862], [-73.66887378472028, -4.4030439754456445], [-73.66860346306514, -4.403043491361504], [-73.6686039453796, -4.402772161769671], [-73.6688742669449, -4.402772645826862]]]\n",
            "Nombre: Polygonio_147.0, Area (metricos cubiertos): 904.2026779112437, Vertices: [[[-73.66695541215606, -4.417692369858696], [-73.66695492759581, -4.417963699154085], [-73.66668460075739, -4.417963212734326], [-73.66668508541646, -4.417691883465886], [-73.66695541215606, -4.417692369858696]]]\n",
            "Nombre: Polygonio_148.0, Area (metricos cubiertos): 3616.809699846001, Vertices: [[[-73.66694620039095, -4.422847626156677], [-73.66694523010266, -4.423390284675589], [-73.66667490129693, -4.423389797653958], [-73.66667441600006, -4.423661126877482], [-73.66640408713145, -4.423660639730087], [-73.66640505786891, -4.423117981336938], [-73.66667538654887, -4.4231184684214515], [-73.66667587178286, -4.422847139197928], [-73.66694620039095, -4.422847626156677]]]\n",
            "Nombre: Polygonio_149.0, Area (metricos cubiertos): 31647.038153231693, Vertices: [[[[-73.6636978811755, -4.4252837361322745], [-73.66315722293523, -4.4252827592054205], [-73.66315819640356, -4.424740101557873], [-73.6634285253081, -4.424740590007826], [-73.66342803869071, -4.42501191886304], [-73.66369836772999, -4.425012407250111], [-73.6636978811755, -4.4252837361322745]]], [[[-73.6636978811755, -4.4252837361322745], [-73.66531985661496, -4.42528666455027], [-73.66532034257656, -4.4250153354884425], [-73.66559067182247, -4.42501582318381], [-73.66559115765833, -4.424744494086051], [-73.66613181604232, -4.42474546911746], [-73.66613230164462, -4.424474139956819], [-73.66640263078271, -4.424474627301843], [-73.66640360170882, -4.423931968917678], [-73.66667393068523, -4.423932456101006], [-73.66667295995676, -4.42447511453907], [-73.66694328915773, -4.424475601677482], [-73.6669428038429, -4.424746930927956], [-73.66640214527924, -4.424745956480451], [-73.66640165973983, -4.4250172856680425], [-73.66586100109532, -4.4250163107713805], [-73.66586002954038, -4.425558969020798], [-73.66531937062638, -4.425557993612097], [-73.66531888460189, -4.42582932266494], [-73.66423756673794, -4.4258273705449795], [-73.66423708029123, -4.4260986994810425], [-73.66396675080279, -4.42609821117482], [-73.6639638309098, -4.427726184566619], [-73.6636935008644, -4.427725695972936], [-73.6636978811755, -4.4252837361322745]]]]\n",
            "Nombre: Polygonio_150.0, Area (metricos cubiertos): 10850.39681554808, Vertices: [[[[-73.66260925703486, -4.429351713058624], [-73.662608769609, -4.429623041788075], [-73.66233843901561, -4.429622552493706], [-73.66233892654928, -4.429351223800188], [-73.66260925703486, -4.429351713058624]]], [[[-73.66260925703486, -4.429351713058624], [-73.66261023179678, -4.42880905559074], [-73.66288056212065, -4.428809544696463], [-73.66288104935788, -4.428538215931081], [-73.6631513796099, -4.4285387049020555], [-73.66315235380587, -4.427996047308407], [-73.66423367433781, -4.427998001970601], [-73.66423318764856, -4.428269330888697], [-73.66369252712657, -4.428268353701331], [-73.66369204021274, -4.428539682556545], [-73.66342170989783, -4.4285391937832], [-73.66342122285825, -4.428810522602482], [-73.66315089247148, -4.428810033703371], [-73.66315040530611, -4.429081362495704], [-73.66288007485647, -4.429080873461846], [-73.66287958755638, -4.429352202218246], [-73.66260925703486, -4.429351713058624]]]]\n",
            "Nombre: Polygonio_151.0, Area (metricos cubiertos): 6329.387984556085, Vertices: [[[[-73.66098776253544, -4.429077447458033], [-73.66071743232834, -4.429076957633657], [-73.66071840841077, -4.428534300587982], [-73.66098873842024, -4.428534790349475], [-73.66098776253544, -4.429077447458033]]], [[[-73.66098776253544, -4.429077447458033], [-73.66152842304845, -4.429078426810339], [-73.66152793525426, -4.429349755423008], [-73.66206859608168, -4.429350734433954], [-73.66206810845817, -4.429622063109505], [-73.66125711696553, -4.42962059434605], [-73.66125760488546, -4.4293492657693125], [-73.66098727455261, -4.42934877600782], [-73.66098776253544, -4.429077447458033]]]]\n",
            "Nombre: Polygonio_152.0, Area (metricos cubiertos): 904.198232180013, Vertices: [[[-73.6607442305465, -4.414153885877203], [-73.66074374412675, -4.414425214516822], [-73.66047341925564, -4.414424726219583], [-73.66047390577421, -4.414153397615896], [-73.6607442305465, -4.414153885877203]]]\n",
            "Nombre: Polygonio_153.0, Area (metricos cubiertos): 904.1977078757343, Vertices: [[[-73.66071596797562, -4.429890943193188], [-73.66071547980414, -4.430162271707043], [-73.66044514922874, -4.4301617816580885], [-73.66044563749902, -4.429890453180167], [-73.66071596797562, -4.429890943193188]]]\n",
            "Nombre: Polygonio_154.0, Area (metricos cubiertos): 1808.3949206369198, Vertices: [[[-73.6604485665189, -4.428262482231786], [-73.66044807842826, -4.428533810727674], [-73.65990741855306, -4.428532830701632], [-73.65990790684131, -4.428261502268626], [-73.6604485665189, -4.428262482231786]]]\n",
            "Nombre: Polygonio_155.0, Area (metricos cubiertos): 18988.145364169777, Vertices: [[[[-73.65990937152642, -4.4274475169516405], [-73.65990839510262, -4.427990173835619], [-73.65963806540756, -4.427989683732767], [-73.65963904202899, -4.427447026911669], [-73.65990937152642, -4.4274475169516405]]], [[[-73.65937261864896, -4.4252759096501935], [-73.65937213049546, -4.425547238047267], [-73.65910180174363, -4.42554674801628], [-73.65910228999596, -4.425275419655138], [-73.65937261864896, -4.4252759096501935]]], [[[-73.65991132402367, -4.426362203156733], [-73.65991376397375, -4.42500556087492], [-73.65964343535667, -4.425005071113428], [-73.65964294732892, -4.4252763995464335], [-73.65937261864896, -4.4252759096501935], [-73.65937408292983, -4.424461924441006], [-73.6599147397328, -4.424462903955009], [-73.65991425186675, -4.4247342324149646], [-73.66045490898412, -4.424735211596591], [-73.66045442128875, -4.425006540119428], [-73.66018409261778, -4.425006050546582], [-73.66018311692162, -4.425548707529376], [-73.66045344579022, -4.425549197156121], [-73.66045247018388, -4.426091854183831], [-73.66018214111766, -4.426091364494202], [-73.66018165316177, -4.426362692981108], [-73.65991132402367, -4.426362203156733]]], [[[-73.65990937152642, -4.4274475169516405], [-73.65991083595101, -4.426633531607705], [-73.66018116517894, -4.42663402145903], [-73.66017970105977, -4.427448006892797], [-73.65990937152642, -4.4274475169516405]]], [[[-73.65991083595101, -4.426633531607705], [-73.65964050674104, -4.42663304166655], [-73.6596409949215, -4.426361713242526], [-73.65991132402367, -4.426362203156733], [-73.65991083595101, -4.426633531607705]]]]\n",
            "Nombre: Polygonio_156.0, Area (metricos cubiertos): 9041.963212610683, Vertices: [[[[-73.65829423488037, -4.42364597936838], [-73.65775357902962, -4.423644998857248], [-73.65775406756042, -4.423373670621871], [-73.65829472321354, -4.423374651079104], [-73.65829423488037, -4.42364597936838]]], [[[-73.65829423488037, -4.42364597936838], [-73.65856456285066, -4.423646469480216], [-73.65856407458037, -4.423917797796442], [-73.65883440267642, -4.423918287836412], [-73.65883244969407, -4.425003601218094], [-73.65856212120276, -4.425003111061343], [-73.65856260958984, -4.424731782745117], [-73.65829228123327, -4.4247312925165], [-73.65829423488037, -4.42364597936838]]]]\n",
            "Nombre: Polygonio_157.0, Area (metricos cubiertos): 13562.917381759245, Vertices: [[[[-73.65721292329565, -4.423644017941873], [-73.65721341203306, -4.423372689769378], [-73.65748373977877, -4.4233731802495235], [-73.65748325114916, -4.423644508448968], [-73.65721292329565, -4.423644017941873]]], [[[-73.65613063386779, -4.424184711036776], [-73.65612965540481, -4.424727367121254], [-73.65531867122445, -4.4247258934709635], [-73.65531965027132, -4.424183237566147], [-73.65504932247171, -4.424182746205654], [-73.65505030159046, -4.423640090354738], [-73.65559095683933, -4.423641072842163], [-73.65558997810687, -4.424183728818844], [-73.65613063386779, -4.424184711036776]]], [[[-73.65667177873443, -4.423914364749836], [-73.65667226768744, -4.423643036640223], [-73.65721292329565, -4.423644017941873], [-73.65721243454027, -4.423915346114368], [-73.65667177873443, -4.423914364749836]]], [[[-73.65613063386779, -4.424184711036776], [-73.65613112305437, -4.423913382990045], [-73.65667177873443, -4.423914364749836], [-73.65667128974549, -4.4241856928504655], [-73.65613063386779, -4.424184711036776]]]]\n",
            "Nombre: Polygonio_158.0, Area (metricos cubiertos): 904.1941273814488, Vertices: [[[-73.65507132342574, -4.411972987561284], [-73.65507083518241, -4.412244315581066], [-73.65480051172166, -4.412243825460246], [-73.65480100006381, -4.411972497476397], [-73.65507132342574, -4.411972987561284]]]\n",
            "Nombre: Polygonio_159.0, Area (metricos cubiertos): 2712.5814002398993, Vertices: [[[-73.65505959722228, -4.418484859353315], [-73.65505861925337, -4.41902751528508], [-73.65478829334022, -4.419027024409676], [-73.65478878244595, -4.418755696470743], [-73.65451845666755, -4.418755205523474], [-73.65451894583614, -4.418483877620474], [-73.65505959722228, -4.418484859353315]]]\n",
            "Nombre: Polygonio_160.0, Area (metricos cubiertos): 7233.547663602058, Vertices: [[[[-73.65451160513602, -4.422553795985816], [-73.65397095092021, -4.422552812950417], [-73.65397193047014, -4.422010157315096], [-73.6545125842907, -4.422011140233714], [-73.65451160513602, -4.422553795985816]]], [[[-73.65451160513602, -4.422553795985816], [-73.6550522594776, -4.422554778625956], [-73.6550507911094, -4.423368762424787], [-73.65478046363319, -4.423368271064294], [-73.6547814427699, -4.422825615258293], [-73.65451111551826, -4.422825123861866], [-73.65451160513602, -4.422553795985816]]]]\n",
            "Nombre: Polygonio_161.0, Area (metricos cubiertos): 4520.9689752115555, Vertices: [[[[-73.6550576411587, -4.419570171207861], [-73.65505666293828, -4.42011282712166], [-73.65478633663885, -4.420112336120492], [-73.6547858473894, -4.420383664041458], [-73.6545155210271, -4.420383172914526], [-73.65451649969668, -4.4198405171264925], [-73.65478682586135, -4.419841008190542], [-73.65478731505691, -4.419569680269576], [-73.6550576411587, -4.419570171207861]]], [[[-73.6550576411587, -4.419570171207861], [-73.65505813021952, -4.419298843241979], [-73.65532845624945, -4.419299334054501], [-73.65532796728745, -4.419570662047333], [-73.6550576411587, -4.419570171207861]]]]\n",
            "Nombre: Polygonio_162.0, Area (metricos cubiertos): 3616.7731907625543, Vertices: [[[-73.65451454223174, -4.420925828693577], [-73.65451356332859, -4.421468484463646], [-73.6539729098943, -4.421467501670792], [-73.65397388920171, -4.420924846017505], [-73.65451454223174, -4.420925828693577]]]\n",
            "Nombre: Polygonio_163.0, Area (metricos cubiertos): 20796.414215801276, Vertices: [[[[-73.65289699238744, -4.418480930050397], [-73.6539782945668, -4.418482895492374], [-73.65397780520057, -4.418754223341475], [-73.65289650263493, -4.418752257773734], [-73.65289699238744, -4.418480930050397]]], [[[-73.65127504004367, -4.418477978940959], [-73.65127356891765, -4.4192919615540145], [-73.65100324333687, -4.419291469268256], [-73.65100471475934, -4.418477486736048], [-73.65127504004367, -4.418477978940959]]], [[[-73.6523568314096, -4.418208619076066], [-73.65208650609833, -4.418208127302346], [-73.65208699609337, -4.417936799668841], [-73.65181667091684, -4.417936307823257], [-73.65181618082298, -4.4182076354298125], [-73.65154585557458, -4.418207143458464], [-73.65154536536393, -4.418478471038071], [-73.65127504004367, -4.418477978940959], [-73.65127602064463, -4.417935323844627], [-73.65154634576727, -4.417935815887841], [-73.65154683592402, -4.417664488308234], [-73.65181716097479, -4.4176649802167], [-73.65181814099185, -4.4171223249946046], [-73.6526291157399, -4.417123799947453], [-73.65263009505627, -4.416581144536711], [-73.65290041983755, -4.416581635933138], [-73.65289895111002, -4.417395619139082], [-73.65208797598467, -4.417394144383863], [-73.6520874860525, -4.417665472026352], [-73.65235781116615, -4.417665963737189], [-73.6523568314096, -4.418208619076066]]], [[[-73.65289699238744, -4.418480930050397], [-73.65235634148641, -4.418479946745504], [-73.6523568314096, -4.418208619076066], [-73.65289748212199, -4.41820960232706], [-73.65289699238744, -4.418480930050397]]]]\n",
            "Nombre: Polygonio_164.0, Area (metricos cubiertos): 3616.7667186883314, Vertices: [[[-73.6507964411153, -4.3840183878427235], [-73.6507954677278, -4.384561043316347], [-73.65025484176401, -4.384560066021183], [-73.65025581554676, -4.38401741066434], [-73.6507964411153, -4.3840183878427235]]]\n",
            "Nombre: Polygonio_165.0, Area (metricos cubiertos): 904.1883816040512, Vertices: [[[-73.6493112459817, -4.457816972892453], [-73.64931075053389, -4.458088299924087], [-73.64904041105618, -4.458087802598779], [-73.64904090660282, -4.457816475603078], [-73.6493112459817, -4.457816972892453]]]\n",
            "Nombre: Polygonio_166.0, Area (metricos cubiertos): 1808.377516767815, Vertices: [[[-73.64855949623507, -4.425256232862378], [-73.64855900414695, -4.42552756005571], [-73.64801834910467, -4.425526572007712], [-73.64801884139044, -4.425255244877263], [-73.64855949623507, -4.425256232862378]]]\n",
            "Nombre: Polygonio_167.0, Area (metricos cubiertos): 4520.937642476671, Vertices: [[[-73.64693851733269, -4.424710613711885], [-73.64693703938845, -4.42552459472594], [-73.646666712038, -4.4255241001674435], [-73.64666720480885, -4.425252773189708], [-73.64639687759313, -4.425252278559347], [-73.64639786325162, -4.424709624657774], [-73.64693851733269, -4.424710613711885]]]\n",
            "Nombre: Polygonio_168.0, Area (metricos cubiertos): 13562.804547513295, Vertices: [[[[-73.64531951405918, -4.423079684377711], [-73.64504918776873, -4.423079189495822], [-73.64504968086298, -4.422807862688766], [-73.64532000705461, -4.4228083575437065], [-73.64531951405918, -4.423079684377711]]], [[[-73.64531951405918, -4.423079684377711], [-73.64586016672091, -4.423080673854031], [-73.64586115228057, -4.422538020051273], [-73.64613147846322, -4.422538514573837], [-73.6461304930922, -4.423081168439476], [-73.64640081949942, -4.4230816629350915], [-73.64639835603145, -4.424438297715971], [-73.64612802913913, -4.424437803067643], [-73.64612901481559, -4.423895149228953], [-73.64585868813886, -4.423894654544692], [-73.6458591810265, -4.423623327647805], [-73.64531852797849, -4.423622338054705], [-73.64531951405918, -4.423079684377711]]]]\n",
            "Nombre: Polygonio_169.0, Area (metricos cubiertos): 27125.668866093165, Vertices: [[[[-73.65019030328159, -4.420375301453799], [-73.6501922667832, -4.419289991809108], [-73.65073291779203, -4.4192909768836826], [-73.65073193649039, -4.4198336318273], [-73.65046161077487, -4.41983313928103], [-73.6504606291588, -4.420375794161766], [-73.65019030328159, -4.420375301453799]]], [[[-73.64586213772346, -4.421995366239533], [-73.64586164502447, -4.422266693145403], [-73.64559131896759, -4.4222661985509735], [-73.64559181177437, -4.421994871672053], [-73.64586213772346, -4.421995366239533]]], [[[-73.64856736552187, -4.420914997598399], [-73.64856834862914, -4.420372343148855], [-73.64910900006018, -4.420373329642767], [-73.64910949137575, -4.420102002359604], [-73.64937981703739, -4.420102495426898], [-73.64937932582062, -4.420373822745993], [-73.65019030328159, -4.420375301453799], [-73.65018981232534, -4.420646628862726], [-73.64910850871765, -4.420644656934913], [-73.64910801733919, -4.420915984209093], [-73.64856736552187, -4.420914997598399]]], [[[-73.64640377465128, -4.42145370113156], [-73.64640475945636, -4.420911047176089], [-73.64856736552187, -4.420914997598399], [-73.64856687391884, -4.42118632481868], [-73.64802622202068, -4.421185337740862], [-73.64802573019305, -4.421456664898261], [-73.64775540419906, -4.421456171184181], [-73.64775589612549, -4.421184844053732], [-73.64694491860163, -4.421183362408435], [-73.64694442637877, -4.421454689449052], [-73.64640377465128, -4.42145370113156]]], [[[-73.64586213772346, -4.421995366239533], [-73.64586312304955, -4.421452712418809], [-73.64640377465128, -4.42145370113156], [-73.64640328220382, -4.421725028100313], [-73.64613295629067, -4.421724533766395], [-73.64613246370847, -4.421995860708198], [-73.64586213772346, -4.421995366239533]]]]\n",
            "Nombre: Polygonio_170.0, Area (metricos cubiertos): 904.1848028865692, Vertices: [[[-73.64444812464382, -4.456180047447488], [-73.64444762759699, -4.4564513739401335], [-73.64417728926014, -4.4564508750158245], [-73.64417778641477, -4.4561795485501285], [-73.64444812464382, -4.456180047447488]]]\n",
            "Nombre: Polygonio_171.0, Area (metricos cubiertos): 13562.781724317781, Vertices: [[[[-73.64342920525071, -4.421990911601837], [-73.64342723070881, -4.42307621812039], [-73.6436975568106, -4.423076713595168], [-73.64369656954413, -4.423619366903853], [-73.64396689587949, -4.423619862342698], [-73.6439673894229, -4.423348535661407], [-73.64423771568639, -4.423349030965505], [-73.64423820910402, -4.423077704257263], [-73.64477886151423, -4.423078694515117], [-73.64477836829421, -4.4233500212952235], [-73.64450804197682, -4.423349526179771], [-73.64450754862207, -4.4236208529239445], [-73.64423722223282, -4.423620357682728], [-73.6442367287523, -4.423891684399953], [-73.64342574947673, -4.423890197984601], [-73.64342673699473, -4.423347544747783], [-73.64315641082106, -4.423347049138258], [-73.64315887958011, -4.421990416145025], [-73.64342920525071, -4.421990911601837]]], [[[-73.64342920525071, -4.421990911601837], [-73.64342969881208, -4.4217195849654605], [-73.64370002442878, -4.421720080287526], [-73.64369953096623, -4.421991406959834], [-73.64342920525071, -4.421990911601837]]]]\n",
            "Nombre: Polygonio_172.0, Area (metricos cubiertos): 904.1849903454882, Vertices: [[[-73.64316381478953, -4.419277150014829], [-73.64316332140783, -4.4195484766332385], [-73.64289299664452, -4.41954798135609], [-73.64289349012505, -4.41927665476463], [-73.64316381478953, -4.419277150014829]]]\n",
            "Nombre: Polygonio_173.0, Area (metricos cubiertos): 904.1847670445657, Vertices: [[[-73.64289250312807, -4.41981930794755], [-73.64289200958467, -4.42009063453901], [-73.64262168465967, -4.420090139100164], [-73.64262217830189, -4.419818812544637], [-73.64289250312807, -4.41981930794755]]]\n",
            "Nombre: Polygonio_174.0, Area (metricos cubiertos): 10850.208212007214, Vertices: [[[[-73.64153692615835, -4.421987441364978], [-73.6418072516493, -4.421987937405695], [-73.64180675746809, -4.422259263853425], [-73.64261773442601, -4.422260751490485], [-73.64261822831077, -4.42198942494394], [-73.64288855392748, -4.4219899205983815], [-73.64288707247083, -4.422803900309879], [-73.64261674656666, -4.422803404565607], [-73.6426172405143, -4.422532078028046], [-73.64153593756238, -4.422530094197556], [-73.64153692615835, -4.421987441364978]]], [[[-73.64099676970802, -4.421715122611237], [-73.64045611913038, -4.421714129900982], [-73.64045661374277, -4.4214428035969835], [-73.64099726412279, -4.421443796253339], [-73.64099676970802, -4.421715122611237]]], [[[-73.64153692615835, -4.421987441364978], [-73.64099627525732, -4.421986448978117], [-73.64099676970802, -4.421715122611237], [-73.64153742040244, -4.421716114935215], [-73.64153692615835, -4.421987441364978]]]]\n",
            "Nombre: Polygonio_175.0, Area (metricos cubiertos): 1808.3651772511275, Vertices: [[[-73.64018678327746, -4.421170980848025], [-73.6401862885932, -4.4214423071160915], [-73.63964563840183, -4.421441313866849], [-73.63964613327474, -4.421169987661664], [-73.64018678327746, -4.421170980848025]]]\n",
            "Nombre: Polygonio_176.0, Area (metricos cubiertos): 1808.3631708103694, Vertices: [[[-73.63883515849973, -4.421168497132029], [-73.63883466333039, -4.421439823256365], [-73.63829401344444, -4.421438829018975], [-73.63829450881143, -4.421167502966504], [-73.63883515849973, -4.421168497132029]]]\n",
            "Nombre: Polygonio_177.0, Area (metricos cubiertos): 904.1813488697657, Vertices: [[[-73.63829748036652, -4.419539546570831], [-73.6382969851792, -4.419810872641268], [-73.63802666087403, -4.419810375558505], [-73.63802715615118, -4.419539049515018], [-73.63829748036652, -4.419539546570831]]]\n",
            "Nombre: Polygonio_178.0, Area (metricos cubiertos): 4520.906685996207, Vertices: [[[-73.63856631926244, -4.420354021819989], [-73.63856532887883, -4.420896674005779], [-73.63802467944204, -4.420895679696524], [-73.63802517484496, -4.420624353662019], [-73.63775485027928, -4.42062385639061], [-73.63775534574508, -4.420352530392038], [-73.63856631926244, -4.420354021819989]]]\n",
            "Nombre: Polygonio_179.0, Area (metricos cubiertos): 904.1796850127827, Vertices: [[[-73.63716896687706, -4.445313513695134], [-73.63716846837495, -4.44558483945116], [-73.6368981348351, -4.445584339062598], [-73.63689863342704, -4.445313013342504], [-73.63716896687706, -4.445313513695134]]]\n",
            "Nombre: Polygonio_180.0, Area (metricos cubiertos): 904.1796448505976, Vertices: [[[-73.63716647409706, -4.446670142448318], [-73.63716597545123, -4.446941468186378], [-73.63689564140833, -4.446940967645102], [-73.63689614015297, -4.446669641933991], [-73.63716647409706, -4.446670142448318]]]\n",
            "Nombre: Polygonio_181.0, Area (metricos cubiertos): 50634.00475789783, Vertices: [[[[-73.63473496815797, -4.44585165785635], [-73.63419430145557, -4.445850655138864], [-73.6341948010626, -4.445579329724197], [-73.63392446785514, -4.4455788282396895], [-73.63392496754301, -4.445307502851972], [-73.63446563378727, -4.445308505650307], [-73.634465134306, -4.445579831100907], [-73.63473546757635, -4.4455803323788015], [-73.63473496815797, -4.44585165785635]]], [[[-73.63473496815797, -4.44585165785635], [-73.63554596844513, -4.445853161195962], [-73.63554546929625, -4.446124486763342], [-73.63500480220758, -4.446123484575862], [-73.6350043028341, -4.44639481008036], [-73.63527463646378, -4.446395311250457], [-73.6352741371532, -4.446666636781905], [-73.63554447090864, -4.44666713788912], [-73.63554397166992, -4.446938463447518], [-73.63581430555112, -4.446938964482867], [-73.6358123086771, -4.4480242668242544], [-73.63554197440064, -4.448023765663141], [-73.63554097557285, -4.448566416761969], [-73.63608164456595, -4.448567419111146], [-73.63608214379569, -4.4482960934988505], [-73.63635247823385, -4.4482965944892845], [-73.63635297733782, -4.448025268850039], [-73.63662331170411, -4.448025769714708], [-73.63662231367584, -4.448568421056081], [-73.63689264828469, -4.448568921875836], [-73.636893147209, -4.448297596182691], [-73.63716348174597, -4.448298096876681], [-73.6371599892758, -4.450197376953273], [-73.63688965404712, -4.450196876043687], [-73.63688915490722, -4.4504682017278485], [-73.63661881960668, -4.450467700683516], [-73.63662131553077, -4.449111072388472], [-73.63499930737467, -4.449108064981615], [-73.63500180549066, -4.447751437557937], [-73.63527213960543, -4.447751938880748], [-73.63527263904179, -4.447480613358283], [-73.63500230501684, -4.447480112062421], [-73.63500380342471, -4.446666135575875], [-73.63473346973214, -4.446665634271032], [-73.63473496815797, -4.44585165785635]]]]\n",
            "Nombre: Polygonio_182.0, Area (metricos cubiertos): 19891.946987543604, Vertices: [[[[-73.63715799290483, -4.4512826798067], [-73.6366173216929, -4.451281677637186], [-73.63661832033202, -4.450739026340728], [-73.6368886557224, -4.4507395274120105], [-73.63688815651962, -4.451010853096172], [-73.63715849204473, -4.451011354095589], [-73.63715799290483, -4.4512826798067]]], [[[-73.63688466120179, -4.452910132804455], [-73.63688316274902, -4.453724109794057], [-73.63715349926228, -4.4537246111078845], [-73.63715200082747, -4.454538588169352], [-73.63688166401776, -4.454538086774677], [-73.63688116438378, -4.454809412422906], [-73.63661082750221, -4.454808910893482], [-73.63661182694983, -4.4542662596419405], [-73.63688216362479, -4.454266761117465], [-73.63688266320487, -4.453995435460252], [-73.63661232661974, -4.453994934020661], [-73.6366143250209, -4.452909631490627], [-73.63688466120179, -4.452910132804455]]], [[[-73.63715699453519, -4.451825331219939], [-73.63715799290483, -4.4512826798067], [-73.63769866424254, -4.451283681571972], [-73.63769766625917, -4.451826333110975], [-73.63715699453519, -4.451825331219939]]], [[[-73.63688466120179, -4.452910132804455], [-73.6368856600206, -4.452367481472064], [-73.63661532402834, -4.452366980212135], [-73.63661632291901, -4.451824328933644], [-73.63715699453519, -4.451825331219939], [-73.63715499741862, -4.45291063402845], [-73.63688466120179, -4.452910132804455]]]]\n",
            "Nombre: Polygonio_183.0, Area (metricos cubiertos): 904.1788995720696, Vertices: [[[-73.63608813212707, -4.445040186034514], [-73.63608763326565, -4.445311511673759], [-73.6358172999414, -4.445311010916887], [-73.63581779890164, -4.445039685313574], [-73.63608813212707, -4.445040186034514]]]\n",
            "Nombre: Polygonio_184.0, Area (metricos cubiertos): 904.1794449786464, Vertices: [[[-73.6356031653381, -4.414650707526367], [-73.63560266972857, -4.41492203332731], [-73.63533234749852, -4.414921535804372], [-73.63533284320685, -4.414650210039363], [-73.6356031653381, -4.414650707526367]]]\n",
            "Nombre: Polygonio_185.0, Area (metricos cubiertos): 904.1790892573387, Vertices: [[[-73.63532242685487, -4.420348050772194], [-73.63532193049974, -4.420619376501271], [-73.6350516062305, -4.420618878241716], [-73.63505210268444, -4.420347552548571], [-73.63532242685487, -4.420348050772194]]]\n",
            "Nombre: Polygonio_186.0, Area (metricos cubiertos): 16275.227305643366, Vertices: [[[[-73.63667206451426, -4.421435843944235], [-73.63586109046689, -4.421434350072867], [-73.63586158671423, -4.421163024298874], [-73.63505061323279, -4.421161529628005], [-73.63504912350265, -4.421975506698456], [-73.6339678247818, -4.421973512061233], [-73.63396832178373, -4.421702186493853], [-73.63450897088812, -4.421703183947211], [-73.63450946765647, -4.421431858325932], [-73.63477979215928, -4.421432356872948], [-73.6347807854175, -4.420889705549541], [-73.63613240739248, -4.420892196505958], [-73.63613191127091, -4.421163522315885], [-73.63667256046514, -4.421164518071428], [-73.63667206451426, -4.421435843944235]]], [[[-73.63667206451426, -4.421435843944235], [-73.6369423892596, -4.421436341700734], [-73.6369418933716, -4.421707667609475], [-73.63721221824271, -4.421708165303091], [-73.63721172242657, -4.421979491229798], [-73.6366710725047, -4.421978495689851], [-73.63667206451426, -4.421435843944235]]]]\n",
            "Nombre: Polygonio_187.0, Area (metricos cubiertos): 6329.238512995895, Vertices: [[[-73.63392596680198, -4.4447648520765375], [-73.63392546718597, -4.445036177464255], [-73.63338480126511, -4.445035174333543], [-73.63338530107875, -4.444763849008708], [-73.6328446354723, -4.444762845536636], [-73.632845635405, -4.444220194994764], [-73.6333863006162, -4.44422119834107], [-73.63338580086544, -4.44449252367489], [-73.63365613361476, -4.444493025231262], [-73.63365563392689, -4.44476435059203], [-73.63392596680198, -4.4447648520765375]]]\n",
            "Nombre: Polygonio_188.0, Area (metricos cubiertos): 904.1770071664727, Vertices: [[[-73.6326166995662, -4.42169969113569], [-73.63261620207919, -4.421971016550357], [-73.6323458776303, -4.4219705171499415], [-73.63234637521612, -4.421699191771207], [-73.6326166995662, -4.42169969113569]]]\n",
            "Nombre: Polygonio_189.0, Area (metricos cubiertos): 6329.230830049626, Vertices: [[[[-73.63230497031957, -4.444219191253198], [-73.63257530284432, -4.44421969317788], [-73.63257480279711, -4.444491018412883], [-73.63230447016457, -4.4444905164612525], [-73.63230497031957, -4.444219191253198]]], [[[-73.63176530595736, -4.443675536817045], [-73.63122464150973, -4.443674532401743], [-73.63122564237669, -4.443131882219196], [-73.6314959743894, -4.4431323844133725], [-73.63149547407271, -4.443403709531595], [-73.63176580621118, -4.44340421166289], [-73.63176530595736, -4.443675536817045]]], [[[-73.63230497031957, -4.444219191253198], [-73.63176430535091, -4.444218187116373], [-73.63176530595736, -4.443675536817045], [-73.6320356382216, -4.443676038876474], [-73.63203513803965, -4.443947364057579], [-73.63230547043864, -4.443947866045143], [-73.63230497031957, -4.444219191253198]]]]\n",
            "Nombre: Polygonio_190.0, Area (metricos cubiertos): 1808.352799024173, Vertices: [[[-73.63181318970136, -4.417628312738517], [-73.63181269238504, -4.41789963808132], [-73.63127204664933, -4.417898639514049], [-73.63127254416328, -4.41762731423413], [-73.63181318970136, -4.417628312738517]]]\n",
            "Nombre: Polygonio_191.0, Area (metricos cubiertos): 7233.400828724055, Vertices: [[[[-73.63095831287502, -4.441503429495345], [-73.63122864425891, -4.441503931608673], [-73.63122664312687, -4.442589232018682], [-73.63095631134772, -4.442588729788573], [-73.63095831287502, -4.441503429495345]]], [[[-73.63041865116284, -4.440959774951395], [-73.63014832006641, -4.440959272604505], [-73.63014932111304, -4.44041662262857], [-73.63041965201184, -4.440417124903595], [-73.63041865116284, -4.440959774951395]]], [[[-73.63095831287502, -4.441503429495345], [-73.63068798151808, -4.441502927292185], [-73.63068848191563, -4.441231602245828], [-73.63095881317375, -4.4412321044220375], [-73.63095831287502, -4.441503429495345]]], [[[-73.63068848191563, -4.441231602245828], [-73.63041815069343, -4.441231099970803], [-73.63041865116284, -4.440959774951395], [-73.63068898228622, -4.44096027719947], [-73.63068848191563, -4.441231602245828]]]]\n",
            "Nombre: Polygonio_192.0, Area (metricos cubiertos): 9945.927720567432, Vertices: [[[[-73.63069398430335, -4.438247026592163], [-73.63015332405985, -4.438246022617035], [-73.63015432448663, -4.437703372596185], [-73.63069498434386, -4.437704376445549], [-73.63069398430335, -4.438247026592163]]], [[[-73.63069398430335, -4.438247026592163], [-73.6309643144835, -4.438247528427013], [-73.63096331452384, -4.438790178627526], [-73.63123364491959, -4.438790680426444], [-73.63123264503179, -4.4393333306808564], [-73.63096231443842, -4.439332828819056], [-73.6309618143463, -4.43960415391033], [-73.63069148368106, -4.4396036519227655], [-73.63069398430335, -4.438247026592163]]]]\n",
            "Nombre: Polygonio_193.0, Area (metricos cubiertos): 904.1756109094948, Vertices: [[[-73.6307259241099, -4.420882217894019], [-73.63072542603, -4.42115354309309], [-73.63045510208416, -4.421153043099786], [-73.63045560027186, -4.4208817179276645], [-73.6307259241099, -4.420882217894019]]]\n",
            "Nombre: Polygonio_194.0, Area (metricos cubiertos): 904.1738581425724, Vertices: [[[-73.62829849731271, -4.41789314036924], [-73.62829799867586, -4.418164465316782], [-73.62802767609547, -4.418163964766523], [-73.62802817483113, -4.417892639854913], [-73.62829849731271, -4.41789314036924]]]\n",
            "Nombre: Polygonio_195.0, Area (metricos cubiertos): 904.1736498214083, Vertices: [[[-73.62802917219466, -4.417349990022709], [-73.62802867352187, -4.417621314934319], [-73.62775835117503, -4.41762081435711], [-73.62775884993765, -4.41734948947245], [-73.62802917219466, -4.417349990022709]]]\n",
            "Nombre: Polygonio_196.0, Area (metricos cubiertos): 4520.863748742614, Vertices: [[[[-73.62745152821208, -4.437427022697521], [-73.62718119873261, -4.437426519667912], [-73.62718270230579, -4.436612545633766], [-73.62745303148881, -4.436613048573545], [-73.62745152821208, -4.437427022697521]]], [[[-73.62745152821208, -4.437427022697521], [-73.62799218725185, -4.437428028469279], [-73.62799168629735, -4.43769935323716], [-73.62745102705995, -4.437698347402519], [-73.62745152821208, -4.437427022697521]]]]\n",
            "Nombre: Polygonio_197.0, Area (metricos cubiertos): 904.1720432675116, Vertices: [[[-73.62664254537037, -4.436340214833616], [-73.62664204404756, -4.436611539457766], [-73.62637171496335, -4.436611036221544], [-73.62637221638498, -4.436339711624344], [-73.62664254537037, -4.436340214833616]]]\n",
            "Nombre: Polygonio_198.0, Area (metricos cubiertos): 904.1702030710776, Vertices: [[[-73.62421058994126, -4.435793033728439], [-73.62421008779201, -4.436064358074111], [-73.62393975917492, -4.436063854002456], [-73.62394026143198, -4.4357925296927165], [-73.62421058994126, -4.435793033728439]]]\n",
            "Nombre: Polygonio_199.0, Area (metricos cubiertos): 904.169098343931, Vertices: [[[-73.62181977877151, -4.412997264830138], [-73.62181927833802, -4.413268589068013], [-73.62154895827291, -4.413268086721122], [-73.62154945879622, -4.412996762510198], [-73.62181977877151, -4.412997264830138]]]\n",
            "Nombre: Polygonio_200.0, Area (metricos cubiertos): 1808.3352233872931, Vertices: [[[-73.62096463634028, -4.436872274660498], [-73.62096413287948, -4.437143598628877], [-73.62042347564532, -4.437142587772654], [-73.62042397930375, -4.436871263867157], [-73.62096463634028, -4.436872274660498]]]\n",
            "Nombre: Polygonio_201.0, Area (metricos cubiertos): 2712.498793529357, Vertices: [[[[-73.61880200894876, -4.436868229124565], [-73.61853168066405, -4.436867722986785], [-73.61853218498723, -4.436596399296883], [-73.61880251316414, -4.436596905398731], [-73.61880200894876, -4.436868229124565]]], [[[-73.61880200894876, -4.436868229124565], [-73.61934266560799, -4.4368692411036825], [-73.61934216156328, -4.437140564883415], [-73.61880150470643, -4.437139552841416], [-73.61880200894876, -4.436868229124565]]]]\n",
            "Nombre: Polygonio_202.0, Area (metricos cubiertos): 1808.3278301152732, Vertices: [[[-73.61610024303286, -4.436049193047861], [-73.61609973789221, -4.436320516459285], [-73.61555908237384, -4.4363195022343795], [-73.61555958771211, -4.436048178885838], [-73.61610024303286, -4.436049193047861]]]\n",
            "Nombre: Polygonio_203.0, Area (metricos cubiertos): 1808.320201011616, Vertices: [[[-73.6112282646117, -4.439295925380398], [-73.61122775731509, -4.439567248207917], [-73.61068710055704, -4.439566229662115], [-73.6106876080423, -4.439294906897478], [-73.6112282646117, -4.439295925380398]]]\n",
            "Nombre: Polygonio_204.0, Area (metricos cubiertos): 5424.94949656062, Vertices: [[[-73.60933444314793, -4.440106326787708], [-73.60933393507877, -4.440377649390649], [-73.60798229302644, -4.440375098354905], [-73.60798331013494, -4.439832453463435], [-73.60825363828489, -4.439832963805331], [-73.60825312984743, -4.440104286282507], [-73.60933444314793, -4.440106326787708]]]\n",
            "Nombre: Polygonio_205.0, Area (metricos cubiertos): 1808.3149826213005, Vertices: [[[-73.6077139991923, -4.43928929817617], [-73.60771298202091, -4.439831943022724], [-73.60744265393384, -4.439831432474215], [-73.60744367131184, -4.439288787699526], [-73.6077139991923, -4.43928929817617]]]\n",
            "Nombre: Polygonio_206.0, Area (metricos cubiertos): 1808.3135577005373, Vertices: [[[-73.60690301562278, -4.439287766449796], [-73.60690250675412, -4.439559088774258], [-73.60636185100219, -4.439558067066387], [-73.60636236006847, -4.439286744795823], [-73.60690301562278, -4.439287766449796]]]\n",
            "Nombre: Polygonio_207.0, Area (metricos cubiertos): 4520.7802897602005, Vertices: [[[-73.60609203233174, -4.439286233825107], [-73.60609101397459, -4.439828878285385], [-73.60528003036914, -4.4398273445917], [-73.60528104932817, -4.439284700311085], [-73.60555137696609, -4.4392852115782455], [-73.60555086760336, -4.439556533749995], [-73.60582119536703, -4.439557044954273], [-73.60582170463096, -4.439285722755575], [-73.60609203233174, -4.439286233825107]]]\n",
            "Nombre: Polygonio_208.0, Area (metricos cubiertos): 4520.7750922136265, Vertices: [[[[-73.6042002489118, -4.4390113322262765], [-73.60365959418394, -4.439010308658893], [-73.60366010417549, -4.438738986702739], [-73.60420075870572, -4.438740010207241], [-73.6042002489118, -4.4390113322262765]]], [[[-73.6042002489118, -4.4390113322262765], [-73.60501123125061, -4.439012866836243], [-73.6050107217172, -4.439284188945109], [-73.60419973909092, -4.439282654236329], [-73.6042002489118, -4.4390113322262765]]]]\n",
            "Nombre: Polygonio_209.0, Area (metricos cubiertos): 1808.3078215353169, Vertices: [[[-73.60312098014094, -4.437923997114182], [-73.60312047004159, -4.438195319016437], [-73.60257981615815, -4.438194294838198], [-73.60258032644616, -4.437922973007809], [-73.60312098014094, -4.437923997114182]]]\n",
            "Nombre: Polygonio_210.0, Area (metricos cubiertos): 904.1535733312016, Vertices: [[[-73.60257930583423, -4.43846561667757], [-73.60257879548334, -4.438736938507959], [-73.60230846838442, -4.438736426207735], [-73.6023089788431, -4.438465104413279], [-73.60257930583423, -4.43846561667757]]]\n",
            "Nombre: Polygonio_211.0, Area (metricos cubiertos): 1808.3063719189604, Vertices: [[[-73.60204120415433, -4.437107983176706], [-73.6020401833358, -4.4376506267296865], [-73.601769856704, -4.437650114357598], [-73.60177087772017, -4.4371074708675], [-73.60204120415433, -4.437107983176706]]]\n"
          ]
        }
      ]
    },
    {
      "cell_type": "code",
      "source": [
        "# @title\n",
        "styledPolygons = vectorizedAndSimplified.style(\n",
        "    color='FFCC00',\n",
        "    width=.75,\n",
        "    fillColor='00000000',\n",
        "    lineType='solid'\n",
        ")\n",
        "\n",
        "Map = geemap.Map()\n",
        "\n",
        "Map.centerObject(polygon, 11)\n",
        "\n",
        "Map.addLayer(image2, vizParams, 'Despues Tallando')\n",
        "\n",
        "Map.addLayer(styledPolygons, {}, 'Mask Outline')\n",
        "\n",
        "Map"
      ],
      "metadata": {
        "id": "LaWvzkWFmV8T",
        "outputId": "0d3ed3f4-609d-4b7f-b4b6-ba6e9f8bae6a",
        "colab": {
          "base_uri": "https://localhost:8080/",
          "height": 621,
          "referenced_widgets": [
            "c6e05830d1594d72a623a7bdde063b8f",
            "82e754caeb3f461585f45b3642721286",
            "ab21f8b63a3b4e078c49f7abc5226d87",
            "14c6bca7e34f431193b95822c8d75bea",
            "0ef83cabed42473da9b186ffe641b400",
            "7b464c8acd9742aa956ec0564c1b6a7f",
            "816ae754f111407a96185fe2c36edf73",
            "76fc4ff28b9243b4ae5ad1d57d75f5f3",
            "0d35281fb8604aae88698bb2c4d286ca",
            "a115b6061a054cd786e2bce9d2473bea",
            "f6ee0b80f3bc43b5a56014e2a60e26f9",
            "b0e79dd3cd2548d99a202682875170a8",
            "0c9a9a47c7864892a47cf74d7bf926df",
            "29d7b50b101f4e19be1b45c9e067fb02",
            "6b0b8624681f40a8b68cc0d482c921af",
            "a3b0470bcd094b37807315b62f919b77",
            "9ed036d41bc34599911e7e069efcd174",
            "89ba7f777ce94c4aa1b0323dbd04cec0",
            "bebddd35cd7c4bd1a1abb078519a1976",
            "d730ea04ca914c37ae02a73319aab93f",
            "cfed3f84b53347ca9e3ca8f275f2dc34",
            "a5b42f2096c940b0aaecf7732496ba5d",
            "8d067bc020424fdfa00bd7cee33e160f",
            "4fd330100cbb45d491827b9bf6493056",
            "47fe104251184f2f9e7fbbff42133e05",
            "fdccc21d5a9b434bb8b8b0d139458dee"
          ]
        }
      },
      "execution_count": 237,
      "outputs": [
        {
          "output_type": "display_data",
          "data": {
            "text/plain": [
              "<IPython.core.display.HTML object>"
            ],
            "text/html": [
              "\n",
              "            <style>\n",
              "                .geemap-dark {\n",
              "                    --jp-widgets-color: white;\n",
              "                    --jp-widgets-label-color: white;\n",
              "                    --jp-ui-font-color1: white;\n",
              "                    --jp-layout-color2: #454545;\n",
              "                    background-color: #383838;\n",
              "                }\n",
              "                    \n",
              "                .geemap-dark .jupyter-button {\n",
              "                    --jp-layout-color3: #383838;\n",
              "                }\n",
              "                \n",
              "                .geemap-colab {\n",
              "                    background-color: var(--colab-primary-surface-color, white);\n",
              "                }\n",
              "                    \n",
              "                .geemap-colab .jupyter-button {\n",
              "                    --jp-layout-color3: var(--colab-primary-surface-color, white);\n",
              "                }\n",
              "            </style>\n",
              "            "
            ]
          },
          "metadata": {}
        },
        {
          "output_type": "display_data",
          "data": {
            "text/plain": [
              "Map(center=[-4.349379692587443, -73.72766753816298], controls=(WidgetControl(options=['position', 'transparent…"
            ],
            "application/vnd.jupyter.widget-view+json": {
              "version_major": 2,
              "version_minor": 0,
              "model_id": "c6e05830d1594d72a623a7bdde063b8f"
            }
          },
          "metadata": {
            "application/vnd.jupyter.widget-view+json": {
              "colab": {
                "custom_widget_manager": {
                  "url": "https://ssl.gstatic.com/colaboratory-static/widgets/colab-cdn-widget-manager/2b70e893a8ba7c0f/manager.min.js"
                }
              }
            }
          }
        }
      ]
    }
  ]
}