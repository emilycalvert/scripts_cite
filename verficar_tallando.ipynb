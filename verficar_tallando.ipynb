{
  "nbformat": 4,
  "nbformat_minor": 0,
  "metadata": {
    "colab": {
      "provenance": [],
      "collapsed_sections": [
        "d4es-WyE3Srw"
      ],
      "authorship_tag": "ABX9TyO5P7LvuBWn9NdWnbmE5iP1",
      "include_colab_link": true
    },
    "kernelspec": {
      "name": "python3",
      "display_name": "Python 3"
    },
    "language_info": {
      "name": "python"
    }
  },
  "cells": [
    {
      "cell_type": "markdown",
      "metadata": {
        "id": "view-in-github",
        "colab_type": "text"
      },
      "source": [
        "<a href=\"https://colab.research.google.com/github/emilycalvert/scripts_cite/blob/main/verficar_tallando.ipynb\" target=\"_parent\"><img src=\"https://colab.research.google.com/assets/colab-badge.svg\" alt=\"Open In Colab\"/></a>"
      ]
    },
    {
      "cell_type": "markdown",
      "source": [
        "# Alistar entorno."
      ],
      "metadata": {
        "id": "d4es-WyE3Srw"
      }
    },
    {
      "cell_type": "code",
      "source": [
        "!pip install numpy\n",
        "!pip install geopy\n",
        "!pip install pandas\n",
        "!pip install pyproj\n",
        "!pip install timedelta"
      ],
      "metadata": {
        "colab": {
          "base_uri": "https://localhost:8080/"
        },
        "id": "z2gAjbKYA5RA",
        "outputId": "19b17398-ed62-463d-d466-d5d7caf16fdc",
        "collapsed": true
      },
      "execution_count": 12,
      "outputs": [
        {
          "output_type": "stream",
          "name": "stdout",
          "text": [
            "Requirement already satisfied: numpy in /usr/local/lib/python3.10/dist-packages (1.23.5)\n",
            "Requirement already satisfied: geopy in /usr/local/lib/python3.10/dist-packages (2.3.0)\n",
            "Requirement already satisfied: geographiclib<3,>=1.52 in /usr/local/lib/python3.10/dist-packages (from geopy) (2.0)\n",
            "Requirement already satisfied: pandas in /usr/local/lib/python3.10/dist-packages (1.5.3)\n",
            "Requirement already satisfied: python-dateutil>=2.8.1 in /usr/local/lib/python3.10/dist-packages (from pandas) (2.8.2)\n",
            "Requirement already satisfied: pytz>=2020.1 in /usr/local/lib/python3.10/dist-packages (from pandas) (2023.4)\n",
            "Requirement already satisfied: numpy>=1.21.0 in /usr/local/lib/python3.10/dist-packages (from pandas) (1.23.5)\n",
            "Requirement already satisfied: six>=1.5 in /usr/local/lib/python3.10/dist-packages (from python-dateutil>=2.8.1->pandas) (1.16.0)\n",
            "Requirement already satisfied: pyproj in /usr/local/lib/python3.10/dist-packages (3.6.1)\n",
            "Requirement already satisfied: certifi in /usr/local/lib/python3.10/dist-packages (from pyproj) (2024.2.2)\n",
            "Requirement already satisfied: timedelta in /usr/local/lib/python3.10/dist-packages (2020.12.3)\n"
          ]
        }
      ]
    },
    {
      "cell_type": "code",
      "execution_count": 13,
      "metadata": {
        "collapsed": true,
        "id": "MNZna2UJf_ch"
      },
      "outputs": [],
      "source": [
        "import ee\n",
        "import time\n",
        "import folium\n",
        "import datetime\n",
        "import numpy as np\n",
        "import pandas as pd\n",
        "from folium import plugins\n",
        "from geopy.geocoders import Nominatim\n",
        "from datetime import datetime, timedelta\n",
        "from pyproj import Transformer, Proj, transform"
      ]
    },
    {
      "cell_type": "code",
      "source": [
        "# https://colab.research.google.com/github/giswqs/qgis-earthengine-examples/blob/master/Folium/ee-api-folium-setup.ipynb#scrollTo=TNyoqjq9_l41\n",
        "# Add custom basemaps to folium\n",
        "basemaps = {\n",
        "    'Google Terrain': folium.TileLayer(\n",
        "        tiles = 'https://mt1.google.com/vt/lyrs=p&x={x}&y={y}&z={z}',\n",
        "        attr = 'Google',\n",
        "        name = 'Google Terrain',\n",
        "        overlay = True,\n",
        "        control = True\n",
        "    ),\n",
        "    'Google Satellite Hybrid': folium.TileLayer(\n",
        "        tiles = 'https://mt1.google.com/vt/lyrs=y&x={x}&y={y}&z={z}',\n",
        "        attr = 'Google',\n",
        "        name = 'Google Satellite',\n",
        "        overlay = True,\n",
        "        control = True\n",
        "    ),\n",
        "    'Google Maps': folium.TileLayer(\n",
        "        tiles = 'https://mt1.google.com/vt/lyrs=m&x={x}&y={y}&z={z}',\n",
        "        attr = 'Google',\n",
        "        name = 'Google Maps',\n",
        "        overlay = True,\n",
        "        control = True\n",
        "    )\n",
        "}"
      ],
      "metadata": {
        "id": "O544BJ83Aikv"
      },
      "execution_count": 14,
      "outputs": []
    },
    {
      "cell_type": "code",
      "source": [
        "# https://colab.research.google.com/github/giswqs/qgis-earthengine-examples/blob/master/Folium/ee-api-folium-setup.ipynb#scrollTo=TNyoqjq9_l41\n",
        "\n",
        "# Define a method for displaying Earth Engine image tiles on a folium map.\n",
        "def add_ee_layer(self, ee_object, vis_params, name):\n",
        "\n",
        "    try:\n",
        "        # display ee.Image()\n",
        "        if isinstance(ee_object, ee.image.Image):\n",
        "            map_id_dict = ee.Image(ee_object).getMapId(vis_params)\n",
        "            folium.raster_layers.TileLayer(\n",
        "            tiles = map_id_dict['tile_fetcher'].url_format,\n",
        "            attr = 'Google Earth Engine',\n",
        "            name = name,\n",
        "            overlay = True,\n",
        "            control = True\n",
        "            ).add_to(self)\n",
        "        # display ee.ImageCollection()\n",
        "        elif isinstance(ee_object, ee.imagecollection.ImageCollection):\n",
        "            ee_object_new = ee_object.mosaic()\n",
        "            map_id_dict = ee.Image(ee_object_new).getMapId(vis_params)\n",
        "            folium.raster_layers.TileLayer(\n",
        "            tiles = map_id_dict['tile_fetcher'].url_format,\n",
        "            attr = 'Google Earth Engine',\n",
        "            name = name,\n",
        "            overlay = True,\n",
        "            control = True\n",
        "            ).add_to(self)\n",
        "        # display ee.Geometry()\n",
        "        elif isinstance(ee_object, ee.geometry.Geometry):\n",
        "            folium.GeoJson(\n",
        "            data = ee_object.getInfo(),\n",
        "            name = name,\n",
        "            overlay = True,\n",
        "            control = True\n",
        "        ).add_to(self)\n",
        "        # display ee.FeatureCollection()\n",
        "        elif isinstance(ee_object, ee.featurecollection.FeatureCollection):\n",
        "            ee_object_new = ee.Image().paint(ee_object, 0, 2)\n",
        "            map_id_dict = ee.Image(ee_object_new).getMapId(vis_params)\n",
        "            folium.raster_layers.TileLayer(\n",
        "            tiles = map_id_dict['tile_fetcher'].url_format,\n",
        "            attr = 'Google Earth Engine',\n",
        "            name = name,\n",
        "            overlay = True,\n",
        "            control = True\n",
        "        ).add_to(self)\n",
        "\n",
        "    except:\n",
        "        print(\"Could not display {}\".format(name))\n",
        "\n",
        "# Add EE drawing method to folium.\n",
        "folium.Map.add_ee_layer = add_ee_layer"
      ],
      "metadata": {
        "id": "7JKAKdbHBSIf"
      },
      "execution_count": 15,
      "outputs": []
    },
    {
      "cell_type": "markdown",
      "source": [
        "# **1. Autorizar e inicializar Earth Engine**\n",
        "#### _Autenticar e inicializar la API de Google Earth Engine (GEE)._\n",
        "\n",
        "\n",
        "\n",
        "\n",
        "- Conecte e inicialice con tu cuenta de earth engine y proyecto."
      ],
      "metadata": {
        "id": "gLMYjSSaB6Oi"
      }
    },
    {
      "cell_type": "code",
      "source": [
        "ee.Authenticate(auth_mode=\"notebook\")\n",
        "ee.Initialize()"
      ],
      "metadata": {
        "id": "Rk7FOpOkgIyg",
        "collapsed": true
      },
      "execution_count": null,
      "outputs": []
    },
    {
      "cell_type": "markdown",
      "source": [
        "# **2. Cargar y analizar CSV**\n",
        "\n",
        "#### _Cargue el archivo CSV que contiene las coordenadas y analícelo para crear puntos._\n",
        "\n",
        "- Exporta tu hoja de cálculo con los vértices como csv. La integridad y uniformidad del documento original es importante. Si tiene dificultades en este paso, consulte el curso [aquí.](https://www.youtube.com/watch?v=uGx0PHD6o9M)\n",
        "\n",
        "- Al usar este cuaderno en colab. Habrá un panel a la izquierda. Si no estás en los archivos. Haga clic en el icono de la carpeta donde los botones están al ras de la pantalla. Ahora donde dice \"Archivos\", haz clic en el ícono de archivo con una flecha en el medio y sube tus vértices. Alternativamente, puede arrastrar y soltar en el panel de archivos.\n",
        "\n",
        "# WHEN THE SCRIPT IS DONE DELETE THE COMMENTED OUT CELLS\n"
      ],
      "metadata": {
        "id": "1FPEd4NJCAn3"
      }
    },
    {
      "cell_type": "code",
      "source": [
        "csv_viaje = 'imazacoord.csv'  # Una vez que haya cargado su archivo, en esta línea cambie el nombre por el nombre del archivo que cargó con la extensión.\n",
        "df = pd.read_csv(csv_viaje)"
      ],
      "metadata": {
        "id": "shNomv3DB4AB"
      },
      "execution_count": 12,
      "outputs": []
    },
    {
      "cell_type": "code",
      "source": [
        "# Aquí necesitamos proyectar desde UTM 18S a WGS84 (el CRS utilizado por Earth Engine).\n",
        "transformer = Transformer.from_crs(\"epsg:32718\", \"epsg:4326\", always_xy=True)\n",
        "'''\n",
        "Tenga en cuenta que si sus coordenadas no están en UTM 18S,\n",
        "deberá consultar la documentación de pyproj y ajustar \"epsg:32718\"\n",
        "al epsg que utilizan sus coordenadas. Aquí está el sitio donde\n",
        "puedes encontrar esa información:\n",
        "https://pyproj4.github.io/pyproj/stable/api/crs/crs.html\n",
        "https://epsg.io/\n",
        "'''\n",
        "def utm_to_latlon(easting, northing):\n",
        "    lon, lat = transformer.transform(easting, northing)\n",
        "    return lat, lon\n",
        "\n",
        "df['latitud'], df['longitud'] = zip(*df.apply(lambda row: utm_to_latlon(row['ESTE'], row['NORTE']), axis=1)) # Donde dice 'ESTE' y 'NORTE', esto coincide de manera muy idéntica con los nombres de las columnas de latitud y longitud en sus datos."
      ],
      "metadata": {
        "collapsed": true,
        "id": "yyoEB_F7B8tJ"
      },
      "execution_count": 13,
      "outputs": []
    },
    {
      "cell_type": "code",
      "source": [
        "# df.head() # Ahora puedes verificar tus operaciones."
      ],
      "metadata": {
        "id": "GtU7GL65E_Bu"
      },
      "execution_count": null,
      "outputs": []
    },
    {
      "cell_type": "code",
      "source": [
        "coordenadas = df[['latitud', 'longitud']].values.tolist()"
      ],
      "metadata": {
        "id": "4etm69guE3lE",
        "collapsed": true
      },
      "execution_count": null,
      "outputs": []
    },
    {
      "cell_type": "code",
      "source": [
        "# coordenadas[0]"
      ],
      "metadata": {
        "id": "tqe6aESnoAa7"
      },
      "execution_count": null,
      "outputs": []
    },
    {
      "cell_type": "code",
      "source": [
        "puntos = [ee.Feature(ee.Geometry.Point(lon, lat)) for lat, lon in coordenadas]\n",
        "puntos_fc = ee.FeatureCollection(puntos)"
      ],
      "metadata": {
        "id": "7flGn0lPB8wW"
      },
      "execution_count": null,
      "outputs": []
    },
    {
      "cell_type": "code",
      "source": [
        "# puntos_fc"
      ],
      "metadata": {
        "id": "TuyqlIyZAVaj",
        "collapsed": true
      },
      "execution_count": null,
      "outputs": []
    },
    {
      "cell_type": "code",
      "source": [
        "polygon = ee.Geometry.Polygon(coordenadas)"
      ],
      "metadata": {
        "id": "U3FK1tnq5xDt"
      },
      "execution_count": null,
      "outputs": []
    },
    {
      "cell_type": "code",
      "source": [
        "polygon_geojson = ee.FeatureCollection([ee.Feature(polygon)]).getInfo()"
      ],
      "metadata": {
        "id": "BKg95BJTChHP"
      },
      "execution_count": null,
      "outputs": []
    },
    {
      "cell_type": "code",
      "source": [
        "# display(polygon)"
      ],
      "metadata": {
        "collapsed": true,
        "id": "KIP03ONe52kA"
      },
      "execution_count": null,
      "outputs": []
    },
    {
      "cell_type": "code",
      "source": [
        "centroid = polygon.centroid(maxError=1)"
      ],
      "metadata": {
        "id": "7B-fjdbu6M9o"
      },
      "execution_count": null,
      "outputs": []
    },
    {
      "cell_type": "code",
      "source": [
        "centroid.getInfo()"
      ],
      "metadata": {
        "collapsed": true,
        "id": "Zi90rKai6TTm"
      },
      "execution_count": null,
      "outputs": []
    },
    {
      "cell_type": "code",
      "source": [
        "centro= (-4.349571452252664, -73.72755930052607) # Aquí pegue las coordenadas impresas en la celda de arriba para definir el centro de su parcela."
      ],
      "metadata": {
        "id": "4u-R5Ba8Bl40"
      },
      "execution_count": null,
      "outputs": []
    },
    {
      "cell_type": "code",
      "source": [
        "# Fetch the most recent Landsat image\n",
        "'''\n",
        "landsat = ee.ImageCollection(\"LANDSAT/LC08/C02/T1_L2\") \\\n",
        "          .filterDate('2013-01-01', '2024-02-10') \\\n",
        "          .filterBounds(puntos_fc) \\\n",
        "          .filter(ee.Filter.lt('CLOUD_COVER', 10)) \\\n",
        "          .sort('system:time_start', False).first()  # False to sort in descending order\n",
        "'''"
      ],
      "metadata": {
        "id": "2dySTumC6QZZ"
      },
      "execution_count": null,
      "outputs": []
    },
    {
      "cell_type": "code",
      "source": [
        "# print(landsat.getInfo())"
      ],
      "metadata": {
        "collapsed": true,
        "id": "QruxR1RR-JMg"
      },
      "execution_count": null,
      "outputs": []
    },
    {
      "cell_type": "code",
      "source": [
        "# landsat.getMapId()"
      ],
      "metadata": {
        "id": "JP7pj2jV-dBS"
      },
      "execution_count": null,
      "outputs": []
    },
    {
      "cell_type": "code",
      "source": [
        "'''\n",
        "# https://colab.research.google.com/github/giswqs/qgis-earthengine-examples/blob/master/Folium/ee-api-folium-setup.ipynb#scrollTo=TNyoqjq9_l41\n",
        "\n",
        "# Set visualization parameters.\n",
        "vis_params = {\n",
        "    'bands': ['SR_B4', 'SR_B3', 'SR_B2'],\n",
        "    'min': 0.0,\n",
        "    'max': 0.3,\n",
        "}\n",
        "\n",
        "\n",
        "# Create a folium map object., '%Y-%m-%d')\n",
        "my_map = folium.Map(location=[centro[0], centro[1]], zoom_start=15)\n",
        "\n",
        "# Add custom basemaps\n",
        "basemaps['Google Maps'].add_to(my_map)\n",
        "basemaps['Google Satellite Hybrid'].add_to(my_map)\n",
        "\n",
        "# Add the elevation model to the map object.\n",
        "my_map.add_ee_layer(landsat, vis_params, 'Landsat 8 Image')\n",
        "\n",
        "# Add the polygon to the map using Folium's GeoJson method for custom styling.\n",
        "folium.GeoJson(polygon_geojson).add_to(my_map)\n",
        "\n",
        "# Add a layer control panel to the map.\n",
        "my_map.add_child(folium.LayerControl())\n",
        "\n",
        "# Add fullscreen button\n",
        "plugins.Fullscreen().add_to(my_map)\n",
        "\n",
        "# Display the map.\n",
        "display(my_map)\n",
        "'''"
      ],
      "metadata": {
        "collapsed": true,
        "id": "-UP7vSQj4aeJ"
      },
      "execution_count": null,
      "outputs": []
    },
    {
      "cell_type": "markdown",
      "source": [
        "# **3. Obtener imágenes de Landsat:**\n",
        "\n",
        "#### _Utilice la API de Earth Engine para consultar imágenes de Landsat 8 para las fechas y la cobertura de nubes especificadas._"
      ],
      "metadata": {
        "id": "KSrZlhbHDS7Y"
      }
    },
    {
      "cell_type": "code",
      "source": [
        "antes = '2023-01-06'\n",
        "'''\n",
        "Establezca esto en una fecha anterior a la emisión del permiso.\n",
        "Encontrará la primera imagen de satélite en esa fecha o antes que\n",
        "cumpla con sus requisitos de cobertura de nubes.\n",
        "'''\n",
        "despues = '2024-01-06'\n",
        "'''\n",
        "Esta fecha es posterior a la cosecha y encontrará\n",
        "una imagen para la fecha más cercana pero no anterior\n",
        "a la cosecha que cumpla con el umbral de nubosidad.\n",
        "'''\n",
        "limite_coberatura_nubes = 15  # Establezca esto en su umbral máximo de cobertura de nubes."
      ],
      "metadata": {
        "id": "WWvySrWmB8z_"
      },
      "execution_count": null,
      "outputs": []
    },
    {
      "cell_type": "code",
      "source": [
        "# Imagen antes de la emisión del permiso.\n",
        "# Un día, en un futuro lejano, Landsat 8 podría retirarse por 9. En este caso, será necesario corregir el script.\n",
        "landsat1 = ee.ImageCollection(\"LANDSAT/LC08/C02/T1_L2\") \\\n",
        "           .filterDate(antes) \\\n",
        "           .filterBounds(puntos_fc) \\\n",
        "           .filter(ee.Filter.lt('CLOUD_COVER', limite_coberatura_nubes)) \\\n",
        "           .sort(antes, ascending= False).first()\n",
        "\n",
        "ndvi1 = landsat1.normalizedDifference(['SR_B5', 'SR_B4']).rename('NDVI')"
      ],
      "metadata": {
        "id": "KV70arDMecVZ"
      },
      "execution_count": null,
      "outputs": []
    },
    {
      "cell_type": "code",
      "source": [
        "# Aquí está la foto después de la cosecha.\n",
        "landsat2 = ee.ImageCollection(\"LANDSAT/LC08/C02/T1_L2\") \\\n",
        "           .filterDate(despues) \\\n",
        "           .filterBounds(puntos_fc) \\\n",
        "           .filter(ee.Filter.lt('CLOUD_COVER', limite_coberatura_nubes)) \\\n",
        "           .sort('system:time_start', True).first()\n",
        "\n",
        "ndvi2 = landsat2.normalizedDifference(['SR_B5', 'SR_B4']).rename('NDVI')"
      ],
      "metadata": {
        "id": "3uA18p9tiStX"
      },
      "execution_count": null,
      "outputs": []
    },
    {
      "cell_type": "code",
      "source": [
        "# Aquí vemos la trama previa a la emisión del permiso.\n",
        "# https://colab.research.google.com/github/giswqs/qgis-earthengine-examples/blob/master/Folium/ee-api-folium-setup.ipynb#scrollTo=TNyoqjq9_l41\n",
        "\n",
        "vis_params = {\n",
        "    'bands': ['SR_B4', 'SR_B3', 'SR_B2'],\n",
        "    'min': 0.0,\n",
        "    'max': 0.3,\n",
        "}\n",
        "\n",
        "my_map = folium.Map(location=[centro[0], centro[1]], zoom_start=15)\n",
        "\n",
        "basemaps['Google Maps'].add_to(my_map)\n",
        "basemaps['Google Satellite Hybrid'].add_to(my_map)\n",
        "\n",
        "my_map.add_ee_layer(landsat1, vis_params, 'Landsat 8 Image')\n",
        "\n",
        "folium.GeoJson(polygon_geojson).add_to(my_map)\n",
        "\n",
        "my_map.add_child(folium.LayerControl())\n",
        "\n",
        "plugins.Fullscreen().add_to(my_map)\n",
        "\n",
        "display(my_map)"
      ],
      "metadata": {
        "id": "UVQxmkhJlpnO"
      },
      "execution_count": null,
      "outputs": []
    },
    {
      "cell_type": "markdown",
      "source": [
        "# **4. Calcular NDVI:**\n",
        "#### _Calcular y enmascarar áreas donde se excede el umbral._"
      ],
      "metadata": {
        "id": "ZosZS1gPH8Fu"
      }
    },
    {
      "cell_type": "code",
      "source": [
        "ndvi_diff = ndvi2.subtract(ndvi1).rename('Change')\n",
        "threshold = 0.1\n",
        "'''\n",
        "Aquí es posible que deba ajustar el umbral.\n",
        "Es importante monitorear para asegurarse de que el umbral dado\n",
        "refleje con precisión el área cosechada.\n",
        "'''\n",
        "diff_mask = ndvi_diff.gt(threshold)"
      ],
      "metadata": {
        "id": "yQ-pklCgB87X"
      },
      "execution_count": null,
      "outputs": []
    },
    {
      "cell_type": "code",
      "source": [
        "diff_mask"
      ],
      "metadata": {
        "colab": {
          "base_uri": "https://localhost:8080/"
        },
        "id": "vEFBcllkr3TG",
        "outputId": "b89639e3-1b18-475d-945c-770b3dfe3c7d"
      },
      "execution_count": null,
      "outputs": [
        {
          "output_type": "execute_result",
          "data": {
            "text/plain": [
              "<ee.image.Image at 0x7d7e260330d0>"
            ]
          },
          "metadata": {},
          "execution_count": 24
        }
      ]
    },
    {
      "cell_type": "code",
      "source": [
        "vectors = diff_mask.reduceToVectors({\n",
        "    'geometryType': 'polygon',\n",
        "    'reducer': ee.Reducer.countEvery(),\n",
        "    'scale': 30, # Esto debe ajustarse según el tamaño de su paquete y la resolución de las imágenes.\n",
        "    'maxPixels': 1e8\n",
        "})"
      ],
      "metadata": {
        "id": "fCA-lZL7rdTn"
      },
      "execution_count": null,
      "outputs": []
    },
    {
      "cell_type": "code",
      "source": [
        "geojson_output = vectors.getInfo()"
      ],
      "metadata": {
        "id": "4yBEE6snreIt"
      },
      "execution_count": null,
      "outputs": []
    },
    {
      "cell_type": "markdown",
      "source": [
        "# **5. Visualizar**\n",
        "#### _Muestra los polígonos identificados sobre la imagen Landsat más reciente._"
      ],
      "metadata": {
        "id": "IGiBjQDLITmo"
      }
    },
    {
      "cell_type": "code",
      "source": [
        "vis_params = {\n",
        "    'bands': ['SR_B4', 'SR_B3', 'SR_B2'],\n",
        "    'min': 0.0,\n",
        "    'max': 0.3,\n",
        "}\n",
        "\n",
        "my_map = folium.Map(location=[centro[0], centro[1]], zoom_start=15)\n",
        "\n",
        "basemaps['Google Maps'].add_to(my_map)\n",
        "basemaps['Google Satellite Hybrid'].add_to(my_map)\n",
        "\n",
        "my_map.add_ee_layer(landsat2, vis_params, 'Landsat 8 Image')\n",
        "\n",
        "folium.GeoJson(geojson_output).add_to(my_map)\n",
        "\n",
        "my_map.add_child(folium.LayerControl())\n",
        "\n",
        "plugins.Fullscreen().add_to(my_map)\n",
        "\n",
        "display(my_map)"
      ],
      "metadata": {
        "id": "4WS8v0wJIGAo"
      },
      "execution_count": null,
      "outputs": []
    },
    {
      "cell_type": "code",
      "source": [
        "# Estos son los vértices de los polígonos donde hubo cosecha.\n",
        "def print_polygon_vertices(geojson):\n",
        "    for i, feature in enumerate(geojson['features']):\n",
        "        if 'geometry' in feature and 'coordinates' in feature['geometry']:\n",
        "            polygon_coordinates = feature['geometry']['coordinates'][0]\n",
        "\n",
        "            print(f\"Title Here: Polygon {i + 1}\")\n",
        "\n",
        "            print(f\"{'Vertex':<10}{'Latitude':<20}{'Longitude':<20}\")\n",
        "\n",
        "            for j, coord in enumerate(polygon_coordinates):\n",
        "                lat, lon = coord\n",
        "                print(f\"{j + 1:<10}{lat:<20}{lon:<20}\")\n",
        "\n",
        "            print(\"\\n\" + \"-\"*50 + \"\\n\")\n",
        "\n",
        "print_polygon_vertices(geojson_output)"
      ],
      "metadata": {
        "id": "QBnkAqBQ6Nxd"
      },
      "execution_count": null,
      "outputs": []
    }
  ]
}