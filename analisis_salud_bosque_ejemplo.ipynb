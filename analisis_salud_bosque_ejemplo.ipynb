{
  "nbformat": 4,
  "nbformat_minor": 0,
  "metadata": {
    "colab": {
      "provenance": [],
      "collapsed_sections": [
        "d4es-WyE3Srw",
        "gLMYjSSaB6Oi",
        "1FPEd4NJCAn3",
        "BGbpHpSMGs9q",
        "lDsf7hKMG2Di",
        "KSrZlhbHDS7Y",
        "ZosZS1gPH8Fu"
      ],
      "mount_file_id": "1OBcPBAgcqq1n_qJAB-DiXix1pZNvIUWl",
      "authorship_tag": "ABX9TyN7j0/N8UJZXLBK14zLnMiH",
      "include_colab_link": true
    },
    "kernelspec": {
      "name": "python3",
      "display_name": "Python 3"
    },
    "language_info": {
      "name": "python"
    },
    "widgets": {
      "application/vnd.jupyter.widget-state+json": {
        "b584a6f16b3543248c8be065f03cf1b8": {
          "model_module": "jupyter-leaflet",
          "model_name": "LeafletMapModel",
          "model_module_version": "^0.18",
          "state": {
            "_dom_classes": [],
            "_model_module": "jupyter-leaflet",
            "_model_module_version": "^0.18",
            "_model_name": "LeafletMapModel",
            "_view_count": null,
            "_view_module": "jupyter-leaflet",
            "_view_module_version": "^0.18",
            "_view_name": "LeafletMapView",
            "bottom": 268484,
            "bounce_at_zoom_limits": true,
            "box_zoom": true,
            "center": [
              -4.349379692587443,
              -73.72766753816298
            ],
            "close_popup_on_click": true,
            "controls": [
              "IPY_MODEL_31c56fb4de6f44e198a7043b356f80e8",
              "IPY_MODEL_75c02e6706a843dc9ef281a3e2d544e2",
              "IPY_MODEL_c7abd1099edb4f868fd5c1cc8ecbe936",
              "IPY_MODEL_b32ae4d9575a45be8180dc0d2c31667d",
              "IPY_MODEL_a0a229a0a71c43ec879dd675b34c2d5b",
              "IPY_MODEL_4f5535414b7548229f920f848135906a",
              "IPY_MODEL_e87db12705dc45418c045c0e918626ea",
              "IPY_MODEL_66f203699dad456aaba9b389e3becbd6"
            ],
            "crs": {
              "name": "EPSG3857",
              "custom": false
            },
            "default_style": "IPY_MODEL_6f1af5511f4d469aa21fd82b980ea999",
            "double_click_zoom": true,
            "dragging": true,
            "dragging_style": "IPY_MODEL_e2902286adf640ec9270947c4f7dc220",
            "east": -73.72787475585939,
            "fullscreen": false,
            "inertia": true,
            "inertia_deceleration": 3000,
            "inertia_max_speed": 1500,
            "interpolation": "bilinear",
            "keyboard": true,
            "keyboard_pan_offset": 80,
            "keyboard_zoom_offset": 1,
            "layers": [
              "IPY_MODEL_7de59f0c329a4e5e96c77d4fb2e2cf8c",
              "IPY_MODEL_397c67a046294e9885fbb8968f617e13"
            ],
            "layout": "IPY_MODEL_c5e8de5cda124fc7ac1ccc640959194b",
            "left": 154770,
            "max_zoom": 24,
            "min_zoom": null,
            "modisdate": "2024-02-18",
            "north": -4.349149953414805,
            "options": [
              "bounce_at_zoom_limits",
              "box_zoom",
              "center",
              "close_popup_on_click",
              "double_click_zoom",
              "dragging",
              "fullscreen",
              "inertia",
              "inertia_deceleration",
              "inertia_max_speed",
              "interpolation",
              "keyboard",
              "keyboard_pan_offset",
              "keyboard_zoom_offset",
              "max_zoom",
              "min_zoom",
              "prefer_canvas",
              "scroll_wheel_zoom",
              "tap",
              "tap_tolerance",
              "touch_zoom",
              "world_copy_jump",
              "zoom",
              "zoom_animation_threshold",
              "zoom_delta",
              "zoom_snap"
            ],
            "panes": {},
            "prefer_canvas": false,
            "right": 154770,
            "scroll_wheel_zoom": true,
            "south": -4.349149953414805,
            "style": "IPY_MODEL_a0268e6ffed049db8b3dcae85d783f48",
            "tap": true,
            "tap_tolerance": 15,
            "top": 268484,
            "touch_zoom": true,
            "west": -73.72787475585939,
            "window_url": "https://b9ds0rfopbu-496ff2e9c6d22116-0-colab.googleusercontent.com/outputframe.html?vrz=colab_20240214-060113_RC00_606917857",
            "world_copy_jump": false,
            "zoom": 11,
            "zoom_animation_threshold": 4,
            "zoom_delta": 1,
            "zoom_snap": 1
          }
        },
        "31c56fb4de6f44e198a7043b356f80e8": {
          "model_module": "jupyter-leaflet",
          "model_name": "LeafletWidgetControlModel",
          "model_module_version": "^0.18",
          "state": {
            "_model_module": "jupyter-leaflet",
            "_model_module_version": "^0.18",
            "_model_name": "LeafletWidgetControlModel",
            "_view_count": null,
            "_view_module": "jupyter-leaflet",
            "_view_module_version": "^0.18",
            "_view_name": "LeafletWidgetControlView",
            "max_height": null,
            "max_width": null,
            "min_height": null,
            "min_width": null,
            "options": [
              "position",
              "transparent_bg"
            ],
            "position": "topleft",
            "transparent_bg": false,
            "widget": "IPY_MODEL_3e65940e6ca642cc9eb409e4456329de"
          }
        },
        "75c02e6706a843dc9ef281a3e2d544e2": {
          "model_module": "jupyter-leaflet",
          "model_name": "LeafletZoomControlModel",
          "model_module_version": "^0.18",
          "state": {
            "_model_module": "jupyter-leaflet",
            "_model_module_version": "^0.18",
            "_model_name": "LeafletZoomControlModel",
            "_view_count": null,
            "_view_module": "jupyter-leaflet",
            "_view_module_version": "^0.18",
            "_view_name": "LeafletZoomControlView",
            "options": [
              "position",
              "zoom_in_text",
              "zoom_in_title",
              "zoom_out_text",
              "zoom_out_title"
            ],
            "position": "topleft",
            "zoom_in_text": "+",
            "zoom_in_title": "Zoom in",
            "zoom_out_text": "-",
            "zoom_out_title": "Zoom out"
          }
        },
        "c7abd1099edb4f868fd5c1cc8ecbe936": {
          "model_module": "jupyter-leaflet",
          "model_name": "LeafletFullScreenControlModel",
          "model_module_version": "^0.18",
          "state": {
            "_model_module": "jupyter-leaflet",
            "_model_module_version": "^0.18",
            "_model_name": "LeafletFullScreenControlModel",
            "_view_count": null,
            "_view_module": "jupyter-leaflet",
            "_view_module_version": "^0.18",
            "_view_name": "LeafletFullScreenControlView",
            "options": [
              "position"
            ],
            "position": "topleft"
          }
        },
        "b32ae4d9575a45be8180dc0d2c31667d": {
          "model_module": "jupyter-leaflet",
          "model_name": "LeafletDrawControlModel",
          "model_module_version": "^0.18",
          "state": {
            "_model_module": "jupyter-leaflet",
            "_model_module_version": "^0.18",
            "_model_name": "LeafletDrawControlModel",
            "_view_count": null,
            "_view_module": "jupyter-leaflet",
            "_view_module_version": "^0.18",
            "_view_name": "LeafletDrawControlView",
            "circle": {},
            "circlemarker": {},
            "data": [],
            "edit": true,
            "marker": {
              "shapeOptions": {
                "color": "#3388ff"
              }
            },
            "options": [
              "position"
            ],
            "polygon": {
              "shapeOptions": {}
            },
            "polyline": {
              "shapeOptions": {}
            },
            "position": "topleft",
            "rectangle": {
              "shapeOptions": {
                "color": "#3388ff"
              }
            },
            "remove": true
          }
        },
        "a0a229a0a71c43ec879dd675b34c2d5b": {
          "model_module": "jupyter-leaflet",
          "model_name": "LeafletScaleControlModel",
          "model_module_version": "^0.18",
          "state": {
            "_model_module": "jupyter-leaflet",
            "_model_module_version": "^0.18",
            "_model_name": "LeafletScaleControlModel",
            "_view_count": null,
            "_view_module": "jupyter-leaflet",
            "_view_module_version": "^0.18",
            "_view_name": "LeafletScaleControlView",
            "imperial": true,
            "max_width": 100,
            "metric": true,
            "options": [
              "imperial",
              "max_width",
              "metric",
              "position",
              "update_when_idle"
            ],
            "position": "bottomleft",
            "update_when_idle": false
          }
        },
        "4f5535414b7548229f920f848135906a": {
          "model_module": "jupyter-leaflet",
          "model_name": "LeafletMeasureControlModel",
          "model_module_version": "^0.18",
          "state": {
            "_custom_units": {},
            "_model_module": "jupyter-leaflet",
            "_model_module_version": "^0.18",
            "_model_name": "LeafletMeasureControlModel",
            "_view_count": null,
            "_view_module": "jupyter-leaflet",
            "_view_module_version": "^0.18",
            "_view_name": "LeafletMeasureControlView",
            "active_color": "orange",
            "capture_z_index": 10000,
            "completed_color": "#C8F2BE",
            "options": [
              "active_color",
              "capture_z_index",
              "completed_color",
              "popup_options",
              "position",
              "primary_area_unit",
              "primary_length_unit",
              "secondary_area_unit",
              "secondary_length_unit"
            ],
            "popup_options": {
              "className": "leaflet-measure-resultpopup",
              "autoPanPadding": [
                10,
                10
              ]
            },
            "position": "bottomleft",
            "primary_area_unit": "acres",
            "primary_length_unit": "kilometers",
            "secondary_area_unit": null,
            "secondary_length_unit": null
          }
        },
        "e87db12705dc45418c045c0e918626ea": {
          "model_module": "jupyter-leaflet",
          "model_name": "LeafletWidgetControlModel",
          "model_module_version": "^0.18",
          "state": {
            "_model_module": "jupyter-leaflet",
            "_model_module_version": "^0.18",
            "_model_name": "LeafletWidgetControlModel",
            "_view_count": null,
            "_view_module": "jupyter-leaflet",
            "_view_module_version": "^0.18",
            "_view_name": "LeafletWidgetControlView",
            "max_height": null,
            "max_width": null,
            "min_height": null,
            "min_width": null,
            "options": [
              "position",
              "transparent_bg"
            ],
            "position": "topright",
            "transparent_bg": false,
            "widget": "IPY_MODEL_a26d8368ff154f6bbe9d7be89f3e45f7"
          }
        },
        "66f203699dad456aaba9b389e3becbd6": {
          "model_module": "jupyter-leaflet",
          "model_name": "LeafletAttributionControlModel",
          "model_module_version": "^0.18",
          "state": {
            "_model_module": "jupyter-leaflet",
            "_model_module_version": "^0.18",
            "_model_name": "LeafletAttributionControlModel",
            "_view_count": null,
            "_view_module": "jupyter-leaflet",
            "_view_module_version": "^0.18",
            "_view_name": "LeafletAttributionControlView",
            "options": [
              "position",
              "prefix"
            ],
            "position": "bottomright",
            "prefix": "ipyleaflet"
          }
        },
        "6f1af5511f4d469aa21fd82b980ea999": {
          "model_module": "jupyter-leaflet",
          "model_name": "LeafletMapStyleModel",
          "model_module_version": "^0.18",
          "state": {
            "_model_module": "jupyter-leaflet",
            "_model_module_version": "^0.18",
            "_model_name": "LeafletMapStyleModel",
            "_view_count": null,
            "_view_module": "@jupyter-widgets/base",
            "_view_module_version": "1.2.0",
            "_view_name": "StyleView",
            "cursor": "grab"
          }
        },
        "e2902286adf640ec9270947c4f7dc220": {
          "model_module": "jupyter-leaflet",
          "model_name": "LeafletMapStyleModel",
          "model_module_version": "^0.18",
          "state": {
            "_model_module": "jupyter-leaflet",
            "_model_module_version": "^0.18",
            "_model_name": "LeafletMapStyleModel",
            "_view_count": null,
            "_view_module": "@jupyter-widgets/base",
            "_view_module_version": "1.2.0",
            "_view_name": "StyleView",
            "cursor": "move"
          }
        },
        "7de59f0c329a4e5e96c77d4fb2e2cf8c": {
          "model_module": "jupyter-leaflet",
          "model_name": "LeafletTileLayerModel",
          "model_module_version": "^0.18",
          "state": {
            "_model_module": "jupyter-leaflet",
            "_model_module_version": "^0.18",
            "_model_name": "LeafletTileLayerModel",
            "_view_count": null,
            "_view_module": "jupyter-leaflet",
            "_view_module_version": "^0.18",
            "_view_name": "LeafletTileLayerView",
            "attribution": "&copy; <a href=\"https://www.openstreetmap.org/copyright\">OpenStreetMap</a> contributors",
            "base": true,
            "bottom": true,
            "bounds": null,
            "detect_retina": false,
            "loading": false,
            "max_native_zoom": null,
            "max_zoom": 19,
            "min_native_zoom": null,
            "min_zoom": 1,
            "name": "OpenStreetMap.Mapnik",
            "no_wrap": false,
            "opacity": 1,
            "options": [
              "attribution",
              "bounds",
              "detect_retina",
              "max_native_zoom",
              "max_zoom",
              "min_native_zoom",
              "min_zoom",
              "no_wrap",
              "tile_size",
              "tms",
              "zoom_offset"
            ],
            "pane": "",
            "popup": null,
            "popup_max_height": null,
            "popup_max_width": 300,
            "popup_min_width": 50,
            "show_loading": false,
            "subitems": [],
            "tile_size": 256,
            "tms": false,
            "url": "https://tile.openstreetmap.org/{z}/{x}/{y}.png",
            "visible": true,
            "zoom_offset": 0
          }
        },
        "397c67a046294e9885fbb8968f617e13": {
          "model_module": "jupyter-leaflet",
          "model_name": "LeafletTileLayerModel",
          "model_module_version": "^0.18",
          "state": {
            "_model_module": "jupyter-leaflet",
            "_model_module_version": "^0.18",
            "_model_name": "LeafletTileLayerModel",
            "_view_count": null,
            "_view_module": "jupyter-leaflet",
            "_view_module_version": "^0.18",
            "_view_name": "LeafletTileLayerView",
            "attribution": "Google Earth Engine",
            "base": false,
            "bottom": true,
            "bounds": null,
            "detect_retina": false,
            "loading": false,
            "max_native_zoom": null,
            "max_zoom": 24,
            "min_native_zoom": null,
            "min_zoom": 0,
            "name": "Antes Permiso",
            "no_wrap": false,
            "opacity": 1,
            "options": [
              "attribution",
              "bounds",
              "detect_retina",
              "max_native_zoom",
              "max_zoom",
              "min_native_zoom",
              "min_zoom",
              "no_wrap",
              "tile_size",
              "tms",
              "zoom_offset"
            ],
            "pane": "",
            "popup": null,
            "popup_max_height": null,
            "popup_max_width": 300,
            "popup_min_width": 50,
            "show_loading": false,
            "subitems": [],
            "tile_size": 256,
            "tms": false,
            "url": "https://earthengine.googleapis.com/v1/projects/earthengine-legacy/maps/3e1eaca98947a267f1dd08a0b180ab16-d9139968aec3456212f6fb2123b1800f/tiles/{z}/{x}/{y}",
            "visible": true,
            "zoom_offset": 0
          }
        },
        "c5e8de5cda124fc7ac1ccc640959194b": {
          "model_module": "@jupyter-widgets/base",
          "model_name": "LayoutModel",
          "model_module_version": "1.2.0",
          "state": {
            "_model_module": "@jupyter-widgets/base",
            "_model_module_version": "1.2.0",
            "_model_name": "LayoutModel",
            "_view_count": null,
            "_view_module": "@jupyter-widgets/base",
            "_view_module_version": "1.2.0",
            "_view_name": "LayoutView",
            "align_content": null,
            "align_items": null,
            "align_self": null,
            "border": null,
            "bottom": null,
            "display": null,
            "flex": null,
            "flex_flow": null,
            "grid_area": null,
            "grid_auto_columns": null,
            "grid_auto_flow": null,
            "grid_auto_rows": null,
            "grid_column": null,
            "grid_gap": null,
            "grid_row": null,
            "grid_template_areas": null,
            "grid_template_columns": null,
            "grid_template_rows": null,
            "height": "600px",
            "justify_content": null,
            "justify_items": null,
            "left": null,
            "margin": null,
            "max_height": null,
            "max_width": null,
            "min_height": null,
            "min_width": null,
            "object_fit": null,
            "object_position": null,
            "order": null,
            "overflow": null,
            "overflow_x": null,
            "overflow_y": null,
            "padding": null,
            "right": null,
            "top": null,
            "visibility": null,
            "width": null
          }
        },
        "a0268e6ffed049db8b3dcae85d783f48": {
          "model_module": "jupyter-leaflet",
          "model_name": "LeafletMapStyleModel",
          "model_module_version": "^0.18",
          "state": {
            "_model_module": "jupyter-leaflet",
            "_model_module_version": "^0.18",
            "_model_name": "LeafletMapStyleModel",
            "_view_count": null,
            "_view_module": "@jupyter-widgets/base",
            "_view_module_version": "1.2.0",
            "_view_name": "StyleView",
            "cursor": "grab"
          }
        },
        "3e65940e6ca642cc9eb409e4456329de": {
          "model_module": "@jupyter-widgets/controls",
          "model_name": "HBoxModel",
          "model_module_version": "1.5.0",
          "state": {
            "_dom_classes": [
              "geemap-colab"
            ],
            "_model_module": "@jupyter-widgets/controls",
            "_model_module_version": "1.5.0",
            "_model_name": "HBoxModel",
            "_view_count": null,
            "_view_module": "@jupyter-widgets/controls",
            "_view_module_version": "1.5.0",
            "_view_name": "HBoxView",
            "box_style": "",
            "children": [
              "IPY_MODEL_2c571ca610994b888eb07466e4da343f"
            ],
            "layout": "IPY_MODEL_c319b322df354c7cb96d37a745b4aee7"
          }
        },
        "a26d8368ff154f6bbe9d7be89f3e45f7": {
          "model_module": "@jupyter-widgets/controls",
          "model_name": "VBoxModel",
          "model_module_version": "1.5.0",
          "state": {
            "_dom_classes": [
              "geemap-colab"
            ],
            "_model_module": "@jupyter-widgets/controls",
            "_model_module_version": "1.5.0",
            "_model_name": "VBoxModel",
            "_view_count": null,
            "_view_module": "@jupyter-widgets/controls",
            "_view_module_version": "1.5.0",
            "_view_name": "VBoxView",
            "box_style": "",
            "children": [
              "IPY_MODEL_48fa0499af4a4b3cb4d1195ff72c9d99"
            ],
            "layout": "IPY_MODEL_817b8874f6e14ce0908497c42381c70f"
          }
        },
        "2c571ca610994b888eb07466e4da343f": {
          "model_module": "@jupyter-widgets/controls",
          "model_name": "ToggleButtonModel",
          "model_module_version": "1.5.0",
          "state": {
            "_dom_classes": [],
            "_model_module": "@jupyter-widgets/controls",
            "_model_module_version": "1.5.0",
            "_model_name": "ToggleButtonModel",
            "_view_count": null,
            "_view_module": "@jupyter-widgets/controls",
            "_view_module_version": "1.5.0",
            "_view_name": "ToggleButtonView",
            "button_style": "",
            "description": "",
            "description_tooltip": null,
            "disabled": false,
            "icon": "globe",
            "layout": "IPY_MODEL_1a7a8d9baaf1477a817b85e8af73f911",
            "style": "IPY_MODEL_9679722246c344528c1e1bf431fec6ae",
            "tooltip": "Search location/data",
            "value": false
          }
        },
        "c319b322df354c7cb96d37a745b4aee7": {
          "model_module": "@jupyter-widgets/base",
          "model_name": "LayoutModel",
          "model_module_version": "1.2.0",
          "state": {
            "_model_module": "@jupyter-widgets/base",
            "_model_module_version": "1.2.0",
            "_model_name": "LayoutModel",
            "_view_count": null,
            "_view_module": "@jupyter-widgets/base",
            "_view_module_version": "1.2.0",
            "_view_name": "LayoutView",
            "align_content": null,
            "align_items": null,
            "align_self": null,
            "border": null,
            "bottom": null,
            "display": null,
            "flex": null,
            "flex_flow": null,
            "grid_area": null,
            "grid_auto_columns": null,
            "grid_auto_flow": null,
            "grid_auto_rows": null,
            "grid_column": null,
            "grid_gap": null,
            "grid_row": null,
            "grid_template_areas": null,
            "grid_template_columns": null,
            "grid_template_rows": null,
            "height": null,
            "justify_content": null,
            "justify_items": null,
            "left": null,
            "margin": null,
            "max_height": null,
            "max_width": null,
            "min_height": null,
            "min_width": null,
            "object_fit": null,
            "object_position": null,
            "order": null,
            "overflow": null,
            "overflow_x": null,
            "overflow_y": null,
            "padding": null,
            "right": null,
            "top": null,
            "visibility": null,
            "width": null
          }
        },
        "48fa0499af4a4b3cb4d1195ff72c9d99": {
          "model_module": "@jupyter-widgets/controls",
          "model_name": "ToggleButtonModel",
          "model_module_version": "1.5.0",
          "state": {
            "_dom_classes": [],
            "_model_module": "@jupyter-widgets/controls",
            "_model_module_version": "1.5.0",
            "_model_name": "ToggleButtonModel",
            "_view_count": null,
            "_view_module": "@jupyter-widgets/controls",
            "_view_module_version": "1.5.0",
            "_view_name": "ToggleButtonView",
            "button_style": "",
            "description": "",
            "description_tooltip": null,
            "disabled": false,
            "icon": "wrench",
            "layout": "IPY_MODEL_e6af9f5cbad94792961dc0257aecda97",
            "style": "IPY_MODEL_282a749cacfc4608829e554d313f3485",
            "tooltip": "Toolbar",
            "value": false
          }
        },
        "817b8874f6e14ce0908497c42381c70f": {
          "model_module": "@jupyter-widgets/base",
          "model_name": "LayoutModel",
          "model_module_version": "1.2.0",
          "state": {
            "_model_module": "@jupyter-widgets/base",
            "_model_module_version": "1.2.0",
            "_model_name": "LayoutModel",
            "_view_count": null,
            "_view_module": "@jupyter-widgets/base",
            "_view_module_version": "1.2.0",
            "_view_name": "LayoutView",
            "align_content": null,
            "align_items": null,
            "align_self": null,
            "border": null,
            "bottom": null,
            "display": null,
            "flex": null,
            "flex_flow": null,
            "grid_area": null,
            "grid_auto_columns": null,
            "grid_auto_flow": null,
            "grid_auto_rows": null,
            "grid_column": null,
            "grid_gap": null,
            "grid_row": null,
            "grid_template_areas": null,
            "grid_template_columns": null,
            "grid_template_rows": null,
            "height": null,
            "justify_content": null,
            "justify_items": null,
            "left": null,
            "margin": null,
            "max_height": null,
            "max_width": null,
            "min_height": null,
            "min_width": null,
            "object_fit": null,
            "object_position": null,
            "order": null,
            "overflow": null,
            "overflow_x": null,
            "overflow_y": null,
            "padding": null,
            "right": null,
            "top": null,
            "visibility": null,
            "width": null
          }
        },
        "1a7a8d9baaf1477a817b85e8af73f911": {
          "model_module": "@jupyter-widgets/base",
          "model_name": "LayoutModel",
          "model_module_version": "1.2.0",
          "state": {
            "_model_module": "@jupyter-widgets/base",
            "_model_module_version": "1.2.0",
            "_model_name": "LayoutModel",
            "_view_count": null,
            "_view_module": "@jupyter-widgets/base",
            "_view_module_version": "1.2.0",
            "_view_name": "LayoutView",
            "align_content": null,
            "align_items": null,
            "align_self": null,
            "border": null,
            "bottom": null,
            "display": null,
            "flex": null,
            "flex_flow": null,
            "grid_area": null,
            "grid_auto_columns": null,
            "grid_auto_flow": null,
            "grid_auto_rows": null,
            "grid_column": null,
            "grid_gap": null,
            "grid_row": null,
            "grid_template_areas": null,
            "grid_template_columns": null,
            "grid_template_rows": null,
            "height": "28px",
            "justify_content": null,
            "justify_items": null,
            "left": null,
            "margin": null,
            "max_height": null,
            "max_width": null,
            "min_height": null,
            "min_width": null,
            "object_fit": null,
            "object_position": null,
            "order": null,
            "overflow": null,
            "overflow_x": null,
            "overflow_y": null,
            "padding": "0px 0px 0px 4px",
            "right": null,
            "top": null,
            "visibility": null,
            "width": "28px"
          }
        },
        "9679722246c344528c1e1bf431fec6ae": {
          "model_module": "@jupyter-widgets/controls",
          "model_name": "DescriptionStyleModel",
          "model_module_version": "1.5.0",
          "state": {
            "_model_module": "@jupyter-widgets/controls",
            "_model_module_version": "1.5.0",
            "_model_name": "DescriptionStyleModel",
            "_view_count": null,
            "_view_module": "@jupyter-widgets/base",
            "_view_module_version": "1.2.0",
            "_view_name": "StyleView",
            "description_width": ""
          }
        },
        "e6af9f5cbad94792961dc0257aecda97": {
          "model_module": "@jupyter-widgets/base",
          "model_name": "LayoutModel",
          "model_module_version": "1.2.0",
          "state": {
            "_model_module": "@jupyter-widgets/base",
            "_model_module_version": "1.2.0",
            "_model_name": "LayoutModel",
            "_view_count": null,
            "_view_module": "@jupyter-widgets/base",
            "_view_module_version": "1.2.0",
            "_view_name": "LayoutView",
            "align_content": null,
            "align_items": null,
            "align_self": null,
            "border": null,
            "bottom": null,
            "display": null,
            "flex": null,
            "flex_flow": null,
            "grid_area": null,
            "grid_auto_columns": null,
            "grid_auto_flow": null,
            "grid_auto_rows": null,
            "grid_column": null,
            "grid_gap": null,
            "grid_row": null,
            "grid_template_areas": null,
            "grid_template_columns": null,
            "grid_template_rows": null,
            "height": "28px",
            "justify_content": null,
            "justify_items": null,
            "left": null,
            "margin": null,
            "max_height": null,
            "max_width": null,
            "min_height": null,
            "min_width": null,
            "object_fit": null,
            "object_position": null,
            "order": null,
            "overflow": null,
            "overflow_x": null,
            "overflow_y": null,
            "padding": "0px 0px 0px 4px",
            "right": null,
            "top": null,
            "visibility": null,
            "width": "28px"
          }
        },
        "282a749cacfc4608829e554d313f3485": {
          "model_module": "@jupyter-widgets/controls",
          "model_name": "DescriptionStyleModel",
          "model_module_version": "1.5.0",
          "state": {
            "_model_module": "@jupyter-widgets/controls",
            "_model_module_version": "1.5.0",
            "_model_name": "DescriptionStyleModel",
            "_view_count": null,
            "_view_module": "@jupyter-widgets/base",
            "_view_module_version": "1.2.0",
            "_view_name": "StyleView",
            "description_width": ""
          }
        },
        "668e838e0fa34cd88d1a5f1c48e54dcb": {
          "model_module": "jupyter-leaflet",
          "model_name": "LeafletMapModel",
          "model_module_version": "^0.18",
          "state": {
            "_dom_classes": [],
            "_model_module": "jupyter-leaflet",
            "_model_module_version": "^0.18",
            "_model_name": "LeafletMapModel",
            "_view_count": null,
            "_view_module": "jupyter-leaflet",
            "_view_module_version": "^0.18",
            "_view_name": "LeafletMapView",
            "bottom": 2148794,
            "bounce_at_zoom_limits": true,
            "box_zoom": true,
            "center": [
              -4.40238102354896,
              -73.73083433077758
            ],
            "close_popup_on_click": true,
            "controls": [
              "IPY_MODEL_97b5588debdb44ca99dae277ae64c346",
              "IPY_MODEL_d458c8781bd24adba99638026f56066d",
              "IPY_MODEL_473c3c60576e4bc6a77e14c38d862553",
              "IPY_MODEL_d6f99d71fc994afd91704ebb438cfa89",
              "IPY_MODEL_1c01c9a3304742c6b45f3490c4256ea4",
              "IPY_MODEL_09328e41b0954e3d830cfacefa2f3671",
              "IPY_MODEL_572985a0ee5243f28c146002897c71ae",
              "IPY_MODEL_5b7111d851ba44989f79f8c59a748924"
            ],
            "crs": {
              "name": "EPSG3857",
              "custom": false
            },
            "default_style": "IPY_MODEL_9792b32e417442cb87e1e77d58f1bdf9",
            "double_click_zoom": true,
            "dragging": true,
            "dragging_style": "IPY_MODEL_a4f636b12040430fa2bc92f44f880dc0",
            "east": -73.65757783816284,
            "fullscreen": false,
            "inertia": true,
            "inertia_deceleration": 3000,
            "inertia_max_speed": 1500,
            "interpolation": "bilinear",
            "keyboard": true,
            "keyboard_pan_offset": 80,
            "keyboard_zoom_offset": 1,
            "layers": [
              "IPY_MODEL_a8ebed488faa4d5486ed41a85d7899fa",
              "IPY_MODEL_834e6450d5224551b7edea0f10376a86",
              "IPY_MODEL_a6aab81ca1b442b5948603f6aa36c232",
              "IPY_MODEL_ef97b9d9295c4815816dd4952a24d87f"
            ],
            "layout": "IPY_MODEL_16398cc14d44403cbeb43a463b6a4df2",
            "left": 1237272.0184530064,
            "max_zoom": 24,
            "min_zoom": null,
            "modisdate": "2024-02-18",
            "north": -4.376707346444986,
            "options": [
              "bounce_at_zoom_limits",
              "box_zoom",
              "center",
              "close_popup_on_click",
              "double_click_zoom",
              "dragging",
              "fullscreen",
              "inertia",
              "inertia_deceleration",
              "inertia_max_speed",
              "interpolation",
              "keyboard",
              "keyboard_pan_offset",
              "keyboard_zoom_offset",
              "max_zoom",
              "min_zoom",
              "prefer_canvas",
              "scroll_wheel_zoom",
              "tap",
              "tap_tolerance",
              "touch_zoom",
              "world_copy_jump",
              "zoom",
              "zoom_animation_threshold",
              "zoom_delta",
              "zoom_snap"
            ],
            "panes": {},
            "prefer_canvas": false,
            "right": 1238979.0184530064,
            "scroll_wheel_zoom": true,
            "south": -4.428053815008565,
            "style": "IPY_MODEL_9792b32e417442cb87e1e77d58f1bdf9",
            "tap": true,
            "tap_tolerance": 15,
            "top": 2148194,
            "touch_zoom": true,
            "west": -73.80409082339233,
            "window_url": "https://b9ds0rfopbu-496ff2e9c6d22116-0-colab.googleusercontent.com/outputframe.html?vrz=colab_20240214-060113_RC00_606917857",
            "world_copy_jump": false,
            "zoom": 14,
            "zoom_animation_threshold": 4,
            "zoom_delta": 1,
            "zoom_snap": 1
          }
        },
        "97b5588debdb44ca99dae277ae64c346": {
          "model_module": "jupyter-leaflet",
          "model_name": "LeafletWidgetControlModel",
          "model_module_version": "^0.18",
          "state": {
            "_model_module": "jupyter-leaflet",
            "_model_module_version": "^0.18",
            "_model_name": "LeafletWidgetControlModel",
            "_view_count": null,
            "_view_module": "jupyter-leaflet",
            "_view_module_version": "^0.18",
            "_view_name": "LeafletWidgetControlView",
            "max_height": null,
            "max_width": null,
            "min_height": null,
            "min_width": null,
            "options": [
              "position",
              "transparent_bg"
            ],
            "position": "topleft",
            "transparent_bg": false,
            "widget": "IPY_MODEL_bc6121f8aed848a1b9a6747c07903d06"
          }
        },
        "d458c8781bd24adba99638026f56066d": {
          "model_module": "jupyter-leaflet",
          "model_name": "LeafletZoomControlModel",
          "model_module_version": "^0.18",
          "state": {
            "_model_module": "jupyter-leaflet",
            "_model_module_version": "^0.18",
            "_model_name": "LeafletZoomControlModel",
            "_view_count": null,
            "_view_module": "jupyter-leaflet",
            "_view_module_version": "^0.18",
            "_view_name": "LeafletZoomControlView",
            "options": [
              "position",
              "zoom_in_text",
              "zoom_in_title",
              "zoom_out_text",
              "zoom_out_title"
            ],
            "position": "topleft",
            "zoom_in_text": "+",
            "zoom_in_title": "Zoom in",
            "zoom_out_text": "-",
            "zoom_out_title": "Zoom out"
          }
        },
        "473c3c60576e4bc6a77e14c38d862553": {
          "model_module": "jupyter-leaflet",
          "model_name": "LeafletFullScreenControlModel",
          "model_module_version": "^0.18",
          "state": {
            "_model_module": "jupyter-leaflet",
            "_model_module_version": "^0.18",
            "_model_name": "LeafletFullScreenControlModel",
            "_view_count": null,
            "_view_module": "jupyter-leaflet",
            "_view_module_version": "^0.18",
            "_view_name": "LeafletFullScreenControlView",
            "options": [
              "position"
            ],
            "position": "topleft"
          }
        },
        "d6f99d71fc994afd91704ebb438cfa89": {
          "model_module": "jupyter-leaflet",
          "model_name": "LeafletDrawControlModel",
          "model_module_version": "^0.18",
          "state": {
            "_model_module": "jupyter-leaflet",
            "_model_module_version": "^0.18",
            "_model_name": "LeafletDrawControlModel",
            "_view_count": null,
            "_view_module": "jupyter-leaflet",
            "_view_module_version": "^0.18",
            "_view_name": "LeafletDrawControlView",
            "circle": {},
            "circlemarker": {},
            "data": [],
            "edit": true,
            "marker": {
              "shapeOptions": {
                "color": "#3388ff"
              }
            },
            "options": [
              "position"
            ],
            "polygon": {
              "shapeOptions": {}
            },
            "polyline": {
              "shapeOptions": {}
            },
            "position": "topleft",
            "rectangle": {
              "shapeOptions": {
                "color": "#3388ff"
              }
            },
            "remove": true
          }
        },
        "1c01c9a3304742c6b45f3490c4256ea4": {
          "model_module": "jupyter-leaflet",
          "model_name": "LeafletScaleControlModel",
          "model_module_version": "^0.18",
          "state": {
            "_model_module": "jupyter-leaflet",
            "_model_module_version": "^0.18",
            "_model_name": "LeafletScaleControlModel",
            "_view_count": null,
            "_view_module": "jupyter-leaflet",
            "_view_module_version": "^0.18",
            "_view_name": "LeafletScaleControlView",
            "imperial": true,
            "max_width": 100,
            "metric": true,
            "options": [
              "imperial",
              "max_width",
              "metric",
              "position",
              "update_when_idle"
            ],
            "position": "bottomleft",
            "update_when_idle": false
          }
        },
        "09328e41b0954e3d830cfacefa2f3671": {
          "model_module": "jupyter-leaflet",
          "model_name": "LeafletMeasureControlModel",
          "model_module_version": "^0.18",
          "state": {
            "_custom_units": {},
            "_model_module": "jupyter-leaflet",
            "_model_module_version": "^0.18",
            "_model_name": "LeafletMeasureControlModel",
            "_view_count": null,
            "_view_module": "jupyter-leaflet",
            "_view_module_version": "^0.18",
            "_view_name": "LeafletMeasureControlView",
            "active_color": "orange",
            "capture_z_index": 10000,
            "completed_color": "#C8F2BE",
            "options": [
              "active_color",
              "capture_z_index",
              "completed_color",
              "popup_options",
              "position",
              "primary_area_unit",
              "primary_length_unit",
              "secondary_area_unit",
              "secondary_length_unit"
            ],
            "popup_options": {
              "className": "leaflet-measure-resultpopup",
              "autoPanPadding": [
                10,
                10
              ]
            },
            "position": "bottomleft",
            "primary_area_unit": "acres",
            "primary_length_unit": "kilometers",
            "secondary_area_unit": null,
            "secondary_length_unit": null
          }
        },
        "572985a0ee5243f28c146002897c71ae": {
          "model_module": "jupyter-leaflet",
          "model_name": "LeafletWidgetControlModel",
          "model_module_version": "^0.18",
          "state": {
            "_model_module": "jupyter-leaflet",
            "_model_module_version": "^0.18",
            "_model_name": "LeafletWidgetControlModel",
            "_view_count": null,
            "_view_module": "jupyter-leaflet",
            "_view_module_version": "^0.18",
            "_view_name": "LeafletWidgetControlView",
            "max_height": null,
            "max_width": null,
            "min_height": null,
            "min_width": null,
            "options": [
              "position",
              "transparent_bg"
            ],
            "position": "topright",
            "transparent_bg": false,
            "widget": "IPY_MODEL_15ec1d335cbf4acea3290a74b0259089"
          }
        },
        "5b7111d851ba44989f79f8c59a748924": {
          "model_module": "jupyter-leaflet",
          "model_name": "LeafletAttributionControlModel",
          "model_module_version": "^0.18",
          "state": {
            "_model_module": "jupyter-leaflet",
            "_model_module_version": "^0.18",
            "_model_name": "LeafletAttributionControlModel",
            "_view_count": null,
            "_view_module": "jupyter-leaflet",
            "_view_module_version": "^0.18",
            "_view_name": "LeafletAttributionControlView",
            "options": [
              "position",
              "prefix"
            ],
            "position": "bottomright",
            "prefix": "ipyleaflet"
          }
        },
        "9792b32e417442cb87e1e77d58f1bdf9": {
          "model_module": "jupyter-leaflet",
          "model_name": "LeafletMapStyleModel",
          "model_module_version": "^0.18",
          "state": {
            "_model_module": "jupyter-leaflet",
            "_model_module_version": "^0.18",
            "_model_name": "LeafletMapStyleModel",
            "_view_count": null,
            "_view_module": "@jupyter-widgets/base",
            "_view_module_version": "1.2.0",
            "_view_name": "StyleView",
            "cursor": "grab"
          }
        },
        "a4f636b12040430fa2bc92f44f880dc0": {
          "model_module": "jupyter-leaflet",
          "model_name": "LeafletMapStyleModel",
          "model_module_version": "^0.18",
          "state": {
            "_model_module": "jupyter-leaflet",
            "_model_module_version": "^0.18",
            "_model_name": "LeafletMapStyleModel",
            "_view_count": null,
            "_view_module": "@jupyter-widgets/base",
            "_view_module_version": "1.2.0",
            "_view_name": "StyleView",
            "cursor": "move"
          }
        },
        "a8ebed488faa4d5486ed41a85d7899fa": {
          "model_module": "jupyter-leaflet",
          "model_name": "LeafletTileLayerModel",
          "model_module_version": "^0.18",
          "state": {
            "_model_module": "jupyter-leaflet",
            "_model_module_version": "^0.18",
            "_model_name": "LeafletTileLayerModel",
            "_view_count": null,
            "_view_module": "jupyter-leaflet",
            "_view_module_version": "^0.18",
            "_view_name": "LeafletTileLayerView",
            "attribution": "&copy; <a href=\"https://www.openstreetmap.org/copyright\">OpenStreetMap</a> contributors",
            "base": true,
            "bottom": true,
            "bounds": null,
            "detect_retina": false,
            "loading": false,
            "max_native_zoom": null,
            "max_zoom": 19,
            "min_native_zoom": null,
            "min_zoom": 1,
            "name": "OpenStreetMap.Mapnik",
            "no_wrap": false,
            "opacity": 1,
            "options": [
              "attribution",
              "bounds",
              "detect_retina",
              "max_native_zoom",
              "max_zoom",
              "min_native_zoom",
              "min_zoom",
              "no_wrap",
              "tile_size",
              "tms",
              "zoom_offset"
            ],
            "pane": "",
            "popup": null,
            "popup_max_height": null,
            "popup_max_width": 300,
            "popup_min_width": 50,
            "show_loading": false,
            "subitems": [],
            "tile_size": 256,
            "tms": false,
            "url": "https://tile.openstreetmap.org/{z}/{x}/{y}.png",
            "visible": true,
            "zoom_offset": 0
          }
        },
        "834e6450d5224551b7edea0f10376a86": {
          "model_module": "jupyter-leaflet",
          "model_name": "LeafletTileLayerModel",
          "model_module_version": "^0.18",
          "state": {
            "_model_module": "jupyter-leaflet",
            "_model_module_version": "^0.18",
            "_model_name": "LeafletTileLayerModel",
            "_view_count": null,
            "_view_module": "jupyter-leaflet",
            "_view_module_version": "^0.18",
            "_view_name": "LeafletTileLayerView",
            "attribution": "Google Earth Engine",
            "base": false,
            "bottom": true,
            "bounds": null,
            "detect_retina": false,
            "loading": false,
            "max_native_zoom": null,
            "max_zoom": 24,
            "min_native_zoom": null,
            "min_zoom": 0,
            "name": "Despues Tallando",
            "no_wrap": false,
            "opacity": 1,
            "options": [
              "attribution",
              "bounds",
              "detect_retina",
              "max_native_zoom",
              "max_zoom",
              "min_native_zoom",
              "min_zoom",
              "no_wrap",
              "tile_size",
              "tms",
              "zoom_offset"
            ],
            "pane": "",
            "popup": null,
            "popup_max_height": null,
            "popup_max_width": 300,
            "popup_min_width": 50,
            "show_loading": false,
            "subitems": [],
            "tile_size": 256,
            "tms": false,
            "url": "https://earthengine.googleapis.com/v1/projects/earthengine-legacy/maps/623150d15fb41e7ac4d6c0325ec247fd-c81d150fc2cd8f0b24dd5b22e5ff6996/tiles/{z}/{x}/{y}",
            "visible": true,
            "zoom_offset": 0
          }
        },
        "a6aab81ca1b442b5948603f6aa36c232": {
          "model_module": "jupyter-leaflet",
          "model_name": "LeafletTileLayerModel",
          "model_module_version": "^0.18",
          "state": {
            "_model_module": "jupyter-leaflet",
            "_model_module_version": "^0.18",
            "_model_name": "LeafletTileLayerModel",
            "_view_count": null,
            "_view_module": "jupyter-leaflet",
            "_view_module_version": "^0.18",
            "_view_name": "LeafletTileLayerView",
            "attribution": "Google Earth Engine",
            "base": false,
            "bottom": true,
            "bounds": null,
            "detect_retina": false,
            "loading": false,
            "max_native_zoom": null,
            "max_zoom": 24,
            "min_native_zoom": null,
            "min_zoom": 0,
            "name": "Vegetation Gain",
            "no_wrap": false,
            "opacity": 1,
            "options": [
              "attribution",
              "bounds",
              "detect_retina",
              "max_native_zoom",
              "max_zoom",
              "min_native_zoom",
              "min_zoom",
              "no_wrap",
              "tile_size",
              "tms",
              "zoom_offset"
            ],
            "pane": "",
            "popup": null,
            "popup_max_height": null,
            "popup_max_width": 300,
            "popup_min_width": 50,
            "show_loading": false,
            "subitems": [],
            "tile_size": 256,
            "tms": false,
            "url": "https://earthengine.googleapis.com/v1/projects/earthengine-legacy/maps/b04c14c04e3622005ca1810fc1ec4195-a9a57cb5fcb25644cae6ddd1e13ab955/tiles/{z}/{x}/{y}",
            "visible": true,
            "zoom_offset": 0
          }
        },
        "ef97b9d9295c4815816dd4952a24d87f": {
          "model_module": "jupyter-leaflet",
          "model_name": "LeafletTileLayerModel",
          "model_module_version": "^0.18",
          "state": {
            "_model_module": "jupyter-leaflet",
            "_model_module_version": "^0.18",
            "_model_name": "LeafletTileLayerModel",
            "_view_count": null,
            "_view_module": "jupyter-leaflet",
            "_view_module_version": "^0.18",
            "_view_name": "LeafletTileLayerView",
            "attribution": "Google Earth Engine",
            "base": false,
            "bottom": true,
            "bounds": null,
            "detect_retina": false,
            "loading": false,
            "max_native_zoom": null,
            "max_zoom": 24,
            "min_native_zoom": null,
            "min_zoom": 0,
            "name": "Vegetation Loss",
            "no_wrap": false,
            "opacity": 1,
            "options": [
              "attribution",
              "bounds",
              "detect_retina",
              "max_native_zoom",
              "max_zoom",
              "min_native_zoom",
              "min_zoom",
              "no_wrap",
              "tile_size",
              "tms",
              "zoom_offset"
            ],
            "pane": "",
            "popup": null,
            "popup_max_height": null,
            "popup_max_width": 300,
            "popup_min_width": 50,
            "show_loading": false,
            "subitems": [],
            "tile_size": 256,
            "tms": false,
            "url": "https://earthengine.googleapis.com/v1/projects/earthengine-legacy/maps/ae9f9e0c1653087fceaf685ed2cc6cd4-8bf1c1dc272700b5b41f4b8869b06a3a/tiles/{z}/{x}/{y}",
            "visible": true,
            "zoom_offset": 0
          }
        },
        "16398cc14d44403cbeb43a463b6a4df2": {
          "model_module": "@jupyter-widgets/base",
          "model_name": "LayoutModel",
          "model_module_version": "1.2.0",
          "state": {
            "_model_module": "@jupyter-widgets/base",
            "_model_module_version": "1.2.0",
            "_model_name": "LayoutModel",
            "_view_count": null,
            "_view_module": "@jupyter-widgets/base",
            "_view_module_version": "1.2.0",
            "_view_name": "LayoutView",
            "align_content": null,
            "align_items": null,
            "align_self": null,
            "border": null,
            "bottom": null,
            "display": null,
            "flex": null,
            "flex_flow": null,
            "grid_area": null,
            "grid_auto_columns": null,
            "grid_auto_flow": null,
            "grid_auto_rows": null,
            "grid_column": null,
            "grid_gap": null,
            "grid_row": null,
            "grid_template_areas": null,
            "grid_template_columns": null,
            "grid_template_rows": null,
            "height": "600px",
            "justify_content": null,
            "justify_items": null,
            "left": null,
            "margin": null,
            "max_height": null,
            "max_width": null,
            "min_height": null,
            "min_width": null,
            "object_fit": null,
            "object_position": null,
            "order": null,
            "overflow": null,
            "overflow_x": null,
            "overflow_y": null,
            "padding": null,
            "right": null,
            "top": null,
            "visibility": null,
            "width": null
          }
        },
        "d4e5f18a7d614ba0a22b6684f9eb3e18": {
          "model_module": "jupyter-leaflet",
          "model_name": "LeafletMapStyleModel",
          "model_module_version": "^0.18",
          "state": {
            "_model_module": "jupyter-leaflet",
            "_model_module_version": "^0.18",
            "_model_name": "LeafletMapStyleModel",
            "_view_count": null,
            "_view_module": "@jupyter-widgets/base",
            "_view_module_version": "1.2.0",
            "_view_name": "StyleView",
            "cursor": "grab"
          }
        },
        "bc6121f8aed848a1b9a6747c07903d06": {
          "model_module": "@jupyter-widgets/controls",
          "model_name": "HBoxModel",
          "model_module_version": "1.5.0",
          "state": {
            "_dom_classes": [
              "geemap-colab"
            ],
            "_model_module": "@jupyter-widgets/controls",
            "_model_module_version": "1.5.0",
            "_model_name": "HBoxModel",
            "_view_count": null,
            "_view_module": "@jupyter-widgets/controls",
            "_view_module_version": "1.5.0",
            "_view_name": "HBoxView",
            "box_style": "",
            "children": [
              "IPY_MODEL_e6634d4114ac46bca817bace7c5018a4"
            ],
            "layout": "IPY_MODEL_676ae0ca846b4baa89e8f6e267494e9d"
          }
        },
        "15ec1d335cbf4acea3290a74b0259089": {
          "model_module": "@jupyter-widgets/controls",
          "model_name": "VBoxModel",
          "model_module_version": "1.5.0",
          "state": {
            "_dom_classes": [
              "geemap-colab"
            ],
            "_model_module": "@jupyter-widgets/controls",
            "_model_module_version": "1.5.0",
            "_model_name": "VBoxModel",
            "_view_count": null,
            "_view_module": "@jupyter-widgets/controls",
            "_view_module_version": "1.5.0",
            "_view_name": "VBoxView",
            "box_style": "",
            "children": [
              "IPY_MODEL_0a9b6beb0fee4262a615dcec02100866"
            ],
            "layout": "IPY_MODEL_27753283310640a6b7e749ab85e22677"
          }
        },
        "e6634d4114ac46bca817bace7c5018a4": {
          "model_module": "@jupyter-widgets/controls",
          "model_name": "ToggleButtonModel",
          "model_module_version": "1.5.0",
          "state": {
            "_dom_classes": [],
            "_model_module": "@jupyter-widgets/controls",
            "_model_module_version": "1.5.0",
            "_model_name": "ToggleButtonModel",
            "_view_count": null,
            "_view_module": "@jupyter-widgets/controls",
            "_view_module_version": "1.5.0",
            "_view_name": "ToggleButtonView",
            "button_style": "",
            "description": "",
            "description_tooltip": null,
            "disabled": false,
            "icon": "globe",
            "layout": "IPY_MODEL_3f8e7fc5dd074dfdac2cb3daa07f8cde",
            "style": "IPY_MODEL_6cfae86320d9469681f6a18c689516ae",
            "tooltip": "Search location/data",
            "value": false
          }
        },
        "676ae0ca846b4baa89e8f6e267494e9d": {
          "model_module": "@jupyter-widgets/base",
          "model_name": "LayoutModel",
          "model_module_version": "1.2.0",
          "state": {
            "_model_module": "@jupyter-widgets/base",
            "_model_module_version": "1.2.0",
            "_model_name": "LayoutModel",
            "_view_count": null,
            "_view_module": "@jupyter-widgets/base",
            "_view_module_version": "1.2.0",
            "_view_name": "LayoutView",
            "align_content": null,
            "align_items": null,
            "align_self": null,
            "border": null,
            "bottom": null,
            "display": null,
            "flex": null,
            "flex_flow": null,
            "grid_area": null,
            "grid_auto_columns": null,
            "grid_auto_flow": null,
            "grid_auto_rows": null,
            "grid_column": null,
            "grid_gap": null,
            "grid_row": null,
            "grid_template_areas": null,
            "grid_template_columns": null,
            "grid_template_rows": null,
            "height": null,
            "justify_content": null,
            "justify_items": null,
            "left": null,
            "margin": null,
            "max_height": null,
            "max_width": null,
            "min_height": null,
            "min_width": null,
            "object_fit": null,
            "object_position": null,
            "order": null,
            "overflow": null,
            "overflow_x": null,
            "overflow_y": null,
            "padding": null,
            "right": null,
            "top": null,
            "visibility": null,
            "width": null
          }
        },
        "0a9b6beb0fee4262a615dcec02100866": {
          "model_module": "@jupyter-widgets/controls",
          "model_name": "ToggleButtonModel",
          "model_module_version": "1.5.0",
          "state": {
            "_dom_classes": [],
            "_model_module": "@jupyter-widgets/controls",
            "_model_module_version": "1.5.0",
            "_model_name": "ToggleButtonModel",
            "_view_count": null,
            "_view_module": "@jupyter-widgets/controls",
            "_view_module_version": "1.5.0",
            "_view_name": "ToggleButtonView",
            "button_style": "",
            "description": "",
            "description_tooltip": null,
            "disabled": false,
            "icon": "wrench",
            "layout": "IPY_MODEL_599f0abcf61846ac9630816985c05b8b",
            "style": "IPY_MODEL_76e71802aa604429a7b4be9c188e161d",
            "tooltip": "Toolbar",
            "value": false
          }
        },
        "27753283310640a6b7e749ab85e22677": {
          "model_module": "@jupyter-widgets/base",
          "model_name": "LayoutModel",
          "model_module_version": "1.2.0",
          "state": {
            "_model_module": "@jupyter-widgets/base",
            "_model_module_version": "1.2.0",
            "_model_name": "LayoutModel",
            "_view_count": null,
            "_view_module": "@jupyter-widgets/base",
            "_view_module_version": "1.2.0",
            "_view_name": "LayoutView",
            "align_content": null,
            "align_items": null,
            "align_self": null,
            "border": null,
            "bottom": null,
            "display": null,
            "flex": null,
            "flex_flow": null,
            "grid_area": null,
            "grid_auto_columns": null,
            "grid_auto_flow": null,
            "grid_auto_rows": null,
            "grid_column": null,
            "grid_gap": null,
            "grid_row": null,
            "grid_template_areas": null,
            "grid_template_columns": null,
            "grid_template_rows": null,
            "height": null,
            "justify_content": null,
            "justify_items": null,
            "left": null,
            "margin": null,
            "max_height": null,
            "max_width": null,
            "min_height": null,
            "min_width": null,
            "object_fit": null,
            "object_position": null,
            "order": null,
            "overflow": null,
            "overflow_x": null,
            "overflow_y": null,
            "padding": null,
            "right": null,
            "top": null,
            "visibility": null,
            "width": null
          }
        },
        "3f8e7fc5dd074dfdac2cb3daa07f8cde": {
          "model_module": "@jupyter-widgets/base",
          "model_name": "LayoutModel",
          "model_module_version": "1.2.0",
          "state": {
            "_model_module": "@jupyter-widgets/base",
            "_model_module_version": "1.2.0",
            "_model_name": "LayoutModel",
            "_view_count": null,
            "_view_module": "@jupyter-widgets/base",
            "_view_module_version": "1.2.0",
            "_view_name": "LayoutView",
            "align_content": null,
            "align_items": null,
            "align_self": null,
            "border": null,
            "bottom": null,
            "display": null,
            "flex": null,
            "flex_flow": null,
            "grid_area": null,
            "grid_auto_columns": null,
            "grid_auto_flow": null,
            "grid_auto_rows": null,
            "grid_column": null,
            "grid_gap": null,
            "grid_row": null,
            "grid_template_areas": null,
            "grid_template_columns": null,
            "grid_template_rows": null,
            "height": "28px",
            "justify_content": null,
            "justify_items": null,
            "left": null,
            "margin": null,
            "max_height": null,
            "max_width": null,
            "min_height": null,
            "min_width": null,
            "object_fit": null,
            "object_position": null,
            "order": null,
            "overflow": null,
            "overflow_x": null,
            "overflow_y": null,
            "padding": "0px 0px 0px 4px",
            "right": null,
            "top": null,
            "visibility": null,
            "width": "28px"
          }
        },
        "6cfae86320d9469681f6a18c689516ae": {
          "model_module": "@jupyter-widgets/controls",
          "model_name": "DescriptionStyleModel",
          "model_module_version": "1.5.0",
          "state": {
            "_model_module": "@jupyter-widgets/controls",
            "_model_module_version": "1.5.0",
            "_model_name": "DescriptionStyleModel",
            "_view_count": null,
            "_view_module": "@jupyter-widgets/base",
            "_view_module_version": "1.2.0",
            "_view_name": "StyleView",
            "description_width": ""
          }
        },
        "599f0abcf61846ac9630816985c05b8b": {
          "model_module": "@jupyter-widgets/base",
          "model_name": "LayoutModel",
          "model_module_version": "1.2.0",
          "state": {
            "_model_module": "@jupyter-widgets/base",
            "_model_module_version": "1.2.0",
            "_model_name": "LayoutModel",
            "_view_count": null,
            "_view_module": "@jupyter-widgets/base",
            "_view_module_version": "1.2.0",
            "_view_name": "LayoutView",
            "align_content": null,
            "align_items": null,
            "align_self": null,
            "border": null,
            "bottom": null,
            "display": null,
            "flex": null,
            "flex_flow": null,
            "grid_area": null,
            "grid_auto_columns": null,
            "grid_auto_flow": null,
            "grid_auto_rows": null,
            "grid_column": null,
            "grid_gap": null,
            "grid_row": null,
            "grid_template_areas": null,
            "grid_template_columns": null,
            "grid_template_rows": null,
            "height": "28px",
            "justify_content": null,
            "justify_items": null,
            "left": null,
            "margin": null,
            "max_height": null,
            "max_width": null,
            "min_height": null,
            "min_width": null,
            "object_fit": null,
            "object_position": null,
            "order": null,
            "overflow": null,
            "overflow_x": null,
            "overflow_y": null,
            "padding": "0px 0px 0px 4px",
            "right": null,
            "top": null,
            "visibility": null,
            "width": "28px"
          }
        },
        "76e71802aa604429a7b4be9c188e161d": {
          "model_module": "@jupyter-widgets/controls",
          "model_name": "DescriptionStyleModel",
          "model_module_version": "1.5.0",
          "state": {
            "_model_module": "@jupyter-widgets/controls",
            "_model_module_version": "1.5.0",
            "_model_name": "DescriptionStyleModel",
            "_view_count": null,
            "_view_module": "@jupyter-widgets/base",
            "_view_module_version": "1.2.0",
            "_view_name": "StyleView",
            "description_width": ""
          }
        },
        "6dd69832066d4ca9926109e61d4a2735": {
          "model_module": "jupyter-leaflet",
          "model_name": "LeafletMapModel",
          "model_module_version": "^0.18",
          "state": {
            "_dom_classes": [],
            "_model_module": "jupyter-leaflet",
            "_model_module_version": "^0.18",
            "_model_name": "LeafletMapModel",
            "_view_count": null,
            "_view_module": "jupyter-leaflet",
            "_view_module_version": "^0.18",
            "_view_name": "LeafletMapView",
            "bottom": 134438,
            "bounce_at_zoom_limits": true,
            "box_zoom": true,
            "center": [
              -4.206725637589252,
              -73.46608261224247
            ],
            "close_popup_on_click": true,
            "controls": [
              "IPY_MODEL_57c086a268ee45eda06bc2267fcc2aa9",
              "IPY_MODEL_1a97903bde3b4606bd6762b18cd22f84",
              "IPY_MODEL_1a0618d9f6ff48cbb4e2711cabb1b3c2",
              "IPY_MODEL_8199b838b38245a2a613d8b791ed1987",
              "IPY_MODEL_e3a346a44cbf4af28dee5c40b95bcce9",
              "IPY_MODEL_7bfbffb2d7b841a3a40325dcc79952b5",
              "IPY_MODEL_d037efe87cca47a388d79bde1b614376",
              "IPY_MODEL_0b96239365a74a83b18771dd5eef3831",
              "IPY_MODEL_cee86faac1f94f528d360eefcec297cb"
            ],
            "crs": {
              "name": "EPSG3857",
              "custom": false
            },
            "default_style": "IPY_MODEL_ab607dceb9834e999129bc51b005c054",
            "double_click_zoom": true,
            "dragging": true,
            "dragging_style": "IPY_MODEL_b2c7d47c80674893b9163495636425c4",
            "east": -72.29397873040654,
            "fullscreen": false,
            "inertia": true,
            "inertia_deceleration": 3000,
            "inertia_max_speed": 1500,
            "interpolation": "bilinear",
            "keyboard": true,
            "keyboard_pan_offset": 80,
            "keyboard_zoom_offset": 1,
            "layers": [
              "IPY_MODEL_e3742ba8c4964bd58d20153b6bc18e46",
              "IPY_MODEL_80ff489c27094db9bd6cf7c88dcdf7c9",
              "IPY_MODEL_e5205eeaac214aaf90c28570f4bb1091",
              "IPY_MODEL_53df35d17a3e4033aa8b536597bccf51",
              "IPY_MODEL_736442d026724592bcde2fc1ad9db023"
            ],
            "layout": "IPY_MODEL_818febe17336483d94f987569e84b8a9",
            "left": 76722.13122137864,
            "max_zoom": 24,
            "min_zoom": null,
            "modisdate": "2024-02-18",
            "north": -3.7957434222874658,
            "options": [
              "bounce_at_zoom_limits",
              "box_zoom",
              "center",
              "close_popup_on_click",
              "double_click_zoom",
              "dragging",
              "fullscreen",
              "inertia",
              "inertia_deceleration",
              "inertia_max_speed",
              "interpolation",
              "keyboard",
              "keyboard_pan_offset",
              "keyboard_zoom_offset",
              "max_zoom",
              "min_zoom",
              "prefer_canvas",
              "scroll_wheel_zoom",
              "tap",
              "tap_tolerance",
              "touch_zoom",
              "world_copy_jump",
              "zoom",
              "zoom_animation_threshold",
              "zoom_delta",
              "zoom_snap"
            ],
            "panes": {},
            "prefer_canvas": false,
            "right": 78429.13122137864,
            "scroll_wheel_zoom": true,
            "south": -4.617491134677797,
            "style": "IPY_MODEL_ab607dceb9834e999129bc51b005c054",
            "tap": true,
            "tap_tolerance": 15,
            "top": 133838,
            "touch_zoom": true,
            "west": -74.63818649407841,
            "window_url": "https://b9ds0rfopbu-496ff2e9c6d22116-0-colab.googleusercontent.com/outputframe.html?vrz=colab_20240214-060113_RC00_606917857",
            "world_copy_jump": false,
            "zoom": 10,
            "zoom_animation_threshold": 4,
            "zoom_delta": 1,
            "zoom_snap": 1
          }
        },
        "57c086a268ee45eda06bc2267fcc2aa9": {
          "model_module": "jupyter-leaflet",
          "model_name": "LeafletWidgetControlModel",
          "model_module_version": "^0.18",
          "state": {
            "_model_module": "jupyter-leaflet",
            "_model_module_version": "^0.18",
            "_model_name": "LeafletWidgetControlModel",
            "_view_count": null,
            "_view_module": "jupyter-leaflet",
            "_view_module_version": "^0.18",
            "_view_name": "LeafletWidgetControlView",
            "max_height": null,
            "max_width": null,
            "min_height": null,
            "min_width": null,
            "options": [
              "position",
              "transparent_bg"
            ],
            "position": "topleft",
            "transparent_bg": false,
            "widget": "IPY_MODEL_cb04a20c6b75408eb71b5072be30c27a"
          }
        },
        "1a97903bde3b4606bd6762b18cd22f84": {
          "model_module": "jupyter-leaflet",
          "model_name": "LeafletZoomControlModel",
          "model_module_version": "^0.18",
          "state": {
            "_model_module": "jupyter-leaflet",
            "_model_module_version": "^0.18",
            "_model_name": "LeafletZoomControlModel",
            "_view_count": null,
            "_view_module": "jupyter-leaflet",
            "_view_module_version": "^0.18",
            "_view_name": "LeafletZoomControlView",
            "options": [
              "position",
              "zoom_in_text",
              "zoom_in_title",
              "zoom_out_text",
              "zoom_out_title"
            ],
            "position": "topleft",
            "zoom_in_text": "+",
            "zoom_in_title": "Zoom in",
            "zoom_out_text": "-",
            "zoom_out_title": "Zoom out"
          }
        },
        "1a0618d9f6ff48cbb4e2711cabb1b3c2": {
          "model_module": "jupyter-leaflet",
          "model_name": "LeafletFullScreenControlModel",
          "model_module_version": "^0.18",
          "state": {
            "_model_module": "jupyter-leaflet",
            "_model_module_version": "^0.18",
            "_model_name": "LeafletFullScreenControlModel",
            "_view_count": null,
            "_view_module": "jupyter-leaflet",
            "_view_module_version": "^0.18",
            "_view_name": "LeafletFullScreenControlView",
            "options": [
              "position"
            ],
            "position": "topleft"
          }
        },
        "8199b838b38245a2a613d8b791ed1987": {
          "model_module": "jupyter-leaflet",
          "model_name": "LeafletDrawControlModel",
          "model_module_version": "^0.18",
          "state": {
            "_model_module": "jupyter-leaflet",
            "_model_module_version": "^0.18",
            "_model_name": "LeafletDrawControlModel",
            "_view_count": null,
            "_view_module": "jupyter-leaflet",
            "_view_module_version": "^0.18",
            "_view_name": "LeafletDrawControlView",
            "circle": {},
            "circlemarker": {},
            "data": [],
            "edit": true,
            "marker": {
              "shapeOptions": {
                "color": "#3388ff"
              }
            },
            "options": [
              "position"
            ],
            "polygon": {
              "shapeOptions": {}
            },
            "polyline": {
              "shapeOptions": {}
            },
            "position": "topleft",
            "rectangle": {
              "shapeOptions": {
                "color": "#3388ff"
              }
            },
            "remove": true
          }
        },
        "e3a346a44cbf4af28dee5c40b95bcce9": {
          "model_module": "jupyter-leaflet",
          "model_name": "LeafletScaleControlModel",
          "model_module_version": "^0.18",
          "state": {
            "_model_module": "jupyter-leaflet",
            "_model_module_version": "^0.18",
            "_model_name": "LeafletScaleControlModel",
            "_view_count": null,
            "_view_module": "jupyter-leaflet",
            "_view_module_version": "^0.18",
            "_view_name": "LeafletScaleControlView",
            "imperial": true,
            "max_width": 100,
            "metric": true,
            "options": [
              "imperial",
              "max_width",
              "metric",
              "position",
              "update_when_idle"
            ],
            "position": "bottomleft",
            "update_when_idle": false
          }
        },
        "7bfbffb2d7b841a3a40325dcc79952b5": {
          "model_module": "jupyter-leaflet",
          "model_name": "LeafletMeasureControlModel",
          "model_module_version": "^0.18",
          "state": {
            "_custom_units": {},
            "_model_module": "jupyter-leaflet",
            "_model_module_version": "^0.18",
            "_model_name": "LeafletMeasureControlModel",
            "_view_count": null,
            "_view_module": "jupyter-leaflet",
            "_view_module_version": "^0.18",
            "_view_name": "LeafletMeasureControlView",
            "active_color": "orange",
            "capture_z_index": 10000,
            "completed_color": "#C8F2BE",
            "options": [
              "active_color",
              "capture_z_index",
              "completed_color",
              "popup_options",
              "position",
              "primary_area_unit",
              "primary_length_unit",
              "secondary_area_unit",
              "secondary_length_unit"
            ],
            "popup_options": {
              "className": "leaflet-measure-resultpopup",
              "autoPanPadding": [
                10,
                10
              ]
            },
            "position": "bottomleft",
            "primary_area_unit": "acres",
            "primary_length_unit": "kilometers",
            "secondary_area_unit": null,
            "secondary_length_unit": null
          }
        },
        "d037efe87cca47a388d79bde1b614376": {
          "model_module": "jupyter-leaflet",
          "model_name": "LeafletWidgetControlModel",
          "model_module_version": "^0.18",
          "state": {
            "_model_module": "jupyter-leaflet",
            "_model_module_version": "^0.18",
            "_model_name": "LeafletWidgetControlModel",
            "_view_count": null,
            "_view_module": "jupyter-leaflet",
            "_view_module_version": "^0.18",
            "_view_name": "LeafletWidgetControlView",
            "max_height": null,
            "max_width": null,
            "min_height": null,
            "min_width": null,
            "options": [
              "position",
              "transparent_bg"
            ],
            "position": "topright",
            "transparent_bg": false,
            "widget": "IPY_MODEL_e49ca5099767433f919f63c41981035b"
          }
        },
        "0b96239365a74a83b18771dd5eef3831": {
          "model_module": "jupyter-leaflet",
          "model_name": "LeafletAttributionControlModel",
          "model_module_version": "^0.18",
          "state": {
            "_model_module": "jupyter-leaflet",
            "_model_module_version": "^0.18",
            "_model_name": "LeafletAttributionControlModel",
            "_view_count": null,
            "_view_module": "jupyter-leaflet",
            "_view_module_version": "^0.18",
            "_view_name": "LeafletAttributionControlView",
            "options": [
              "position",
              "prefix"
            ],
            "position": "bottomright",
            "prefix": "ipyleaflet"
          }
        },
        "cee86faac1f94f528d360eefcec297cb": {
          "model_module": "jupyter-leaflet",
          "model_name": "LeafletLayersControlModel",
          "model_module_version": "^0.18",
          "state": {
            "_model_module": "jupyter-leaflet",
            "_model_module_version": "^0.18",
            "_model_name": "LeafletLayersControlModel",
            "_view_count": null,
            "_view_module": "jupyter-leaflet",
            "_view_module_version": "^0.18",
            "_view_name": "LeafletLayersControlView",
            "collapsed": true,
            "options": [
              "collapsed",
              "position"
            ],
            "position": "topright"
          }
        },
        "ab607dceb9834e999129bc51b005c054": {
          "model_module": "jupyter-leaflet",
          "model_name": "LeafletMapStyleModel",
          "model_module_version": "^0.18",
          "state": {
            "_model_module": "jupyter-leaflet",
            "_model_module_version": "^0.18",
            "_model_name": "LeafletMapStyleModel",
            "_view_count": null,
            "_view_module": "@jupyter-widgets/base",
            "_view_module_version": "1.2.0",
            "_view_name": "StyleView",
            "cursor": "grab"
          }
        },
        "b2c7d47c80674893b9163495636425c4": {
          "model_module": "jupyter-leaflet",
          "model_name": "LeafletMapStyleModel",
          "model_module_version": "^0.18",
          "state": {
            "_model_module": "jupyter-leaflet",
            "_model_module_version": "^0.18",
            "_model_name": "LeafletMapStyleModel",
            "_view_count": null,
            "_view_module": "@jupyter-widgets/base",
            "_view_module_version": "1.2.0",
            "_view_name": "StyleView",
            "cursor": "move"
          }
        },
        "e3742ba8c4964bd58d20153b6bc18e46": {
          "model_module": "jupyter-leaflet",
          "model_name": "LeafletTileLayerModel",
          "model_module_version": "^0.18",
          "state": {
            "_model_module": "jupyter-leaflet",
            "_model_module_version": "^0.18",
            "_model_name": "LeafletTileLayerModel",
            "_view_count": null,
            "_view_module": "jupyter-leaflet",
            "_view_module_version": "^0.18",
            "_view_name": "LeafletTileLayerView",
            "attribution": "&copy; <a href=\"https://www.openstreetmap.org/copyright\">OpenStreetMap</a> contributors",
            "base": true,
            "bottom": true,
            "bounds": null,
            "detect_retina": false,
            "loading": false,
            "max_native_zoom": null,
            "max_zoom": 19,
            "min_native_zoom": null,
            "min_zoom": 1,
            "name": "OpenStreetMap.Mapnik",
            "no_wrap": false,
            "opacity": 1,
            "options": [
              "attribution",
              "bounds",
              "detect_retina",
              "max_native_zoom",
              "max_zoom",
              "min_native_zoom",
              "min_zoom",
              "no_wrap",
              "tile_size",
              "tms",
              "zoom_offset"
            ],
            "pane": "",
            "popup": null,
            "popup_max_height": null,
            "popup_max_width": 300,
            "popup_min_width": 50,
            "show_loading": false,
            "subitems": [],
            "tile_size": 256,
            "tms": false,
            "url": "https://tile.openstreetmap.org/{z}/{x}/{y}.png",
            "visible": true,
            "zoom_offset": 0
          }
        },
        "80ff489c27094db9bd6cf7c88dcdf7c9": {
          "model_module": "jupyter-leaflet",
          "model_name": "LeafletTileLayerModel",
          "model_module_version": "^0.18",
          "state": {
            "_model_module": "jupyter-leaflet",
            "_model_module_version": "^0.18",
            "_model_name": "LeafletTileLayerModel",
            "_view_count": null,
            "_view_module": "jupyter-leaflet",
            "_view_module_version": "^0.18",
            "_view_name": "LeafletTileLayerView",
            "attribution": "Google Earth Engine",
            "base": false,
            "bottom": true,
            "bounds": null,
            "detect_retina": false,
            "loading": false,
            "max_native_zoom": null,
            "max_zoom": 24,
            "min_native_zoom": null,
            "min_zoom": 0,
            "name": "1 True Color",
            "no_wrap": false,
            "opacity": 1,
            "options": [
              "attribution",
              "bounds",
              "detect_retina",
              "max_native_zoom",
              "max_zoom",
              "min_native_zoom",
              "min_zoom",
              "no_wrap",
              "tile_size",
              "tms",
              "zoom_offset"
            ],
            "pane": "",
            "popup": null,
            "popup_max_height": null,
            "popup_max_width": 300,
            "popup_min_width": 50,
            "show_loading": false,
            "subitems": [],
            "tile_size": 256,
            "tms": false,
            "url": "https://earthengine.googleapis.com/v1/projects/earthengine-legacy/maps/85ff17ea5a292760599bd7a9e8ebf335-2338c08b67d866ac54fc3099ca8bc266/tiles/{z}/{x}/{y}",
            "visible": true,
            "zoom_offset": 0
          }
        },
        "e5205eeaac214aaf90c28570f4bb1091": {
          "model_module": "jupyter-leaflet",
          "model_name": "LeafletTileLayerModel",
          "model_module_version": "^0.18",
          "state": {
            "_model_module": "jupyter-leaflet",
            "_model_module_version": "^0.18",
            "_model_name": "LeafletTileLayerModel",
            "_view_count": null,
            "_view_module": "jupyter-leaflet",
            "_view_module_version": "^0.18",
            "_view_name": "LeafletTileLayerView",
            "attribution": "Google Earth Engine",
            "base": false,
            "bottom": true,
            "bounds": null,
            "detect_retina": false,
            "loading": false,
            "max_native_zoom": null,
            "max_zoom": 24,
            "min_native_zoom": null,
            "min_zoom": 0,
            "name": "2 True Color",
            "no_wrap": false,
            "opacity": 1,
            "options": [
              "attribution",
              "bounds",
              "detect_retina",
              "max_native_zoom",
              "max_zoom",
              "min_native_zoom",
              "min_zoom",
              "no_wrap",
              "tile_size",
              "tms",
              "zoom_offset"
            ],
            "pane": "",
            "popup": null,
            "popup_max_height": null,
            "popup_max_width": 300,
            "popup_min_width": 50,
            "show_loading": false,
            "subitems": [],
            "tile_size": 256,
            "tms": false,
            "url": "https://earthengine.googleapis.com/v1/projects/earthengine-legacy/maps/2b021a0f1f980d19800c182da2f4b294-044c53418cd1a079a8232ba95d2000e2/tiles/{z}/{x}/{y}",
            "visible": true,
            "zoom_offset": 0
          }
        },
        "53df35d17a3e4033aa8b536597bccf51": {
          "model_module": "jupyter-leaflet",
          "model_name": "LeafletTileLayerModel",
          "model_module_version": "^0.18",
          "state": {
            "_model_module": "jupyter-leaflet",
            "_model_module_version": "^0.18",
            "_model_name": "LeafletTileLayerModel",
            "_view_count": null,
            "_view_module": "jupyter-leaflet",
            "_view_module_version": "^0.18",
            "_view_name": "LeafletTileLayerView",
            "attribution": "Google Earth Engine",
            "base": false,
            "bottom": true,
            "bounds": null,
            "detect_retina": false,
            "loading": false,
            "max_native_zoom": null,
            "max_zoom": 24,
            "min_native_zoom": null,
            "min_zoom": 0,
            "name": "NDVI Change Smoothed",
            "no_wrap": false,
            "opacity": 0.5,
            "options": [
              "attribution",
              "bounds",
              "detect_retina",
              "max_native_zoom",
              "max_zoom",
              "min_native_zoom",
              "min_zoom",
              "no_wrap",
              "tile_size",
              "tms",
              "zoom_offset"
            ],
            "pane": "",
            "popup": null,
            "popup_max_height": null,
            "popup_max_width": 300,
            "popup_min_width": 50,
            "show_loading": false,
            "subitems": [],
            "tile_size": 256,
            "tms": false,
            "url": "https://earthengine.googleapis.com/v1/projects/earthengine-legacy/maps/dc09cb19e477e88422789e0ad179b830-8004c7aaa305450399459f28596b5915/tiles/{z}/{x}/{y}",
            "visible": true,
            "zoom_offset": 0
          }
        },
        "736442d026724592bcde2fc1ad9db023": {
          "model_module": "jupyter-leaflet",
          "model_name": "LeafletTileLayerModel",
          "model_module_version": "^0.18",
          "state": {
            "_model_module": "jupyter-leaflet",
            "_model_module_version": "^0.18",
            "_model_name": "LeafletTileLayerModel",
            "_view_count": null,
            "_view_module": "jupyter-leaflet",
            "_view_module_version": "^0.18",
            "_view_name": "LeafletTileLayerView",
            "attribution": "Google Earth Engine",
            "base": false,
            "bottom": true,
            "bounds": null,
            "detect_retina": false,
            "loading": false,
            "max_native_zoom": null,
            "max_zoom": 24,
            "min_native_zoom": null,
            "min_zoom": 0,
            "name": "EVI Change Smoothed",
            "no_wrap": false,
            "opacity": 0.5,
            "options": [
              "attribution",
              "bounds",
              "detect_retina",
              "max_native_zoom",
              "max_zoom",
              "min_native_zoom",
              "min_zoom",
              "no_wrap",
              "tile_size",
              "tms",
              "zoom_offset"
            ],
            "pane": "",
            "popup": null,
            "popup_max_height": null,
            "popup_max_width": 300,
            "popup_min_width": 50,
            "show_loading": false,
            "subitems": [],
            "tile_size": 256,
            "tms": false,
            "url": "https://earthengine.googleapis.com/v1/projects/earthengine-legacy/maps/aeabda5becf4708c6bbe7225c4887b4e-6bc0eb5bcfaa65ff1a2078c26e506312/tiles/{z}/{x}/{y}",
            "visible": true,
            "zoom_offset": 0
          }
        },
        "818febe17336483d94f987569e84b8a9": {
          "model_module": "@jupyter-widgets/base",
          "model_name": "LayoutModel",
          "model_module_version": "1.2.0",
          "state": {
            "_model_module": "@jupyter-widgets/base",
            "_model_module_version": "1.2.0",
            "_model_name": "LayoutModel",
            "_view_count": null,
            "_view_module": "@jupyter-widgets/base",
            "_view_module_version": "1.2.0",
            "_view_name": "LayoutView",
            "align_content": null,
            "align_items": null,
            "align_self": null,
            "border": null,
            "bottom": null,
            "display": null,
            "flex": null,
            "flex_flow": null,
            "grid_area": null,
            "grid_auto_columns": null,
            "grid_auto_flow": null,
            "grid_auto_rows": null,
            "grid_column": null,
            "grid_gap": null,
            "grid_row": null,
            "grid_template_areas": null,
            "grid_template_columns": null,
            "grid_template_rows": null,
            "height": "600px",
            "justify_content": null,
            "justify_items": null,
            "left": null,
            "margin": null,
            "max_height": null,
            "max_width": null,
            "min_height": null,
            "min_width": null,
            "object_fit": null,
            "object_position": null,
            "order": null,
            "overflow": null,
            "overflow_x": null,
            "overflow_y": null,
            "padding": null,
            "right": null,
            "top": null,
            "visibility": null,
            "width": null
          }
        },
        "3a1b91c299434cdd971bf3ff6d66a4c3": {
          "model_module": "jupyter-leaflet",
          "model_name": "LeafletMapStyleModel",
          "model_module_version": "^0.18",
          "state": {
            "_model_module": "jupyter-leaflet",
            "_model_module_version": "^0.18",
            "_model_name": "LeafletMapStyleModel",
            "_view_count": null,
            "_view_module": "@jupyter-widgets/base",
            "_view_module_version": "1.2.0",
            "_view_name": "StyleView",
            "cursor": "grab"
          }
        },
        "cb04a20c6b75408eb71b5072be30c27a": {
          "model_module": "@jupyter-widgets/controls",
          "model_name": "HBoxModel",
          "model_module_version": "1.5.0",
          "state": {
            "_dom_classes": [
              "geemap-colab"
            ],
            "_model_module": "@jupyter-widgets/controls",
            "_model_module_version": "1.5.0",
            "_model_name": "HBoxModel",
            "_view_count": null,
            "_view_module": "@jupyter-widgets/controls",
            "_view_module_version": "1.5.0",
            "_view_name": "HBoxView",
            "box_style": "",
            "children": [
              "IPY_MODEL_4c1aa0f0fddf4d438e037582388a455a"
            ],
            "layout": "IPY_MODEL_5e1b156b522c483e823d64dea1261057"
          }
        },
        "e49ca5099767433f919f63c41981035b": {
          "model_module": "@jupyter-widgets/controls",
          "model_name": "VBoxModel",
          "model_module_version": "1.5.0",
          "state": {
            "_dom_classes": [
              "geemap-colab"
            ],
            "_model_module": "@jupyter-widgets/controls",
            "_model_module_version": "1.5.0",
            "_model_name": "VBoxModel",
            "_view_count": null,
            "_view_module": "@jupyter-widgets/controls",
            "_view_module_version": "1.5.0",
            "_view_name": "VBoxView",
            "box_style": "",
            "children": [
              "IPY_MODEL_584d5d910e084882913a21b4e35bd767"
            ],
            "layout": "IPY_MODEL_4b753198645a4ef6b58569e69f4aa058"
          }
        },
        "4c1aa0f0fddf4d438e037582388a455a": {
          "model_module": "@jupyter-widgets/controls",
          "model_name": "ToggleButtonModel",
          "model_module_version": "1.5.0",
          "state": {
            "_dom_classes": [],
            "_model_module": "@jupyter-widgets/controls",
            "_model_module_version": "1.5.0",
            "_model_name": "ToggleButtonModel",
            "_view_count": null,
            "_view_module": "@jupyter-widgets/controls",
            "_view_module_version": "1.5.0",
            "_view_name": "ToggleButtonView",
            "button_style": "",
            "description": "",
            "description_tooltip": null,
            "disabled": false,
            "icon": "globe",
            "layout": "IPY_MODEL_8087a2d51ec94019abd071a60a2774f6",
            "style": "IPY_MODEL_8d3228847d4c494d997a550aba78e64e",
            "tooltip": "Search location/data",
            "value": false
          }
        },
        "5e1b156b522c483e823d64dea1261057": {
          "model_module": "@jupyter-widgets/base",
          "model_name": "LayoutModel",
          "model_module_version": "1.2.0",
          "state": {
            "_model_module": "@jupyter-widgets/base",
            "_model_module_version": "1.2.0",
            "_model_name": "LayoutModel",
            "_view_count": null,
            "_view_module": "@jupyter-widgets/base",
            "_view_module_version": "1.2.0",
            "_view_name": "LayoutView",
            "align_content": null,
            "align_items": null,
            "align_self": null,
            "border": null,
            "bottom": null,
            "display": null,
            "flex": null,
            "flex_flow": null,
            "grid_area": null,
            "grid_auto_columns": null,
            "grid_auto_flow": null,
            "grid_auto_rows": null,
            "grid_column": null,
            "grid_gap": null,
            "grid_row": null,
            "grid_template_areas": null,
            "grid_template_columns": null,
            "grid_template_rows": null,
            "height": null,
            "justify_content": null,
            "justify_items": null,
            "left": null,
            "margin": null,
            "max_height": null,
            "max_width": null,
            "min_height": null,
            "min_width": null,
            "object_fit": null,
            "object_position": null,
            "order": null,
            "overflow": null,
            "overflow_x": null,
            "overflow_y": null,
            "padding": null,
            "right": null,
            "top": null,
            "visibility": null,
            "width": null
          }
        },
        "584d5d910e084882913a21b4e35bd767": {
          "model_module": "@jupyter-widgets/controls",
          "model_name": "ToggleButtonModel",
          "model_module_version": "1.5.0",
          "state": {
            "_dom_classes": [],
            "_model_module": "@jupyter-widgets/controls",
            "_model_module_version": "1.5.0",
            "_model_name": "ToggleButtonModel",
            "_view_count": null,
            "_view_module": "@jupyter-widgets/controls",
            "_view_module_version": "1.5.0",
            "_view_name": "ToggleButtonView",
            "button_style": "",
            "description": "",
            "description_tooltip": null,
            "disabled": false,
            "icon": "wrench",
            "layout": "IPY_MODEL_4864ac0b4b514667be9d98a48c45ab1e",
            "style": "IPY_MODEL_5222ed8921524bb4829ccf7cdfc2b1e6",
            "tooltip": "Toolbar",
            "value": false
          }
        },
        "4b753198645a4ef6b58569e69f4aa058": {
          "model_module": "@jupyter-widgets/base",
          "model_name": "LayoutModel",
          "model_module_version": "1.2.0",
          "state": {
            "_model_module": "@jupyter-widgets/base",
            "_model_module_version": "1.2.0",
            "_model_name": "LayoutModel",
            "_view_count": null,
            "_view_module": "@jupyter-widgets/base",
            "_view_module_version": "1.2.0",
            "_view_name": "LayoutView",
            "align_content": null,
            "align_items": null,
            "align_self": null,
            "border": null,
            "bottom": null,
            "display": null,
            "flex": null,
            "flex_flow": null,
            "grid_area": null,
            "grid_auto_columns": null,
            "grid_auto_flow": null,
            "grid_auto_rows": null,
            "grid_column": null,
            "grid_gap": null,
            "grid_row": null,
            "grid_template_areas": null,
            "grid_template_columns": null,
            "grid_template_rows": null,
            "height": null,
            "justify_content": null,
            "justify_items": null,
            "left": null,
            "margin": null,
            "max_height": null,
            "max_width": null,
            "min_height": null,
            "min_width": null,
            "object_fit": null,
            "object_position": null,
            "order": null,
            "overflow": null,
            "overflow_x": null,
            "overflow_y": null,
            "padding": null,
            "right": null,
            "top": null,
            "visibility": null,
            "width": null
          }
        },
        "8087a2d51ec94019abd071a60a2774f6": {
          "model_module": "@jupyter-widgets/base",
          "model_name": "LayoutModel",
          "model_module_version": "1.2.0",
          "state": {
            "_model_module": "@jupyter-widgets/base",
            "_model_module_version": "1.2.0",
            "_model_name": "LayoutModel",
            "_view_count": null,
            "_view_module": "@jupyter-widgets/base",
            "_view_module_version": "1.2.0",
            "_view_name": "LayoutView",
            "align_content": null,
            "align_items": null,
            "align_self": null,
            "border": null,
            "bottom": null,
            "display": null,
            "flex": null,
            "flex_flow": null,
            "grid_area": null,
            "grid_auto_columns": null,
            "grid_auto_flow": null,
            "grid_auto_rows": null,
            "grid_column": null,
            "grid_gap": null,
            "grid_row": null,
            "grid_template_areas": null,
            "grid_template_columns": null,
            "grid_template_rows": null,
            "height": "28px",
            "justify_content": null,
            "justify_items": null,
            "left": null,
            "margin": null,
            "max_height": null,
            "max_width": null,
            "min_height": null,
            "min_width": null,
            "object_fit": null,
            "object_position": null,
            "order": null,
            "overflow": null,
            "overflow_x": null,
            "overflow_y": null,
            "padding": "0px 0px 0px 4px",
            "right": null,
            "top": null,
            "visibility": null,
            "width": "28px"
          }
        },
        "8d3228847d4c494d997a550aba78e64e": {
          "model_module": "@jupyter-widgets/controls",
          "model_name": "DescriptionStyleModel",
          "model_module_version": "1.5.0",
          "state": {
            "_model_module": "@jupyter-widgets/controls",
            "_model_module_version": "1.5.0",
            "_model_name": "DescriptionStyleModel",
            "_view_count": null,
            "_view_module": "@jupyter-widgets/base",
            "_view_module_version": "1.2.0",
            "_view_name": "StyleView",
            "description_width": ""
          }
        },
        "4864ac0b4b514667be9d98a48c45ab1e": {
          "model_module": "@jupyter-widgets/base",
          "model_name": "LayoutModel",
          "model_module_version": "1.2.0",
          "state": {
            "_model_module": "@jupyter-widgets/base",
            "_model_module_version": "1.2.0",
            "_model_name": "LayoutModel",
            "_view_count": null,
            "_view_module": "@jupyter-widgets/base",
            "_view_module_version": "1.2.0",
            "_view_name": "LayoutView",
            "align_content": null,
            "align_items": null,
            "align_self": null,
            "border": null,
            "bottom": null,
            "display": null,
            "flex": null,
            "flex_flow": null,
            "grid_area": null,
            "grid_auto_columns": null,
            "grid_auto_flow": null,
            "grid_auto_rows": null,
            "grid_column": null,
            "grid_gap": null,
            "grid_row": null,
            "grid_template_areas": null,
            "grid_template_columns": null,
            "grid_template_rows": null,
            "height": "28px",
            "justify_content": null,
            "justify_items": null,
            "left": null,
            "margin": null,
            "max_height": null,
            "max_width": null,
            "min_height": null,
            "min_width": null,
            "object_fit": null,
            "object_position": null,
            "order": null,
            "overflow": null,
            "overflow_x": null,
            "overflow_y": null,
            "padding": "0px 0px 0px 4px",
            "right": null,
            "top": null,
            "visibility": null,
            "width": "28px"
          }
        },
        "5222ed8921524bb4829ccf7cdfc2b1e6": {
          "model_module": "@jupyter-widgets/controls",
          "model_name": "DescriptionStyleModel",
          "model_module_version": "1.5.0",
          "state": {
            "_model_module": "@jupyter-widgets/controls",
            "_model_module_version": "1.5.0",
            "_model_name": "DescriptionStyleModel",
            "_view_count": null,
            "_view_module": "@jupyter-widgets/base",
            "_view_module_version": "1.2.0",
            "_view_name": "StyleView",
            "description_width": ""
          }
        }
      }
    }
  },
  "cells": [
    {
      "cell_type": "markdown",
      "metadata": {
        "id": "view-in-github",
        "colab_type": "text"
      },
      "source": [
        "<a href=\"https://colab.research.google.com/github/emilycalvert/scripts_cite/blob/main/analisis_salud_bosque_ejemplo.ipynb\" target=\"_parent\"><img src=\"https://colab.research.google.com/assets/colab-badge.svg\" alt=\"Open In Colab\"/></a>"
      ]
    },
    {
      "cell_type": "markdown",
      "source": [
        "Datos publicado de European Union/ESA/Copernicus y Google Earth Engine: [Sentinel-2 MSI: MultiSpectral Instrument, Level-2A](https://developers.google.com/earth-engine/datasets/catalog/COPERNICUS_S2_SR#terms-of-use)"
      ],
      "metadata": {
        "id": "ORvRA9FXFM-_"
      }
    },
    {
      "cell_type": "markdown",
      "source": [
        "## 1. Alistar entorno."
      ],
      "metadata": {
        "id": "d4es-WyE3Srw"
      }
    },
    {
      "cell_type": "code",
      "source": [
        "!pip install numpy\n",
        "!pip install geopy\n",
        "!pip install pandas\n",
        "!pip install pyproj\n",
        "!pip install geemap\n",
        "!pip install timedelta"
      ],
      "metadata": {
        "colab": {
          "base_uri": "https://localhost:8080/"
        },
        "id": "z2gAjbKYA5RA",
        "outputId": "7e9f8679-3b0c-4bf2-d665-b5921e17925b",
        "collapsed": true
      },
      "execution_count": 1,
      "outputs": [
        {
          "output_type": "stream",
          "name": "stdout",
          "text": [
            "Requirement already satisfied: numpy in /usr/local/lib/python3.10/dist-packages (1.25.2)\n",
            "Requirement already satisfied: geopy in /usr/local/lib/python3.10/dist-packages (2.3.0)\n",
            "Requirement already satisfied: geographiclib<3,>=1.52 in /usr/local/lib/python3.10/dist-packages (from geopy) (2.0)\n",
            "Requirement already satisfied: pandas in /usr/local/lib/python3.10/dist-packages (1.5.3)\n",
            "Requirement already satisfied: python-dateutil>=2.8.1 in /usr/local/lib/python3.10/dist-packages (from pandas) (2.8.2)\n",
            "Requirement already satisfied: pytz>=2020.1 in /usr/local/lib/python3.10/dist-packages (from pandas) (2023.4)\n",
            "Requirement already satisfied: numpy>=1.21.0 in /usr/local/lib/python3.10/dist-packages (from pandas) (1.25.2)\n",
            "Requirement already satisfied: six>=1.5 in /usr/local/lib/python3.10/dist-packages (from python-dateutil>=2.8.1->pandas) (1.16.0)\n",
            "Requirement already satisfied: pyproj in /usr/local/lib/python3.10/dist-packages (3.6.1)\n",
            "Requirement already satisfied: certifi in /usr/local/lib/python3.10/dist-packages (from pyproj) (2024.2.2)\n",
            "Requirement already satisfied: geemap in /usr/local/lib/python3.10/dist-packages (0.30.4)\n",
            "Requirement already satisfied: bqplot in /usr/local/lib/python3.10/dist-packages (from geemap) (0.12.42)\n",
            "Requirement already satisfied: colour in /usr/local/lib/python3.10/dist-packages (from geemap) (0.1.5)\n",
            "Requirement already satisfied: earthengine-api>=0.1.347 in /usr/local/lib/python3.10/dist-packages (from geemap) (0.1.389)\n",
            "Requirement already satisfied: eerepr>=0.0.4 in /usr/local/lib/python3.10/dist-packages (from geemap) (0.0.4)\n",
            "Requirement already satisfied: folium>=0.13.0 in /usr/local/lib/python3.10/dist-packages (from geemap) (0.14.0)\n",
            "Requirement already satisfied: geocoder in /usr/local/lib/python3.10/dist-packages (from geemap) (1.38.1)\n",
            "Requirement already satisfied: ipyevents in /usr/local/lib/python3.10/dist-packages (from geemap) (2.0.2)\n",
            "Requirement already satisfied: ipyfilechooser>=0.6.0 in /usr/local/lib/python3.10/dist-packages (from geemap) (0.6.0)\n",
            "Requirement already satisfied: ipyleaflet>=0.17.0 in /usr/local/lib/python3.10/dist-packages (from geemap) (0.18.2)\n",
            "Requirement already satisfied: ipytree in /usr/local/lib/python3.10/dist-packages (from geemap) (0.2.2)\n",
            "Requirement already satisfied: matplotlib in /usr/local/lib/python3.10/dist-packages (from geemap) (3.7.1)\n",
            "Requirement already satisfied: numpy in /usr/local/lib/python3.10/dist-packages (from geemap) (1.25.2)\n",
            "Requirement already satisfied: pandas in /usr/local/lib/python3.10/dist-packages (from geemap) (1.5.3)\n",
            "Requirement already satisfied: plotly in /usr/local/lib/python3.10/dist-packages (from geemap) (5.15.0)\n",
            "Requirement already satisfied: pyperclip in /usr/local/lib/python3.10/dist-packages (from geemap) (1.8.2)\n",
            "Requirement already satisfied: pyshp>=2.1.3 in /usr/local/lib/python3.10/dist-packages (from geemap) (2.3.1)\n",
            "Requirement already satisfied: python-box in /usr/local/lib/python3.10/dist-packages (from geemap) (7.1.1)\n",
            "Requirement already satisfied: scooby in /usr/local/lib/python3.10/dist-packages (from geemap) (0.9.2)\n",
            "Requirement already satisfied: google-cloud-storage in /usr/local/lib/python3.10/dist-packages (from earthengine-api>=0.1.347->geemap) (2.8.0)\n",
            "Requirement already satisfied: google-api-python-client>=1.12.1 in /usr/local/lib/python3.10/dist-packages (from earthengine-api>=0.1.347->geemap) (2.84.0)\n",
            "Requirement already satisfied: google-auth>=1.4.1 in /usr/local/lib/python3.10/dist-packages (from earthengine-api>=0.1.347->geemap) (2.27.0)\n",
            "Requirement already satisfied: google-auth-httplib2>=0.0.3 in /usr/local/lib/python3.10/dist-packages (from earthengine-api>=0.1.347->geemap) (0.1.1)\n",
            "Requirement already satisfied: httplib2<1dev,>=0.9.2 in /usr/local/lib/python3.10/dist-packages (from earthengine-api>=0.1.347->geemap) (0.22.0)\n",
            "Requirement already satisfied: requests in /usr/local/lib/python3.10/dist-packages (from earthengine-api>=0.1.347->geemap) (2.31.0)\n",
            "Requirement already satisfied: branca>=0.6.0 in /usr/local/lib/python3.10/dist-packages (from folium>=0.13.0->geemap) (0.7.1)\n",
            "Requirement already satisfied: jinja2>=2.9 in /usr/local/lib/python3.10/dist-packages (from folium>=0.13.0->geemap) (3.1.3)\n",
            "Requirement already satisfied: ipywidgets in /usr/local/lib/python3.10/dist-packages (from ipyfilechooser>=0.6.0->geemap) (7.7.1)\n",
            "Requirement already satisfied: traittypes<3,>=0.2.1 in /usr/local/lib/python3.10/dist-packages (from ipyleaflet>=0.17.0->geemap) (0.2.1)\n",
            "Requirement already satisfied: xyzservices>=2021.8.1 in /usr/local/lib/python3.10/dist-packages (from ipyleaflet>=0.17.0->geemap) (2023.10.1)\n",
            "Requirement already satisfied: traitlets>=4.3.0 in /usr/local/lib/python3.10/dist-packages (from bqplot->geemap) (5.7.1)\n",
            "Requirement already satisfied: python-dateutil>=2.8.1 in /usr/local/lib/python3.10/dist-packages (from pandas->geemap) (2.8.2)\n",
            "Requirement already satisfied: pytz>=2020.1 in /usr/local/lib/python3.10/dist-packages (from pandas->geemap) (2023.4)\n",
            "Requirement already satisfied: click in /usr/local/lib/python3.10/dist-packages (from geocoder->geemap) (8.1.7)\n",
            "Requirement already satisfied: future in /usr/local/lib/python3.10/dist-packages (from geocoder->geemap) (0.18.3)\n",
            "Requirement already satisfied: ratelim in /usr/local/lib/python3.10/dist-packages (from geocoder->geemap) (0.1.6)\n",
            "Requirement already satisfied: six in /usr/local/lib/python3.10/dist-packages (from geocoder->geemap) (1.16.0)\n",
            "Requirement already satisfied: contourpy>=1.0.1 in /usr/local/lib/python3.10/dist-packages (from matplotlib->geemap) (1.2.0)\n",
            "Requirement already satisfied: cycler>=0.10 in /usr/local/lib/python3.10/dist-packages (from matplotlib->geemap) (0.12.1)\n",
            "Requirement already satisfied: fonttools>=4.22.0 in /usr/local/lib/python3.10/dist-packages (from matplotlib->geemap) (4.48.1)\n",
            "Requirement already satisfied: kiwisolver>=1.0.1 in /usr/local/lib/python3.10/dist-packages (from matplotlib->geemap) (1.4.5)\n",
            "Requirement already satisfied: packaging>=20.0 in /usr/local/lib/python3.10/dist-packages (from matplotlib->geemap) (23.2)\n",
            "Requirement already satisfied: pillow>=6.2.0 in /usr/local/lib/python3.10/dist-packages (from matplotlib->geemap) (9.4.0)\n",
            "Requirement already satisfied: pyparsing>=2.3.1 in /usr/local/lib/python3.10/dist-packages (from matplotlib->geemap) (3.1.1)\n",
            "Requirement already satisfied: tenacity>=6.2.0 in /usr/local/lib/python3.10/dist-packages (from plotly->geemap) (8.2.3)\n",
            "Requirement already satisfied: google-api-core!=2.0.*,!=2.1.*,!=2.2.*,!=2.3.0,<3.0.0dev,>=1.31.5 in /usr/local/lib/python3.10/dist-packages (from google-api-python-client>=1.12.1->earthengine-api>=0.1.347->geemap) (2.11.1)\n",
            "Requirement already satisfied: uritemplate<5,>=3.0.1 in /usr/local/lib/python3.10/dist-packages (from google-api-python-client>=1.12.1->earthengine-api>=0.1.347->geemap) (4.1.1)\n",
            "Requirement already satisfied: cachetools<6.0,>=2.0.0 in /usr/local/lib/python3.10/dist-packages (from google-auth>=1.4.1->earthengine-api>=0.1.347->geemap) (5.3.2)\n",
            "Requirement already satisfied: pyasn1-modules>=0.2.1 in /usr/local/lib/python3.10/dist-packages (from google-auth>=1.4.1->earthengine-api>=0.1.347->geemap) (0.3.0)\n",
            "Requirement already satisfied: rsa<5,>=3.1.4 in /usr/local/lib/python3.10/dist-packages (from google-auth>=1.4.1->earthengine-api>=0.1.347->geemap) (4.9)\n",
            "Requirement already satisfied: ipykernel>=4.5.1 in /usr/local/lib/python3.10/dist-packages (from ipywidgets->ipyfilechooser>=0.6.0->geemap) (5.5.6)\n",
            "Requirement already satisfied: ipython-genutils~=0.2.0 in /usr/local/lib/python3.10/dist-packages (from ipywidgets->ipyfilechooser>=0.6.0->geemap) (0.2.0)\n",
            "Requirement already satisfied: widgetsnbextension~=3.6.0 in /usr/local/lib/python3.10/dist-packages (from ipywidgets->ipyfilechooser>=0.6.0->geemap) (3.6.6)\n",
            "Requirement already satisfied: ipython>=4.0.0 in /usr/local/lib/python3.10/dist-packages (from ipywidgets->ipyfilechooser>=0.6.0->geemap) (7.34.0)\n",
            "Requirement already satisfied: jupyterlab-widgets>=1.0.0 in /usr/local/lib/python3.10/dist-packages (from ipywidgets->ipyfilechooser>=0.6.0->geemap) (3.0.10)\n",
            "Requirement already satisfied: MarkupSafe>=2.0 in /usr/local/lib/python3.10/dist-packages (from jinja2>=2.9->folium>=0.13.0->geemap) (2.1.5)\n",
            "Requirement already satisfied: google-cloud-core<3.0dev,>=2.3.0 in /usr/local/lib/python3.10/dist-packages (from google-cloud-storage->earthengine-api>=0.1.347->geemap) (2.3.3)\n",
            "Requirement already satisfied: google-resumable-media>=2.3.2 in /usr/local/lib/python3.10/dist-packages (from google-cloud-storage->earthengine-api>=0.1.347->geemap) (2.7.0)\n",
            "Requirement already satisfied: charset-normalizer<4,>=2 in /usr/local/lib/python3.10/dist-packages (from requests->earthengine-api>=0.1.347->geemap) (3.3.2)\n",
            "Requirement already satisfied: idna<4,>=2.5 in /usr/local/lib/python3.10/dist-packages (from requests->earthengine-api>=0.1.347->geemap) (3.6)\n",
            "Requirement already satisfied: urllib3<3,>=1.21.1 in /usr/local/lib/python3.10/dist-packages (from requests->earthengine-api>=0.1.347->geemap) (2.0.7)\n",
            "Requirement already satisfied: certifi>=2017.4.17 in /usr/local/lib/python3.10/dist-packages (from requests->earthengine-api>=0.1.347->geemap) (2024.2.2)\n",
            "Requirement already satisfied: decorator in /usr/local/lib/python3.10/dist-packages (from ratelim->geocoder->geemap) (4.4.2)\n",
            "Requirement already satisfied: googleapis-common-protos<2.0.dev0,>=1.56.2 in /usr/local/lib/python3.10/dist-packages (from google-api-core!=2.0.*,!=2.1.*,!=2.2.*,!=2.3.0,<3.0.0dev,>=1.31.5->google-api-python-client>=1.12.1->earthengine-api>=0.1.347->geemap) (1.62.0)\n",
            "Requirement already satisfied: protobuf!=3.20.0,!=3.20.1,!=4.21.0,!=4.21.1,!=4.21.2,!=4.21.3,!=4.21.4,!=4.21.5,<5.0.0.dev0,>=3.19.5 in /usr/local/lib/python3.10/dist-packages (from google-api-core!=2.0.*,!=2.1.*,!=2.2.*,!=2.3.0,<3.0.0dev,>=1.31.5->google-api-python-client>=1.12.1->earthengine-api>=0.1.347->geemap) (3.20.3)\n",
            "Requirement already satisfied: google-crc32c<2.0dev,>=1.0 in /usr/local/lib/python3.10/dist-packages (from google-resumable-media>=2.3.2->google-cloud-storage->earthengine-api>=0.1.347->geemap) (1.5.0)\n",
            "Requirement already satisfied: jupyter-client in /usr/local/lib/python3.10/dist-packages (from ipykernel>=4.5.1->ipywidgets->ipyfilechooser>=0.6.0->geemap) (6.1.12)\n",
            "Requirement already satisfied: tornado>=4.2 in /usr/local/lib/python3.10/dist-packages (from ipykernel>=4.5.1->ipywidgets->ipyfilechooser>=0.6.0->geemap) (6.3.2)\n",
            "Requirement already satisfied: setuptools>=18.5 in /usr/local/lib/python3.10/dist-packages (from ipython>=4.0.0->ipywidgets->ipyfilechooser>=0.6.0->geemap) (67.7.2)\n",
            "Collecting jedi>=0.16 (from ipython>=4.0.0->ipywidgets->ipyfilechooser>=0.6.0->geemap)\n",
            "  Downloading jedi-0.19.1-py2.py3-none-any.whl (1.6 MB)\n",
            "\u001b[2K     \u001b[90m━━━━━━━━━━━━━━━━━━━━━━━━━━━━━━━━━━━━━━━━\u001b[0m \u001b[32m1.6/1.6 MB\u001b[0m \u001b[31m21.9 MB/s\u001b[0m eta \u001b[36m0:00:00\u001b[0m\n",
            "\u001b[?25hRequirement already satisfied: pickleshare in /usr/local/lib/python3.10/dist-packages (from ipython>=4.0.0->ipywidgets->ipyfilechooser>=0.6.0->geemap) (0.7.5)\n",
            "Requirement already satisfied: prompt-toolkit!=3.0.0,!=3.0.1,<3.1.0,>=2.0.0 in /usr/local/lib/python3.10/dist-packages (from ipython>=4.0.0->ipywidgets->ipyfilechooser>=0.6.0->geemap) (3.0.43)\n",
            "Requirement already satisfied: pygments in /usr/local/lib/python3.10/dist-packages (from ipython>=4.0.0->ipywidgets->ipyfilechooser>=0.6.0->geemap) (2.16.1)\n",
            "Requirement already satisfied: backcall in /usr/local/lib/python3.10/dist-packages (from ipython>=4.0.0->ipywidgets->ipyfilechooser>=0.6.0->geemap) (0.2.0)\n",
            "Requirement already satisfied: matplotlib-inline in /usr/local/lib/python3.10/dist-packages (from ipython>=4.0.0->ipywidgets->ipyfilechooser>=0.6.0->geemap) (0.1.6)\n",
            "Requirement already satisfied: pexpect>4.3 in /usr/local/lib/python3.10/dist-packages (from ipython>=4.0.0->ipywidgets->ipyfilechooser>=0.6.0->geemap) (4.9.0)\n",
            "Requirement already satisfied: pyasn1<0.6.0,>=0.4.6 in /usr/local/lib/python3.10/dist-packages (from pyasn1-modules>=0.2.1->google-auth>=1.4.1->earthengine-api>=0.1.347->geemap) (0.5.1)\n",
            "Requirement already satisfied: notebook>=4.4.1 in /usr/local/lib/python3.10/dist-packages (from widgetsnbextension~=3.6.0->ipywidgets->ipyfilechooser>=0.6.0->geemap) (6.5.5)\n",
            "Requirement already satisfied: parso<0.9.0,>=0.8.3 in /usr/local/lib/python3.10/dist-packages (from jedi>=0.16->ipython>=4.0.0->ipywidgets->ipyfilechooser>=0.6.0->geemap) (0.8.3)\n",
            "Requirement already satisfied: pyzmq<25,>=17 in /usr/local/lib/python3.10/dist-packages (from notebook>=4.4.1->widgetsnbextension~=3.6.0->ipywidgets->ipyfilechooser>=0.6.0->geemap) (23.2.1)\n",
            "Requirement already satisfied: argon2-cffi in /usr/local/lib/python3.10/dist-packages (from notebook>=4.4.1->widgetsnbextension~=3.6.0->ipywidgets->ipyfilechooser>=0.6.0->geemap) (23.1.0)\n",
            "Requirement already satisfied: jupyter-core>=4.6.1 in /usr/local/lib/python3.10/dist-packages (from notebook>=4.4.1->widgetsnbextension~=3.6.0->ipywidgets->ipyfilechooser>=0.6.0->geemap) (5.7.1)\n",
            "Requirement already satisfied: nbformat in /usr/local/lib/python3.10/dist-packages (from notebook>=4.4.1->widgetsnbextension~=3.6.0->ipywidgets->ipyfilechooser>=0.6.0->geemap) (5.9.2)\n",
            "Requirement already satisfied: nbconvert>=5 in /usr/local/lib/python3.10/dist-packages (from notebook>=4.4.1->widgetsnbextension~=3.6.0->ipywidgets->ipyfilechooser>=0.6.0->geemap) (6.5.4)\n",
            "Requirement already satisfied: nest-asyncio>=1.5 in /usr/local/lib/python3.10/dist-packages (from notebook>=4.4.1->widgetsnbextension~=3.6.0->ipywidgets->ipyfilechooser>=0.6.0->geemap) (1.6.0)\n",
            "Requirement already satisfied: Send2Trash>=1.8.0 in /usr/local/lib/python3.10/dist-packages (from notebook>=4.4.1->widgetsnbextension~=3.6.0->ipywidgets->ipyfilechooser>=0.6.0->geemap) (1.8.2)\n",
            "Requirement already satisfied: terminado>=0.8.3 in /usr/local/lib/python3.10/dist-packages (from notebook>=4.4.1->widgetsnbextension~=3.6.0->ipywidgets->ipyfilechooser>=0.6.0->geemap) (0.18.0)\n",
            "Requirement already satisfied: prometheus-client in /usr/local/lib/python3.10/dist-packages (from notebook>=4.4.1->widgetsnbextension~=3.6.0->ipywidgets->ipyfilechooser>=0.6.0->geemap) (0.19.0)\n",
            "Requirement already satisfied: nbclassic>=0.4.7 in /usr/local/lib/python3.10/dist-packages (from notebook>=4.4.1->widgetsnbextension~=3.6.0->ipywidgets->ipyfilechooser>=0.6.0->geemap) (1.0.0)\n",
            "Requirement already satisfied: ptyprocess>=0.5 in /usr/local/lib/python3.10/dist-packages (from pexpect>4.3->ipython>=4.0.0->ipywidgets->ipyfilechooser>=0.6.0->geemap) (0.7.0)\n",
            "Requirement already satisfied: wcwidth in /usr/local/lib/python3.10/dist-packages (from prompt-toolkit!=3.0.0,!=3.0.1,<3.1.0,>=2.0.0->ipython>=4.0.0->ipywidgets->ipyfilechooser>=0.6.0->geemap) (0.2.13)\n",
            "Requirement already satisfied: platformdirs>=2.5 in /usr/local/lib/python3.10/dist-packages (from jupyter-core>=4.6.1->notebook>=4.4.1->widgetsnbextension~=3.6.0->ipywidgets->ipyfilechooser>=0.6.0->geemap) (4.2.0)\n",
            "Requirement already satisfied: jupyter-server>=1.8 in /usr/local/lib/python3.10/dist-packages (from nbclassic>=0.4.7->notebook>=4.4.1->widgetsnbextension~=3.6.0->ipywidgets->ipyfilechooser>=0.6.0->geemap) (1.24.0)\n",
            "Requirement already satisfied: notebook-shim>=0.2.3 in /usr/local/lib/python3.10/dist-packages (from nbclassic>=0.4.7->notebook>=4.4.1->widgetsnbextension~=3.6.0->ipywidgets->ipyfilechooser>=0.6.0->geemap) (0.2.3)\n",
            "Requirement already satisfied: lxml in /usr/local/lib/python3.10/dist-packages (from nbconvert>=5->notebook>=4.4.1->widgetsnbextension~=3.6.0->ipywidgets->ipyfilechooser>=0.6.0->geemap) (4.9.4)\n",
            "Requirement already satisfied: beautifulsoup4 in /usr/local/lib/python3.10/dist-packages (from nbconvert>=5->notebook>=4.4.1->widgetsnbextension~=3.6.0->ipywidgets->ipyfilechooser>=0.6.0->geemap) (4.12.3)\n",
            "Requirement already satisfied: bleach in /usr/local/lib/python3.10/dist-packages (from nbconvert>=5->notebook>=4.4.1->widgetsnbextension~=3.6.0->ipywidgets->ipyfilechooser>=0.6.0->geemap) (6.1.0)\n",
            "Requirement already satisfied: defusedxml in /usr/local/lib/python3.10/dist-packages (from nbconvert>=5->notebook>=4.4.1->widgetsnbextension~=3.6.0->ipywidgets->ipyfilechooser>=0.6.0->geemap) (0.7.1)\n",
            "Requirement already satisfied: entrypoints>=0.2.2 in /usr/local/lib/python3.10/dist-packages (from nbconvert>=5->notebook>=4.4.1->widgetsnbextension~=3.6.0->ipywidgets->ipyfilechooser>=0.6.0->geemap) (0.4)\n",
            "Requirement already satisfied: jupyterlab-pygments in /usr/local/lib/python3.10/dist-packages (from nbconvert>=5->notebook>=4.4.1->widgetsnbextension~=3.6.0->ipywidgets->ipyfilechooser>=0.6.0->geemap) (0.3.0)\n",
            "Requirement already satisfied: mistune<2,>=0.8.1 in /usr/local/lib/python3.10/dist-packages (from nbconvert>=5->notebook>=4.4.1->widgetsnbextension~=3.6.0->ipywidgets->ipyfilechooser>=0.6.0->geemap) (0.8.4)\n",
            "Requirement already satisfied: nbclient>=0.5.0 in /usr/local/lib/python3.10/dist-packages (from nbconvert>=5->notebook>=4.4.1->widgetsnbextension~=3.6.0->ipywidgets->ipyfilechooser>=0.6.0->geemap) (0.9.0)\n",
            "Requirement already satisfied: pandocfilters>=1.4.1 in /usr/local/lib/python3.10/dist-packages (from nbconvert>=5->notebook>=4.4.1->widgetsnbextension~=3.6.0->ipywidgets->ipyfilechooser>=0.6.0->geemap) (1.5.1)\n",
            "Requirement already satisfied: tinycss2 in /usr/local/lib/python3.10/dist-packages (from nbconvert>=5->notebook>=4.4.1->widgetsnbextension~=3.6.0->ipywidgets->ipyfilechooser>=0.6.0->geemap) (1.2.1)\n",
            "Requirement already satisfied: fastjsonschema in /usr/local/lib/python3.10/dist-packages (from nbformat->notebook>=4.4.1->widgetsnbextension~=3.6.0->ipywidgets->ipyfilechooser>=0.6.0->geemap) (2.19.1)\n",
            "Requirement already satisfied: jsonschema>=2.6 in /usr/local/lib/python3.10/dist-packages (from nbformat->notebook>=4.4.1->widgetsnbextension~=3.6.0->ipywidgets->ipyfilechooser>=0.6.0->geemap) (4.19.2)\n",
            "Requirement already satisfied: argon2-cffi-bindings in /usr/local/lib/python3.10/dist-packages (from argon2-cffi->notebook>=4.4.1->widgetsnbextension~=3.6.0->ipywidgets->ipyfilechooser>=0.6.0->geemap) (21.2.0)\n",
            "Requirement already satisfied: attrs>=22.2.0 in /usr/local/lib/python3.10/dist-packages (from jsonschema>=2.6->nbformat->notebook>=4.4.1->widgetsnbextension~=3.6.0->ipywidgets->ipyfilechooser>=0.6.0->geemap) (23.2.0)\n",
            "Requirement already satisfied: jsonschema-specifications>=2023.03.6 in /usr/local/lib/python3.10/dist-packages (from jsonschema>=2.6->nbformat->notebook>=4.4.1->widgetsnbextension~=3.6.0->ipywidgets->ipyfilechooser>=0.6.0->geemap) (2023.12.1)\n",
            "Requirement already satisfied: referencing>=0.28.4 in /usr/local/lib/python3.10/dist-packages (from jsonschema>=2.6->nbformat->notebook>=4.4.1->widgetsnbextension~=3.6.0->ipywidgets->ipyfilechooser>=0.6.0->geemap) (0.33.0)\n",
            "Requirement already satisfied: rpds-py>=0.7.1 in /usr/local/lib/python3.10/dist-packages (from jsonschema>=2.6->nbformat->notebook>=4.4.1->widgetsnbextension~=3.6.0->ipywidgets->ipyfilechooser>=0.6.0->geemap) (0.17.1)\n",
            "Requirement already satisfied: anyio<4,>=3.1.0 in /usr/local/lib/python3.10/dist-packages (from jupyter-server>=1.8->nbclassic>=0.4.7->notebook>=4.4.1->widgetsnbextension~=3.6.0->ipywidgets->ipyfilechooser>=0.6.0->geemap) (3.7.1)\n",
            "Requirement already satisfied: websocket-client in /usr/local/lib/python3.10/dist-packages (from jupyter-server>=1.8->nbclassic>=0.4.7->notebook>=4.4.1->widgetsnbextension~=3.6.0->ipywidgets->ipyfilechooser>=0.6.0->geemap) (1.7.0)\n",
            "Requirement already satisfied: cffi>=1.0.1 in /usr/local/lib/python3.10/dist-packages (from argon2-cffi-bindings->argon2-cffi->notebook>=4.4.1->widgetsnbextension~=3.6.0->ipywidgets->ipyfilechooser>=0.6.0->geemap) (1.16.0)\n",
            "Requirement already satisfied: soupsieve>1.2 in /usr/local/lib/python3.10/dist-packages (from beautifulsoup4->nbconvert>=5->notebook>=4.4.1->widgetsnbextension~=3.6.0->ipywidgets->ipyfilechooser>=0.6.0->geemap) (2.5)\n",
            "Requirement already satisfied: webencodings in /usr/local/lib/python3.10/dist-packages (from bleach->nbconvert>=5->notebook>=4.4.1->widgetsnbextension~=3.6.0->ipywidgets->ipyfilechooser>=0.6.0->geemap) (0.5.1)\n",
            "Requirement already satisfied: sniffio>=1.1 in /usr/local/lib/python3.10/dist-packages (from anyio<4,>=3.1.0->jupyter-server>=1.8->nbclassic>=0.4.7->notebook>=4.4.1->widgetsnbextension~=3.6.0->ipywidgets->ipyfilechooser>=0.6.0->geemap) (1.3.0)\n",
            "Requirement already satisfied: exceptiongroup in /usr/local/lib/python3.10/dist-packages (from anyio<4,>=3.1.0->jupyter-server>=1.8->nbclassic>=0.4.7->notebook>=4.4.1->widgetsnbextension~=3.6.0->ipywidgets->ipyfilechooser>=0.6.0->geemap) (1.2.0)\n",
            "Requirement already satisfied: pycparser in /usr/local/lib/python3.10/dist-packages (from cffi>=1.0.1->argon2-cffi-bindings->argon2-cffi->notebook>=4.4.1->widgetsnbextension~=3.6.0->ipywidgets->ipyfilechooser>=0.6.0->geemap) (2.21)\n",
            "Installing collected packages: jedi\n",
            "Successfully installed jedi-0.19.1\n",
            "Collecting timedelta\n",
            "  Downloading timedelta-2020.12.3.tar.gz (1.6 kB)\n",
            "  Preparing metadata (setup.py) ... \u001b[?25l\u001b[?25hdone\n",
            "Building wheels for collected packages: timedelta\n",
            "  Building wheel for timedelta (setup.py) ... \u001b[?25l\u001b[?25hdone\n",
            "  Created wheel for timedelta: filename=timedelta-2020.12.3-py3-none-any.whl size=1554 sha256=08a207b69ea1f5e478c277180679639dccd5e4cfb0c7877a90750efb6087f9e9\n",
            "  Stored in directory: /root/.cache/pip/wheels/be/c0/1f/843bd73679dc7dfb26758c4effc6e273d3eebf2da2a35082b1\n",
            "Successfully built timedelta\n",
            "Installing collected packages: timedelta\n",
            "Successfully installed timedelta-2020.12.3\n"
          ]
        }
      ]
    },
    {
      "cell_type": "code",
      "execution_count": 2,
      "metadata": {
        "collapsed": true,
        "id": "MNZna2UJf_ch"
      },
      "outputs": [],
      "source": [
        "import ee\n",
        "import time\n",
        "import geemap\n",
        "import datetime\n",
        "import numpy as np\n",
        "import pandas as pd\n",
        "from datetime import datetime, timedelta\n",
        "from pyproj import Transformer, Proj, transform\n",
        "from dateutil.relativedelta import relativedelta"
      ]
    },
    {
      "cell_type": "markdown",
      "source": [
        "# **Recopilar, Proceso Datos, y Analizar NDVI**"
      ],
      "metadata": {
        "id": "G4wTuE3gM8q1"
      }
    },
    {
      "cell_type": "markdown",
      "source": [
        "### **1. Autorizar e inicializar Earth Engine**\n",
        "#### _Autenticar e inicializar la API de Google Earth Engine (GEE)._\n",
        "\n",
        "\n",
        "\n",
        "\n",
        "- Conecte e inicialice con tu cuenta de earth engine y proyecto."
      ],
      "metadata": {
        "id": "gLMYjSSaB6Oi"
      }
    },
    {
      "cell_type": "code",
      "source": [
        "ee.Authenticate(auth_mode=\"notebook\")\n",
        "ee.Initialize()"
      ],
      "metadata": {
        "id": "Rk7FOpOkgIyg",
        "collapsed": true,
        "colab": {
          "base_uri": "https://localhost:8080/",
          "height": 185
        },
        "outputId": "89adef1b-d306-4a8b-8865-783af5ebbde0"
      },
      "execution_count": 3,
      "outputs": [
        {
          "output_type": "display_data",
          "data": {
            "text/plain": [
              "<IPython.core.display.HTML object>"
            ],
            "text/html": [
              "\n",
              "            <style>\n",
              "                .geemap-dark {\n",
              "                    --jp-widgets-color: white;\n",
              "                    --jp-widgets-label-color: white;\n",
              "                    --jp-ui-font-color1: white;\n",
              "                    --jp-layout-color2: #454545;\n",
              "                    background-color: #383838;\n",
              "                }\n",
              "                    \n",
              "                .geemap-dark .jupyter-button {\n",
              "                    --jp-layout-color3: #383838;\n",
              "                }\n",
              "                \n",
              "                .geemap-colab {\n",
              "                    background-color: var(--colab-primary-surface-color, white);\n",
              "                }\n",
              "                    \n",
              "                .geemap-colab .jupyter-button {\n",
              "                    --jp-layout-color3: var(--colab-primary-surface-color, white);\n",
              "                }\n",
              "            </style>\n",
              "            "
            ]
          },
          "metadata": {}
        },
        {
          "output_type": "stream",
          "name": "stdout",
          "text": [
            "To authorize access needed by Earth Engine, open the following URL in a web browser and follow the instructions. If the web browser does not start automatically, please manually browse the URL below.\n",
            "\n",
            "    https://code.earthengine.google.com/client-auth?scopes=https%3A//www.googleapis.com/auth/earthengine%20https%3A//www.googleapis.com/auth/cloud-platform%20https%3A//www.googleapis.com/auth/devstorage.full_control&request_id=WqmpYgfmDNhCLl3r0L4E8lI75EMLD-CGIvOLqd0da98&tc=ESbzjehoji-rWdvD72axTPAK2LOjYXL8Pwo1G3bS7ro&cc=n4kDUbiNskfICLzhVSUxFMfm9Vp64D8TPA1caQMS_5M\n",
            "\n",
            "The authorization workflow will generate a code, which you should paste in the box below.\n",
            "Enter verification code: 4/1AeaYSHCydO-RkJDgI8-tlG8hbjBo4ccM_l1YiNFCRYS2Cww-r7OwaLzEC6k\n",
            "\n",
            "Successfully saved authorization token.\n"
          ]
        }
      ]
    },
    {
      "cell_type": "markdown",
      "source": [
        "## **2. Cargar CSV**\n",
        "\n",
        "#### _Cargue el archivo CSV que contiene las coordenadas y analícelo para crear puntos._\n",
        "\n",
        "- Exporta tu hoja de cálculo con los vértices como csv. La integridad y uniformidad del documento original es importante. Si tiene dificultades en este paso, consulte el curso [aquí.](https://www.youtube.com/watch?v=uGx0PHD6o9M)\n",
        "\n",
        "- Al usar este cuaderno en colab. Habrá un panel a la izquierda. Si no estás en los archivos. Haga clic en el icono de la carpeta donde los botones están al ras de la pantalla. Ahora donde dice \"Archivos\", haz clic en el ícono de archivo con una flecha en el medio y sube tus vértices. Alternativamente, puede arrastrar y soltar en el panel de archivos."
      ],
      "metadata": {
        "id": "1FPEd4NJCAn3"
      }
    },
    {
      "cell_type": "code",
      "source": [
        "# @title\n",
        "csv_viaje = 'imazacoord_NOppi.csv'  # Una vez que haya cargado su archivo, en esta línea cambie el nombre por el nombre del archivo que cargó con la extensión.\n",
        "df = pd.read_csv(csv_viaje)"
      ],
      "metadata": {
        "id": "shNomv3DB4AB",
        "colab": {
          "base_uri": "https://localhost:8080/",
          "height": 17
        },
        "outputId": "6f73515a-ce29-4c07-c490-8b9ad821f73d"
      },
      "execution_count": 4,
      "outputs": [
        {
          "output_type": "display_data",
          "data": {
            "text/plain": [
              "<IPython.core.display.HTML object>"
            ],
            "text/html": [
              "\n",
              "            <style>\n",
              "                .geemap-dark {\n",
              "                    --jp-widgets-color: white;\n",
              "                    --jp-widgets-label-color: white;\n",
              "                    --jp-ui-font-color1: white;\n",
              "                    --jp-layout-color2: #454545;\n",
              "                    background-color: #383838;\n",
              "                }\n",
              "                    \n",
              "                .geemap-dark .jupyter-button {\n",
              "                    --jp-layout-color3: #383838;\n",
              "                }\n",
              "                \n",
              "                .geemap-colab {\n",
              "                    background-color: var(--colab-primary-surface-color, white);\n",
              "                }\n",
              "                    \n",
              "                .geemap-colab .jupyter-button {\n",
              "                    --jp-layout-color3: var(--colab-primary-surface-color, white);\n",
              "                }\n",
              "            </style>\n",
              "            "
            ]
          },
          "metadata": {}
        }
      ]
    },
    {
      "cell_type": "code",
      "source": [
        "# @title\n",
        "df.head()"
      ],
      "metadata": {
        "colab": {
          "base_uri": "https://localhost:8080/",
          "height": 206
        },
        "id": "z7MnMH6ybA07",
        "outputId": "550e464d-4427-4e96-ee67-7a9418a97156"
      },
      "execution_count": 5,
      "outputs": [
        {
          "output_type": "display_data",
          "data": {
            "text/plain": [
              "<IPython.core.display.HTML object>"
            ],
            "text/html": [
              "\n",
              "            <style>\n",
              "                .geemap-dark {\n",
              "                    --jp-widgets-color: white;\n",
              "                    --jp-widgets-label-color: white;\n",
              "                    --jp-ui-font-color1: white;\n",
              "                    --jp-layout-color2: #454545;\n",
              "                    background-color: #383838;\n",
              "                }\n",
              "                    \n",
              "                .geemap-dark .jupyter-button {\n",
              "                    --jp-layout-color3: #383838;\n",
              "                }\n",
              "                \n",
              "                .geemap-colab {\n",
              "                    background-color: var(--colab-primary-surface-color, white);\n",
              "                }\n",
              "                    \n",
              "                .geemap-colab .jupyter-button {\n",
              "                    --jp-layout-color3: var(--colab-primary-surface-color, white);\n",
              "                }\n",
              "            </style>\n",
              "            "
            ]
          },
          "metadata": {}
        },
        {
          "output_type": "execute_result",
          "data": {
            "text/plain": [
              "             NCONTRA                           NOMTIT       NUMRUC  \\\n",
              "0  16-IQU/C-J-105-04  INDUSTRIAL MADERERA ZAPOTE S.A.  20103979529   \n",
              "1  16-IQU/C-J-105-04  INDUSTRIAL MADERERA ZAPOTE S.A.  20103979529   \n",
              "2  16-IQU/C-J-105-04  INDUSTRIAL MADERERA ZAPOTE S.A.  20103979529   \n",
              "3  16-IQU/C-J-105-04  INDUSTRIAL MADERERA ZAPOTE S.A.  20103979529   \n",
              "4  16-IQU/C-J-105-04  INDUSTRIAL MADERERA ZAPOTE S.A.  20103979529   \n",
              "\n",
              "                                     RESAPR       ESTE       NORTE  VERTICE  \n",
              "0  RSD N° 019-2012-GRL-GGR-PRMRFFS-DER-SDPM  643560.25  9530613.00        1  \n",
              "1  RSD N° 019-2012-GRL-GGR-PRMRFFS-DER-SDPM  643560.25  9527597.60        2  \n",
              "2  RSD N° 019-2012-GRL-GGR-PRMRFFS-DER-SDPM  641579.82  9528512.95        3  \n",
              "3  RSD N° 019-2012-GRL-GGR-PRMRFFS-DER-SDPM  640464.65  9528511.51        4  \n",
              "4  RSD N° 019-2012-GRL-GGR-PRMRFFS-DER-SDPM  638560.25  9526722.71        5  "
            ],
            "text/html": [
              "\n",
              "  <div id=\"df-ed741542-012b-46c1-9d4c-51ebec5f71df\" class=\"colab-df-container\">\n",
              "    <div>\n",
              "<style scoped>\n",
              "    .dataframe tbody tr th:only-of-type {\n",
              "        vertical-align: middle;\n",
              "    }\n",
              "\n",
              "    .dataframe tbody tr th {\n",
              "        vertical-align: top;\n",
              "    }\n",
              "\n",
              "    .dataframe thead th {\n",
              "        text-align: right;\n",
              "    }\n",
              "</style>\n",
              "<table border=\"1\" class=\"dataframe\">\n",
              "  <thead>\n",
              "    <tr style=\"text-align: right;\">\n",
              "      <th></th>\n",
              "      <th>NCONTRA</th>\n",
              "      <th>NOMTIT</th>\n",
              "      <th>NUMRUC</th>\n",
              "      <th>RESAPR</th>\n",
              "      <th>ESTE</th>\n",
              "      <th>NORTE</th>\n",
              "      <th>VERTICE</th>\n",
              "    </tr>\n",
              "  </thead>\n",
              "  <tbody>\n",
              "    <tr>\n",
              "      <th>0</th>\n",
              "      <td>16-IQU/C-J-105-04</td>\n",
              "      <td>INDUSTRIAL MADERERA ZAPOTE S.A.</td>\n",
              "      <td>20103979529</td>\n",
              "      <td>RSD N° 019-2012-GRL-GGR-PRMRFFS-DER-SDPM</td>\n",
              "      <td>643560.25</td>\n",
              "      <td>9530613.00</td>\n",
              "      <td>1</td>\n",
              "    </tr>\n",
              "    <tr>\n",
              "      <th>1</th>\n",
              "      <td>16-IQU/C-J-105-04</td>\n",
              "      <td>INDUSTRIAL MADERERA ZAPOTE S.A.</td>\n",
              "      <td>20103979529</td>\n",
              "      <td>RSD N° 019-2012-GRL-GGR-PRMRFFS-DER-SDPM</td>\n",
              "      <td>643560.25</td>\n",
              "      <td>9527597.60</td>\n",
              "      <td>2</td>\n",
              "    </tr>\n",
              "    <tr>\n",
              "      <th>2</th>\n",
              "      <td>16-IQU/C-J-105-04</td>\n",
              "      <td>INDUSTRIAL MADERERA ZAPOTE S.A.</td>\n",
              "      <td>20103979529</td>\n",
              "      <td>RSD N° 019-2012-GRL-GGR-PRMRFFS-DER-SDPM</td>\n",
              "      <td>641579.82</td>\n",
              "      <td>9528512.95</td>\n",
              "      <td>3</td>\n",
              "    </tr>\n",
              "    <tr>\n",
              "      <th>3</th>\n",
              "      <td>16-IQU/C-J-105-04</td>\n",
              "      <td>INDUSTRIAL MADERERA ZAPOTE S.A.</td>\n",
              "      <td>20103979529</td>\n",
              "      <td>RSD N° 019-2012-GRL-GGR-PRMRFFS-DER-SDPM</td>\n",
              "      <td>640464.65</td>\n",
              "      <td>9528511.51</td>\n",
              "      <td>4</td>\n",
              "    </tr>\n",
              "    <tr>\n",
              "      <th>4</th>\n",
              "      <td>16-IQU/C-J-105-04</td>\n",
              "      <td>INDUSTRIAL MADERERA ZAPOTE S.A.</td>\n",
              "      <td>20103979529</td>\n",
              "      <td>RSD N° 019-2012-GRL-GGR-PRMRFFS-DER-SDPM</td>\n",
              "      <td>638560.25</td>\n",
              "      <td>9526722.71</td>\n",
              "      <td>5</td>\n",
              "    </tr>\n",
              "  </tbody>\n",
              "</table>\n",
              "</div>\n",
              "    <div class=\"colab-df-buttons\">\n",
              "\n",
              "  <div class=\"colab-df-container\">\n",
              "    <button class=\"colab-df-convert\" onclick=\"convertToInteractive('df-ed741542-012b-46c1-9d4c-51ebec5f71df')\"\n",
              "            title=\"Convert this dataframe to an interactive table.\"\n",
              "            style=\"display:none;\">\n",
              "\n",
              "  <svg xmlns=\"http://www.w3.org/2000/svg\" height=\"24px\" viewBox=\"0 -960 960 960\">\n",
              "    <path d=\"M120-120v-720h720v720H120Zm60-500h600v-160H180v160Zm220 220h160v-160H400v160Zm0 220h160v-160H400v160ZM180-400h160v-160H180v160Zm440 0h160v-160H620v160ZM180-180h160v-160H180v160Zm440 0h160v-160H620v160Z\"/>\n",
              "  </svg>\n",
              "    </button>\n",
              "\n",
              "  <style>\n",
              "    .colab-df-container {\n",
              "      display:flex;\n",
              "      gap: 12px;\n",
              "    }\n",
              "\n",
              "    .colab-df-convert {\n",
              "      background-color: #E8F0FE;\n",
              "      border: none;\n",
              "      border-radius: 50%;\n",
              "      cursor: pointer;\n",
              "      display: none;\n",
              "      fill: #1967D2;\n",
              "      height: 32px;\n",
              "      padding: 0 0 0 0;\n",
              "      width: 32px;\n",
              "    }\n",
              "\n",
              "    .colab-df-convert:hover {\n",
              "      background-color: #E2EBFA;\n",
              "      box-shadow: 0px 1px 2px rgba(60, 64, 67, 0.3), 0px 1px 3px 1px rgba(60, 64, 67, 0.15);\n",
              "      fill: #174EA6;\n",
              "    }\n",
              "\n",
              "    .colab-df-buttons div {\n",
              "      margin-bottom: 4px;\n",
              "    }\n",
              "\n",
              "    [theme=dark] .colab-df-convert {\n",
              "      background-color: #3B4455;\n",
              "      fill: #D2E3FC;\n",
              "    }\n",
              "\n",
              "    [theme=dark] .colab-df-convert:hover {\n",
              "      background-color: #434B5C;\n",
              "      box-shadow: 0px 1px 3px 1px rgba(0, 0, 0, 0.15);\n",
              "      filter: drop-shadow(0px 1px 2px rgba(0, 0, 0, 0.3));\n",
              "      fill: #FFFFFF;\n",
              "    }\n",
              "  </style>\n",
              "\n",
              "    <script>\n",
              "      const buttonEl =\n",
              "        document.querySelector('#df-ed741542-012b-46c1-9d4c-51ebec5f71df button.colab-df-convert');\n",
              "      buttonEl.style.display =\n",
              "        google.colab.kernel.accessAllowed ? 'block' : 'none';\n",
              "\n",
              "      async function convertToInteractive(key) {\n",
              "        const element = document.querySelector('#df-ed741542-012b-46c1-9d4c-51ebec5f71df');\n",
              "        const dataTable =\n",
              "          await google.colab.kernel.invokeFunction('convertToInteractive',\n",
              "                                                    [key], {});\n",
              "        if (!dataTable) return;\n",
              "\n",
              "        const docLinkHtml = 'Like what you see? Visit the ' +\n",
              "          '<a target=\"_blank\" href=https://colab.research.google.com/notebooks/data_table.ipynb>data table notebook</a>'\n",
              "          + ' to learn more about interactive tables.';\n",
              "        element.innerHTML = '';\n",
              "        dataTable['output_type'] = 'display_data';\n",
              "        await google.colab.output.renderOutput(dataTable, element);\n",
              "        const docLink = document.createElement('div');\n",
              "        docLink.innerHTML = docLinkHtml;\n",
              "        element.appendChild(docLink);\n",
              "      }\n",
              "    </script>\n",
              "  </div>\n",
              "\n",
              "\n",
              "<div id=\"df-77f518c4-9bd7-48da-852e-8fbcf30f36d1\">\n",
              "  <button class=\"colab-df-quickchart\" onclick=\"quickchart('df-77f518c4-9bd7-48da-852e-8fbcf30f36d1')\"\n",
              "            title=\"Suggest charts\"\n",
              "            style=\"display:none;\">\n",
              "\n",
              "<svg xmlns=\"http://www.w3.org/2000/svg\" height=\"24px\"viewBox=\"0 0 24 24\"\n",
              "     width=\"24px\">\n",
              "    <g>\n",
              "        <path d=\"M19 3H5c-1.1 0-2 .9-2 2v14c0 1.1.9 2 2 2h14c1.1 0 2-.9 2-2V5c0-1.1-.9-2-2-2zM9 17H7v-7h2v7zm4 0h-2V7h2v10zm4 0h-2v-4h2v4z\"/>\n",
              "    </g>\n",
              "</svg>\n",
              "  </button>\n",
              "\n",
              "<style>\n",
              "  .colab-df-quickchart {\n",
              "      --bg-color: #E8F0FE;\n",
              "      --fill-color: #1967D2;\n",
              "      --hover-bg-color: #E2EBFA;\n",
              "      --hover-fill-color: #174EA6;\n",
              "      --disabled-fill-color: #AAA;\n",
              "      --disabled-bg-color: #DDD;\n",
              "  }\n",
              "\n",
              "  [theme=dark] .colab-df-quickchart {\n",
              "      --bg-color: #3B4455;\n",
              "      --fill-color: #D2E3FC;\n",
              "      --hover-bg-color: #434B5C;\n",
              "      --hover-fill-color: #FFFFFF;\n",
              "      --disabled-bg-color: #3B4455;\n",
              "      --disabled-fill-color: #666;\n",
              "  }\n",
              "\n",
              "  .colab-df-quickchart {\n",
              "    background-color: var(--bg-color);\n",
              "    border: none;\n",
              "    border-radius: 50%;\n",
              "    cursor: pointer;\n",
              "    display: none;\n",
              "    fill: var(--fill-color);\n",
              "    height: 32px;\n",
              "    padding: 0;\n",
              "    width: 32px;\n",
              "  }\n",
              "\n",
              "  .colab-df-quickchart:hover {\n",
              "    background-color: var(--hover-bg-color);\n",
              "    box-shadow: 0 1px 2px rgba(60, 64, 67, 0.3), 0 1px 3px 1px rgba(60, 64, 67, 0.15);\n",
              "    fill: var(--button-hover-fill-color);\n",
              "  }\n",
              "\n",
              "  .colab-df-quickchart-complete:disabled,\n",
              "  .colab-df-quickchart-complete:disabled:hover {\n",
              "    background-color: var(--disabled-bg-color);\n",
              "    fill: var(--disabled-fill-color);\n",
              "    box-shadow: none;\n",
              "  }\n",
              "\n",
              "  .colab-df-spinner {\n",
              "    border: 2px solid var(--fill-color);\n",
              "    border-color: transparent;\n",
              "    border-bottom-color: var(--fill-color);\n",
              "    animation:\n",
              "      spin 1s steps(1) infinite;\n",
              "  }\n",
              "\n",
              "  @keyframes spin {\n",
              "    0% {\n",
              "      border-color: transparent;\n",
              "      border-bottom-color: var(--fill-color);\n",
              "      border-left-color: var(--fill-color);\n",
              "    }\n",
              "    20% {\n",
              "      border-color: transparent;\n",
              "      border-left-color: var(--fill-color);\n",
              "      border-top-color: var(--fill-color);\n",
              "    }\n",
              "    30% {\n",
              "      border-color: transparent;\n",
              "      border-left-color: var(--fill-color);\n",
              "      border-top-color: var(--fill-color);\n",
              "      border-right-color: var(--fill-color);\n",
              "    }\n",
              "    40% {\n",
              "      border-color: transparent;\n",
              "      border-right-color: var(--fill-color);\n",
              "      border-top-color: var(--fill-color);\n",
              "    }\n",
              "    60% {\n",
              "      border-color: transparent;\n",
              "      border-right-color: var(--fill-color);\n",
              "    }\n",
              "    80% {\n",
              "      border-color: transparent;\n",
              "      border-right-color: var(--fill-color);\n",
              "      border-bottom-color: var(--fill-color);\n",
              "    }\n",
              "    90% {\n",
              "      border-color: transparent;\n",
              "      border-bottom-color: var(--fill-color);\n",
              "    }\n",
              "  }\n",
              "</style>\n",
              "\n",
              "  <script>\n",
              "    async function quickchart(key) {\n",
              "      const quickchartButtonEl =\n",
              "        document.querySelector('#' + key + ' button');\n",
              "      quickchartButtonEl.disabled = true;  // To prevent multiple clicks.\n",
              "      quickchartButtonEl.classList.add('colab-df-spinner');\n",
              "      try {\n",
              "        const charts = await google.colab.kernel.invokeFunction(\n",
              "            'suggestCharts', [key], {});\n",
              "      } catch (error) {\n",
              "        console.error('Error during call to suggestCharts:', error);\n",
              "      }\n",
              "      quickchartButtonEl.classList.remove('colab-df-spinner');\n",
              "      quickchartButtonEl.classList.add('colab-df-quickchart-complete');\n",
              "    }\n",
              "    (() => {\n",
              "      let quickchartButtonEl =\n",
              "        document.querySelector('#df-77f518c4-9bd7-48da-852e-8fbcf30f36d1 button');\n",
              "      quickchartButtonEl.style.display =\n",
              "        google.colab.kernel.accessAllowed ? 'block' : 'none';\n",
              "    })();\n",
              "  </script>\n",
              "</div>\n",
              "\n",
              "    </div>\n",
              "  </div>\n"
            ],
            "application/vnd.google.colaboratory.intrinsic+json": {
              "type": "dataframe",
              "variable_name": "df",
              "summary": "{\n  \"name\": \"df\",\n  \"rows\": 127,\n  \"fields\": [\n    {\n      \"column\": \"NCONTRA\",\n      \"properties\": {\n        \"dtype\": \"category\",\n        \"samples\": [\n          \"16-IQU/C-J-105-04\"\n        ],\n        \"num_unique_values\": 1,\n        \"semantic_type\": \"\",\n        \"description\": \"\"\n      }\n    },\n    {\n      \"column\": \"NOMTIT\",\n      \"properties\": {\n        \"dtype\": \"category\",\n        \"samples\": [\n          \"INDUSTRIAL MADERERA ZAPOTE S.A.\"\n        ],\n        \"num_unique_values\": 1,\n        \"semantic_type\": \"\",\n        \"description\": \"\"\n      }\n    },\n    {\n      \"column\": \"NUMRUC\",\n      \"properties\": {\n        \"dtype\": \"number\",\n        \"std\": 0,\n        \"min\": 20103979529,\n        \"max\": 20103979529,\n        \"samples\": [\n          20103979529\n        ],\n        \"num_unique_values\": 1,\n        \"semantic_type\": \"\",\n        \"description\": \"\"\n      }\n    },\n    {\n      \"column\": \"RESAPR\",\n      \"properties\": {\n        \"dtype\": \"category\",\n        \"samples\": [\n          \"RSD N\\u00b0 019-2012-GRL-GGR-PRMRFFS-DER-SDPM\"\n        ],\n        \"num_unique_values\": 1,\n        \"semantic_type\": \"\",\n        \"description\": \"\"\n      }\n    },\n    {\n      \"column\": \"ESTE\",\n      \"properties\": {\n        \"dtype\": \"number\",\n        \"std\": 5468.181361623219,\n        \"min\": 633560.25,\n        \"max\": 655463.84,\n        \"samples\": [\n          649704.26\n        ],\n        \"num_unique_values\": 102,\n        \"semantic_type\": \"\",\n        \"description\": \"\"\n      }\n    },\n    {\n      \"column\": \"NORTE\",\n      \"properties\": {\n        \"dtype\": \"number\",\n        \"std\": 10071.448190166484,\n        \"min\": 9503776.08,\n        \"max\": 9539527.85,\n        \"samples\": [\n          9504672.02\n        ],\n        \"num_unique_values\": 116,\n        \"semantic_type\": \"\",\n        \"description\": \"\"\n      }\n    },\n    {\n      \"column\": \"VERTICE\",\n      \"properties\": {\n        \"dtype\": \"number\",\n        \"std\": 36,\n        \"min\": 1,\n        \"max\": 127,\n        \"samples\": [\n          27\n        ],\n        \"num_unique_values\": 127,\n        \"semantic_type\": \"\",\n        \"description\": \"\"\n      }\n    }\n  ]\n}"
            }
          },
          "metadata": {},
          "execution_count": 5
        }
      ]
    },
    {
      "cell_type": "code",
      "source": [
        "# Aquí necesitamos proyectar desde UTM 18S a WGS84 (el CRS utilizado por Earth Engine).\n",
        "transformer = Transformer.from_crs(\"epsg:32718\", \"epsg:4326\", always_xy=True)\n",
        "'''\n",
        "Tenga en cuenta que si sus coordenadas no están en UTM 18S,\n",
        "deberá consultar la documentación de pyproj y ajustar \"epsg:32718\"\n",
        "al epsg que utilizan sus coordenadas. Aquí está el sitio donde\n",
        "puedes encontrar esa información:\n",
        "https://pyproj4.github.io/pyproj/stable/api/crs/crs.html\n",
        "https://epsg.io/\n",
        "'''\n",
        "def utm_to_latlon(easting, northing):\n",
        "    # Dado que transformador.transform(este, norte) ya se alinea con (x, y) => (ESTE, NORTE),\n",
        "    # y desea regresar (latitud, longitud), asegúrese de capturar la salida correctamente.\n",
        "    lon, lat = transformer.transform(easting, northing)\n",
        "    return lat, lon  # Esto garantiza que la devolución esté en formato (latitud, longitud).\n",
        "\n",
        "# Assuming 'df' is your DataFrame\n",
        "df['latitud'], df['longitud'] = zip(*df.apply(lambda row: utm_to_latlon(row['ESTE'], row['NORTE']), axis=1)) # Donde dice 'ESTE' y 'NORTE', esto coincide de manera muy idéntica con los nombres de las columnas de latitud y longitud en sus datos."
      ],
      "metadata": {
        "collapsed": true,
        "id": "yyoEB_F7B8tJ",
        "colab": {
          "base_uri": "https://localhost:8080/",
          "height": 17
        },
        "outputId": "d0a1e3fc-1dbe-4038-8d99-1d2de7da9632"
      },
      "execution_count": 6,
      "outputs": [
        {
          "output_type": "display_data",
          "data": {
            "text/plain": [
              "<IPython.core.display.HTML object>"
            ],
            "text/html": [
              "\n",
              "            <style>\n",
              "                .geemap-dark {\n",
              "                    --jp-widgets-color: white;\n",
              "                    --jp-widgets-label-color: white;\n",
              "                    --jp-ui-font-color1: white;\n",
              "                    --jp-layout-color2: #454545;\n",
              "                    background-color: #383838;\n",
              "                }\n",
              "                    \n",
              "                .geemap-dark .jupyter-button {\n",
              "                    --jp-layout-color3: #383838;\n",
              "                }\n",
              "                \n",
              "                .geemap-colab {\n",
              "                    background-color: var(--colab-primary-surface-color, white);\n",
              "                }\n",
              "                    \n",
              "                .geemap-colab .jupyter-button {\n",
              "                    --jp-layout-color3: var(--colab-primary-surface-color, white);\n",
              "                }\n",
              "            </style>\n",
              "            "
            ]
          },
          "metadata": {}
        }
      ]
    },
    {
      "cell_type": "markdown",
      "source": [
        "#### Procesando"
      ],
      "metadata": {
        "id": "BGbpHpSMGs9q"
      }
    },
    {
      "cell_type": "code",
      "source": [
        "coordenadas = df[['latitud', 'longitud']].values.tolist()"
      ],
      "metadata": {
        "id": "4etm69guE3lE",
        "collapsed": true,
        "colab": {
          "base_uri": "https://localhost:8080/",
          "height": 17
        },
        "outputId": "8bd8bb2b-ed32-41bc-c392-2ec14be84d5c"
      },
      "execution_count": 7,
      "outputs": [
        {
          "output_type": "display_data",
          "data": {
            "text/plain": [
              "<IPython.core.display.HTML object>"
            ],
            "text/html": [
              "\n",
              "            <style>\n",
              "                .geemap-dark {\n",
              "                    --jp-widgets-color: white;\n",
              "                    --jp-widgets-label-color: white;\n",
              "                    --jp-ui-font-color1: white;\n",
              "                    --jp-layout-color2: #454545;\n",
              "                    background-color: #383838;\n",
              "                }\n",
              "                    \n",
              "                .geemap-dark .jupyter-button {\n",
              "                    --jp-layout-color3: #383838;\n",
              "                }\n",
              "                \n",
              "                .geemap-colab {\n",
              "                    background-color: var(--colab-primary-surface-color, white);\n",
              "                }\n",
              "                    \n",
              "                .geemap-colab .jupyter-button {\n",
              "                    --jp-layout-color3: var(--colab-primary-surface-color, white);\n",
              "                }\n",
              "            </style>\n",
              "            "
            ]
          },
          "metadata": {}
        }
      ]
    },
    {
      "cell_type": "code",
      "source": [
        "puntos = [ee.Feature(ee.Geometry.Point([lon, lat])) for lat, lon in coordenadas]\n",
        "puntos_fc = ee.FeatureCollection(puntos)"
      ],
      "metadata": {
        "id": "7flGn0lPB8wW",
        "colab": {
          "base_uri": "https://localhost:8080/",
          "height": 17
        },
        "outputId": "b981c1d5-dd45-4f6d-e14a-c3d3cceeec76"
      },
      "execution_count": 8,
      "outputs": [
        {
          "output_type": "display_data",
          "data": {
            "text/plain": [
              "<IPython.core.display.HTML object>"
            ],
            "text/html": [
              "\n",
              "            <style>\n",
              "                .geemap-dark {\n",
              "                    --jp-widgets-color: white;\n",
              "                    --jp-widgets-label-color: white;\n",
              "                    --jp-ui-font-color1: white;\n",
              "                    --jp-layout-color2: #454545;\n",
              "                    background-color: #383838;\n",
              "                }\n",
              "                    \n",
              "                .geemap-dark .jupyter-button {\n",
              "                    --jp-layout-color3: #383838;\n",
              "                }\n",
              "                \n",
              "                .geemap-colab {\n",
              "                    background-color: var(--colab-primary-surface-color, white);\n",
              "                }\n",
              "                    \n",
              "                .geemap-colab .jupyter-button {\n",
              "                    --jp-layout-color3: var(--colab-primary-surface-color, white);\n",
              "                }\n",
              "            </style>\n",
              "            "
            ]
          },
          "metadata": {}
        }
      ]
    },
    {
      "cell_type": "code",
      "source": [
        "polygon = ee.Geometry.Polygon([[[lon, lat] for lat, lon in coordenadas]])"
      ],
      "metadata": {
        "id": "U3FK1tnq5xDt",
        "colab": {
          "base_uri": "https://localhost:8080/",
          "height": 17
        },
        "outputId": "6fb460f6-327b-4979-a116-1c4cd7496d8a"
      },
      "execution_count": 9,
      "outputs": [
        {
          "output_type": "display_data",
          "data": {
            "text/plain": [
              "<IPython.core.display.HTML object>"
            ],
            "text/html": [
              "\n",
              "            <style>\n",
              "                .geemap-dark {\n",
              "                    --jp-widgets-color: white;\n",
              "                    --jp-widgets-label-color: white;\n",
              "                    --jp-ui-font-color1: white;\n",
              "                    --jp-layout-color2: #454545;\n",
              "                    background-color: #383838;\n",
              "                }\n",
              "                    \n",
              "                .geemap-dark .jupyter-button {\n",
              "                    --jp-layout-color3: #383838;\n",
              "                }\n",
              "                \n",
              "                .geemap-colab {\n",
              "                    background-color: var(--colab-primary-surface-color, white);\n",
              "                }\n",
              "                    \n",
              "                .geemap-colab .jupyter-button {\n",
              "                    --jp-layout-color3: var(--colab-primary-surface-color, white);\n",
              "                }\n",
              "            </style>\n",
              "            "
            ]
          },
          "metadata": {}
        }
      ]
    },
    {
      "cell_type": "code",
      "source": [
        "centroid = polygon.centroid(maxError=1)"
      ],
      "metadata": {
        "id": "7B-fjdbu6M9o",
        "colab": {
          "base_uri": "https://localhost:8080/",
          "height": 17
        },
        "outputId": "aadc6919-f89e-4cab-f53f-219a6473af12"
      },
      "execution_count": 10,
      "outputs": [
        {
          "output_type": "display_data",
          "data": {
            "text/plain": [
              "<IPython.core.display.HTML object>"
            ],
            "text/html": [
              "\n",
              "            <style>\n",
              "                .geemap-dark {\n",
              "                    --jp-widgets-color: white;\n",
              "                    --jp-widgets-label-color: white;\n",
              "                    --jp-ui-font-color1: white;\n",
              "                    --jp-layout-color2: #454545;\n",
              "                    background-color: #383838;\n",
              "                }\n",
              "                    \n",
              "                .geemap-dark .jupyter-button {\n",
              "                    --jp-layout-color3: #383838;\n",
              "                }\n",
              "                \n",
              "                .geemap-colab {\n",
              "                    background-color: var(--colab-primary-surface-color, white);\n",
              "                }\n",
              "                    \n",
              "                .geemap-colab .jupyter-button {\n",
              "                    --jp-layout-color3: var(--colab-primary-surface-color, white);\n",
              "                }\n",
              "            </style>\n",
              "            "
            ]
          },
          "metadata": {}
        }
      ]
    },
    {
      "cell_type": "markdown",
      "source": [
        "#### Modificar"
      ],
      "metadata": {
        "id": "lDsf7hKMG2Di"
      }
    },
    {
      "cell_type": "code",
      "source": [
        "print(centroid.getInfo())"
      ],
      "metadata": {
        "colab": {
          "base_uri": "https://localhost:8080/",
          "height": 0
        },
        "id": "5T38u4WcHElU",
        "outputId": "b2690ecc-c80b-4a21-81e5-a9dbde14bd67"
      },
      "execution_count": 11,
      "outputs": [
        {
          "output_type": "display_data",
          "data": {
            "text/plain": [
              "<IPython.core.display.HTML object>"
            ],
            "text/html": [
              "\n",
              "            <style>\n",
              "                .geemap-dark {\n",
              "                    --jp-widgets-color: white;\n",
              "                    --jp-widgets-label-color: white;\n",
              "                    --jp-ui-font-color1: white;\n",
              "                    --jp-layout-color2: #454545;\n",
              "                    background-color: #383838;\n",
              "                }\n",
              "                    \n",
              "                .geemap-dark .jupyter-button {\n",
              "                    --jp-layout-color3: #383838;\n",
              "                }\n",
              "                \n",
              "                .geemap-colab {\n",
              "                    background-color: var(--colab-primary-surface-color, white);\n",
              "                }\n",
              "                    \n",
              "                .geemap-colab .jupyter-button {\n",
              "                    --jp-layout-color3: var(--colab-primary-surface-color, white);\n",
              "                }\n",
              "            </style>\n",
              "            "
            ]
          },
          "metadata": {}
        },
        {
          "output_type": "stream",
          "name": "stdout",
          "text": [
            "{'type': 'Point', 'coordinates': [-73.72766753816298, -4.349379692587443]}\n"
          ]
        }
      ]
    },
    {
      "cell_type": "code",
      "source": [
        "centro= (-73.72766753816298, -4.349379692587443) # Aquí pegue las coordenadas impresas en la celda de arriba para definir el centro de su parcela."
      ],
      "metadata": {
        "id": "4u-R5Ba8Bl40",
        "colab": {
          "base_uri": "https://localhost:8080/",
          "height": 0
        },
        "outputId": "2eec343e-4645-4cf1-f7cf-b8dae4c24b64"
      },
      "execution_count": 12,
      "outputs": [
        {
          "output_type": "display_data",
          "data": {
            "text/plain": [
              "<IPython.core.display.HTML object>"
            ],
            "text/html": [
              "\n",
              "            <style>\n",
              "                .geemap-dark {\n",
              "                    --jp-widgets-color: white;\n",
              "                    --jp-widgets-label-color: white;\n",
              "                    --jp-ui-font-color1: white;\n",
              "                    --jp-layout-color2: #454545;\n",
              "                    background-color: #383838;\n",
              "                }\n",
              "                    \n",
              "                .geemap-dark .jupyter-button {\n",
              "                    --jp-layout-color3: #383838;\n",
              "                }\n",
              "                \n",
              "                .geemap-colab {\n",
              "                    background-color: var(--colab-primary-surface-color, white);\n",
              "                }\n",
              "                    \n",
              "                .geemap-colab .jupyter-button {\n",
              "                    --jp-layout-color3: var(--colab-primary-surface-color, white);\n",
              "                }\n",
              "            </style>\n",
              "            "
            ]
          },
          "metadata": {}
        }
      ]
    },
    {
      "cell_type": "markdown",
      "source": [
        "## **3. Obtener imágenes:**\n",
        "\n",
        "#### _Utilice la API de Earth Engine para consultar imágenes para las fechas y la cobertura de nubes especificadas._\n"
      ],
      "metadata": {
        "id": "KSrZlhbHDS7Y"
      }
    },
    {
      "cell_type": "code",
      "source": [
        "antes = '2020-01-06'\n",
        "'''\n",
        "Establezca esto en una fecha anterior a la emisión del permiso.\n",
        "Encontrará la primera imagen de satélite en esa fecha o antes que\n",
        "cumpla con sus requisitos de cobertura de nubes.\n",
        "'''\n",
        "despues = '2023-01-06'\n",
        "'''\n",
        "Esta fecha es posterior a la cosecha y encontrará\n",
        "una imagen para la fecha más cercana pero no anterior\n",
        "a la cosecha que cumpla con el umbral de nubosidad.\n",
        "'''\n",
        "limite_coberatura_nubes = 15  # Establezca esto en su umbral máximo de cobertura de nubes."
      ],
      "metadata": {
        "id": "WWvySrWmB8z_",
        "colab": {
          "base_uri": "https://localhost:8080/",
          "height": 0
        },
        "outputId": "a838de71-f0c4-4e28-af61-10ef8eb818d2"
      },
      "execution_count": 91,
      "outputs": [
        {
          "output_type": "display_data",
          "data": {
            "text/plain": [
              "<IPython.core.display.HTML object>"
            ],
            "text/html": [
              "\n",
              "            <style>\n",
              "                .geemap-dark {\n",
              "                    --jp-widgets-color: white;\n",
              "                    --jp-widgets-label-color: white;\n",
              "                    --jp-ui-font-color1: white;\n",
              "                    --jp-layout-color2: #454545;\n",
              "                    background-color: #383838;\n",
              "                }\n",
              "                    \n",
              "                .geemap-dark .jupyter-button {\n",
              "                    --jp-layout-color3: #383838;\n",
              "                }\n",
              "                \n",
              "                .geemap-colab {\n",
              "                    background-color: var(--colab-primary-surface-color, white);\n",
              "                }\n",
              "                    \n",
              "                .geemap-colab .jupyter-button {\n",
              "                    --jp-layout-color3: var(--colab-primary-surface-color, white);\n",
              "                }\n",
              "            </style>\n",
              "            "
            ]
          },
          "metadata": {}
        }
      ]
    },
    {
      "cell_type": "code",
      "source": [
        "antes_fecha = datetime.strptime(antes, '%Y-%m-%d')\n",
        "antes1= antes_fecha + relativedelta(years=-1)"
      ],
      "metadata": {
        "id": "olv33VAvlMBh",
        "outputId": "2626bb39-b3ca-45c3-84bf-e9cd988cb615",
        "colab": {
          "base_uri": "https://localhost:8080/",
          "height": 0
        }
      },
      "execution_count": 92,
      "outputs": [
        {
          "output_type": "display_data",
          "data": {
            "text/plain": [
              "<IPython.core.display.HTML object>"
            ],
            "text/html": [
              "\n",
              "            <style>\n",
              "                .geemap-dark {\n",
              "                    --jp-widgets-color: white;\n",
              "                    --jp-widgets-label-color: white;\n",
              "                    --jp-ui-font-color1: white;\n",
              "                    --jp-layout-color2: #454545;\n",
              "                    background-color: #383838;\n",
              "                }\n",
              "                    \n",
              "                .geemap-dark .jupyter-button {\n",
              "                    --jp-layout-color3: #383838;\n",
              "                }\n",
              "                \n",
              "                .geemap-colab {\n",
              "                    background-color: var(--colab-primary-surface-color, white);\n",
              "                }\n",
              "                    \n",
              "                .geemap-colab .jupyter-button {\n",
              "                    --jp-layout-color3: var(--colab-primary-surface-color, white);\n",
              "                }\n",
              "            </style>\n",
              "            "
            ]
          },
          "metadata": {}
        }
      ]
    },
    {
      "cell_type": "code",
      "source": [
        "ahora= datetime.now()\n",
        "ahora = ahora.strftime('%Y-%m-%d')"
      ],
      "metadata": {
        "id": "iRuQy_q9lMsJ",
        "outputId": "7504b9a7-c233-414e-c60e-88919c48d93c",
        "colab": {
          "base_uri": "https://localhost:8080/",
          "height": 0
        }
      },
      "execution_count": 93,
      "outputs": [
        {
          "output_type": "display_data",
          "data": {
            "text/plain": [
              "<IPython.core.display.HTML object>"
            ],
            "text/html": [
              "\n",
              "            <style>\n",
              "                .geemap-dark {\n",
              "                    --jp-widgets-color: white;\n",
              "                    --jp-widgets-label-color: white;\n",
              "                    --jp-ui-font-color1: white;\n",
              "                    --jp-layout-color2: #454545;\n",
              "                    background-color: #383838;\n",
              "                }\n",
              "                    \n",
              "                .geemap-dark .jupyter-button {\n",
              "                    --jp-layout-color3: #383838;\n",
              "                }\n",
              "                \n",
              "                .geemap-colab {\n",
              "                    background-color: var(--colab-primary-surface-color, white);\n",
              "                }\n",
              "                    \n",
              "                .geemap-colab .jupyter-button {\n",
              "                    --jp-layout-color3: var(--colab-primary-surface-color, white);\n",
              "                }\n",
              "            </style>\n",
              "            "
            ]
          },
          "metadata": {}
        }
      ]
    },
    {
      "cell_type": "code",
      "source": [
        "# @title\n",
        "# Imagen antes de la emisión del permiso.\n",
        "image1 = ee.ImageCollection(\"COPERNICUS/S2_SR_HARMONIZED\") \\\n",
        "           .filterDate(antes1, antes) \\\n",
        "           .filterBounds(puntos_fc) \\\n",
        "           .filter(ee.Filter.lt('CLOUDY_PIXEL_PERCENTAGE', limite_coberatura_nubes)) \\\n",
        "           .sort('CLOUDY_PIXEL_PERCENTAGE') \\\n",
        "           .first()\\\n",
        "           .clip(polygon)"
      ],
      "metadata": {
        "id": "KV70arDMecVZ",
        "colab": {
          "base_uri": "https://localhost:8080/",
          "height": 0
        },
        "outputId": "32fcabc3-2a22-4b13-81ac-8d6cda38dd3f"
      },
      "execution_count": 94,
      "outputs": [
        {
          "output_type": "display_data",
          "data": {
            "text/plain": [
              "<IPython.core.display.HTML object>"
            ],
            "text/html": [
              "\n",
              "            <style>\n",
              "                .geemap-dark {\n",
              "                    --jp-widgets-color: white;\n",
              "                    --jp-widgets-label-color: white;\n",
              "                    --jp-ui-font-color1: white;\n",
              "                    --jp-layout-color2: #454545;\n",
              "                    background-color: #383838;\n",
              "                }\n",
              "                    \n",
              "                .geemap-dark .jupyter-button {\n",
              "                    --jp-layout-color3: #383838;\n",
              "                }\n",
              "                \n",
              "                .geemap-colab {\n",
              "                    background-color: var(--colab-primary-surface-color, white);\n",
              "                }\n",
              "                    \n",
              "                .geemap-colab .jupyter-button {\n",
              "                    --jp-layout-color3: var(--colab-primary-surface-color, white);\n",
              "                }\n",
              "            </style>\n",
              "            "
            ]
          },
          "metadata": {}
        }
      ]
    },
    {
      "cell_type": "code",
      "source": [
        "nir1 = image1.select('B8')\n",
        "red1 = image1.select('B4')\n",
        "\n",
        "\n",
        "ndvi1 = nir1.subtract(red1).divide(nir1.add(red1)).rename('NDVI')"
      ],
      "metadata": {
        "id": "oy9HdTVelRe2",
        "outputId": "6d4f831b-c868-4655-9d6c-09bd38bf93f8",
        "colab": {
          "base_uri": "https://localhost:8080/",
          "height": 0
        }
      },
      "execution_count": 95,
      "outputs": [
        {
          "output_type": "display_data",
          "data": {
            "text/plain": [
              "<IPython.core.display.HTML object>"
            ],
            "text/html": [
              "\n",
              "            <style>\n",
              "                .geemap-dark {\n",
              "                    --jp-widgets-color: white;\n",
              "                    --jp-widgets-label-color: white;\n",
              "                    --jp-ui-font-color1: white;\n",
              "                    --jp-layout-color2: #454545;\n",
              "                    background-color: #383838;\n",
              "                }\n",
              "                    \n",
              "                .geemap-dark .jupyter-button {\n",
              "                    --jp-layout-color3: #383838;\n",
              "                }\n",
              "                \n",
              "                .geemap-colab {\n",
              "                    background-color: var(--colab-primary-surface-color, white);\n",
              "                }\n",
              "                    \n",
              "                .geemap-colab .jupyter-button {\n",
              "                    --jp-layout-color3: var(--colab-primary-surface-color, white);\n",
              "                }\n",
              "            </style>\n",
              "            "
            ]
          },
          "metadata": {}
        }
      ]
    },
    {
      "cell_type": "code",
      "source": [
        "# @title\n",
        "ndvi_antes = ndvi1.reduceRegion(\n",
        "    reducer=ee.Reducer.mean(),\n",
        "    geometry=polygon,\n",
        "    scale=30,\n",
        "    maxPixels=1e9\n",
        ")\n",
        "\n",
        "ndvi_antes = ndvi_antes.get('NDVI').getInfo()\n",
        "\n",
        "print('NDVI Antes:', ndvi_antes)"
      ],
      "metadata": {
        "colab": {
          "base_uri": "https://localhost:8080/",
          "height": 0
        },
        "id": "aP7XU1FolHmQ",
        "outputId": "1443e6ad-6bad-48b2-a611-34b31b2e1c92"
      },
      "execution_count": 96,
      "outputs": [
        {
          "output_type": "display_data",
          "data": {
            "text/plain": [
              "<IPython.core.display.HTML object>"
            ],
            "text/html": [
              "\n",
              "            <style>\n",
              "                .geemap-dark {\n",
              "                    --jp-widgets-color: white;\n",
              "                    --jp-widgets-label-color: white;\n",
              "                    --jp-ui-font-color1: white;\n",
              "                    --jp-layout-color2: #454545;\n",
              "                    background-color: #383838;\n",
              "                }\n",
              "                    \n",
              "                .geemap-dark .jupyter-button {\n",
              "                    --jp-layout-color3: #383838;\n",
              "                }\n",
              "                \n",
              "                .geemap-colab {\n",
              "                    background-color: var(--colab-primary-surface-color, white);\n",
              "                }\n",
              "                    \n",
              "                .geemap-colab .jupyter-button {\n",
              "                    --jp-layout-color3: var(--colab-primary-surface-color, white);\n",
              "                }\n",
              "            </style>\n",
              "            "
            ]
          },
          "metadata": {}
        },
        {
          "output_type": "stream",
          "name": "stdout",
          "text": [
            "NDVI Antes: 0.8255680912098503\n"
          ]
        }
      ]
    },
    {
      "cell_type": "code",
      "source": [
        "date = ee.Date(image1.get('system:time_start')).format('YYYY-MM-dd')\n",
        "print('Date of the image1:', date.getInfo())"
      ],
      "metadata": {
        "id": "rWurMt0qldx0",
        "outputId": "9d6f9e2b-a85f-44da-b535-76e5af59560e",
        "colab": {
          "base_uri": "https://localhost:8080/",
          "height": 0
        }
      },
      "execution_count": 97,
      "outputs": [
        {
          "output_type": "display_data",
          "data": {
            "text/plain": [
              "<IPython.core.display.HTML object>"
            ],
            "text/html": [
              "\n",
              "            <style>\n",
              "                .geemap-dark {\n",
              "                    --jp-widgets-color: white;\n",
              "                    --jp-widgets-label-color: white;\n",
              "                    --jp-ui-font-color1: white;\n",
              "                    --jp-layout-color2: #454545;\n",
              "                    background-color: #383838;\n",
              "                }\n",
              "                    \n",
              "                .geemap-dark .jupyter-button {\n",
              "                    --jp-layout-color3: #383838;\n",
              "                }\n",
              "                \n",
              "                .geemap-colab {\n",
              "                    background-color: var(--colab-primary-surface-color, white);\n",
              "                }\n",
              "                    \n",
              "                .geemap-colab .jupyter-button {\n",
              "                    --jp-layout-color3: var(--colab-primary-surface-color, white);\n",
              "                }\n",
              "            </style>\n",
              "            "
            ]
          },
          "metadata": {}
        },
        {
          "output_type": "stream",
          "name": "stdout",
          "text": [
            "Date of the image1: 2019-08-09\n"
          ]
        }
      ]
    },
    {
      "cell_type": "code",
      "source": [
        "# @title\n",
        "# Aquí está la foto después de la cosecha.\n",
        "image2 = ee.ImageCollection(\"COPERNICUS/S2_SR_HARMONIZED\") \\\n",
        "           .filterDate(despues, ahora) \\\n",
        "           .filterBounds(puntos_fc) \\\n",
        "           .filter(ee.Filter.lt('CLOUDY_PIXEL_PERCENTAGE', limite_coberatura_nubes)) \\\n",
        "           .sort('CLOUDY_PIXEL_PERCENTAGE') \\\n",
        "           .first()\\\n",
        "           .clip(polygon)"
      ],
      "metadata": {
        "id": "3uA18p9tiStX",
        "colab": {
          "base_uri": "https://localhost:8080/",
          "height": 0
        },
        "outputId": "29b1e09e-4007-45f9-9ead-d1346eb93b6e"
      },
      "execution_count": 98,
      "outputs": [
        {
          "output_type": "display_data",
          "data": {
            "text/plain": [
              "<IPython.core.display.HTML object>"
            ],
            "text/html": [
              "\n",
              "            <style>\n",
              "                .geemap-dark {\n",
              "                    --jp-widgets-color: white;\n",
              "                    --jp-widgets-label-color: white;\n",
              "                    --jp-ui-font-color1: white;\n",
              "                    --jp-layout-color2: #454545;\n",
              "                    background-color: #383838;\n",
              "                }\n",
              "                    \n",
              "                .geemap-dark .jupyter-button {\n",
              "                    --jp-layout-color3: #383838;\n",
              "                }\n",
              "                \n",
              "                .geemap-colab {\n",
              "                    background-color: var(--colab-primary-surface-color, white);\n",
              "                }\n",
              "                    \n",
              "                .geemap-colab .jupyter-button {\n",
              "                    --jp-layout-color3: var(--colab-primary-surface-color, white);\n",
              "                }\n",
              "            </style>\n",
              "            "
            ]
          },
          "metadata": {}
        }
      ]
    },
    {
      "cell_type": "code",
      "source": [
        "nir2 = image2.select('B8')\n",
        "red2 = image2.select('B4')\n",
        "\n",
        "ndvi2 = nir2.subtract(red2).divide(nir2.add(red2)).rename('NDVI')"
      ],
      "metadata": {
        "id": "N7I8VOqQlhsY",
        "outputId": "5f0a37a2-e1ac-4497-fd9c-b17049fdb4d9",
        "colab": {
          "base_uri": "https://localhost:8080/",
          "height": 0
        }
      },
      "execution_count": 99,
      "outputs": [
        {
          "output_type": "display_data",
          "data": {
            "text/plain": [
              "<IPython.core.display.HTML object>"
            ],
            "text/html": [
              "\n",
              "            <style>\n",
              "                .geemap-dark {\n",
              "                    --jp-widgets-color: white;\n",
              "                    --jp-widgets-label-color: white;\n",
              "                    --jp-ui-font-color1: white;\n",
              "                    --jp-layout-color2: #454545;\n",
              "                    background-color: #383838;\n",
              "                }\n",
              "                    \n",
              "                .geemap-dark .jupyter-button {\n",
              "                    --jp-layout-color3: #383838;\n",
              "                }\n",
              "                \n",
              "                .geemap-colab {\n",
              "                    background-color: var(--colab-primary-surface-color, white);\n",
              "                }\n",
              "                    \n",
              "                .geemap-colab .jupyter-button {\n",
              "                    --jp-layout-color3: var(--colab-primary-surface-color, white);\n",
              "                }\n",
              "            </style>\n",
              "            "
            ]
          },
          "metadata": {}
        }
      ]
    },
    {
      "cell_type": "code",
      "source": [
        "# Print the date of the image2 image\n",
        "date_image2 = ee.Date(image2.get('system:time_start')).format('YYYY-MM-dd')\n",
        "print('Date of the image2:', date_image2.getInfo())"
      ],
      "metadata": {
        "id": "Y2AtJhk3lkLK",
        "outputId": "6cbceb17-79cf-478c-d23d-8c0d22e20040",
        "colab": {
          "base_uri": "https://localhost:8080/",
          "height": 0
        }
      },
      "execution_count": 100,
      "outputs": [
        {
          "output_type": "display_data",
          "data": {
            "text/plain": [
              "<IPython.core.display.HTML object>"
            ],
            "text/html": [
              "\n",
              "            <style>\n",
              "                .geemap-dark {\n",
              "                    --jp-widgets-color: white;\n",
              "                    --jp-widgets-label-color: white;\n",
              "                    --jp-ui-font-color1: white;\n",
              "                    --jp-layout-color2: #454545;\n",
              "                    background-color: #383838;\n",
              "                }\n",
              "                    \n",
              "                .geemap-dark .jupyter-button {\n",
              "                    --jp-layout-color3: #383838;\n",
              "                }\n",
              "                \n",
              "                .geemap-colab {\n",
              "                    background-color: var(--colab-primary-surface-color, white);\n",
              "                }\n",
              "                    \n",
              "                .geemap-colab .jupyter-button {\n",
              "                    --jp-layout-color3: var(--colab-primary-surface-color, white);\n",
              "                }\n",
              "            </style>\n",
              "            "
            ]
          },
          "metadata": {}
        },
        {
          "output_type": "stream",
          "name": "stdout",
          "text": [
            "Date of the image2: 2023-09-17\n"
          ]
        }
      ]
    },
    {
      "cell_type": "code",
      "source": [
        "# @title\n",
        "ndvi_despues = ndvi2.reduceRegion(\n",
        "    reducer=ee.Reducer.mean(),\n",
        "    geometry=polygon,\n",
        "    scale=30,\n",
        "    maxPixels=1e9\n",
        ")\n",
        "\n",
        "ndvi_despues = ndvi_despues.get('NDVI').getInfo()\n",
        "\n",
        "print('NDVI Despues:', ndvi_despues)\n"
      ],
      "metadata": {
        "colab": {
          "base_uri": "https://localhost:8080/",
          "height": 0
        },
        "id": "APeSEcyshaX7",
        "outputId": "a5306a62-8a81-4663-c784-c5c005dc0ad8"
      },
      "execution_count": 101,
      "outputs": [
        {
          "output_type": "display_data",
          "data": {
            "text/plain": [
              "<IPython.core.display.HTML object>"
            ],
            "text/html": [
              "\n",
              "            <style>\n",
              "                .geemap-dark {\n",
              "                    --jp-widgets-color: white;\n",
              "                    --jp-widgets-label-color: white;\n",
              "                    --jp-ui-font-color1: white;\n",
              "                    --jp-layout-color2: #454545;\n",
              "                    background-color: #383838;\n",
              "                }\n",
              "                    \n",
              "                .geemap-dark .jupyter-button {\n",
              "                    --jp-layout-color3: #383838;\n",
              "                }\n",
              "                \n",
              "                .geemap-colab {\n",
              "                    background-color: var(--colab-primary-surface-color, white);\n",
              "                }\n",
              "                    \n",
              "                .geemap-colab .jupyter-button {\n",
              "                    --jp-layout-color3: var(--colab-primary-surface-color, white);\n",
              "                }\n",
              "            </style>\n",
              "            "
            ]
          },
          "metadata": {}
        },
        {
          "output_type": "stream",
          "name": "stdout",
          "text": [
            "NDVI Despues: 0.8451962613228494\n"
          ]
        }
      ]
    },
    {
      "cell_type": "markdown",
      "source": [
        "#### Estilo"
      ],
      "metadata": {
        "id": "dIAOT52GHPWi"
      }
    },
    {
      "cell_type": "code",
      "source": [
        "vizParams = {\n",
        "    'bands': ['B4', 'B3', 'B2'],\n",
        "    'min': 0,\n",
        "    'max': 2500,\n",
        "    'gamma': 1.0\n",
        "}"
      ],
      "metadata": {
        "colab": {
          "base_uri": "https://localhost:8080/",
          "height": 0
        },
        "id": "-Wmxu9IzEisr",
        "outputId": "79d2dd0f-e72b-4e92-93ee-35357d7f07b7"
      },
      "execution_count": 102,
      "outputs": [
        {
          "output_type": "display_data",
          "data": {
            "text/plain": [
              "<IPython.core.display.HTML object>"
            ],
            "text/html": [
              "\n",
              "            <style>\n",
              "                .geemap-dark {\n",
              "                    --jp-widgets-color: white;\n",
              "                    --jp-widgets-label-color: white;\n",
              "                    --jp-ui-font-color1: white;\n",
              "                    --jp-layout-color2: #454545;\n",
              "                    background-color: #383838;\n",
              "                }\n",
              "                    \n",
              "                .geemap-dark .jupyter-button {\n",
              "                    --jp-layout-color3: #383838;\n",
              "                }\n",
              "                \n",
              "                .geemap-colab {\n",
              "                    background-color: var(--colab-primary-surface-color, white);\n",
              "                }\n",
              "                    \n",
              "                .geemap-colab .jupyter-button {\n",
              "                    --jp-layout-color3: var(--colab-primary-surface-color, white);\n",
              "                }\n",
              "            </style>\n",
              "            "
            ]
          },
          "metadata": {}
        }
      ]
    },
    {
      "cell_type": "markdown",
      "source": [
        "## **Antes**"
      ],
      "metadata": {
        "id": "5fN_RG1nHV-o"
      }
    },
    {
      "cell_type": "code",
      "source": [
        "# @title\n",
        "# Aquí vemos la trama previa a la emisión del permiso.\n",
        "# https://colab.research.google.com/github/giswqs/gee-tutorials/blob/master/Image/image_visualization.ipynb#scrollTo=dIqOCYLbo0SF\n",
        "\n",
        "Map = geemap.Map()\n",
        "\n",
        "Map.centerObject(polygon, 11)\n",
        "Map.addLayer(image1, vizParams, 'Antes Permiso')\n",
        "\n",
        "Map"
      ],
      "metadata": {
        "colab": {
          "base_uri": "https://localhost:8080/",
          "height": 0,
          "referenced_widgets": [
            "b584a6f16b3543248c8be065f03cf1b8",
            "31c56fb4de6f44e198a7043b356f80e8",
            "75c02e6706a843dc9ef281a3e2d544e2",
            "c7abd1099edb4f868fd5c1cc8ecbe936",
            "b32ae4d9575a45be8180dc0d2c31667d",
            "a0a229a0a71c43ec879dd675b34c2d5b",
            "4f5535414b7548229f920f848135906a",
            "e87db12705dc45418c045c0e918626ea",
            "66f203699dad456aaba9b389e3becbd6",
            "6f1af5511f4d469aa21fd82b980ea999",
            "e2902286adf640ec9270947c4f7dc220",
            "7de59f0c329a4e5e96c77d4fb2e2cf8c",
            "397c67a046294e9885fbb8968f617e13",
            "c5e8de5cda124fc7ac1ccc640959194b",
            "a0268e6ffed049db8b3dcae85d783f48",
            "3e65940e6ca642cc9eb409e4456329de",
            "a26d8368ff154f6bbe9d7be89f3e45f7",
            "2c571ca610994b888eb07466e4da343f",
            "c319b322df354c7cb96d37a745b4aee7",
            "48fa0499af4a4b3cb4d1195ff72c9d99",
            "817b8874f6e14ce0908497c42381c70f",
            "1a7a8d9baaf1477a817b85e8af73f911",
            "9679722246c344528c1e1bf431fec6ae",
            "e6af9f5cbad94792961dc0257aecda97",
            "282a749cacfc4608829e554d313f3485"
          ]
        },
        "id": "JnNZDKvkTzQB",
        "outputId": "087ae051-8bc9-4759-ae35-23ffe7496b53"
      },
      "execution_count": 103,
      "outputs": [
        {
          "output_type": "display_data",
          "data": {
            "text/plain": [
              "<IPython.core.display.HTML object>"
            ],
            "text/html": [
              "\n",
              "            <style>\n",
              "                .geemap-dark {\n",
              "                    --jp-widgets-color: white;\n",
              "                    --jp-widgets-label-color: white;\n",
              "                    --jp-ui-font-color1: white;\n",
              "                    --jp-layout-color2: #454545;\n",
              "                    background-color: #383838;\n",
              "                }\n",
              "                    \n",
              "                .geemap-dark .jupyter-button {\n",
              "                    --jp-layout-color3: #383838;\n",
              "                }\n",
              "                \n",
              "                .geemap-colab {\n",
              "                    background-color: var(--colab-primary-surface-color, white);\n",
              "                }\n",
              "                    \n",
              "                .geemap-colab .jupyter-button {\n",
              "                    --jp-layout-color3: var(--colab-primary-surface-color, white);\n",
              "                }\n",
              "            </style>\n",
              "            "
            ]
          },
          "metadata": {}
        },
        {
          "output_type": "display_data",
          "data": {
            "text/plain": [
              "Map(center=[-4.349379692587443, -73.72766753816298], controls=(WidgetControl(options=['position', 'transparent…"
            ],
            "application/vnd.jupyter.widget-view+json": {
              "version_major": 2,
              "version_minor": 0,
              "model_id": "b584a6f16b3543248c8be065f03cf1b8"
            }
          },
          "metadata": {
            "application/vnd.jupyter.widget-view+json": {
              "colab": {
                "custom_widget_manager": {
                  "url": "https://ssl.gstatic.com/colaboratory-static/widgets/colab-cdn-widget-manager/2b70e893a8ba7c0f/manager.min.js"
                }
              }
            }
          }
        }
      ]
    },
    {
      "cell_type": "markdown",
      "source": [
        "## **4. Calcular NDVI:**\n",
        "#### _Calcular y enmascarar áreas donde se excede el umbral._\n",
        "\n",
        "Aquí puede ver áreas de pérdida de vegetación en rojo y áreas de ganancia en verde dentro del umbral establecido.\n",
        "\n",
        "\n",
        "NOTA IMPORTANTE: Si el NDVI antes es menor que el NDVI después indica un aumento en la vegetación. Establezca el umbral de pérdida en un número negativo y gane en un número positivo. Se aplica lo contrario."
      ],
      "metadata": {
        "id": "ZosZS1gPH8Fu"
      }
    },
    {
      "cell_type": "code",
      "source": [
        "# @title\n",
        "ndvi_diff = ndvi2.subtract(ndvi1)"
      ],
      "metadata": {
        "colab": {
          "base_uri": "https://localhost:8080/",
          "height": 0
        },
        "id": "Nw2I7NiOZPs4",
        "outputId": "12df1db2-bcc3-4c5d-c673-de8cb49ace62"
      },
      "execution_count": 104,
      "outputs": [
        {
          "output_type": "display_data",
          "data": {
            "text/plain": [
              "<IPython.core.display.HTML object>"
            ],
            "text/html": [
              "\n",
              "            <style>\n",
              "                .geemap-dark {\n",
              "                    --jp-widgets-color: white;\n",
              "                    --jp-widgets-label-color: white;\n",
              "                    --jp-ui-font-color1: white;\n",
              "                    --jp-layout-color2: #454545;\n",
              "                    background-color: #383838;\n",
              "                }\n",
              "                    \n",
              "                .geemap-dark .jupyter-button {\n",
              "                    --jp-layout-color3: #383838;\n",
              "                }\n",
              "                \n",
              "                .geemap-colab {\n",
              "                    background-color: var(--colab-primary-surface-color, white);\n",
              "                }\n",
              "                    \n",
              "                .geemap-colab .jupyter-button {\n",
              "                    --jp-layout-color3: var(--colab-primary-surface-color, white);\n",
              "                }\n",
              "            </style>\n",
              "            "
            ]
          },
          "metadata": {}
        }
      ]
    },
    {
      "cell_type": "code",
      "source": [
        "# @title\n",
        "gain_threshold = 0.1\n",
        "\n",
        "gain_mask = ndvi_diff.gt(gain_threshold)\n",
        "\n",
        "pixelAreaGain = ee.Image.pixelArea().mask(gain_mask)\n",
        "totalGainArea = pixelAreaGain.reduceRegion(\n",
        "    reducer=ee.Reducer.sum(),\n",
        "    geometry=polygon,\n",
        "    scale=30,\n",
        "    maxPixels=1e9\n",
        ").get('area').getInfo()\n",
        "\n",
        "print(f\"Areas of Vegetation Gain: {totalGainArea} square meters\")"
      ],
      "metadata": {
        "colab": {
          "base_uri": "https://localhost:8080/",
          "height": 0
        },
        "id": "-_vFD7VIXSHv",
        "outputId": "82900f3f-fcdb-4085-e1f8-79c12cd64ecc"
      },
      "execution_count": 105,
      "outputs": [
        {
          "output_type": "display_data",
          "data": {
            "text/plain": [
              "<IPython.core.display.HTML object>"
            ],
            "text/html": [
              "\n",
              "            <style>\n",
              "                .geemap-dark {\n",
              "                    --jp-widgets-color: white;\n",
              "                    --jp-widgets-label-color: white;\n",
              "                    --jp-ui-font-color1: white;\n",
              "                    --jp-layout-color2: #454545;\n",
              "                    background-color: #383838;\n",
              "                }\n",
              "                    \n",
              "                .geemap-dark .jupyter-button {\n",
              "                    --jp-layout-color3: #383838;\n",
              "                }\n",
              "                \n",
              "                .geemap-colab {\n",
              "                    background-color: var(--colab-primary-surface-color, white);\n",
              "                }\n",
              "                    \n",
              "                .geemap-colab .jupyter-button {\n",
              "                    --jp-layout-color3: var(--colab-primary-surface-color, white);\n",
              "                }\n",
              "            </style>\n",
              "            "
            ]
          },
          "metadata": {}
        },
        {
          "output_type": "stream",
          "name": "stdout",
          "text": [
            "Areas of Vegetation Gain: 4857539.131567382 square meters\n"
          ]
        }
      ]
    },
    {
      "cell_type": "code",
      "source": [
        "# @title\n",
        "loss_threshold = -0.1\n",
        "\n",
        "loss_mask = ndvi_diff.lt(loss_threshold)\n",
        "\n",
        "pixelAreaLoss = ee.Image.pixelArea().mask(loss_mask)\n",
        "totalLossArea = pixelAreaLoss.reduceRegion(\n",
        "    reducer=ee.Reducer.sum(),\n",
        "    geometry=polygon,\n",
        "    scale=30,\n",
        "    maxPixels=1e9\n",
        ").get('area').getInfo()\n",
        "\n",
        "print(f\"Areas of Vegetation Loss: {totalLossArea} square meters\")"
      ],
      "metadata": {
        "colab": {
          "base_uri": "https://localhost:8080/",
          "height": 0
        },
        "id": "HRcFnba0XSLG",
        "outputId": "9dc0bd58-b9e1-47e0-8a0b-7ccc2e623386"
      },
      "execution_count": 106,
      "outputs": [
        {
          "output_type": "display_data",
          "data": {
            "text/plain": [
              "<IPython.core.display.HTML object>"
            ],
            "text/html": [
              "\n",
              "            <style>\n",
              "                .geemap-dark {\n",
              "                    --jp-widgets-color: white;\n",
              "                    --jp-widgets-label-color: white;\n",
              "                    --jp-ui-font-color1: white;\n",
              "                    --jp-layout-color2: #454545;\n",
              "                    background-color: #383838;\n",
              "                }\n",
              "                    \n",
              "                .geemap-dark .jupyter-button {\n",
              "                    --jp-layout-color3: #383838;\n",
              "                }\n",
              "                \n",
              "                .geemap-colab {\n",
              "                    background-color: var(--colab-primary-surface-color, white);\n",
              "                }\n",
              "                    \n",
              "                .geemap-colab .jupyter-button {\n",
              "                    --jp-layout-color3: var(--colab-primary-surface-color, white);\n",
              "                }\n",
              "            </style>\n",
              "            "
            ]
          },
          "metadata": {}
        },
        {
          "output_type": "stream",
          "name": "stdout",
          "text": [
            "Areas of Vegetation Loss: 971196.2902937346 square meters\n"
          ]
        }
      ]
    },
    {
      "cell_type": "markdown",
      "source": [
        "## **Despues**\n",
        "\n",
        "Para futuras investigaciones nos acercamos a las áreas donde la reforestación estuvo presente. A partir de ahí podemos entender más de lo que pasó con esa tierra durante ese tiempo. Este es simplemente el código para ejecutar análisis adicionales."
      ],
      "metadata": {
        "id": "MBearKPu8MeP"
      }
    },
    {
      "cell_type": "code",
      "source": [
        "# @title\n",
        "gainStyle = {\n",
        "    'color': '00FF00',\n",
        "    'fillColor': '00000000'\n",
        "}\n",
        "\n",
        "lossStyle = {\n",
        "    'color': 'FF0000',\n",
        "    'fillColor': '00000000'\n",
        "}\n",
        "\n",
        "geometry = image2.geometry()\n",
        "\n",
        "vectorizedGain = gain_mask.updateMask(gain_mask).reduceToVectors(\n",
        "    geometry= geometry,\n",
        "    geometryType='polygon',\n",
        "    reducer=ee.Reducer.countEvery(),\n",
        "    scale=10,\n",
        "    maxPixels=1e9\n",
        ").map(lambda feature: ee.Feature(feature.geometry()))\n",
        "\n",
        "vectorizedLoss = loss_mask.updateMask(loss_mask).reduceToVectors(\n",
        "    geometry= geometry,\n",
        "    geometryType='polygon',\n",
        "    reducer=ee.Reducer.countEvery(),\n",
        "    scale=100,\n",
        "    maxPixels=1e9\n",
        ").map(lambda feature: ee.Feature(feature.geometry()))\n",
        "\n",
        "styledGainPolygons = vectorizedGain.style(color='00FF00', width=.75, fillColor='00000000')\n",
        "styledLossPolygons = vectorizedLoss.style(color='FF0000', width=.75, fillColor='00000000')\n",
        "\n",
        "Map = geemap.Map()\n",
        "Map.centerObject(polygon, 11)\n",
        "Map.addLayer(image2, vizParams, 'Despues Tallando')\n",
        "Map.addLayer(styledGainPolygons, {}, 'Vegetation Gain')\n",
        "Map.addLayer(styledLossPolygons, {}, 'Vegetation Loss')\n",
        "\n",
        "Map"
      ],
      "metadata": {
        "colab": {
          "base_uri": "https://localhost:8080/",
          "height": 621,
          "referenced_widgets": [
            "668e838e0fa34cd88d1a5f1c48e54dcb",
            "97b5588debdb44ca99dae277ae64c346",
            "d458c8781bd24adba99638026f56066d",
            "473c3c60576e4bc6a77e14c38d862553",
            "d6f99d71fc994afd91704ebb438cfa89",
            "1c01c9a3304742c6b45f3490c4256ea4",
            "09328e41b0954e3d830cfacefa2f3671",
            "572985a0ee5243f28c146002897c71ae",
            "5b7111d851ba44989f79f8c59a748924",
            "9792b32e417442cb87e1e77d58f1bdf9",
            "a4f636b12040430fa2bc92f44f880dc0",
            "a8ebed488faa4d5486ed41a85d7899fa",
            "834e6450d5224551b7edea0f10376a86",
            "a6aab81ca1b442b5948603f6aa36c232",
            "ef97b9d9295c4815816dd4952a24d87f",
            "16398cc14d44403cbeb43a463b6a4df2",
            "d4e5f18a7d614ba0a22b6684f9eb3e18",
            "bc6121f8aed848a1b9a6747c07903d06",
            "15ec1d335cbf4acea3290a74b0259089",
            "e6634d4114ac46bca817bace7c5018a4",
            "676ae0ca846b4baa89e8f6e267494e9d",
            "0a9b6beb0fee4262a615dcec02100866",
            "27753283310640a6b7e749ab85e22677",
            "3f8e7fc5dd074dfdac2cb3daa07f8cde",
            "6cfae86320d9469681f6a18c689516ae",
            "599f0abcf61846ac9630816985c05b8b",
            "76e71802aa604429a7b4be9c188e161d"
          ]
        },
        "id": "WCpUHJaDXSOO",
        "outputId": "fecac82c-15b3-46ba-990d-2279b2d1bb45"
      },
      "execution_count": 107,
      "outputs": [
        {
          "output_type": "display_data",
          "data": {
            "text/plain": [
              "<IPython.core.display.HTML object>"
            ],
            "text/html": [
              "\n",
              "            <style>\n",
              "                .geemap-dark {\n",
              "                    --jp-widgets-color: white;\n",
              "                    --jp-widgets-label-color: white;\n",
              "                    --jp-ui-font-color1: white;\n",
              "                    --jp-layout-color2: #454545;\n",
              "                    background-color: #383838;\n",
              "                }\n",
              "                    \n",
              "                .geemap-dark .jupyter-button {\n",
              "                    --jp-layout-color3: #383838;\n",
              "                }\n",
              "                \n",
              "                .geemap-colab {\n",
              "                    background-color: var(--colab-primary-surface-color, white);\n",
              "                }\n",
              "                    \n",
              "                .geemap-colab .jupyter-button {\n",
              "                    --jp-layout-color3: var(--colab-primary-surface-color, white);\n",
              "                }\n",
              "            </style>\n",
              "            "
            ]
          },
          "metadata": {}
        },
        {
          "output_type": "display_data",
          "data": {
            "text/plain": [
              "Map(center=[-4.349379692587443, -73.72766753816298], controls=(WidgetControl(options=['position', 'transparent…"
            ],
            "application/vnd.jupyter.widget-view+json": {
              "version_major": 2,
              "version_minor": 0,
              "model_id": "668e838e0fa34cd88d1a5f1c48e54dcb"
            }
          },
          "metadata": {
            "application/vnd.jupyter.widget-view+json": {
              "colab": {
                "custom_widget_manager": {
                  "url": "https://ssl.gstatic.com/colaboratory-static/widgets/colab-cdn-widget-manager/2b70e893a8ba7c0f/manager.min.js"
                }
              }
            }
          }
        }
      ]
    },
    {
      "cell_type": "markdown",
      "source": [
        "# **Análisis exploratorio**\n",
        "\n",
        "Correlation Analysis\n",
        "For: Before and After, Mask of Gain, Mask of Loss\n",
        "\n",
        "Actionable Insights\n",
        "Futher Analysis\n",
        "Create Engaging Plots"
      ],
      "metadata": {
        "id": "pg2dLgUKNYmh"
      }
    },
    {
      "cell_type": "markdown",
      "source": [
        "## EVI\n",
        "\n"
      ],
      "metadata": {
        "id": "T8rOxC-_jXUK"
      }
    },
    {
      "cell_type": "markdown",
      "source": [
        "#### Proceso"
      ],
      "metadata": {
        "id": "o--t4XMOYvTJ"
      }
    },
    {
      "cell_type": "code",
      "source": [
        "def calculate_ndvi(image, ndvi):\n",
        "    return image.addBands(ndvi)\n",
        "\n",
        "def calculate_evi(image):\n",
        "    evi = image.expression(\n",
        "        '2.5 * (NIR - RED) / (NIR + 6 * RED - 7.5 * BLUE + 1)',\n",
        "        {\n",
        "            'NIR': image.select('B8'),\n",
        "            'RED': image.select('B4'),\n",
        "            'BLUE': image.select('B2')\n",
        "        }\n",
        "    ).rename('EVI')\n",
        "\n",
        "    return image.addBands(evi)\n",
        "\n",
        "image1_ndvi_evi = calculate_ndvi(image1, ndvi1)\n",
        "image1_ndvi_evi = calculate_evi(image1_ndvi_evi)\n",
        "\n",
        "image2_ndvi_evi = calculate_ndvi(image2, ndvi2)\n",
        "image2_ndvi_evi = calculate_evi(image2_ndvi_evi)"
      ],
      "metadata": {
        "colab": {
          "base_uri": "https://localhost:8080/",
          "height": 17
        },
        "id": "HLTy0PV7UQMc",
        "outputId": "e44506d4-98b8-4e58-fede-1a1079edabd9"
      },
      "execution_count": 108,
      "outputs": [
        {
          "output_type": "display_data",
          "data": {
            "text/plain": [
              "<IPython.core.display.HTML object>"
            ],
            "text/html": [
              "\n",
              "            <style>\n",
              "                .geemap-dark {\n",
              "                    --jp-widgets-color: white;\n",
              "                    --jp-widgets-label-color: white;\n",
              "                    --jp-ui-font-color1: white;\n",
              "                    --jp-layout-color2: #454545;\n",
              "                    background-color: #383838;\n",
              "                }\n",
              "                    \n",
              "                .geemap-dark .jupyter-button {\n",
              "                    --jp-layout-color3: #383838;\n",
              "                }\n",
              "                \n",
              "                .geemap-colab {\n",
              "                    background-color: var(--colab-primary-surface-color, white);\n",
              "                }\n",
              "                    \n",
              "                .geemap-colab .jupyter-button {\n",
              "                    --jp-layout-color3: var(--colab-primary-surface-color, white);\n",
              "                }\n",
              "            </style>\n",
              "            "
            ]
          },
          "metadata": {}
        }
      ]
    },
    {
      "cell_type": "code",
      "source": [
        "image2_ndvi_evi"
      ],
      "metadata": {
        "id": "G5zu5S39CZ97",
        "outputId": "e320d49f-adcb-4881-8360-9959ea1253c2",
        "colab": {
          "base_uri": "https://localhost:8080/",
          "height": 68
        }
      },
      "execution_count": 109,
      "outputs": [
        {
          "output_type": "display_data",
          "data": {
            "text/plain": [
              "<IPython.core.display.HTML object>"
            ],
            "text/html": [
              "\n",
              "            <style>\n",
              "                .geemap-dark {\n",
              "                    --jp-widgets-color: white;\n",
              "                    --jp-widgets-label-color: white;\n",
              "                    --jp-ui-font-color1: white;\n",
              "                    --jp-layout-color2: #454545;\n",
              "                    background-color: #383838;\n",
              "                }\n",
              "                    \n",
              "                .geemap-dark .jupyter-button {\n",
              "                    --jp-layout-color3: #383838;\n",
              "                }\n",
              "                \n",
              "                .geemap-colab {\n",
              "                    background-color: var(--colab-primary-surface-color, white);\n",
              "                }\n",
              "                    \n",
              "                .geemap-colab .jupyter-button {\n",
              "                    --jp-layout-color3: var(--colab-primary-surface-color, white);\n",
              "                }\n",
              "            </style>\n",
              "            "
            ]
          },
          "metadata": {}
        },
        {
          "output_type": "execute_result",
          "data": {
            "text/plain": [
              "<ee.image.Image at 0x79fec69839a0>"
            ],
            "text/html": [
              "<div><style>:root {\n",
              "  --font-color-primary: var(--jp-content-font-color0, rgba(0, 0, 0, 1));\n",
              "  --font-color-secondary: var(--jp-content-font-color2, rgba(0, 0, 0, 0.6));\n",
              "  --font-color-accent: rgba(123, 31, 162, 1);\n",
              "  --border-color: var(--jp-border-color2, #e0e0e0);\n",
              "  --background-color: var(--jp-layout-color0, white);\n",
              "  --background-color-row-even: var(--jp-layout-color1, white);\n",
              "  --background-color-row-odd: var(--jp-layout-color2, #eeeeee);\n",
              "}\n",
              "\n",
              "html[theme=\"dark\"],\n",
              "body[data-theme=\"dark\"],\n",
              "body.vscode-dark {\n",
              "  --font-color-primary: rgba(255, 255, 255, 1);\n",
              "  --font-color-secondary: rgba(255, 255, 255, 0.6);\n",
              "  --font-color-accent: rgb(173, 132, 190);\n",
              "  --border-color: #2e2e2e;\n",
              "  --background-color: #111111;\n",
              "  --background-color-row-even: #111111;\n",
              "  --background-color-row-odd: #313131;\n",
              "}\n",
              "\n",
              ".ee {\n",
              "  padding: 1em;\n",
              "  line-height: 1.5em;\n",
              "  min-width: 300px;\n",
              "  max-width: 1200px;\n",
              "  overflow-y: scroll;\n",
              "  max-height: 600px;\n",
              "  border: 1px solid var(--border-color);\n",
              "  font-family: monospace;\n",
              "}\n",
              "\n",
              ".ee li {\n",
              "  list-style-type: none;\n",
              "}\n",
              "\n",
              ".ee ul {\n",
              "  padding-left: 1.5em !important;\n",
              "  margin: 0;\n",
              "}\n",
              "\n",
              ".ee > ul {\n",
              "  padding-left: 0 !important;\n",
              "}\n",
              "\n",
              ".ee-open,\n",
              ".ee-shut {\n",
              "  color: var(--font-color-secondary);\n",
              "  cursor: pointer;\n",
              "  margin: 0;\n",
              "}\n",
              "\n",
              ".ee-open:hover,\n",
              ".ee-shut:hover {\n",
              "  color: var(--font-color-primary);\n",
              "}\n",
              "\n",
              ".ee-k {\n",
              "  color: var(--font-color-accent);\n",
              "  margin-right: 6px;\n",
              "}\n",
              "\n",
              ".ee-v {\n",
              "  color: var(--font-color-primary);\n",
              "}\n",
              "\n",
              ".ee-toggle {\n",
              "  display: none;\n",
              "}\n",
              "\n",
              ".ee-shut + ul {\n",
              "  display: none;\n",
              "}\n",
              "\n",
              ".ee-open + ul {\n",
              "  display: block;\n",
              "}\n",
              "\n",
              ".ee-shut::before {\n",
              "  display: inline-block;\n",
              "  content: \"▼\";\n",
              "  margin-right: 6px;\n",
              "  transform: rotate(-90deg);\n",
              "  transition: transform 0.2s;\n",
              "}\n",
              "\n",
              ".ee-open::before {\n",
              "  transform: rotate(0deg);\n",
              "  display: inline-block;\n",
              "  content: \"▼\";\n",
              "  margin-right: 6px;\n",
              "  transition: transform 0.2s;\n",
              "}\n",
              "</style><div class='ee'><ul><li><label class='ee-shut'>Image COPERNICUS/S2_SR_HARMONIZED/20230917T151711_20230917T152113_T18MXA (25 bands)<input type='checkbox' class='ee-toggle'></label><ul><li><span class='ee-k'>type:</span><span class='ee-v'>Image</span></li><li><span class='ee-k'>id:</span><span class='ee-v'>COPERNICUS/S2_SR_HARMONIZED/20230917T151711_20230917T152113_T18MXA</span></li><li><span class='ee-k'>version:</span><span class='ee-v'>1708371122204170.0</span></li><li><label class='ee-shut'>bands: List (25 elements)<input type='checkbox' class='ee-toggle'></label><ul><li><label class='ee-shut'>0: \"B1\", unsigned int16, EPSG:32718, 366x597 px<input type='checkbox' class='ee-toggle'></label><ul><li><span class='ee-k'>id:</span><span class='ee-v'>B1</span></li><li><span class='ee-k'>crs:</span><span class='ee-v'>EPSG:32718</span></li><li><label class='ee-shut'>crs_transform: [60, 0, 600000, 0, -60, 9600040]<input type='checkbox' class='ee-toggle'></label><ul><li><span class='ee-k'>0:</span><span class='ee-v'>60</span></li><li><span class='ee-k'>1:</span><span class='ee-v'>0</span></li><li><span class='ee-k'>2:</span><span class='ee-v'>600000</span></li><li><span class='ee-k'>3:</span><span class='ee-v'>0</span></li><li><span class='ee-k'>4:</span><span class='ee-v'>-60</span></li><li><span class='ee-k'>5:</span><span class='ee-v'>9600040</span></li></ul></li><li><label class='ee-shut'>data_type: unsigned int16<input type='checkbox' class='ee-toggle'></label><ul><li><span class='ee-k'>type:</span><span class='ee-v'>PixelType</span></li><li><span class='ee-k'>max:</span><span class='ee-v'>65535</span></li><li><span class='ee-k'>min:</span><span class='ee-v'>0</span></li><li><span class='ee-k'>precision:</span><span class='ee-v'>int</span></li></ul></li><li><label class='ee-shut'>dimensions: [366, 597]<input type='checkbox' class='ee-toggle'></label><ul><li><span class='ee-k'>0:</span><span class='ee-v'>366</span></li><li><span class='ee-k'>1:</span><span class='ee-v'>597</span></li></ul></li><li><label class='ee-shut'>origin: [559, 1008]<input type='checkbox' class='ee-toggle'></label><ul><li><span class='ee-k'>0:</span><span class='ee-v'>559</span></li><li><span class='ee-k'>1:</span><span class='ee-v'>1008</span></li></ul></li></ul></li><li><label class='ee-shut'>1: \"B2\", unsigned int16, EPSG:32718, 2191x3576 px<input type='checkbox' class='ee-toggle'></label><ul><li><span class='ee-k'>id:</span><span class='ee-v'>B2</span></li><li><span class='ee-k'>crs:</span><span class='ee-v'>EPSG:32718</span></li><li><label class='ee-shut'>crs_transform: [10, 0, 600000, 0, -10, 9600040]<input type='checkbox' class='ee-toggle'></label><ul><li><span class='ee-k'>0:</span><span class='ee-v'>10</span></li><li><span class='ee-k'>1:</span><span class='ee-v'>0</span></li><li><span class='ee-k'>2:</span><span class='ee-v'>600000</span></li><li><span class='ee-k'>3:</span><span class='ee-v'>0</span></li><li><span class='ee-k'>4:</span><span class='ee-v'>-10</span></li><li><span class='ee-k'>5:</span><span class='ee-v'>9600040</span></li></ul></li><li><label class='ee-shut'>data_type: unsigned int16<input type='checkbox' class='ee-toggle'></label><ul><li><span class='ee-k'>type:</span><span class='ee-v'>PixelType</span></li><li><span class='ee-k'>max:</span><span class='ee-v'>65535</span></li><li><span class='ee-k'>min:</span><span class='ee-v'>0</span></li><li><span class='ee-k'>precision:</span><span class='ee-v'>int</span></li></ul></li><li><label class='ee-shut'>dimensions: [2191, 3576]<input type='checkbox' class='ee-toggle'></label><ul><li><span class='ee-k'>0:</span><span class='ee-v'>2191</span></li><li><span class='ee-k'>1:</span><span class='ee-v'>3576</span></li></ul></li><li><label class='ee-shut'>origin: [3356, 6051]<input type='checkbox' class='ee-toggle'></label><ul><li><span class='ee-k'>0:</span><span class='ee-v'>3356</span></li><li><span class='ee-k'>1:</span><span class='ee-v'>6051</span></li></ul></li></ul></li><li><label class='ee-shut'>2: \"B3\", unsigned int16, EPSG:32718, 2191x3576 px<input type='checkbox' class='ee-toggle'></label><ul><li><span class='ee-k'>id:</span><span class='ee-v'>B3</span></li><li><span class='ee-k'>crs:</span><span class='ee-v'>EPSG:32718</span></li><li><label class='ee-shut'>crs_transform: [10, 0, 600000, 0, -10, 9600040]<input type='checkbox' class='ee-toggle'></label><ul><li><span class='ee-k'>0:</span><span class='ee-v'>10</span></li><li><span class='ee-k'>1:</span><span class='ee-v'>0</span></li><li><span class='ee-k'>2:</span><span class='ee-v'>600000</span></li><li><span class='ee-k'>3:</span><span class='ee-v'>0</span></li><li><span class='ee-k'>4:</span><span class='ee-v'>-10</span></li><li><span class='ee-k'>5:</span><span class='ee-v'>9600040</span></li></ul></li><li><label class='ee-shut'>data_type: unsigned int16<input type='checkbox' class='ee-toggle'></label><ul><li><span class='ee-k'>type:</span><span class='ee-v'>PixelType</span></li><li><span class='ee-k'>max:</span><span class='ee-v'>65535</span></li><li><span class='ee-k'>min:</span><span class='ee-v'>0</span></li><li><span class='ee-k'>precision:</span><span class='ee-v'>int</span></li></ul></li><li><label class='ee-shut'>dimensions: [2191, 3576]<input type='checkbox' class='ee-toggle'></label><ul><li><span class='ee-k'>0:</span><span class='ee-v'>2191</span></li><li><span class='ee-k'>1:</span><span class='ee-v'>3576</span></li></ul></li><li><label class='ee-shut'>origin: [3356, 6051]<input type='checkbox' class='ee-toggle'></label><ul><li><span class='ee-k'>0:</span><span class='ee-v'>3356</span></li><li><span class='ee-k'>1:</span><span class='ee-v'>6051</span></li></ul></li></ul></li><li><label class='ee-shut'>3: \"B4\", unsigned int16, EPSG:32718, 2191x3576 px<input type='checkbox' class='ee-toggle'></label><ul><li><span class='ee-k'>id:</span><span class='ee-v'>B4</span></li><li><span class='ee-k'>crs:</span><span class='ee-v'>EPSG:32718</span></li><li><label class='ee-shut'>crs_transform: [10, 0, 600000, 0, -10, 9600040]<input type='checkbox' class='ee-toggle'></label><ul><li><span class='ee-k'>0:</span><span class='ee-v'>10</span></li><li><span class='ee-k'>1:</span><span class='ee-v'>0</span></li><li><span class='ee-k'>2:</span><span class='ee-v'>600000</span></li><li><span class='ee-k'>3:</span><span class='ee-v'>0</span></li><li><span class='ee-k'>4:</span><span class='ee-v'>-10</span></li><li><span class='ee-k'>5:</span><span class='ee-v'>9600040</span></li></ul></li><li><label class='ee-shut'>data_type: unsigned int16<input type='checkbox' class='ee-toggle'></label><ul><li><span class='ee-k'>type:</span><span class='ee-v'>PixelType</span></li><li><span class='ee-k'>max:</span><span class='ee-v'>65535</span></li><li><span class='ee-k'>min:</span><span class='ee-v'>0</span></li><li><span class='ee-k'>precision:</span><span class='ee-v'>int</span></li></ul></li><li><label class='ee-shut'>dimensions: [2191, 3576]<input type='checkbox' class='ee-toggle'></label><ul><li><span class='ee-k'>0:</span><span class='ee-v'>2191</span></li><li><span class='ee-k'>1:</span><span class='ee-v'>3576</span></li></ul></li><li><label class='ee-shut'>origin: [3356, 6051]<input type='checkbox' class='ee-toggle'></label><ul><li><span class='ee-k'>0:</span><span class='ee-v'>3356</span></li><li><span class='ee-k'>1:</span><span class='ee-v'>6051</span></li></ul></li></ul></li><li><label class='ee-shut'>4: \"B5\", unsigned int16, EPSG:32718, 1096x1789 px<input type='checkbox' class='ee-toggle'></label><ul><li><span class='ee-k'>id:</span><span class='ee-v'>B5</span></li><li><span class='ee-k'>crs:</span><span class='ee-v'>EPSG:32718</span></li><li><label class='ee-shut'>crs_transform: [20, 0, 600000, 0, -20, 9600040]<input type='checkbox' class='ee-toggle'></label><ul><li><span class='ee-k'>0:</span><span class='ee-v'>20</span></li><li><span class='ee-k'>1:</span><span class='ee-v'>0</span></li><li><span class='ee-k'>2:</span><span class='ee-v'>600000</span></li><li><span class='ee-k'>3:</span><span class='ee-v'>0</span></li><li><span class='ee-k'>4:</span><span class='ee-v'>-20</span></li><li><span class='ee-k'>5:</span><span class='ee-v'>9600040</span></li></ul></li><li><label class='ee-shut'>data_type: unsigned int16<input type='checkbox' class='ee-toggle'></label><ul><li><span class='ee-k'>type:</span><span class='ee-v'>PixelType</span></li><li><span class='ee-k'>max:</span><span class='ee-v'>65535</span></li><li><span class='ee-k'>min:</span><span class='ee-v'>0</span></li><li><span class='ee-k'>precision:</span><span class='ee-v'>int</span></li></ul></li><li><label class='ee-shut'>dimensions: [1096, 1789]<input type='checkbox' class='ee-toggle'></label><ul><li><span class='ee-k'>0:</span><span class='ee-v'>1096</span></li><li><span class='ee-k'>1:</span><span class='ee-v'>1789</span></li></ul></li><li><label class='ee-shut'>origin: [1678, 3025]<input type='checkbox' class='ee-toggle'></label><ul><li><span class='ee-k'>0:</span><span class='ee-v'>1678</span></li><li><span class='ee-k'>1:</span><span class='ee-v'>3025</span></li></ul></li></ul></li><li><label class='ee-shut'>5: \"B6\", unsigned int16, EPSG:32718, 1096x1789 px<input type='checkbox' class='ee-toggle'></label><ul><li><span class='ee-k'>id:</span><span class='ee-v'>B6</span></li><li><span class='ee-k'>crs:</span><span class='ee-v'>EPSG:32718</span></li><li><label class='ee-shut'>crs_transform: [20, 0, 600000, 0, -20, 9600040]<input type='checkbox' class='ee-toggle'></label><ul><li><span class='ee-k'>0:</span><span class='ee-v'>20</span></li><li><span class='ee-k'>1:</span><span class='ee-v'>0</span></li><li><span class='ee-k'>2:</span><span class='ee-v'>600000</span></li><li><span class='ee-k'>3:</span><span class='ee-v'>0</span></li><li><span class='ee-k'>4:</span><span class='ee-v'>-20</span></li><li><span class='ee-k'>5:</span><span class='ee-v'>9600040</span></li></ul></li><li><label class='ee-shut'>data_type: unsigned int16<input type='checkbox' class='ee-toggle'></label><ul><li><span class='ee-k'>type:</span><span class='ee-v'>PixelType</span></li><li><span class='ee-k'>max:</span><span class='ee-v'>65535</span></li><li><span class='ee-k'>min:</span><span class='ee-v'>0</span></li><li><span class='ee-k'>precision:</span><span class='ee-v'>int</span></li></ul></li><li><label class='ee-shut'>dimensions: [1096, 1789]<input type='checkbox' class='ee-toggle'></label><ul><li><span class='ee-k'>0:</span><span class='ee-v'>1096</span></li><li><span class='ee-k'>1:</span><span class='ee-v'>1789</span></li></ul></li><li><label class='ee-shut'>origin: [1678, 3025]<input type='checkbox' class='ee-toggle'></label><ul><li><span class='ee-k'>0:</span><span class='ee-v'>1678</span></li><li><span class='ee-k'>1:</span><span class='ee-v'>3025</span></li></ul></li></ul></li><li><label class='ee-shut'>6: \"B7\", unsigned int16, EPSG:32718, 1096x1789 px<input type='checkbox' class='ee-toggle'></label><ul><li><span class='ee-k'>id:</span><span class='ee-v'>B7</span></li><li><span class='ee-k'>crs:</span><span class='ee-v'>EPSG:32718</span></li><li><label class='ee-shut'>crs_transform: [20, 0, 600000, 0, -20, 9600040]<input type='checkbox' class='ee-toggle'></label><ul><li><span class='ee-k'>0:</span><span class='ee-v'>20</span></li><li><span class='ee-k'>1:</span><span class='ee-v'>0</span></li><li><span class='ee-k'>2:</span><span class='ee-v'>600000</span></li><li><span class='ee-k'>3:</span><span class='ee-v'>0</span></li><li><span class='ee-k'>4:</span><span class='ee-v'>-20</span></li><li><span class='ee-k'>5:</span><span class='ee-v'>9600040</span></li></ul></li><li><label class='ee-shut'>data_type: unsigned int16<input type='checkbox' class='ee-toggle'></label><ul><li><span class='ee-k'>type:</span><span class='ee-v'>PixelType</span></li><li><span class='ee-k'>max:</span><span class='ee-v'>65535</span></li><li><span class='ee-k'>min:</span><span class='ee-v'>0</span></li><li><span class='ee-k'>precision:</span><span class='ee-v'>int</span></li></ul></li><li><label class='ee-shut'>dimensions: [1096, 1789]<input type='checkbox' class='ee-toggle'></label><ul><li><span class='ee-k'>0:</span><span class='ee-v'>1096</span></li><li><span class='ee-k'>1:</span><span class='ee-v'>1789</span></li></ul></li><li><label class='ee-shut'>origin: [1678, 3025]<input type='checkbox' class='ee-toggle'></label><ul><li><span class='ee-k'>0:</span><span class='ee-v'>1678</span></li><li><span class='ee-k'>1:</span><span class='ee-v'>3025</span></li></ul></li></ul></li><li><label class='ee-shut'>7: \"B8\", unsigned int16, EPSG:32718, 2191x3576 px<input type='checkbox' class='ee-toggle'></label><ul><li><span class='ee-k'>id:</span><span class='ee-v'>B8</span></li><li><span class='ee-k'>crs:</span><span class='ee-v'>EPSG:32718</span></li><li><label class='ee-shut'>crs_transform: [10, 0, 600000, 0, -10, 9600040]<input type='checkbox' class='ee-toggle'></label><ul><li><span class='ee-k'>0:</span><span class='ee-v'>10</span></li><li><span class='ee-k'>1:</span><span class='ee-v'>0</span></li><li><span class='ee-k'>2:</span><span class='ee-v'>600000</span></li><li><span class='ee-k'>3:</span><span class='ee-v'>0</span></li><li><span class='ee-k'>4:</span><span class='ee-v'>-10</span></li><li><span class='ee-k'>5:</span><span class='ee-v'>9600040</span></li></ul></li><li><label class='ee-shut'>data_type: unsigned int16<input type='checkbox' class='ee-toggle'></label><ul><li><span class='ee-k'>type:</span><span class='ee-v'>PixelType</span></li><li><span class='ee-k'>max:</span><span class='ee-v'>65535</span></li><li><span class='ee-k'>min:</span><span class='ee-v'>0</span></li><li><span class='ee-k'>precision:</span><span class='ee-v'>int</span></li></ul></li><li><label class='ee-shut'>dimensions: [2191, 3576]<input type='checkbox' class='ee-toggle'></label><ul><li><span class='ee-k'>0:</span><span class='ee-v'>2191</span></li><li><span class='ee-k'>1:</span><span class='ee-v'>3576</span></li></ul></li><li><label class='ee-shut'>origin: [3356, 6051]<input type='checkbox' class='ee-toggle'></label><ul><li><span class='ee-k'>0:</span><span class='ee-v'>3356</span></li><li><span class='ee-k'>1:</span><span class='ee-v'>6051</span></li></ul></li></ul></li><li><label class='ee-shut'>8: \"B8A\", unsigned int16, EPSG:32718, 1096x1789 px<input type='checkbox' class='ee-toggle'></label><ul><li><span class='ee-k'>id:</span><span class='ee-v'>B8A</span></li><li><span class='ee-k'>crs:</span><span class='ee-v'>EPSG:32718</span></li><li><label class='ee-shut'>crs_transform: [20, 0, 600000, 0, -20, 9600040]<input type='checkbox' class='ee-toggle'></label><ul><li><span class='ee-k'>0:</span><span class='ee-v'>20</span></li><li><span class='ee-k'>1:</span><span class='ee-v'>0</span></li><li><span class='ee-k'>2:</span><span class='ee-v'>600000</span></li><li><span class='ee-k'>3:</span><span class='ee-v'>0</span></li><li><span class='ee-k'>4:</span><span class='ee-v'>-20</span></li><li><span class='ee-k'>5:</span><span class='ee-v'>9600040</span></li></ul></li><li><label class='ee-shut'>data_type: unsigned int16<input type='checkbox' class='ee-toggle'></label><ul><li><span class='ee-k'>type:</span><span class='ee-v'>PixelType</span></li><li><span class='ee-k'>max:</span><span class='ee-v'>65535</span></li><li><span class='ee-k'>min:</span><span class='ee-v'>0</span></li><li><span class='ee-k'>precision:</span><span class='ee-v'>int</span></li></ul></li><li><label class='ee-shut'>dimensions: [1096, 1789]<input type='checkbox' class='ee-toggle'></label><ul><li><span class='ee-k'>0:</span><span class='ee-v'>1096</span></li><li><span class='ee-k'>1:</span><span class='ee-v'>1789</span></li></ul></li><li><label class='ee-shut'>origin: [1678, 3025]<input type='checkbox' class='ee-toggle'></label><ul><li><span class='ee-k'>0:</span><span class='ee-v'>1678</span></li><li><span class='ee-k'>1:</span><span class='ee-v'>3025</span></li></ul></li></ul></li><li><label class='ee-shut'>9: \"B9\", unsigned int16, EPSG:32718, 366x597 px<input type='checkbox' class='ee-toggle'></label><ul><li><span class='ee-k'>id:</span><span class='ee-v'>B9</span></li><li><span class='ee-k'>crs:</span><span class='ee-v'>EPSG:32718</span></li><li><label class='ee-shut'>crs_transform: [60, 0, 600000, 0, -60, 9600040]<input type='checkbox' class='ee-toggle'></label><ul><li><span class='ee-k'>0:</span><span class='ee-v'>60</span></li><li><span class='ee-k'>1:</span><span class='ee-v'>0</span></li><li><span class='ee-k'>2:</span><span class='ee-v'>600000</span></li><li><span class='ee-k'>3:</span><span class='ee-v'>0</span></li><li><span class='ee-k'>4:</span><span class='ee-v'>-60</span></li><li><span class='ee-k'>5:</span><span class='ee-v'>9600040</span></li></ul></li><li><label class='ee-shut'>data_type: unsigned int16<input type='checkbox' class='ee-toggle'></label><ul><li><span class='ee-k'>type:</span><span class='ee-v'>PixelType</span></li><li><span class='ee-k'>max:</span><span class='ee-v'>65535</span></li><li><span class='ee-k'>min:</span><span class='ee-v'>0</span></li><li><span class='ee-k'>precision:</span><span class='ee-v'>int</span></li></ul></li><li><label class='ee-shut'>dimensions: [366, 597]<input type='checkbox' class='ee-toggle'></label><ul><li><span class='ee-k'>0:</span><span class='ee-v'>366</span></li><li><span class='ee-k'>1:</span><span class='ee-v'>597</span></li></ul></li><li><label class='ee-shut'>origin: [559, 1008]<input type='checkbox' class='ee-toggle'></label><ul><li><span class='ee-k'>0:</span><span class='ee-v'>559</span></li><li><span class='ee-k'>1:</span><span class='ee-v'>1008</span></li></ul></li></ul></li><li><label class='ee-shut'>10: \"B11\", unsigned int16, EPSG:32718, 1096x1789 px<input type='checkbox' class='ee-toggle'></label><ul><li><span class='ee-k'>id:</span><span class='ee-v'>B11</span></li><li><span class='ee-k'>crs:</span><span class='ee-v'>EPSG:32718</span></li><li><label class='ee-shut'>crs_transform: [20, 0, 600000, 0, -20, 9600040]<input type='checkbox' class='ee-toggle'></label><ul><li><span class='ee-k'>0:</span><span class='ee-v'>20</span></li><li><span class='ee-k'>1:</span><span class='ee-v'>0</span></li><li><span class='ee-k'>2:</span><span class='ee-v'>600000</span></li><li><span class='ee-k'>3:</span><span class='ee-v'>0</span></li><li><span class='ee-k'>4:</span><span class='ee-v'>-20</span></li><li><span class='ee-k'>5:</span><span class='ee-v'>9600040</span></li></ul></li><li><label class='ee-shut'>data_type: unsigned int16<input type='checkbox' class='ee-toggle'></label><ul><li><span class='ee-k'>type:</span><span class='ee-v'>PixelType</span></li><li><span class='ee-k'>max:</span><span class='ee-v'>65535</span></li><li><span class='ee-k'>min:</span><span class='ee-v'>0</span></li><li><span class='ee-k'>precision:</span><span class='ee-v'>int</span></li></ul></li><li><label class='ee-shut'>dimensions: [1096, 1789]<input type='checkbox' class='ee-toggle'></label><ul><li><span class='ee-k'>0:</span><span class='ee-v'>1096</span></li><li><span class='ee-k'>1:</span><span class='ee-v'>1789</span></li></ul></li><li><label class='ee-shut'>origin: [1678, 3025]<input type='checkbox' class='ee-toggle'></label><ul><li><span class='ee-k'>0:</span><span class='ee-v'>1678</span></li><li><span class='ee-k'>1:</span><span class='ee-v'>3025</span></li></ul></li></ul></li><li><label class='ee-shut'>11: \"B12\", unsigned int16, EPSG:32718, 1096x1789 px<input type='checkbox' class='ee-toggle'></label><ul><li><span class='ee-k'>id:</span><span class='ee-v'>B12</span></li><li><span class='ee-k'>crs:</span><span class='ee-v'>EPSG:32718</span></li><li><label class='ee-shut'>crs_transform: [20, 0, 600000, 0, -20, 9600040]<input type='checkbox' class='ee-toggle'></label><ul><li><span class='ee-k'>0:</span><span class='ee-v'>20</span></li><li><span class='ee-k'>1:</span><span class='ee-v'>0</span></li><li><span class='ee-k'>2:</span><span class='ee-v'>600000</span></li><li><span class='ee-k'>3:</span><span class='ee-v'>0</span></li><li><span class='ee-k'>4:</span><span class='ee-v'>-20</span></li><li><span class='ee-k'>5:</span><span class='ee-v'>9600040</span></li></ul></li><li><label class='ee-shut'>data_type: unsigned int16<input type='checkbox' class='ee-toggle'></label><ul><li><span class='ee-k'>type:</span><span class='ee-v'>PixelType</span></li><li><span class='ee-k'>max:</span><span class='ee-v'>65535</span></li><li><span class='ee-k'>min:</span><span class='ee-v'>0</span></li><li><span class='ee-k'>precision:</span><span class='ee-v'>int</span></li></ul></li><li><label class='ee-shut'>dimensions: [1096, 1789]<input type='checkbox' class='ee-toggle'></label><ul><li><span class='ee-k'>0:</span><span class='ee-v'>1096</span></li><li><span class='ee-k'>1:</span><span class='ee-v'>1789</span></li></ul></li><li><label class='ee-shut'>origin: [1678, 3025]<input type='checkbox' class='ee-toggle'></label><ul><li><span class='ee-k'>0:</span><span class='ee-v'>1678</span></li><li><span class='ee-k'>1:</span><span class='ee-v'>3025</span></li></ul></li></ul></li><li><label class='ee-shut'>12: \"AOT\", unsigned int16, EPSG:32718, 2191x3576 px<input type='checkbox' class='ee-toggle'></label><ul><li><span class='ee-k'>id:</span><span class='ee-v'>AOT</span></li><li><span class='ee-k'>crs:</span><span class='ee-v'>EPSG:32718</span></li><li><label class='ee-shut'>crs_transform: [10, 0, 600000, 0, -10, 9600040]<input type='checkbox' class='ee-toggle'></label><ul><li><span class='ee-k'>0:</span><span class='ee-v'>10</span></li><li><span class='ee-k'>1:</span><span class='ee-v'>0</span></li><li><span class='ee-k'>2:</span><span class='ee-v'>600000</span></li><li><span class='ee-k'>3:</span><span class='ee-v'>0</span></li><li><span class='ee-k'>4:</span><span class='ee-v'>-10</span></li><li><span class='ee-k'>5:</span><span class='ee-v'>9600040</span></li></ul></li><li><label class='ee-shut'>data_type: unsigned int16<input type='checkbox' class='ee-toggle'></label><ul><li><span class='ee-k'>type:</span><span class='ee-v'>PixelType</span></li><li><span class='ee-k'>max:</span><span class='ee-v'>65535</span></li><li><span class='ee-k'>min:</span><span class='ee-v'>0</span></li><li><span class='ee-k'>precision:</span><span class='ee-v'>int</span></li></ul></li><li><label class='ee-shut'>dimensions: [2191, 3576]<input type='checkbox' class='ee-toggle'></label><ul><li><span class='ee-k'>0:</span><span class='ee-v'>2191</span></li><li><span class='ee-k'>1:</span><span class='ee-v'>3576</span></li></ul></li><li><label class='ee-shut'>origin: [3356, 6051]<input type='checkbox' class='ee-toggle'></label><ul><li><span class='ee-k'>0:</span><span class='ee-v'>3356</span></li><li><span class='ee-k'>1:</span><span class='ee-v'>6051</span></li></ul></li></ul></li><li><label class='ee-shut'>13: \"WVP\", unsigned int16, EPSG:32718, 2191x3576 px<input type='checkbox' class='ee-toggle'></label><ul><li><span class='ee-k'>id:</span><span class='ee-v'>WVP</span></li><li><span class='ee-k'>crs:</span><span class='ee-v'>EPSG:32718</span></li><li><label class='ee-shut'>crs_transform: [10, 0, 600000, 0, -10, 9600040]<input type='checkbox' class='ee-toggle'></label><ul><li><span class='ee-k'>0:</span><span class='ee-v'>10</span></li><li><span class='ee-k'>1:</span><span class='ee-v'>0</span></li><li><span class='ee-k'>2:</span><span class='ee-v'>600000</span></li><li><span class='ee-k'>3:</span><span class='ee-v'>0</span></li><li><span class='ee-k'>4:</span><span class='ee-v'>-10</span></li><li><span class='ee-k'>5:</span><span class='ee-v'>9600040</span></li></ul></li><li><label class='ee-shut'>data_type: unsigned int16<input type='checkbox' class='ee-toggle'></label><ul><li><span class='ee-k'>type:</span><span class='ee-v'>PixelType</span></li><li><span class='ee-k'>max:</span><span class='ee-v'>65535</span></li><li><span class='ee-k'>min:</span><span class='ee-v'>0</span></li><li><span class='ee-k'>precision:</span><span class='ee-v'>int</span></li></ul></li><li><label class='ee-shut'>dimensions: [2191, 3576]<input type='checkbox' class='ee-toggle'></label><ul><li><span class='ee-k'>0:</span><span class='ee-v'>2191</span></li><li><span class='ee-k'>1:</span><span class='ee-v'>3576</span></li></ul></li><li><label class='ee-shut'>origin: [3356, 6051]<input type='checkbox' class='ee-toggle'></label><ul><li><span class='ee-k'>0:</span><span class='ee-v'>3356</span></li><li><span class='ee-k'>1:</span><span class='ee-v'>6051</span></li></ul></li></ul></li><li><label class='ee-shut'>14: \"SCL\", unsigned int8, EPSG:32718, 1096x1789 px<input type='checkbox' class='ee-toggle'></label><ul><li><span class='ee-k'>id:</span><span class='ee-v'>SCL</span></li><li><span class='ee-k'>crs:</span><span class='ee-v'>EPSG:32718</span></li><li><label class='ee-shut'>crs_transform: [20, 0, 600000, 0, -20, 9600040]<input type='checkbox' class='ee-toggle'></label><ul><li><span class='ee-k'>0:</span><span class='ee-v'>20</span></li><li><span class='ee-k'>1:</span><span class='ee-v'>0</span></li><li><span class='ee-k'>2:</span><span class='ee-v'>600000</span></li><li><span class='ee-k'>3:</span><span class='ee-v'>0</span></li><li><span class='ee-k'>4:</span><span class='ee-v'>-20</span></li><li><span class='ee-k'>5:</span><span class='ee-v'>9600040</span></li></ul></li><li><label class='ee-shut'>data_type: unsigned int8<input type='checkbox' class='ee-toggle'></label><ul><li><span class='ee-k'>type:</span><span class='ee-v'>PixelType</span></li><li><span class='ee-k'>max:</span><span class='ee-v'>255</span></li><li><span class='ee-k'>min:</span><span class='ee-v'>0</span></li><li><span class='ee-k'>precision:</span><span class='ee-v'>int</span></li></ul></li><li><label class='ee-shut'>dimensions: [1096, 1789]<input type='checkbox' class='ee-toggle'></label><ul><li><span class='ee-k'>0:</span><span class='ee-v'>1096</span></li><li><span class='ee-k'>1:</span><span class='ee-v'>1789</span></li></ul></li><li><label class='ee-shut'>origin: [1678, 3025]<input type='checkbox' class='ee-toggle'></label><ul><li><span class='ee-k'>0:</span><span class='ee-v'>1678</span></li><li><span class='ee-k'>1:</span><span class='ee-v'>3025</span></li></ul></li></ul></li><li><label class='ee-shut'>15: \"TCI_R\", unsigned int8, EPSG:32718, 2191x3576 px<input type='checkbox' class='ee-toggle'></label><ul><li><span class='ee-k'>id:</span><span class='ee-v'>TCI_R</span></li><li><span class='ee-k'>crs:</span><span class='ee-v'>EPSG:32718</span></li><li><label class='ee-shut'>crs_transform: [10, 0, 600000, 0, -10, 9600040]<input type='checkbox' class='ee-toggle'></label><ul><li><span class='ee-k'>0:</span><span class='ee-v'>10</span></li><li><span class='ee-k'>1:</span><span class='ee-v'>0</span></li><li><span class='ee-k'>2:</span><span class='ee-v'>600000</span></li><li><span class='ee-k'>3:</span><span class='ee-v'>0</span></li><li><span class='ee-k'>4:</span><span class='ee-v'>-10</span></li><li><span class='ee-k'>5:</span><span class='ee-v'>9600040</span></li></ul></li><li><label class='ee-shut'>data_type: unsigned int8<input type='checkbox' class='ee-toggle'></label><ul><li><span class='ee-k'>type:</span><span class='ee-v'>PixelType</span></li><li><span class='ee-k'>max:</span><span class='ee-v'>255</span></li><li><span class='ee-k'>min:</span><span class='ee-v'>0</span></li><li><span class='ee-k'>precision:</span><span class='ee-v'>int</span></li></ul></li><li><label class='ee-shut'>dimensions: [2191, 3576]<input type='checkbox' class='ee-toggle'></label><ul><li><span class='ee-k'>0:</span><span class='ee-v'>2191</span></li><li><span class='ee-k'>1:</span><span class='ee-v'>3576</span></li></ul></li><li><label class='ee-shut'>origin: [3356, 6051]<input type='checkbox' class='ee-toggle'></label><ul><li><span class='ee-k'>0:</span><span class='ee-v'>3356</span></li><li><span class='ee-k'>1:</span><span class='ee-v'>6051</span></li></ul></li></ul></li><li><label class='ee-shut'>16: \"TCI_G\", unsigned int8, EPSG:32718, 2191x3576 px<input type='checkbox' class='ee-toggle'></label><ul><li><span class='ee-k'>id:</span><span class='ee-v'>TCI_G</span></li><li><span class='ee-k'>crs:</span><span class='ee-v'>EPSG:32718</span></li><li><label class='ee-shut'>crs_transform: [10, 0, 600000, 0, -10, 9600040]<input type='checkbox' class='ee-toggle'></label><ul><li><span class='ee-k'>0:</span><span class='ee-v'>10</span></li><li><span class='ee-k'>1:</span><span class='ee-v'>0</span></li><li><span class='ee-k'>2:</span><span class='ee-v'>600000</span></li><li><span class='ee-k'>3:</span><span class='ee-v'>0</span></li><li><span class='ee-k'>4:</span><span class='ee-v'>-10</span></li><li><span class='ee-k'>5:</span><span class='ee-v'>9600040</span></li></ul></li><li><label class='ee-shut'>data_type: unsigned int8<input type='checkbox' class='ee-toggle'></label><ul><li><span class='ee-k'>type:</span><span class='ee-v'>PixelType</span></li><li><span class='ee-k'>max:</span><span class='ee-v'>255</span></li><li><span class='ee-k'>min:</span><span class='ee-v'>0</span></li><li><span class='ee-k'>precision:</span><span class='ee-v'>int</span></li></ul></li><li><label class='ee-shut'>dimensions: [2191, 3576]<input type='checkbox' class='ee-toggle'></label><ul><li><span class='ee-k'>0:</span><span class='ee-v'>2191</span></li><li><span class='ee-k'>1:</span><span class='ee-v'>3576</span></li></ul></li><li><label class='ee-shut'>origin: [3356, 6051]<input type='checkbox' class='ee-toggle'></label><ul><li><span class='ee-k'>0:</span><span class='ee-v'>3356</span></li><li><span class='ee-k'>1:</span><span class='ee-v'>6051</span></li></ul></li></ul></li><li><label class='ee-shut'>17: \"TCI_B\", unsigned int8, EPSG:32718, 2191x3576 px<input type='checkbox' class='ee-toggle'></label><ul><li><span class='ee-k'>id:</span><span class='ee-v'>TCI_B</span></li><li><span class='ee-k'>crs:</span><span class='ee-v'>EPSG:32718</span></li><li><label class='ee-shut'>crs_transform: [10, 0, 600000, 0, -10, 9600040]<input type='checkbox' class='ee-toggle'></label><ul><li><span class='ee-k'>0:</span><span class='ee-v'>10</span></li><li><span class='ee-k'>1:</span><span class='ee-v'>0</span></li><li><span class='ee-k'>2:</span><span class='ee-v'>600000</span></li><li><span class='ee-k'>3:</span><span class='ee-v'>0</span></li><li><span class='ee-k'>4:</span><span class='ee-v'>-10</span></li><li><span class='ee-k'>5:</span><span class='ee-v'>9600040</span></li></ul></li><li><label class='ee-shut'>data_type: unsigned int8<input type='checkbox' class='ee-toggle'></label><ul><li><span class='ee-k'>type:</span><span class='ee-v'>PixelType</span></li><li><span class='ee-k'>max:</span><span class='ee-v'>255</span></li><li><span class='ee-k'>min:</span><span class='ee-v'>0</span></li><li><span class='ee-k'>precision:</span><span class='ee-v'>int</span></li></ul></li><li><label class='ee-shut'>dimensions: [2191, 3576]<input type='checkbox' class='ee-toggle'></label><ul><li><span class='ee-k'>0:</span><span class='ee-v'>2191</span></li><li><span class='ee-k'>1:</span><span class='ee-v'>3576</span></li></ul></li><li><label class='ee-shut'>origin: [3356, 6051]<input type='checkbox' class='ee-toggle'></label><ul><li><span class='ee-k'>0:</span><span class='ee-v'>3356</span></li><li><span class='ee-k'>1:</span><span class='ee-v'>6051</span></li></ul></li></ul></li><li><label class='ee-shut'>18: \"MSK_CLDPRB\", unsigned int8, EPSG:32718, 1096x1789 px<input type='checkbox' class='ee-toggle'></label><ul><li><span class='ee-k'>id:</span><span class='ee-v'>MSK_CLDPRB</span></li><li><span class='ee-k'>crs:</span><span class='ee-v'>EPSG:32718</span></li><li><label class='ee-shut'>crs_transform: [20, 0, 600000, 0, -20, 9600040]<input type='checkbox' class='ee-toggle'></label><ul><li><span class='ee-k'>0:</span><span class='ee-v'>20</span></li><li><span class='ee-k'>1:</span><span class='ee-v'>0</span></li><li><span class='ee-k'>2:</span><span class='ee-v'>600000</span></li><li><span class='ee-k'>3:</span><span class='ee-v'>0</span></li><li><span class='ee-k'>4:</span><span class='ee-v'>-20</span></li><li><span class='ee-k'>5:</span><span class='ee-v'>9600040</span></li></ul></li><li><label class='ee-shut'>data_type: unsigned int8<input type='checkbox' class='ee-toggle'></label><ul><li><span class='ee-k'>type:</span><span class='ee-v'>PixelType</span></li><li><span class='ee-k'>max:</span><span class='ee-v'>255</span></li><li><span class='ee-k'>min:</span><span class='ee-v'>0</span></li><li><span class='ee-k'>precision:</span><span class='ee-v'>int</span></li></ul></li><li><label class='ee-shut'>dimensions: [1096, 1789]<input type='checkbox' class='ee-toggle'></label><ul><li><span class='ee-k'>0:</span><span class='ee-v'>1096</span></li><li><span class='ee-k'>1:</span><span class='ee-v'>1789</span></li></ul></li><li><label class='ee-shut'>origin: [1678, 3025]<input type='checkbox' class='ee-toggle'></label><ul><li><span class='ee-k'>0:</span><span class='ee-v'>1678</span></li><li><span class='ee-k'>1:</span><span class='ee-v'>3025</span></li></ul></li></ul></li><li><label class='ee-shut'>19: \"MSK_SNWPRB\", unsigned int8, EPSG:32718, 1096x1789 px<input type='checkbox' class='ee-toggle'></label><ul><li><span class='ee-k'>id:</span><span class='ee-v'>MSK_SNWPRB</span></li><li><span class='ee-k'>crs:</span><span class='ee-v'>EPSG:32718</span></li><li><label class='ee-shut'>crs_transform: [20, 0, 600000, 0, -20, 9600040]<input type='checkbox' class='ee-toggle'></label><ul><li><span class='ee-k'>0:</span><span class='ee-v'>20</span></li><li><span class='ee-k'>1:</span><span class='ee-v'>0</span></li><li><span class='ee-k'>2:</span><span class='ee-v'>600000</span></li><li><span class='ee-k'>3:</span><span class='ee-v'>0</span></li><li><span class='ee-k'>4:</span><span class='ee-v'>-20</span></li><li><span class='ee-k'>5:</span><span class='ee-v'>9600040</span></li></ul></li><li><label class='ee-shut'>data_type: unsigned int8<input type='checkbox' class='ee-toggle'></label><ul><li><span class='ee-k'>type:</span><span class='ee-v'>PixelType</span></li><li><span class='ee-k'>max:</span><span class='ee-v'>255</span></li><li><span class='ee-k'>min:</span><span class='ee-v'>0</span></li><li><span class='ee-k'>precision:</span><span class='ee-v'>int</span></li></ul></li><li><label class='ee-shut'>dimensions: [1096, 1789]<input type='checkbox' class='ee-toggle'></label><ul><li><span class='ee-k'>0:</span><span class='ee-v'>1096</span></li><li><span class='ee-k'>1:</span><span class='ee-v'>1789</span></li></ul></li><li><label class='ee-shut'>origin: [1678, 3025]<input type='checkbox' class='ee-toggle'></label><ul><li><span class='ee-k'>0:</span><span class='ee-v'>1678</span></li><li><span class='ee-k'>1:</span><span class='ee-v'>3025</span></li></ul></li></ul></li><li><label class='ee-shut'>20: \"QA10\", unsigned int16, EPSG:32718, 2191x3576 px<input type='checkbox' class='ee-toggle'></label><ul><li><span class='ee-k'>id:</span><span class='ee-v'>QA10</span></li><li><span class='ee-k'>crs:</span><span class='ee-v'>EPSG:32718</span></li><li><label class='ee-shut'>crs_transform: [10, 0, 600000, 0, -10, 9600040]<input type='checkbox' class='ee-toggle'></label><ul><li><span class='ee-k'>0:</span><span class='ee-v'>10</span></li><li><span class='ee-k'>1:</span><span class='ee-v'>0</span></li><li><span class='ee-k'>2:</span><span class='ee-v'>600000</span></li><li><span class='ee-k'>3:</span><span class='ee-v'>0</span></li><li><span class='ee-k'>4:</span><span class='ee-v'>-10</span></li><li><span class='ee-k'>5:</span><span class='ee-v'>9600040</span></li></ul></li><li><label class='ee-shut'>data_type: unsigned int16<input type='checkbox' class='ee-toggle'></label><ul><li><span class='ee-k'>type:</span><span class='ee-v'>PixelType</span></li><li><span class='ee-k'>max:</span><span class='ee-v'>65535</span></li><li><span class='ee-k'>min:</span><span class='ee-v'>0</span></li><li><span class='ee-k'>precision:</span><span class='ee-v'>int</span></li></ul></li><li><label class='ee-shut'>dimensions: [2191, 3576]<input type='checkbox' class='ee-toggle'></label><ul><li><span class='ee-k'>0:</span><span class='ee-v'>2191</span></li><li><span class='ee-k'>1:</span><span class='ee-v'>3576</span></li></ul></li><li><label class='ee-shut'>origin: [3356, 6051]<input type='checkbox' class='ee-toggle'></label><ul><li><span class='ee-k'>0:</span><span class='ee-v'>3356</span></li><li><span class='ee-k'>1:</span><span class='ee-v'>6051</span></li></ul></li></ul></li><li><label class='ee-shut'>21: \"QA20\", unsigned int32, EPSG:32718, 1096x1789 px<input type='checkbox' class='ee-toggle'></label><ul><li><span class='ee-k'>id:</span><span class='ee-v'>QA20</span></li><li><span class='ee-k'>crs:</span><span class='ee-v'>EPSG:32718</span></li><li><label class='ee-shut'>crs_transform: [20, 0, 600000, 0, -20, 9600040]<input type='checkbox' class='ee-toggle'></label><ul><li><span class='ee-k'>0:</span><span class='ee-v'>20</span></li><li><span class='ee-k'>1:</span><span class='ee-v'>0</span></li><li><span class='ee-k'>2:</span><span class='ee-v'>600000</span></li><li><span class='ee-k'>3:</span><span class='ee-v'>0</span></li><li><span class='ee-k'>4:</span><span class='ee-v'>-20</span></li><li><span class='ee-k'>5:</span><span class='ee-v'>9600040</span></li></ul></li><li><label class='ee-shut'>data_type: unsigned int32<input type='checkbox' class='ee-toggle'></label><ul><li><span class='ee-k'>type:</span><span class='ee-v'>PixelType</span></li><li><span class='ee-k'>max:</span><span class='ee-v'>4294967295</span></li><li><span class='ee-k'>min:</span><span class='ee-v'>0</span></li><li><span class='ee-k'>precision:</span><span class='ee-v'>int</span></li></ul></li><li><label class='ee-shut'>dimensions: [1096, 1789]<input type='checkbox' class='ee-toggle'></label><ul><li><span class='ee-k'>0:</span><span class='ee-v'>1096</span></li><li><span class='ee-k'>1:</span><span class='ee-v'>1789</span></li></ul></li><li><label class='ee-shut'>origin: [1678, 3025]<input type='checkbox' class='ee-toggle'></label><ul><li><span class='ee-k'>0:</span><span class='ee-v'>1678</span></li><li><span class='ee-k'>1:</span><span class='ee-v'>3025</span></li></ul></li></ul></li><li><label class='ee-shut'>22: \"QA60\", unsigned int16, EPSG:32718, 366x597 px<input type='checkbox' class='ee-toggle'></label><ul><li><span class='ee-k'>id:</span><span class='ee-v'>QA60</span></li><li><span class='ee-k'>crs:</span><span class='ee-v'>EPSG:32718</span></li><li><label class='ee-shut'>crs_transform: [60, 0, 600000, 0, -60, 9600040]<input type='checkbox' class='ee-toggle'></label><ul><li><span class='ee-k'>0:</span><span class='ee-v'>60</span></li><li><span class='ee-k'>1:</span><span class='ee-v'>0</span></li><li><span class='ee-k'>2:</span><span class='ee-v'>600000</span></li><li><span class='ee-k'>3:</span><span class='ee-v'>0</span></li><li><span class='ee-k'>4:</span><span class='ee-v'>-60</span></li><li><span class='ee-k'>5:</span><span class='ee-v'>9600040</span></li></ul></li><li><label class='ee-shut'>data_type: unsigned int16<input type='checkbox' class='ee-toggle'></label><ul><li><span class='ee-k'>type:</span><span class='ee-v'>PixelType</span></li><li><span class='ee-k'>max:</span><span class='ee-v'>65535</span></li><li><span class='ee-k'>min:</span><span class='ee-v'>0</span></li><li><span class='ee-k'>precision:</span><span class='ee-v'>int</span></li></ul></li><li><label class='ee-shut'>dimensions: [366, 597]<input type='checkbox' class='ee-toggle'></label><ul><li><span class='ee-k'>0:</span><span class='ee-v'>366</span></li><li><span class='ee-k'>1:</span><span class='ee-v'>597</span></li></ul></li><li><label class='ee-shut'>origin: [559, 1008]<input type='checkbox' class='ee-toggle'></label><ul><li><span class='ee-k'>0:</span><span class='ee-v'>559</span></li><li><span class='ee-k'>1:</span><span class='ee-v'>1008</span></li></ul></li></ul></li><li><label class='ee-shut'>23: \"NDVI\", float, EPSG:32718, 2191x3576 px<input type='checkbox' class='ee-toggle'></label><ul><li><span class='ee-k'>id:</span><span class='ee-v'>NDVI</span></li><li><span class='ee-k'>crs:</span><span class='ee-v'>EPSG:32718</span></li><li><label class='ee-shut'>crs_transform: [10, 0, 600000, 0, -10, 9600040]<input type='checkbox' class='ee-toggle'></label><ul><li><span class='ee-k'>0:</span><span class='ee-v'>10</span></li><li><span class='ee-k'>1:</span><span class='ee-v'>0</span></li><li><span class='ee-k'>2:</span><span class='ee-v'>600000</span></li><li><span class='ee-k'>3:</span><span class='ee-v'>0</span></li><li><span class='ee-k'>4:</span><span class='ee-v'>-10</span></li><li><span class='ee-k'>5:</span><span class='ee-v'>9600040</span></li></ul></li><li><label class='ee-shut'>data_type: float<input type='checkbox' class='ee-toggle'></label><ul><li><span class='ee-k'>type:</span><span class='ee-v'>PixelType</span></li><li><span class='ee-k'>precision:</span><span class='ee-v'>float</span></li></ul></li><li><label class='ee-shut'>dimensions: [2191, 3576]<input type='checkbox' class='ee-toggle'></label><ul><li><span class='ee-k'>0:</span><span class='ee-v'>2191</span></li><li><span class='ee-k'>1:</span><span class='ee-v'>3576</span></li></ul></li><li><label class='ee-shut'>origin: [3356, 6051]<input type='checkbox' class='ee-toggle'></label><ul><li><span class='ee-k'>0:</span><span class='ee-v'>3356</span></li><li><span class='ee-k'>1:</span><span class='ee-v'>6051</span></li></ul></li></ul></li><li><label class='ee-shut'>24: \"EVI\", double, EPSG:32718, 2191x3576 px<input type='checkbox' class='ee-toggle'></label><ul><li><span class='ee-k'>id:</span><span class='ee-v'>EVI</span></li><li><span class='ee-k'>crs:</span><span class='ee-v'>EPSG:32718</span></li><li><label class='ee-shut'>crs_transform: [10, 0, 600000, 0, -10, 9600040]<input type='checkbox' class='ee-toggle'></label><ul><li><span class='ee-k'>0:</span><span class='ee-v'>10</span></li><li><span class='ee-k'>1:</span><span class='ee-v'>0</span></li><li><span class='ee-k'>2:</span><span class='ee-v'>600000</span></li><li><span class='ee-k'>3:</span><span class='ee-v'>0</span></li><li><span class='ee-k'>4:</span><span class='ee-v'>-10</span></li><li><span class='ee-k'>5:</span><span class='ee-v'>9600040</span></li></ul></li><li><label class='ee-shut'>data_type: double<input type='checkbox' class='ee-toggle'></label><ul><li><span class='ee-k'>type:</span><span class='ee-v'>PixelType</span></li><li><span class='ee-k'>precision:</span><span class='ee-v'>double</span></li></ul></li><li><label class='ee-shut'>dimensions: [2191, 3576]<input type='checkbox' class='ee-toggle'></label><ul><li><span class='ee-k'>0:</span><span class='ee-v'>2191</span></li><li><span class='ee-k'>1:</span><span class='ee-v'>3576</span></li></ul></li><li><label class='ee-shut'>origin: [3356, 6051]<input type='checkbox' class='ee-toggle'></label><ul><li><span class='ee-k'>0:</span><span class='ee-v'>3356</span></li><li><span class='ee-k'>1:</span><span class='ee-v'>6051</span></li></ul></li></ul></li></ul></li><li><label class='ee-shut'>properties: Object (101 properties)<input type='checkbox' class='ee-toggle'></label><ul><li><span class='ee-k'>AOT_RETRIEVAL_ACCURACY:</span><span class='ee-v'>0</span></li><li><span class='ee-k'>AOT_RETRIEVAL_METHOD:</span><span class='ee-v'>SEN2COR_DDV</span></li><li><span class='ee-k'>BOA_ADD_OFFSET_B1:</span><span class='ee-v'>-1000</span></li><li><span class='ee-k'>BOA_ADD_OFFSET_B10:</span><span class='ee-v'>-1000</span></li><li><span class='ee-k'>BOA_ADD_OFFSET_B11:</span><span class='ee-v'>-1000</span></li><li><span class='ee-k'>BOA_ADD_OFFSET_B12:</span><span class='ee-v'>-1000</span></li><li><span class='ee-k'>BOA_ADD_OFFSET_B2:</span><span class='ee-v'>-1000</span></li><li><span class='ee-k'>BOA_ADD_OFFSET_B3:</span><span class='ee-v'>-1000</span></li><li><span class='ee-k'>BOA_ADD_OFFSET_B4:</span><span class='ee-v'>-1000</span></li><li><span class='ee-k'>BOA_ADD_OFFSET_B5:</span><span class='ee-v'>-1000</span></li><li><span class='ee-k'>BOA_ADD_OFFSET_B6:</span><span class='ee-v'>-1000</span></li><li><span class='ee-k'>BOA_ADD_OFFSET_B7:</span><span class='ee-v'>-1000</span></li><li><span class='ee-k'>BOA_ADD_OFFSET_B8:</span><span class='ee-v'>-1000</span></li><li><span class='ee-k'>BOA_ADD_OFFSET_B8A:</span><span class='ee-v'>-1000</span></li><li><span class='ee-k'>BOA_ADD_OFFSET_B9:</span><span class='ee-v'>-1000</span></li><li><span class='ee-k'>CLOUDY_PIXEL_OVER_LAND_PERCENTAGE:</span><span class='ee-v'>0.251178</span></li><li><span class='ee-k'>CLOUDY_PIXEL_PERCENTAGE:</span><span class='ee-v'>0.326276</span></li><li><span class='ee-k'>CLOUD_COVERAGE_ASSESSMENT:</span><span class='ee-v'>0.326276</span></li><li><span class='ee-k'>CLOUD_SHADOW_PERCENTAGE:</span><span class='ee-v'>0.401893</span></li><li><span class='ee-k'>DARK_FEATURES_PERCENTAGE:</span><span class='ee-v'>0.015544</span></li><li><span class='ee-k'>DATASTRIP_ID:</span><span class='ee-v'>S2A_OPER_MSI_L2A_DS_2APS_20230917T215602_S20230917T152113_N05.09</span></li><li><span class='ee-k'>DATATAKE_IDENTIFIER:</span><span class='ee-v'>GS2A_20230917T151711_043022_N05.09</span></li><li><span class='ee-k'>DATATAKE_TYPE:</span><span class='ee-v'>INS-NOBS</span></li><li><span class='ee-k'>DEGRADED_MSI_DATA_PERCENTAGE:</span><span class='ee-v'>0.0216</span></li><li><span class='ee-k'>FORMAT_CORRECTNESS:</span><span class='ee-v'>PASSED</span></li><li><span class='ee-k'>GENERAL_QUALITY:</span><span class='ee-v'>PASSED</span></li><li><span class='ee-k'>GENERATION_TIME:</span><span class='ee-v'>1694987762000</span></li><li><span class='ee-k'>GEOMETRIC_QUALITY:</span><span class='ee-v'>PASSED</span></li><li><span class='ee-k'>GRANULE_ID:</span><span class='ee-v'>L2A_T18MXA_A043022_20230917T152113</span></li><li><span class='ee-k'>GRANULE_MEAN_AOT:</span><span class='ee-v'>0.100394</span></li><li><span class='ee-k'>GRANULE_MEAN_WV:</span><span class='ee-v'>3.985187</span></li><li><span class='ee-k'>HIGH_PROBA_CLOUDS_PERCENTAGE:</span><span class='ee-v'>0.053981</span></li><li><span class='ee-k'>L2A_QUALITY:</span><span class='ee-v'>PASSED</span></li><li><span class='ee-k'>MEAN_INCIDENCE_AZIMUTH_ANGLE_B1:</span><span class='ee-v'>274.96113752576</span></li><li><span class='ee-k'>MEAN_INCIDENCE_AZIMUTH_ANGLE_B10:</span><span class='ee-v'>276.034201743785</span></li><li><span class='ee-k'>MEAN_INCIDENCE_AZIMUTH_ANGLE_B11:</span><span class='ee-v'>275.468531043025</span></li><li><span class='ee-k'>MEAN_INCIDENCE_AZIMUTH_ANGLE_B12:</span><span class='ee-v'>275.114251150191</span></li><li><span class='ee-k'>MEAN_INCIDENCE_AZIMUTH_ANGLE_B2:</span><span class='ee-v'>277.571735902361</span></li><li><span class='ee-k'>MEAN_INCIDENCE_AZIMUTH_ANGLE_B3:</span><span class='ee-v'>276.621682166996</span></li><li><span class='ee-k'>MEAN_INCIDENCE_AZIMUTH_ANGLE_B4:</span><span class='ee-v'>276.000733414481</span></li><li><span class='ee-k'>MEAN_INCIDENCE_AZIMUTH_ANGLE_B5:</span><span class='ee-v'>275.700297611837</span></li><li><span class='ee-k'>MEAN_INCIDENCE_AZIMUTH_ANGLE_B6:</span><span class='ee-v'>275.495143677879</span></li><li><span class='ee-k'>MEAN_INCIDENCE_AZIMUTH_ANGLE_B7:</span><span class='ee-v'>275.305349467448</span></li><li><span class='ee-k'>MEAN_INCIDENCE_AZIMUTH_ANGLE_B8:</span><span class='ee-v'>277.029271593923</span></li><li><span class='ee-k'>MEAN_INCIDENCE_AZIMUTH_ANGLE_B8A:</span><span class='ee-v'>275.16461328629</span></li><li><span class='ee-k'>MEAN_INCIDENCE_AZIMUTH_ANGLE_B9:</span><span class='ee-v'>274.853404148708</span></li><li><span class='ee-k'>MEAN_INCIDENCE_ZENITH_ANGLE_B1:</span><span class='ee-v'>5.36824261477628</span></li><li><span class='ee-k'>MEAN_INCIDENCE_ZENITH_ANGLE_B10:</span><span class='ee-v'>5.10041809337439</span></li><li><span class='ee-k'>MEAN_INCIDENCE_ZENITH_ANGLE_B11:</span><span class='ee-v'>5.20398442817374</span></li><li><span class='ee-k'>MEAN_INCIDENCE_ZENITH_ANGLE_B12:</span><span class='ee-v'>5.32999401319564</span></li><li><span class='ee-k'>MEAN_INCIDENCE_ZENITH_ANGLE_B2:</span><span class='ee-v'>4.96891072307217</span></li><li><span class='ee-k'>MEAN_INCIDENCE_ZENITH_ANGLE_B3:</span><span class='ee-v'>5.04449951709028</span></li><li><span class='ee-k'>MEAN_INCIDENCE_ZENITH_ANGLE_B4:</span><span class='ee-v'>5.11599249533057</span></li><li><span class='ee-k'>MEAN_INCIDENCE_ZENITH_ANGLE_B5:</span><span class='ee-v'>5.15250026892171</span></li><li><span class='ee-k'>MEAN_INCIDENCE_ZENITH_ANGLE_B6:</span><span class='ee-v'>5.2009294965624</span></li><li><span class='ee-k'>MEAN_INCIDENCE_ZENITH_ANGLE_B7:</span><span class='ee-v'>5.25321413751908</span></li><li><span class='ee-k'>MEAN_INCIDENCE_ZENITH_ANGLE_B8:</span><span class='ee-v'>5.0017171301562</span></li><li><span class='ee-k'>MEAN_INCIDENCE_ZENITH_ANGLE_B8A:</span><span class='ee-v'>5.30860624878269</span></li><li><span class='ee-k'>MEAN_INCIDENCE_ZENITH_ANGLE_B9:</span><span class='ee-v'>5.43145455193936</span></li><li><span class='ee-k'>MEAN_SOLAR_AZIMUTH_ANGLE:</span><span class='ee-v'>73.7841799603101</span></li><li><span class='ee-k'>MEAN_SOLAR_ZENITH_ANGLE:</span><span class='ee-v'>22.0778493089577</span></li><li><span class='ee-k'>MEDIUM_PROBA_CLOUDS_PERCENTAGE:</span><span class='ee-v'>0.271804</span></li><li><span class='ee-k'>MGRS_TILE:</span><span class='ee-v'>18MXA</span></li><li><span class='ee-k'>NODATA_PIXEL_PERCENTAGE:</span><span class='ee-v'>0</span></li><li><span class='ee-k'>NOT_VEGETATED_PERCENTAGE:</span><span class='ee-v'>1.493475</span></li><li><span class='ee-k'>OZONE_SOURCE:</span><span class='ee-v'>AUX_ECMWFT</span></li><li><span class='ee-k'>OZONE_VALUE:</span><span class='ee-v'>276.634541</span></li><li><span class='ee-k'>PROCESSING_BASELINE:</span><span class='ee-v'>05.09</span></li><li><span class='ee-k'>PRODUCT_ID:</span><span class='ee-v'>S2A_MSIL2A_20230917T151711_N0509_R125_T18MXA_20230917T215602</span></li><li><span class='ee-k'>RADIATIVE_TRANSFER_ACCURACY:</span><span class='ee-v'>0</span></li><li><span class='ee-k'>RADIOMETRIC_QUALITY:</span><span class='ee-v'>PASSED</span></li><li><span class='ee-k'>REFLECTANCE_CONVERSION_CORRECTION:</span><span class='ee-v'>0.988360576760938</span></li><li><span class='ee-k'>SATURATED_DEFECTIVE_PIXEL_PERCENTAGE:</span><span class='ee-v'>0</span></li><li><span class='ee-k'>SENSING_ORBIT_DIRECTION:</span><span class='ee-v'>DESCENDING</span></li><li><span class='ee-k'>SENSING_ORBIT_NUMBER:</span><span class='ee-v'>125</span></li><li><span class='ee-k'>SENSOR_QUALITY:</span><span class='ee-v'>PASSED</span></li><li><span class='ee-k'>SNOW_ICE_PERCENTAGE:</span><span class='ee-v'>0</span></li><li><span class='ee-k'>SOLAR_IRRADIANCE_B1:</span><span class='ee-v'>1884.69</span></li><li><span class='ee-k'>SOLAR_IRRADIANCE_B10:</span><span class='ee-v'>367.15</span></li><li><span class='ee-k'>SOLAR_IRRADIANCE_B11:</span><span class='ee-v'>245.59</span></li><li><span class='ee-k'>SOLAR_IRRADIANCE_B12:</span><span class='ee-v'>85.25</span></li><li><span class='ee-k'>SOLAR_IRRADIANCE_B2:</span><span class='ee-v'>1959.66</span></li><li><span class='ee-k'>SOLAR_IRRADIANCE_B3:</span><span class='ee-v'>1823.24</span></li><li><span class='ee-k'>SOLAR_IRRADIANCE_B4:</span><span class='ee-v'>1512.06</span></li><li><span class='ee-k'>SOLAR_IRRADIANCE_B5:</span><span class='ee-v'>1424.64</span></li><li><span class='ee-k'>SOLAR_IRRADIANCE_B6:</span><span class='ee-v'>1287.61</span></li><li><span class='ee-k'>SOLAR_IRRADIANCE_B7:</span><span class='ee-v'>1162.08</span></li><li><span class='ee-k'>SOLAR_IRRADIANCE_B8:</span><span class='ee-v'>1041.63</span></li><li><span class='ee-k'>SOLAR_IRRADIANCE_B8A:</span><span class='ee-v'>955.32</span></li><li><span class='ee-k'>SOLAR_IRRADIANCE_B9:</span><span class='ee-v'>812.92</span></li><li><span class='ee-k'>SPACECRAFT_NAME:</span><span class='ee-v'>Sentinel-2A</span></li><li><span class='ee-k'>THIN_CIRRUS_PERCENTAGE:</span><span class='ee-v'>0.000491</span></li><li><span class='ee-k'>UNCLASSIFIED_PERCENTAGE:</span><span class='ee-v'>0.26349</span></li><li><span class='ee-k'>VEGETATION_PERCENTAGE:</span><span class='ee-v'>94.682157</span></li><li><span class='ee-k'>WATER_PERCENTAGE:</span><span class='ee-v'>2.817167</span></li><li><span class='ee-k'>WATER_VAPOUR_RETRIEVAL_ACCURACY:</span><span class='ee-v'>0</span></li><li><span class='ee-k'>system:asset_size:</span><span class='ee-v'>1529803893</span></li><li><label class='ee-shut'>system:footprint: Polygon (126 vertices)<input type='checkbox' class='ee-toggle'></label><ul><li><span class='ee-k'>type:</span><span class='ee-v'>Polygon</span></li><li><label class='ee-shut'>coordinates: List (1 element)<input type='checkbox' class='ee-toggle'></label><ul><li><label class='ee-shut'>0: List (126 elements)<input type='checkbox' class='ee-toggle'></label><ul><li><label class='ee-shut'>0: [-73.70644351295583, -4.245527932001742]<input type='checkbox' class='ee-toggle'></label><ul><li><span class='ee-k'>0:</span><span class='ee-v'>-73.70644351295583</span></li><li><span class='ee-k'>1:</span><span class='ee-v'>-4.245527932001742</span></li></ul></li><li><label class='ee-shut'>1: [-73.70651840850482, -4.200305430535437]<input type='checkbox' class='ee-toggle'></label><ul><li><span class='ee-k'>0:</span><span class='ee-v'>-73.70651840850482</span></li><li><span class='ee-k'>1:</span><span class='ee-v'>-4.200305430535437</span></li></ul></li><li><label class='ee-shut'>2: [-73.70654430447145, -4.184554511085448]<input type='checkbox' class='ee-toggle'></label><ul><li><span class='ee-k'>0:</span><span class='ee-v'>-73.70654430447145</span></li><li><span class='ee-k'>1:</span><span class='ee-v'>-4.184554511085448</span></li></ul></li><li><label class='ee-shut'>3: [-73.75161724827645, -4.164970396995145]<input type='checkbox' class='ee-toggle'></label><ul><li><span class='ee-k'>0:</span><span class='ee-v'>-73.75161724827645</span></li><li><span class='ee-k'>1:</span><span class='ee-v'>-4.164970396995145</span></li></ul></li><li><label class='ee-shut'>4: [-73.79665879269554, -4.165040682138108]<input type='checkbox' class='ee-toggle'></label><ul><li><span class='ee-k'>0:</span><span class='ee-v'>-73.79665879269554</span></li><li><span class='ee-k'>1:</span><span class='ee-v'>-4.165040682138108</span></li></ul></li><li><label class='ee-shut'>5: [-73.79664603445022, -4.173428671936142]<input type='checkbox' class='ee-toggle'></label><ul><li><span class='ee-k'>0:</span><span class='ee-v'>-73.79664603445022</span></li><li><span class='ee-k'>1:</span><span class='ee-v'>-4.173428671936142</span></li></ul></li><li><label class='ee-shut'>6: [-73.79660475885693, -4.200449802790024]<input type='checkbox' class='ee-toggle'></label><ul><li><span class='ee-k'>0:</span><span class='ee-v'>-73.79660475885693</span></li><li><span class='ee-k'>1:</span><span class='ee-v'>-4.200449802790024</span></li></ul></li><li><label class='ee-shut'>7: [-73.79656849245288, -4.224047724686024]<input type='checkbox' class='ee-toggle'></label><ul><li><span class='ee-k'>0:</span><span class='ee-v'>-73.79656849245288</span></li><li><span class='ee-k'>1:</span><span class='ee-v'>-4.224047724686024</span></li></ul></li><li><label class='ee-shut'>8: [-73.7965350763306, -4.245673864084816]<input type='checkbox' class='ee-toggle'></label><ul><li><span class='ee-k'>0:</span><span class='ee-v'>-73.7965350763306</span></li><li><span class='ee-k'>1:</span><span class='ee-v'>-4.245673864084816</span></li></ul></li><li><label class='ee-shut'>9: [-73.79646464076079, -4.290897871296439]<input type='checkbox' class='ee-toggle'></label><ul><li><span class='ee-k'>0:</span><span class='ee-v'>-73.79646464076079</span></li><li><span class='ee-k'>1:</span><span class='ee-v'>-4.290897871296439</span></li></ul></li><li><label class='ee-shut'>10: [-73.79639345192926, -4.336121823852913]<input type='checkbox' class='ee-toggle'></label><ul><li><span class='ee-k'>0:</span><span class='ee-v'>-73.79639345192926</span></li><li><span class='ee-k'>1:</span><span class='ee-v'>-4.336121823852913</span></li></ul></li><li><label class='ee-shut'>11: [-73.7963849853264, -4.341468738571878]<input type='checkbox' class='ee-toggle'></label><ul><li><span class='ee-k'>0:</span><span class='ee-v'>-73.7963849853264</span></li><li><span class='ee-k'>1:</span><span class='ee-v'>-4.341468738571878</span></li></ul></li><li><label class='ee-shut'>12: [-73.79632150961547, -4.381345721182393]<input type='checkbox' class='ee-toggle'></label><ul><li><span class='ee-k'>0:</span><span class='ee-v'>-73.79632150961547</span></li><li><span class='ee-k'>1:</span><span class='ee-v'>-4.381345721182393</span></li></ul></li><li><label class='ee-shut'>13: [-73.79624881359646, -4.426569562713167]<input type='checkbox' class='ee-toggle'></label><ul><li><span class='ee-k'>0:</span><span class='ee-v'>-73.79624881359646</span></li><li><span class='ee-k'>1:</span><span class='ee-v'>-4.426569562713167</span></li></ul></li><li><label class='ee-shut'>14: [-73.79617536364692, -4.47179334787365]<input type='checkbox' class='ee-toggle'></label><ul><li><span class='ee-k'>0:</span><span class='ee-v'>-73.79617536364692</span></li><li><span class='ee-k'>1:</span><span class='ee-v'>-4.47179334787365</span></li></ul></li><li><label class='ee-shut'>15: [-73.75108754529599, -4.488332065999658]<input type='checkbox' class='ee-toggle'></label><ul><li><span class='ee-k'>0:</span><span class='ee-v'>-73.75108754529599</span></li><li><span class='ee-k'>1:</span><span class='ee-v'>-4.488332065999658</span></li></ul></li><li><label class='ee-shut'>16: [-73.74970249138407, -4.4870009486664415]<input type='checkbox' class='ee-toggle'></label><ul><li><span class='ee-k'>0:</span><span class='ee-v'>-73.74970249138407</span></li><li><span class='ee-k'>1:</span><span class='ee-v'>-4.4870009486664415</span></li></ul></li><li><label class='ee-shut'>17: [-73.74881151999165, -4.486441911395095]<input type='checkbox' class='ee-toggle'></label><ul><li><span class='ee-k'>0:</span><span class='ee-v'>-73.74881151999165</span></li><li><span class='ee-k'>1:</span><span class='ee-v'>-4.486441911395095</span></li></ul></li><li><label class='ee-shut'>18: [-73.74778101389151, -4.485794629948547]<input type='checkbox' class='ee-toggle'></label><ul><li><span class='ee-k'>0:</span><span class='ee-v'>-73.74778101389151</span></li><li><span class='ee-k'>1:</span><span class='ee-v'>-4.485794629948547</span></li></ul></li><li><label class='ee-shut'>19: [-73.74575957769454, -4.484760074053891]<input type='checkbox' class='ee-toggle'></label><ul><li><span class='ee-k'>0:</span><span class='ee-v'>-73.74575957769454</span></li><li><span class='ee-k'>1:</span><span class='ee-v'>-4.484760074053891</span></li></ul></li><li><label class='ee-shut'>20: [-73.74366352147801, -4.483888188450969]<input type='checkbox' class='ee-toggle'></label><ul><li><span class='ee-k'>0:</span><span class='ee-v'>-73.74366352147801</span></li><li><span class='ee-k'>1:</span><span class='ee-v'>-4.483888188450969</span></li></ul></li><li><label class='ee-shut'>21: [-73.74239725852446, -4.483511924161269]<input type='checkbox' class='ee-toggle'></label><ul><li><span class='ee-k'>0:</span><span class='ee-v'>-73.74239725852446</span></li><li><span class='ee-k'>1:</span><span class='ee-v'>-4.483511924161269</span></li></ul></li><li><label class='ee-shut'>22: [-73.74149318626301, -4.483242556240875]<input type='checkbox' class='ee-toggle'></label><ul><li><span class='ee-k'>0:</span><span class='ee-v'>-73.74149318626301</span></li><li><span class='ee-k'>1:</span><span class='ee-v'>-4.483242556240875</span></li></ul></li><li><label class='ee-shut'>23: [-73.740553870473, -4.4830302883816415]<input type='checkbox' class='ee-toggle'></label><ul><li><span class='ee-k'>0:</span><span class='ee-v'>-73.740553870473</span></li><li><span class='ee-k'>1:</span><span class='ee-v'>-4.4830302883816415</span></li></ul></li><li><label class='ee-shut'>24: [-73.73927664852665, -4.482741009497692]<input type='checkbox' class='ee-toggle'></label><ul><li><span class='ee-k'>0:</span><span class='ee-v'>-73.73927664852665</span></li><li><span class='ee-k'>1:</span><span class='ee-v'>-4.482741009497692</span></li></ul></li><li><label class='ee-shut'>25: [-73.73780383279085, -4.482420096426139]<input type='checkbox' class='ee-toggle'></label><ul><li><span class='ee-k'>0:</span><span class='ee-v'>-73.73780383279085</span></li><li><span class='ee-k'>1:</span><span class='ee-v'>-4.482420096426139</span></li></ul></li><li><label class='ee-shut'>26: [-73.73706053468318, -4.482257818081319]<input type='checkbox' class='ee-toggle'></label><ul><li><span class='ee-k'>0:</span><span class='ee-v'>-73.73706053468318</span></li><li><span class='ee-k'>1:</span><span class='ee-v'>-4.482257818081319</span></li></ul></li><li><label class='ee-shut'>27: [-73.73596340554424, -4.48205612561772]<input type='checkbox' class='ee-toggle'></label><ul><li><span class='ee-k'>0:</span><span class='ee-v'>-73.73596340554424</span></li><li><span class='ee-k'>1:</span><span class='ee-v'>-4.48205612561772</span></li></ul></li><li><label class='ee-shut'>28: [-73.73482744885148, -4.481846947879099]<input type='checkbox' class='ee-toggle'></label><ul><li><span class='ee-k'>0:</span><span class='ee-v'>-73.73482744885148</span></li><li><span class='ee-k'>1:</span><span class='ee-v'>-4.481846947879099</span></li></ul></li><li><label class='ee-shut'>29: [-73.73258580271076, -4.481490324039987]<input type='checkbox' class='ee-toggle'></label><ul><li><span class='ee-k'>0:</span><span class='ee-v'>-73.73258580271076</span></li><li><span class='ee-k'>1:</span><span class='ee-v'>-4.481490324039987</span></li></ul></li><li><label class='ee-shut'>30: [-73.73154995509378, -4.481290812169524]<input type='checkbox' class='ee-toggle'></label><ul><li><span class='ee-k'>0:</span><span class='ee-v'>-73.73154995509378</span></li><li><span class='ee-k'>1:</span><span class='ee-v'>-4.481290812169524</span></li></ul></li><li><label class='ee-shut'>31: [-73.73036194862735, -4.481061458890254]<input type='checkbox' class='ee-toggle'></label><ul><li><span class='ee-k'>0:</span><span class='ee-v'>-73.73036194862735</span></li><li><span class='ee-k'>1:</span><span class='ee-v'>-4.481061458890254</span></li></ul></li><li><label class='ee-shut'>32: [-73.72813416548473, -4.480614220433293]<input type='checkbox' class='ee-toggle'></label><ul><li><span class='ee-k'>0:</span><span class='ee-v'>-73.72813416548473</span></li><li><span class='ee-k'>1:</span><span class='ee-v'>-4.480614220433293</span></li></ul></li><li><label class='ee-shut'>33: [-73.72765935516014, -4.48054655459936]<input type='checkbox' class='ee-toggle'></label><ul><li><span class='ee-k'>0:</span><span class='ee-v'>-73.72765935516014</span></li><li><span class='ee-k'>1:</span><span class='ee-v'>-4.48054655459936</span></li></ul></li><li><label class='ee-shut'>34: [-73.72588688184207, -4.480293836765291]<input type='checkbox' class='ee-toggle'></label><ul><li><span class='ee-k'>0:</span><span class='ee-v'>-73.72588688184207</span></li><li><span class='ee-k'>1:</span><span class='ee-v'>-4.480293836765291</span></li></ul></li><li><label class='ee-shut'>35: [-73.7251957293642, -4.480259437846727]<input type='checkbox' class='ee-toggle'></label><ul><li><span class='ee-k'>0:</span><span class='ee-v'>-73.7251957293642</span></li><li><span class='ee-k'>1:</span><span class='ee-v'>-4.480259437846727</span></li></ul></li><li><label class='ee-shut'>36: [-73.72362518332044, -4.4801811743438025]<input type='checkbox' class='ee-toggle'></label><ul><li><span class='ee-k'>0:</span><span class='ee-v'>-73.72362518332044</span></li><li><span class='ee-k'>1:</span><span class='ee-v'>-4.4801811743438025</span></li></ul></li><li><label class='ee-shut'>37: [-73.72287959618178, -4.480200854909804]<input type='checkbox' class='ee-toggle'></label><ul><li><span class='ee-k'>0:</span><span class='ee-v'>-73.72287959618178</span></li><li><span class='ee-k'>1:</span><span class='ee-v'>-4.480200854909804</span></li></ul></li><li><label class='ee-shut'>38: [-73.72135570848036, -4.48024069915099]<input type='checkbox' class='ee-toggle'></label><ul><li><span class='ee-k'>0:</span><span class='ee-v'>-73.72135570848036</span></li><li><span class='ee-k'>1:</span><span class='ee-v'>-4.48024069915099</span></li></ul></li><li><label class='ee-shut'>39: [-73.71943216369692, -4.480321625512571]<input type='checkbox' class='ee-toggle'></label><ul><li><span class='ee-k'>0:</span><span class='ee-v'>-73.71943216369692</span></li><li><span class='ee-k'>1:</span><span class='ee-v'>-4.480321625512571</span></li></ul></li><li><label class='ee-shut'>40: [-73.71908572203861, -4.480336213056514]<input type='checkbox' class='ee-toggle'></label><ul><li><span class='ee-k'>0:</span><span class='ee-v'>-73.71908572203861</span></li><li><span class='ee-k'>1:</span><span class='ee-v'>-4.480336213056514</span></li></ul></li><li><label class='ee-shut'>41: [-73.71700283916486, -4.481146292757484]<input type='checkbox' class='ee-toggle'></label><ul><li><span class='ee-k'>0:</span><span class='ee-v'>-73.71700283916486</span></li><li><span class='ee-k'>1:</span><span class='ee-v'>-4.481146292757484</span></li></ul></li><li><label class='ee-shut'>42: [-73.71601884651129, -4.481345171034944]<input type='checkbox' class='ee-toggle'></label><ul><li><span class='ee-k'>0:</span><span class='ee-v'>-73.71601884651129</span></li><li><span class='ee-k'>1:</span><span class='ee-v'>-4.481345171034944</span></li></ul></li><li><label class='ee-shut'>43: [-73.71478035982169, -4.481594882415131]<input type='checkbox' class='ee-toggle'></label><ul><li><span class='ee-k'>0:</span><span class='ee-v'>-73.71478035982169</span></li><li><span class='ee-k'>1:</span><span class='ee-v'>-4.481594882415131</span></li></ul></li><li><label class='ee-shut'>44: [-73.71346028722132, -4.481603050291513]<input type='checkbox' class='ee-toggle'></label><ul><li><span class='ee-k'>0:</span><span class='ee-v'>-73.71346028722132</span></li><li><span class='ee-k'>1:</span><span class='ee-v'>-4.481603050291513</span></li></ul></li><li><label class='ee-shut'>45: [-73.71250916495588, -4.481608881466721]<input type='checkbox' class='ee-toggle'></label><ul><li><span class='ee-k'>0:</span><span class='ee-v'>-73.71250916495588</span></li><li><span class='ee-k'>1:</span><span class='ee-v'>-4.481608881466721</span></li></ul></li><li><label class='ee-shut'>46: [-73.71121524600525, -4.481606690208439]<input type='checkbox' class='ee-toggle'></label><ul><li><span class='ee-k'>0:</span><span class='ee-v'>-73.71121524600525</span></li><li><span class='ee-k'>1:</span><span class='ee-v'>-4.481606690208439</span></li></ul></li><li><label class='ee-shut'>47: [-73.71024286980528, -4.481604974007236]<input type='checkbox' class='ee-toggle'></label><ul><li><span class='ee-k'>0:</span><span class='ee-v'>-73.71024286980528</span></li><li><span class='ee-k'>1:</span><span class='ee-v'>-4.481604974007236</span></li></ul></li><li><label class='ee-shut'>48: [-73.70798057345189, -4.481429131182429]<input type='checkbox' class='ee-toggle'></label><ul><li><span class='ee-k'>0:</span><span class='ee-v'>-73.70798057345189</span></li><li><span class='ee-k'>1:</span><span class='ee-v'>-4.481429131182429</span></li></ul></li><li><label class='ee-shut'>49: [-73.70603999990816, -4.4812548464663475]<input type='checkbox' class='ee-toggle'></label><ul><li><span class='ee-k'>0:</span><span class='ee-v'>-73.70603999990816</span></li><li><span class='ee-k'>1:</span><span class='ee-v'>-4.4812548464663475</span></li></ul></li><li><label class='ee-shut'>50: [-73.7059638619137, -4.4812480186998815]<input type='checkbox' class='ee-toggle'></label><ul><li><span class='ee-k'>0:</span><span class='ee-v'>-73.7059638619137</span></li><li><span class='ee-k'>1:</span><span class='ee-v'>-4.4812480186998815</span></li></ul></li><li><label class='ee-shut'>51: [-73.70571895905348, -4.481225968583812]<input type='checkbox' class='ee-toggle'></label><ul><li><span class='ee-k'>0:</span><span class='ee-v'>-73.70571895905348</span></li><li><span class='ee-k'>1:</span><span class='ee-v'>-4.481225968583812</span></li></ul></li><li><label class='ee-shut'>52: [-73.70531997809951, -4.481190169098988]<input type='checkbox' class='ee-toggle'></label><ul><li><span class='ee-k'>0:</span><span class='ee-v'>-73.70531997809951</span></li><li><span class='ee-k'>1:</span><span class='ee-v'>-4.481190169098988</span></li></ul></li><li><label class='ee-shut'>53: [-73.70346077175077, -4.481023167197234]<input type='checkbox' class='ee-toggle'></label><ul><li><span class='ee-k'>0:</span><span class='ee-v'>-73.70346077175077</span></li><li><span class='ee-k'>1:</span><span class='ee-v'>-4.481023167197234</span></li></ul></li><li><label class='ee-shut'>54: [-73.7011932785949, -4.480937739572928]<input type='checkbox' class='ee-toggle'></label><ul><li><span class='ee-k'>0:</span><span class='ee-v'>-73.7011932785949</span></li><li><span class='ee-k'>1:</span><span class='ee-v'>-4.480937739572928</span></li></ul></li><li><label class='ee-shut'>55: [-73.69892614698026, -4.481006061176363]<input type='checkbox' class='ee-toggle'></label><ul><li><span class='ee-k'>0:</span><span class='ee-v'>-73.69892614698026</span></li><li><span class='ee-k'>1:</span><span class='ee-v'>-4.481006061176363</span></li></ul></li><li><label class='ee-shut'>56: [-73.69759285077252, -4.481056866792948]<input type='checkbox' class='ee-toggle'></label><ul><li><span class='ee-k'>0:</span><span class='ee-v'>-73.69759285077252</span></li><li><span class='ee-k'>1:</span><span class='ee-v'>-4.481056866792948</span></li></ul></li><li><label class='ee-shut'>57: [-73.69665529011687, -4.4810924578333715]<input type='checkbox' class='ee-toggle'></label><ul><li><span class='ee-k'>0:</span><span class='ee-v'>-73.69665529011687</span></li><li><span class='ee-k'>1:</span><span class='ee-v'>-4.4810924578333715</span></li></ul></li><li><label class='ee-shut'>58: [-73.69438934325424, -4.481205898871592]<input type='checkbox' class='ee-toggle'></label><ul><li><span class='ee-k'>0:</span><span class='ee-v'>-73.69438934325424</span></li><li><span class='ee-k'>1:</span><span class='ee-v'>-4.481205898871592</span></li></ul></li><li><label class='ee-shut'>59: [-73.69212345245468, -4.481237842590027]<input type='checkbox' class='ee-toggle'></label><ul><li><span class='ee-k'>0:</span><span class='ee-v'>-73.69212345245468</span></li><li><span class='ee-k'>1:</span><span class='ee-v'>-4.481237842590027</span></li></ul></li><li><label class='ee-shut'>60: [-73.68985744409937, -4.481134384230166]<input type='checkbox' class='ee-toggle'></label><ul><li><span class='ee-k'>0:</span><span class='ee-v'>-73.68985744409937</span></li><li><span class='ee-k'>1:</span><span class='ee-v'>-4.481134384230166</span></li></ul></li><li><label class='ee-shut'>61: [-73.68770992205634, -4.4809416827506485]<input type='checkbox' class='ee-toggle'></label><ul><li><span class='ee-k'>0:</span><span class='ee-v'>-73.68770992205634</span></li><li><span class='ee-k'>1:</span><span class='ee-v'>-4.4809416827506485</span></li></ul></li><li><label class='ee-shut'>62: [-73.6875990050001, -4.480931715560229]<input type='checkbox' class='ee-toggle'></label><ul><li><span class='ee-k'>0:</span><span class='ee-v'>-73.6875990050001</span></li><li><span class='ee-k'>1:</span><span class='ee-v'>-4.480931715560229</span></li></ul></li><li><label class='ee-shut'>63: [-73.68535614889957, -4.480583634495522]<input type='checkbox' class='ee-toggle'></label><ul><li><span class='ee-k'>0:</span><span class='ee-v'>-73.68535614889957</span></li><li><span class='ee-k'>1:</span><span class='ee-v'>-4.480583634495522</span></li></ul></li><li><label class='ee-shut'>64: [-73.68312942465121, -4.480136630679193]<input type='checkbox' class='ee-toggle'></label><ul><li><span class='ee-k'>0:</span><span class='ee-v'>-73.68312942465121</span></li><li><span class='ee-k'>1:</span><span class='ee-v'>-4.480136630679193</span></li></ul></li><li><label class='ee-shut'>65: [-73.68093447318127, -4.479562876067171]<input type='checkbox' class='ee-toggle'></label><ul><li><span class='ee-k'>0:</span><span class='ee-v'>-73.68093447318127</span></li><li><span class='ee-k'>1:</span><span class='ee-v'>-4.479562876067171</span></li></ul></li><li><label class='ee-shut'>66: [-73.67875930225387, -4.4789167966705365]<input type='checkbox' class='ee-toggle'></label><ul><li><span class='ee-k'>0:</span><span class='ee-v'>-73.67875930225387</span></li><li><span class='ee-k'>1:</span><span class='ee-v'>-4.4789167966705365</span></li></ul></li><li><label class='ee-shut'>67: [-73.67662943902413, -4.478135128529261]<input type='checkbox' class='ee-toggle'></label><ul><li><span class='ee-k'>0:</span><span class='ee-v'>-73.67662943902413</span></li><li><span class='ee-k'>1:</span><span class='ee-v'>-4.478135128529261</span></li></ul></li><li><label class='ee-shut'>68: [-73.67452393716952, -4.477290189190655]<input type='checkbox' class='ee-toggle'></label><ul><li><span class='ee-k'>0:</span><span class='ee-v'>-73.67452393716952</span></li><li><span class='ee-k'>1:</span><span class='ee-v'>-4.477290189190655</span></li></ul></li><li><label class='ee-shut'>69: [-73.67329130988502, -4.476745925844339]<input type='checkbox' class='ee-toggle'></label><ul><li><span class='ee-k'>0:</span><span class='ee-v'>-73.67329130988502</span></li><li><span class='ee-k'>1:</span><span class='ee-v'>-4.476745925844339</span></li></ul></li><li><label class='ee-shut'>70: [-73.672447229346, -4.476372761814433]<input type='checkbox' class='ee-toggle'></label><ul><li><span class='ee-k'>0:</span><span class='ee-v'>-73.672447229346</span></li><li><span class='ee-k'>1:</span><span class='ee-v'>-4.476372761814433</span></li></ul></li><li><label class='ee-shut'>71: [-73.67039486676285, -4.4754013796009815]<input type='checkbox' class='ee-toggle'></label><ul><li><span class='ee-k'>0:</span><span class='ee-v'>-73.67039486676285</span></li><li><span class='ee-k'>1:</span><span class='ee-v'>-4.4754013796009815</span></li></ul></li><li><label class='ee-shut'>72: [-73.66991467216454, -4.475182085872096]<input type='checkbox' class='ee-toggle'></label><ul><li><span class='ee-k'>0:</span><span class='ee-v'>-73.66991467216454</span></li><li><span class='ee-k'>1:</span><span class='ee-v'>-4.475182085872096</span></li></ul></li><li><label class='ee-shut'>73: [-73.66832732242706, -4.474457098565824]<input type='checkbox' class='ee-toggle'></label><ul><li><span class='ee-k'>0:</span><span class='ee-v'>-73.66832732242706</span></li><li><span class='ee-k'>1:</span><span class='ee-v'>-4.474457098565824</span></li></ul></li><li><label class='ee-shut'>74: [-73.66623261930617, -4.473585027879518]<input type='checkbox' class='ee-toggle'></label><ul><li><span class='ee-k'>0:</span><span class='ee-v'>-73.66623261930617</span></li><li><span class='ee-k'>1:</span><span class='ee-v'>-4.473585027879518</span></li></ul></li><li><label class='ee-shut'>75: [-73.6640801503208, -4.472866600581387]<input type='checkbox' class='ee-toggle'></label><ul><li><span class='ee-k'>0:</span><span class='ee-v'>-73.6640801503208</span></li><li><span class='ee-k'>1:</span><span class='ee-v'>-4.472866600581387</span></li></ul></li><li><label class='ee-shut'>76: [-73.66187381399985, -4.472338000179723]<input type='checkbox' class='ee-toggle'></label><ul><li><span class='ee-k'>0:</span><span class='ee-v'>-73.66187381399985</span></li><li><span class='ee-k'>1:</span><span class='ee-v'>-4.472338000179723</span></li></ul></li><li><label class='ee-shut'>77: [-73.65964020154851, -4.471945008614324]<input type='checkbox' class='ee-toggle'></label><ul><li><span class='ee-k'>0:</span><span class='ee-v'>-73.65964020154851</span></li><li><span class='ee-k'>1:</span><span class='ee-v'>-4.471945008614324</span></li></ul></li><li><label class='ee-shut'>78: [-73.65963803894721, -4.471944914211611]<input type='checkbox' class='ee-toggle'></label><ul><li><span class='ee-k'>0:</span><span class='ee-v'>-73.65963803894721</span></li><li><span class='ee-k'>1:</span><span class='ee-v'>-4.471944914211611</span></li></ul></li><li><label class='ee-shut'>79: [-73.65963740830497, -4.471944822613911]<input type='checkbox' class='ee-toggle'></label><ul><li><span class='ee-k'>0:</span><span class='ee-v'>-73.65963740830497</span></li><li><span class='ee-k'>1:</span><span class='ee-v'>-4.471944822613911</span></li></ul></li><li><label class='ee-shut'>80: [-73.65871073724571, -4.471902516402021]<input type='checkbox' class='ee-toggle'></label><ul><li><span class='ee-k'>0:</span><span class='ee-v'>-73.65871073724571</span></li><li><span class='ee-k'>1:</span><span class='ee-v'>-4.471902516402021</span></li></ul></li><li><label class='ee-shut'>81: [-73.65737452621731, -4.471841369459497]<input type='checkbox' class='ee-toggle'></label><ul><li><span class='ee-k'>0:</span><span class='ee-v'>-73.65737452621731</span></li><li><span class='ee-k'>1:</span><span class='ee-v'>-4.471841369459497</span></li></ul></li><li><label class='ee-shut'>82: [-73.65737407547692, -4.471841459075725]<input type='checkbox' class='ee-toggle'></label><ul><li><span class='ee-k'>0:</span><span class='ee-v'>-73.65737407547692</span></li><li><span class='ee-k'>1:</span><span class='ee-v'>-4.471841459075725</span></li></ul></li><li><label class='ee-shut'>83: [-73.65737155241767, -4.47184136400539]<input type='checkbox' class='ee-toggle'></label><ul><li><span class='ee-k'>0:</span><span class='ee-v'>-73.65737155241767</span></li><li><span class='ee-k'>1:</span><span class='ee-v'>-4.47184136400539</span></li></ul></li><li><label class='ee-shut'>84: [-73.65513611190423, -4.472207985833637]<input type='checkbox' class='ee-toggle'></label><ul><li><span class='ee-k'>0:</span><span class='ee-v'>-73.65513611190423</span></li><li><span class='ee-k'>1:</span><span class='ee-v'>-4.472207985833637</span></li></ul></li><li><label class='ee-shut'>85: [-73.65290900960902, -4.472647060143798]<input type='checkbox' class='ee-toggle'></label><ul><li><span class='ee-k'>0:</span><span class='ee-v'>-73.65290900960902</span></li><li><span class='ee-k'>1:</span><span class='ee-v'>-4.472647060143798</span></li></ul></li><li><label class='ee-shut'>86: [-73.6520898189253, -4.472522188114017]<input type='checkbox' class='ee-toggle'></label><ul><li><span class='ee-k'>0:</span><span class='ee-v'>-73.6520898189253</span></li><li><span class='ee-k'>1:</span><span class='ee-v'>-4.472522188114017</span></li></ul></li><li><label class='ee-shut'>87: [-73.65068819588525, -4.472308602874048]<input type='checkbox' class='ee-toggle'></label><ul><li><span class='ee-k'>0:</span><span class='ee-v'>-73.65068819588525</span></li><li><span class='ee-k'>1:</span><span class='ee-v'>-4.472308602874048</span></li></ul></li><li><label class='ee-shut'>88: [-73.6487274016014, -4.471165137744553]<input type='checkbox' class='ee-toggle'></label><ul><li><span class='ee-k'>0:</span><span class='ee-v'>-73.6487274016014</span></li><li><span class='ee-k'>1:</span><span class='ee-v'>-4.471165137744553</span></li></ul></li><li><label class='ee-shut'>89: [-73.64692683490026, -4.469778041704015]<input type='checkbox' class='ee-toggle'></label><ul><li><span class='ee-k'>0:</span><span class='ee-v'>-73.64692683490026</span></li><li><span class='ee-k'>1:</span><span class='ee-v'>-4.469778041704015</span></li></ul></li><li><label class='ee-shut'>90: [-73.64499662925209, -4.468571678838533]<input type='checkbox' class='ee-toggle'></label><ul><li><span class='ee-k'>0:</span><span class='ee-v'>-73.64499662925209</span></li><li><span class='ee-k'>1:</span><span class='ee-v'>-4.468571678838533</span></li></ul></li><li><label class='ee-shut'>91: [-73.64312052470142, -4.4678907928150595]<input type='checkbox' class='ee-toggle'></label><ul><li><span class='ee-k'>0:</span><span class='ee-v'>-73.64312052470142</span></li><li><span class='ee-k'>1:</span><span class='ee-v'>-4.4678907928150595</span></li></ul></li><li><label class='ee-shut'>92: [-73.64167178942206, -4.467480575269855]<input type='checkbox' class='ee-toggle'></label><ul><li><span class='ee-k'>0:</span><span class='ee-v'>-73.64167178942206</span></li><li><span class='ee-k'>1:</span><span class='ee-v'>-4.467480575269855</span></li></ul></li><li><label class='ee-shut'>93: [-73.64067840592179, -4.467215998249145]<input type='checkbox' class='ee-toggle'></label><ul><li><span class='ee-k'>0:</span><span class='ee-v'>-73.64067840592179</span></li><li><span class='ee-k'>1:</span><span class='ee-v'>-4.467215998249145</span></li></ul></li><li><label class='ee-shut'>94: [-73.63843538319364, -4.466868424975319]<input type='checkbox' class='ee-toggle'></label><ul><li><span class='ee-k'>0:</span><span class='ee-v'>-73.63843538319364</span></li><li><span class='ee-k'>1:</span><span class='ee-v'>-4.466868424975319</span></li></ul></li><li><label class='ee-shut'>95: [-73.63616940527771, -4.466900388411386]<input type='checkbox' class='ee-toggle'></label><ul><li><span class='ee-k'>0:</span><span class='ee-v'>-73.63616940527771</span></li><li><span class='ee-k'>1:</span><span class='ee-v'>-4.466900388411386</span></li></ul></li><li><label class='ee-shut'>96: [-73.63392113773378, -4.467248291882181]<input type='checkbox' class='ee-toggle'></label><ul><li><span class='ee-k'>0:</span><span class='ee-v'>-73.63392113773378</span></li><li><span class='ee-k'>1:</span><span class='ee-v'>-4.467248291882181</span></li></ul></li><li><label class='ee-shut'>97: [-73.63172909062652, -4.467796350420927]<input type='checkbox' class='ee-toggle'></label><ul><li><span class='ee-k'>0:</span><span class='ee-v'>-73.63172909062652</span></li><li><span class='ee-k'>1:</span><span class='ee-v'>-4.467796350420927</span></li></ul></li><li><label class='ee-shut'>98: [-73.62951659750591, -4.468289826686977]<input type='checkbox' class='ee-toggle'></label><ul><li><span class='ee-k'>0:</span><span class='ee-v'>-73.62951659750591</span></li><li><span class='ee-k'>1:</span><span class='ee-v'>-4.468289826686977</span></li></ul></li><li><label class='ee-shut'>99: [-73.62725825656443, -4.468529701071753]<input type='checkbox' class='ee-toggle'></label><ul><li><span class='ee-k'>0:</span><span class='ee-v'>-73.62725825656443</span></li><li><span class='ee-k'>1:</span><span class='ee-v'>-4.468529701071753</span></li></ul></li><li><label class='ee-shut'>100: [-73.62499236907237, -4.468660842929837]<input type='checkbox' class='ee-toggle'></label><ul><li><span class='ee-k'>0:</span><span class='ee-v'>-73.62499236907237</span></li><li><span class='ee-k'>1:</span><span class='ee-v'>-4.468660842929837</span></li></ul></li><li><label class='ee-shut'>101: [-73.62272639776242, -4.4686927628997]<input type='checkbox' class='ee-toggle'></label><ul><li><span class='ee-k'>0:</span><span class='ee-v'>-73.62272639776242</span></li><li><span class='ee-k'>1:</span><span class='ee-v'>-4.4686927628997</span></li></ul></li><li><label class='ee-shut'>102: [-73.62081570293623, -4.468458813491792]<input type='checkbox' class='ee-toggle'></label><ul><li><span class='ee-k'>0:</span><span class='ee-v'>-73.62081570293623</span></li><li><span class='ee-k'>1:</span><span class='ee-v'>-4.468458813491792</span></li></ul></li><li><label class='ee-shut'>103: [-73.62085456042063, -4.447618884813608]<input type='checkbox' class='ee-toggle'></label><ul><li><span class='ee-k'>0:</span><span class='ee-v'>-73.62085456042063</span></li><li><span class='ee-k'>1:</span><span class='ee-v'>-4.447618884813608</span></li></ul></li><li><label class='ee-shut'>104: [-73.60445526034653, -4.4475879725503225]<input type='checkbox' class='ee-toggle'></label><ul><li><span class='ee-k'>0:</span><span class='ee-v'>-73.60445526034653</span></li><li><span class='ee-k'>1:</span><span class='ee-v'>-4.4475879725503225</span></li></ul></li><li><label class='ee-shut'>105: [-73.5988622633844, -4.432077513760651]<input type='checkbox' class='ee-toggle'></label><ul><li><span class='ee-k'>0:</span><span class='ee-v'>-73.5988622633844</span></li><li><span class='ee-k'>1:</span><span class='ee-v'>-4.432077513760651</span></li></ul></li><li><label class='ee-shut'>106: [-73.62088334211315, -4.4321189623806205]<input type='checkbox' class='ee-toggle'></label><ul><li><span class='ee-k'>0:</span><span class='ee-v'>-73.62088334211315</span></li><li><span class='ee-k'>1:</span><span class='ee-v'>-4.4321189623806205</span></li></ul></li><li><label class='ee-shut'>107: [-73.6209471707229, -4.3975481991966605]<input type='checkbox' class='ee-toggle'></label><ul><li><span class='ee-k'>0:</span><span class='ee-v'>-73.6209471707229</span></li><li><span class='ee-k'>1:</span><span class='ee-v'>-4.3975481991966605</span></li></ul></li><li><label class='ee-shut'>108: [-73.63536397793573, -4.397574770837496]<input type='checkbox' class='ee-toggle'></label><ul><li><span class='ee-k'>0:</span><span class='ee-v'>-73.63536397793573</span></li><li><span class='ee-k'>1:</span><span class='ee-v'>-4.397574770837496</span></li></ul></li><li><label class='ee-shut'>109: [-73.63539760164353, -4.379058763260627]<input type='checkbox' class='ee-toggle'></label><ul><li><span class='ee-k'>0:</span><span class='ee-v'>-73.63539760164353</span></li><li><span class='ee-k'>1:</span><span class='ee-v'>-4.379058763260627</span></li></ul></li><li><label class='ee-shut'>110: [-73.66013148137458, -4.3791035111058925]<input type='checkbox' class='ee-toggle'></label><ul><li><span class='ee-k'>0:</span><span class='ee-v'>-73.66013148137458</span></li><li><span class='ee-k'>1:</span><span class='ee-v'>-4.3791035111058925</span></li></ul></li><li><label class='ee-shut'>111: [-73.661186750047, -4.366839936498773]<input type='checkbox' class='ee-toggle'></label><ul><li><span class='ee-k'>0:</span><span class='ee-v'>-73.661186750047</span></li><li><span class='ee-k'>1:</span><span class='ee-v'>-4.366839936498773</span></li></ul></li><li><label class='ee-shut'>112: [-73.66715289862839, -4.297483771434617]<input type='checkbox' class='ee-toggle'></label><ul><li><span class='ee-k'>0:</span><span class='ee-v'>-73.66715289862839</span></li><li><span class='ee-k'>1:</span><span class='ee-v'>-4.297483771434617</span></li></ul></li><li><label class='ee-shut'>113: [-73.67925833668968, -4.297490391713284]<input type='checkbox' class='ee-toggle'></label><ul><li><span class='ee-k'>0:</span><span class='ee-v'>-73.67925833668968</span></li><li><span class='ee-k'>1:</span><span class='ee-v'>-4.297490391713284</span></li></ul></li><li><label class='ee-shut'>114: [-73.67926652168201, -4.2927317791679505]<input type='checkbox' class='ee-toggle'></label><ul><li><span class='ee-k'>0:</span><span class='ee-v'>-73.67926652168201</span></li><li><span class='ee-k'>1:</span><span class='ee-v'>-4.2927317791679505</span></li></ul></li><li><label class='ee-shut'>115: [-73.70636438638385, -4.292782946040173]<input type='checkbox' class='ee-toggle'></label><ul><li><span class='ee-k'>0:</span><span class='ee-v'>-73.70636438638385</span></li><li><span class='ee-k'>1:</span><span class='ee-v'>-4.292782946040173</span></li></ul></li><li><label class='ee-shut'>116: [-73.72694072069217, -4.285378957796191]<input type='checkbox' class='ee-toggle'></label><ul><li><span class='ee-k'>0:</span><span class='ee-v'>-73.72694072069217</span></li><li><span class='ee-k'>1:</span><span class='ee-v'>-4.285378957796191</span></li></ul></li><li><label class='ee-shut'>117: [-73.75141258828562, -4.292822873641741]<input type='checkbox' class='ee-toggle'></label><ul><li><span class='ee-k'>0:</span><span class='ee-v'>-73.75141258828562</span></li><li><span class='ee-k'>1:</span><span class='ee-v'>-4.292822873641741</span></li></ul></li><li><label class='ee-shut'>118: [-73.75399153150043, -4.292825103247114]<input type='checkbox' class='ee-toggle'></label><ul><li><span class='ee-k'>0:</span><span class='ee-v'>-73.75399153150043</span></li><li><span class='ee-k'>1:</span><span class='ee-v'>-4.292825103247114</span></li></ul></li><li><label class='ee-shut'>119: [-73.76290911877882, -4.288345492600839]<input type='checkbox' class='ee-toggle'></label><ul><li><span class='ee-k'>0:</span><span class='ee-v'>-73.76290911877882</span></li><li><span class='ee-k'>1:</span><span class='ee-v'>-4.288345492600839</span></li></ul></li><li><label class='ee-shut'>120: [-73.76291732108112, -4.2863824427238955]<input type='checkbox' class='ee-toggle'></label><ul><li><span class='ee-k'>0:</span><span class='ee-v'>-73.76291732108112</span></li><li><span class='ee-k'>1:</span><span class='ee-v'>-4.2863824427238955</span></li></ul></li><li><label class='ee-shut'>121: [-73.75143211852038, -4.280788522871085]<input type='checkbox' class='ee-toggle'></label><ul><li><span class='ee-k'>0:</span><span class='ee-v'>-73.75143211852038</span></li><li><span class='ee-k'>1:</span><span class='ee-v'>-4.280788522871085</span></li></ul></li><li><label class='ee-shut'>122: [-73.73430088524701, -4.2645813501288625]<input type='checkbox' class='ee-toggle'></label><ul><li><span class='ee-k'>0:</span><span class='ee-v'>-73.73430088524701</span></li><li><span class='ee-k'>1:</span><span class='ee-v'>-4.2645813501288625</span></li></ul></li><li><label class='ee-shut'>123: [-73.7242540051786, -4.2645516887155885]<input type='checkbox' class='ee-toggle'></label><ul><li><span class='ee-k'>0:</span><span class='ee-v'>-73.7242540051786</span></li><li><span class='ee-k'>1:</span><span class='ee-v'>-4.2645516887155885</span></li></ul></li><li><label class='ee-shut'>124: [-73.70639795371522, -4.272800691995381]<input type='checkbox' class='ee-toggle'></label><ul><li><span class='ee-k'>0:</span><span class='ee-v'>-73.70639795371522</span></li><li><span class='ee-k'>1:</span><span class='ee-v'>-4.272800691995381</span></li></ul></li><li><label class='ee-shut'>125: [-73.70644351295583, -4.245527932001742]<input type='checkbox' class='ee-toggle'></label><ul><li><span class='ee-k'>0:</span><span class='ee-v'>-73.70644351295583</span></li><li><span class='ee-k'>1:</span><span class='ee-v'>-4.245527932001742</span></li></ul></li></ul></li></ul></li></ul></li><li><span class='ee-k'>system:index:</span><span class='ee-v'>20230917T151711_20230917T152113_T18MXA</span></li><li><span class='ee-k'>system:time_end:</span><span class='ee-v'>1694964255236</span></li><li><span class='ee-k'>system:time_start:</span><span class='ee-v'>1694964255236</span></li></ul></li></ul></li></ul></div><script>function toggleHeader() {\n",
              "    const parent = this.parentElement;\n",
              "    parent.className = parent.className === \"ee-open\" ? \"ee-shut\" : \"ee-open\";\n",
              "}\n",
              "\n",
              "for (let c of document.getElementsByClassName(\"ee-toggle\")) {\n",
              "    c.onclick = toggleHeader;\n",
              "}</script></div>"
            ]
          },
          "metadata": {},
          "execution_count": 109
        }
      ]
    },
    {
      "cell_type": "code",
      "source": [
        "image2_change_EVI = image2_ndvi_evi.addBands(image1_ndvi_evi.select('EVI').subtract(image2_ndvi_evi.select('EVI')).rename('EVI_change'))"
      ],
      "metadata": {
        "id": "p-disvveClL2",
        "outputId": "deb30e6f-ab13-4035-c474-97e4313d186e",
        "colab": {
          "base_uri": "https://localhost:8080/",
          "height": 17
        }
      },
      "execution_count": 116,
      "outputs": [
        {
          "output_type": "display_data",
          "data": {
            "text/plain": [
              "<IPython.core.display.HTML object>"
            ],
            "text/html": [
              "\n",
              "            <style>\n",
              "                .geemap-dark {\n",
              "                    --jp-widgets-color: white;\n",
              "                    --jp-widgets-label-color: white;\n",
              "                    --jp-ui-font-color1: white;\n",
              "                    --jp-layout-color2: #454545;\n",
              "                    background-color: #383838;\n",
              "                }\n",
              "                    \n",
              "                .geemap-dark .jupyter-button {\n",
              "                    --jp-layout-color3: #383838;\n",
              "                }\n",
              "                \n",
              "                .geemap-colab {\n",
              "                    background-color: var(--colab-primary-surface-color, white);\n",
              "                }\n",
              "                    \n",
              "                .geemap-colab .jupyter-button {\n",
              "                    --jp-layout-color3: var(--colab-primary-surface-color, white);\n",
              "                }\n",
              "            </style>\n",
              "            "
            ]
          },
          "metadata": {}
        }
      ]
    },
    {
      "cell_type": "code",
      "source": [
        "image2_change_EVI"
      ],
      "metadata": {
        "id": "RP9DzxDVEOW_",
        "outputId": "43ed64c1-c709-42ca-cfbd-17e4528a4197",
        "colab": {
          "base_uri": "https://localhost:8080/",
          "height": 173
        }
      },
      "execution_count": 117,
      "outputs": [
        {
          "output_type": "display_data",
          "data": {
            "text/plain": [
              "<IPython.core.display.HTML object>"
            ],
            "text/html": [
              "\n",
              "            <style>\n",
              "                .geemap-dark {\n",
              "                    --jp-widgets-color: white;\n",
              "                    --jp-widgets-label-color: white;\n",
              "                    --jp-ui-font-color1: white;\n",
              "                    --jp-layout-color2: #454545;\n",
              "                    background-color: #383838;\n",
              "                }\n",
              "                    \n",
              "                .geemap-dark .jupyter-button {\n",
              "                    --jp-layout-color3: #383838;\n",
              "                }\n",
              "                \n",
              "                .geemap-colab {\n",
              "                    background-color: var(--colab-primary-surface-color, white);\n",
              "                }\n",
              "                    \n",
              "                .geemap-colab .jupyter-button {\n",
              "                    --jp-layout-color3: var(--colab-primary-surface-color, white);\n",
              "                }\n",
              "            </style>\n",
              "            "
            ]
          },
          "metadata": {}
        },
        {
          "output_type": "execute_result",
          "data": {
            "text/plain": [
              "<ee.image.Image at 0x79fec6a59e70>"
            ],
            "text/html": [
              "<div><style>:root {\n",
              "  --font-color-primary: var(--jp-content-font-color0, rgba(0, 0, 0, 1));\n",
              "  --font-color-secondary: var(--jp-content-font-color2, rgba(0, 0, 0, 0.6));\n",
              "  --font-color-accent: rgba(123, 31, 162, 1);\n",
              "  --border-color: var(--jp-border-color2, #e0e0e0);\n",
              "  --background-color: var(--jp-layout-color0, white);\n",
              "  --background-color-row-even: var(--jp-layout-color1, white);\n",
              "  --background-color-row-odd: var(--jp-layout-color2, #eeeeee);\n",
              "}\n",
              "\n",
              "html[theme=\"dark\"],\n",
              "body[data-theme=\"dark\"],\n",
              "body.vscode-dark {\n",
              "  --font-color-primary: rgba(255, 255, 255, 1);\n",
              "  --font-color-secondary: rgba(255, 255, 255, 0.6);\n",
              "  --font-color-accent: rgb(173, 132, 190);\n",
              "  --border-color: #2e2e2e;\n",
              "  --background-color: #111111;\n",
              "  --background-color-row-even: #111111;\n",
              "  --background-color-row-odd: #313131;\n",
              "}\n",
              "\n",
              ".ee {\n",
              "  padding: 1em;\n",
              "  line-height: 1.5em;\n",
              "  min-width: 300px;\n",
              "  max-width: 1200px;\n",
              "  overflow-y: scroll;\n",
              "  max-height: 600px;\n",
              "  border: 1px solid var(--border-color);\n",
              "  font-family: monospace;\n",
              "}\n",
              "\n",
              ".ee li {\n",
              "  list-style-type: none;\n",
              "}\n",
              "\n",
              ".ee ul {\n",
              "  padding-left: 1.5em !important;\n",
              "  margin: 0;\n",
              "}\n",
              "\n",
              ".ee > ul {\n",
              "  padding-left: 0 !important;\n",
              "}\n",
              "\n",
              ".ee-open,\n",
              ".ee-shut {\n",
              "  color: var(--font-color-secondary);\n",
              "  cursor: pointer;\n",
              "  margin: 0;\n",
              "}\n",
              "\n",
              ".ee-open:hover,\n",
              ".ee-shut:hover {\n",
              "  color: var(--font-color-primary);\n",
              "}\n",
              "\n",
              ".ee-k {\n",
              "  color: var(--font-color-accent);\n",
              "  margin-right: 6px;\n",
              "}\n",
              "\n",
              ".ee-v {\n",
              "  color: var(--font-color-primary);\n",
              "}\n",
              "\n",
              ".ee-toggle {\n",
              "  display: none;\n",
              "}\n",
              "\n",
              ".ee-shut + ul {\n",
              "  display: none;\n",
              "}\n",
              "\n",
              ".ee-open + ul {\n",
              "  display: block;\n",
              "}\n",
              "\n",
              ".ee-shut::before {\n",
              "  display: inline-block;\n",
              "  content: \"▼\";\n",
              "  margin-right: 6px;\n",
              "  transform: rotate(-90deg);\n",
              "  transition: transform 0.2s;\n",
              "}\n",
              "\n",
              ".ee-open::before {\n",
              "  transform: rotate(0deg);\n",
              "  display: inline-block;\n",
              "  content: \"▼\";\n",
              "  margin-right: 6px;\n",
              "  transition: transform 0.2s;\n",
              "}\n",
              "</style><div class='ee'><ul><li><label class='ee-shut'>Image COPERNICUS/S2_SR_HARMONIZED/20230917T151711_20230917T152113_T18MXA (26 bands)<input type='checkbox' class='ee-toggle'></label><ul><li><span class='ee-k'>type:</span><span class='ee-v'>Image</span></li><li><span class='ee-k'>id:</span><span class='ee-v'>COPERNICUS/S2_SR_HARMONIZED/20230917T151711_20230917T152113_T18MXA</span></li><li><span class='ee-k'>version:</span><span class='ee-v'>1708371122204170.0</span></li><li><label class='ee-shut'>bands: List (26 elements)<input type='checkbox' class='ee-toggle'></label><ul><li><label class='ee-shut'>0: \"B1\", unsigned int16, EPSG:32718, 366x597 px<input type='checkbox' class='ee-toggle'></label><ul><li><span class='ee-k'>id:</span><span class='ee-v'>B1</span></li><li><span class='ee-k'>crs:</span><span class='ee-v'>EPSG:32718</span></li><li><label class='ee-shut'>crs_transform: [60, 0, 600000, 0, -60, 9600040]<input type='checkbox' class='ee-toggle'></label><ul><li><span class='ee-k'>0:</span><span class='ee-v'>60</span></li><li><span class='ee-k'>1:</span><span class='ee-v'>0</span></li><li><span class='ee-k'>2:</span><span class='ee-v'>600000</span></li><li><span class='ee-k'>3:</span><span class='ee-v'>0</span></li><li><span class='ee-k'>4:</span><span class='ee-v'>-60</span></li><li><span class='ee-k'>5:</span><span class='ee-v'>9600040</span></li></ul></li><li><label class='ee-shut'>data_type: unsigned int16<input type='checkbox' class='ee-toggle'></label><ul><li><span class='ee-k'>type:</span><span class='ee-v'>PixelType</span></li><li><span class='ee-k'>max:</span><span class='ee-v'>65535</span></li><li><span class='ee-k'>min:</span><span class='ee-v'>0</span></li><li><span class='ee-k'>precision:</span><span class='ee-v'>int</span></li></ul></li><li><label class='ee-shut'>dimensions: [366, 597]<input type='checkbox' class='ee-toggle'></label><ul><li><span class='ee-k'>0:</span><span class='ee-v'>366</span></li><li><span class='ee-k'>1:</span><span class='ee-v'>597</span></li></ul></li><li><label class='ee-shut'>origin: [559, 1008]<input type='checkbox' class='ee-toggle'></label><ul><li><span class='ee-k'>0:</span><span class='ee-v'>559</span></li><li><span class='ee-k'>1:</span><span class='ee-v'>1008</span></li></ul></li></ul></li><li><label class='ee-shut'>1: \"B2\", unsigned int16, EPSG:32718, 2191x3576 px<input type='checkbox' class='ee-toggle'></label><ul><li><span class='ee-k'>id:</span><span class='ee-v'>B2</span></li><li><span class='ee-k'>crs:</span><span class='ee-v'>EPSG:32718</span></li><li><label class='ee-shut'>crs_transform: [10, 0, 600000, 0, -10, 9600040]<input type='checkbox' class='ee-toggle'></label><ul><li><span class='ee-k'>0:</span><span class='ee-v'>10</span></li><li><span class='ee-k'>1:</span><span class='ee-v'>0</span></li><li><span class='ee-k'>2:</span><span class='ee-v'>600000</span></li><li><span class='ee-k'>3:</span><span class='ee-v'>0</span></li><li><span class='ee-k'>4:</span><span class='ee-v'>-10</span></li><li><span class='ee-k'>5:</span><span class='ee-v'>9600040</span></li></ul></li><li><label class='ee-shut'>data_type: unsigned int16<input type='checkbox' class='ee-toggle'></label><ul><li><span class='ee-k'>type:</span><span class='ee-v'>PixelType</span></li><li><span class='ee-k'>max:</span><span class='ee-v'>65535</span></li><li><span class='ee-k'>min:</span><span class='ee-v'>0</span></li><li><span class='ee-k'>precision:</span><span class='ee-v'>int</span></li></ul></li><li><label class='ee-shut'>dimensions: [2191, 3576]<input type='checkbox' class='ee-toggle'></label><ul><li><span class='ee-k'>0:</span><span class='ee-v'>2191</span></li><li><span class='ee-k'>1:</span><span class='ee-v'>3576</span></li></ul></li><li><label class='ee-shut'>origin: [3356, 6051]<input type='checkbox' class='ee-toggle'></label><ul><li><span class='ee-k'>0:</span><span class='ee-v'>3356</span></li><li><span class='ee-k'>1:</span><span class='ee-v'>6051</span></li></ul></li></ul></li><li><label class='ee-shut'>2: \"B3\", unsigned int16, EPSG:32718, 2191x3576 px<input type='checkbox' class='ee-toggle'></label><ul><li><span class='ee-k'>id:</span><span class='ee-v'>B3</span></li><li><span class='ee-k'>crs:</span><span class='ee-v'>EPSG:32718</span></li><li><label class='ee-shut'>crs_transform: [10, 0, 600000, 0, -10, 9600040]<input type='checkbox' class='ee-toggle'></label><ul><li><span class='ee-k'>0:</span><span class='ee-v'>10</span></li><li><span class='ee-k'>1:</span><span class='ee-v'>0</span></li><li><span class='ee-k'>2:</span><span class='ee-v'>600000</span></li><li><span class='ee-k'>3:</span><span class='ee-v'>0</span></li><li><span class='ee-k'>4:</span><span class='ee-v'>-10</span></li><li><span class='ee-k'>5:</span><span class='ee-v'>9600040</span></li></ul></li><li><label class='ee-shut'>data_type: unsigned int16<input type='checkbox' class='ee-toggle'></label><ul><li><span class='ee-k'>type:</span><span class='ee-v'>PixelType</span></li><li><span class='ee-k'>max:</span><span class='ee-v'>65535</span></li><li><span class='ee-k'>min:</span><span class='ee-v'>0</span></li><li><span class='ee-k'>precision:</span><span class='ee-v'>int</span></li></ul></li><li><label class='ee-shut'>dimensions: [2191, 3576]<input type='checkbox' class='ee-toggle'></label><ul><li><span class='ee-k'>0:</span><span class='ee-v'>2191</span></li><li><span class='ee-k'>1:</span><span class='ee-v'>3576</span></li></ul></li><li><label class='ee-shut'>origin: [3356, 6051]<input type='checkbox' class='ee-toggle'></label><ul><li><span class='ee-k'>0:</span><span class='ee-v'>3356</span></li><li><span class='ee-k'>1:</span><span class='ee-v'>6051</span></li></ul></li></ul></li><li><label class='ee-shut'>3: \"B4\", unsigned int16, EPSG:32718, 2191x3576 px<input type='checkbox' class='ee-toggle'></label><ul><li><span class='ee-k'>id:</span><span class='ee-v'>B4</span></li><li><span class='ee-k'>crs:</span><span class='ee-v'>EPSG:32718</span></li><li><label class='ee-shut'>crs_transform: [10, 0, 600000, 0, -10, 9600040]<input type='checkbox' class='ee-toggle'></label><ul><li><span class='ee-k'>0:</span><span class='ee-v'>10</span></li><li><span class='ee-k'>1:</span><span class='ee-v'>0</span></li><li><span class='ee-k'>2:</span><span class='ee-v'>600000</span></li><li><span class='ee-k'>3:</span><span class='ee-v'>0</span></li><li><span class='ee-k'>4:</span><span class='ee-v'>-10</span></li><li><span class='ee-k'>5:</span><span class='ee-v'>9600040</span></li></ul></li><li><label class='ee-shut'>data_type: unsigned int16<input type='checkbox' class='ee-toggle'></label><ul><li><span class='ee-k'>type:</span><span class='ee-v'>PixelType</span></li><li><span class='ee-k'>max:</span><span class='ee-v'>65535</span></li><li><span class='ee-k'>min:</span><span class='ee-v'>0</span></li><li><span class='ee-k'>precision:</span><span class='ee-v'>int</span></li></ul></li><li><label class='ee-shut'>dimensions: [2191, 3576]<input type='checkbox' class='ee-toggle'></label><ul><li><span class='ee-k'>0:</span><span class='ee-v'>2191</span></li><li><span class='ee-k'>1:</span><span class='ee-v'>3576</span></li></ul></li><li><label class='ee-shut'>origin: [3356, 6051]<input type='checkbox' class='ee-toggle'></label><ul><li><span class='ee-k'>0:</span><span class='ee-v'>3356</span></li><li><span class='ee-k'>1:</span><span class='ee-v'>6051</span></li></ul></li></ul></li><li><label class='ee-shut'>4: \"B5\", unsigned int16, EPSG:32718, 1096x1789 px<input type='checkbox' class='ee-toggle'></label><ul><li><span class='ee-k'>id:</span><span class='ee-v'>B5</span></li><li><span class='ee-k'>crs:</span><span class='ee-v'>EPSG:32718</span></li><li><label class='ee-shut'>crs_transform: [20, 0, 600000, 0, -20, 9600040]<input type='checkbox' class='ee-toggle'></label><ul><li><span class='ee-k'>0:</span><span class='ee-v'>20</span></li><li><span class='ee-k'>1:</span><span class='ee-v'>0</span></li><li><span class='ee-k'>2:</span><span class='ee-v'>600000</span></li><li><span class='ee-k'>3:</span><span class='ee-v'>0</span></li><li><span class='ee-k'>4:</span><span class='ee-v'>-20</span></li><li><span class='ee-k'>5:</span><span class='ee-v'>9600040</span></li></ul></li><li><label class='ee-shut'>data_type: unsigned int16<input type='checkbox' class='ee-toggle'></label><ul><li><span class='ee-k'>type:</span><span class='ee-v'>PixelType</span></li><li><span class='ee-k'>max:</span><span class='ee-v'>65535</span></li><li><span class='ee-k'>min:</span><span class='ee-v'>0</span></li><li><span class='ee-k'>precision:</span><span class='ee-v'>int</span></li></ul></li><li><label class='ee-shut'>dimensions: [1096, 1789]<input type='checkbox' class='ee-toggle'></label><ul><li><span class='ee-k'>0:</span><span class='ee-v'>1096</span></li><li><span class='ee-k'>1:</span><span class='ee-v'>1789</span></li></ul></li><li><label class='ee-shut'>origin: [1678, 3025]<input type='checkbox' class='ee-toggle'></label><ul><li><span class='ee-k'>0:</span><span class='ee-v'>1678</span></li><li><span class='ee-k'>1:</span><span class='ee-v'>3025</span></li></ul></li></ul></li><li><label class='ee-shut'>5: \"B6\", unsigned int16, EPSG:32718, 1096x1789 px<input type='checkbox' class='ee-toggle'></label><ul><li><span class='ee-k'>id:</span><span class='ee-v'>B6</span></li><li><span class='ee-k'>crs:</span><span class='ee-v'>EPSG:32718</span></li><li><label class='ee-shut'>crs_transform: [20, 0, 600000, 0, -20, 9600040]<input type='checkbox' class='ee-toggle'></label><ul><li><span class='ee-k'>0:</span><span class='ee-v'>20</span></li><li><span class='ee-k'>1:</span><span class='ee-v'>0</span></li><li><span class='ee-k'>2:</span><span class='ee-v'>600000</span></li><li><span class='ee-k'>3:</span><span class='ee-v'>0</span></li><li><span class='ee-k'>4:</span><span class='ee-v'>-20</span></li><li><span class='ee-k'>5:</span><span class='ee-v'>9600040</span></li></ul></li><li><label class='ee-shut'>data_type: unsigned int16<input type='checkbox' class='ee-toggle'></label><ul><li><span class='ee-k'>type:</span><span class='ee-v'>PixelType</span></li><li><span class='ee-k'>max:</span><span class='ee-v'>65535</span></li><li><span class='ee-k'>min:</span><span class='ee-v'>0</span></li><li><span class='ee-k'>precision:</span><span class='ee-v'>int</span></li></ul></li><li><label class='ee-shut'>dimensions: [1096, 1789]<input type='checkbox' class='ee-toggle'></label><ul><li><span class='ee-k'>0:</span><span class='ee-v'>1096</span></li><li><span class='ee-k'>1:</span><span class='ee-v'>1789</span></li></ul></li><li><label class='ee-shut'>origin: [1678, 3025]<input type='checkbox' class='ee-toggle'></label><ul><li><span class='ee-k'>0:</span><span class='ee-v'>1678</span></li><li><span class='ee-k'>1:</span><span class='ee-v'>3025</span></li></ul></li></ul></li><li><label class='ee-shut'>6: \"B7\", unsigned int16, EPSG:32718, 1096x1789 px<input type='checkbox' class='ee-toggle'></label><ul><li><span class='ee-k'>id:</span><span class='ee-v'>B7</span></li><li><span class='ee-k'>crs:</span><span class='ee-v'>EPSG:32718</span></li><li><label class='ee-shut'>crs_transform: [20, 0, 600000, 0, -20, 9600040]<input type='checkbox' class='ee-toggle'></label><ul><li><span class='ee-k'>0:</span><span class='ee-v'>20</span></li><li><span class='ee-k'>1:</span><span class='ee-v'>0</span></li><li><span class='ee-k'>2:</span><span class='ee-v'>600000</span></li><li><span class='ee-k'>3:</span><span class='ee-v'>0</span></li><li><span class='ee-k'>4:</span><span class='ee-v'>-20</span></li><li><span class='ee-k'>5:</span><span class='ee-v'>9600040</span></li></ul></li><li><label class='ee-shut'>data_type: unsigned int16<input type='checkbox' class='ee-toggle'></label><ul><li><span class='ee-k'>type:</span><span class='ee-v'>PixelType</span></li><li><span class='ee-k'>max:</span><span class='ee-v'>65535</span></li><li><span class='ee-k'>min:</span><span class='ee-v'>0</span></li><li><span class='ee-k'>precision:</span><span class='ee-v'>int</span></li></ul></li><li><label class='ee-shut'>dimensions: [1096, 1789]<input type='checkbox' class='ee-toggle'></label><ul><li><span class='ee-k'>0:</span><span class='ee-v'>1096</span></li><li><span class='ee-k'>1:</span><span class='ee-v'>1789</span></li></ul></li><li><label class='ee-shut'>origin: [1678, 3025]<input type='checkbox' class='ee-toggle'></label><ul><li><span class='ee-k'>0:</span><span class='ee-v'>1678</span></li><li><span class='ee-k'>1:</span><span class='ee-v'>3025</span></li></ul></li></ul></li><li><label class='ee-shut'>7: \"B8\", unsigned int16, EPSG:32718, 2191x3576 px<input type='checkbox' class='ee-toggle'></label><ul><li><span class='ee-k'>id:</span><span class='ee-v'>B8</span></li><li><span class='ee-k'>crs:</span><span class='ee-v'>EPSG:32718</span></li><li><label class='ee-shut'>crs_transform: [10, 0, 600000, 0, -10, 9600040]<input type='checkbox' class='ee-toggle'></label><ul><li><span class='ee-k'>0:</span><span class='ee-v'>10</span></li><li><span class='ee-k'>1:</span><span class='ee-v'>0</span></li><li><span class='ee-k'>2:</span><span class='ee-v'>600000</span></li><li><span class='ee-k'>3:</span><span class='ee-v'>0</span></li><li><span class='ee-k'>4:</span><span class='ee-v'>-10</span></li><li><span class='ee-k'>5:</span><span class='ee-v'>9600040</span></li></ul></li><li><label class='ee-shut'>data_type: unsigned int16<input type='checkbox' class='ee-toggle'></label><ul><li><span class='ee-k'>type:</span><span class='ee-v'>PixelType</span></li><li><span class='ee-k'>max:</span><span class='ee-v'>65535</span></li><li><span class='ee-k'>min:</span><span class='ee-v'>0</span></li><li><span class='ee-k'>precision:</span><span class='ee-v'>int</span></li></ul></li><li><label class='ee-shut'>dimensions: [2191, 3576]<input type='checkbox' class='ee-toggle'></label><ul><li><span class='ee-k'>0:</span><span class='ee-v'>2191</span></li><li><span class='ee-k'>1:</span><span class='ee-v'>3576</span></li></ul></li><li><label class='ee-shut'>origin: [3356, 6051]<input type='checkbox' class='ee-toggle'></label><ul><li><span class='ee-k'>0:</span><span class='ee-v'>3356</span></li><li><span class='ee-k'>1:</span><span class='ee-v'>6051</span></li></ul></li></ul></li><li><label class='ee-shut'>8: \"B8A\", unsigned int16, EPSG:32718, 1096x1789 px<input type='checkbox' class='ee-toggle'></label><ul><li><span class='ee-k'>id:</span><span class='ee-v'>B8A</span></li><li><span class='ee-k'>crs:</span><span class='ee-v'>EPSG:32718</span></li><li><label class='ee-shut'>crs_transform: [20, 0, 600000, 0, -20, 9600040]<input type='checkbox' class='ee-toggle'></label><ul><li><span class='ee-k'>0:</span><span class='ee-v'>20</span></li><li><span class='ee-k'>1:</span><span class='ee-v'>0</span></li><li><span class='ee-k'>2:</span><span class='ee-v'>600000</span></li><li><span class='ee-k'>3:</span><span class='ee-v'>0</span></li><li><span class='ee-k'>4:</span><span class='ee-v'>-20</span></li><li><span class='ee-k'>5:</span><span class='ee-v'>9600040</span></li></ul></li><li><label class='ee-shut'>data_type: unsigned int16<input type='checkbox' class='ee-toggle'></label><ul><li><span class='ee-k'>type:</span><span class='ee-v'>PixelType</span></li><li><span class='ee-k'>max:</span><span class='ee-v'>65535</span></li><li><span class='ee-k'>min:</span><span class='ee-v'>0</span></li><li><span class='ee-k'>precision:</span><span class='ee-v'>int</span></li></ul></li><li><label class='ee-shut'>dimensions: [1096, 1789]<input type='checkbox' class='ee-toggle'></label><ul><li><span class='ee-k'>0:</span><span class='ee-v'>1096</span></li><li><span class='ee-k'>1:</span><span class='ee-v'>1789</span></li></ul></li><li><label class='ee-shut'>origin: [1678, 3025]<input type='checkbox' class='ee-toggle'></label><ul><li><span class='ee-k'>0:</span><span class='ee-v'>1678</span></li><li><span class='ee-k'>1:</span><span class='ee-v'>3025</span></li></ul></li></ul></li><li><label class='ee-shut'>9: \"B9\", unsigned int16, EPSG:32718, 366x597 px<input type='checkbox' class='ee-toggle'></label><ul><li><span class='ee-k'>id:</span><span class='ee-v'>B9</span></li><li><span class='ee-k'>crs:</span><span class='ee-v'>EPSG:32718</span></li><li><label class='ee-shut'>crs_transform: [60, 0, 600000, 0, -60, 9600040]<input type='checkbox' class='ee-toggle'></label><ul><li><span class='ee-k'>0:</span><span class='ee-v'>60</span></li><li><span class='ee-k'>1:</span><span class='ee-v'>0</span></li><li><span class='ee-k'>2:</span><span class='ee-v'>600000</span></li><li><span class='ee-k'>3:</span><span class='ee-v'>0</span></li><li><span class='ee-k'>4:</span><span class='ee-v'>-60</span></li><li><span class='ee-k'>5:</span><span class='ee-v'>9600040</span></li></ul></li><li><label class='ee-shut'>data_type: unsigned int16<input type='checkbox' class='ee-toggle'></label><ul><li><span class='ee-k'>type:</span><span class='ee-v'>PixelType</span></li><li><span class='ee-k'>max:</span><span class='ee-v'>65535</span></li><li><span class='ee-k'>min:</span><span class='ee-v'>0</span></li><li><span class='ee-k'>precision:</span><span class='ee-v'>int</span></li></ul></li><li><label class='ee-shut'>dimensions: [366, 597]<input type='checkbox' class='ee-toggle'></label><ul><li><span class='ee-k'>0:</span><span class='ee-v'>366</span></li><li><span class='ee-k'>1:</span><span class='ee-v'>597</span></li></ul></li><li><label class='ee-shut'>origin: [559, 1008]<input type='checkbox' class='ee-toggle'></label><ul><li><span class='ee-k'>0:</span><span class='ee-v'>559</span></li><li><span class='ee-k'>1:</span><span class='ee-v'>1008</span></li></ul></li></ul></li><li><label class='ee-shut'>10: \"B11\", unsigned int16, EPSG:32718, 1096x1789 px<input type='checkbox' class='ee-toggle'></label><ul><li><span class='ee-k'>id:</span><span class='ee-v'>B11</span></li><li><span class='ee-k'>crs:</span><span class='ee-v'>EPSG:32718</span></li><li><label class='ee-shut'>crs_transform: [20, 0, 600000, 0, -20, 9600040]<input type='checkbox' class='ee-toggle'></label><ul><li><span class='ee-k'>0:</span><span class='ee-v'>20</span></li><li><span class='ee-k'>1:</span><span class='ee-v'>0</span></li><li><span class='ee-k'>2:</span><span class='ee-v'>600000</span></li><li><span class='ee-k'>3:</span><span class='ee-v'>0</span></li><li><span class='ee-k'>4:</span><span class='ee-v'>-20</span></li><li><span class='ee-k'>5:</span><span class='ee-v'>9600040</span></li></ul></li><li><label class='ee-shut'>data_type: unsigned int16<input type='checkbox' class='ee-toggle'></label><ul><li><span class='ee-k'>type:</span><span class='ee-v'>PixelType</span></li><li><span class='ee-k'>max:</span><span class='ee-v'>65535</span></li><li><span class='ee-k'>min:</span><span class='ee-v'>0</span></li><li><span class='ee-k'>precision:</span><span class='ee-v'>int</span></li></ul></li><li><label class='ee-shut'>dimensions: [1096, 1789]<input type='checkbox' class='ee-toggle'></label><ul><li><span class='ee-k'>0:</span><span class='ee-v'>1096</span></li><li><span class='ee-k'>1:</span><span class='ee-v'>1789</span></li></ul></li><li><label class='ee-shut'>origin: [1678, 3025]<input type='checkbox' class='ee-toggle'></label><ul><li><span class='ee-k'>0:</span><span class='ee-v'>1678</span></li><li><span class='ee-k'>1:</span><span class='ee-v'>3025</span></li></ul></li></ul></li><li><label class='ee-shut'>11: \"B12\", unsigned int16, EPSG:32718, 1096x1789 px<input type='checkbox' class='ee-toggle'></label><ul><li><span class='ee-k'>id:</span><span class='ee-v'>B12</span></li><li><span class='ee-k'>crs:</span><span class='ee-v'>EPSG:32718</span></li><li><label class='ee-shut'>crs_transform: [20, 0, 600000, 0, -20, 9600040]<input type='checkbox' class='ee-toggle'></label><ul><li><span class='ee-k'>0:</span><span class='ee-v'>20</span></li><li><span class='ee-k'>1:</span><span class='ee-v'>0</span></li><li><span class='ee-k'>2:</span><span class='ee-v'>600000</span></li><li><span class='ee-k'>3:</span><span class='ee-v'>0</span></li><li><span class='ee-k'>4:</span><span class='ee-v'>-20</span></li><li><span class='ee-k'>5:</span><span class='ee-v'>9600040</span></li></ul></li><li><label class='ee-shut'>data_type: unsigned int16<input type='checkbox' class='ee-toggle'></label><ul><li><span class='ee-k'>type:</span><span class='ee-v'>PixelType</span></li><li><span class='ee-k'>max:</span><span class='ee-v'>65535</span></li><li><span class='ee-k'>min:</span><span class='ee-v'>0</span></li><li><span class='ee-k'>precision:</span><span class='ee-v'>int</span></li></ul></li><li><label class='ee-shut'>dimensions: [1096, 1789]<input type='checkbox' class='ee-toggle'></label><ul><li><span class='ee-k'>0:</span><span class='ee-v'>1096</span></li><li><span class='ee-k'>1:</span><span class='ee-v'>1789</span></li></ul></li><li><label class='ee-shut'>origin: [1678, 3025]<input type='checkbox' class='ee-toggle'></label><ul><li><span class='ee-k'>0:</span><span class='ee-v'>1678</span></li><li><span class='ee-k'>1:</span><span class='ee-v'>3025</span></li></ul></li></ul></li><li><label class='ee-shut'>12: \"AOT\", unsigned int16, EPSG:32718, 2191x3576 px<input type='checkbox' class='ee-toggle'></label><ul><li><span class='ee-k'>id:</span><span class='ee-v'>AOT</span></li><li><span class='ee-k'>crs:</span><span class='ee-v'>EPSG:32718</span></li><li><label class='ee-shut'>crs_transform: [10, 0, 600000, 0, -10, 9600040]<input type='checkbox' class='ee-toggle'></label><ul><li><span class='ee-k'>0:</span><span class='ee-v'>10</span></li><li><span class='ee-k'>1:</span><span class='ee-v'>0</span></li><li><span class='ee-k'>2:</span><span class='ee-v'>600000</span></li><li><span class='ee-k'>3:</span><span class='ee-v'>0</span></li><li><span class='ee-k'>4:</span><span class='ee-v'>-10</span></li><li><span class='ee-k'>5:</span><span class='ee-v'>9600040</span></li></ul></li><li><label class='ee-shut'>data_type: unsigned int16<input type='checkbox' class='ee-toggle'></label><ul><li><span class='ee-k'>type:</span><span class='ee-v'>PixelType</span></li><li><span class='ee-k'>max:</span><span class='ee-v'>65535</span></li><li><span class='ee-k'>min:</span><span class='ee-v'>0</span></li><li><span class='ee-k'>precision:</span><span class='ee-v'>int</span></li></ul></li><li><label class='ee-shut'>dimensions: [2191, 3576]<input type='checkbox' class='ee-toggle'></label><ul><li><span class='ee-k'>0:</span><span class='ee-v'>2191</span></li><li><span class='ee-k'>1:</span><span class='ee-v'>3576</span></li></ul></li><li><label class='ee-shut'>origin: [3356, 6051]<input type='checkbox' class='ee-toggle'></label><ul><li><span class='ee-k'>0:</span><span class='ee-v'>3356</span></li><li><span class='ee-k'>1:</span><span class='ee-v'>6051</span></li></ul></li></ul></li><li><label class='ee-shut'>13: \"WVP\", unsigned int16, EPSG:32718, 2191x3576 px<input type='checkbox' class='ee-toggle'></label><ul><li><span class='ee-k'>id:</span><span class='ee-v'>WVP</span></li><li><span class='ee-k'>crs:</span><span class='ee-v'>EPSG:32718</span></li><li><label class='ee-shut'>crs_transform: [10, 0, 600000, 0, -10, 9600040]<input type='checkbox' class='ee-toggle'></label><ul><li><span class='ee-k'>0:</span><span class='ee-v'>10</span></li><li><span class='ee-k'>1:</span><span class='ee-v'>0</span></li><li><span class='ee-k'>2:</span><span class='ee-v'>600000</span></li><li><span class='ee-k'>3:</span><span class='ee-v'>0</span></li><li><span class='ee-k'>4:</span><span class='ee-v'>-10</span></li><li><span class='ee-k'>5:</span><span class='ee-v'>9600040</span></li></ul></li><li><label class='ee-shut'>data_type: unsigned int16<input type='checkbox' class='ee-toggle'></label><ul><li><span class='ee-k'>type:</span><span class='ee-v'>PixelType</span></li><li><span class='ee-k'>max:</span><span class='ee-v'>65535</span></li><li><span class='ee-k'>min:</span><span class='ee-v'>0</span></li><li><span class='ee-k'>precision:</span><span class='ee-v'>int</span></li></ul></li><li><label class='ee-shut'>dimensions: [2191, 3576]<input type='checkbox' class='ee-toggle'></label><ul><li><span class='ee-k'>0:</span><span class='ee-v'>2191</span></li><li><span class='ee-k'>1:</span><span class='ee-v'>3576</span></li></ul></li><li><label class='ee-shut'>origin: [3356, 6051]<input type='checkbox' class='ee-toggle'></label><ul><li><span class='ee-k'>0:</span><span class='ee-v'>3356</span></li><li><span class='ee-k'>1:</span><span class='ee-v'>6051</span></li></ul></li></ul></li><li><label class='ee-shut'>14: \"SCL\", unsigned int8, EPSG:32718, 1096x1789 px<input type='checkbox' class='ee-toggle'></label><ul><li><span class='ee-k'>id:</span><span class='ee-v'>SCL</span></li><li><span class='ee-k'>crs:</span><span class='ee-v'>EPSG:32718</span></li><li><label class='ee-shut'>crs_transform: [20, 0, 600000, 0, -20, 9600040]<input type='checkbox' class='ee-toggle'></label><ul><li><span class='ee-k'>0:</span><span class='ee-v'>20</span></li><li><span class='ee-k'>1:</span><span class='ee-v'>0</span></li><li><span class='ee-k'>2:</span><span class='ee-v'>600000</span></li><li><span class='ee-k'>3:</span><span class='ee-v'>0</span></li><li><span class='ee-k'>4:</span><span class='ee-v'>-20</span></li><li><span class='ee-k'>5:</span><span class='ee-v'>9600040</span></li></ul></li><li><label class='ee-shut'>data_type: unsigned int8<input type='checkbox' class='ee-toggle'></label><ul><li><span class='ee-k'>type:</span><span class='ee-v'>PixelType</span></li><li><span class='ee-k'>max:</span><span class='ee-v'>255</span></li><li><span class='ee-k'>min:</span><span class='ee-v'>0</span></li><li><span class='ee-k'>precision:</span><span class='ee-v'>int</span></li></ul></li><li><label class='ee-shut'>dimensions: [1096, 1789]<input type='checkbox' class='ee-toggle'></label><ul><li><span class='ee-k'>0:</span><span class='ee-v'>1096</span></li><li><span class='ee-k'>1:</span><span class='ee-v'>1789</span></li></ul></li><li><label class='ee-shut'>origin: [1678, 3025]<input type='checkbox' class='ee-toggle'></label><ul><li><span class='ee-k'>0:</span><span class='ee-v'>1678</span></li><li><span class='ee-k'>1:</span><span class='ee-v'>3025</span></li></ul></li></ul></li><li><label class='ee-shut'>15: \"TCI_R\", unsigned int8, EPSG:32718, 2191x3576 px<input type='checkbox' class='ee-toggle'></label><ul><li><span class='ee-k'>id:</span><span class='ee-v'>TCI_R</span></li><li><span class='ee-k'>crs:</span><span class='ee-v'>EPSG:32718</span></li><li><label class='ee-shut'>crs_transform: [10, 0, 600000, 0, -10, 9600040]<input type='checkbox' class='ee-toggle'></label><ul><li><span class='ee-k'>0:</span><span class='ee-v'>10</span></li><li><span class='ee-k'>1:</span><span class='ee-v'>0</span></li><li><span class='ee-k'>2:</span><span class='ee-v'>600000</span></li><li><span class='ee-k'>3:</span><span class='ee-v'>0</span></li><li><span class='ee-k'>4:</span><span class='ee-v'>-10</span></li><li><span class='ee-k'>5:</span><span class='ee-v'>9600040</span></li></ul></li><li><label class='ee-shut'>data_type: unsigned int8<input type='checkbox' class='ee-toggle'></label><ul><li><span class='ee-k'>type:</span><span class='ee-v'>PixelType</span></li><li><span class='ee-k'>max:</span><span class='ee-v'>255</span></li><li><span class='ee-k'>min:</span><span class='ee-v'>0</span></li><li><span class='ee-k'>precision:</span><span class='ee-v'>int</span></li></ul></li><li><label class='ee-shut'>dimensions: [2191, 3576]<input type='checkbox' class='ee-toggle'></label><ul><li><span class='ee-k'>0:</span><span class='ee-v'>2191</span></li><li><span class='ee-k'>1:</span><span class='ee-v'>3576</span></li></ul></li><li><label class='ee-shut'>origin: [3356, 6051]<input type='checkbox' class='ee-toggle'></label><ul><li><span class='ee-k'>0:</span><span class='ee-v'>3356</span></li><li><span class='ee-k'>1:</span><span class='ee-v'>6051</span></li></ul></li></ul></li><li><label class='ee-shut'>16: \"TCI_G\", unsigned int8, EPSG:32718, 2191x3576 px<input type='checkbox' class='ee-toggle'></label><ul><li><span class='ee-k'>id:</span><span class='ee-v'>TCI_G</span></li><li><span class='ee-k'>crs:</span><span class='ee-v'>EPSG:32718</span></li><li><label class='ee-shut'>crs_transform: [10, 0, 600000, 0, -10, 9600040]<input type='checkbox' class='ee-toggle'></label><ul><li><span class='ee-k'>0:</span><span class='ee-v'>10</span></li><li><span class='ee-k'>1:</span><span class='ee-v'>0</span></li><li><span class='ee-k'>2:</span><span class='ee-v'>600000</span></li><li><span class='ee-k'>3:</span><span class='ee-v'>0</span></li><li><span class='ee-k'>4:</span><span class='ee-v'>-10</span></li><li><span class='ee-k'>5:</span><span class='ee-v'>9600040</span></li></ul></li><li><label class='ee-shut'>data_type: unsigned int8<input type='checkbox' class='ee-toggle'></label><ul><li><span class='ee-k'>type:</span><span class='ee-v'>PixelType</span></li><li><span class='ee-k'>max:</span><span class='ee-v'>255</span></li><li><span class='ee-k'>min:</span><span class='ee-v'>0</span></li><li><span class='ee-k'>precision:</span><span class='ee-v'>int</span></li></ul></li><li><label class='ee-shut'>dimensions: [2191, 3576]<input type='checkbox' class='ee-toggle'></label><ul><li><span class='ee-k'>0:</span><span class='ee-v'>2191</span></li><li><span class='ee-k'>1:</span><span class='ee-v'>3576</span></li></ul></li><li><label class='ee-shut'>origin: [3356, 6051]<input type='checkbox' class='ee-toggle'></label><ul><li><span class='ee-k'>0:</span><span class='ee-v'>3356</span></li><li><span class='ee-k'>1:</span><span class='ee-v'>6051</span></li></ul></li></ul></li><li><label class='ee-shut'>17: \"TCI_B\", unsigned int8, EPSG:32718, 2191x3576 px<input type='checkbox' class='ee-toggle'></label><ul><li><span class='ee-k'>id:</span><span class='ee-v'>TCI_B</span></li><li><span class='ee-k'>crs:</span><span class='ee-v'>EPSG:32718</span></li><li><label class='ee-shut'>crs_transform: [10, 0, 600000, 0, -10, 9600040]<input type='checkbox' class='ee-toggle'></label><ul><li><span class='ee-k'>0:</span><span class='ee-v'>10</span></li><li><span class='ee-k'>1:</span><span class='ee-v'>0</span></li><li><span class='ee-k'>2:</span><span class='ee-v'>600000</span></li><li><span class='ee-k'>3:</span><span class='ee-v'>0</span></li><li><span class='ee-k'>4:</span><span class='ee-v'>-10</span></li><li><span class='ee-k'>5:</span><span class='ee-v'>9600040</span></li></ul></li><li><label class='ee-shut'>data_type: unsigned int8<input type='checkbox' class='ee-toggle'></label><ul><li><span class='ee-k'>type:</span><span class='ee-v'>PixelType</span></li><li><span class='ee-k'>max:</span><span class='ee-v'>255</span></li><li><span class='ee-k'>min:</span><span class='ee-v'>0</span></li><li><span class='ee-k'>precision:</span><span class='ee-v'>int</span></li></ul></li><li><label class='ee-shut'>dimensions: [2191, 3576]<input type='checkbox' class='ee-toggle'></label><ul><li><span class='ee-k'>0:</span><span class='ee-v'>2191</span></li><li><span class='ee-k'>1:</span><span class='ee-v'>3576</span></li></ul></li><li><label class='ee-shut'>origin: [3356, 6051]<input type='checkbox' class='ee-toggle'></label><ul><li><span class='ee-k'>0:</span><span class='ee-v'>3356</span></li><li><span class='ee-k'>1:</span><span class='ee-v'>6051</span></li></ul></li></ul></li><li><label class='ee-shut'>18: \"MSK_CLDPRB\", unsigned int8, EPSG:32718, 1096x1789 px<input type='checkbox' class='ee-toggle'></label><ul><li><span class='ee-k'>id:</span><span class='ee-v'>MSK_CLDPRB</span></li><li><span class='ee-k'>crs:</span><span class='ee-v'>EPSG:32718</span></li><li><label class='ee-shut'>crs_transform: [20, 0, 600000, 0, -20, 9600040]<input type='checkbox' class='ee-toggle'></label><ul><li><span class='ee-k'>0:</span><span class='ee-v'>20</span></li><li><span class='ee-k'>1:</span><span class='ee-v'>0</span></li><li><span class='ee-k'>2:</span><span class='ee-v'>600000</span></li><li><span class='ee-k'>3:</span><span class='ee-v'>0</span></li><li><span class='ee-k'>4:</span><span class='ee-v'>-20</span></li><li><span class='ee-k'>5:</span><span class='ee-v'>9600040</span></li></ul></li><li><label class='ee-shut'>data_type: unsigned int8<input type='checkbox' class='ee-toggle'></label><ul><li><span class='ee-k'>type:</span><span class='ee-v'>PixelType</span></li><li><span class='ee-k'>max:</span><span class='ee-v'>255</span></li><li><span class='ee-k'>min:</span><span class='ee-v'>0</span></li><li><span class='ee-k'>precision:</span><span class='ee-v'>int</span></li></ul></li><li><label class='ee-shut'>dimensions: [1096, 1789]<input type='checkbox' class='ee-toggle'></label><ul><li><span class='ee-k'>0:</span><span class='ee-v'>1096</span></li><li><span class='ee-k'>1:</span><span class='ee-v'>1789</span></li></ul></li><li><label class='ee-shut'>origin: [1678, 3025]<input type='checkbox' class='ee-toggle'></label><ul><li><span class='ee-k'>0:</span><span class='ee-v'>1678</span></li><li><span class='ee-k'>1:</span><span class='ee-v'>3025</span></li></ul></li></ul></li><li><label class='ee-shut'>19: \"MSK_SNWPRB\", unsigned int8, EPSG:32718, 1096x1789 px<input type='checkbox' class='ee-toggle'></label><ul><li><span class='ee-k'>id:</span><span class='ee-v'>MSK_SNWPRB</span></li><li><span class='ee-k'>crs:</span><span class='ee-v'>EPSG:32718</span></li><li><label class='ee-shut'>crs_transform: [20, 0, 600000, 0, -20, 9600040]<input type='checkbox' class='ee-toggle'></label><ul><li><span class='ee-k'>0:</span><span class='ee-v'>20</span></li><li><span class='ee-k'>1:</span><span class='ee-v'>0</span></li><li><span class='ee-k'>2:</span><span class='ee-v'>600000</span></li><li><span class='ee-k'>3:</span><span class='ee-v'>0</span></li><li><span class='ee-k'>4:</span><span class='ee-v'>-20</span></li><li><span class='ee-k'>5:</span><span class='ee-v'>9600040</span></li></ul></li><li><label class='ee-shut'>data_type: unsigned int8<input type='checkbox' class='ee-toggle'></label><ul><li><span class='ee-k'>type:</span><span class='ee-v'>PixelType</span></li><li><span class='ee-k'>max:</span><span class='ee-v'>255</span></li><li><span class='ee-k'>min:</span><span class='ee-v'>0</span></li><li><span class='ee-k'>precision:</span><span class='ee-v'>int</span></li></ul></li><li><label class='ee-shut'>dimensions: [1096, 1789]<input type='checkbox' class='ee-toggle'></label><ul><li><span class='ee-k'>0:</span><span class='ee-v'>1096</span></li><li><span class='ee-k'>1:</span><span class='ee-v'>1789</span></li></ul></li><li><label class='ee-shut'>origin: [1678, 3025]<input type='checkbox' class='ee-toggle'></label><ul><li><span class='ee-k'>0:</span><span class='ee-v'>1678</span></li><li><span class='ee-k'>1:</span><span class='ee-v'>3025</span></li></ul></li></ul></li><li><label class='ee-shut'>20: \"QA10\", unsigned int16, EPSG:32718, 2191x3576 px<input type='checkbox' class='ee-toggle'></label><ul><li><span class='ee-k'>id:</span><span class='ee-v'>QA10</span></li><li><span class='ee-k'>crs:</span><span class='ee-v'>EPSG:32718</span></li><li><label class='ee-shut'>crs_transform: [10, 0, 600000, 0, -10, 9600040]<input type='checkbox' class='ee-toggle'></label><ul><li><span class='ee-k'>0:</span><span class='ee-v'>10</span></li><li><span class='ee-k'>1:</span><span class='ee-v'>0</span></li><li><span class='ee-k'>2:</span><span class='ee-v'>600000</span></li><li><span class='ee-k'>3:</span><span class='ee-v'>0</span></li><li><span class='ee-k'>4:</span><span class='ee-v'>-10</span></li><li><span class='ee-k'>5:</span><span class='ee-v'>9600040</span></li></ul></li><li><label class='ee-shut'>data_type: unsigned int16<input type='checkbox' class='ee-toggle'></label><ul><li><span class='ee-k'>type:</span><span class='ee-v'>PixelType</span></li><li><span class='ee-k'>max:</span><span class='ee-v'>65535</span></li><li><span class='ee-k'>min:</span><span class='ee-v'>0</span></li><li><span class='ee-k'>precision:</span><span class='ee-v'>int</span></li></ul></li><li><label class='ee-shut'>dimensions: [2191, 3576]<input type='checkbox' class='ee-toggle'></label><ul><li><span class='ee-k'>0:</span><span class='ee-v'>2191</span></li><li><span class='ee-k'>1:</span><span class='ee-v'>3576</span></li></ul></li><li><label class='ee-shut'>origin: [3356, 6051]<input type='checkbox' class='ee-toggle'></label><ul><li><span class='ee-k'>0:</span><span class='ee-v'>3356</span></li><li><span class='ee-k'>1:</span><span class='ee-v'>6051</span></li></ul></li></ul></li><li><label class='ee-shut'>21: \"QA20\", unsigned int32, EPSG:32718, 1096x1789 px<input type='checkbox' class='ee-toggle'></label><ul><li><span class='ee-k'>id:</span><span class='ee-v'>QA20</span></li><li><span class='ee-k'>crs:</span><span class='ee-v'>EPSG:32718</span></li><li><label class='ee-shut'>crs_transform: [20, 0, 600000, 0, -20, 9600040]<input type='checkbox' class='ee-toggle'></label><ul><li><span class='ee-k'>0:</span><span class='ee-v'>20</span></li><li><span class='ee-k'>1:</span><span class='ee-v'>0</span></li><li><span class='ee-k'>2:</span><span class='ee-v'>600000</span></li><li><span class='ee-k'>3:</span><span class='ee-v'>0</span></li><li><span class='ee-k'>4:</span><span class='ee-v'>-20</span></li><li><span class='ee-k'>5:</span><span class='ee-v'>9600040</span></li></ul></li><li><label class='ee-shut'>data_type: unsigned int32<input type='checkbox' class='ee-toggle'></label><ul><li><span class='ee-k'>type:</span><span class='ee-v'>PixelType</span></li><li><span class='ee-k'>max:</span><span class='ee-v'>4294967295</span></li><li><span class='ee-k'>min:</span><span class='ee-v'>0</span></li><li><span class='ee-k'>precision:</span><span class='ee-v'>int</span></li></ul></li><li><label class='ee-shut'>dimensions: [1096, 1789]<input type='checkbox' class='ee-toggle'></label><ul><li><span class='ee-k'>0:</span><span class='ee-v'>1096</span></li><li><span class='ee-k'>1:</span><span class='ee-v'>1789</span></li></ul></li><li><label class='ee-shut'>origin: [1678, 3025]<input type='checkbox' class='ee-toggle'></label><ul><li><span class='ee-k'>0:</span><span class='ee-v'>1678</span></li><li><span class='ee-k'>1:</span><span class='ee-v'>3025</span></li></ul></li></ul></li><li><label class='ee-shut'>22: \"QA60\", unsigned int16, EPSG:32718, 366x597 px<input type='checkbox' class='ee-toggle'></label><ul><li><span class='ee-k'>id:</span><span class='ee-v'>QA60</span></li><li><span class='ee-k'>crs:</span><span class='ee-v'>EPSG:32718</span></li><li><label class='ee-shut'>crs_transform: [60, 0, 600000, 0, -60, 9600040]<input type='checkbox' class='ee-toggle'></label><ul><li><span class='ee-k'>0:</span><span class='ee-v'>60</span></li><li><span class='ee-k'>1:</span><span class='ee-v'>0</span></li><li><span class='ee-k'>2:</span><span class='ee-v'>600000</span></li><li><span class='ee-k'>3:</span><span class='ee-v'>0</span></li><li><span class='ee-k'>4:</span><span class='ee-v'>-60</span></li><li><span class='ee-k'>5:</span><span class='ee-v'>9600040</span></li></ul></li><li><label class='ee-shut'>data_type: unsigned int16<input type='checkbox' class='ee-toggle'></label><ul><li><span class='ee-k'>type:</span><span class='ee-v'>PixelType</span></li><li><span class='ee-k'>max:</span><span class='ee-v'>65535</span></li><li><span class='ee-k'>min:</span><span class='ee-v'>0</span></li><li><span class='ee-k'>precision:</span><span class='ee-v'>int</span></li></ul></li><li><label class='ee-shut'>dimensions: [366, 597]<input type='checkbox' class='ee-toggle'></label><ul><li><span class='ee-k'>0:</span><span class='ee-v'>366</span></li><li><span class='ee-k'>1:</span><span class='ee-v'>597</span></li></ul></li><li><label class='ee-shut'>origin: [559, 1008]<input type='checkbox' class='ee-toggle'></label><ul><li><span class='ee-k'>0:</span><span class='ee-v'>559</span></li><li><span class='ee-k'>1:</span><span class='ee-v'>1008</span></li></ul></li></ul></li><li><label class='ee-shut'>23: \"NDVI\", float, EPSG:32718, 2191x3576 px<input type='checkbox' class='ee-toggle'></label><ul><li><span class='ee-k'>id:</span><span class='ee-v'>NDVI</span></li><li><span class='ee-k'>crs:</span><span class='ee-v'>EPSG:32718</span></li><li><label class='ee-shut'>crs_transform: [10, 0, 600000, 0, -10, 9600040]<input type='checkbox' class='ee-toggle'></label><ul><li><span class='ee-k'>0:</span><span class='ee-v'>10</span></li><li><span class='ee-k'>1:</span><span class='ee-v'>0</span></li><li><span class='ee-k'>2:</span><span class='ee-v'>600000</span></li><li><span class='ee-k'>3:</span><span class='ee-v'>0</span></li><li><span class='ee-k'>4:</span><span class='ee-v'>-10</span></li><li><span class='ee-k'>5:</span><span class='ee-v'>9600040</span></li></ul></li><li><label class='ee-shut'>data_type: float<input type='checkbox' class='ee-toggle'></label><ul><li><span class='ee-k'>type:</span><span class='ee-v'>PixelType</span></li><li><span class='ee-k'>precision:</span><span class='ee-v'>float</span></li></ul></li><li><label class='ee-shut'>dimensions: [2191, 3576]<input type='checkbox' class='ee-toggle'></label><ul><li><span class='ee-k'>0:</span><span class='ee-v'>2191</span></li><li><span class='ee-k'>1:</span><span class='ee-v'>3576</span></li></ul></li><li><label class='ee-shut'>origin: [3356, 6051]<input type='checkbox' class='ee-toggle'></label><ul><li><span class='ee-k'>0:</span><span class='ee-v'>3356</span></li><li><span class='ee-k'>1:</span><span class='ee-v'>6051</span></li></ul></li></ul></li><li><label class='ee-shut'>24: \"EVI\", double, EPSG:32718, 2191x3576 px<input type='checkbox' class='ee-toggle'></label><ul><li><span class='ee-k'>id:</span><span class='ee-v'>EVI</span></li><li><span class='ee-k'>crs:</span><span class='ee-v'>EPSG:32718</span></li><li><label class='ee-shut'>crs_transform: [10, 0, 600000, 0, -10, 9600040]<input type='checkbox' class='ee-toggle'></label><ul><li><span class='ee-k'>0:</span><span class='ee-v'>10</span></li><li><span class='ee-k'>1:</span><span class='ee-v'>0</span></li><li><span class='ee-k'>2:</span><span class='ee-v'>600000</span></li><li><span class='ee-k'>3:</span><span class='ee-v'>0</span></li><li><span class='ee-k'>4:</span><span class='ee-v'>-10</span></li><li><span class='ee-k'>5:</span><span class='ee-v'>9600040</span></li></ul></li><li><label class='ee-shut'>data_type: double<input type='checkbox' class='ee-toggle'></label><ul><li><span class='ee-k'>type:</span><span class='ee-v'>PixelType</span></li><li><span class='ee-k'>precision:</span><span class='ee-v'>double</span></li></ul></li><li><label class='ee-shut'>dimensions: [2191, 3576]<input type='checkbox' class='ee-toggle'></label><ul><li><span class='ee-k'>0:</span><span class='ee-v'>2191</span></li><li><span class='ee-k'>1:</span><span class='ee-v'>3576</span></li></ul></li><li><label class='ee-shut'>origin: [3356, 6051]<input type='checkbox' class='ee-toggle'></label><ul><li><span class='ee-k'>0:</span><span class='ee-v'>3356</span></li><li><span class='ee-k'>1:</span><span class='ee-v'>6051</span></li></ul></li></ul></li><li><label class='ee-shut'>25: \"EVI_change\", double, EPSG:32718, 2191x3576 px<input type='checkbox' class='ee-toggle'></label><ul><li><span class='ee-k'>id:</span><span class='ee-v'>EVI_change</span></li><li><span class='ee-k'>crs:</span><span class='ee-v'>EPSG:32718</span></li><li><label class='ee-shut'>crs_transform: [10, 0, 600000, 0, -10, 9600040]<input type='checkbox' class='ee-toggle'></label><ul><li><span class='ee-k'>0:</span><span class='ee-v'>10</span></li><li><span class='ee-k'>1:</span><span class='ee-v'>0</span></li><li><span class='ee-k'>2:</span><span class='ee-v'>600000</span></li><li><span class='ee-k'>3:</span><span class='ee-v'>0</span></li><li><span class='ee-k'>4:</span><span class='ee-v'>-10</span></li><li><span class='ee-k'>5:</span><span class='ee-v'>9600040</span></li></ul></li><li><label class='ee-shut'>data_type: double<input type='checkbox' class='ee-toggle'></label><ul><li><span class='ee-k'>type:</span><span class='ee-v'>PixelType</span></li><li><span class='ee-k'>precision:</span><span class='ee-v'>double</span></li></ul></li><li><label class='ee-shut'>dimensions: [2191, 3576]<input type='checkbox' class='ee-toggle'></label><ul><li><span class='ee-k'>0:</span><span class='ee-v'>2191</span></li><li><span class='ee-k'>1:</span><span class='ee-v'>3576</span></li></ul></li><li><label class='ee-shut'>origin: [3356, 6051]<input type='checkbox' class='ee-toggle'></label><ul><li><span class='ee-k'>0:</span><span class='ee-v'>3356</span></li><li><span class='ee-k'>1:</span><span class='ee-v'>6051</span></li></ul></li></ul></li></ul></li><li><label class='ee-shut'>properties: Object (101 properties)<input type='checkbox' class='ee-toggle'></label><ul><li><span class='ee-k'>AOT_RETRIEVAL_ACCURACY:</span><span class='ee-v'>0</span></li><li><span class='ee-k'>AOT_RETRIEVAL_METHOD:</span><span class='ee-v'>SEN2COR_DDV</span></li><li><span class='ee-k'>BOA_ADD_OFFSET_B1:</span><span class='ee-v'>-1000</span></li><li><span class='ee-k'>BOA_ADD_OFFSET_B10:</span><span class='ee-v'>-1000</span></li><li><span class='ee-k'>BOA_ADD_OFFSET_B11:</span><span class='ee-v'>-1000</span></li><li><span class='ee-k'>BOA_ADD_OFFSET_B12:</span><span class='ee-v'>-1000</span></li><li><span class='ee-k'>BOA_ADD_OFFSET_B2:</span><span class='ee-v'>-1000</span></li><li><span class='ee-k'>BOA_ADD_OFFSET_B3:</span><span class='ee-v'>-1000</span></li><li><span class='ee-k'>BOA_ADD_OFFSET_B4:</span><span class='ee-v'>-1000</span></li><li><span class='ee-k'>BOA_ADD_OFFSET_B5:</span><span class='ee-v'>-1000</span></li><li><span class='ee-k'>BOA_ADD_OFFSET_B6:</span><span class='ee-v'>-1000</span></li><li><span class='ee-k'>BOA_ADD_OFFSET_B7:</span><span class='ee-v'>-1000</span></li><li><span class='ee-k'>BOA_ADD_OFFSET_B8:</span><span class='ee-v'>-1000</span></li><li><span class='ee-k'>BOA_ADD_OFFSET_B8A:</span><span class='ee-v'>-1000</span></li><li><span class='ee-k'>BOA_ADD_OFFSET_B9:</span><span class='ee-v'>-1000</span></li><li><span class='ee-k'>CLOUDY_PIXEL_OVER_LAND_PERCENTAGE:</span><span class='ee-v'>0.251178</span></li><li><span class='ee-k'>CLOUDY_PIXEL_PERCENTAGE:</span><span class='ee-v'>0.326276</span></li><li><span class='ee-k'>CLOUD_COVERAGE_ASSESSMENT:</span><span class='ee-v'>0.326276</span></li><li><span class='ee-k'>CLOUD_SHADOW_PERCENTAGE:</span><span class='ee-v'>0.401893</span></li><li><span class='ee-k'>DARK_FEATURES_PERCENTAGE:</span><span class='ee-v'>0.015544</span></li><li><span class='ee-k'>DATASTRIP_ID:</span><span class='ee-v'>S2A_OPER_MSI_L2A_DS_2APS_20230917T215602_S20230917T152113_N05.09</span></li><li><span class='ee-k'>DATATAKE_IDENTIFIER:</span><span class='ee-v'>GS2A_20230917T151711_043022_N05.09</span></li><li><span class='ee-k'>DATATAKE_TYPE:</span><span class='ee-v'>INS-NOBS</span></li><li><span class='ee-k'>DEGRADED_MSI_DATA_PERCENTAGE:</span><span class='ee-v'>0.0216</span></li><li><span class='ee-k'>FORMAT_CORRECTNESS:</span><span class='ee-v'>PASSED</span></li><li><span class='ee-k'>GENERAL_QUALITY:</span><span class='ee-v'>PASSED</span></li><li><span class='ee-k'>GENERATION_TIME:</span><span class='ee-v'>1694987762000</span></li><li><span class='ee-k'>GEOMETRIC_QUALITY:</span><span class='ee-v'>PASSED</span></li><li><span class='ee-k'>GRANULE_ID:</span><span class='ee-v'>L2A_T18MXA_A043022_20230917T152113</span></li><li><span class='ee-k'>GRANULE_MEAN_AOT:</span><span class='ee-v'>0.100394</span></li><li><span class='ee-k'>GRANULE_MEAN_WV:</span><span class='ee-v'>3.985187</span></li><li><span class='ee-k'>HIGH_PROBA_CLOUDS_PERCENTAGE:</span><span class='ee-v'>0.053981</span></li><li><span class='ee-k'>L2A_QUALITY:</span><span class='ee-v'>PASSED</span></li><li><span class='ee-k'>MEAN_INCIDENCE_AZIMUTH_ANGLE_B1:</span><span class='ee-v'>274.96113752576</span></li><li><span class='ee-k'>MEAN_INCIDENCE_AZIMUTH_ANGLE_B10:</span><span class='ee-v'>276.034201743785</span></li><li><span class='ee-k'>MEAN_INCIDENCE_AZIMUTH_ANGLE_B11:</span><span class='ee-v'>275.468531043025</span></li><li><span class='ee-k'>MEAN_INCIDENCE_AZIMUTH_ANGLE_B12:</span><span class='ee-v'>275.114251150191</span></li><li><span class='ee-k'>MEAN_INCIDENCE_AZIMUTH_ANGLE_B2:</span><span class='ee-v'>277.571735902361</span></li><li><span class='ee-k'>MEAN_INCIDENCE_AZIMUTH_ANGLE_B3:</span><span class='ee-v'>276.621682166996</span></li><li><span class='ee-k'>MEAN_INCIDENCE_AZIMUTH_ANGLE_B4:</span><span class='ee-v'>276.000733414481</span></li><li><span class='ee-k'>MEAN_INCIDENCE_AZIMUTH_ANGLE_B5:</span><span class='ee-v'>275.700297611837</span></li><li><span class='ee-k'>MEAN_INCIDENCE_AZIMUTH_ANGLE_B6:</span><span class='ee-v'>275.495143677879</span></li><li><span class='ee-k'>MEAN_INCIDENCE_AZIMUTH_ANGLE_B7:</span><span class='ee-v'>275.305349467448</span></li><li><span class='ee-k'>MEAN_INCIDENCE_AZIMUTH_ANGLE_B8:</span><span class='ee-v'>277.029271593923</span></li><li><span class='ee-k'>MEAN_INCIDENCE_AZIMUTH_ANGLE_B8A:</span><span class='ee-v'>275.16461328629</span></li><li><span class='ee-k'>MEAN_INCIDENCE_AZIMUTH_ANGLE_B9:</span><span class='ee-v'>274.853404148708</span></li><li><span class='ee-k'>MEAN_INCIDENCE_ZENITH_ANGLE_B1:</span><span class='ee-v'>5.36824261477628</span></li><li><span class='ee-k'>MEAN_INCIDENCE_ZENITH_ANGLE_B10:</span><span class='ee-v'>5.10041809337439</span></li><li><span class='ee-k'>MEAN_INCIDENCE_ZENITH_ANGLE_B11:</span><span class='ee-v'>5.20398442817374</span></li><li><span class='ee-k'>MEAN_INCIDENCE_ZENITH_ANGLE_B12:</span><span class='ee-v'>5.32999401319564</span></li><li><span class='ee-k'>MEAN_INCIDENCE_ZENITH_ANGLE_B2:</span><span class='ee-v'>4.96891072307217</span></li><li><span class='ee-k'>MEAN_INCIDENCE_ZENITH_ANGLE_B3:</span><span class='ee-v'>5.04449951709028</span></li><li><span class='ee-k'>MEAN_INCIDENCE_ZENITH_ANGLE_B4:</span><span class='ee-v'>5.11599249533057</span></li><li><span class='ee-k'>MEAN_INCIDENCE_ZENITH_ANGLE_B5:</span><span class='ee-v'>5.15250026892171</span></li><li><span class='ee-k'>MEAN_INCIDENCE_ZENITH_ANGLE_B6:</span><span class='ee-v'>5.2009294965624</span></li><li><span class='ee-k'>MEAN_INCIDENCE_ZENITH_ANGLE_B7:</span><span class='ee-v'>5.25321413751908</span></li><li><span class='ee-k'>MEAN_INCIDENCE_ZENITH_ANGLE_B8:</span><span class='ee-v'>5.0017171301562</span></li><li><span class='ee-k'>MEAN_INCIDENCE_ZENITH_ANGLE_B8A:</span><span class='ee-v'>5.30860624878269</span></li><li><span class='ee-k'>MEAN_INCIDENCE_ZENITH_ANGLE_B9:</span><span class='ee-v'>5.43145455193936</span></li><li><span class='ee-k'>MEAN_SOLAR_AZIMUTH_ANGLE:</span><span class='ee-v'>73.7841799603101</span></li><li><span class='ee-k'>MEAN_SOLAR_ZENITH_ANGLE:</span><span class='ee-v'>22.0778493089577</span></li><li><span class='ee-k'>MEDIUM_PROBA_CLOUDS_PERCENTAGE:</span><span class='ee-v'>0.271804</span></li><li><span class='ee-k'>MGRS_TILE:</span><span class='ee-v'>18MXA</span></li><li><span class='ee-k'>NODATA_PIXEL_PERCENTAGE:</span><span class='ee-v'>0</span></li><li><span class='ee-k'>NOT_VEGETATED_PERCENTAGE:</span><span class='ee-v'>1.493475</span></li><li><span class='ee-k'>OZONE_SOURCE:</span><span class='ee-v'>AUX_ECMWFT</span></li><li><span class='ee-k'>OZONE_VALUE:</span><span class='ee-v'>276.634541</span></li><li><span class='ee-k'>PROCESSING_BASELINE:</span><span class='ee-v'>05.09</span></li><li><span class='ee-k'>PRODUCT_ID:</span><span class='ee-v'>S2A_MSIL2A_20230917T151711_N0509_R125_T18MXA_20230917T215602</span></li><li><span class='ee-k'>RADIATIVE_TRANSFER_ACCURACY:</span><span class='ee-v'>0</span></li><li><span class='ee-k'>RADIOMETRIC_QUALITY:</span><span class='ee-v'>PASSED</span></li><li><span class='ee-k'>REFLECTANCE_CONVERSION_CORRECTION:</span><span class='ee-v'>0.988360576760938</span></li><li><span class='ee-k'>SATURATED_DEFECTIVE_PIXEL_PERCENTAGE:</span><span class='ee-v'>0</span></li><li><span class='ee-k'>SENSING_ORBIT_DIRECTION:</span><span class='ee-v'>DESCENDING</span></li><li><span class='ee-k'>SENSING_ORBIT_NUMBER:</span><span class='ee-v'>125</span></li><li><span class='ee-k'>SENSOR_QUALITY:</span><span class='ee-v'>PASSED</span></li><li><span class='ee-k'>SNOW_ICE_PERCENTAGE:</span><span class='ee-v'>0</span></li><li><span class='ee-k'>SOLAR_IRRADIANCE_B1:</span><span class='ee-v'>1884.69</span></li><li><span class='ee-k'>SOLAR_IRRADIANCE_B10:</span><span class='ee-v'>367.15</span></li><li><span class='ee-k'>SOLAR_IRRADIANCE_B11:</span><span class='ee-v'>245.59</span></li><li><span class='ee-k'>SOLAR_IRRADIANCE_B12:</span><span class='ee-v'>85.25</span></li><li><span class='ee-k'>SOLAR_IRRADIANCE_B2:</span><span class='ee-v'>1959.66</span></li><li><span class='ee-k'>SOLAR_IRRADIANCE_B3:</span><span class='ee-v'>1823.24</span></li><li><span class='ee-k'>SOLAR_IRRADIANCE_B4:</span><span class='ee-v'>1512.06</span></li><li><span class='ee-k'>SOLAR_IRRADIANCE_B5:</span><span class='ee-v'>1424.64</span></li><li><span class='ee-k'>SOLAR_IRRADIANCE_B6:</span><span class='ee-v'>1287.61</span></li><li><span class='ee-k'>SOLAR_IRRADIANCE_B7:</span><span class='ee-v'>1162.08</span></li><li><span class='ee-k'>SOLAR_IRRADIANCE_B8:</span><span class='ee-v'>1041.63</span></li><li><span class='ee-k'>SOLAR_IRRADIANCE_B8A:</span><span class='ee-v'>955.32</span></li><li><span class='ee-k'>SOLAR_IRRADIANCE_B9:</span><span class='ee-v'>812.92</span></li><li><span class='ee-k'>SPACECRAFT_NAME:</span><span class='ee-v'>Sentinel-2A</span></li><li><span class='ee-k'>THIN_CIRRUS_PERCENTAGE:</span><span class='ee-v'>0.000491</span></li><li><span class='ee-k'>UNCLASSIFIED_PERCENTAGE:</span><span class='ee-v'>0.26349</span></li><li><span class='ee-k'>VEGETATION_PERCENTAGE:</span><span class='ee-v'>94.682157</span></li><li><span class='ee-k'>WATER_PERCENTAGE:</span><span class='ee-v'>2.817167</span></li><li><span class='ee-k'>WATER_VAPOUR_RETRIEVAL_ACCURACY:</span><span class='ee-v'>0</span></li><li><span class='ee-k'>system:asset_size:</span><span class='ee-v'>1529803893</span></li><li><label class='ee-shut'>system:footprint: Polygon (126 vertices)<input type='checkbox' class='ee-toggle'></label><ul><li><span class='ee-k'>type:</span><span class='ee-v'>Polygon</span></li><li><label class='ee-shut'>coordinates: List (1 element)<input type='checkbox' class='ee-toggle'></label><ul><li><label class='ee-shut'>0: List (126 elements)<input type='checkbox' class='ee-toggle'></label><ul><li><label class='ee-shut'>0: [-73.70644351295583, -4.245527932001742]<input type='checkbox' class='ee-toggle'></label><ul><li><span class='ee-k'>0:</span><span class='ee-v'>-73.70644351295583</span></li><li><span class='ee-k'>1:</span><span class='ee-v'>-4.245527932001742</span></li></ul></li><li><label class='ee-shut'>1: [-73.70651840850482, -4.200305430535437]<input type='checkbox' class='ee-toggle'></label><ul><li><span class='ee-k'>0:</span><span class='ee-v'>-73.70651840850482</span></li><li><span class='ee-k'>1:</span><span class='ee-v'>-4.200305430535437</span></li></ul></li><li><label class='ee-shut'>2: [-73.70654430447145, -4.184554511085448]<input type='checkbox' class='ee-toggle'></label><ul><li><span class='ee-k'>0:</span><span class='ee-v'>-73.70654430447145</span></li><li><span class='ee-k'>1:</span><span class='ee-v'>-4.184554511085448</span></li></ul></li><li><label class='ee-shut'>3: [-73.75161724827645, -4.164970396995145]<input type='checkbox' class='ee-toggle'></label><ul><li><span class='ee-k'>0:</span><span class='ee-v'>-73.75161724827645</span></li><li><span class='ee-k'>1:</span><span class='ee-v'>-4.164970396995145</span></li></ul></li><li><label class='ee-shut'>4: [-73.79665879269554, -4.165040682138108]<input type='checkbox' class='ee-toggle'></label><ul><li><span class='ee-k'>0:</span><span class='ee-v'>-73.79665879269554</span></li><li><span class='ee-k'>1:</span><span class='ee-v'>-4.165040682138108</span></li></ul></li><li><label class='ee-shut'>5: [-73.79664603445022, -4.173428671936142]<input type='checkbox' class='ee-toggle'></label><ul><li><span class='ee-k'>0:</span><span class='ee-v'>-73.79664603445022</span></li><li><span class='ee-k'>1:</span><span class='ee-v'>-4.173428671936142</span></li></ul></li><li><label class='ee-shut'>6: [-73.79660475885693, -4.200449802790024]<input type='checkbox' class='ee-toggle'></label><ul><li><span class='ee-k'>0:</span><span class='ee-v'>-73.79660475885693</span></li><li><span class='ee-k'>1:</span><span class='ee-v'>-4.200449802790024</span></li></ul></li><li><label class='ee-shut'>7: [-73.79656849245288, -4.224047724686024]<input type='checkbox' class='ee-toggle'></label><ul><li><span class='ee-k'>0:</span><span class='ee-v'>-73.79656849245288</span></li><li><span class='ee-k'>1:</span><span class='ee-v'>-4.224047724686024</span></li></ul></li><li><label class='ee-shut'>8: [-73.7965350763306, -4.245673864084816]<input type='checkbox' class='ee-toggle'></label><ul><li><span class='ee-k'>0:</span><span class='ee-v'>-73.7965350763306</span></li><li><span class='ee-k'>1:</span><span class='ee-v'>-4.245673864084816</span></li></ul></li><li><label class='ee-shut'>9: [-73.79646464076079, -4.290897871296439]<input type='checkbox' class='ee-toggle'></label><ul><li><span class='ee-k'>0:</span><span class='ee-v'>-73.79646464076079</span></li><li><span class='ee-k'>1:</span><span class='ee-v'>-4.290897871296439</span></li></ul></li><li><label class='ee-shut'>10: [-73.79639345192926, -4.336121823852913]<input type='checkbox' class='ee-toggle'></label><ul><li><span class='ee-k'>0:</span><span class='ee-v'>-73.79639345192926</span></li><li><span class='ee-k'>1:</span><span class='ee-v'>-4.336121823852913</span></li></ul></li><li><label class='ee-shut'>11: [-73.7963849853264, -4.341468738571878]<input type='checkbox' class='ee-toggle'></label><ul><li><span class='ee-k'>0:</span><span class='ee-v'>-73.7963849853264</span></li><li><span class='ee-k'>1:</span><span class='ee-v'>-4.341468738571878</span></li></ul></li><li><label class='ee-shut'>12: [-73.79632150961547, -4.381345721182393]<input type='checkbox' class='ee-toggle'></label><ul><li><span class='ee-k'>0:</span><span class='ee-v'>-73.79632150961547</span></li><li><span class='ee-k'>1:</span><span class='ee-v'>-4.381345721182393</span></li></ul></li><li><label class='ee-shut'>13: [-73.79624881359646, -4.426569562713167]<input type='checkbox' class='ee-toggle'></label><ul><li><span class='ee-k'>0:</span><span class='ee-v'>-73.79624881359646</span></li><li><span class='ee-k'>1:</span><span class='ee-v'>-4.426569562713167</span></li></ul></li><li><label class='ee-shut'>14: [-73.79617536364692, -4.47179334787365]<input type='checkbox' class='ee-toggle'></label><ul><li><span class='ee-k'>0:</span><span class='ee-v'>-73.79617536364692</span></li><li><span class='ee-k'>1:</span><span class='ee-v'>-4.47179334787365</span></li></ul></li><li><label class='ee-shut'>15: [-73.75108754529599, -4.488332065999658]<input type='checkbox' class='ee-toggle'></label><ul><li><span class='ee-k'>0:</span><span class='ee-v'>-73.75108754529599</span></li><li><span class='ee-k'>1:</span><span class='ee-v'>-4.488332065999658</span></li></ul></li><li><label class='ee-shut'>16: [-73.74970249138407, -4.4870009486664415]<input type='checkbox' class='ee-toggle'></label><ul><li><span class='ee-k'>0:</span><span class='ee-v'>-73.74970249138407</span></li><li><span class='ee-k'>1:</span><span class='ee-v'>-4.4870009486664415</span></li></ul></li><li><label class='ee-shut'>17: [-73.74881151999165, -4.486441911395095]<input type='checkbox' class='ee-toggle'></label><ul><li><span class='ee-k'>0:</span><span class='ee-v'>-73.74881151999165</span></li><li><span class='ee-k'>1:</span><span class='ee-v'>-4.486441911395095</span></li></ul></li><li><label class='ee-shut'>18: [-73.74778101389151, -4.485794629948547]<input type='checkbox' class='ee-toggle'></label><ul><li><span class='ee-k'>0:</span><span class='ee-v'>-73.74778101389151</span></li><li><span class='ee-k'>1:</span><span class='ee-v'>-4.485794629948547</span></li></ul></li><li><label class='ee-shut'>19: [-73.74575957769454, -4.484760074053891]<input type='checkbox' class='ee-toggle'></label><ul><li><span class='ee-k'>0:</span><span class='ee-v'>-73.74575957769454</span></li><li><span class='ee-k'>1:</span><span class='ee-v'>-4.484760074053891</span></li></ul></li><li><label class='ee-shut'>20: [-73.74366352147801, -4.483888188450969]<input type='checkbox' class='ee-toggle'></label><ul><li><span class='ee-k'>0:</span><span class='ee-v'>-73.74366352147801</span></li><li><span class='ee-k'>1:</span><span class='ee-v'>-4.483888188450969</span></li></ul></li><li><label class='ee-shut'>21: [-73.74239725852446, -4.483511924161269]<input type='checkbox' class='ee-toggle'></label><ul><li><span class='ee-k'>0:</span><span class='ee-v'>-73.74239725852446</span></li><li><span class='ee-k'>1:</span><span class='ee-v'>-4.483511924161269</span></li></ul></li><li><label class='ee-shut'>22: [-73.74149318626301, -4.483242556240875]<input type='checkbox' class='ee-toggle'></label><ul><li><span class='ee-k'>0:</span><span class='ee-v'>-73.74149318626301</span></li><li><span class='ee-k'>1:</span><span class='ee-v'>-4.483242556240875</span></li></ul></li><li><label class='ee-shut'>23: [-73.740553870473, -4.4830302883816415]<input type='checkbox' class='ee-toggle'></label><ul><li><span class='ee-k'>0:</span><span class='ee-v'>-73.740553870473</span></li><li><span class='ee-k'>1:</span><span class='ee-v'>-4.4830302883816415</span></li></ul></li><li><label class='ee-shut'>24: [-73.73927664852665, -4.482741009497692]<input type='checkbox' class='ee-toggle'></label><ul><li><span class='ee-k'>0:</span><span class='ee-v'>-73.73927664852665</span></li><li><span class='ee-k'>1:</span><span class='ee-v'>-4.482741009497692</span></li></ul></li><li><label class='ee-shut'>25: [-73.73780383279085, -4.482420096426139]<input type='checkbox' class='ee-toggle'></label><ul><li><span class='ee-k'>0:</span><span class='ee-v'>-73.73780383279085</span></li><li><span class='ee-k'>1:</span><span class='ee-v'>-4.482420096426139</span></li></ul></li><li><label class='ee-shut'>26: [-73.73706053468318, -4.482257818081319]<input type='checkbox' class='ee-toggle'></label><ul><li><span class='ee-k'>0:</span><span class='ee-v'>-73.73706053468318</span></li><li><span class='ee-k'>1:</span><span class='ee-v'>-4.482257818081319</span></li></ul></li><li><label class='ee-shut'>27: [-73.73596340554424, -4.48205612561772]<input type='checkbox' class='ee-toggle'></label><ul><li><span class='ee-k'>0:</span><span class='ee-v'>-73.73596340554424</span></li><li><span class='ee-k'>1:</span><span class='ee-v'>-4.48205612561772</span></li></ul></li><li><label class='ee-shut'>28: [-73.73482744885148, -4.481846947879099]<input type='checkbox' class='ee-toggle'></label><ul><li><span class='ee-k'>0:</span><span class='ee-v'>-73.73482744885148</span></li><li><span class='ee-k'>1:</span><span class='ee-v'>-4.481846947879099</span></li></ul></li><li><label class='ee-shut'>29: [-73.73258580271076, -4.481490324039987]<input type='checkbox' class='ee-toggle'></label><ul><li><span class='ee-k'>0:</span><span class='ee-v'>-73.73258580271076</span></li><li><span class='ee-k'>1:</span><span class='ee-v'>-4.481490324039987</span></li></ul></li><li><label class='ee-shut'>30: [-73.73154995509378, -4.481290812169524]<input type='checkbox' class='ee-toggle'></label><ul><li><span class='ee-k'>0:</span><span class='ee-v'>-73.73154995509378</span></li><li><span class='ee-k'>1:</span><span class='ee-v'>-4.481290812169524</span></li></ul></li><li><label class='ee-shut'>31: [-73.73036194862735, -4.481061458890254]<input type='checkbox' class='ee-toggle'></label><ul><li><span class='ee-k'>0:</span><span class='ee-v'>-73.73036194862735</span></li><li><span class='ee-k'>1:</span><span class='ee-v'>-4.481061458890254</span></li></ul></li><li><label class='ee-shut'>32: [-73.72813416548473, -4.480614220433293]<input type='checkbox' class='ee-toggle'></label><ul><li><span class='ee-k'>0:</span><span class='ee-v'>-73.72813416548473</span></li><li><span class='ee-k'>1:</span><span class='ee-v'>-4.480614220433293</span></li></ul></li><li><label class='ee-shut'>33: [-73.72765935516014, -4.48054655459936]<input type='checkbox' class='ee-toggle'></label><ul><li><span class='ee-k'>0:</span><span class='ee-v'>-73.72765935516014</span></li><li><span class='ee-k'>1:</span><span class='ee-v'>-4.48054655459936</span></li></ul></li><li><label class='ee-shut'>34: [-73.72588688184207, -4.480293836765291]<input type='checkbox' class='ee-toggle'></label><ul><li><span class='ee-k'>0:</span><span class='ee-v'>-73.72588688184207</span></li><li><span class='ee-k'>1:</span><span class='ee-v'>-4.480293836765291</span></li></ul></li><li><label class='ee-shut'>35: [-73.7251957293642, -4.480259437846727]<input type='checkbox' class='ee-toggle'></label><ul><li><span class='ee-k'>0:</span><span class='ee-v'>-73.7251957293642</span></li><li><span class='ee-k'>1:</span><span class='ee-v'>-4.480259437846727</span></li></ul></li><li><label class='ee-shut'>36: [-73.72362518332044, -4.4801811743438025]<input type='checkbox' class='ee-toggle'></label><ul><li><span class='ee-k'>0:</span><span class='ee-v'>-73.72362518332044</span></li><li><span class='ee-k'>1:</span><span class='ee-v'>-4.4801811743438025</span></li></ul></li><li><label class='ee-shut'>37: [-73.72287959618178, -4.480200854909804]<input type='checkbox' class='ee-toggle'></label><ul><li><span class='ee-k'>0:</span><span class='ee-v'>-73.72287959618178</span></li><li><span class='ee-k'>1:</span><span class='ee-v'>-4.480200854909804</span></li></ul></li><li><label class='ee-shut'>38: [-73.72135570848036, -4.48024069915099]<input type='checkbox' class='ee-toggle'></label><ul><li><span class='ee-k'>0:</span><span class='ee-v'>-73.72135570848036</span></li><li><span class='ee-k'>1:</span><span class='ee-v'>-4.48024069915099</span></li></ul></li><li><label class='ee-shut'>39: [-73.71943216369692, -4.480321625512571]<input type='checkbox' class='ee-toggle'></label><ul><li><span class='ee-k'>0:</span><span class='ee-v'>-73.71943216369692</span></li><li><span class='ee-k'>1:</span><span class='ee-v'>-4.480321625512571</span></li></ul></li><li><label class='ee-shut'>40: [-73.71908572203861, -4.480336213056514]<input type='checkbox' class='ee-toggle'></label><ul><li><span class='ee-k'>0:</span><span class='ee-v'>-73.71908572203861</span></li><li><span class='ee-k'>1:</span><span class='ee-v'>-4.480336213056514</span></li></ul></li><li><label class='ee-shut'>41: [-73.71700283916486, -4.481146292757484]<input type='checkbox' class='ee-toggle'></label><ul><li><span class='ee-k'>0:</span><span class='ee-v'>-73.71700283916486</span></li><li><span class='ee-k'>1:</span><span class='ee-v'>-4.481146292757484</span></li></ul></li><li><label class='ee-shut'>42: [-73.71601884651129, -4.481345171034944]<input type='checkbox' class='ee-toggle'></label><ul><li><span class='ee-k'>0:</span><span class='ee-v'>-73.71601884651129</span></li><li><span class='ee-k'>1:</span><span class='ee-v'>-4.481345171034944</span></li></ul></li><li><label class='ee-shut'>43: [-73.71478035982169, -4.481594882415131]<input type='checkbox' class='ee-toggle'></label><ul><li><span class='ee-k'>0:</span><span class='ee-v'>-73.71478035982169</span></li><li><span class='ee-k'>1:</span><span class='ee-v'>-4.481594882415131</span></li></ul></li><li><label class='ee-shut'>44: [-73.71346028722132, -4.481603050291513]<input type='checkbox' class='ee-toggle'></label><ul><li><span class='ee-k'>0:</span><span class='ee-v'>-73.71346028722132</span></li><li><span class='ee-k'>1:</span><span class='ee-v'>-4.481603050291513</span></li></ul></li><li><label class='ee-shut'>45: [-73.71250916495588, -4.481608881466721]<input type='checkbox' class='ee-toggle'></label><ul><li><span class='ee-k'>0:</span><span class='ee-v'>-73.71250916495588</span></li><li><span class='ee-k'>1:</span><span class='ee-v'>-4.481608881466721</span></li></ul></li><li><label class='ee-shut'>46: [-73.71121524600525, -4.481606690208439]<input type='checkbox' class='ee-toggle'></label><ul><li><span class='ee-k'>0:</span><span class='ee-v'>-73.71121524600525</span></li><li><span class='ee-k'>1:</span><span class='ee-v'>-4.481606690208439</span></li></ul></li><li><label class='ee-shut'>47: [-73.71024286980528, -4.481604974007236]<input type='checkbox' class='ee-toggle'></label><ul><li><span class='ee-k'>0:</span><span class='ee-v'>-73.71024286980528</span></li><li><span class='ee-k'>1:</span><span class='ee-v'>-4.481604974007236</span></li></ul></li><li><label class='ee-shut'>48: [-73.70798057345189, -4.481429131182429]<input type='checkbox' class='ee-toggle'></label><ul><li><span class='ee-k'>0:</span><span class='ee-v'>-73.70798057345189</span></li><li><span class='ee-k'>1:</span><span class='ee-v'>-4.481429131182429</span></li></ul></li><li><label class='ee-shut'>49: [-73.70603999990816, -4.4812548464663475]<input type='checkbox' class='ee-toggle'></label><ul><li><span class='ee-k'>0:</span><span class='ee-v'>-73.70603999990816</span></li><li><span class='ee-k'>1:</span><span class='ee-v'>-4.4812548464663475</span></li></ul></li><li><label class='ee-shut'>50: [-73.7059638619137, -4.4812480186998815]<input type='checkbox' class='ee-toggle'></label><ul><li><span class='ee-k'>0:</span><span class='ee-v'>-73.7059638619137</span></li><li><span class='ee-k'>1:</span><span class='ee-v'>-4.4812480186998815</span></li></ul></li><li><label class='ee-shut'>51: [-73.70571895905348, -4.481225968583812]<input type='checkbox' class='ee-toggle'></label><ul><li><span class='ee-k'>0:</span><span class='ee-v'>-73.70571895905348</span></li><li><span class='ee-k'>1:</span><span class='ee-v'>-4.481225968583812</span></li></ul></li><li><label class='ee-shut'>52: [-73.70531997809951, -4.481190169098988]<input type='checkbox' class='ee-toggle'></label><ul><li><span class='ee-k'>0:</span><span class='ee-v'>-73.70531997809951</span></li><li><span class='ee-k'>1:</span><span class='ee-v'>-4.481190169098988</span></li></ul></li><li><label class='ee-shut'>53: [-73.70346077175077, -4.481023167197234]<input type='checkbox' class='ee-toggle'></label><ul><li><span class='ee-k'>0:</span><span class='ee-v'>-73.70346077175077</span></li><li><span class='ee-k'>1:</span><span class='ee-v'>-4.481023167197234</span></li></ul></li><li><label class='ee-shut'>54: [-73.7011932785949, -4.480937739572928]<input type='checkbox' class='ee-toggle'></label><ul><li><span class='ee-k'>0:</span><span class='ee-v'>-73.7011932785949</span></li><li><span class='ee-k'>1:</span><span class='ee-v'>-4.480937739572928</span></li></ul></li><li><label class='ee-shut'>55: [-73.69892614698026, -4.481006061176363]<input type='checkbox' class='ee-toggle'></label><ul><li><span class='ee-k'>0:</span><span class='ee-v'>-73.69892614698026</span></li><li><span class='ee-k'>1:</span><span class='ee-v'>-4.481006061176363</span></li></ul></li><li><label class='ee-shut'>56: [-73.69759285077252, -4.481056866792948]<input type='checkbox' class='ee-toggle'></label><ul><li><span class='ee-k'>0:</span><span class='ee-v'>-73.69759285077252</span></li><li><span class='ee-k'>1:</span><span class='ee-v'>-4.481056866792948</span></li></ul></li><li><label class='ee-shut'>57: [-73.69665529011687, -4.4810924578333715]<input type='checkbox' class='ee-toggle'></label><ul><li><span class='ee-k'>0:</span><span class='ee-v'>-73.69665529011687</span></li><li><span class='ee-k'>1:</span><span class='ee-v'>-4.4810924578333715</span></li></ul></li><li><label class='ee-shut'>58: [-73.69438934325424, -4.481205898871592]<input type='checkbox' class='ee-toggle'></label><ul><li><span class='ee-k'>0:</span><span class='ee-v'>-73.69438934325424</span></li><li><span class='ee-k'>1:</span><span class='ee-v'>-4.481205898871592</span></li></ul></li><li><label class='ee-shut'>59: [-73.69212345245468, -4.481237842590027]<input type='checkbox' class='ee-toggle'></label><ul><li><span class='ee-k'>0:</span><span class='ee-v'>-73.69212345245468</span></li><li><span class='ee-k'>1:</span><span class='ee-v'>-4.481237842590027</span></li></ul></li><li><label class='ee-shut'>60: [-73.68985744409937, -4.481134384230166]<input type='checkbox' class='ee-toggle'></label><ul><li><span class='ee-k'>0:</span><span class='ee-v'>-73.68985744409937</span></li><li><span class='ee-k'>1:</span><span class='ee-v'>-4.481134384230166</span></li></ul></li><li><label class='ee-shut'>61: [-73.68770992205634, -4.4809416827506485]<input type='checkbox' class='ee-toggle'></label><ul><li><span class='ee-k'>0:</span><span class='ee-v'>-73.68770992205634</span></li><li><span class='ee-k'>1:</span><span class='ee-v'>-4.4809416827506485</span></li></ul></li><li><label class='ee-shut'>62: [-73.6875990050001, -4.480931715560229]<input type='checkbox' class='ee-toggle'></label><ul><li><span class='ee-k'>0:</span><span class='ee-v'>-73.6875990050001</span></li><li><span class='ee-k'>1:</span><span class='ee-v'>-4.480931715560229</span></li></ul></li><li><label class='ee-shut'>63: [-73.68535614889957, -4.480583634495522]<input type='checkbox' class='ee-toggle'></label><ul><li><span class='ee-k'>0:</span><span class='ee-v'>-73.68535614889957</span></li><li><span class='ee-k'>1:</span><span class='ee-v'>-4.480583634495522</span></li></ul></li><li><label class='ee-shut'>64: [-73.68312942465121, -4.480136630679193]<input type='checkbox' class='ee-toggle'></label><ul><li><span class='ee-k'>0:</span><span class='ee-v'>-73.68312942465121</span></li><li><span class='ee-k'>1:</span><span class='ee-v'>-4.480136630679193</span></li></ul></li><li><label class='ee-shut'>65: [-73.68093447318127, -4.479562876067171]<input type='checkbox' class='ee-toggle'></label><ul><li><span class='ee-k'>0:</span><span class='ee-v'>-73.68093447318127</span></li><li><span class='ee-k'>1:</span><span class='ee-v'>-4.479562876067171</span></li></ul></li><li><label class='ee-shut'>66: [-73.67875930225387, -4.4789167966705365]<input type='checkbox' class='ee-toggle'></label><ul><li><span class='ee-k'>0:</span><span class='ee-v'>-73.67875930225387</span></li><li><span class='ee-k'>1:</span><span class='ee-v'>-4.4789167966705365</span></li></ul></li><li><label class='ee-shut'>67: [-73.67662943902413, -4.478135128529261]<input type='checkbox' class='ee-toggle'></label><ul><li><span class='ee-k'>0:</span><span class='ee-v'>-73.67662943902413</span></li><li><span class='ee-k'>1:</span><span class='ee-v'>-4.478135128529261</span></li></ul></li><li><label class='ee-shut'>68: [-73.67452393716952, -4.477290189190655]<input type='checkbox' class='ee-toggle'></label><ul><li><span class='ee-k'>0:</span><span class='ee-v'>-73.67452393716952</span></li><li><span class='ee-k'>1:</span><span class='ee-v'>-4.477290189190655</span></li></ul></li><li><label class='ee-shut'>69: [-73.67329130988502, -4.476745925844339]<input type='checkbox' class='ee-toggle'></label><ul><li><span class='ee-k'>0:</span><span class='ee-v'>-73.67329130988502</span></li><li><span class='ee-k'>1:</span><span class='ee-v'>-4.476745925844339</span></li></ul></li><li><label class='ee-shut'>70: [-73.672447229346, -4.476372761814433]<input type='checkbox' class='ee-toggle'></label><ul><li><span class='ee-k'>0:</span><span class='ee-v'>-73.672447229346</span></li><li><span class='ee-k'>1:</span><span class='ee-v'>-4.476372761814433</span></li></ul></li><li><label class='ee-shut'>71: [-73.67039486676285, -4.4754013796009815]<input type='checkbox' class='ee-toggle'></label><ul><li><span class='ee-k'>0:</span><span class='ee-v'>-73.67039486676285</span></li><li><span class='ee-k'>1:</span><span class='ee-v'>-4.4754013796009815</span></li></ul></li><li><label class='ee-shut'>72: [-73.66991467216454, -4.475182085872096]<input type='checkbox' class='ee-toggle'></label><ul><li><span class='ee-k'>0:</span><span class='ee-v'>-73.66991467216454</span></li><li><span class='ee-k'>1:</span><span class='ee-v'>-4.475182085872096</span></li></ul></li><li><label class='ee-shut'>73: [-73.66832732242706, -4.474457098565824]<input type='checkbox' class='ee-toggle'></label><ul><li><span class='ee-k'>0:</span><span class='ee-v'>-73.66832732242706</span></li><li><span class='ee-k'>1:</span><span class='ee-v'>-4.474457098565824</span></li></ul></li><li><label class='ee-shut'>74: [-73.66623261930617, -4.473585027879518]<input type='checkbox' class='ee-toggle'></label><ul><li><span class='ee-k'>0:</span><span class='ee-v'>-73.66623261930617</span></li><li><span class='ee-k'>1:</span><span class='ee-v'>-4.473585027879518</span></li></ul></li><li><label class='ee-shut'>75: [-73.6640801503208, -4.472866600581387]<input type='checkbox' class='ee-toggle'></label><ul><li><span class='ee-k'>0:</span><span class='ee-v'>-73.6640801503208</span></li><li><span class='ee-k'>1:</span><span class='ee-v'>-4.472866600581387</span></li></ul></li><li><label class='ee-shut'>76: [-73.66187381399985, -4.472338000179723]<input type='checkbox' class='ee-toggle'></label><ul><li><span class='ee-k'>0:</span><span class='ee-v'>-73.66187381399985</span></li><li><span class='ee-k'>1:</span><span class='ee-v'>-4.472338000179723</span></li></ul></li><li><label class='ee-shut'>77: [-73.65964020154851, -4.471945008614324]<input type='checkbox' class='ee-toggle'></label><ul><li><span class='ee-k'>0:</span><span class='ee-v'>-73.65964020154851</span></li><li><span class='ee-k'>1:</span><span class='ee-v'>-4.471945008614324</span></li></ul></li><li><label class='ee-shut'>78: [-73.65963803894721, -4.471944914211611]<input type='checkbox' class='ee-toggle'></label><ul><li><span class='ee-k'>0:</span><span class='ee-v'>-73.65963803894721</span></li><li><span class='ee-k'>1:</span><span class='ee-v'>-4.471944914211611</span></li></ul></li><li><label class='ee-shut'>79: [-73.65963740830497, -4.471944822613911]<input type='checkbox' class='ee-toggle'></label><ul><li><span class='ee-k'>0:</span><span class='ee-v'>-73.65963740830497</span></li><li><span class='ee-k'>1:</span><span class='ee-v'>-4.471944822613911</span></li></ul></li><li><label class='ee-shut'>80: [-73.65871073724571, -4.471902516402021]<input type='checkbox' class='ee-toggle'></label><ul><li><span class='ee-k'>0:</span><span class='ee-v'>-73.65871073724571</span></li><li><span class='ee-k'>1:</span><span class='ee-v'>-4.471902516402021</span></li></ul></li><li><label class='ee-shut'>81: [-73.65737452621731, -4.471841369459497]<input type='checkbox' class='ee-toggle'></label><ul><li><span class='ee-k'>0:</span><span class='ee-v'>-73.65737452621731</span></li><li><span class='ee-k'>1:</span><span class='ee-v'>-4.471841369459497</span></li></ul></li><li><label class='ee-shut'>82: [-73.65737407547692, -4.471841459075725]<input type='checkbox' class='ee-toggle'></label><ul><li><span class='ee-k'>0:</span><span class='ee-v'>-73.65737407547692</span></li><li><span class='ee-k'>1:</span><span class='ee-v'>-4.471841459075725</span></li></ul></li><li><label class='ee-shut'>83: [-73.65737155241767, -4.47184136400539]<input type='checkbox' class='ee-toggle'></label><ul><li><span class='ee-k'>0:</span><span class='ee-v'>-73.65737155241767</span></li><li><span class='ee-k'>1:</span><span class='ee-v'>-4.47184136400539</span></li></ul></li><li><label class='ee-shut'>84: [-73.65513611190423, -4.472207985833637]<input type='checkbox' class='ee-toggle'></label><ul><li><span class='ee-k'>0:</span><span class='ee-v'>-73.65513611190423</span></li><li><span class='ee-k'>1:</span><span class='ee-v'>-4.472207985833637</span></li></ul></li><li><label class='ee-shut'>85: [-73.65290900960902, -4.472647060143798]<input type='checkbox' class='ee-toggle'></label><ul><li><span class='ee-k'>0:</span><span class='ee-v'>-73.65290900960902</span></li><li><span class='ee-k'>1:</span><span class='ee-v'>-4.472647060143798</span></li></ul></li><li><label class='ee-shut'>86: [-73.6520898189253, -4.472522188114017]<input type='checkbox' class='ee-toggle'></label><ul><li><span class='ee-k'>0:</span><span class='ee-v'>-73.6520898189253</span></li><li><span class='ee-k'>1:</span><span class='ee-v'>-4.472522188114017</span></li></ul></li><li><label class='ee-shut'>87: [-73.65068819588525, -4.472308602874048]<input type='checkbox' class='ee-toggle'></label><ul><li><span class='ee-k'>0:</span><span class='ee-v'>-73.65068819588525</span></li><li><span class='ee-k'>1:</span><span class='ee-v'>-4.472308602874048</span></li></ul></li><li><label class='ee-shut'>88: [-73.6487274016014, -4.471165137744553]<input type='checkbox' class='ee-toggle'></label><ul><li><span class='ee-k'>0:</span><span class='ee-v'>-73.6487274016014</span></li><li><span class='ee-k'>1:</span><span class='ee-v'>-4.471165137744553</span></li></ul></li><li><label class='ee-shut'>89: [-73.64692683490026, -4.469778041704015]<input type='checkbox' class='ee-toggle'></label><ul><li><span class='ee-k'>0:</span><span class='ee-v'>-73.64692683490026</span></li><li><span class='ee-k'>1:</span><span class='ee-v'>-4.469778041704015</span></li></ul></li><li><label class='ee-shut'>90: [-73.64499662925209, -4.468571678838533]<input type='checkbox' class='ee-toggle'></label><ul><li><span class='ee-k'>0:</span><span class='ee-v'>-73.64499662925209</span></li><li><span class='ee-k'>1:</span><span class='ee-v'>-4.468571678838533</span></li></ul></li><li><label class='ee-shut'>91: [-73.64312052470142, -4.4678907928150595]<input type='checkbox' class='ee-toggle'></label><ul><li><span class='ee-k'>0:</span><span class='ee-v'>-73.64312052470142</span></li><li><span class='ee-k'>1:</span><span class='ee-v'>-4.4678907928150595</span></li></ul></li><li><label class='ee-shut'>92: [-73.64167178942206, -4.467480575269855]<input type='checkbox' class='ee-toggle'></label><ul><li><span class='ee-k'>0:</span><span class='ee-v'>-73.64167178942206</span></li><li><span class='ee-k'>1:</span><span class='ee-v'>-4.467480575269855</span></li></ul></li><li><label class='ee-shut'>93: [-73.64067840592179, -4.467215998249145]<input type='checkbox' class='ee-toggle'></label><ul><li><span class='ee-k'>0:</span><span class='ee-v'>-73.64067840592179</span></li><li><span class='ee-k'>1:</span><span class='ee-v'>-4.467215998249145</span></li></ul></li><li><label class='ee-shut'>94: [-73.63843538319364, -4.466868424975319]<input type='checkbox' class='ee-toggle'></label><ul><li><span class='ee-k'>0:</span><span class='ee-v'>-73.63843538319364</span></li><li><span class='ee-k'>1:</span><span class='ee-v'>-4.466868424975319</span></li></ul></li><li><label class='ee-shut'>95: [-73.63616940527771, -4.466900388411386]<input type='checkbox' class='ee-toggle'></label><ul><li><span class='ee-k'>0:</span><span class='ee-v'>-73.63616940527771</span></li><li><span class='ee-k'>1:</span><span class='ee-v'>-4.466900388411386</span></li></ul></li><li><label class='ee-shut'>96: [-73.63392113773378, -4.467248291882181]<input type='checkbox' class='ee-toggle'></label><ul><li><span class='ee-k'>0:</span><span class='ee-v'>-73.63392113773378</span></li><li><span class='ee-k'>1:</span><span class='ee-v'>-4.467248291882181</span></li></ul></li><li><label class='ee-shut'>97: [-73.63172909062652, -4.467796350420927]<input type='checkbox' class='ee-toggle'></label><ul><li><span class='ee-k'>0:</span><span class='ee-v'>-73.63172909062652</span></li><li><span class='ee-k'>1:</span><span class='ee-v'>-4.467796350420927</span></li></ul></li><li><label class='ee-shut'>98: [-73.62951659750591, -4.468289826686977]<input type='checkbox' class='ee-toggle'></label><ul><li><span class='ee-k'>0:</span><span class='ee-v'>-73.62951659750591</span></li><li><span class='ee-k'>1:</span><span class='ee-v'>-4.468289826686977</span></li></ul></li><li><label class='ee-shut'>99: [-73.62725825656443, -4.468529701071753]<input type='checkbox' class='ee-toggle'></label><ul><li><span class='ee-k'>0:</span><span class='ee-v'>-73.62725825656443</span></li><li><span class='ee-k'>1:</span><span class='ee-v'>-4.468529701071753</span></li></ul></li><li><label class='ee-shut'>100: [-73.62499236907237, -4.468660842929837]<input type='checkbox' class='ee-toggle'></label><ul><li><span class='ee-k'>0:</span><span class='ee-v'>-73.62499236907237</span></li><li><span class='ee-k'>1:</span><span class='ee-v'>-4.468660842929837</span></li></ul></li><li><label class='ee-shut'>101: [-73.62272639776242, -4.4686927628997]<input type='checkbox' class='ee-toggle'></label><ul><li><span class='ee-k'>0:</span><span class='ee-v'>-73.62272639776242</span></li><li><span class='ee-k'>1:</span><span class='ee-v'>-4.4686927628997</span></li></ul></li><li><label class='ee-shut'>102: [-73.62081570293623, -4.468458813491792]<input type='checkbox' class='ee-toggle'></label><ul><li><span class='ee-k'>0:</span><span class='ee-v'>-73.62081570293623</span></li><li><span class='ee-k'>1:</span><span class='ee-v'>-4.468458813491792</span></li></ul></li><li><label class='ee-shut'>103: [-73.62085456042063, -4.447618884813608]<input type='checkbox' class='ee-toggle'></label><ul><li><span class='ee-k'>0:</span><span class='ee-v'>-73.62085456042063</span></li><li><span class='ee-k'>1:</span><span class='ee-v'>-4.447618884813608</span></li></ul></li><li><label class='ee-shut'>104: [-73.60445526034653, -4.4475879725503225]<input type='checkbox' class='ee-toggle'></label><ul><li><span class='ee-k'>0:</span><span class='ee-v'>-73.60445526034653</span></li><li><span class='ee-k'>1:</span><span class='ee-v'>-4.4475879725503225</span></li></ul></li><li><label class='ee-shut'>105: [-73.5988622633844, -4.432077513760651]<input type='checkbox' class='ee-toggle'></label><ul><li><span class='ee-k'>0:</span><span class='ee-v'>-73.5988622633844</span></li><li><span class='ee-k'>1:</span><span class='ee-v'>-4.432077513760651</span></li></ul></li><li><label class='ee-shut'>106: [-73.62088334211315, -4.4321189623806205]<input type='checkbox' class='ee-toggle'></label><ul><li><span class='ee-k'>0:</span><span class='ee-v'>-73.62088334211315</span></li><li><span class='ee-k'>1:</span><span class='ee-v'>-4.4321189623806205</span></li></ul></li><li><label class='ee-shut'>107: [-73.6209471707229, -4.3975481991966605]<input type='checkbox' class='ee-toggle'></label><ul><li><span class='ee-k'>0:</span><span class='ee-v'>-73.6209471707229</span></li><li><span class='ee-k'>1:</span><span class='ee-v'>-4.3975481991966605</span></li></ul></li><li><label class='ee-shut'>108: [-73.63536397793573, -4.397574770837496]<input type='checkbox' class='ee-toggle'></label><ul><li><span class='ee-k'>0:</span><span class='ee-v'>-73.63536397793573</span></li><li><span class='ee-k'>1:</span><span class='ee-v'>-4.397574770837496</span></li></ul></li><li><label class='ee-shut'>109: [-73.63539760164353, -4.379058763260627]<input type='checkbox' class='ee-toggle'></label><ul><li><span class='ee-k'>0:</span><span class='ee-v'>-73.63539760164353</span></li><li><span class='ee-k'>1:</span><span class='ee-v'>-4.379058763260627</span></li></ul></li><li><label class='ee-shut'>110: [-73.66013148137458, -4.3791035111058925]<input type='checkbox' class='ee-toggle'></label><ul><li><span class='ee-k'>0:</span><span class='ee-v'>-73.66013148137458</span></li><li><span class='ee-k'>1:</span><span class='ee-v'>-4.3791035111058925</span></li></ul></li><li><label class='ee-shut'>111: [-73.661186750047, -4.366839936498773]<input type='checkbox' class='ee-toggle'></label><ul><li><span class='ee-k'>0:</span><span class='ee-v'>-73.661186750047</span></li><li><span class='ee-k'>1:</span><span class='ee-v'>-4.366839936498773</span></li></ul></li><li><label class='ee-shut'>112: [-73.66715289862839, -4.297483771434617]<input type='checkbox' class='ee-toggle'></label><ul><li><span class='ee-k'>0:</span><span class='ee-v'>-73.66715289862839</span></li><li><span class='ee-k'>1:</span><span class='ee-v'>-4.297483771434617</span></li></ul></li><li><label class='ee-shut'>113: [-73.67925833668968, -4.297490391713284]<input type='checkbox' class='ee-toggle'></label><ul><li><span class='ee-k'>0:</span><span class='ee-v'>-73.67925833668968</span></li><li><span class='ee-k'>1:</span><span class='ee-v'>-4.297490391713284</span></li></ul></li><li><label class='ee-shut'>114: [-73.67926652168201, -4.2927317791679505]<input type='checkbox' class='ee-toggle'></label><ul><li><span class='ee-k'>0:</span><span class='ee-v'>-73.67926652168201</span></li><li><span class='ee-k'>1:</span><span class='ee-v'>-4.2927317791679505</span></li></ul></li><li><label class='ee-shut'>115: [-73.70636438638385, -4.292782946040173]<input type='checkbox' class='ee-toggle'></label><ul><li><span class='ee-k'>0:</span><span class='ee-v'>-73.70636438638385</span></li><li><span class='ee-k'>1:</span><span class='ee-v'>-4.292782946040173</span></li></ul></li><li><label class='ee-shut'>116: [-73.72694072069217, -4.285378957796191]<input type='checkbox' class='ee-toggle'></label><ul><li><span class='ee-k'>0:</span><span class='ee-v'>-73.72694072069217</span></li><li><span class='ee-k'>1:</span><span class='ee-v'>-4.285378957796191</span></li></ul></li><li><label class='ee-shut'>117: [-73.75141258828562, -4.292822873641741]<input type='checkbox' class='ee-toggle'></label><ul><li><span class='ee-k'>0:</span><span class='ee-v'>-73.75141258828562</span></li><li><span class='ee-k'>1:</span><span class='ee-v'>-4.292822873641741</span></li></ul></li><li><label class='ee-shut'>118: [-73.75399153150043, -4.292825103247114]<input type='checkbox' class='ee-toggle'></label><ul><li><span class='ee-k'>0:</span><span class='ee-v'>-73.75399153150043</span></li><li><span class='ee-k'>1:</span><span class='ee-v'>-4.292825103247114</span></li></ul></li><li><label class='ee-shut'>119: [-73.76290911877882, -4.288345492600839]<input type='checkbox' class='ee-toggle'></label><ul><li><span class='ee-k'>0:</span><span class='ee-v'>-73.76290911877882</span></li><li><span class='ee-k'>1:</span><span class='ee-v'>-4.288345492600839</span></li></ul></li><li><label class='ee-shut'>120: [-73.76291732108112, -4.2863824427238955]<input type='checkbox' class='ee-toggle'></label><ul><li><span class='ee-k'>0:</span><span class='ee-v'>-73.76291732108112</span></li><li><span class='ee-k'>1:</span><span class='ee-v'>-4.2863824427238955</span></li></ul></li><li><label class='ee-shut'>121: [-73.75143211852038, -4.280788522871085]<input type='checkbox' class='ee-toggle'></label><ul><li><span class='ee-k'>0:</span><span class='ee-v'>-73.75143211852038</span></li><li><span class='ee-k'>1:</span><span class='ee-v'>-4.280788522871085</span></li></ul></li><li><label class='ee-shut'>122: [-73.73430088524701, -4.2645813501288625]<input type='checkbox' class='ee-toggle'></label><ul><li><span class='ee-k'>0:</span><span class='ee-v'>-73.73430088524701</span></li><li><span class='ee-k'>1:</span><span class='ee-v'>-4.2645813501288625</span></li></ul></li><li><label class='ee-shut'>123: [-73.7242540051786, -4.2645516887155885]<input type='checkbox' class='ee-toggle'></label><ul><li><span class='ee-k'>0:</span><span class='ee-v'>-73.7242540051786</span></li><li><span class='ee-k'>1:</span><span class='ee-v'>-4.2645516887155885</span></li></ul></li><li><label class='ee-shut'>124: [-73.70639795371522, -4.272800691995381]<input type='checkbox' class='ee-toggle'></label><ul><li><span class='ee-k'>0:</span><span class='ee-v'>-73.70639795371522</span></li><li><span class='ee-k'>1:</span><span class='ee-v'>-4.272800691995381</span></li></ul></li><li><label class='ee-shut'>125: [-73.70644351295583, -4.245527932001742]<input type='checkbox' class='ee-toggle'></label><ul><li><span class='ee-k'>0:</span><span class='ee-v'>-73.70644351295583</span></li><li><span class='ee-k'>1:</span><span class='ee-v'>-4.245527932001742</span></li></ul></li></ul></li></ul></li></ul></li><li><span class='ee-k'>system:index:</span><span class='ee-v'>20230917T151711_20230917T152113_T18MXA</span></li><li><span class='ee-k'>system:time_end:</span><span class='ee-v'>1694964255236</span></li><li><span class='ee-k'>system:time_start:</span><span class='ee-v'>1694964255236</span></li></ul></li></ul></li></ul></div><script>function toggleHeader() {\n",
              "    const parent = this.parentElement;\n",
              "    parent.className = parent.className === \"ee-open\" ? \"ee-shut\" : \"ee-open\";\n",
              "}\n",
              "\n",
              "for (let c of document.getElementsByClassName(\"ee-toggle\")) {\n",
              "    c.onclick = toggleHeader;\n",
              "}</script></div>"
            ]
          },
          "metadata": {},
          "execution_count": 117
        }
      ]
    },
    {
      "cell_type": "code",
      "source": [
        "image2_with_changes= image2_change_EVI.addBands(image1_ndvi_evi.select('NDVI').subtract(image2_ndvi_evi.select('NDVI')).rename('NDVI_change'))"
      ],
      "metadata": {
        "id": "T1p2_Xf8D_pG",
        "outputId": "62bc941e-f40a-40eb-f17f-0358b605a6f0",
        "colab": {
          "base_uri": "https://localhost:8080/",
          "height": 17
        }
      },
      "execution_count": 118,
      "outputs": [
        {
          "output_type": "display_data",
          "data": {
            "text/plain": [
              "<IPython.core.display.HTML object>"
            ],
            "text/html": [
              "\n",
              "            <style>\n",
              "                .geemap-dark {\n",
              "                    --jp-widgets-color: white;\n",
              "                    --jp-widgets-label-color: white;\n",
              "                    --jp-ui-font-color1: white;\n",
              "                    --jp-layout-color2: #454545;\n",
              "                    background-color: #383838;\n",
              "                }\n",
              "                    \n",
              "                .geemap-dark .jupyter-button {\n",
              "                    --jp-layout-color3: #383838;\n",
              "                }\n",
              "                \n",
              "                .geemap-colab {\n",
              "                    background-color: var(--colab-primary-surface-color, white);\n",
              "                }\n",
              "                    \n",
              "                .geemap-colab .jupyter-button {\n",
              "                    --jp-layout-color3: var(--colab-primary-surface-color, white);\n",
              "                }\n",
              "            </style>\n",
              "            "
            ]
          },
          "metadata": {}
        }
      ]
    },
    {
      "cell_type": "code",
      "source": [
        "image2_with_changes"
      ],
      "metadata": {
        "collapsed": true,
        "id": "dhHDXi_-DttK",
        "outputId": "bb126ac9-00f5-410a-d209-c99eb75c84ab",
        "colab": {
          "base_uri": "https://localhost:8080/",
          "height": 647
        }
      },
      "execution_count": 119,
      "outputs": [
        {
          "output_type": "display_data",
          "data": {
            "text/plain": [
              "<IPython.core.display.HTML object>"
            ],
            "text/html": [
              "\n",
              "            <style>\n",
              "                .geemap-dark {\n",
              "                    --jp-widgets-color: white;\n",
              "                    --jp-widgets-label-color: white;\n",
              "                    --jp-ui-font-color1: white;\n",
              "                    --jp-layout-color2: #454545;\n",
              "                    background-color: #383838;\n",
              "                }\n",
              "                    \n",
              "                .geemap-dark .jupyter-button {\n",
              "                    --jp-layout-color3: #383838;\n",
              "                }\n",
              "                \n",
              "                .geemap-colab {\n",
              "                    background-color: var(--colab-primary-surface-color, white);\n",
              "                }\n",
              "                    \n",
              "                .geemap-colab .jupyter-button {\n",
              "                    --jp-layout-color3: var(--colab-primary-surface-color, white);\n",
              "                }\n",
              "            </style>\n",
              "            "
            ]
          },
          "metadata": {}
        },
        {
          "output_type": "execute_result",
          "data": {
            "text/plain": [
              "<ee.image.Image at 0x79fec6ae74c0>"
            ],
            "text/html": [
              "<div><style>:root {\n",
              "  --font-color-primary: var(--jp-content-font-color0, rgba(0, 0, 0, 1));\n",
              "  --font-color-secondary: var(--jp-content-font-color2, rgba(0, 0, 0, 0.6));\n",
              "  --font-color-accent: rgba(123, 31, 162, 1);\n",
              "  --border-color: var(--jp-border-color2, #e0e0e0);\n",
              "  --background-color: var(--jp-layout-color0, white);\n",
              "  --background-color-row-even: var(--jp-layout-color1, white);\n",
              "  --background-color-row-odd: var(--jp-layout-color2, #eeeeee);\n",
              "}\n",
              "\n",
              "html[theme=\"dark\"],\n",
              "body[data-theme=\"dark\"],\n",
              "body.vscode-dark {\n",
              "  --font-color-primary: rgba(255, 255, 255, 1);\n",
              "  --font-color-secondary: rgba(255, 255, 255, 0.6);\n",
              "  --font-color-accent: rgb(173, 132, 190);\n",
              "  --border-color: #2e2e2e;\n",
              "  --background-color: #111111;\n",
              "  --background-color-row-even: #111111;\n",
              "  --background-color-row-odd: #313131;\n",
              "}\n",
              "\n",
              ".ee {\n",
              "  padding: 1em;\n",
              "  line-height: 1.5em;\n",
              "  min-width: 300px;\n",
              "  max-width: 1200px;\n",
              "  overflow-y: scroll;\n",
              "  max-height: 600px;\n",
              "  border: 1px solid var(--border-color);\n",
              "  font-family: monospace;\n",
              "}\n",
              "\n",
              ".ee li {\n",
              "  list-style-type: none;\n",
              "}\n",
              "\n",
              ".ee ul {\n",
              "  padding-left: 1.5em !important;\n",
              "  margin: 0;\n",
              "}\n",
              "\n",
              ".ee > ul {\n",
              "  padding-left: 0 !important;\n",
              "}\n",
              "\n",
              ".ee-open,\n",
              ".ee-shut {\n",
              "  color: var(--font-color-secondary);\n",
              "  cursor: pointer;\n",
              "  margin: 0;\n",
              "}\n",
              "\n",
              ".ee-open:hover,\n",
              ".ee-shut:hover {\n",
              "  color: var(--font-color-primary);\n",
              "}\n",
              "\n",
              ".ee-k {\n",
              "  color: var(--font-color-accent);\n",
              "  margin-right: 6px;\n",
              "}\n",
              "\n",
              ".ee-v {\n",
              "  color: var(--font-color-primary);\n",
              "}\n",
              "\n",
              ".ee-toggle {\n",
              "  display: none;\n",
              "}\n",
              "\n",
              ".ee-shut + ul {\n",
              "  display: none;\n",
              "}\n",
              "\n",
              ".ee-open + ul {\n",
              "  display: block;\n",
              "}\n",
              "\n",
              ".ee-shut::before {\n",
              "  display: inline-block;\n",
              "  content: \"▼\";\n",
              "  margin-right: 6px;\n",
              "  transform: rotate(-90deg);\n",
              "  transition: transform 0.2s;\n",
              "}\n",
              "\n",
              ".ee-open::before {\n",
              "  transform: rotate(0deg);\n",
              "  display: inline-block;\n",
              "  content: \"▼\";\n",
              "  margin-right: 6px;\n",
              "  transition: transform 0.2s;\n",
              "}\n",
              "</style><div class='ee'><ul><li><label class='ee-shut'>Image COPERNICUS/S2_SR_HARMONIZED/20230917T151711_20230917T152113_T18MXA (27 bands)<input type='checkbox' class='ee-toggle'></label><ul><li><span class='ee-k'>type:</span><span class='ee-v'>Image</span></li><li><span class='ee-k'>id:</span><span class='ee-v'>COPERNICUS/S2_SR_HARMONIZED/20230917T151711_20230917T152113_T18MXA</span></li><li><span class='ee-k'>version:</span><span class='ee-v'>1708374657471683</span></li><li><label class='ee-shut'>bands: List (27 elements)<input type='checkbox' class='ee-toggle'></label><ul><li><label class='ee-shut'>0: \"B1\", unsigned int16, EPSG:32718, 366x597 px<input type='checkbox' class='ee-toggle'></label><ul><li><span class='ee-k'>id:</span><span class='ee-v'>B1</span></li><li><span class='ee-k'>crs:</span><span class='ee-v'>EPSG:32718</span></li><li><label class='ee-shut'>crs_transform: [60, 0, 600000, 0, -60, 9600040]<input type='checkbox' class='ee-toggle'></label><ul><li><span class='ee-k'>0:</span><span class='ee-v'>60</span></li><li><span class='ee-k'>1:</span><span class='ee-v'>0</span></li><li><span class='ee-k'>2:</span><span class='ee-v'>600000</span></li><li><span class='ee-k'>3:</span><span class='ee-v'>0</span></li><li><span class='ee-k'>4:</span><span class='ee-v'>-60</span></li><li><span class='ee-k'>5:</span><span class='ee-v'>9600040</span></li></ul></li><li><label class='ee-shut'>data_type: unsigned int16<input type='checkbox' class='ee-toggle'></label><ul><li><span class='ee-k'>type:</span><span class='ee-v'>PixelType</span></li><li><span class='ee-k'>max:</span><span class='ee-v'>65535</span></li><li><span class='ee-k'>min:</span><span class='ee-v'>0</span></li><li><span class='ee-k'>precision:</span><span class='ee-v'>int</span></li></ul></li><li><label class='ee-shut'>dimensions: [366, 597]<input type='checkbox' class='ee-toggle'></label><ul><li><span class='ee-k'>0:</span><span class='ee-v'>366</span></li><li><span class='ee-k'>1:</span><span class='ee-v'>597</span></li></ul></li><li><label class='ee-shut'>origin: [559, 1008]<input type='checkbox' class='ee-toggle'></label><ul><li><span class='ee-k'>0:</span><span class='ee-v'>559</span></li><li><span class='ee-k'>1:</span><span class='ee-v'>1008</span></li></ul></li></ul></li><li><label class='ee-shut'>1: \"B2\", unsigned int16, EPSG:32718, 2191x3576 px<input type='checkbox' class='ee-toggle'></label><ul><li><span class='ee-k'>id:</span><span class='ee-v'>B2</span></li><li><span class='ee-k'>crs:</span><span class='ee-v'>EPSG:32718</span></li><li><label class='ee-shut'>crs_transform: [10, 0, 600000, 0, -10, 9600040]<input type='checkbox' class='ee-toggle'></label><ul><li><span class='ee-k'>0:</span><span class='ee-v'>10</span></li><li><span class='ee-k'>1:</span><span class='ee-v'>0</span></li><li><span class='ee-k'>2:</span><span class='ee-v'>600000</span></li><li><span class='ee-k'>3:</span><span class='ee-v'>0</span></li><li><span class='ee-k'>4:</span><span class='ee-v'>-10</span></li><li><span class='ee-k'>5:</span><span class='ee-v'>9600040</span></li></ul></li><li><label class='ee-shut'>data_type: unsigned int16<input type='checkbox' class='ee-toggle'></label><ul><li><span class='ee-k'>type:</span><span class='ee-v'>PixelType</span></li><li><span class='ee-k'>max:</span><span class='ee-v'>65535</span></li><li><span class='ee-k'>min:</span><span class='ee-v'>0</span></li><li><span class='ee-k'>precision:</span><span class='ee-v'>int</span></li></ul></li><li><label class='ee-shut'>dimensions: [2191, 3576]<input type='checkbox' class='ee-toggle'></label><ul><li><span class='ee-k'>0:</span><span class='ee-v'>2191</span></li><li><span class='ee-k'>1:</span><span class='ee-v'>3576</span></li></ul></li><li><label class='ee-shut'>origin: [3356, 6051]<input type='checkbox' class='ee-toggle'></label><ul><li><span class='ee-k'>0:</span><span class='ee-v'>3356</span></li><li><span class='ee-k'>1:</span><span class='ee-v'>6051</span></li></ul></li></ul></li><li><label class='ee-shut'>2: \"B3\", unsigned int16, EPSG:32718, 2191x3576 px<input type='checkbox' class='ee-toggle'></label><ul><li><span class='ee-k'>id:</span><span class='ee-v'>B3</span></li><li><span class='ee-k'>crs:</span><span class='ee-v'>EPSG:32718</span></li><li><label class='ee-shut'>crs_transform: [10, 0, 600000, 0, -10, 9600040]<input type='checkbox' class='ee-toggle'></label><ul><li><span class='ee-k'>0:</span><span class='ee-v'>10</span></li><li><span class='ee-k'>1:</span><span class='ee-v'>0</span></li><li><span class='ee-k'>2:</span><span class='ee-v'>600000</span></li><li><span class='ee-k'>3:</span><span class='ee-v'>0</span></li><li><span class='ee-k'>4:</span><span class='ee-v'>-10</span></li><li><span class='ee-k'>5:</span><span class='ee-v'>9600040</span></li></ul></li><li><label class='ee-shut'>data_type: unsigned int16<input type='checkbox' class='ee-toggle'></label><ul><li><span class='ee-k'>type:</span><span class='ee-v'>PixelType</span></li><li><span class='ee-k'>max:</span><span class='ee-v'>65535</span></li><li><span class='ee-k'>min:</span><span class='ee-v'>0</span></li><li><span class='ee-k'>precision:</span><span class='ee-v'>int</span></li></ul></li><li><label class='ee-shut'>dimensions: [2191, 3576]<input type='checkbox' class='ee-toggle'></label><ul><li><span class='ee-k'>0:</span><span class='ee-v'>2191</span></li><li><span class='ee-k'>1:</span><span class='ee-v'>3576</span></li></ul></li><li><label class='ee-shut'>origin: [3356, 6051]<input type='checkbox' class='ee-toggle'></label><ul><li><span class='ee-k'>0:</span><span class='ee-v'>3356</span></li><li><span class='ee-k'>1:</span><span class='ee-v'>6051</span></li></ul></li></ul></li><li><label class='ee-shut'>3: \"B4\", unsigned int16, EPSG:32718, 2191x3576 px<input type='checkbox' class='ee-toggle'></label><ul><li><span class='ee-k'>id:</span><span class='ee-v'>B4</span></li><li><span class='ee-k'>crs:</span><span class='ee-v'>EPSG:32718</span></li><li><label class='ee-shut'>crs_transform: [10, 0, 600000, 0, -10, 9600040]<input type='checkbox' class='ee-toggle'></label><ul><li><span class='ee-k'>0:</span><span class='ee-v'>10</span></li><li><span class='ee-k'>1:</span><span class='ee-v'>0</span></li><li><span class='ee-k'>2:</span><span class='ee-v'>600000</span></li><li><span class='ee-k'>3:</span><span class='ee-v'>0</span></li><li><span class='ee-k'>4:</span><span class='ee-v'>-10</span></li><li><span class='ee-k'>5:</span><span class='ee-v'>9600040</span></li></ul></li><li><label class='ee-shut'>data_type: unsigned int16<input type='checkbox' class='ee-toggle'></label><ul><li><span class='ee-k'>type:</span><span class='ee-v'>PixelType</span></li><li><span class='ee-k'>max:</span><span class='ee-v'>65535</span></li><li><span class='ee-k'>min:</span><span class='ee-v'>0</span></li><li><span class='ee-k'>precision:</span><span class='ee-v'>int</span></li></ul></li><li><label class='ee-shut'>dimensions: [2191, 3576]<input type='checkbox' class='ee-toggle'></label><ul><li><span class='ee-k'>0:</span><span class='ee-v'>2191</span></li><li><span class='ee-k'>1:</span><span class='ee-v'>3576</span></li></ul></li><li><label class='ee-shut'>origin: [3356, 6051]<input type='checkbox' class='ee-toggle'></label><ul><li><span class='ee-k'>0:</span><span class='ee-v'>3356</span></li><li><span class='ee-k'>1:</span><span class='ee-v'>6051</span></li></ul></li></ul></li><li><label class='ee-shut'>4: \"B5\", unsigned int16, EPSG:32718, 1096x1789 px<input type='checkbox' class='ee-toggle'></label><ul><li><span class='ee-k'>id:</span><span class='ee-v'>B5</span></li><li><span class='ee-k'>crs:</span><span class='ee-v'>EPSG:32718</span></li><li><label class='ee-shut'>crs_transform: [20, 0, 600000, 0, -20, 9600040]<input type='checkbox' class='ee-toggle'></label><ul><li><span class='ee-k'>0:</span><span class='ee-v'>20</span></li><li><span class='ee-k'>1:</span><span class='ee-v'>0</span></li><li><span class='ee-k'>2:</span><span class='ee-v'>600000</span></li><li><span class='ee-k'>3:</span><span class='ee-v'>0</span></li><li><span class='ee-k'>4:</span><span class='ee-v'>-20</span></li><li><span class='ee-k'>5:</span><span class='ee-v'>9600040</span></li></ul></li><li><label class='ee-shut'>data_type: unsigned int16<input type='checkbox' class='ee-toggle'></label><ul><li><span class='ee-k'>type:</span><span class='ee-v'>PixelType</span></li><li><span class='ee-k'>max:</span><span class='ee-v'>65535</span></li><li><span class='ee-k'>min:</span><span class='ee-v'>0</span></li><li><span class='ee-k'>precision:</span><span class='ee-v'>int</span></li></ul></li><li><label class='ee-shut'>dimensions: [1096, 1789]<input type='checkbox' class='ee-toggle'></label><ul><li><span class='ee-k'>0:</span><span class='ee-v'>1096</span></li><li><span class='ee-k'>1:</span><span class='ee-v'>1789</span></li></ul></li><li><label class='ee-shut'>origin: [1678, 3025]<input type='checkbox' class='ee-toggle'></label><ul><li><span class='ee-k'>0:</span><span class='ee-v'>1678</span></li><li><span class='ee-k'>1:</span><span class='ee-v'>3025</span></li></ul></li></ul></li><li><label class='ee-shut'>5: \"B6\", unsigned int16, EPSG:32718, 1096x1789 px<input type='checkbox' class='ee-toggle'></label><ul><li><span class='ee-k'>id:</span><span class='ee-v'>B6</span></li><li><span class='ee-k'>crs:</span><span class='ee-v'>EPSG:32718</span></li><li><label class='ee-shut'>crs_transform: [20, 0, 600000, 0, -20, 9600040]<input type='checkbox' class='ee-toggle'></label><ul><li><span class='ee-k'>0:</span><span class='ee-v'>20</span></li><li><span class='ee-k'>1:</span><span class='ee-v'>0</span></li><li><span class='ee-k'>2:</span><span class='ee-v'>600000</span></li><li><span class='ee-k'>3:</span><span class='ee-v'>0</span></li><li><span class='ee-k'>4:</span><span class='ee-v'>-20</span></li><li><span class='ee-k'>5:</span><span class='ee-v'>9600040</span></li></ul></li><li><label class='ee-shut'>data_type: unsigned int16<input type='checkbox' class='ee-toggle'></label><ul><li><span class='ee-k'>type:</span><span class='ee-v'>PixelType</span></li><li><span class='ee-k'>max:</span><span class='ee-v'>65535</span></li><li><span class='ee-k'>min:</span><span class='ee-v'>0</span></li><li><span class='ee-k'>precision:</span><span class='ee-v'>int</span></li></ul></li><li><label class='ee-shut'>dimensions: [1096, 1789]<input type='checkbox' class='ee-toggle'></label><ul><li><span class='ee-k'>0:</span><span class='ee-v'>1096</span></li><li><span class='ee-k'>1:</span><span class='ee-v'>1789</span></li></ul></li><li><label class='ee-shut'>origin: [1678, 3025]<input type='checkbox' class='ee-toggle'></label><ul><li><span class='ee-k'>0:</span><span class='ee-v'>1678</span></li><li><span class='ee-k'>1:</span><span class='ee-v'>3025</span></li></ul></li></ul></li><li><label class='ee-shut'>6: \"B7\", unsigned int16, EPSG:32718, 1096x1789 px<input type='checkbox' class='ee-toggle'></label><ul><li><span class='ee-k'>id:</span><span class='ee-v'>B7</span></li><li><span class='ee-k'>crs:</span><span class='ee-v'>EPSG:32718</span></li><li><label class='ee-shut'>crs_transform: [20, 0, 600000, 0, -20, 9600040]<input type='checkbox' class='ee-toggle'></label><ul><li><span class='ee-k'>0:</span><span class='ee-v'>20</span></li><li><span class='ee-k'>1:</span><span class='ee-v'>0</span></li><li><span class='ee-k'>2:</span><span class='ee-v'>600000</span></li><li><span class='ee-k'>3:</span><span class='ee-v'>0</span></li><li><span class='ee-k'>4:</span><span class='ee-v'>-20</span></li><li><span class='ee-k'>5:</span><span class='ee-v'>9600040</span></li></ul></li><li><label class='ee-shut'>data_type: unsigned int16<input type='checkbox' class='ee-toggle'></label><ul><li><span class='ee-k'>type:</span><span class='ee-v'>PixelType</span></li><li><span class='ee-k'>max:</span><span class='ee-v'>65535</span></li><li><span class='ee-k'>min:</span><span class='ee-v'>0</span></li><li><span class='ee-k'>precision:</span><span class='ee-v'>int</span></li></ul></li><li><label class='ee-shut'>dimensions: [1096, 1789]<input type='checkbox' class='ee-toggle'></label><ul><li><span class='ee-k'>0:</span><span class='ee-v'>1096</span></li><li><span class='ee-k'>1:</span><span class='ee-v'>1789</span></li></ul></li><li><label class='ee-shut'>origin: [1678, 3025]<input type='checkbox' class='ee-toggle'></label><ul><li><span class='ee-k'>0:</span><span class='ee-v'>1678</span></li><li><span class='ee-k'>1:</span><span class='ee-v'>3025</span></li></ul></li></ul></li><li><label class='ee-shut'>7: \"B8\", unsigned int16, EPSG:32718, 2191x3576 px<input type='checkbox' class='ee-toggle'></label><ul><li><span class='ee-k'>id:</span><span class='ee-v'>B8</span></li><li><span class='ee-k'>crs:</span><span class='ee-v'>EPSG:32718</span></li><li><label class='ee-shut'>crs_transform: [10, 0, 600000, 0, -10, 9600040]<input type='checkbox' class='ee-toggle'></label><ul><li><span class='ee-k'>0:</span><span class='ee-v'>10</span></li><li><span class='ee-k'>1:</span><span class='ee-v'>0</span></li><li><span class='ee-k'>2:</span><span class='ee-v'>600000</span></li><li><span class='ee-k'>3:</span><span class='ee-v'>0</span></li><li><span class='ee-k'>4:</span><span class='ee-v'>-10</span></li><li><span class='ee-k'>5:</span><span class='ee-v'>9600040</span></li></ul></li><li><label class='ee-shut'>data_type: unsigned int16<input type='checkbox' class='ee-toggle'></label><ul><li><span class='ee-k'>type:</span><span class='ee-v'>PixelType</span></li><li><span class='ee-k'>max:</span><span class='ee-v'>65535</span></li><li><span class='ee-k'>min:</span><span class='ee-v'>0</span></li><li><span class='ee-k'>precision:</span><span class='ee-v'>int</span></li></ul></li><li><label class='ee-shut'>dimensions: [2191, 3576]<input type='checkbox' class='ee-toggle'></label><ul><li><span class='ee-k'>0:</span><span class='ee-v'>2191</span></li><li><span class='ee-k'>1:</span><span class='ee-v'>3576</span></li></ul></li><li><label class='ee-shut'>origin: [3356, 6051]<input type='checkbox' class='ee-toggle'></label><ul><li><span class='ee-k'>0:</span><span class='ee-v'>3356</span></li><li><span class='ee-k'>1:</span><span class='ee-v'>6051</span></li></ul></li></ul></li><li><label class='ee-shut'>8: \"B8A\", unsigned int16, EPSG:32718, 1096x1789 px<input type='checkbox' class='ee-toggle'></label><ul><li><span class='ee-k'>id:</span><span class='ee-v'>B8A</span></li><li><span class='ee-k'>crs:</span><span class='ee-v'>EPSG:32718</span></li><li><label class='ee-shut'>crs_transform: [20, 0, 600000, 0, -20, 9600040]<input type='checkbox' class='ee-toggle'></label><ul><li><span class='ee-k'>0:</span><span class='ee-v'>20</span></li><li><span class='ee-k'>1:</span><span class='ee-v'>0</span></li><li><span class='ee-k'>2:</span><span class='ee-v'>600000</span></li><li><span class='ee-k'>3:</span><span class='ee-v'>0</span></li><li><span class='ee-k'>4:</span><span class='ee-v'>-20</span></li><li><span class='ee-k'>5:</span><span class='ee-v'>9600040</span></li></ul></li><li><label class='ee-shut'>data_type: unsigned int16<input type='checkbox' class='ee-toggle'></label><ul><li><span class='ee-k'>type:</span><span class='ee-v'>PixelType</span></li><li><span class='ee-k'>max:</span><span class='ee-v'>65535</span></li><li><span class='ee-k'>min:</span><span class='ee-v'>0</span></li><li><span class='ee-k'>precision:</span><span class='ee-v'>int</span></li></ul></li><li><label class='ee-shut'>dimensions: [1096, 1789]<input type='checkbox' class='ee-toggle'></label><ul><li><span class='ee-k'>0:</span><span class='ee-v'>1096</span></li><li><span class='ee-k'>1:</span><span class='ee-v'>1789</span></li></ul></li><li><label class='ee-shut'>origin: [1678, 3025]<input type='checkbox' class='ee-toggle'></label><ul><li><span class='ee-k'>0:</span><span class='ee-v'>1678</span></li><li><span class='ee-k'>1:</span><span class='ee-v'>3025</span></li></ul></li></ul></li><li><label class='ee-shut'>9: \"B9\", unsigned int16, EPSG:32718, 366x597 px<input type='checkbox' class='ee-toggle'></label><ul><li><span class='ee-k'>id:</span><span class='ee-v'>B9</span></li><li><span class='ee-k'>crs:</span><span class='ee-v'>EPSG:32718</span></li><li><label class='ee-shut'>crs_transform: [60, 0, 600000, 0, -60, 9600040]<input type='checkbox' class='ee-toggle'></label><ul><li><span class='ee-k'>0:</span><span class='ee-v'>60</span></li><li><span class='ee-k'>1:</span><span class='ee-v'>0</span></li><li><span class='ee-k'>2:</span><span class='ee-v'>600000</span></li><li><span class='ee-k'>3:</span><span class='ee-v'>0</span></li><li><span class='ee-k'>4:</span><span class='ee-v'>-60</span></li><li><span class='ee-k'>5:</span><span class='ee-v'>9600040</span></li></ul></li><li><label class='ee-shut'>data_type: unsigned int16<input type='checkbox' class='ee-toggle'></label><ul><li><span class='ee-k'>type:</span><span class='ee-v'>PixelType</span></li><li><span class='ee-k'>max:</span><span class='ee-v'>65535</span></li><li><span class='ee-k'>min:</span><span class='ee-v'>0</span></li><li><span class='ee-k'>precision:</span><span class='ee-v'>int</span></li></ul></li><li><label class='ee-shut'>dimensions: [366, 597]<input type='checkbox' class='ee-toggle'></label><ul><li><span class='ee-k'>0:</span><span class='ee-v'>366</span></li><li><span class='ee-k'>1:</span><span class='ee-v'>597</span></li></ul></li><li><label class='ee-shut'>origin: [559, 1008]<input type='checkbox' class='ee-toggle'></label><ul><li><span class='ee-k'>0:</span><span class='ee-v'>559</span></li><li><span class='ee-k'>1:</span><span class='ee-v'>1008</span></li></ul></li></ul></li><li><label class='ee-shut'>10: \"B11\", unsigned int16, EPSG:32718, 1096x1789 px<input type='checkbox' class='ee-toggle'></label><ul><li><span class='ee-k'>id:</span><span class='ee-v'>B11</span></li><li><span class='ee-k'>crs:</span><span class='ee-v'>EPSG:32718</span></li><li><label class='ee-shut'>crs_transform: [20, 0, 600000, 0, -20, 9600040]<input type='checkbox' class='ee-toggle'></label><ul><li><span class='ee-k'>0:</span><span class='ee-v'>20</span></li><li><span class='ee-k'>1:</span><span class='ee-v'>0</span></li><li><span class='ee-k'>2:</span><span class='ee-v'>600000</span></li><li><span class='ee-k'>3:</span><span class='ee-v'>0</span></li><li><span class='ee-k'>4:</span><span class='ee-v'>-20</span></li><li><span class='ee-k'>5:</span><span class='ee-v'>9600040</span></li></ul></li><li><label class='ee-shut'>data_type: unsigned int16<input type='checkbox' class='ee-toggle'></label><ul><li><span class='ee-k'>type:</span><span class='ee-v'>PixelType</span></li><li><span class='ee-k'>max:</span><span class='ee-v'>65535</span></li><li><span class='ee-k'>min:</span><span class='ee-v'>0</span></li><li><span class='ee-k'>precision:</span><span class='ee-v'>int</span></li></ul></li><li><label class='ee-shut'>dimensions: [1096, 1789]<input type='checkbox' class='ee-toggle'></label><ul><li><span class='ee-k'>0:</span><span class='ee-v'>1096</span></li><li><span class='ee-k'>1:</span><span class='ee-v'>1789</span></li></ul></li><li><label class='ee-shut'>origin: [1678, 3025]<input type='checkbox' class='ee-toggle'></label><ul><li><span class='ee-k'>0:</span><span class='ee-v'>1678</span></li><li><span class='ee-k'>1:</span><span class='ee-v'>3025</span></li></ul></li></ul></li><li><label class='ee-shut'>11: \"B12\", unsigned int16, EPSG:32718, 1096x1789 px<input type='checkbox' class='ee-toggle'></label><ul><li><span class='ee-k'>id:</span><span class='ee-v'>B12</span></li><li><span class='ee-k'>crs:</span><span class='ee-v'>EPSG:32718</span></li><li><label class='ee-shut'>crs_transform: [20, 0, 600000, 0, -20, 9600040]<input type='checkbox' class='ee-toggle'></label><ul><li><span class='ee-k'>0:</span><span class='ee-v'>20</span></li><li><span class='ee-k'>1:</span><span class='ee-v'>0</span></li><li><span class='ee-k'>2:</span><span class='ee-v'>600000</span></li><li><span class='ee-k'>3:</span><span class='ee-v'>0</span></li><li><span class='ee-k'>4:</span><span class='ee-v'>-20</span></li><li><span class='ee-k'>5:</span><span class='ee-v'>9600040</span></li></ul></li><li><label class='ee-shut'>data_type: unsigned int16<input type='checkbox' class='ee-toggle'></label><ul><li><span class='ee-k'>type:</span><span class='ee-v'>PixelType</span></li><li><span class='ee-k'>max:</span><span class='ee-v'>65535</span></li><li><span class='ee-k'>min:</span><span class='ee-v'>0</span></li><li><span class='ee-k'>precision:</span><span class='ee-v'>int</span></li></ul></li><li><label class='ee-shut'>dimensions: [1096, 1789]<input type='checkbox' class='ee-toggle'></label><ul><li><span class='ee-k'>0:</span><span class='ee-v'>1096</span></li><li><span class='ee-k'>1:</span><span class='ee-v'>1789</span></li></ul></li><li><label class='ee-shut'>origin: [1678, 3025]<input type='checkbox' class='ee-toggle'></label><ul><li><span class='ee-k'>0:</span><span class='ee-v'>1678</span></li><li><span class='ee-k'>1:</span><span class='ee-v'>3025</span></li></ul></li></ul></li><li><label class='ee-shut'>12: \"AOT\", unsigned int16, EPSG:32718, 2191x3576 px<input type='checkbox' class='ee-toggle'></label><ul><li><span class='ee-k'>id:</span><span class='ee-v'>AOT</span></li><li><span class='ee-k'>crs:</span><span class='ee-v'>EPSG:32718</span></li><li><label class='ee-shut'>crs_transform: [10, 0, 600000, 0, -10, 9600040]<input type='checkbox' class='ee-toggle'></label><ul><li><span class='ee-k'>0:</span><span class='ee-v'>10</span></li><li><span class='ee-k'>1:</span><span class='ee-v'>0</span></li><li><span class='ee-k'>2:</span><span class='ee-v'>600000</span></li><li><span class='ee-k'>3:</span><span class='ee-v'>0</span></li><li><span class='ee-k'>4:</span><span class='ee-v'>-10</span></li><li><span class='ee-k'>5:</span><span class='ee-v'>9600040</span></li></ul></li><li><label class='ee-shut'>data_type: unsigned int16<input type='checkbox' class='ee-toggle'></label><ul><li><span class='ee-k'>type:</span><span class='ee-v'>PixelType</span></li><li><span class='ee-k'>max:</span><span class='ee-v'>65535</span></li><li><span class='ee-k'>min:</span><span class='ee-v'>0</span></li><li><span class='ee-k'>precision:</span><span class='ee-v'>int</span></li></ul></li><li><label class='ee-shut'>dimensions: [2191, 3576]<input type='checkbox' class='ee-toggle'></label><ul><li><span class='ee-k'>0:</span><span class='ee-v'>2191</span></li><li><span class='ee-k'>1:</span><span class='ee-v'>3576</span></li></ul></li><li><label class='ee-shut'>origin: [3356, 6051]<input type='checkbox' class='ee-toggle'></label><ul><li><span class='ee-k'>0:</span><span class='ee-v'>3356</span></li><li><span class='ee-k'>1:</span><span class='ee-v'>6051</span></li></ul></li></ul></li><li><label class='ee-shut'>13: \"WVP\", unsigned int16, EPSG:32718, 2191x3576 px<input type='checkbox' class='ee-toggle'></label><ul><li><span class='ee-k'>id:</span><span class='ee-v'>WVP</span></li><li><span class='ee-k'>crs:</span><span class='ee-v'>EPSG:32718</span></li><li><label class='ee-shut'>crs_transform: [10, 0, 600000, 0, -10, 9600040]<input type='checkbox' class='ee-toggle'></label><ul><li><span class='ee-k'>0:</span><span class='ee-v'>10</span></li><li><span class='ee-k'>1:</span><span class='ee-v'>0</span></li><li><span class='ee-k'>2:</span><span class='ee-v'>600000</span></li><li><span class='ee-k'>3:</span><span class='ee-v'>0</span></li><li><span class='ee-k'>4:</span><span class='ee-v'>-10</span></li><li><span class='ee-k'>5:</span><span class='ee-v'>9600040</span></li></ul></li><li><label class='ee-shut'>data_type: unsigned int16<input type='checkbox' class='ee-toggle'></label><ul><li><span class='ee-k'>type:</span><span class='ee-v'>PixelType</span></li><li><span class='ee-k'>max:</span><span class='ee-v'>65535</span></li><li><span class='ee-k'>min:</span><span class='ee-v'>0</span></li><li><span class='ee-k'>precision:</span><span class='ee-v'>int</span></li></ul></li><li><label class='ee-shut'>dimensions: [2191, 3576]<input type='checkbox' class='ee-toggle'></label><ul><li><span class='ee-k'>0:</span><span class='ee-v'>2191</span></li><li><span class='ee-k'>1:</span><span class='ee-v'>3576</span></li></ul></li><li><label class='ee-shut'>origin: [3356, 6051]<input type='checkbox' class='ee-toggle'></label><ul><li><span class='ee-k'>0:</span><span class='ee-v'>3356</span></li><li><span class='ee-k'>1:</span><span class='ee-v'>6051</span></li></ul></li></ul></li><li><label class='ee-shut'>14: \"SCL\", unsigned int8, EPSG:32718, 1096x1789 px<input type='checkbox' class='ee-toggle'></label><ul><li><span class='ee-k'>id:</span><span class='ee-v'>SCL</span></li><li><span class='ee-k'>crs:</span><span class='ee-v'>EPSG:32718</span></li><li><label class='ee-shut'>crs_transform: [20, 0, 600000, 0, -20, 9600040]<input type='checkbox' class='ee-toggle'></label><ul><li><span class='ee-k'>0:</span><span class='ee-v'>20</span></li><li><span class='ee-k'>1:</span><span class='ee-v'>0</span></li><li><span class='ee-k'>2:</span><span class='ee-v'>600000</span></li><li><span class='ee-k'>3:</span><span class='ee-v'>0</span></li><li><span class='ee-k'>4:</span><span class='ee-v'>-20</span></li><li><span class='ee-k'>5:</span><span class='ee-v'>9600040</span></li></ul></li><li><label class='ee-shut'>data_type: unsigned int8<input type='checkbox' class='ee-toggle'></label><ul><li><span class='ee-k'>type:</span><span class='ee-v'>PixelType</span></li><li><span class='ee-k'>max:</span><span class='ee-v'>255</span></li><li><span class='ee-k'>min:</span><span class='ee-v'>0</span></li><li><span class='ee-k'>precision:</span><span class='ee-v'>int</span></li></ul></li><li><label class='ee-shut'>dimensions: [1096, 1789]<input type='checkbox' class='ee-toggle'></label><ul><li><span class='ee-k'>0:</span><span class='ee-v'>1096</span></li><li><span class='ee-k'>1:</span><span class='ee-v'>1789</span></li></ul></li><li><label class='ee-shut'>origin: [1678, 3025]<input type='checkbox' class='ee-toggle'></label><ul><li><span class='ee-k'>0:</span><span class='ee-v'>1678</span></li><li><span class='ee-k'>1:</span><span class='ee-v'>3025</span></li></ul></li></ul></li><li><label class='ee-shut'>15: \"TCI_R\", unsigned int8, EPSG:32718, 2191x3576 px<input type='checkbox' class='ee-toggle'></label><ul><li><span class='ee-k'>id:</span><span class='ee-v'>TCI_R</span></li><li><span class='ee-k'>crs:</span><span class='ee-v'>EPSG:32718</span></li><li><label class='ee-shut'>crs_transform: [10, 0, 600000, 0, -10, 9600040]<input type='checkbox' class='ee-toggle'></label><ul><li><span class='ee-k'>0:</span><span class='ee-v'>10</span></li><li><span class='ee-k'>1:</span><span class='ee-v'>0</span></li><li><span class='ee-k'>2:</span><span class='ee-v'>600000</span></li><li><span class='ee-k'>3:</span><span class='ee-v'>0</span></li><li><span class='ee-k'>4:</span><span class='ee-v'>-10</span></li><li><span class='ee-k'>5:</span><span class='ee-v'>9600040</span></li></ul></li><li><label class='ee-shut'>data_type: unsigned int8<input type='checkbox' class='ee-toggle'></label><ul><li><span class='ee-k'>type:</span><span class='ee-v'>PixelType</span></li><li><span class='ee-k'>max:</span><span class='ee-v'>255</span></li><li><span class='ee-k'>min:</span><span class='ee-v'>0</span></li><li><span class='ee-k'>precision:</span><span class='ee-v'>int</span></li></ul></li><li><label class='ee-shut'>dimensions: [2191, 3576]<input type='checkbox' class='ee-toggle'></label><ul><li><span class='ee-k'>0:</span><span class='ee-v'>2191</span></li><li><span class='ee-k'>1:</span><span class='ee-v'>3576</span></li></ul></li><li><label class='ee-shut'>origin: [3356, 6051]<input type='checkbox' class='ee-toggle'></label><ul><li><span class='ee-k'>0:</span><span class='ee-v'>3356</span></li><li><span class='ee-k'>1:</span><span class='ee-v'>6051</span></li></ul></li></ul></li><li><label class='ee-shut'>16: \"TCI_G\", unsigned int8, EPSG:32718, 2191x3576 px<input type='checkbox' class='ee-toggle'></label><ul><li><span class='ee-k'>id:</span><span class='ee-v'>TCI_G</span></li><li><span class='ee-k'>crs:</span><span class='ee-v'>EPSG:32718</span></li><li><label class='ee-shut'>crs_transform: [10, 0, 600000, 0, -10, 9600040]<input type='checkbox' class='ee-toggle'></label><ul><li><span class='ee-k'>0:</span><span class='ee-v'>10</span></li><li><span class='ee-k'>1:</span><span class='ee-v'>0</span></li><li><span class='ee-k'>2:</span><span class='ee-v'>600000</span></li><li><span class='ee-k'>3:</span><span class='ee-v'>0</span></li><li><span class='ee-k'>4:</span><span class='ee-v'>-10</span></li><li><span class='ee-k'>5:</span><span class='ee-v'>9600040</span></li></ul></li><li><label class='ee-shut'>data_type: unsigned int8<input type='checkbox' class='ee-toggle'></label><ul><li><span class='ee-k'>type:</span><span class='ee-v'>PixelType</span></li><li><span class='ee-k'>max:</span><span class='ee-v'>255</span></li><li><span class='ee-k'>min:</span><span class='ee-v'>0</span></li><li><span class='ee-k'>precision:</span><span class='ee-v'>int</span></li></ul></li><li><label class='ee-shut'>dimensions: [2191, 3576]<input type='checkbox' class='ee-toggle'></label><ul><li><span class='ee-k'>0:</span><span class='ee-v'>2191</span></li><li><span class='ee-k'>1:</span><span class='ee-v'>3576</span></li></ul></li><li><label class='ee-shut'>origin: [3356, 6051]<input type='checkbox' class='ee-toggle'></label><ul><li><span class='ee-k'>0:</span><span class='ee-v'>3356</span></li><li><span class='ee-k'>1:</span><span class='ee-v'>6051</span></li></ul></li></ul></li><li><label class='ee-shut'>17: \"TCI_B\", unsigned int8, EPSG:32718, 2191x3576 px<input type='checkbox' class='ee-toggle'></label><ul><li><span class='ee-k'>id:</span><span class='ee-v'>TCI_B</span></li><li><span class='ee-k'>crs:</span><span class='ee-v'>EPSG:32718</span></li><li><label class='ee-shut'>crs_transform: [10, 0, 600000, 0, -10, 9600040]<input type='checkbox' class='ee-toggle'></label><ul><li><span class='ee-k'>0:</span><span class='ee-v'>10</span></li><li><span class='ee-k'>1:</span><span class='ee-v'>0</span></li><li><span class='ee-k'>2:</span><span class='ee-v'>600000</span></li><li><span class='ee-k'>3:</span><span class='ee-v'>0</span></li><li><span class='ee-k'>4:</span><span class='ee-v'>-10</span></li><li><span class='ee-k'>5:</span><span class='ee-v'>9600040</span></li></ul></li><li><label class='ee-shut'>data_type: unsigned int8<input type='checkbox' class='ee-toggle'></label><ul><li><span class='ee-k'>type:</span><span class='ee-v'>PixelType</span></li><li><span class='ee-k'>max:</span><span class='ee-v'>255</span></li><li><span class='ee-k'>min:</span><span class='ee-v'>0</span></li><li><span class='ee-k'>precision:</span><span class='ee-v'>int</span></li></ul></li><li><label class='ee-shut'>dimensions: [2191, 3576]<input type='checkbox' class='ee-toggle'></label><ul><li><span class='ee-k'>0:</span><span class='ee-v'>2191</span></li><li><span class='ee-k'>1:</span><span class='ee-v'>3576</span></li></ul></li><li><label class='ee-shut'>origin: [3356, 6051]<input type='checkbox' class='ee-toggle'></label><ul><li><span class='ee-k'>0:</span><span class='ee-v'>3356</span></li><li><span class='ee-k'>1:</span><span class='ee-v'>6051</span></li></ul></li></ul></li><li><label class='ee-shut'>18: \"MSK_CLDPRB\", unsigned int8, EPSG:32718, 1096x1789 px<input type='checkbox' class='ee-toggle'></label><ul><li><span class='ee-k'>id:</span><span class='ee-v'>MSK_CLDPRB</span></li><li><span class='ee-k'>crs:</span><span class='ee-v'>EPSG:32718</span></li><li><label class='ee-shut'>crs_transform: [20, 0, 600000, 0, -20, 9600040]<input type='checkbox' class='ee-toggle'></label><ul><li><span class='ee-k'>0:</span><span class='ee-v'>20</span></li><li><span class='ee-k'>1:</span><span class='ee-v'>0</span></li><li><span class='ee-k'>2:</span><span class='ee-v'>600000</span></li><li><span class='ee-k'>3:</span><span class='ee-v'>0</span></li><li><span class='ee-k'>4:</span><span class='ee-v'>-20</span></li><li><span class='ee-k'>5:</span><span class='ee-v'>9600040</span></li></ul></li><li><label class='ee-shut'>data_type: unsigned int8<input type='checkbox' class='ee-toggle'></label><ul><li><span class='ee-k'>type:</span><span class='ee-v'>PixelType</span></li><li><span class='ee-k'>max:</span><span class='ee-v'>255</span></li><li><span class='ee-k'>min:</span><span class='ee-v'>0</span></li><li><span class='ee-k'>precision:</span><span class='ee-v'>int</span></li></ul></li><li><label class='ee-shut'>dimensions: [1096, 1789]<input type='checkbox' class='ee-toggle'></label><ul><li><span class='ee-k'>0:</span><span class='ee-v'>1096</span></li><li><span class='ee-k'>1:</span><span class='ee-v'>1789</span></li></ul></li><li><label class='ee-shut'>origin: [1678, 3025]<input type='checkbox' class='ee-toggle'></label><ul><li><span class='ee-k'>0:</span><span class='ee-v'>1678</span></li><li><span class='ee-k'>1:</span><span class='ee-v'>3025</span></li></ul></li></ul></li><li><label class='ee-shut'>19: \"MSK_SNWPRB\", unsigned int8, EPSG:32718, 1096x1789 px<input type='checkbox' class='ee-toggle'></label><ul><li><span class='ee-k'>id:</span><span class='ee-v'>MSK_SNWPRB</span></li><li><span class='ee-k'>crs:</span><span class='ee-v'>EPSG:32718</span></li><li><label class='ee-shut'>crs_transform: [20, 0, 600000, 0, -20, 9600040]<input type='checkbox' class='ee-toggle'></label><ul><li><span class='ee-k'>0:</span><span class='ee-v'>20</span></li><li><span class='ee-k'>1:</span><span class='ee-v'>0</span></li><li><span class='ee-k'>2:</span><span class='ee-v'>600000</span></li><li><span class='ee-k'>3:</span><span class='ee-v'>0</span></li><li><span class='ee-k'>4:</span><span class='ee-v'>-20</span></li><li><span class='ee-k'>5:</span><span class='ee-v'>9600040</span></li></ul></li><li><label class='ee-shut'>data_type: unsigned int8<input type='checkbox' class='ee-toggle'></label><ul><li><span class='ee-k'>type:</span><span class='ee-v'>PixelType</span></li><li><span class='ee-k'>max:</span><span class='ee-v'>255</span></li><li><span class='ee-k'>min:</span><span class='ee-v'>0</span></li><li><span class='ee-k'>precision:</span><span class='ee-v'>int</span></li></ul></li><li><label class='ee-shut'>dimensions: [1096, 1789]<input type='checkbox' class='ee-toggle'></label><ul><li><span class='ee-k'>0:</span><span class='ee-v'>1096</span></li><li><span class='ee-k'>1:</span><span class='ee-v'>1789</span></li></ul></li><li><label class='ee-shut'>origin: [1678, 3025]<input type='checkbox' class='ee-toggle'></label><ul><li><span class='ee-k'>0:</span><span class='ee-v'>1678</span></li><li><span class='ee-k'>1:</span><span class='ee-v'>3025</span></li></ul></li></ul></li><li><label class='ee-shut'>20: \"QA10\", unsigned int16, EPSG:32718, 2191x3576 px<input type='checkbox' class='ee-toggle'></label><ul><li><span class='ee-k'>id:</span><span class='ee-v'>QA10</span></li><li><span class='ee-k'>crs:</span><span class='ee-v'>EPSG:32718</span></li><li><label class='ee-shut'>crs_transform: [10, 0, 600000, 0, -10, 9600040]<input type='checkbox' class='ee-toggle'></label><ul><li><span class='ee-k'>0:</span><span class='ee-v'>10</span></li><li><span class='ee-k'>1:</span><span class='ee-v'>0</span></li><li><span class='ee-k'>2:</span><span class='ee-v'>600000</span></li><li><span class='ee-k'>3:</span><span class='ee-v'>0</span></li><li><span class='ee-k'>4:</span><span class='ee-v'>-10</span></li><li><span class='ee-k'>5:</span><span class='ee-v'>9600040</span></li></ul></li><li><label class='ee-shut'>data_type: unsigned int16<input type='checkbox' class='ee-toggle'></label><ul><li><span class='ee-k'>type:</span><span class='ee-v'>PixelType</span></li><li><span class='ee-k'>max:</span><span class='ee-v'>65535</span></li><li><span class='ee-k'>min:</span><span class='ee-v'>0</span></li><li><span class='ee-k'>precision:</span><span class='ee-v'>int</span></li></ul></li><li><label class='ee-shut'>dimensions: [2191, 3576]<input type='checkbox' class='ee-toggle'></label><ul><li><span class='ee-k'>0:</span><span class='ee-v'>2191</span></li><li><span class='ee-k'>1:</span><span class='ee-v'>3576</span></li></ul></li><li><label class='ee-shut'>origin: [3356, 6051]<input type='checkbox' class='ee-toggle'></label><ul><li><span class='ee-k'>0:</span><span class='ee-v'>3356</span></li><li><span class='ee-k'>1:</span><span class='ee-v'>6051</span></li></ul></li></ul></li><li><label class='ee-shut'>21: \"QA20\", unsigned int32, EPSG:32718, 1096x1789 px<input type='checkbox' class='ee-toggle'></label><ul><li><span class='ee-k'>id:</span><span class='ee-v'>QA20</span></li><li><span class='ee-k'>crs:</span><span class='ee-v'>EPSG:32718</span></li><li><label class='ee-shut'>crs_transform: [20, 0, 600000, 0, -20, 9600040]<input type='checkbox' class='ee-toggle'></label><ul><li><span class='ee-k'>0:</span><span class='ee-v'>20</span></li><li><span class='ee-k'>1:</span><span class='ee-v'>0</span></li><li><span class='ee-k'>2:</span><span class='ee-v'>600000</span></li><li><span class='ee-k'>3:</span><span class='ee-v'>0</span></li><li><span class='ee-k'>4:</span><span class='ee-v'>-20</span></li><li><span class='ee-k'>5:</span><span class='ee-v'>9600040</span></li></ul></li><li><label class='ee-shut'>data_type: unsigned int32<input type='checkbox' class='ee-toggle'></label><ul><li><span class='ee-k'>type:</span><span class='ee-v'>PixelType</span></li><li><span class='ee-k'>max:</span><span class='ee-v'>4294967295</span></li><li><span class='ee-k'>min:</span><span class='ee-v'>0</span></li><li><span class='ee-k'>precision:</span><span class='ee-v'>int</span></li></ul></li><li><label class='ee-shut'>dimensions: [1096, 1789]<input type='checkbox' class='ee-toggle'></label><ul><li><span class='ee-k'>0:</span><span class='ee-v'>1096</span></li><li><span class='ee-k'>1:</span><span class='ee-v'>1789</span></li></ul></li><li><label class='ee-shut'>origin: [1678, 3025]<input type='checkbox' class='ee-toggle'></label><ul><li><span class='ee-k'>0:</span><span class='ee-v'>1678</span></li><li><span class='ee-k'>1:</span><span class='ee-v'>3025</span></li></ul></li></ul></li><li><label class='ee-shut'>22: \"QA60\", unsigned int16, EPSG:32718, 366x597 px<input type='checkbox' class='ee-toggle'></label><ul><li><span class='ee-k'>id:</span><span class='ee-v'>QA60</span></li><li><span class='ee-k'>crs:</span><span class='ee-v'>EPSG:32718</span></li><li><label class='ee-shut'>crs_transform: [60, 0, 600000, 0, -60, 9600040]<input type='checkbox' class='ee-toggle'></label><ul><li><span class='ee-k'>0:</span><span class='ee-v'>60</span></li><li><span class='ee-k'>1:</span><span class='ee-v'>0</span></li><li><span class='ee-k'>2:</span><span class='ee-v'>600000</span></li><li><span class='ee-k'>3:</span><span class='ee-v'>0</span></li><li><span class='ee-k'>4:</span><span class='ee-v'>-60</span></li><li><span class='ee-k'>5:</span><span class='ee-v'>9600040</span></li></ul></li><li><label class='ee-shut'>data_type: unsigned int16<input type='checkbox' class='ee-toggle'></label><ul><li><span class='ee-k'>type:</span><span class='ee-v'>PixelType</span></li><li><span class='ee-k'>max:</span><span class='ee-v'>65535</span></li><li><span class='ee-k'>min:</span><span class='ee-v'>0</span></li><li><span class='ee-k'>precision:</span><span class='ee-v'>int</span></li></ul></li><li><label class='ee-shut'>dimensions: [366, 597]<input type='checkbox' class='ee-toggle'></label><ul><li><span class='ee-k'>0:</span><span class='ee-v'>366</span></li><li><span class='ee-k'>1:</span><span class='ee-v'>597</span></li></ul></li><li><label class='ee-shut'>origin: [559, 1008]<input type='checkbox' class='ee-toggle'></label><ul><li><span class='ee-k'>0:</span><span class='ee-v'>559</span></li><li><span class='ee-k'>1:</span><span class='ee-v'>1008</span></li></ul></li></ul></li><li><label class='ee-shut'>23: \"NDVI\", float, EPSG:32718, 2191x3576 px<input type='checkbox' class='ee-toggle'></label><ul><li><span class='ee-k'>id:</span><span class='ee-v'>NDVI</span></li><li><span class='ee-k'>crs:</span><span class='ee-v'>EPSG:32718</span></li><li><label class='ee-shut'>crs_transform: [10, 0, 600000, 0, -10, 9600040]<input type='checkbox' class='ee-toggle'></label><ul><li><span class='ee-k'>0:</span><span class='ee-v'>10</span></li><li><span class='ee-k'>1:</span><span class='ee-v'>0</span></li><li><span class='ee-k'>2:</span><span class='ee-v'>600000</span></li><li><span class='ee-k'>3:</span><span class='ee-v'>0</span></li><li><span class='ee-k'>4:</span><span class='ee-v'>-10</span></li><li><span class='ee-k'>5:</span><span class='ee-v'>9600040</span></li></ul></li><li><label class='ee-shut'>data_type: float<input type='checkbox' class='ee-toggle'></label><ul><li><span class='ee-k'>type:</span><span class='ee-v'>PixelType</span></li><li><span class='ee-k'>precision:</span><span class='ee-v'>float</span></li></ul></li><li><label class='ee-shut'>dimensions: [2191, 3576]<input type='checkbox' class='ee-toggle'></label><ul><li><span class='ee-k'>0:</span><span class='ee-v'>2191</span></li><li><span class='ee-k'>1:</span><span class='ee-v'>3576</span></li></ul></li><li><label class='ee-shut'>origin: [3356, 6051]<input type='checkbox' class='ee-toggle'></label><ul><li><span class='ee-k'>0:</span><span class='ee-v'>3356</span></li><li><span class='ee-k'>1:</span><span class='ee-v'>6051</span></li></ul></li></ul></li><li><label class='ee-shut'>24: \"EVI\", double, EPSG:32718, 2191x3576 px<input type='checkbox' class='ee-toggle'></label><ul><li><span class='ee-k'>id:</span><span class='ee-v'>EVI</span></li><li><span class='ee-k'>crs:</span><span class='ee-v'>EPSG:32718</span></li><li><label class='ee-shut'>crs_transform: [10, 0, 600000, 0, -10, 9600040]<input type='checkbox' class='ee-toggle'></label><ul><li><span class='ee-k'>0:</span><span class='ee-v'>10</span></li><li><span class='ee-k'>1:</span><span class='ee-v'>0</span></li><li><span class='ee-k'>2:</span><span class='ee-v'>600000</span></li><li><span class='ee-k'>3:</span><span class='ee-v'>0</span></li><li><span class='ee-k'>4:</span><span class='ee-v'>-10</span></li><li><span class='ee-k'>5:</span><span class='ee-v'>9600040</span></li></ul></li><li><label class='ee-shut'>data_type: double<input type='checkbox' class='ee-toggle'></label><ul><li><span class='ee-k'>type:</span><span class='ee-v'>PixelType</span></li><li><span class='ee-k'>precision:</span><span class='ee-v'>double</span></li></ul></li><li><label class='ee-shut'>dimensions: [2191, 3576]<input type='checkbox' class='ee-toggle'></label><ul><li><span class='ee-k'>0:</span><span class='ee-v'>2191</span></li><li><span class='ee-k'>1:</span><span class='ee-v'>3576</span></li></ul></li><li><label class='ee-shut'>origin: [3356, 6051]<input type='checkbox' class='ee-toggle'></label><ul><li><span class='ee-k'>0:</span><span class='ee-v'>3356</span></li><li><span class='ee-k'>1:</span><span class='ee-v'>6051</span></li></ul></li></ul></li><li><label class='ee-shut'>25: \"EVI_change\", double, EPSG:32718, 2191x3576 px<input type='checkbox' class='ee-toggle'></label><ul><li><span class='ee-k'>id:</span><span class='ee-v'>EVI_change</span></li><li><span class='ee-k'>crs:</span><span class='ee-v'>EPSG:32718</span></li><li><label class='ee-shut'>crs_transform: [10, 0, 600000, 0, -10, 9600040]<input type='checkbox' class='ee-toggle'></label><ul><li><span class='ee-k'>0:</span><span class='ee-v'>10</span></li><li><span class='ee-k'>1:</span><span class='ee-v'>0</span></li><li><span class='ee-k'>2:</span><span class='ee-v'>600000</span></li><li><span class='ee-k'>3:</span><span class='ee-v'>0</span></li><li><span class='ee-k'>4:</span><span class='ee-v'>-10</span></li><li><span class='ee-k'>5:</span><span class='ee-v'>9600040</span></li></ul></li><li><label class='ee-shut'>data_type: double<input type='checkbox' class='ee-toggle'></label><ul><li><span class='ee-k'>type:</span><span class='ee-v'>PixelType</span></li><li><span class='ee-k'>precision:</span><span class='ee-v'>double</span></li></ul></li><li><label class='ee-shut'>dimensions: [2191, 3576]<input type='checkbox' class='ee-toggle'></label><ul><li><span class='ee-k'>0:</span><span class='ee-v'>2191</span></li><li><span class='ee-k'>1:</span><span class='ee-v'>3576</span></li></ul></li><li><label class='ee-shut'>origin: [3356, 6051]<input type='checkbox' class='ee-toggle'></label><ul><li><span class='ee-k'>0:</span><span class='ee-v'>3356</span></li><li><span class='ee-k'>1:</span><span class='ee-v'>6051</span></li></ul></li></ul></li><li><label class='ee-shut'>26: \"NDVI_change\", float, EPSG:32718, 2191x3576 px<input type='checkbox' class='ee-toggle'></label><ul><li><span class='ee-k'>id:</span><span class='ee-v'>NDVI_change</span></li><li><span class='ee-k'>crs:</span><span class='ee-v'>EPSG:32718</span></li><li><label class='ee-shut'>crs_transform: [10, 0, 600000, 0, -10, 9600040]<input type='checkbox' class='ee-toggle'></label><ul><li><span class='ee-k'>0:</span><span class='ee-v'>10</span></li><li><span class='ee-k'>1:</span><span class='ee-v'>0</span></li><li><span class='ee-k'>2:</span><span class='ee-v'>600000</span></li><li><span class='ee-k'>3:</span><span class='ee-v'>0</span></li><li><span class='ee-k'>4:</span><span class='ee-v'>-10</span></li><li><span class='ee-k'>5:</span><span class='ee-v'>9600040</span></li></ul></li><li><label class='ee-shut'>data_type: float<input type='checkbox' class='ee-toggle'></label><ul><li><span class='ee-k'>type:</span><span class='ee-v'>PixelType</span></li><li><span class='ee-k'>precision:</span><span class='ee-v'>float</span></li></ul></li><li><label class='ee-shut'>dimensions: [2191, 3576]<input type='checkbox' class='ee-toggle'></label><ul><li><span class='ee-k'>0:</span><span class='ee-v'>2191</span></li><li><span class='ee-k'>1:</span><span class='ee-v'>3576</span></li></ul></li><li><label class='ee-shut'>origin: [3356, 6051]<input type='checkbox' class='ee-toggle'></label><ul><li><span class='ee-k'>0:</span><span class='ee-v'>3356</span></li><li><span class='ee-k'>1:</span><span class='ee-v'>6051</span></li></ul></li></ul></li></ul></li><li><label class='ee-shut'>properties: Object (101 properties)<input type='checkbox' class='ee-toggle'></label><ul><li><span class='ee-k'>AOT_RETRIEVAL_ACCURACY:</span><span class='ee-v'>0</span></li><li><span class='ee-k'>AOT_RETRIEVAL_METHOD:</span><span class='ee-v'>SEN2COR_DDV</span></li><li><span class='ee-k'>BOA_ADD_OFFSET_B1:</span><span class='ee-v'>-1000</span></li><li><span class='ee-k'>BOA_ADD_OFFSET_B10:</span><span class='ee-v'>-1000</span></li><li><span class='ee-k'>BOA_ADD_OFFSET_B11:</span><span class='ee-v'>-1000</span></li><li><span class='ee-k'>BOA_ADD_OFFSET_B12:</span><span class='ee-v'>-1000</span></li><li><span class='ee-k'>BOA_ADD_OFFSET_B2:</span><span class='ee-v'>-1000</span></li><li><span class='ee-k'>BOA_ADD_OFFSET_B3:</span><span class='ee-v'>-1000</span></li><li><span class='ee-k'>BOA_ADD_OFFSET_B4:</span><span class='ee-v'>-1000</span></li><li><span class='ee-k'>BOA_ADD_OFFSET_B5:</span><span class='ee-v'>-1000</span></li><li><span class='ee-k'>BOA_ADD_OFFSET_B6:</span><span class='ee-v'>-1000</span></li><li><span class='ee-k'>BOA_ADD_OFFSET_B7:</span><span class='ee-v'>-1000</span></li><li><span class='ee-k'>BOA_ADD_OFFSET_B8:</span><span class='ee-v'>-1000</span></li><li><span class='ee-k'>BOA_ADD_OFFSET_B8A:</span><span class='ee-v'>-1000</span></li><li><span class='ee-k'>BOA_ADD_OFFSET_B9:</span><span class='ee-v'>-1000</span></li><li><span class='ee-k'>CLOUDY_PIXEL_OVER_LAND_PERCENTAGE:</span><span class='ee-v'>0.251178</span></li><li><span class='ee-k'>CLOUDY_PIXEL_PERCENTAGE:</span><span class='ee-v'>0.326276</span></li><li><span class='ee-k'>CLOUD_COVERAGE_ASSESSMENT:</span><span class='ee-v'>0.326276</span></li><li><span class='ee-k'>CLOUD_SHADOW_PERCENTAGE:</span><span class='ee-v'>0.401893</span></li><li><span class='ee-k'>DARK_FEATURES_PERCENTAGE:</span><span class='ee-v'>0.015544</span></li><li><span class='ee-k'>DATASTRIP_ID:</span><span class='ee-v'>S2A_OPER_MSI_L2A_DS_2APS_20230917T215602_S20230917T152113_N05.09</span></li><li><span class='ee-k'>DATATAKE_IDENTIFIER:</span><span class='ee-v'>GS2A_20230917T151711_043022_N05.09</span></li><li><span class='ee-k'>DATATAKE_TYPE:</span><span class='ee-v'>INS-NOBS</span></li><li><span class='ee-k'>DEGRADED_MSI_DATA_PERCENTAGE:</span><span class='ee-v'>0.0216</span></li><li><span class='ee-k'>FORMAT_CORRECTNESS:</span><span class='ee-v'>PASSED</span></li><li><span class='ee-k'>GENERAL_QUALITY:</span><span class='ee-v'>PASSED</span></li><li><span class='ee-k'>GENERATION_TIME:</span><span class='ee-v'>1694987762000</span></li><li><span class='ee-k'>GEOMETRIC_QUALITY:</span><span class='ee-v'>PASSED</span></li><li><span class='ee-k'>GRANULE_ID:</span><span class='ee-v'>L2A_T18MXA_A043022_20230917T152113</span></li><li><span class='ee-k'>GRANULE_MEAN_AOT:</span><span class='ee-v'>0.100394</span></li><li><span class='ee-k'>GRANULE_MEAN_WV:</span><span class='ee-v'>3.985187</span></li><li><span class='ee-k'>HIGH_PROBA_CLOUDS_PERCENTAGE:</span><span class='ee-v'>0.053981</span></li><li><span class='ee-k'>L2A_QUALITY:</span><span class='ee-v'>PASSED</span></li><li><span class='ee-k'>MEAN_INCIDENCE_AZIMUTH_ANGLE_B1:</span><span class='ee-v'>274.96113752576</span></li><li><span class='ee-k'>MEAN_INCIDENCE_AZIMUTH_ANGLE_B10:</span><span class='ee-v'>276.034201743785</span></li><li><span class='ee-k'>MEAN_INCIDENCE_AZIMUTH_ANGLE_B11:</span><span class='ee-v'>275.468531043025</span></li><li><span class='ee-k'>MEAN_INCIDENCE_AZIMUTH_ANGLE_B12:</span><span class='ee-v'>275.114251150191</span></li><li><span class='ee-k'>MEAN_INCIDENCE_AZIMUTH_ANGLE_B2:</span><span class='ee-v'>277.571735902361</span></li><li><span class='ee-k'>MEAN_INCIDENCE_AZIMUTH_ANGLE_B3:</span><span class='ee-v'>276.621682166996</span></li><li><span class='ee-k'>MEAN_INCIDENCE_AZIMUTH_ANGLE_B4:</span><span class='ee-v'>276.000733414481</span></li><li><span class='ee-k'>MEAN_INCIDENCE_AZIMUTH_ANGLE_B5:</span><span class='ee-v'>275.700297611837</span></li><li><span class='ee-k'>MEAN_INCIDENCE_AZIMUTH_ANGLE_B6:</span><span class='ee-v'>275.495143677879</span></li><li><span class='ee-k'>MEAN_INCIDENCE_AZIMUTH_ANGLE_B7:</span><span class='ee-v'>275.305349467448</span></li><li><span class='ee-k'>MEAN_INCIDENCE_AZIMUTH_ANGLE_B8:</span><span class='ee-v'>277.029271593923</span></li><li><span class='ee-k'>MEAN_INCIDENCE_AZIMUTH_ANGLE_B8A:</span><span class='ee-v'>275.16461328629</span></li><li><span class='ee-k'>MEAN_INCIDENCE_AZIMUTH_ANGLE_B9:</span><span class='ee-v'>274.853404148708</span></li><li><span class='ee-k'>MEAN_INCIDENCE_ZENITH_ANGLE_B1:</span><span class='ee-v'>5.36824261477628</span></li><li><span class='ee-k'>MEAN_INCIDENCE_ZENITH_ANGLE_B10:</span><span class='ee-v'>5.10041809337439</span></li><li><span class='ee-k'>MEAN_INCIDENCE_ZENITH_ANGLE_B11:</span><span class='ee-v'>5.20398442817374</span></li><li><span class='ee-k'>MEAN_INCIDENCE_ZENITH_ANGLE_B12:</span><span class='ee-v'>5.32999401319564</span></li><li><span class='ee-k'>MEAN_INCIDENCE_ZENITH_ANGLE_B2:</span><span class='ee-v'>4.96891072307217</span></li><li><span class='ee-k'>MEAN_INCIDENCE_ZENITH_ANGLE_B3:</span><span class='ee-v'>5.04449951709028</span></li><li><span class='ee-k'>MEAN_INCIDENCE_ZENITH_ANGLE_B4:</span><span class='ee-v'>5.11599249533057</span></li><li><span class='ee-k'>MEAN_INCIDENCE_ZENITH_ANGLE_B5:</span><span class='ee-v'>5.15250026892171</span></li><li><span class='ee-k'>MEAN_INCIDENCE_ZENITH_ANGLE_B6:</span><span class='ee-v'>5.2009294965624</span></li><li><span class='ee-k'>MEAN_INCIDENCE_ZENITH_ANGLE_B7:</span><span class='ee-v'>5.25321413751908</span></li><li><span class='ee-k'>MEAN_INCIDENCE_ZENITH_ANGLE_B8:</span><span class='ee-v'>5.0017171301562</span></li><li><span class='ee-k'>MEAN_INCIDENCE_ZENITH_ANGLE_B8A:</span><span class='ee-v'>5.30860624878269</span></li><li><span class='ee-k'>MEAN_INCIDENCE_ZENITH_ANGLE_B9:</span><span class='ee-v'>5.43145455193936</span></li><li><span class='ee-k'>MEAN_SOLAR_AZIMUTH_ANGLE:</span><span class='ee-v'>73.7841799603101</span></li><li><span class='ee-k'>MEAN_SOLAR_ZENITH_ANGLE:</span><span class='ee-v'>22.0778493089577</span></li><li><span class='ee-k'>MEDIUM_PROBA_CLOUDS_PERCENTAGE:</span><span class='ee-v'>0.271804</span></li><li><span class='ee-k'>MGRS_TILE:</span><span class='ee-v'>18MXA</span></li><li><span class='ee-k'>NODATA_PIXEL_PERCENTAGE:</span><span class='ee-v'>0</span></li><li><span class='ee-k'>NOT_VEGETATED_PERCENTAGE:</span><span class='ee-v'>1.493475</span></li><li><span class='ee-k'>OZONE_SOURCE:</span><span class='ee-v'>AUX_ECMWFT</span></li><li><span class='ee-k'>OZONE_VALUE:</span><span class='ee-v'>276.634541</span></li><li><span class='ee-k'>PROCESSING_BASELINE:</span><span class='ee-v'>05.09</span></li><li><span class='ee-k'>PRODUCT_ID:</span><span class='ee-v'>S2A_MSIL2A_20230917T151711_N0509_R125_T18MXA_20230917T215602</span></li><li><span class='ee-k'>RADIATIVE_TRANSFER_ACCURACY:</span><span class='ee-v'>0</span></li><li><span class='ee-k'>RADIOMETRIC_QUALITY:</span><span class='ee-v'>PASSED</span></li><li><span class='ee-k'>REFLECTANCE_CONVERSION_CORRECTION:</span><span class='ee-v'>0.988360576760938</span></li><li><span class='ee-k'>SATURATED_DEFECTIVE_PIXEL_PERCENTAGE:</span><span class='ee-v'>0</span></li><li><span class='ee-k'>SENSING_ORBIT_DIRECTION:</span><span class='ee-v'>DESCENDING</span></li><li><span class='ee-k'>SENSING_ORBIT_NUMBER:</span><span class='ee-v'>125</span></li><li><span class='ee-k'>SENSOR_QUALITY:</span><span class='ee-v'>PASSED</span></li><li><span class='ee-k'>SNOW_ICE_PERCENTAGE:</span><span class='ee-v'>0</span></li><li><span class='ee-k'>SOLAR_IRRADIANCE_B1:</span><span class='ee-v'>1884.69</span></li><li><span class='ee-k'>SOLAR_IRRADIANCE_B10:</span><span class='ee-v'>367.15</span></li><li><span class='ee-k'>SOLAR_IRRADIANCE_B11:</span><span class='ee-v'>245.59</span></li><li><span class='ee-k'>SOLAR_IRRADIANCE_B12:</span><span class='ee-v'>85.25</span></li><li><span class='ee-k'>SOLAR_IRRADIANCE_B2:</span><span class='ee-v'>1959.66</span></li><li><span class='ee-k'>SOLAR_IRRADIANCE_B3:</span><span class='ee-v'>1823.24</span></li><li><span class='ee-k'>SOLAR_IRRADIANCE_B4:</span><span class='ee-v'>1512.06</span></li><li><span class='ee-k'>SOLAR_IRRADIANCE_B5:</span><span class='ee-v'>1424.64</span></li><li><span class='ee-k'>SOLAR_IRRADIANCE_B6:</span><span class='ee-v'>1287.61</span></li><li><span class='ee-k'>SOLAR_IRRADIANCE_B7:</span><span class='ee-v'>1162.08</span></li><li><span class='ee-k'>SOLAR_IRRADIANCE_B8:</span><span class='ee-v'>1041.63</span></li><li><span class='ee-k'>SOLAR_IRRADIANCE_B8A:</span><span class='ee-v'>955.32</span></li><li><span class='ee-k'>SOLAR_IRRADIANCE_B9:</span><span class='ee-v'>812.92</span></li><li><span class='ee-k'>SPACECRAFT_NAME:</span><span class='ee-v'>Sentinel-2A</span></li><li><span class='ee-k'>THIN_CIRRUS_PERCENTAGE:</span><span class='ee-v'>0.000491</span></li><li><span class='ee-k'>UNCLASSIFIED_PERCENTAGE:</span><span class='ee-v'>0.26349</span></li><li><span class='ee-k'>VEGETATION_PERCENTAGE:</span><span class='ee-v'>94.682157</span></li><li><span class='ee-k'>WATER_PERCENTAGE:</span><span class='ee-v'>2.817167</span></li><li><span class='ee-k'>WATER_VAPOUR_RETRIEVAL_ACCURACY:</span><span class='ee-v'>0</span></li><li><span class='ee-k'>system:asset_size:</span><span class='ee-v'>1529803893</span></li><li><label class='ee-shut'>system:footprint: Polygon (126 vertices)<input type='checkbox' class='ee-toggle'></label><ul><li><span class='ee-k'>type:</span><span class='ee-v'>Polygon</span></li><li><label class='ee-shut'>coordinates: List (1 element)<input type='checkbox' class='ee-toggle'></label><ul><li><label class='ee-shut'>0: List (126 elements)<input type='checkbox' class='ee-toggle'></label><ul><li><label class='ee-shut'>0: [-73.70644351295583, -4.245527932001742]<input type='checkbox' class='ee-toggle'></label><ul><li><span class='ee-k'>0:</span><span class='ee-v'>-73.70644351295583</span></li><li><span class='ee-k'>1:</span><span class='ee-v'>-4.245527932001742</span></li></ul></li><li><label class='ee-shut'>1: [-73.70651840850482, -4.200305430535437]<input type='checkbox' class='ee-toggle'></label><ul><li><span class='ee-k'>0:</span><span class='ee-v'>-73.70651840850482</span></li><li><span class='ee-k'>1:</span><span class='ee-v'>-4.200305430535437</span></li></ul></li><li><label class='ee-shut'>2: [-73.70654430447145, -4.184554511085448]<input type='checkbox' class='ee-toggle'></label><ul><li><span class='ee-k'>0:</span><span class='ee-v'>-73.70654430447145</span></li><li><span class='ee-k'>1:</span><span class='ee-v'>-4.184554511085448</span></li></ul></li><li><label class='ee-shut'>3: [-73.75161724827645, -4.164970396995145]<input type='checkbox' class='ee-toggle'></label><ul><li><span class='ee-k'>0:</span><span class='ee-v'>-73.75161724827645</span></li><li><span class='ee-k'>1:</span><span class='ee-v'>-4.164970396995145</span></li></ul></li><li><label class='ee-shut'>4: [-73.79665879269554, -4.165040682138108]<input type='checkbox' class='ee-toggle'></label><ul><li><span class='ee-k'>0:</span><span class='ee-v'>-73.79665879269554</span></li><li><span class='ee-k'>1:</span><span class='ee-v'>-4.165040682138108</span></li></ul></li><li><label class='ee-shut'>5: [-73.79664603445022, -4.173428671936142]<input type='checkbox' class='ee-toggle'></label><ul><li><span class='ee-k'>0:</span><span class='ee-v'>-73.79664603445022</span></li><li><span class='ee-k'>1:</span><span class='ee-v'>-4.173428671936142</span></li></ul></li><li><label class='ee-shut'>6: [-73.79660475885693, -4.200449802790024]<input type='checkbox' class='ee-toggle'></label><ul><li><span class='ee-k'>0:</span><span class='ee-v'>-73.79660475885693</span></li><li><span class='ee-k'>1:</span><span class='ee-v'>-4.200449802790024</span></li></ul></li><li><label class='ee-shut'>7: [-73.79656849245288, -4.224047724686024]<input type='checkbox' class='ee-toggle'></label><ul><li><span class='ee-k'>0:</span><span class='ee-v'>-73.79656849245288</span></li><li><span class='ee-k'>1:</span><span class='ee-v'>-4.224047724686024</span></li></ul></li><li><label class='ee-shut'>8: [-73.7965350763306, -4.245673864084816]<input type='checkbox' class='ee-toggle'></label><ul><li><span class='ee-k'>0:</span><span class='ee-v'>-73.7965350763306</span></li><li><span class='ee-k'>1:</span><span class='ee-v'>-4.245673864084816</span></li></ul></li><li><label class='ee-shut'>9: [-73.79646464076079, -4.290897871296439]<input type='checkbox' class='ee-toggle'></label><ul><li><span class='ee-k'>0:</span><span class='ee-v'>-73.79646464076079</span></li><li><span class='ee-k'>1:</span><span class='ee-v'>-4.290897871296439</span></li></ul></li><li><label class='ee-shut'>10: [-73.79639345192926, -4.336121823852913]<input type='checkbox' class='ee-toggle'></label><ul><li><span class='ee-k'>0:</span><span class='ee-v'>-73.79639345192926</span></li><li><span class='ee-k'>1:</span><span class='ee-v'>-4.336121823852913</span></li></ul></li><li><label class='ee-shut'>11: [-73.7963849853264, -4.341468738571878]<input type='checkbox' class='ee-toggle'></label><ul><li><span class='ee-k'>0:</span><span class='ee-v'>-73.7963849853264</span></li><li><span class='ee-k'>1:</span><span class='ee-v'>-4.341468738571878</span></li></ul></li><li><label class='ee-shut'>12: [-73.79632150961547, -4.381345721182393]<input type='checkbox' class='ee-toggle'></label><ul><li><span class='ee-k'>0:</span><span class='ee-v'>-73.79632150961547</span></li><li><span class='ee-k'>1:</span><span class='ee-v'>-4.381345721182393</span></li></ul></li><li><label class='ee-shut'>13: [-73.79624881359646, -4.426569562713167]<input type='checkbox' class='ee-toggle'></label><ul><li><span class='ee-k'>0:</span><span class='ee-v'>-73.79624881359646</span></li><li><span class='ee-k'>1:</span><span class='ee-v'>-4.426569562713167</span></li></ul></li><li><label class='ee-shut'>14: [-73.79617536364692, -4.47179334787365]<input type='checkbox' class='ee-toggle'></label><ul><li><span class='ee-k'>0:</span><span class='ee-v'>-73.79617536364692</span></li><li><span class='ee-k'>1:</span><span class='ee-v'>-4.47179334787365</span></li></ul></li><li><label class='ee-shut'>15: [-73.75108754529599, -4.488332065999658]<input type='checkbox' class='ee-toggle'></label><ul><li><span class='ee-k'>0:</span><span class='ee-v'>-73.75108754529599</span></li><li><span class='ee-k'>1:</span><span class='ee-v'>-4.488332065999658</span></li></ul></li><li><label class='ee-shut'>16: [-73.74970249138407, -4.4870009486664415]<input type='checkbox' class='ee-toggle'></label><ul><li><span class='ee-k'>0:</span><span class='ee-v'>-73.74970249138407</span></li><li><span class='ee-k'>1:</span><span class='ee-v'>-4.4870009486664415</span></li></ul></li><li><label class='ee-shut'>17: [-73.74881151999165, -4.486441911395095]<input type='checkbox' class='ee-toggle'></label><ul><li><span class='ee-k'>0:</span><span class='ee-v'>-73.74881151999165</span></li><li><span class='ee-k'>1:</span><span class='ee-v'>-4.486441911395095</span></li></ul></li><li><label class='ee-shut'>18: [-73.74778101389151, -4.485794629948547]<input type='checkbox' class='ee-toggle'></label><ul><li><span class='ee-k'>0:</span><span class='ee-v'>-73.74778101389151</span></li><li><span class='ee-k'>1:</span><span class='ee-v'>-4.485794629948547</span></li></ul></li><li><label class='ee-shut'>19: [-73.74575957769454, -4.484760074053891]<input type='checkbox' class='ee-toggle'></label><ul><li><span class='ee-k'>0:</span><span class='ee-v'>-73.74575957769454</span></li><li><span class='ee-k'>1:</span><span class='ee-v'>-4.484760074053891</span></li></ul></li><li><label class='ee-shut'>20: [-73.74366352147801, -4.483888188450969]<input type='checkbox' class='ee-toggle'></label><ul><li><span class='ee-k'>0:</span><span class='ee-v'>-73.74366352147801</span></li><li><span class='ee-k'>1:</span><span class='ee-v'>-4.483888188450969</span></li></ul></li><li><label class='ee-shut'>21: [-73.74239725852446, -4.483511924161269]<input type='checkbox' class='ee-toggle'></label><ul><li><span class='ee-k'>0:</span><span class='ee-v'>-73.74239725852446</span></li><li><span class='ee-k'>1:</span><span class='ee-v'>-4.483511924161269</span></li></ul></li><li><label class='ee-shut'>22: [-73.74149318626301, -4.483242556240875]<input type='checkbox' class='ee-toggle'></label><ul><li><span class='ee-k'>0:</span><span class='ee-v'>-73.74149318626301</span></li><li><span class='ee-k'>1:</span><span class='ee-v'>-4.483242556240875</span></li></ul></li><li><label class='ee-shut'>23: [-73.740553870473, -4.4830302883816415]<input type='checkbox' class='ee-toggle'></label><ul><li><span class='ee-k'>0:</span><span class='ee-v'>-73.740553870473</span></li><li><span class='ee-k'>1:</span><span class='ee-v'>-4.4830302883816415</span></li></ul></li><li><label class='ee-shut'>24: [-73.73927664852665, -4.482741009497692]<input type='checkbox' class='ee-toggle'></label><ul><li><span class='ee-k'>0:</span><span class='ee-v'>-73.73927664852665</span></li><li><span class='ee-k'>1:</span><span class='ee-v'>-4.482741009497692</span></li></ul></li><li><label class='ee-shut'>25: [-73.73780383279085, -4.482420096426139]<input type='checkbox' class='ee-toggle'></label><ul><li><span class='ee-k'>0:</span><span class='ee-v'>-73.73780383279085</span></li><li><span class='ee-k'>1:</span><span class='ee-v'>-4.482420096426139</span></li></ul></li><li><label class='ee-shut'>26: [-73.73706053468318, -4.482257818081319]<input type='checkbox' class='ee-toggle'></label><ul><li><span class='ee-k'>0:</span><span class='ee-v'>-73.73706053468318</span></li><li><span class='ee-k'>1:</span><span class='ee-v'>-4.482257818081319</span></li></ul></li><li><label class='ee-shut'>27: [-73.73596340554424, -4.48205612561772]<input type='checkbox' class='ee-toggle'></label><ul><li><span class='ee-k'>0:</span><span class='ee-v'>-73.73596340554424</span></li><li><span class='ee-k'>1:</span><span class='ee-v'>-4.48205612561772</span></li></ul></li><li><label class='ee-shut'>28: [-73.73482744885148, -4.481846947879099]<input type='checkbox' class='ee-toggle'></label><ul><li><span class='ee-k'>0:</span><span class='ee-v'>-73.73482744885148</span></li><li><span class='ee-k'>1:</span><span class='ee-v'>-4.481846947879099</span></li></ul></li><li><label class='ee-shut'>29: [-73.73258580271076, -4.481490324039987]<input type='checkbox' class='ee-toggle'></label><ul><li><span class='ee-k'>0:</span><span class='ee-v'>-73.73258580271076</span></li><li><span class='ee-k'>1:</span><span class='ee-v'>-4.481490324039987</span></li></ul></li><li><label class='ee-shut'>30: [-73.73154995509378, -4.481290812169524]<input type='checkbox' class='ee-toggle'></label><ul><li><span class='ee-k'>0:</span><span class='ee-v'>-73.73154995509378</span></li><li><span class='ee-k'>1:</span><span class='ee-v'>-4.481290812169524</span></li></ul></li><li><label class='ee-shut'>31: [-73.73036194862735, -4.481061458890254]<input type='checkbox' class='ee-toggle'></label><ul><li><span class='ee-k'>0:</span><span class='ee-v'>-73.73036194862735</span></li><li><span class='ee-k'>1:</span><span class='ee-v'>-4.481061458890254</span></li></ul></li><li><label class='ee-shut'>32: [-73.72813416548473, -4.480614220433293]<input type='checkbox' class='ee-toggle'></label><ul><li><span class='ee-k'>0:</span><span class='ee-v'>-73.72813416548473</span></li><li><span class='ee-k'>1:</span><span class='ee-v'>-4.480614220433293</span></li></ul></li><li><label class='ee-shut'>33: [-73.72765935516014, -4.48054655459936]<input type='checkbox' class='ee-toggle'></label><ul><li><span class='ee-k'>0:</span><span class='ee-v'>-73.72765935516014</span></li><li><span class='ee-k'>1:</span><span class='ee-v'>-4.48054655459936</span></li></ul></li><li><label class='ee-shut'>34: [-73.72588688184207, -4.480293836765291]<input type='checkbox' class='ee-toggle'></label><ul><li><span class='ee-k'>0:</span><span class='ee-v'>-73.72588688184207</span></li><li><span class='ee-k'>1:</span><span class='ee-v'>-4.480293836765291</span></li></ul></li><li><label class='ee-shut'>35: [-73.7251957293642, -4.480259437846727]<input type='checkbox' class='ee-toggle'></label><ul><li><span class='ee-k'>0:</span><span class='ee-v'>-73.7251957293642</span></li><li><span class='ee-k'>1:</span><span class='ee-v'>-4.480259437846727</span></li></ul></li><li><label class='ee-shut'>36: [-73.72362518332044, -4.4801811743438025]<input type='checkbox' class='ee-toggle'></label><ul><li><span class='ee-k'>0:</span><span class='ee-v'>-73.72362518332044</span></li><li><span class='ee-k'>1:</span><span class='ee-v'>-4.4801811743438025</span></li></ul></li><li><label class='ee-shut'>37: [-73.72287959618178, -4.480200854909804]<input type='checkbox' class='ee-toggle'></label><ul><li><span class='ee-k'>0:</span><span class='ee-v'>-73.72287959618178</span></li><li><span class='ee-k'>1:</span><span class='ee-v'>-4.480200854909804</span></li></ul></li><li><label class='ee-shut'>38: [-73.72135570848036, -4.48024069915099]<input type='checkbox' class='ee-toggle'></label><ul><li><span class='ee-k'>0:</span><span class='ee-v'>-73.72135570848036</span></li><li><span class='ee-k'>1:</span><span class='ee-v'>-4.48024069915099</span></li></ul></li><li><label class='ee-shut'>39: [-73.71943216369692, -4.480321625512571]<input type='checkbox' class='ee-toggle'></label><ul><li><span class='ee-k'>0:</span><span class='ee-v'>-73.71943216369692</span></li><li><span class='ee-k'>1:</span><span class='ee-v'>-4.480321625512571</span></li></ul></li><li><label class='ee-shut'>40: [-73.71908572203861, -4.480336213056514]<input type='checkbox' class='ee-toggle'></label><ul><li><span class='ee-k'>0:</span><span class='ee-v'>-73.71908572203861</span></li><li><span class='ee-k'>1:</span><span class='ee-v'>-4.480336213056514</span></li></ul></li><li><label class='ee-shut'>41: [-73.71700283916486, -4.481146292757484]<input type='checkbox' class='ee-toggle'></label><ul><li><span class='ee-k'>0:</span><span class='ee-v'>-73.71700283916486</span></li><li><span class='ee-k'>1:</span><span class='ee-v'>-4.481146292757484</span></li></ul></li><li><label class='ee-shut'>42: [-73.71601884651129, -4.481345171034944]<input type='checkbox' class='ee-toggle'></label><ul><li><span class='ee-k'>0:</span><span class='ee-v'>-73.71601884651129</span></li><li><span class='ee-k'>1:</span><span class='ee-v'>-4.481345171034944</span></li></ul></li><li><label class='ee-shut'>43: [-73.71478035982169, -4.481594882415131]<input type='checkbox' class='ee-toggle'></label><ul><li><span class='ee-k'>0:</span><span class='ee-v'>-73.71478035982169</span></li><li><span class='ee-k'>1:</span><span class='ee-v'>-4.481594882415131</span></li></ul></li><li><label class='ee-shut'>44: [-73.71346028722132, -4.481603050291513]<input type='checkbox' class='ee-toggle'></label><ul><li><span class='ee-k'>0:</span><span class='ee-v'>-73.71346028722132</span></li><li><span class='ee-k'>1:</span><span class='ee-v'>-4.481603050291513</span></li></ul></li><li><label class='ee-shut'>45: [-73.71250916495588, -4.481608881466721]<input type='checkbox' class='ee-toggle'></label><ul><li><span class='ee-k'>0:</span><span class='ee-v'>-73.71250916495588</span></li><li><span class='ee-k'>1:</span><span class='ee-v'>-4.481608881466721</span></li></ul></li><li><label class='ee-shut'>46: [-73.71121524600525, -4.481606690208439]<input type='checkbox' class='ee-toggle'></label><ul><li><span class='ee-k'>0:</span><span class='ee-v'>-73.71121524600525</span></li><li><span class='ee-k'>1:</span><span class='ee-v'>-4.481606690208439</span></li></ul></li><li><label class='ee-shut'>47: [-73.71024286980528, -4.481604974007236]<input type='checkbox' class='ee-toggle'></label><ul><li><span class='ee-k'>0:</span><span class='ee-v'>-73.71024286980528</span></li><li><span class='ee-k'>1:</span><span class='ee-v'>-4.481604974007236</span></li></ul></li><li><label class='ee-shut'>48: [-73.70798057345189, -4.481429131182429]<input type='checkbox' class='ee-toggle'></label><ul><li><span class='ee-k'>0:</span><span class='ee-v'>-73.70798057345189</span></li><li><span class='ee-k'>1:</span><span class='ee-v'>-4.481429131182429</span></li></ul></li><li><label class='ee-shut'>49: [-73.70603999990816, -4.4812548464663475]<input type='checkbox' class='ee-toggle'></label><ul><li><span class='ee-k'>0:</span><span class='ee-v'>-73.70603999990816</span></li><li><span class='ee-k'>1:</span><span class='ee-v'>-4.4812548464663475</span></li></ul></li><li><label class='ee-shut'>50: [-73.7059638619137, -4.4812480186998815]<input type='checkbox' class='ee-toggle'></label><ul><li><span class='ee-k'>0:</span><span class='ee-v'>-73.7059638619137</span></li><li><span class='ee-k'>1:</span><span class='ee-v'>-4.4812480186998815</span></li></ul></li><li><label class='ee-shut'>51: [-73.70571895905348, -4.481225968583812]<input type='checkbox' class='ee-toggle'></label><ul><li><span class='ee-k'>0:</span><span class='ee-v'>-73.70571895905348</span></li><li><span class='ee-k'>1:</span><span class='ee-v'>-4.481225968583812</span></li></ul></li><li><label class='ee-shut'>52: [-73.70531997809951, -4.481190169098988]<input type='checkbox' class='ee-toggle'></label><ul><li><span class='ee-k'>0:</span><span class='ee-v'>-73.70531997809951</span></li><li><span class='ee-k'>1:</span><span class='ee-v'>-4.481190169098988</span></li></ul></li><li><label class='ee-shut'>53: [-73.70346077175077, -4.481023167197234]<input type='checkbox' class='ee-toggle'></label><ul><li><span class='ee-k'>0:</span><span class='ee-v'>-73.70346077175077</span></li><li><span class='ee-k'>1:</span><span class='ee-v'>-4.481023167197234</span></li></ul></li><li><label class='ee-shut'>54: [-73.7011932785949, -4.480937739572928]<input type='checkbox' class='ee-toggle'></label><ul><li><span class='ee-k'>0:</span><span class='ee-v'>-73.7011932785949</span></li><li><span class='ee-k'>1:</span><span class='ee-v'>-4.480937739572928</span></li></ul></li><li><label class='ee-shut'>55: [-73.69892614698026, -4.481006061176363]<input type='checkbox' class='ee-toggle'></label><ul><li><span class='ee-k'>0:</span><span class='ee-v'>-73.69892614698026</span></li><li><span class='ee-k'>1:</span><span class='ee-v'>-4.481006061176363</span></li></ul></li><li><label class='ee-shut'>56: [-73.69759285077252, -4.481056866792948]<input type='checkbox' class='ee-toggle'></label><ul><li><span class='ee-k'>0:</span><span class='ee-v'>-73.69759285077252</span></li><li><span class='ee-k'>1:</span><span class='ee-v'>-4.481056866792948</span></li></ul></li><li><label class='ee-shut'>57: [-73.69665529011687, -4.4810924578333715]<input type='checkbox' class='ee-toggle'></label><ul><li><span class='ee-k'>0:</span><span class='ee-v'>-73.69665529011687</span></li><li><span class='ee-k'>1:</span><span class='ee-v'>-4.4810924578333715</span></li></ul></li><li><label class='ee-shut'>58: [-73.69438934325424, -4.481205898871592]<input type='checkbox' class='ee-toggle'></label><ul><li><span class='ee-k'>0:</span><span class='ee-v'>-73.69438934325424</span></li><li><span class='ee-k'>1:</span><span class='ee-v'>-4.481205898871592</span></li></ul></li><li><label class='ee-shut'>59: [-73.69212345245468, -4.481237842590027]<input type='checkbox' class='ee-toggle'></label><ul><li><span class='ee-k'>0:</span><span class='ee-v'>-73.69212345245468</span></li><li><span class='ee-k'>1:</span><span class='ee-v'>-4.481237842590027</span></li></ul></li><li><label class='ee-shut'>60: [-73.68985744409937, -4.481134384230166]<input type='checkbox' class='ee-toggle'></label><ul><li><span class='ee-k'>0:</span><span class='ee-v'>-73.68985744409937</span></li><li><span class='ee-k'>1:</span><span class='ee-v'>-4.481134384230166</span></li></ul></li><li><label class='ee-shut'>61: [-73.68770992205634, -4.4809416827506485]<input type='checkbox' class='ee-toggle'></label><ul><li><span class='ee-k'>0:</span><span class='ee-v'>-73.68770992205634</span></li><li><span class='ee-k'>1:</span><span class='ee-v'>-4.4809416827506485</span></li></ul></li><li><label class='ee-shut'>62: [-73.6875990050001, -4.480931715560229]<input type='checkbox' class='ee-toggle'></label><ul><li><span class='ee-k'>0:</span><span class='ee-v'>-73.6875990050001</span></li><li><span class='ee-k'>1:</span><span class='ee-v'>-4.480931715560229</span></li></ul></li><li><label class='ee-shut'>63: [-73.68535614889957, -4.480583634495522]<input type='checkbox' class='ee-toggle'></label><ul><li><span class='ee-k'>0:</span><span class='ee-v'>-73.68535614889957</span></li><li><span class='ee-k'>1:</span><span class='ee-v'>-4.480583634495522</span></li></ul></li><li><label class='ee-shut'>64: [-73.68312942465121, -4.480136630679193]<input type='checkbox' class='ee-toggle'></label><ul><li><span class='ee-k'>0:</span><span class='ee-v'>-73.68312942465121</span></li><li><span class='ee-k'>1:</span><span class='ee-v'>-4.480136630679193</span></li></ul></li><li><label class='ee-shut'>65: [-73.68093447318127, -4.479562876067171]<input type='checkbox' class='ee-toggle'></label><ul><li><span class='ee-k'>0:</span><span class='ee-v'>-73.68093447318127</span></li><li><span class='ee-k'>1:</span><span class='ee-v'>-4.479562876067171</span></li></ul></li><li><label class='ee-shut'>66: [-73.67875930225387, -4.4789167966705365]<input type='checkbox' class='ee-toggle'></label><ul><li><span class='ee-k'>0:</span><span class='ee-v'>-73.67875930225387</span></li><li><span class='ee-k'>1:</span><span class='ee-v'>-4.4789167966705365</span></li></ul></li><li><label class='ee-shut'>67: [-73.67662943902413, -4.478135128529261]<input type='checkbox' class='ee-toggle'></label><ul><li><span class='ee-k'>0:</span><span class='ee-v'>-73.67662943902413</span></li><li><span class='ee-k'>1:</span><span class='ee-v'>-4.478135128529261</span></li></ul></li><li><label class='ee-shut'>68: [-73.67452393716952, -4.477290189190655]<input type='checkbox' class='ee-toggle'></label><ul><li><span class='ee-k'>0:</span><span class='ee-v'>-73.67452393716952</span></li><li><span class='ee-k'>1:</span><span class='ee-v'>-4.477290189190655</span></li></ul></li><li><label class='ee-shut'>69: [-73.67329130988502, -4.476745925844339]<input type='checkbox' class='ee-toggle'></label><ul><li><span class='ee-k'>0:</span><span class='ee-v'>-73.67329130988502</span></li><li><span class='ee-k'>1:</span><span class='ee-v'>-4.476745925844339</span></li></ul></li><li><label class='ee-shut'>70: [-73.672447229346, -4.476372761814433]<input type='checkbox' class='ee-toggle'></label><ul><li><span class='ee-k'>0:</span><span class='ee-v'>-73.672447229346</span></li><li><span class='ee-k'>1:</span><span class='ee-v'>-4.476372761814433</span></li></ul></li><li><label class='ee-shut'>71: [-73.67039486676285, -4.4754013796009815]<input type='checkbox' class='ee-toggle'></label><ul><li><span class='ee-k'>0:</span><span class='ee-v'>-73.67039486676285</span></li><li><span class='ee-k'>1:</span><span class='ee-v'>-4.4754013796009815</span></li></ul></li><li><label class='ee-shut'>72: [-73.66991467216454, -4.475182085872096]<input type='checkbox' class='ee-toggle'></label><ul><li><span class='ee-k'>0:</span><span class='ee-v'>-73.66991467216454</span></li><li><span class='ee-k'>1:</span><span class='ee-v'>-4.475182085872096</span></li></ul></li><li><label class='ee-shut'>73: [-73.66832732242706, -4.474457098565824]<input type='checkbox' class='ee-toggle'></label><ul><li><span class='ee-k'>0:</span><span class='ee-v'>-73.66832732242706</span></li><li><span class='ee-k'>1:</span><span class='ee-v'>-4.474457098565824</span></li></ul></li><li><label class='ee-shut'>74: [-73.66623261930617, -4.473585027879518]<input type='checkbox' class='ee-toggle'></label><ul><li><span class='ee-k'>0:</span><span class='ee-v'>-73.66623261930617</span></li><li><span class='ee-k'>1:</span><span class='ee-v'>-4.473585027879518</span></li></ul></li><li><label class='ee-shut'>75: [-73.6640801503208, -4.472866600581387]<input type='checkbox' class='ee-toggle'></label><ul><li><span class='ee-k'>0:</span><span class='ee-v'>-73.6640801503208</span></li><li><span class='ee-k'>1:</span><span class='ee-v'>-4.472866600581387</span></li></ul></li><li><label class='ee-shut'>76: [-73.66187381399985, -4.472338000179723]<input type='checkbox' class='ee-toggle'></label><ul><li><span class='ee-k'>0:</span><span class='ee-v'>-73.66187381399985</span></li><li><span class='ee-k'>1:</span><span class='ee-v'>-4.472338000179723</span></li></ul></li><li><label class='ee-shut'>77: [-73.65964020154851, -4.471945008614324]<input type='checkbox' class='ee-toggle'></label><ul><li><span class='ee-k'>0:</span><span class='ee-v'>-73.65964020154851</span></li><li><span class='ee-k'>1:</span><span class='ee-v'>-4.471945008614324</span></li></ul></li><li><label class='ee-shut'>78: [-73.65963803894721, -4.471944914211611]<input type='checkbox' class='ee-toggle'></label><ul><li><span class='ee-k'>0:</span><span class='ee-v'>-73.65963803894721</span></li><li><span class='ee-k'>1:</span><span class='ee-v'>-4.471944914211611</span></li></ul></li><li><label class='ee-shut'>79: [-73.65963740830497, -4.471944822613911]<input type='checkbox' class='ee-toggle'></label><ul><li><span class='ee-k'>0:</span><span class='ee-v'>-73.65963740830497</span></li><li><span class='ee-k'>1:</span><span class='ee-v'>-4.471944822613911</span></li></ul></li><li><label class='ee-shut'>80: [-73.65871073724571, -4.471902516402021]<input type='checkbox' class='ee-toggle'></label><ul><li><span class='ee-k'>0:</span><span class='ee-v'>-73.65871073724571</span></li><li><span class='ee-k'>1:</span><span class='ee-v'>-4.471902516402021</span></li></ul></li><li><label class='ee-shut'>81: [-73.65737452621731, -4.471841369459497]<input type='checkbox' class='ee-toggle'></label><ul><li><span class='ee-k'>0:</span><span class='ee-v'>-73.65737452621731</span></li><li><span class='ee-k'>1:</span><span class='ee-v'>-4.471841369459497</span></li></ul></li><li><label class='ee-shut'>82: [-73.65737407547692, -4.471841459075725]<input type='checkbox' class='ee-toggle'></label><ul><li><span class='ee-k'>0:</span><span class='ee-v'>-73.65737407547692</span></li><li><span class='ee-k'>1:</span><span class='ee-v'>-4.471841459075725</span></li></ul></li><li><label class='ee-shut'>83: [-73.65737155241767, -4.47184136400539]<input type='checkbox' class='ee-toggle'></label><ul><li><span class='ee-k'>0:</span><span class='ee-v'>-73.65737155241767</span></li><li><span class='ee-k'>1:</span><span class='ee-v'>-4.47184136400539</span></li></ul></li><li><label class='ee-shut'>84: [-73.65513611190423, -4.472207985833637]<input type='checkbox' class='ee-toggle'></label><ul><li><span class='ee-k'>0:</span><span class='ee-v'>-73.65513611190423</span></li><li><span class='ee-k'>1:</span><span class='ee-v'>-4.472207985833637</span></li></ul></li><li><label class='ee-shut'>85: [-73.65290900960902, -4.472647060143798]<input type='checkbox' class='ee-toggle'></label><ul><li><span class='ee-k'>0:</span><span class='ee-v'>-73.65290900960902</span></li><li><span class='ee-k'>1:</span><span class='ee-v'>-4.472647060143798</span></li></ul></li><li><label class='ee-shut'>86: [-73.6520898189253, -4.472522188114017]<input type='checkbox' class='ee-toggle'></label><ul><li><span class='ee-k'>0:</span><span class='ee-v'>-73.6520898189253</span></li><li><span class='ee-k'>1:</span><span class='ee-v'>-4.472522188114017</span></li></ul></li><li><label class='ee-shut'>87: [-73.65068819588525, -4.472308602874048]<input type='checkbox' class='ee-toggle'></label><ul><li><span class='ee-k'>0:</span><span class='ee-v'>-73.65068819588525</span></li><li><span class='ee-k'>1:</span><span class='ee-v'>-4.472308602874048</span></li></ul></li><li><label class='ee-shut'>88: [-73.6487274016014, -4.471165137744553]<input type='checkbox' class='ee-toggle'></label><ul><li><span class='ee-k'>0:</span><span class='ee-v'>-73.6487274016014</span></li><li><span class='ee-k'>1:</span><span class='ee-v'>-4.471165137744553</span></li></ul></li><li><label class='ee-shut'>89: [-73.64692683490026, -4.469778041704015]<input type='checkbox' class='ee-toggle'></label><ul><li><span class='ee-k'>0:</span><span class='ee-v'>-73.64692683490026</span></li><li><span class='ee-k'>1:</span><span class='ee-v'>-4.469778041704015</span></li></ul></li><li><label class='ee-shut'>90: [-73.64499662925209, -4.468571678838533]<input type='checkbox' class='ee-toggle'></label><ul><li><span class='ee-k'>0:</span><span class='ee-v'>-73.64499662925209</span></li><li><span class='ee-k'>1:</span><span class='ee-v'>-4.468571678838533</span></li></ul></li><li><label class='ee-shut'>91: [-73.64312052470142, -4.4678907928150595]<input type='checkbox' class='ee-toggle'></label><ul><li><span class='ee-k'>0:</span><span class='ee-v'>-73.64312052470142</span></li><li><span class='ee-k'>1:</span><span class='ee-v'>-4.4678907928150595</span></li></ul></li><li><label class='ee-shut'>92: [-73.64167178942206, -4.467480575269855]<input type='checkbox' class='ee-toggle'></label><ul><li><span class='ee-k'>0:</span><span class='ee-v'>-73.64167178942206</span></li><li><span class='ee-k'>1:</span><span class='ee-v'>-4.467480575269855</span></li></ul></li><li><label class='ee-shut'>93: [-73.64067840592179, -4.467215998249145]<input type='checkbox' class='ee-toggle'></label><ul><li><span class='ee-k'>0:</span><span class='ee-v'>-73.64067840592179</span></li><li><span class='ee-k'>1:</span><span class='ee-v'>-4.467215998249145</span></li></ul></li><li><label class='ee-shut'>94: [-73.63843538319364, -4.466868424975319]<input type='checkbox' class='ee-toggle'></label><ul><li><span class='ee-k'>0:</span><span class='ee-v'>-73.63843538319364</span></li><li><span class='ee-k'>1:</span><span class='ee-v'>-4.466868424975319</span></li></ul></li><li><label class='ee-shut'>95: [-73.63616940527771, -4.466900388411386]<input type='checkbox' class='ee-toggle'></label><ul><li><span class='ee-k'>0:</span><span class='ee-v'>-73.63616940527771</span></li><li><span class='ee-k'>1:</span><span class='ee-v'>-4.466900388411386</span></li></ul></li><li><label class='ee-shut'>96: [-73.63392113773378, -4.467248291882181]<input type='checkbox' class='ee-toggle'></label><ul><li><span class='ee-k'>0:</span><span class='ee-v'>-73.63392113773378</span></li><li><span class='ee-k'>1:</span><span class='ee-v'>-4.467248291882181</span></li></ul></li><li><label class='ee-shut'>97: [-73.63172909062652, -4.467796350420927]<input type='checkbox' class='ee-toggle'></label><ul><li><span class='ee-k'>0:</span><span class='ee-v'>-73.63172909062652</span></li><li><span class='ee-k'>1:</span><span class='ee-v'>-4.467796350420927</span></li></ul></li><li><label class='ee-shut'>98: [-73.62951659750591, -4.468289826686977]<input type='checkbox' class='ee-toggle'></label><ul><li><span class='ee-k'>0:</span><span class='ee-v'>-73.62951659750591</span></li><li><span class='ee-k'>1:</span><span class='ee-v'>-4.468289826686977</span></li></ul></li><li><label class='ee-shut'>99: [-73.62725825656443, -4.468529701071753]<input type='checkbox' class='ee-toggle'></label><ul><li><span class='ee-k'>0:</span><span class='ee-v'>-73.62725825656443</span></li><li><span class='ee-k'>1:</span><span class='ee-v'>-4.468529701071753</span></li></ul></li><li><label class='ee-shut'>100: [-73.62499236907237, -4.468660842929837]<input type='checkbox' class='ee-toggle'></label><ul><li><span class='ee-k'>0:</span><span class='ee-v'>-73.62499236907237</span></li><li><span class='ee-k'>1:</span><span class='ee-v'>-4.468660842929837</span></li></ul></li><li><label class='ee-shut'>101: [-73.62272639776242, -4.4686927628997]<input type='checkbox' class='ee-toggle'></label><ul><li><span class='ee-k'>0:</span><span class='ee-v'>-73.62272639776242</span></li><li><span class='ee-k'>1:</span><span class='ee-v'>-4.4686927628997</span></li></ul></li><li><label class='ee-shut'>102: [-73.62081570293623, -4.468458813491792]<input type='checkbox' class='ee-toggle'></label><ul><li><span class='ee-k'>0:</span><span class='ee-v'>-73.62081570293623</span></li><li><span class='ee-k'>1:</span><span class='ee-v'>-4.468458813491792</span></li></ul></li><li><label class='ee-shut'>103: [-73.62085456042063, -4.447618884813608]<input type='checkbox' class='ee-toggle'></label><ul><li><span class='ee-k'>0:</span><span class='ee-v'>-73.62085456042063</span></li><li><span class='ee-k'>1:</span><span class='ee-v'>-4.447618884813608</span></li></ul></li><li><label class='ee-shut'>104: [-73.60445526034653, -4.4475879725503225]<input type='checkbox' class='ee-toggle'></label><ul><li><span class='ee-k'>0:</span><span class='ee-v'>-73.60445526034653</span></li><li><span class='ee-k'>1:</span><span class='ee-v'>-4.4475879725503225</span></li></ul></li><li><label class='ee-shut'>105: [-73.5988622633844, -4.432077513760651]<input type='checkbox' class='ee-toggle'></label><ul><li><span class='ee-k'>0:</span><span class='ee-v'>-73.5988622633844</span></li><li><span class='ee-k'>1:</span><span class='ee-v'>-4.432077513760651</span></li></ul></li><li><label class='ee-shut'>106: [-73.62088334211315, -4.4321189623806205]<input type='checkbox' class='ee-toggle'></label><ul><li><span class='ee-k'>0:</span><span class='ee-v'>-73.62088334211315</span></li><li><span class='ee-k'>1:</span><span class='ee-v'>-4.4321189623806205</span></li></ul></li><li><label class='ee-shut'>107: [-73.6209471707229, -4.3975481991966605]<input type='checkbox' class='ee-toggle'></label><ul><li><span class='ee-k'>0:</span><span class='ee-v'>-73.6209471707229</span></li><li><span class='ee-k'>1:</span><span class='ee-v'>-4.3975481991966605</span></li></ul></li><li><label class='ee-shut'>108: [-73.63536397793573, -4.397574770837496]<input type='checkbox' class='ee-toggle'></label><ul><li><span class='ee-k'>0:</span><span class='ee-v'>-73.63536397793573</span></li><li><span class='ee-k'>1:</span><span class='ee-v'>-4.397574770837496</span></li></ul></li><li><label class='ee-shut'>109: [-73.63539760164353, -4.379058763260627]<input type='checkbox' class='ee-toggle'></label><ul><li><span class='ee-k'>0:</span><span class='ee-v'>-73.63539760164353</span></li><li><span class='ee-k'>1:</span><span class='ee-v'>-4.379058763260627</span></li></ul></li><li><label class='ee-shut'>110: [-73.66013148137458, -4.3791035111058925]<input type='checkbox' class='ee-toggle'></label><ul><li><span class='ee-k'>0:</span><span class='ee-v'>-73.66013148137458</span></li><li><span class='ee-k'>1:</span><span class='ee-v'>-4.3791035111058925</span></li></ul></li><li><label class='ee-shut'>111: [-73.661186750047, -4.366839936498773]<input type='checkbox' class='ee-toggle'></label><ul><li><span class='ee-k'>0:</span><span class='ee-v'>-73.661186750047</span></li><li><span class='ee-k'>1:</span><span class='ee-v'>-4.366839936498773</span></li></ul></li><li><label class='ee-shut'>112: [-73.66715289862839, -4.297483771434617]<input type='checkbox' class='ee-toggle'></label><ul><li><span class='ee-k'>0:</span><span class='ee-v'>-73.66715289862839</span></li><li><span class='ee-k'>1:</span><span class='ee-v'>-4.297483771434617</span></li></ul></li><li><label class='ee-shut'>113: [-73.67925833668968, -4.297490391713284]<input type='checkbox' class='ee-toggle'></label><ul><li><span class='ee-k'>0:</span><span class='ee-v'>-73.67925833668968</span></li><li><span class='ee-k'>1:</span><span class='ee-v'>-4.297490391713284</span></li></ul></li><li><label class='ee-shut'>114: [-73.67926652168201, -4.2927317791679505]<input type='checkbox' class='ee-toggle'></label><ul><li><span class='ee-k'>0:</span><span class='ee-v'>-73.67926652168201</span></li><li><span class='ee-k'>1:</span><span class='ee-v'>-4.2927317791679505</span></li></ul></li><li><label class='ee-shut'>115: [-73.70636438638385, -4.292782946040173]<input type='checkbox' class='ee-toggle'></label><ul><li><span class='ee-k'>0:</span><span class='ee-v'>-73.70636438638385</span></li><li><span class='ee-k'>1:</span><span class='ee-v'>-4.292782946040173</span></li></ul></li><li><label class='ee-shut'>116: [-73.72694072069217, -4.285378957796191]<input type='checkbox' class='ee-toggle'></label><ul><li><span class='ee-k'>0:</span><span class='ee-v'>-73.72694072069217</span></li><li><span class='ee-k'>1:</span><span class='ee-v'>-4.285378957796191</span></li></ul></li><li><label class='ee-shut'>117: [-73.75141258828562, -4.292822873641741]<input type='checkbox' class='ee-toggle'></label><ul><li><span class='ee-k'>0:</span><span class='ee-v'>-73.75141258828562</span></li><li><span class='ee-k'>1:</span><span class='ee-v'>-4.292822873641741</span></li></ul></li><li><label class='ee-shut'>118: [-73.75399153150043, -4.292825103247114]<input type='checkbox' class='ee-toggle'></label><ul><li><span class='ee-k'>0:</span><span class='ee-v'>-73.75399153150043</span></li><li><span class='ee-k'>1:</span><span class='ee-v'>-4.292825103247114</span></li></ul></li><li><label class='ee-shut'>119: [-73.76290911877882, -4.288345492600839]<input type='checkbox' class='ee-toggle'></label><ul><li><span class='ee-k'>0:</span><span class='ee-v'>-73.76290911877882</span></li><li><span class='ee-k'>1:</span><span class='ee-v'>-4.288345492600839</span></li></ul></li><li><label class='ee-shut'>120: [-73.76291732108112, -4.2863824427238955]<input type='checkbox' class='ee-toggle'></label><ul><li><span class='ee-k'>0:</span><span class='ee-v'>-73.76291732108112</span></li><li><span class='ee-k'>1:</span><span class='ee-v'>-4.2863824427238955</span></li></ul></li><li><label class='ee-shut'>121: [-73.75143211852038, -4.280788522871085]<input type='checkbox' class='ee-toggle'></label><ul><li><span class='ee-k'>0:</span><span class='ee-v'>-73.75143211852038</span></li><li><span class='ee-k'>1:</span><span class='ee-v'>-4.280788522871085</span></li></ul></li><li><label class='ee-shut'>122: [-73.73430088524701, -4.2645813501288625]<input type='checkbox' class='ee-toggle'></label><ul><li><span class='ee-k'>0:</span><span class='ee-v'>-73.73430088524701</span></li><li><span class='ee-k'>1:</span><span class='ee-v'>-4.2645813501288625</span></li></ul></li><li><label class='ee-shut'>123: [-73.7242540051786, -4.2645516887155885]<input type='checkbox' class='ee-toggle'></label><ul><li><span class='ee-k'>0:</span><span class='ee-v'>-73.7242540051786</span></li><li><span class='ee-k'>1:</span><span class='ee-v'>-4.2645516887155885</span></li></ul></li><li><label class='ee-shut'>124: [-73.70639795371522, -4.272800691995381]<input type='checkbox' class='ee-toggle'></label><ul><li><span class='ee-k'>0:</span><span class='ee-v'>-73.70639795371522</span></li><li><span class='ee-k'>1:</span><span class='ee-v'>-4.272800691995381</span></li></ul></li><li><label class='ee-shut'>125: [-73.70644351295583, -4.245527932001742]<input type='checkbox' class='ee-toggle'></label><ul><li><span class='ee-k'>0:</span><span class='ee-v'>-73.70644351295583</span></li><li><span class='ee-k'>1:</span><span class='ee-v'>-4.245527932001742</span></li></ul></li></ul></li></ul></li></ul></li><li><span class='ee-k'>system:index:</span><span class='ee-v'>20230917T151711_20230917T152113_T18MXA</span></li><li><span class='ee-k'>system:time_end:</span><span class='ee-v'>1694964255236</span></li><li><span class='ee-k'>system:time_start:</span><span class='ee-v'>1694964255236</span></li></ul></li></ul></li></ul></div><script>function toggleHeader() {\n",
              "    const parent = this.parentElement;\n",
              "    parent.className = parent.className === \"ee-open\" ? \"ee-shut\" : \"ee-open\";\n",
              "}\n",
              "\n",
              "for (let c of document.getElementsByClassName(\"ee-toggle\")) {\n",
              "    c.onclick = toggleHeader;\n",
              "}</script></div>"
            ]
          },
          "metadata": {},
          "execution_count": 119
        }
      ]
    },
    {
      "cell_type": "markdown",
      "source": [
        "#### __Valores positivos en bandas de cambio__\n",
        "- __Valores positivos__ indican que el valor del índice (NDVI o EVI) ha aumentado desde la primera imagen (antes) a la segunda imagen (después). Esto puede sugerir diversos cambios ecológicos o ambientales, como:\n",
        "  - __Crecimiento o recuperación de la vegetación:__ Un aumento en el NDVI o EVI generalmente indica más vegetación verde. Esto podría deberse a cambios estacionales, recuperación después de una perturbación o esfuerzos exitosos de reforestación/forestación.\n",
        "  - __Cambio en la condición de los cultivos:__ En contextos agrícolas, un aumento podría reflejar las etapas de crecimiento de los cultivos, una mejor salud o prácticas de manejo efectivas.\n",
        "  \n",
        "####__Valores negativos en bandas de cambio__\n",
        "- __Valores negativos__ significan que el valor del índice ha disminuido de la primera imagen a la segunda. Esta disminución puede ser indicativa de diferentes escenarios, tales como:\n",
        "  - __Pérdida o degradación de la vegetación:__ Una disminución en el NDVI o EVI podría indicar pérdida de vegetación debido a la deforestación, perturbaciones naturales (incendios, sequías, plagas) o actividades humanas (desmonte de tierras, desarrollo urbano).\n",
        "  - __Senescencia estacional o cosecha:__ En tierras agrícolas, podría ocurrir una disminución después de la cosecha o cuando los cultivos experimentan senescencia al final de su temporada de crecimiento.\n",
        "\n",
        "\n",
        "#### __Consideraciones de interpretación__\n",
        "__Contexto temporal:__ La interpretación de los cambios positivos y negativos depende en gran medida del contexto temporal de sus imágenes. Es necesario considerar las variaciones estacionales, las etapas fenológicas de la vegetación y eventos específicos (como perturbaciones).\n",
        "\n",
        "__Magnitud del cambio:__ La importancia del cambio también importa. Las pequeñas fluctuaciones podrían estar dentro del rango de variabilidad normal, mientras que los cambios más grandes podrían significar cambios ecológicos o de cobertura del suelo más sustanciales.\n",
        "\n",
        "\n",
        "__Contexto espacial:__ Las condiciones ambientales locales, los tipos de cobertura del suelo y las prácticas de uso del suelo pueden influir en los valores de referencia de NDVI y EVI y sus cambios. Por lo tanto, interpretar los cambios también requiere comprender el contexto espacial del área que se analiza."
      ],
      "metadata": {
        "id": "wa4-jSgHuEl4"
      }
    },
    {
      "cell_type": "markdown",
      "source": [
        "#### _____\n",
        "\n",
        "* Las áreas rojas indican dónde la salud o la cobertura de la vegetación han disminuido con el tiempo, posiblemente debido a la deforestación, la expansión urbana o eventos naturales como incendios.\n",
        "\n",
        "* Las áreas verdes sugieren una mejora o aumento de la vegetación, lo que podría deberse a esfuerzos de reforestación, rebrote natural o cambios estacionales.\n",
        "\n",
        "* Las áreas blancas muestran poco o ningún cambio, lo que indica una salud de la vegetación estable entre los dos períodos de tiempo."
      ],
      "metadata": {
        "id": "uSTbUI0tK2i7"
      }
    },
    {
      "cell_type": "code",
      "source": [
        "print(image2_with_changes.bandNames().getInfo())"
      ],
      "metadata": {
        "id": "4_hJpLNg847X",
        "outputId": "89fed3a9-e449-4f3c-d335-3d97cb8029a0",
        "colab": {
          "base_uri": "https://localhost:8080/",
          "height": 35
        }
      },
      "execution_count": 120,
      "outputs": [
        {
          "output_type": "display_data",
          "data": {
            "text/plain": [
              "<IPython.core.display.HTML object>"
            ],
            "text/html": [
              "\n",
              "            <style>\n",
              "                .geemap-dark {\n",
              "                    --jp-widgets-color: white;\n",
              "                    --jp-widgets-label-color: white;\n",
              "                    --jp-ui-font-color1: white;\n",
              "                    --jp-layout-color2: #454545;\n",
              "                    background-color: #383838;\n",
              "                }\n",
              "                    \n",
              "                .geemap-dark .jupyter-button {\n",
              "                    --jp-layout-color3: #383838;\n",
              "                }\n",
              "                \n",
              "                .geemap-colab {\n",
              "                    background-color: var(--colab-primary-surface-color, white);\n",
              "                }\n",
              "                    \n",
              "                .geemap-colab .jupyter-button {\n",
              "                    --jp-layout-color3: var(--colab-primary-surface-color, white);\n",
              "                }\n",
              "            </style>\n",
              "            "
            ]
          },
          "metadata": {}
        },
        {
          "output_type": "stream",
          "name": "stdout",
          "text": [
            "['B1', 'B2', 'B3', 'B4', 'B5', 'B6', 'B7', 'B8', 'B8A', 'B9', 'B11', 'B12', 'AOT', 'WVP', 'SCL', 'TCI_R', 'TCI_G', 'TCI_B', 'MSK_CLDPRB', 'MSK_SNWPRB', 'QA10', 'QA20', 'QA60', 'NDVI', 'EVI', 'EVI_change', 'NDVI_change']\n"
          ]
        }
      ]
    },
    {
      "cell_type": "code",
      "source": [
        "# @title\n",
        "Map = geemap.Map()\n",
        "\n",
        "Map.addLayer(image1, vizParams, '1 True Color')\n",
        "Map.addLayer(image2, vizParams, '2 True Color')\n",
        "\n",
        "vis_params_change = {\n",
        "    'min': -0.9,\n",
        "    'max': 0.4,\n",
        "    'palette': ['red', 'white', 'green']\n",
        "}\n",
        "\n",
        "ndvi_change = image2_with_changes.select('NDVI_change')\n",
        "evi_change = image2_with_changes.select('EVI_change')\n",
        "\n",
        "kernel = ee.Kernel.circle(radius=3, units='pixels')\n",
        "ndvi_change_smoothed = ndvi_change.focal_mean(kernel=kernel)\n",
        "evi_change_smoothed = evi_change.focal_mean(kernel=kernel)\n",
        "\n",
        "Map.addLayer(ndvi_change_smoothed, vis_params_change, 'NDVI Change Smoothed', opacity=0.5)\n",
        "Map.addLayer(evi_change_smoothed, vis_params_change, 'EVI Change Smoothed', opacity=0.5)\n",
        "\n",
        "Map.centerObject(polygon, 11)\n",
        "\n",
        "Map.addLayerControl()\n",
        "\n",
        "Map"
      ],
      "metadata": {
        "colab": {
          "base_uri": "https://localhost:8080/",
          "height": 621,
          "referenced_widgets": [
            "6dd69832066d4ca9926109e61d4a2735",
            "57c086a268ee45eda06bc2267fcc2aa9",
            "1a97903bde3b4606bd6762b18cd22f84",
            "1a0618d9f6ff48cbb4e2711cabb1b3c2",
            "8199b838b38245a2a613d8b791ed1987",
            "e3a346a44cbf4af28dee5c40b95bcce9",
            "7bfbffb2d7b841a3a40325dcc79952b5",
            "d037efe87cca47a388d79bde1b614376",
            "0b96239365a74a83b18771dd5eef3831",
            "cee86faac1f94f528d360eefcec297cb",
            "ab607dceb9834e999129bc51b005c054",
            "b2c7d47c80674893b9163495636425c4",
            "e3742ba8c4964bd58d20153b6bc18e46",
            "80ff489c27094db9bd6cf7c88dcdf7c9",
            "e5205eeaac214aaf90c28570f4bb1091",
            "53df35d17a3e4033aa8b536597bccf51",
            "736442d026724592bcde2fc1ad9db023",
            "818febe17336483d94f987569e84b8a9",
            "3a1b91c299434cdd971bf3ff6d66a4c3",
            "cb04a20c6b75408eb71b5072be30c27a",
            "e49ca5099767433f919f63c41981035b",
            "4c1aa0f0fddf4d438e037582388a455a",
            "5e1b156b522c483e823d64dea1261057",
            "584d5d910e084882913a21b4e35bd767",
            "4b753198645a4ef6b58569e69f4aa058",
            "8087a2d51ec94019abd071a60a2774f6",
            "8d3228847d4c494d997a550aba78e64e",
            "4864ac0b4b514667be9d98a48c45ab1e",
            "5222ed8921524bb4829ccf7cdfc2b1e6"
          ]
        },
        "id": "KerO4nwvK56z",
        "outputId": "3ad9a2a8-346b-408d-f6d6-fccb90c9618e"
      },
      "execution_count": 122,
      "outputs": [
        {
          "output_type": "display_data",
          "data": {
            "text/plain": [
              "<IPython.core.display.HTML object>"
            ],
            "text/html": [
              "\n",
              "            <style>\n",
              "                .geemap-dark {\n",
              "                    --jp-widgets-color: white;\n",
              "                    --jp-widgets-label-color: white;\n",
              "                    --jp-ui-font-color1: white;\n",
              "                    --jp-layout-color2: #454545;\n",
              "                    background-color: #383838;\n",
              "                }\n",
              "                    \n",
              "                .geemap-dark .jupyter-button {\n",
              "                    --jp-layout-color3: #383838;\n",
              "                }\n",
              "                \n",
              "                .geemap-colab {\n",
              "                    background-color: var(--colab-primary-surface-color, white);\n",
              "                }\n",
              "                    \n",
              "                .geemap-colab .jupyter-button {\n",
              "                    --jp-layout-color3: var(--colab-primary-surface-color, white);\n",
              "                }\n",
              "            </style>\n",
              "            "
            ]
          },
          "metadata": {}
        },
        {
          "output_type": "display_data",
          "data": {
            "text/plain": [
              "Map(center=[-4.349379692587443, -73.72766753816298], controls=(WidgetControl(options=['position', 'transparent…"
            ],
            "application/vnd.jupyter.widget-view+json": {
              "version_major": 2,
              "version_minor": 0,
              "model_id": "6dd69832066d4ca9926109e61d4a2735"
            }
          },
          "metadata": {
            "application/vnd.jupyter.widget-view+json": {
              "colab": {
                "custom_widget_manager": {
                  "url": "https://ssl.gstatic.com/colaboratory-static/widgets/colab-cdn-widget-manager/2b70e893a8ba7c0f/manager.min.js"
                }
              }
            }
          }
        }
      ]
    },
    {
      "cell_type": "markdown",
      "source": [
        "### **Analisis**\n",
        "\n",
        "#### _Es importante a saber que este analisis es limitado a las fronteras de IMAZA y dentro de nos periodo especificado del tiempo. Tambien elegio el limite del \"cambio dramatico\" en NDVI. Eso cuaderno sirve como un ejemplo a emepazar nos jornada al gestion de madera basdo en dato del salud de nos bosques._"
      ],
      "metadata": {
        "id": "f2aTZGbEhj2a"
      }
    },
    {
      "cell_type": "markdown",
      "source": [
        "#### EVI a NDVI a Vista General"
      ],
      "metadata": {
        "id": "rDK9HiF0F6JT"
      }
    },
    {
      "cell_type": "code",
      "source": [
        "stats_ndvi_change = image2_with_changes.select('NDVI_change').reduceRegion(\n",
        "    reducer=ee.Reducer.mean().combine(\n",
        "        reducer2=ee.Reducer.minMax(),\n",
        "        sharedInputs=True\n",
        "    ).combine(\n",
        "        reducer2=ee.Reducer.stdDev(),\n",
        "        sharedInputs=True\n",
        "    ).combine(\n",
        "        reducer2=ee.Reducer.count(),\n",
        "        sharedInputs=True\n",
        "    ),\n",
        "    geometry=polygon,\n",
        "    scale=30,\n",
        "    maxPixels=1e9\n",
        ")\n",
        "\n",
        "mean_ndvi_change = stats_ndvi_change.get('NDVI_change_mean').getInfo()\n",
        "min_ndvi_change = stats_ndvi_change.get('NDVI_change_min').getInfo()\n",
        "max_ndvi_change = stats_ndvi_change.get('NDVI_change_max').getInfo()\n",
        "stddev_ndvi_change = stats_ndvi_change.get('NDVI_change_stdDev').getInfo()\n",
        "count_ndvi_change = stats_ndvi_change.get('NDVI_change_count').getInfo()\n",
        "\n",
        "print(f\"NDVI Change - Mean: {mean_ndvi_change}, Min: {min_ndvi_change}, Max: {max_ndvi_change}, StdDev: {stddev_ndvi_change}, Count: {count_ndvi_change}\")"
      ],
      "metadata": {
        "id": "-hmh8maOxz-G",
        "outputId": "ff4105dc-333c-422a-d1da-0c9579779425",
        "colab": {
          "base_uri": "https://localhost:8080/",
          "height": 35
        }
      },
      "execution_count": 123,
      "outputs": [
        {
          "output_type": "display_data",
          "data": {
            "text/plain": [
              "<IPython.core.display.HTML object>"
            ],
            "text/html": [
              "\n",
              "            <style>\n",
              "                .geemap-dark {\n",
              "                    --jp-widgets-color: white;\n",
              "                    --jp-widgets-label-color: white;\n",
              "                    --jp-ui-font-color1: white;\n",
              "                    --jp-layout-color2: #454545;\n",
              "                    background-color: #383838;\n",
              "                }\n",
              "                    \n",
              "                .geemap-dark .jupyter-button {\n",
              "                    --jp-layout-color3: #383838;\n",
              "                }\n",
              "                \n",
              "                .geemap-colab {\n",
              "                    background-color: var(--colab-primary-surface-color, white);\n",
              "                }\n",
              "                    \n",
              "                .geemap-colab .jupyter-button {\n",
              "                    --jp-layout-color3: var(--colab-primary-surface-color, white);\n",
              "                }\n",
              "            </style>\n",
              "            "
            ]
          },
          "metadata": {}
        },
        {
          "output_type": "stream",
          "name": "stdout",
          "text": [
            "NDVI Change - Mean: -0.019628170112985278, Min: -0.756585509171463, Max: 0.6259374173102366, StdDev: 0.0297580856351676, Count: 531574\n"
          ]
        }
      ]
    },
    {
      "cell_type": "code",
      "source": [
        "stats_evi_change = image2_with_changes.select('EVI_change').reduceRegion(\n",
        "    reducer=ee.Reducer.mean().combine(\n",
        "        reducer2=ee.Reducer.minMax(),\n",
        "        sharedInputs=True\n",
        "    ).combine(\n",
        "        reducer2=ee.Reducer.stdDev(),\n",
        "        sharedInputs=True\n",
        "    ).combine(\n",
        "        reducer2=ee.Reducer.count(),\n",
        "        sharedInputs=True\n",
        "    ),\n",
        "    geometry=polygon,\n",
        "    scale=30,\n",
        "    maxPixels=1e9\n",
        ")\n",
        "\n",
        "mean_evi_change = stats_evi_change.get('EVI_change_mean').getInfo()\n",
        "min_evi_change = stats_evi_change.get('EVI_change_min').getInfo()\n",
        "max_evi_change = stats_evi_change.get('EVI_change_max').getInfo()\n",
        "stddev_evi_change = stats_evi_change.get('EVI_change_stdDev').getInfo()\n",
        "count_evi_change = stats_evi_change.get('EVI_change_count').getInfo()\n",
        "\n",
        "print(f\"EVI Change - Mean: {mean_evi_change}, Min: {min_evi_change}, Max: {max_evi_change}, StdDev: {stddev_evi_change}, Count: {count_evi_change}\")"
      ],
      "metadata": {
        "colab": {
          "base_uri": "https://localhost:8080/",
          "height": 35
        },
        "id": "w9mqho62Crv0",
        "outputId": "a811e467-9c32-4e3c-e363-30fc510c9396"
      },
      "execution_count": 125,
      "outputs": [
        {
          "output_type": "display_data",
          "data": {
            "text/plain": [
              "<IPython.core.display.HTML object>"
            ],
            "text/html": [
              "\n",
              "            <style>\n",
              "                .geemap-dark {\n",
              "                    --jp-widgets-color: white;\n",
              "                    --jp-widgets-label-color: white;\n",
              "                    --jp-ui-font-color1: white;\n",
              "                    --jp-layout-color2: #454545;\n",
              "                    background-color: #383838;\n",
              "                }\n",
              "                    \n",
              "                .geemap-dark .jupyter-button {\n",
              "                    --jp-layout-color3: #383838;\n",
              "                }\n",
              "                \n",
              "                .geemap-colab {\n",
              "                    background-color: var(--colab-primary-surface-color, white);\n",
              "                }\n",
              "                    \n",
              "                .geemap-colab .jupyter-button {\n",
              "                    --jp-layout-color3: var(--colab-primary-surface-color, white);\n",
              "                }\n",
              "            </style>\n",
              "            "
            ]
          },
          "metadata": {}
        },
        {
          "output_type": "stream",
          "name": "stdout",
          "text": [
            "EVI Change - Mean: 0.014135035868148692, Min: -3564.555555555555, Max: 1482.1711753731342, StdDev: 7.931724701777888, Count: 531574\n"
          ]
        }
      ]
    },
    {
      "cell_type": "code",
      "source": [
        "reduced = image2_with_changes.reduceRegion(\n",
        "    reducer=ee.Reducer.toList(),\n",
        "    geometry=polygon,\n",
        "    scale=30,\n",
        "    maxPixels=1e8\n",
        ")\n",
        "\n",
        "ndvi_change_array = np.array(reduced.get('NDVI_change').getInfo())\n",
        "evi_change_array = np.array(reduced.get('EVI_change').getInfo())"
      ],
      "metadata": {
        "id": "3mODKSbP0MtH",
        "outputId": "39847fc8-ae18-490f-c9fd-9fb899d110e5",
        "colab": {
          "base_uri": "https://localhost:8080/",
          "height": 17
        }
      },
      "execution_count": 126,
      "outputs": [
        {
          "output_type": "display_data",
          "data": {
            "text/plain": [
              "<IPython.core.display.HTML object>"
            ],
            "text/html": [
              "\n",
              "            <style>\n",
              "                .geemap-dark {\n",
              "                    --jp-widgets-color: white;\n",
              "                    --jp-widgets-label-color: white;\n",
              "                    --jp-ui-font-color1: white;\n",
              "                    --jp-layout-color2: #454545;\n",
              "                    background-color: #383838;\n",
              "                }\n",
              "                    \n",
              "                .geemap-dark .jupyter-button {\n",
              "                    --jp-layout-color3: #383838;\n",
              "                }\n",
              "                \n",
              "                .geemap-colab {\n",
              "                    background-color: var(--colab-primary-surface-color, white);\n",
              "                }\n",
              "                    \n",
              "                .geemap-colab .jupyter-button {\n",
              "                    --jp-layout-color3: var(--colab-primary-surface-color, white);\n",
              "                }\n",
              "            </style>\n",
              "            "
            ]
          },
          "metadata": {}
        }
      ]
    },
    {
      "cell_type": "code",
      "source": [
        "import statsmodels.api as sm\n",
        "\n",
        "X = ndvi_change_array\n",
        "y = evi_change_array\n",
        "X = sm.add_constant(X)\n",
        "\n",
        "model = sm.OLS(y, X).fit()\n",
        "predictions = model.predict(X)\n",
        "\n",
        "print(model.summary())"
      ],
      "metadata": {
        "colab": {
          "base_uri": "https://localhost:8080/",
          "height": 478
        },
        "id": "IwOSdCVdDD-y",
        "outputId": "d3637a54-08b3-469d-b7bd-1547d177cff5"
      },
      "execution_count": 128,
      "outputs": [
        {
          "output_type": "display_data",
          "data": {
            "text/plain": [
              "<IPython.core.display.HTML object>"
            ],
            "text/html": [
              "\n",
              "            <style>\n",
              "                .geemap-dark {\n",
              "                    --jp-widgets-color: white;\n",
              "                    --jp-widgets-label-color: white;\n",
              "                    --jp-ui-font-color1: white;\n",
              "                    --jp-layout-color2: #454545;\n",
              "                    background-color: #383838;\n",
              "                }\n",
              "                    \n",
              "                .geemap-dark .jupyter-button {\n",
              "                    --jp-layout-color3: #383838;\n",
              "                }\n",
              "                \n",
              "                .geemap-colab {\n",
              "                    background-color: var(--colab-primary-surface-color, white);\n",
              "                }\n",
              "                    \n",
              "                .geemap-colab .jupyter-button {\n",
              "                    --jp-layout-color3: var(--colab-primary-surface-color, white);\n",
              "                }\n",
              "            </style>\n",
              "            "
            ]
          },
          "metadata": {}
        },
        {
          "output_type": "stream",
          "name": "stdout",
          "text": [
            "                            OLS Regression Results                            \n",
            "==============================================================================\n",
            "Dep. Variable:                      y   R-squared:                       0.000\n",
            "Model:                            OLS   Adj. R-squared:                  0.000\n",
            "Method:                 Least Squares   F-statistic:                     122.6\n",
            "Date:                Mon, 19 Feb 2024   Prob (F-statistic):           1.74e-28\n",
            "Time:                        20:33:59   Log-Likelihood:            -1.8467e+06\n",
            "No. Observations:              528796   AIC:                         3.693e+06\n",
            "Df Residuals:                  528794   BIC:                         3.693e+06\n",
            "Df Model:                           1                                         \n",
            "Covariance Type:            nonrobust                                         \n",
            "==============================================================================\n",
            "                 coef    std err          t      P>|t|      [0.025      0.975]\n",
            "------------------------------------------------------------------------------\n",
            "const          0.0941      0.013      7.179      0.000       0.068       0.120\n",
            "x1             4.0720      0.368     11.072      0.000       3.351       4.793\n",
            "===============================================================================\n",
            "Omnibus:                  2992364.557   Durbin-Watson:                    1.998\n",
            "Prob(Omnibus):                  0.000   Jarque-Bera (JB):   459468823976110.438\n",
            "Skew:                        -338.775   Prob(JB):                          0.00\n",
            "Kurtosis:                  144408.849   Cond. No.                          33.6\n",
            "===============================================================================\n",
            "\n",
            "Notes:\n",
            "[1] Standard Errors assume that the covariance matrix of the errors is correctly specified.\n"
          ]
        }
      ]
    },
    {
      "cell_type": "code",
      "source": [
        "# @title\n",
        "from sklearn.decomposition import PCA\n",
        "import matplotlib.pyplot as plt\n",
        "import numpy as np\n",
        "\n",
        "data = np.column_stack((ndvi_change_array, evi_change_array))\n",
        "\n",
        "pca = PCA(n_components=2)\n",
        "components = pca.fit_transform(data)\n",
        "\n",
        "plt.figure(figsize=(8, 6))\n",
        "plt.scatter(components[:, 0], components[:, 1])\n",
        "plt.xlabel('Principal Component 1')\n",
        "plt.ylabel('Principal Component 2')\n",
        "plt.title('PCA of NDVI and EVI Changes')\n",
        "plt.show()\n",
        "\n",
        "print(\"Explained variance by component:\", pca.explained_variance_ratio_)"
      ],
      "metadata": {
        "colab": {
          "base_uri": "https://localhost:8080/",
          "height": 582
        },
        "id": "6SwIyjnnDVB9",
        "outputId": "c8a12f8d-bf20-4c7b-f77b-8d07c3e486b8"
      },
      "execution_count": 129,
      "outputs": [
        {
          "output_type": "display_data",
          "data": {
            "text/plain": [
              "<IPython.core.display.HTML object>"
            ],
            "text/html": [
              "\n",
              "            <style>\n",
              "                .geemap-dark {\n",
              "                    --jp-widgets-color: white;\n",
              "                    --jp-widgets-label-color: white;\n",
              "                    --jp-ui-font-color1: white;\n",
              "                    --jp-layout-color2: #454545;\n",
              "                    background-color: #383838;\n",
              "                }\n",
              "                    \n",
              "                .geemap-dark .jupyter-button {\n",
              "                    --jp-layout-color3: #383838;\n",
              "                }\n",
              "                \n",
              "                .geemap-colab {\n",
              "                    background-color: var(--colab-primary-surface-color, white);\n",
              "                }\n",
              "                    \n",
              "                .geemap-colab .jupyter-button {\n",
              "                    --jp-layout-color3: var(--colab-primary-surface-color, white);\n",
              "                }\n",
              "            </style>\n",
              "            "
            ]
          },
          "metadata": {}
        },
        {
          "output_type": "display_data",
          "data": {
            "text/plain": [
              "<Figure size 800x600 with 1 Axes>"
            ],
            "image/png": "[encoded data removed]"
          },
          "metadata": {}
        },
        {
          "output_type": "stream",
          "name": "stdout",
          "text": [
            "Explained variance by component: [9.99986027e-01 1.39734855e-05]\n"
          ]
        }
      ]
    },
    {
      "cell_type": "code",
      "source": [
        "# @title\n",
        "import pandas as pd\n",
        "import numpy as np\n",
        "import scipy.stats as stats\n",
        "\n",
        "ndvi_low_threshold = -0.01\n",
        "ndvi_high_threshold = 0.01\n",
        "\n",
        "ndvi_categories = np.where(ndvi_change_array < ndvi_low_threshold, 'Low',\n",
        "                           np.where(ndvi_change_array <= ndvi_high_threshold, 'Medium', 'High'))\n",
        "\n",
        "evi_low_threshold = -0.2\n",
        "evi_high_threshold = 0.2\n",
        "\n",
        "evi_categories = np.where(evi_change_array < evi_low_threshold, 'Low',\n",
        "                          np.where(evi_change_array <= evi_high_threshold, 'Medium', 'High'))"
      ],
      "metadata": {
        "colab": {
          "base_uri": "https://localhost:8080/",
          "height": 17
        },
        "id": "cTTvMyUuD3Jq",
        "outputId": "5fb89562-30a1-4ced-b777-cebcb1724240"
      },
      "execution_count": 130,
      "outputs": [
        {
          "output_type": "display_data",
          "data": {
            "text/plain": [
              "<IPython.core.display.HTML object>"
            ],
            "text/html": [
              "\n",
              "            <style>\n",
              "                .geemap-dark {\n",
              "                    --jp-widgets-color: white;\n",
              "                    --jp-widgets-label-color: white;\n",
              "                    --jp-ui-font-color1: white;\n",
              "                    --jp-layout-color2: #454545;\n",
              "                    background-color: #383838;\n",
              "                }\n",
              "                    \n",
              "                .geemap-dark .jupyter-button {\n",
              "                    --jp-layout-color3: #383838;\n",
              "                }\n",
              "                \n",
              "                .geemap-colab {\n",
              "                    background-color: var(--colab-primary-surface-color, white);\n",
              "                }\n",
              "                    \n",
              "                .geemap-colab .jupyter-button {\n",
              "                    --jp-layout-color3: var(--colab-primary-surface-color, white);\n",
              "                }\n",
              "            </style>\n",
              "            "
            ]
          },
          "metadata": {}
        }
      ]
    },
    {
      "cell_type": "code",
      "source": [
        "ndvi_low = ndvi_change_array[ndvi_categories == 'Low']\n",
        "ndvi_medium = ndvi_change_array[ndvi_categories == 'Medium']\n",
        "ndvi_high = ndvi_change_array[ndvi_categories == 'High']\n",
        "\n",
        "anova_result_ndvi = stats.f_oneway(ndvi_low, ndvi_medium, ndvi_high)\n",
        "print(\"ANOVA Result for NDVI Change:\", anova_result_ndvi)\n",
        "\n",
        "evi_low = evi_change_array[evi_categories == 'Low']\n",
        "evi_medium = evi_change_array[evi_categories == 'Medium']\n",
        "evi_high = evi_change_array[evi_categories == 'High']\n",
        "\n",
        "anova_result_evi = stats.f_oneway(evi_low, evi_medium, evi_high)\n",
        "print(\"ANOVA Result for EVI Change:\", anova_result_evi)"
      ],
      "metadata": {
        "colab": {
          "base_uri": "https://localhost:8080/",
          "height": 54
        },
        "id": "I0V3RS0LEFj2",
        "outputId": "7e978773-9ff9-45dd-beaf-17c048534708"
      },
      "execution_count": 131,
      "outputs": [
        {
          "output_type": "display_data",
          "data": {
            "text/plain": [
              "<IPython.core.display.HTML object>"
            ],
            "text/html": [
              "\n",
              "            <style>\n",
              "                .geemap-dark {\n",
              "                    --jp-widgets-color: white;\n",
              "                    --jp-widgets-label-color: white;\n",
              "                    --jp-ui-font-color1: white;\n",
              "                    --jp-layout-color2: #454545;\n",
              "                    background-color: #383838;\n",
              "                }\n",
              "                    \n",
              "                .geemap-dark .jupyter-button {\n",
              "                    --jp-layout-color3: #383838;\n",
              "                }\n",
              "                \n",
              "                .geemap-colab {\n",
              "                    background-color: var(--colab-primary-surface-color, white);\n",
              "                }\n",
              "                    \n",
              "                .geemap-colab .jupyter-button {\n",
              "                    --jp-layout-color3: var(--colab-primary-surface-color, white);\n",
              "                }\n",
              "            </style>\n",
              "            "
            ]
          },
          "metadata": {}
        },
        {
          "output_type": "stream",
          "name": "stdout",
          "text": [
            "ANOVA Result for NDVI Change: F_onewayResult(statistic=133462.89511518896, pvalue=0.0)\n",
            "ANOVA Result for EVI Change: F_onewayResult(statistic=251.3246453161804, pvalue=7.997178607258216e-110)\n"
          ]
        }
      ]
    },
    {
      "cell_type": "markdown",
      "source": [
        "#### EVI Relacion a NDVI en Areas Marcados"
      ],
      "metadata": {
        "id": "bvl_XCoeFwyZ"
      }
    },
    {
      "cell_type": "code",
      "source": [
        "# @title\n",
        "\n",
        "df = pd.DataFrame({\n",
        "    'NDVI_change': ndvi_change_array,\n",
        "    'EVI_change': evi_change_array\n",
        "})\n",
        "\n",
        "ndvi_high_change_threshold = df['NDVI_change'].mean() + df['NDVI_change'].std()\n",
        "\n",
        "ndvi_gain_mask = df['NDVI_change'] > ndvi_high_change_threshold\n",
        "ndvi_loss_mask = df['NDVI_change'] < -ndvi_high_change_threshold"
      ],
      "metadata": {
        "colab": {
          "base_uri": "https://localhost:8080/",
          "height": 17
        },
        "id": "6Wpil_eIGK0c",
        "outputId": "f7fcc5a3-8df6-4961-d519-489616ff9475"
      },
      "execution_count": 132,
      "outputs": [
        {
          "output_type": "display_data",
          "data": {
            "text/plain": [
              "<IPython.core.display.HTML object>"
            ],
            "text/html": [
              "\n",
              "            <style>\n",
              "                .geemap-dark {\n",
              "                    --jp-widgets-color: white;\n",
              "                    --jp-widgets-label-color: white;\n",
              "                    --jp-ui-font-color1: white;\n",
              "                    --jp-layout-color2: #454545;\n",
              "                    background-color: #383838;\n",
              "                }\n",
              "                    \n",
              "                .geemap-dark .jupyter-button {\n",
              "                    --jp-layout-color3: #383838;\n",
              "                }\n",
              "                \n",
              "                .geemap-colab {\n",
              "                    background-color: var(--colab-primary-surface-color, white);\n",
              "                }\n",
              "                    \n",
              "                .geemap-colab .jupyter-button {\n",
              "                    --jp-layout-color3: var(--colab-primary-surface-color, white);\n",
              "                }\n",
              "            </style>\n",
              "            "
            ]
          },
          "metadata": {}
        }
      ]
    },
    {
      "cell_type": "code",
      "source": [
        "# @title\n",
        "evi_change_in_ndvi_gain = df[ndvi_gain_mask]['EVI_change']\n",
        "evi_change_in_ndvi_loss = df[ndvi_loss_mask]['EVI_change']\n",
        "\n",
        "evi_change_gain_summary = evi_change_in_ndvi_gain.describe()\n",
        "evi_change_loss_summary = evi_change_in_ndvi_loss.describe()\n",
        "overall_evi_change_summary = df['EVI_change'].describe()\n",
        "\n",
        "print(\"EVI Change in Areas of NDVI Gain:\\n\", evi_change_gain_summary)\n",
        "print(\"\\nEVI Change in Areas of NDVI Loss:\\n\", evi_change_loss_summary)\n",
        "print(\"\\nOverall EVI Change:\\n\", overall_evi_change_summary)"
      ],
      "metadata": {
        "colab": {
          "base_uri": "https://localhost:8080/",
          "height": 608
        },
        "id": "ApD7Rs6SGW6l",
        "outputId": "03e7dc0c-d2c6-4a1b-db9f-cddc3ee3f98c",
        "cellView": "form"
      },
      "execution_count": 133,
      "outputs": [
        {
          "output_type": "display_data",
          "data": {
            "text/plain": [
              "<IPython.core.display.HTML object>"
            ],
            "text/html": [
              "\n",
              "            <style>\n",
              "                .geemap-dark {\n",
              "                    --jp-widgets-color: white;\n",
              "                    --jp-widgets-label-color: white;\n",
              "                    --jp-ui-font-color1: white;\n",
              "                    --jp-layout-color2: #454545;\n",
              "                    background-color: #383838;\n",
              "                }\n",
              "                    \n",
              "                .geemap-dark .jupyter-button {\n",
              "                    --jp-layout-color3: #383838;\n",
              "                }\n",
              "                \n",
              "                .geemap-colab {\n",
              "                    background-color: var(--colab-primary-surface-color, white);\n",
              "                }\n",
              "                    \n",
              "                .geemap-colab .jupyter-button {\n",
              "                    --jp-layout-color3: var(--colab-primary-surface-color, white);\n",
              "                }\n",
              "            </style>\n",
              "            "
            ]
          },
          "metadata": {}
        },
        {
          "output_type": "stream",
          "name": "stdout",
          "text": [
            "EVI Change in Areas of NDVI Gain:\n",
            " count    29674.000000\n",
            "mean         0.076700\n",
            "std          1.034722\n",
            "min        -83.165901\n",
            "25%         -0.004390\n",
            "50%          0.085170\n",
            "75%          0.183038\n",
            "max         79.372340\n",
            "Name: EVI_change, dtype: float64\n",
            "\n",
            "EVI Change in Areas of NDVI Loss:\n",
            " count    360662.000000\n",
            "mean         -0.003290\n",
            "std           9.624451\n",
            "min       -3564.555556\n",
            "25%          -0.080236\n",
            "50%           0.009860\n",
            "75%           0.105125\n",
            "max        1482.171175\n",
            "Name: EVI_change, dtype: float64\n",
            "\n",
            "Overall EVI Change:\n",
            " count    528796.000000\n",
            "mean          0.014134\n",
            "std           7.952528\n",
            "min       -3564.555556\n",
            "25%          -0.065270\n",
            "50%           0.023044\n",
            "75%           0.115463\n",
            "max        1482.171175\n",
            "Name: EVI_change, dtype: float64\n"
          ]
        }
      ]
    },
    {
      "cell_type": "code",
      "source": [
        "# @title\n",
        "import matplotlib.pyplot as plt\n",
        "\n",
        "plt.hist(evi_change_in_ndvi_gain, alpha=0.5, bins=30, label='EVI Change in NDVI Gain', color='green')\n",
        "plt.hist(evi_change_in_ndvi_loss, alpha=0.5, bins=30, label='EVI Change in NDVI Loss', color='red')\n",
        "plt.legend()\n",
        "plt.title('EVI Change Distribution in Areas of Significant NDVI Change')\n",
        "plt.xlabel('EVI Change')\n",
        "plt.ylabel('Frequency')\n",
        "plt.show()"
      ],
      "metadata": {
        "colab": {
          "base_uri": "https://localhost:8080/",
          "height": 472
        },
        "cellView": "form",
        "id": "D6NpO5TsGtrN",
        "outputId": "ec8fbd30-b00d-4083-f326-3982a8bb8d29"
      },
      "execution_count": 134,
      "outputs": [
        {
          "output_type": "display_data",
          "data": {
            "text/plain": [
              "<IPython.core.display.HTML object>"
            ],
            "text/html": [
              "\n",
              "            <style>\n",
              "                .geemap-dark {\n",
              "                    --jp-widgets-color: white;\n",
              "                    --jp-widgets-label-color: white;\n",
              "                    --jp-ui-font-color1: white;\n",
              "                    --jp-layout-color2: #454545;\n",
              "                    background-color: #383838;\n",
              "                }\n",
              "                    \n",
              "                .geemap-dark .jupyter-button {\n",
              "                    --jp-layout-color3: #383838;\n",
              "                }\n",
              "                \n",
              "                .geemap-colab {\n",
              "                    background-color: var(--colab-primary-surface-color, white);\n",
              "                }\n",
              "                    \n",
              "                .geemap-colab .jupyter-button {\n",
              "                    --jp-layout-color3: var(--colab-primary-surface-color, white);\n",
              "                }\n",
              "            </style>\n",
              "            "
            ]
          },
          "metadata": {}
        },
        {
          "output_type": "display_data",
          "data": {
            "text/plain": [
              "<Figure size 640x480 with 1 Axes>"
            ],
            "image/png": "[encoded data removed]"
          },
          "metadata": {}
        }
      ]
    },
    {
      "cell_type": "markdown",
      "source": [
        "# **Reporte**\n",
        "\n",
        "## **Informe de Acción Basado en Análisis de NDVI y EVI**\n",
        "\n",
        "### Resumen Ejecutivo:\n",
        "\n",
        "Este informe revisa los cambios temporales en la salud y cobertura de la vegetación analizando los índices NDVI y EVI. La aplicación del Análisis de Componentes Principales (PCA) mostró una variabilidad dominante en una única dirección, lo que sugiere que los cambios en la vegetación están mayormente impulsados por un solo factor subyacente. Sin embargo, la significancia estadística de estas variaciones, confirmada por los resultados del ANOVA, junto con la correlación débil entre NDVI y EVI, presenta una imagen compleja de la dinámica vegetativa.\n",
        "\n",
        "### Análisis de Cambios Significativos:\n",
        "\n",
        "El NDVI, comúnmente asociado con la densidad vegetativa, mostró una disminución en el periodo observado, con una media de -0.0196 y una desviación estándar de 0.0298, indicando áreas potenciales de preocupación. Por otro lado, el EVI, que responde más a la estructura del dosel y las condiciones fisiológicas de las plantas, mostró una mayor variación en los cambios con una media de 0.0141 y una desviación estándar mucho mayor de 7.9317, lo que señala respuestas diferenciales de estos índices a los factores ambientales.\n",
        "\n",
        "### Correlacion entre NDVI y EVI:\n",
        "\n",
        "Los resultados de la regresión OLS muestran un R-cuadrado cercano a cero, indicando que no hay una relación fuerte entre los cambios en NDVI y EVI. Esto sugiere que los factores que afectan a cada índice varían en su influencia y pueden requerir estrategias de gestión diferenciadas.\n",
        "\n",
        "### Recomendaciones para la Gestión de la Cosecha de Madera:\n",
        "Las tendencias divergentes entre NDVI y EVI requieren un enfoque matizado para la gestión de la cosecha de madera:\n",
        "\n",
        "- Los esfuerzos de conservación deben considerar tanto la cantidad como la calidad de la vegetación, especialmente en regiones donde los cambios de EVI son más pronunciados.\n",
        "- Los programas de monitoreo deben adaptarse para incluir diversos índices de vegetación para capturar completamente la naturaleza multifacética de la salud vegetativa y las respuestas al estrés.\n",
        "\n",
        "### Investigación y Análisis Adicionales Necesarios:\n",
        "\n",
        "Es esencial realizar más investigaciones para comprender los impulsores detrás de los cambios observados:\n",
        "\n",
        "- Se necesita una validación de campo detallada para determinar las causas de la desvinculación de las tendencias de NDVI y EVI.\n",
        "- El monitoreo y análisis a largo plazo aclararía si estos cambios son parte de un ciclo natural, una respuesta a anomalías climáticas o el resultado de impactos antropogénicos.\n",
        "\n",
        "### Políticas y Permisos para la Cosecha de Madera:\n",
        "\n",
        "La relación matizada entre NDVI y EVI subraya la necesidad de marcos políticos dinámicos que puedan responder a señales ecológicas complejas:\n",
        "\n",
        "- Las políticas deben basarse en evidencia, aprovechando un amplio conjunto de indicadores de teledetección para informar niveles de cosecha sostenibles y estrategias de regeneración.\n",
        "- Los permisos deben incluir estipulaciones para el monitoreo continuo utilizando múltiples índices de vegetación para asegurar el cumplimiento de los criterios de sostenibilidad ambiental.\n",
        "\n",
        "### Conclusión:\n",
        "\n",
        "La relación entre los cambios en NDVI y EVI es indicativa de procesos ecológicos complejos que afectan la salud de la vegetación. La falta de una correlación fuerte en ciertas áreas sugiere impactos diferenciales en la cobertura y calidad de la vegetación, que pueden derivarse de una variedad de factores ambientales o antropogénicos. Por lo tanto, es crucial que las políticas de gestión de la cosecha de madera estén informadas por datos de teledetección comprensivos y multifacéticos. Esto garantizará que las prácticas de manejo sean robustas, sostenibles y sensibles a las sutilezas de la dinámica del ecosistema, apoyando tanto la viabilidad económica de la producción de madera como la integridad ecológica de los paisajes forestales.\n",
        "\n"
      ],
      "metadata": {
        "id": "AVTFB070IFdr"
      }
    },
    {
      "cell_type": "markdown",
      "source": [
        "##**Sugerencias para una mayor exploración y conocimientos prácticos:**\n",
        "\n",
        "### 1. Temperatura de la superficie terrestre\n",
        "### 2. Densidad del bosque\n",
        "### 3. Cambio de biomasa\n",
        "### 4. Degradación\n",
        "### 5. Cambio de carbono"
      ],
      "metadata": {
        "id": "XrqAsEGdjYkn"
      }
    }
  ]
}